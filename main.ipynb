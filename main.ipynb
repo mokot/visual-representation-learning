{
 "cells": [
  {
   "cell_type": "code",
   "execution_count": 14,
   "metadata": {},
   "outputs": [],
   "source": [
    "import torch\n",
    "import numpy as np\n",
    "import matplotlib.pyplot as plt\n",
    "\n",
    "from torchvision import datasets, transforms"
   ]
  },
  {
   "cell_type": "code",
   "execution_count": 15,
   "metadata": {},
   "outputs": [
    {
     "name": "stdout",
     "output_type": "stream",
     "text": [
      "Files already downloaded and verified\n"
     ]
    }
   ],
   "source": [
    "def load_cifar10(\n",
    "    batch_size: int = 64,\n",
    "    shuffle: bool = True,\n",
    "    train: bool = True,\n",
    "):\n",
    "    transform = transforms.Compose(\n",
    "        [\n",
    "            transforms.ToTensor(),\n",
    "            transforms.Normalize((0.5, 0.5, 0.5), (0.5, 0.5, 0.5)),\n",
    "        ]\n",
    "    )\n",
    "    dataset = datasets.CIFAR10(\n",
    "        root=f\"./data/{'train' if train else 'test'}\",\n",
    "        train=train,\n",
    "        download=True,\n",
    "        transform=transform,\n",
    "    )\n",
    "    dataloader = torch.utils.data.DataLoader(\n",
    "        dataset,\n",
    "        batch_size=batch_size,\n",
    "        shuffle=shuffle,\n",
    "    )\n",
    "    return dataloader\n",
    "\n",
    "\n",
    "# Load the CIFAR-10 dataset\n",
    "dataloader = load_cifar10(batch_size=10, shuffle=False, train=True)"
   ]
  },
  {
   "cell_type": "code",
   "execution_count": 16,
   "metadata": {},
   "outputs": [
    {
     "name": "stdout",
     "output_type": "stream",
     "text": [
      "Saved Gaussian splats for 100 images to ./temp/gaussian_splats.npy\n"
     ]
    }
   ],
   "source": [
    "def create_gaussian_splats(\n",
    "    image: torch.Tensor,\n",
    "    sigma: float = 1.0,\n",
    "):\n",
    "    C, H, W = image.shape\n",
    "    gaussians = []\n",
    "\n",
    "    for channel in range(C):\n",
    "        for i in range(H):\n",
    "            for j in range(W):\n",
    "                intensity = image[channel, i, j].item()\n",
    "                if intensity != 0:\n",
    "                    # Each pixel is represented as a Gaussian centered at its location with a given sigma.\n",
    "                    gaussians.append(\n",
    "                        {\"center\": (i, j), \"intensity\": intensity, \"sigma\": sigma}\n",
    "                    )\n",
    "    return gaussians\n",
    "\n",
    "\n",
    "def save_gaussian_splats(\n",
    "    dataloader: torch.utils.data.DataLoader,\n",
    "    num_images: int,\n",
    "    output_file: str,\n",
    "    sigma: float = 1.0,\n",
    "):\n",
    "    all_gaussians = []\n",
    "    count = 0\n",
    "\n",
    "    for images, _ in dataloader:\n",
    "        for image in images:\n",
    "            if count >= num_images:\n",
    "                break\n",
    "            gaussians = create_gaussian_splats(image, sigma=sigma)\n",
    "            all_gaussians.append(gaussians)\n",
    "            count += 1\n",
    "        if count >= num_images:\n",
    "            break\n",
    "\n",
    "    np.save(output_file, all_gaussians)\n",
    "    print(f\"Saved Gaussian splats for {num_images} images to {output_file}\")\n",
    "\n",
    "\n",
    "save_gaussian_splats(\n",
    "    dataloader, num_images=100, output_file=\"./temp/gaussian_splats.npy\", sigma=1.0\n",
    ")"
   ]
  },
  {
   "cell_type": "code",
   "execution_count": 18,
   "metadata": {},
   "outputs": [
    {
     "data": {
      "image/png": "[encoded data removed]",
      "text/plain": [
       "<Figure size 640x480 with 2 Axes>"
      ]
     },
     "metadata": {},
     "output_type": "display_data"
    }
   ],
   "source": [
    "def visualize_gaussian_splats(\n",
    "    gaussians: list,\n",
    "    image_size: tuple,\n",
    "):\n",
    "    H, W = image_size\n",
    "    visualization = np.zeros((H, W))\n",
    "\n",
    "    for gaussian in gaussians:\n",
    "        x, y = gaussian[\"center\"]\n",
    "        intensity = gaussian[\"intensity\"]\n",
    "        visualization[int(x), int(y)] += intensity\n",
    "\n",
    "    plt.imshow(visualization, cmap=\"hot\", interpolation=\"nearest\")\n",
    "    plt.colorbar()\n",
    "    plt.title(\"Gaussian Splat Visualization\")\n",
    "    plt.show()\n",
    "\n",
    "\n",
    "gaussian_data = np.load(\"./temp/gaussian_splats.npy\", allow_pickle=True)\n",
    "visualize_gaussian_splats(gaussian_data[0], image_size=(32, 32))"
   ]
  }
 ],
 "metadata": {
  "kernelspec": {
   "display_name": ".venv",
   "language": "python",
   "name": "python3"
  },
  "language_info": {
   "codemirror_mode": {
    "name": "ipython",
    "version": 3
   },
   "file_extension": ".py",
   "mimetype": "text/x-python",
   "name": "python",
   "nbconvert_exporter": "python",
   "pygments_lexer": "ipython3",
   "version": "3.11.10"
  }
 },
 "nbformat": 4,
 "nbformat_minor": 2
}
