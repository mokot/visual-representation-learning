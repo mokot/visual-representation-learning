{
 "cells": [
  {
   "cell_type": "code",
   "execution_count": 1,
   "metadata": {},
   "outputs": [],
   "source": [
    "# Note: This is a hack to allow importing from the parent directory\n",
    "import sys\n",
    "from pathlib import Path\n",
    "\n",
    "sys.path.append(str(Path().resolve().parent))"
   ]
  },
  {
   "cell_type": "code",
   "execution_count": 2,
   "metadata": {},
   "outputs": [
    {
     "data": {
      "text/plain": [
       "(<PIL.PngImagePlugin.PngImageFile image mode=RGB size=32x32>,\n",
       " 6,\n",
       " ParameterDict(\n",
       "     (Ks): Parameter containing: [torch.FloatTensor of size 3x3]\n",
       "     (means): Parameter containing: [torch.FloatTensor of size 1024x3]\n",
       "     (opacities): Parameter containing: [torch.FloatTensor of size 1024]\n",
       "     (quats): Parameter containing: [torch.FloatTensor of size 1024x4]\n",
       "     (scales): Parameter containing: [torch.FloatTensor of size 1024x3]\n",
       "     (viewmats): Parameter containing: [torch.FloatTensor of size 4x4]\n",
       "     (colors): Parameter containing: [torch.FloatTensor of size 1024x4x3]\n",
       " ))"
      ]
     },
     "execution_count": 2,
     "metadata": {},
     "output_type": "execute_result"
    }
   ],
   "source": [
    "from data import CIFAR10GaussianSplatsDataset\n",
    "\n",
    "dataset = CIFAR10GaussianSplatsDataset(\n",
    "    root=\"../data/CIFAR10GS\",\n",
    "    train=True,\n",
    "    init_type=\"grid\",\n",
    ")\n",
    "dataset[0]"
   ]
  },
  {
   "cell_type": "code",
   "execution_count": 3,
   "metadata": {},
   "outputs": [
    {
     "name": "stdout",
     "output_type": "stream",
     "text": [
      "tensor([-1., -1.,  0.,  ...,  0.,  0.,  0.], grad_fn=<CatBackward0>)\n",
      "ParameterDict(\n",
      "    (Ks): Parameter containing: [torch.FloatTensor of size 3x3]\n",
      "    (colors): Parameter containing: [torch.FloatTensor of size 1024x4x3]\n",
      "    (means): Parameter containing: [torch.FloatTensor of size 1024x3]\n",
      "    (opacities): Parameter containing: [torch.FloatTensor of size 1024]\n",
      "    (quats): Parameter containing: [torch.FloatTensor of size 1024x4]\n",
      "    (scales): Parameter containing: [torch.FloatTensor of size 1024x3]\n",
      "    (viewmats): Parameter containing: [torch.FloatTensor of size 4x4]\n",
      ")\n"
     ]
    }
   ],
   "source": [
    "from utils import transform_autoencoder_input, transform_autoencoder_output\n",
    "\n",
    "print(transform_autoencoder_input(dataset[0][-1]))\n",
    "print(transform_autoencoder_output(transform_autoencoder_input(dataset[0][-1])))"
   ]
  },
  {
   "cell_type": "code",
   "execution_count": 26,
   "metadata": {},
   "outputs": [],
   "source": [
    "import torch\n",
    "import torch.nn as nn\n",
    "import torch.optim as optim\n",
    "from models import AbstractAutoencoder\n",
    "\n",
    "\n",
    "class ShallowAutoencoder(AbstractAutoencoder):\n",
    "    def __init__(self, input_dim, latent_dim, use_bias=True):\n",
    "        super(ShallowAutoencoder, self).__init__()\n",
    "        self.type = \"ShallowAutoencoder\"\n",
    "        self.encoder = nn.Sequential(\n",
    "            nn.Linear(input_dim, latent_dim, bias=use_bias),\n",
    "            nn.ReLU(inplace=True),\n",
    "        )\n",
    "        self.decoder = nn.Sequential(\n",
    "            nn.Linear(latent_dim, input_dim, bias=use_bias),\n",
    "            nn.Sigmoid(),\n",
    "        )"
   ]
  }
 ],
 "metadata": {
  "kernelspec": {
   "display_name": ".venv",
   "language": "python",
   "name": "python3"
  },
  "language_info": {
   "codemirror_mode": {
    "name": "ipython",
    "version": 3
   },
   "file_extension": ".py",
   "mimetype": "text/x-python",
   "name": "python",
   "nbconvert_exporter": "python",
   "pygments_lexer": "ipython3",
   "version": "3.11.10"
  }
 },
 "nbformat": 4,
 "nbformat_minor": 2
}
