{
 "cells": [
  {
   "cell_type": "code",
   "execution_count": 1,
   "metadata": {},
   "outputs": [],
   "source": [
    "# Note: This is a hack to allow importing from the parent directory\n",
    "import sys\n",
    "from pathlib import Path\n",
    "\n",
    "sys.path.append(str(Path().resolve().parent))"
   ]
  },
  {
   "cell_type": "code",
   "execution_count": 2,
   "metadata": {},
   "outputs": [],
   "source": [
    "import torch\n",
    "import torch.nn as nn\n",
    "import torch.optim as optim\n",
    "from models import AbstractAutoencoder\n",
    "\n",
    "\n",
    "class ShallowAutoencoder(AbstractAutoencoder):\n",
    "    def __init__(self, input_dim, latent_dim, use_bias=True):\n",
    "        super(ShallowAutoencoder, self).__init__()\n",
    "        self.type = \"ShallowAutoencoder\"\n",
    "        self.encoder = nn.Sequential(\n",
    "            nn.Linear(input_dim, latent_dim, bias=use_bias),\n",
    "            nn.ReLU(inplace=True),\n",
    "        )\n",
    "        self.decoder = nn.Sequential(\n",
    "            nn.Linear(latent_dim, input_dim, bias=use_bias),\n",
    "            nn.Sigmoid(),\n",
    "        )"
   ]
  },
  {
   "cell_type": "code",
   "execution_count": 3,
   "metadata": {},
   "outputs": [],
   "source": [
    "from data import CIFAR10GaussianSplatsDataset\n",
    "from utils import train, test, transform, noop_collate, transform_and_collate\n",
    "\n",
    "dataset = CIFAR10GaussianSplatsDataset(\n",
    "    root=\"../data/CIFAR10GS\",\n",
    "    train=True,\n",
    "    init_type=\"grid\",\n",
    ")\n",
    "\n",
    "latent_dim = 128\n",
    "input_dim = 23552"
   ]
  },
  {
   "cell_type": "code",
   "execution_count": 4,
   "metadata": {},
   "outputs": [],
   "source": [
    "model = ShallowAutoencoder(input_dim=input_dim, latent_dim=latent_dim)\n",
    "train_loader = torch.utils.data.DataLoader(\n",
    "    dataset,\n",
    "    batch_size=32,\n",
    "    shuffle=True,\n",
    "    num_workers=4,\n",
    "    collate_fn=transform_and_collate,\n",
    ")\n",
    "val_loader = torch.utils.data.DataLoader(\n",
    "    dataset,\n",
    "    batch_size=32,\n",
    "    shuffle=False,\n",
    "    num_workers=4,\n",
    "    collate_fn=transform_and_collate,\n",
    ")\n",
    "test_loader = torch.utils.data.DataLoader(\n",
    "    dataset,\n",
    "    batch_size=32,\n",
    "    shuffle=False,\n",
    "    num_workers=4,\n",
    "    collate_fn=transform_and_collate,\n",
    ")\n",
    "optimizer = optim.Adam(model.parameters(), lr=1e-3)\n",
    "criterion = nn.MSELoss()\n",
    "epochs = 1\n",
    "device = torch.device(\"cuda\" if torch.cuda.is_available() else \"cpu\")"
   ]
  },
  {
   "cell_type": "code",
   "execution_count": 5,
   "metadata": {},
   "outputs": [
    {
     "name": "stderr",
     "output_type": "stream",
     "text": [
      "Epoch 1/1: 100%|██████████| 12/12 [00:00<00:00, 12.07batch/s]\n"
     ]
    },
    {
     "name": "stdout",
     "output_type": "stream",
     "text": [
      "Epoch 1/1 | Train Loss: 0.5303 | Val Loss: 0.5041\n"
     ]
    },
    {
     "data": {
      "text/plain": [
       "{'train_loss': [0.5303028970956802], 'val_loss': [0.5040653645992279]}"
      ]
     },
     "execution_count": 5,
     "metadata": {},
     "output_type": "execute_result"
    }
   ],
   "source": [
    "train(\n",
    "    model=model,\n",
    "    train_loader=train_loader,\n",
    "    val_loader=val_loader,\n",
    "    optimizer=optimizer,\n",
    "    criterion=criterion,\n",
    "    epochs=epochs,\n",
    "    device=device,\n",
    ")"
   ]
  },
  {
   "cell_type": "code",
   "execution_count": 6,
   "metadata": {},
   "outputs": [
    {
     "name": "stdout",
     "output_type": "stream",
     "text": [
      "Test Loss: 0.5041\n"
     ]
    },
    {
     "data": {
      "text/plain": [
       "0.5040653645992279"
      ]
     },
     "execution_count": 6,
     "metadata": {},
     "output_type": "execute_result"
    }
   ],
   "source": [
    "test(model=model, test_loader=test_loader, criterion=criterion, device=device)"
   ]
  },
  {
   "cell_type": "code",
   "execution_count": 7,
   "metadata": {},
   "outputs": [],
   "source": [
    "data_loader = torch.utils.data.DataLoader(\n",
    "    dataset,\n",
    "    batch_size=1,\n",
    "    shuffle=False,\n",
    "    num_workers=4,\n",
    "    collate_fn=noop_collate,\n",
    ")\n",
    "\n",
    "results = transform(model=model, data_loader=data_loader, device=device)"
   ]
  },
  {
   "cell_type": "code",
   "execution_count": 8,
   "metadata": {},
   "outputs": [
    {
     "data": {
      "text/plain": [
       "(Parameter containing:\n",
       " tensor([[-1.0000, -1.0000,  0.0000],\n",
       "         [-1.0000, -0.9355,  0.0000],\n",
       "         [-1.0000, -0.8710,  0.0000],\n",
       "         ...,\n",
       "         [ 1.0000,  0.8710,  0.0000],\n",
       "         [ 1.0000,  0.9355,  0.0000],\n",
       "         [ 1.0000,  1.0000,  0.0000]], requires_grad=True),\n",
       " Parameter containing:\n",
       " tensor([[0.6119, 0.6858, 0.2839],\n",
       "         [0.4844, 0.4107, 0.5451],\n",
       "         [0.6521, 0.2578, 0.1811],\n",
       "         ...,\n",
       "         [0.3059, 0.4258, 0.4643],\n",
       "         [0.3053, 0.6044, 0.4042],\n",
       "         [0.4018, 0.4646, 0.3707]], requires_grad=True))"
      ]
     },
     "execution_count": 8,
     "metadata": {},
     "output_type": "execute_result"
    }
   ],
   "source": [
    "source = results[0][-2]\n",
    "solution = results[0][-1]\n",
    "source[\"means\"], solution[\"means\"]"
   ]
  },
  {
   "cell_type": "code",
   "execution_count": 12,
   "metadata": {},
   "outputs": [
    {
     "data": {
      "text/plain": [
       "Parameter containing:\n",
       "tensor([[-1.0000, -1.0000,  0.0000],\n",
       "        [-1.0000, -0.9355,  0.0000],\n",
       "        [-1.0000, -0.8710,  0.0000],\n",
       "        ...,\n",
       "        [ 1.0000,  0.8710,  0.0000],\n",
       "        [ 1.0000,  0.9355,  0.0000],\n",
       "        [ 1.0000,  1.0000,  0.0000]], requires_grad=True)"
      ]
     },
     "execution_count": 12,
     "metadata": {},
     "output_type": "execute_result"
    }
   ],
   "source": [
    "from utils import transform_autoencoder_input, transform_autoencoder_output\n",
    "\n",
    "transform_autoencoder_output(transform_autoencoder_input(source))[\"means\"]"
   ]
  },
  {
   "cell_type": "code",
   "execution_count": 5,
   "metadata": {},
   "outputs": [
    {
     "ename": "NameError",
     "evalue": "name 'source' is not defined",
     "output_type": "error",
     "traceback": [
      "\u001b[0;31m---------------------------------------------------------------------------\u001b[0m",
      "\u001b[0;31mNameError\u001b[0m                                 Traceback (most recent call last)",
      "Cell \u001b[0;32mIn[5], line 7\u001b[0m\n\u001b[1;32m      2\u001b[0m \u001b[38;5;28;01mimport\u001b[39;00m \u001b[38;5;21;01mmatplotlib\u001b[39;00m\u001b[38;5;21;01m.\u001b[39;00m\u001b[38;5;21;01mpyplot\u001b[39;00m \u001b[38;5;28;01mas\u001b[39;00m \u001b[38;5;21;01mplt\u001b[39;00m\n\u001b[1;32m      4\u001b[0m plt\u001b[38;5;241m.\u001b[39mstyle\u001b[38;5;241m.\u001b[39muse(\u001b[38;5;124m\"\u001b[39m\u001b[38;5;124m../style/style.mpltstyle\u001b[39m\u001b[38;5;124m\"\u001b[39m)\n\u001b[1;32m      6\u001b[0m plt\u001b[38;5;241m.\u001b[39mplot(\n\u001b[0;32m----> 7\u001b[0m     np\u001b[38;5;241m.\u001b[39marange(\u001b[38;5;241m0\u001b[39m, \u001b[38;5;241m32\u001b[39m), \u001b[43msource\u001b[49m[\u001b[38;5;124m\"\u001b[39m\u001b[38;5;124mmeans\u001b[39m\u001b[38;5;124m\"\u001b[39m]\u001b[38;5;241m.\u001b[39mdetach()\u001b[38;5;241m.\u001b[39mcpu()\u001b[38;5;241m.\u001b[39mnumpy()\u001b[38;5;241m.\u001b[39mflatten(), label\u001b[38;5;241m=\u001b[39m\u001b[38;5;124m\"\u001b[39m\u001b[38;5;124mSource\u001b[39m\u001b[38;5;124m\"\u001b[39m\n\u001b[1;32m      8\u001b[0m )\n",
      "\u001b[0;31mNameError\u001b[0m: name 'source' is not defined"
     ]
    }
   ],
   "source": [
    "import numpy as np\n",
    "import matplotlib.pyplot as plt\n",
    "\n",
    "plt.style.use(\"../style/style.mpltstyle\")\n",
    "\n",
    "plt.plot(\n",
    "    np.arange(0, 32), source[\"means\"].detach().cpu().numpy().flatten(), label=\"Source\"\n",
    ")"
   ]
  }
 ],
 "metadata": {
  "kernelspec": {
   "display_name": ".venv",
   "language": "python",
   "name": "python3"
  },
  "language_info": {
   "codemirror_mode": {
    "name": "ipython",
    "version": 3
   },
   "file_extension": ".py",
   "mimetype": "text/x-python",
   "name": "python",
   "nbconvert_exporter": "python",
   "pygments_lexer": "ipython3",
   "version": "3.11.10"
  }
 },
 "nbformat": 4,
 "nbformat_minor": 2
}
