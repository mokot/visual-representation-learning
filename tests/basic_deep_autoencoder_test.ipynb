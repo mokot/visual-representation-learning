{
 "cells": [
  {
   "cell_type": "code",
   "execution_count": 1,
   "metadata": {},
   "outputs": [],
   "source": [
    "# Note: This is a hack to allow importing from the parent directory\n",
    "import sys\n",
    "from pathlib import Path\n",
    "\n",
    "sys.path.append(str(Path().resolve().parent))\n",
    "\n",
    "# Note: Ignore warnings, be brave (YoLo)\n",
    "import warnings\n",
    "\n",
    "warnings.filterwarnings(\"ignore\")"
   ]
  },
  {
   "cell_type": "code",
   "execution_count": 2,
   "metadata": {},
   "outputs": [],
   "source": [
    "import torch\n",
    "import optuna\n",
    "import torch.nn as nn\n",
    "import torch.optim as optim\n",
    "from models import DeepFlatAutoencoder\n",
    "from data import CIFAR10GaussianSplatsDataset\n",
    "from utils import train, transform_and_collate\n",
    "\n",
    "\n",
    "input_dim = 23552\n",
    "train_dataset = CIFAR10GaussianSplatsDataset(\n",
    "    root=\"../data/CIFAR10GS\",\n",
    "    train=True,\n",
    "    init_type=\"grid\",\n",
    ")\n",
    "val_dataset = CIFAR10GaussianSplatsDataset(\n",
    "    root=\"../data/CIFAR10GS\",\n",
    "    val=True,\n",
    "    init_type=\"grid\",\n",
    ")"
   ]
  },
  {
   "cell_type": "code",
   "execution_count": 3,
   "metadata": {},
   "outputs": [
    {
     "name": "stderr",
     "output_type": "stream",
     "text": [
      "[I 2025-01-16 22:35:07,875] A new study created in memory with name: no-name-cfdb33d6-3284-41fe-94b7-aed0aaf809d3\n",
      "Epoch 1/1: 100%|██████████| 9/9 [01:11<00:00,  7.98s/batch]\n"
     ]
    },
    {
     "name": "stdout",
     "output_type": "stream",
     "text": [
      "Epoch 1/1 | Train Loss: 1.0799 | Val Loss: 0.7746\n"
     ]
    },
    {
     "name": "stderr",
     "output_type": "stream",
     "text": [
      "[I 2025-01-16 22:36:33,213] Trial 0 finished with value: 0.774617592493693 and parameters: {'latent_dim': 1024, 'lr': 0.01, 'weight_decay': 0.001, 'loss_fn': <class 'torch.nn.modules.loss.MSELoss'>, 'epochs': 1, 'grad_clip': 0.0, 'weight_init': True}. Best is trial 0 with value: 0.774617592493693.\n"
     ]
    },
    {
     "name": "stdout",
     "output_type": "stream",
     "text": [
      "Best trial:FrozenTrial(number=0, state=1, values=[0.774617592493693], datetime_start=datetime.datetime(2025, 1, 16, 22, 35, 7, 876694), datetime_complete=datetime.datetime(2025, 1, 16, 22, 36, 33, 209816), params={'latent_dim': 1024, 'lr': 0.01, 'weight_decay': 0.001, 'loss_fn': <class 'torch.nn.modules.loss.MSELoss'>, 'epochs': 1, 'grad_clip': 0.0, 'weight_init': True}, user_attrs={}, system_attrs={}, intermediate_values={}, distributions={'latent_dim': CategoricalDistribution(choices=(1024,)), 'lr': FloatDistribution(high=0.01, log=True, low=0.01, step=None), 'weight_decay': FloatDistribution(high=0.001, log=True, low=0.001, step=None), 'loss_fn': CategoricalDistribution(choices=(<class 'torch.nn.modules.loss.MSELoss'>,)), 'epochs': IntDistribution(high=1, log=False, low=1, step=1), 'grad_clip': FloatDistribution(high=0.0, log=False, low=0.0, step=None), 'weight_init': CategoricalDistribution(choices=(True,))}, trial_id=0, value=None)\n"
     ]
    }
   ],
   "source": [
    "def objective(trial):\n",
    "    # Define hyperparameter search space\n",
    "    latent_dim = trial.suggest_categorical(\"latent_dim\", [256, 512, 1024])\n",
    "    lr = trial.suggest_loguniform(\"lr\", 1e-5, 1e-2)\n",
    "    weight_decay = trial.suggest_loguniform(\"weight_decay\", 1e-6, 1e-3)\n",
    "    loss_fn = trial.suggest_categorical(\"loss_fn\", [nn.L1Loss, nn.MSELoss])\n",
    "    epochs = trial.suggest_int(\"epochs\", 10, 100, 50)\n",
    "    grad_clip = trial.suggest_uniform(\"grad_clip\", 0.5, 2.0)\n",
    "    weight_init = trial.suggest_categorical(\"weight_init\", [True, False])\n",
    "\n",
    "    # Define train parameters\n",
    "    model = DeepFlatAutoencoder(\n",
    "        input_dim=input_dim, latent_dim=latent_dim, weight_init=weight_init\n",
    "    )\n",
    "    train_loader = torch.utils.data.DataLoader(\n",
    "        train_dataset,\n",
    "        batch_size=32,\n",
    "        shuffle=True,\n",
    "        num_workers=4,\n",
    "        collate_fn=transform_and_collate,\n",
    "    )\n",
    "    val_loader = torch.utils.data.DataLoader(\n",
    "        val_dataset,\n",
    "        batch_size=32,\n",
    "        shuffle=False,\n",
    "        num_workers=4,\n",
    "        collate_fn=transform_and_collate,\n",
    "    )\n",
    "    optimizer = optim.Adam(model.parameters(), lr=lr, weight_decay=weight_decay)\n",
    "    criterion = loss_fn()\n",
    "    epochs = epochs\n",
    "    device = torch.device(\"cuda\" if torch.cuda.is_available() else \"cpu\")\n",
    "    scheduler = optim.lr_scheduler.ReduceLROnPlateau(optimizer, \"min\", patience=5)\n",
    "    grad_clip = grad_clip\n",
    "    compile_model = True\n",
    "\n",
    "    results = train(\n",
    "        model=model,\n",
    "        train_loader=train_loader,\n",
    "        val_loader=val_loader,\n",
    "        optimizer=optimizer,\n",
    "        criterion=criterion,\n",
    "        epochs=epochs,\n",
    "        device=device,\n",
    "        scheduler=scheduler,\n",
    "        grad_clip=grad_clip,\n",
    "        logger=print,\n",
    "        compile_model=compile_model,\n",
    "    )\n",
    "    return results[\"val_loss\"][-1]\n",
    "\n",
    "\n",
    "# Run hyperparameter search\n",
    "study = optuna.create_study(direction=\"minimize\")\n",
    "study.optimize(objective, n_trials=100)\n",
    "print(f\"Best trial:{study.best_trial}\")"
   ]
  }
 ],
 "metadata": {
  "kernelspec": {
   "display_name": ".venv",
   "language": "python",
   "name": "python3"
  },
  "language_info": {
   "codemirror_mode": {
    "name": "ipython",
    "version": 3
   },
   "file_extension": ".py",
   "mimetype": "text/x-python",
   "name": "python",
   "nbconvert_exporter": "python",
   "pygments_lexer": "ipython3",
   "version": "3.11.10"
  }
 },
 "nbformat": 4,
 "nbformat_minor": 2
}
