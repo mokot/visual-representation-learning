{
 "cells": [
  {
   "cell_type": "code",
   "execution_count": 1,
   "metadata": {},
   "outputs": [],
   "source": [
    "# Note: This is a hack to allow importing from the parent directory\n",
    "import sys\n",
    "from pathlib import Path\n",
    "\n",
    "sys.path.append(str(Path().resolve().parent))"
   ]
  },
  {
   "cell_type": "code",
   "execution_count": 2,
   "metadata": {},
   "outputs": [],
   "source": [
    "import torch\n",
    "from configs import Config\n",
    "from torchvision import datasets\n",
    "from models import GaussianImageTrainer\n",
    "from constants import CIFAR10_TRANSFORM\n",
    "from data import CIFAR10GaussianSplatsDataset\n",
    "from utils import (\n",
    "    generate_random_splat,\n",
    "    merge_spherical_harmonics,\n",
    "    save_gs_data,\n",
    "    load_gs_data,\n",
    "    tensor_to_image,\n",
    ")"
   ]
  },
  {
   "cell_type": "code",
   "execution_count": 3,
   "metadata": {},
   "outputs": [
    {
     "name": "stdout",
     "output_type": "stream",
     "text": [
      "Files already downloaded and verified\n",
      "tensor([[[0.2314, 0.2431, 0.2471],\n",
      "         [0.1686, 0.1804, 0.1765],\n",
      "         [0.1961, 0.1882, 0.1686],\n",
      "         ...,\n",
      "         [0.6196, 0.5176, 0.4235],\n",
      "         [0.5961, 0.4902, 0.4000],\n",
      "         [0.5804, 0.4863, 0.4039]],\n",
      "\n",
      "        [[0.0627, 0.0784, 0.0784],\n",
      "         [0.0000, 0.0000, 0.0000],\n",
      "         [0.0706, 0.0314, 0.0000],\n",
      "         ...,\n",
      "         [0.4824, 0.3451, 0.2157],\n",
      "         [0.4667, 0.3255, 0.1961],\n",
      "         [0.4784, 0.3412, 0.2235]],\n",
      "\n",
      "        [[0.0980, 0.0941, 0.0824],\n",
      "         [0.0627, 0.0275, 0.0000],\n",
      "         [0.1922, 0.1059, 0.0314],\n",
      "         ...,\n",
      "         [0.4627, 0.3294, 0.1961],\n",
      "         [0.4706, 0.3294, 0.1961],\n",
      "         [0.4275, 0.2863, 0.1647]],\n",
      "\n",
      "        ...,\n",
      "\n",
      "        [[0.8157, 0.6667, 0.3765],\n",
      "         [0.7882, 0.6000, 0.1333],\n",
      "         [0.7765, 0.6314, 0.1020],\n",
      "         ...,\n",
      "         [0.6275, 0.5216, 0.2745],\n",
      "         [0.2196, 0.1216, 0.0275],\n",
      "         [0.2078, 0.1333, 0.0784]],\n",
      "\n",
      "        [[0.7059, 0.5451, 0.3765],\n",
      "         [0.6784, 0.4824, 0.1647],\n",
      "         [0.7294, 0.5647, 0.1176],\n",
      "         ...,\n",
      "         [0.7216, 0.5804, 0.3686],\n",
      "         [0.3804, 0.2431, 0.1333],\n",
      "         [0.3255, 0.2078, 0.1333]],\n",
      "\n",
      "        [[0.6941, 0.5647, 0.4549],\n",
      "         [0.6588, 0.5059, 0.3686],\n",
      "         [0.7020, 0.5569, 0.3412],\n",
      "         ...,\n",
      "         [0.8471, 0.7216, 0.5490],\n",
      "         [0.5922, 0.4627, 0.3294],\n",
      "         [0.4824, 0.3608, 0.2824]]]) 6 ParameterDict(\n",
      "    (Ks): Parameter containing: [torch.FloatTensor of size 3x3]\n",
      "    (color): Parameter containing: [torch.FloatTensor of size 1024x3]\n",
      "    (mean): Parameter containing: [torch.FloatTensor of size 1024x3]\n",
      "    (opacity): Parameter containing: [torch.FloatTensor of size 1024x1]\n",
      "    (quat): Parameter containing: [torch.FloatTensor of size 1024x4]\n",
      "    (scale): Parameter containing: [torch.FloatTensor of size 1024x3]\n",
      "    (sh0): Parameter containing: [torch.FloatTensor of size 1024x1]\n",
      "    (shN): Parameter containing: [torch.FloatTensor of size 1024x2]\n",
      "    (viewmat): Parameter containing: [torch.FloatTensor of size 4x4]\n",
      ")\n",
      "<PIL.PngImagePlugin.PngImageFile image mode=RGB size=32x32 at 0x7F0D09613610> 6 ParameterDict(\n",
      "    (Ks): Parameter containing: [torch.FloatTensor of size 3x3]\n",
      "    (color): Parameter containing: [torch.FloatTensor of size 1024x3]\n",
      "    (mean): Parameter containing: [torch.FloatTensor of size 1024x3]\n",
      "    (opacity): Parameter containing: [torch.FloatTensor of size 1024x1]\n",
      "    (quat): Parameter containing: [torch.FloatTensor of size 1024x4]\n",
      "    (scale): Parameter containing: [torch.FloatTensor of size 1024x3]\n",
      "    (viewmat): Parameter containing: [torch.FloatTensor of size 4x4]\n",
      ")\n"
     ]
    }
   ],
   "source": [
    "NUM_POINTS = 1024  # 32x32\n",
    "CIFAR10 = datasets.CIFAR10(\n",
    "    root=\"../data/CIFAR10/train\",\n",
    "    train=True,\n",
    "    download=True,\n",
    "    transform=CIFAR10_TRANSFORM,\n",
    ")\n",
    "means, quats, scales, opacities, colors, viewmats, Ks, sh0, shN = generate_random_splat(\n",
    "    NUM_POINTS\n",
    ")\n",
    "# image = tensor_to_image(CIFAR10[0][0])\n",
    "image = CIFAR10[0][0]\n",
    "label = CIFAR10[0][1]\n",
    "splat = torch.nn.ParameterDict(\n",
    "    {\n",
    "        \"mean\": torch.nn.Parameter(means),\n",
    "        \"quat\": torch.nn.Parameter(quats),\n",
    "        \"scale\": torch.nn.Parameter(scales),\n",
    "        \"opacity\": torch.nn.Parameter(opacities),\n",
    "        \"color\": torch.nn.Parameter(colors),\n",
    "        \"viewmat\": torch.nn.Parameter(viewmats),\n",
    "        \"Ks\": torch.nn.Parameter(Ks),\n",
    "        \"sh0\": torch.nn.Parameter(sh0),\n",
    "        \"shN\": torch.nn.Parameter(shN),\n",
    "    }\n",
    ")\n",
    "print(image, label, splat)\n",
    "\n",
    "splat = merge_spherical_harmonics(splat)\n",
    "save_gs_data(image, label, splat, Path(\"../data/CIFAR10GS/knn/train/test.pt\"))\n",
    "image, label, splat = load_gs_data(Path(\"../data/CIFAR10GS/knn/train/test.pt\"))\n",
    "print(image, label, splat)"
   ]
  },
  {
   "cell_type": "code",
   "execution_count": 4,
   "metadata": {},
   "outputs": [
    {
     "data": {
      "text/plain": [
       "(<PIL.PngImagePlugin.PngImageFile image mode=RGB size=32x32>,\n",
       " 6,\n",
       " ParameterDict(\n",
       "     (Ks): Parameter containing: [torch.FloatTensor of size 3x3]\n",
       "     (color): Parameter containing: [torch.FloatTensor of size 1024x3]\n",
       "     (mean): Parameter containing: [torch.FloatTensor of size 1024x3]\n",
       "     (opacity): Parameter containing: [torch.FloatTensor of size 1024x1]\n",
       "     (quat): Parameter containing: [torch.FloatTensor of size 1024x4]\n",
       "     (scale): Parameter containing: [torch.FloatTensor of size 1024x3]\n",
       "     (viewmat): Parameter containing: [torch.FloatTensor of size 4x4]\n",
       " ))"
      ]
     },
     "execution_count": 4,
     "metadata": {},
     "output_type": "execute_result"
    }
   ],
   "source": [
    "# Example of how to use the CIFAR10GaussianSplatsDataset\n",
    "dataset = CIFAR10GaussianSplatsDataset(\n",
    "    root=\"../data/CIFAR10GS\",\n",
    "    train=True,\n",
    "    init_type=\"knn\",\n",
    ")\n",
    "dataset[0]"
   ]
  },
  {
   "cell_type": "code",
   "execution_count": 5,
   "metadata": {},
   "outputs": [
    {
     "name": "stdout",
     "output_type": "stream",
     "text": [
      "Model initialized. Number of Gaussians: 1024\n"
     ]
    },
    {
     "name": "stderr",
     "output_type": "stream",
     "text": [
      "/home/h/harjesruiloba/miniforge3/envs/nerfstudio/lib/python3.8/site-packages/torchmetrics/utilities/prints.py:62: FutureWarning: Importing `StructuralSimilarityIndexMeasure` from `torchmetrics` was deprecated and will be removed in 2.0. Import `StructuralSimilarityIndexMeasure` from `torchmetrics.image` instead.\n",
      "  _future_warning(\n",
      "/home/h/harjesruiloba/miniforge3/envs/nerfstudio/lib/python3.8/site-packages/torchmetrics/utilities/prints.py:62: FutureWarning: Importing `PeakSignalNoiseRatio` from `torchmetrics` was deprecated and will be removed in 2.0. Import `PeakSignalNoiseRatio` from `torchmetrics.image` instead.\n",
      "  _future_warning(\n"
     ]
    }
   ],
   "source": [
    "# Example on how the CIFAR10GS dataset should be created\n",
    "trainer = GaussianImageTrainer(Config())"
   ]
  },
  {
   "cell_type": "code",
   "execution_count": 6,
   "metadata": {},
   "outputs": [],
   "source": [
    "start_idx = 622  # Final trained image\n",
    "end_idx = 5000 # Train only the first 5000 images"
   ]
  },
  {
   "cell_type": "code",
   "execution_count": 9,
   "metadata": {},
   "outputs": [
    {
     "name": "stdout",
     "output_type": "stream",
     "text": [
      "Model initialized. Number of Gaussians: 1024\n"
     ]
    },
    {
     "name": "stderr",
     "output_type": "stream",
     "text": [
      "/home/h/harjesruiloba/miniforge3/envs/nerfstudio/lib/python3.8/site-packages/torchmetrics/utilities/prints.py:62: FutureWarning: Importing `StructuralSimilarityIndexMeasure` from `torchmetrics` was deprecated and will be removed in 2.0. Import `StructuralSimilarityIndexMeasure` from `torchmetrics.image` instead.\n",
      "  _future_warning(\n",
      "/home/h/harjesruiloba/miniforge3/envs/nerfstudio/lib/python3.8/site-packages/torchmetrics/utilities/prints.py:62: FutureWarning: Importing `PeakSignalNoiseRatio` from `torchmetrics` was deprecated and will be removed in 2.0. Import `PeakSignalNoiseRatio` from `torchmetrics.image` instead.\n",
      "  _future_warning(\n"
     ]
    },
    {
     "name": "stderr",
     "output_type": "stream",
     "text": [
      "Loss: 0.189 (L1: 0.013, L2: 0.000, SSIM: 0.090): 100%|\u001b[36m████████\u001b[0m| 1000/1000 [00:12<00:00, 80.55step/s]\u001b[0m\n"
     ]
    },
    {
     "name": "stdout",
     "output_type": "stream",
     "text": [
      "Final loss: 0.18924503028392792\n",
      "Total Time: Rasterization: 2.845s, Backward: 5.240s\n",
      "Model initialized. Number of Gaussians: 1024\n"
     ]
    },
    {
     "name": "stderr",
     "output_type": "stream",
     "text": [
      "Loss: 0.203 (L1: 0.035, L2: 0.004, SSIM: 0.109): 100%|\u001b[36m████████\u001b[0m| 1000/1000 [00:12<00:00, 83.03step/s]\u001b[0m\n"
     ]
    },
    {
     "name": "stdout",
     "output_type": "stream",
     "text": [
      "Final loss: 0.202432781457901\n",
      "Total Time: Rasterization: 2.774s, Backward: 5.105s\n",
      "Model initialized. Number of Gaussians: 1024\n"
     ]
    },
    {
     "name": "stderr",
     "output_type": "stream",
     "text": [
      "Loss: 0.219 (L1: 0.030, L2: 0.003, SSIM: 0.138): 100%|\u001b[36m████████\u001b[0m| 1000/1000 [00:12<00:00, 80.76step/s]\u001b[0m\n"
     ]
    },
    {
     "name": "stdout",
     "output_type": "stream",
     "text": [
      "Final loss: 0.22027841210365295\n",
      "Total Time: Rasterization: 2.830s, Backward: 5.252s\n",
      "Model initialized. Number of Gaussians: 1024\n"
     ]
    },
    {
     "name": "stderr",
     "output_type": "stream",
     "text": [
      "Loss: 0.208 (L1: 0.028, L2: 0.002, SSIM: 0.118): 100%|\u001b[36m████████\u001b[0m| 1000/1000 [00:11<00:00, 87.17step/s]\u001b[0m\n"
     ]
    },
    {
     "name": "stdout",
     "output_type": "stream",
     "text": [
      "Final loss: 0.20665626227855682\n",
      "Total Time: Rasterization: 2.665s, Backward: 4.835s\n",
      "Model initialized. Number of Gaussians: 1024\n"
     ]
    },
    {
     "name": "stderr",
     "output_type": "stream",
     "text": [
      "Loss: 0.202 (L1: 0.015, L2: 0.000, SSIM: 0.107): 100%|\u001b[36m████████\u001b[0m| 1000/1000 [00:11<00:00, 83.46step/s]\u001b[0m\n"
     ]
    },
    {
     "name": "stdout",
     "output_type": "stream",
     "text": [
      "Final loss: 0.20162558555603027\n",
      "Total Time: Rasterization: 2.760s, Backward: 5.050s\n",
      "Model initialized. Number of Gaussians: 1024\n"
     ]
    },
    {
     "name": "stderr",
     "output_type": "stream",
     "text": [
      "Loss: 0.197 (L1: 0.047, L2: 0.005, SSIM: 0.115): 100%|\u001b[36m████████\u001b[0m| 1000/1000 [00:12<00:00, 82.06step/s]\u001b[0m\n"
     ]
    },
    {
     "name": "stdout",
     "output_type": "stream",
     "text": [
      "Final loss: 0.1967015266418457\n",
      "Total Time: Rasterization: 2.808s, Backward: 5.128s\n",
      "Model initialized. Number of Gaussians: 1024\n"
     ]
    },
    {
     "name": "stderr",
     "output_type": "stream",
     "text": [
      "Loss: 0.179 (L1: 0.019, L2: 0.001, SSIM: 0.067): 100%|\u001b[36m████████\u001b[0m| 1000/1000 [00:12<00:00, 82.93step/s]\u001b[0m\n"
     ]
    },
    {
     "name": "stdout",
     "output_type": "stream",
     "text": [
      "Final loss: 0.1781083643436432\n",
      "Total Time: Rasterization: 2.771s, Backward: 5.084s\n",
      "Model initialized. Number of Gaussians: 1024\n"
     ]
    },
    {
     "name": "stderr",
     "output_type": "stream",
     "text": [
      "Loss: 0.174 (L1: 0.028, L2: 0.002, SSIM: 0.081): 100%|\u001b[36m████████\u001b[0m| 1000/1000 [00:11<00:00, 83.38step/s]\u001b[0m\n"
     ]
    },
    {
     "name": "stdout",
     "output_type": "stream",
     "text": [
      "Final loss: 0.173612579703331\n",
      "Total Time: Rasterization: 2.767s, Backward: 5.067s\n",
      "Model initialized. Number of Gaussians: 1024\n"
     ]
    },
    {
     "name": "stderr",
     "output_type": "stream",
     "text": [
      "Loss: 0.134 (L1: 0.022, L2: 0.001, SSIM: 0.064): 100%|\u001b[36m████████\u001b[0m| 1000/1000 [00:12<00:00, 82.76step/s]\u001b[0m\n"
     ]
    },
    {
     "name": "stdout",
     "output_type": "stream",
     "text": [
      "Final loss: 0.13386070728302002\n",
      "Total Time: Rasterization: 2.799s, Backward: 5.078s\n",
      "Model initialized. Number of Gaussians: 1024\n"
     ]
    },
    {
     "name": "stderr",
     "output_type": "stream",
     "text": [
      "Loss: 0.171 (L1: 0.027, L2: 0.002, SSIM: 0.086): 100%|\u001b[36m████████\u001b[0m| 1000/1000 [00:10<00:00, 96.71step/s]\u001b[0m\n"
     ]
    },
    {
     "name": "stdout",
     "output_type": "stream",
     "text": [
      "Final loss: 0.16986891627311707\n",
      "Total Time: Rasterization: 2.364s, Backward: 4.373s\n",
      "Model initialized. Number of Gaussians: 1024\n"
     ]
    },
    {
     "name": "stderr",
     "output_type": "stream",
     "text": [
      "Loss: 0.226 (L1: 0.031, L2: 0.002, SSIM: 0.116): 100%|\u001b[36m████████\u001b[0m| 1000/1000 [00:11<00:00, 85.47step/s]\u001b[0m\n"
     ]
    },
    {
     "name": "stdout",
     "output_type": "stream",
     "text": [
      "Final loss: 0.22635090351104736\n",
      "Total Time: Rasterization: 2.721s, Backward: 4.929s\n",
      "Model initialized. Number of Gaussians: 1024\n"
     ]
    },
    {
     "name": "stderr",
     "output_type": "stream",
     "text": [
      "Loss: 0.119 (L1: 0.011, L2: 0.000, SSIM: 0.047): 100%|\u001b[36m████████\u001b[0m| 1000/1000 [00:12<00:00, 83.00step/s]\u001b[0m\n"
     ]
    },
    {
     "name": "stdout",
     "output_type": "stream",
     "text": [
      "Final loss: 0.11912029981613159\n",
      "Total Time: Rasterization: 2.765s, Backward: 5.112s\n",
      "Model initialized. Number of Gaussians: 1024\n"
     ]
    },
    {
     "name": "stderr",
     "output_type": "stream",
     "text": [
      "Loss: 0.174 (L1: 0.033, L2: 0.003, SSIM: 0.084): 100%|\u001b[36m████████\u001b[0m| 1000/1000 [00:12<00:00, 81.21step/s]\u001b[0m\n"
     ]
    },
    {
     "name": "stdout",
     "output_type": "stream",
     "text": [
      "Final loss: 0.17388363182544708\n",
      "Total Time: Rasterization: 2.833s, Backward: 5.201s\n",
      "Model initialized. Number of Gaussians: 1024\n"
     ]
    },
    {
     "name": "stderr",
     "output_type": "stream",
     "text": [
      "Loss: 0.163 (L1: 0.024, L2: 0.001, SSIM: 0.096): 100%|\u001b[36m████████\u001b[0m| 1000/1000 [00:12<00:00, 82.75step/s]\u001b[0m\n"
     ]
    },
    {
     "name": "stdout",
     "output_type": "stream",
     "text": [
      "Final loss: 0.16370922327041626\n",
      "Total Time: Rasterization: 2.783s, Backward: 5.114s\n",
      "Model initialized. Number of Gaussians: 1024\n"
     ]
    },
    {
     "name": "stderr",
     "output_type": "stream",
     "text": [
      "Loss: 0.188 (L1: 0.033, L2: 0.003, SSIM: 0.078): 100%|\u001b[36m████████\u001b[0m| 1000/1000 [00:12<00:00, 81.32step/s]\u001b[0m\n"
     ]
    },
    {
     "name": "stdout",
     "output_type": "stream",
     "text": [
      "Final loss: 0.1867758184671402\n",
      "Total Time: Rasterization: 2.850s, Backward: 5.191s\n",
      "Model initialized. Number of Gaussians: 1024\n"
     ]
    },
    {
     "name": "stderr",
     "output_type": "stream",
     "text": [
      "Loss: 0.196 (L1: 0.037, L2: 0.004, SSIM: 0.110): 100%|\u001b[36m████████\u001b[0m| 1000/1000 [00:12<00:00, 81.89step/s]\u001b[0m\n"
     ]
    },
    {
     "name": "stdout",
     "output_type": "stream",
     "text": [
      "Final loss: 0.19717545807361603\n",
      "Total Time: Rasterization: 2.809s, Backward: 5.154s\n",
      "Model initialized. Number of Gaussians: 1024\n"
     ]
    },
    {
     "name": "stderr",
     "output_type": "stream",
     "text": [
      "Loss: 0.164 (L1: 0.023, L2: 0.001, SSIM: 0.087): 100%|\u001b[36m████████\u001b[0m| 1000/1000 [00:12<00:00, 82.93step/s]\u001b[0m\n"
     ]
    },
    {
     "name": "stdout",
     "output_type": "stream",
     "text": [
      "Final loss: 0.16325075924396515\n",
      "Total Time: Rasterization: 2.804s, Backward: 5.081s\n",
      "Model initialized. Number of Gaussians: 1024\n"
     ]
    },
    {
     "name": "stderr",
     "output_type": "stream",
     "text": [
      "Loss: 0.166 (L1: 0.025, L2: 0.002, SSIM: 0.074): 100%|\u001b[36m████████\u001b[0m| 1000/1000 [00:12<00:00, 82.27step/s]\u001b[0m\n"
     ]
    },
    {
     "name": "stdout",
     "output_type": "stream",
     "text": [
      "Final loss: 0.1654953956604004\n",
      "Total Time: Rasterization: 2.806s, Backward: 5.127s\n",
      "Model initialized. Number of Gaussians: 1024\n"
     ]
    },
    {
     "name": "stderr",
     "output_type": "stream",
     "text": [
      "Loss: 0.225 (L1: 0.036, L2: 0.003, SSIM: 0.162): 100%|\u001b[36m████████\u001b[0m| 1000/1000 [00:12<00:00, 81.08step/s]\u001b[0m\n"
     ]
    },
    {
     "name": "stdout",
     "output_type": "stream",
     "text": [
      "Final loss: 0.22206245362758636\n",
      "Total Time: Rasterization: 2.859s, Backward: 5.228s\n",
      "Model initialized. Number of Gaussians: 1024\n"
     ]
    },
    {
     "name": "stderr",
     "output_type": "stream",
     "text": [
      "Loss: 0.222 (L1: 0.031, L2: 0.002, SSIM: 0.136): 100%|\u001b[36m████████\u001b[0m| 1000/1000 [00:12<00:00, 82.36step/s]\u001b[0m\n"
     ]
    },
    {
     "name": "stdout",
     "output_type": "stream",
     "text": [
      "Final loss: 0.2222180962562561\n",
      "Total Time: Rasterization: 2.821s, Backward: 5.116s\n",
      "Model initialized. Number of Gaussians: 1024\n"
     ]
    },
    {
     "name": "stderr",
     "output_type": "stream",
     "text": [
      "Loss: 0.268 (L1: 0.046, L2: 0.005, SSIM: 0.198): 100%|\u001b[36m████████\u001b[0m| 1000/1000 [00:11<00:00, 83.35step/s]\u001b[0m\n"
     ]
    },
    {
     "name": "stdout",
     "output_type": "stream",
     "text": [
      "Final loss: 0.26835131645202637\n",
      "Total Time: Rasterization: 2.776s, Backward: 5.094s\n",
      "Model initialized. Number of Gaussians: 1024\n"
     ]
    },
    {
     "name": "stderr",
     "output_type": "stream",
     "text": [
      "Loss: 0.188 (L1: 0.035, L2: 0.003, SSIM: 0.095): 100%|\u001b[36m████████\u001b[0m| 1000/1000 [00:11<00:00, 83.89step/s]\u001b[0m\n"
     ]
    },
    {
     "name": "stdout",
     "output_type": "stream",
     "text": [
      "Final loss: 0.18686164915561676\n",
      "Total Time: Rasterization: 2.764s, Backward: 5.054s\n",
      "Model initialized. Number of Gaussians: 1024\n"
     ]
    },
    {
     "name": "stderr",
     "output_type": "stream",
     "text": [
      "Loss: 0.181 (L1: 0.030, L2: 0.003, SSIM: 0.086): 100%|\u001b[36m████████\u001b[0m| 1000/1000 [00:12<00:00, 81.83step/s]\u001b[0m\n"
     ]
    },
    {
     "name": "stdout",
     "output_type": "stream",
     "text": [
      "Final loss: 0.1803802251815796\n",
      "Total Time: Rasterization: 2.827s, Backward: 5.194s\n",
      "Model initialized. Number of Gaussians: 1024\n"
     ]
    },
    {
     "name": "stderr",
     "output_type": "stream",
     "text": [
      "Loss: 0.201 (L1: 0.026, L2: 0.001, SSIM: 0.113): 100%|\u001b[36m████████\u001b[0m| 1000/1000 [00:12<00:00, 82.69step/s]\u001b[0m\n"
     ]
    },
    {
     "name": "stdout",
     "output_type": "stream",
     "text": [
      "Final loss: 0.20112326741218567\n",
      "Total Time: Rasterization: 2.804s, Backward: 5.105s\n",
      "Model initialized. Number of Gaussians: 1024\n"
     ]
    },
    {
     "name": "stderr",
     "output_type": "stream",
     "text": [
      "Loss: 0.210 (L1: 0.031, L2: 0.003, SSIM: 0.122): 100%|\u001b[36m████████\u001b[0m| 1000/1000 [00:12<00:00, 82.18step/s]\u001b[0m\n"
     ]
    },
    {
     "name": "stdout",
     "output_type": "stream",
     "text": [
      "Final loss: 0.2096019983291626\n",
      "Total Time: Rasterization: 2.812s, Backward: 5.148s\n",
      "Model initialized. Number of Gaussians: 1024\n"
     ]
    },
    {
     "name": "stderr",
     "output_type": "stream",
     "text": [
      "Loss: 0.186 (L1: 0.023, L2: 0.001, SSIM: 0.091): 100%|\u001b[36m████████\u001b[0m| 1000/1000 [00:11<00:00, 84.14step/s]\u001b[0m\n"
     ]
    },
    {
     "name": "stdout",
     "output_type": "stream",
     "text": [
      "Final loss: 0.18553638458251953\n",
      "Total Time: Rasterization: 2.758s, Backward: 5.043s\n",
      "Model initialized. Number of Gaussians: 1024\n"
     ]
    },
    {
     "name": "stderr",
     "output_type": "stream",
     "text": [
      "Loss: 0.247 (L1: 0.058, L2: 0.008, SSIM: 0.178): 100%|\u001b[36m████████\u001b[0m| 1000/1000 [00:12<00:00, 81.62step/s]\u001b[0m\n"
     ]
    },
    {
     "name": "stdout",
     "output_type": "stream",
     "text": [
      "Final loss: 0.24697420001029968\n",
      "Total Time: Rasterization: 2.831s, Backward: 5.204s\n",
      "Model initialized. Number of Gaussians: 1024\n"
     ]
    },
    {
     "name": "stderr",
     "output_type": "stream",
     "text": [
      "Loss: 0.236 (L1: 0.042, L2: 0.004, SSIM: 0.185): 100%|\u001b[36m████████\u001b[0m| 1000/1000 [00:12<00:00, 80.75step/s]\u001b[0m\n"
     ]
    },
    {
     "name": "stdout",
     "output_type": "stream",
     "text": [
      "Final loss: 0.23515309393405914\n",
      "Total Time: Rasterization: 2.869s, Backward: 5.266s\n",
      "Model initialized. Number of Gaussians: 1024\n"
     ]
    },
    {
     "name": "stderr",
     "output_type": "stream",
     "text": [
      "Loss: 0.146 (L1: 0.011, L2: 0.000, SSIM: 0.018): 100%|\u001b[36m████████\u001b[0m| 1000/1000 [00:12<00:00, 81.83step/s]\u001b[0m\n"
     ]
    },
    {
     "name": "stdout",
     "output_type": "stream",
     "text": [
      "Final loss: 0.14536933600902557\n",
      "Total Time: Rasterization: 2.830s, Backward: 5.165s\n",
      "Model initialized. Number of Gaussians: 1024\n"
     ]
    },
    {
     "name": "stderr",
     "output_type": "stream",
     "text": [
      "Loss: 0.262 (L1: 0.041, L2: 0.003, SSIM: 0.173): 100%|\u001b[36m████████\u001b[0m| 1000/1000 [00:12<00:00, 80.82step/s]\u001b[0m\n"
     ]
    },
    {
     "name": "stdout",
     "output_type": "stream",
     "text": [
      "Final loss: 0.2624235153198242\n",
      "Total Time: Rasterization: 2.850s, Backward: 5.241s\n",
      "Model initialized. Number of Gaussians: 1024\n"
     ]
    },
    {
     "name": "stderr",
     "output_type": "stream",
     "text": [
      "Loss: 0.165 (L1: 0.029, L2: 0.002, SSIM: 0.093): 100%|\u001b[36m████████\u001b[0m| 1000/1000 [00:11<00:00, 83.67step/s]\u001b[0m\n"
     ]
    },
    {
     "name": "stdout",
     "output_type": "stream",
     "text": [
      "Final loss: 0.16444435715675354\n",
      "Total Time: Rasterization: 2.790s, Backward: 5.057s\n",
      "Model initialized. Number of Gaussians: 1024\n"
     ]
    },
    {
     "name": "stderr",
     "output_type": "stream",
     "text": [
      "Loss: 0.222 (L1: 0.058, L2: 0.013, SSIM: 0.144): 100%|\u001b[36m████████\u001b[0m| 1000/1000 [00:12<00:00, 81.13step/s]\u001b[0m\n"
     ]
    },
    {
     "name": "stdout",
     "output_type": "stream",
     "text": [
      "Final loss: 0.22092711925506592\n",
      "Total Time: Rasterization: 2.848s, Backward: 5.238s\n",
      "Model initialized. Number of Gaussians: 1024\n"
     ]
    },
    {
     "name": "stderr",
     "output_type": "stream",
     "text": [
      "Loss: 0.188 (L1: 0.027, L2: 0.002, SSIM: 0.099): 100%|\u001b[36m████████\u001b[0m| 1000/1000 [00:12<00:00, 81.68step/s]\u001b[0m\n"
     ]
    },
    {
     "name": "stdout",
     "output_type": "stream",
     "text": [
      "Final loss: 0.1883954107761383\n",
      "Total Time: Rasterization: 2.830s, Backward: 5.160s\n",
      "Model initialized. Number of Gaussians: 1024\n"
     ]
    },
    {
     "name": "stderr",
     "output_type": "stream",
     "text": [
      "Loss: 0.181 (L1: 0.031, L2: 0.003, SSIM: 0.070): 100%|\u001b[36m████████\u001b[0m| 1000/1000 [00:12<00:00, 80.06step/s]\u001b[0m\n"
     ]
    },
    {
     "name": "stdout",
     "output_type": "stream",
     "text": [
      "Final loss: 0.18098118901252747\n",
      "Total Time: Rasterization: 2.886s, Backward: 5.279s\n",
      "Model initialized. Number of Gaussians: 1024\n"
     ]
    },
    {
     "name": "stderr",
     "output_type": "stream",
     "text": [
      "Loss: 0.128 (L1: 0.009, L2: 0.000, SSIM: 0.033): 100%|\u001b[36m████████\u001b[0m| 1000/1000 [00:12<00:00, 82.36step/s]\u001b[0m\n"
     ]
    },
    {
     "name": "stdout",
     "output_type": "stream",
     "text": [
      "Final loss: 0.12706777453422546\n",
      "Total Time: Rasterization: 2.808s, Backward: 5.152s\n",
      "Model initialized. Number of Gaussians: 1024\n"
     ]
    },
    {
     "name": "stderr",
     "output_type": "stream",
     "text": [
      "Loss: 0.196 (L1: 0.036, L2: 0.003, SSIM: 0.107): 100%|\u001b[36m████████\u001b[0m| 1000/1000 [00:12<00:00, 82.84step/s]\u001b[0m\n"
     ]
    },
    {
     "name": "stdout",
     "output_type": "stream",
     "text": [
      "Final loss: 0.197569340467453\n",
      "Total Time: Rasterization: 2.804s, Backward: 5.089s\n",
      "Model initialized. Number of Gaussians: 1024\n"
     ]
    },
    {
     "name": "stderr",
     "output_type": "stream",
     "text": [
      "Loss: 0.145 (L1: 0.009, L2: 0.000, SSIM: 0.027): 100%|\u001b[36m████████\u001b[0m| 1000/1000 [00:12<00:00, 81.05step/s]\u001b[0m\n"
     ]
    },
    {
     "name": "stdout",
     "output_type": "stream",
     "text": [
      "Final loss: 0.14302784204483032\n",
      "Total Time: Rasterization: 2.858s, Backward: 5.222s\n",
      "Model initialized. Number of Gaussians: 1024\n"
     ]
    },
    {
     "name": "stderr",
     "output_type": "stream",
     "text": [
      "Loss: 0.156 (L1: 0.021, L2: 0.001, SSIM: 0.059): 100%|\u001b[36m████████\u001b[0m| 1000/1000 [00:12<00:00, 82.96step/s]\u001b[0m\n"
     ]
    },
    {
     "name": "stdout",
     "output_type": "stream",
     "text": [
      "Final loss: 0.15584728121757507\n",
      "Total Time: Rasterization: 2.805s, Backward: 5.141s\n",
      "Model initialized. Number of Gaussians: 1024\n"
     ]
    },
    {
     "name": "stderr",
     "output_type": "stream",
     "text": [
      "Loss: 0.200 (L1: 0.038, L2: 0.003, SSIM: 0.105): 100%|\u001b[36m████████\u001b[0m| 1000/1000 [00:12<00:00, 82.43step/s]\u001b[0m\n"
     ]
    },
    {
     "name": "stdout",
     "output_type": "stream",
     "text": [
      "Final loss: 0.1988544464111328\n",
      "Total Time: Rasterization: 2.816s, Backward: 5.140s\n",
      "Model initialized. Number of Gaussians: 1024\n"
     ]
    },
    {
     "name": "stderr",
     "output_type": "stream",
     "text": [
      "Loss: 0.191 (L1: 0.030, L2: 0.003, SSIM: 0.149): 100%|\u001b[36m████████\u001b[0m| 1000/1000 [00:11<00:00, 85.00step/s]\u001b[0m\n"
     ]
    },
    {
     "name": "stdout",
     "output_type": "stream",
     "text": [
      "Final loss: 0.19093631207942963\n",
      "Total Time: Rasterization: 2.743s, Backward: 4.952s\n",
      "Model initialized. Number of Gaussians: 1024\n"
     ]
    },
    {
     "name": "stderr",
     "output_type": "stream",
     "text": [
      "Loss: 0.193 (L1: 0.021, L2: 0.001, SSIM: 0.088): 100%|\u001b[36m████████\u001b[0m| 1000/1000 [00:12<00:00, 80.68step/s]\u001b[0m\n"
     ]
    },
    {
     "name": "stdout",
     "output_type": "stream",
     "text": [
      "Final loss: 0.19125854969024658\n",
      "Total Time: Rasterization: 2.872s, Backward: 5.245s\n",
      "Model initialized. Number of Gaussians: 1024\n"
     ]
    },
    {
     "name": "stderr",
     "output_type": "stream",
     "text": [
      "Loss: 0.143 (L1: 0.017, L2: 0.002, SSIM: 0.047): 100%|\u001b[36m████████\u001b[0m| 1000/1000 [00:12<00:00, 81.08step/s]\u001b[0m\n"
     ]
    },
    {
     "name": "stdout",
     "output_type": "stream",
     "text": [
      "Final loss: 0.1432756781578064\n",
      "Total Time: Rasterization: 2.841s, Backward: 5.255s\n",
      "Model initialized. Number of Gaussians: 1024\n"
     ]
    },
    {
     "name": "stderr",
     "output_type": "stream",
     "text": [
      "Loss: 0.159 (L1: 0.028, L2: 0.002, SSIM: 0.073): 100%|\u001b[36m████████\u001b[0m| 1000/1000 [00:12<00:00, 82.10step/s]\u001b[0m\n"
     ]
    },
    {
     "name": "stdout",
     "output_type": "stream",
     "text": [
      "Final loss: 0.15858890116214752\n",
      "Total Time: Rasterization: 2.841s, Backward: 5.136s\n",
      "Model initialized. Number of Gaussians: 1024\n"
     ]
    },
    {
     "name": "stderr",
     "output_type": "stream",
     "text": [
      "Loss: 0.184 (L1: 0.024, L2: 0.001, SSIM: 0.116): 100%|\u001b[36m████████\u001b[0m| 1000/1000 [00:12<00:00, 81.54step/s]\u001b[0m\n"
     ]
    },
    {
     "name": "stdout",
     "output_type": "stream",
     "text": [
      "Final loss: 0.1831851601600647\n",
      "Total Time: Rasterization: 2.827s, Backward: 5.177s\n",
      "Model initialized. Number of Gaussians: 1024\n"
     ]
    },
    {
     "name": "stderr",
     "output_type": "stream",
     "text": [
      "Loss: 0.224 (L1: 0.070, L2: 0.009, SSIM: 0.136): 100%|\u001b[36m████████\u001b[0m| 1000/1000 [00:12<00:00, 82.22step/s]\u001b[0m\n"
     ]
    },
    {
     "name": "stdout",
     "output_type": "stream",
     "text": [
      "Final loss: 0.22413502633571625\n",
      "Total Time: Rasterization: 2.826s, Backward: 5.135s\n",
      "Model initialized. Number of Gaussians: 1024\n"
     ]
    },
    {
     "name": "stderr",
     "output_type": "stream",
     "text": [
      "Loss: 0.218 (L1: 0.040, L2: 0.004, SSIM: 0.137): 100%|\u001b[36m████████\u001b[0m| 1000/1000 [00:12<00:00, 82.17step/s]\u001b[0m\n"
     ]
    },
    {
     "name": "stdout",
     "output_type": "stream",
     "text": [
      "Final loss: 0.22090604901313782\n",
      "Total Time: Rasterization: 2.819s, Backward: 5.165s\n",
      "Model initialized. Number of Gaussians: 1024\n"
     ]
    },
    {
     "name": "stderr",
     "output_type": "stream",
     "text": [
      "Loss: 0.200 (L1: 0.040, L2: 0.004, SSIM: 0.135): 100%|\u001b[36m████████\u001b[0m| 1000/1000 [00:12<00:00, 81.34step/s]\u001b[0m\n"
     ]
    },
    {
     "name": "stdout",
     "output_type": "stream",
     "text": [
      "Final loss: 0.2002807855606079\n",
      "Total Time: Rasterization: 2.842s, Backward: 5.228s\n",
      "Model initialized. Number of Gaussians: 1024\n"
     ]
    },
    {
     "name": "stderr",
     "output_type": "stream",
     "text": [
      "Loss: 0.214 (L1: 0.029, L2: 0.002, SSIM: 0.140): 100%|\u001b[36m████████\u001b[0m| 1000/1000 [00:12<00:00, 83.23step/s]\u001b[0m\n"
     ]
    },
    {
     "name": "stdout",
     "output_type": "stream",
     "text": [
      "Final loss: 0.21260565519332886\n",
      "Total Time: Rasterization: 2.763s, Backward: 5.101s\n",
      "Model initialized. Number of Gaussians: 1024\n"
     ]
    },
    {
     "name": "stderr",
     "output_type": "stream",
     "text": [
      "Loss: 0.138 (L1: 0.015, L2: 0.001, SSIM: 0.071): 100%|\u001b[36m████████\u001b[0m| 1000/1000 [00:12<00:00, 82.24step/s]\u001b[0m\n"
     ]
    },
    {
     "name": "stdout",
     "output_type": "stream",
     "text": [
      "Final loss: 0.13905079662799835\n",
      "Total Time: Rasterization: 2.800s, Backward: 5.161s\n",
      "Model initialized. Number of Gaussians: 1024\n"
     ]
    },
    {
     "name": "stderr",
     "output_type": "stream",
     "text": [
      "Loss: 0.234 (L1: 0.050, L2: 0.007, SSIM: 0.143): 100%|\u001b[36m████████\u001b[0m| 1000/1000 [00:12<00:00, 82.25step/s]\u001b[0m\n"
     ]
    },
    {
     "name": "stdout",
     "output_type": "stream",
     "text": [
      "Final loss: 0.2338254600763321\n",
      "Total Time: Rasterization: 2.812s, Backward: 5.175s\n",
      "Model initialized. Number of Gaussians: 1024\n"
     ]
    },
    {
     "name": "stderr",
     "output_type": "stream",
     "text": [
      "Loss: 0.196 (L1: 0.036, L2: 0.003, SSIM: 0.122): 100%|\u001b[36m████████\u001b[0m| 1000/1000 [00:12<00:00, 83.22step/s]\u001b[0m\n"
     ]
    },
    {
     "name": "stdout",
     "output_type": "stream",
     "text": [
      "Final loss: 0.19696438312530518\n",
      "Total Time: Rasterization: 2.766s, Backward: 5.144s\n",
      "Model initialized. Number of Gaussians: 1024\n"
     ]
    },
    {
     "name": "stderr",
     "output_type": "stream",
     "text": [
      "Loss: 0.175 (L1: 0.016, L2: 0.001, SSIM: 0.085): 100%|\u001b[36m████████\u001b[0m| 1000/1000 [00:11<00:00, 87.81step/s]\u001b[0m\n"
     ]
    },
    {
     "name": "stdout",
     "output_type": "stream",
     "text": [
      "Final loss: 0.17339932918548584\n",
      "Total Time: Rasterization: 2.627s, Backward: 4.860s\n",
      "Model initialized. Number of Gaussians: 1024\n"
     ]
    },
    {
     "name": "stderr",
     "output_type": "stream",
     "text": [
      "Loss: 0.244 (L1: 0.036, L2: 0.003, SSIM: 0.188): 100%|\u001b[36m████████\u001b[0m| 1000/1000 [00:11<00:00, 83.65step/s]\u001b[0m\n"
     ]
    },
    {
     "name": "stdout",
     "output_type": "stream",
     "text": [
      "Final loss: 0.24288177490234375\n",
      "Total Time: Rasterization: 2.782s, Backward: 5.064s\n",
      "Model initialized. Number of Gaussians: 1024\n"
     ]
    },
    {
     "name": "stderr",
     "output_type": "stream",
     "text": [
      "Loss: 0.198 (L1: 0.029, L2: 0.002, SSIM: 0.096): 100%|\u001b[36m████████\u001b[0m| 1000/1000 [00:12<00:00, 82.12step/s]\u001b[0m\n"
     ]
    },
    {
     "name": "stdout",
     "output_type": "stream",
     "text": [
      "Final loss: 0.19724233448505402\n",
      "Total Time: Rasterization: 2.814s, Backward: 5.151s\n",
      "Model initialized. Number of Gaussians: 1024\n"
     ]
    },
    {
     "name": "stderr",
     "output_type": "stream",
     "text": [
      "Loss: 0.174 (L1: 0.029, L2: 0.003, SSIM: 0.085): 100%|\u001b[36m████████\u001b[0m| 1000/1000 [00:12<00:00, 81.96step/s]\u001b[0m\n"
     ]
    },
    {
     "name": "stdout",
     "output_type": "stream",
     "text": [
      "Final loss: 0.17372611165046692\n",
      "Total Time: Rasterization: 2.841s, Backward: 5.158s\n",
      "Model initialized. Number of Gaussians: 1024\n"
     ]
    },
    {
     "name": "stderr",
     "output_type": "stream",
     "text": [
      "Loss: 0.230 (L1: 0.033, L2: 0.002, SSIM: 0.150): 100%|\u001b[36m████████\u001b[0m| 1000/1000 [00:12<00:00, 82.33step/s]\u001b[0m\n"
     ]
    },
    {
     "name": "stdout",
     "output_type": "stream",
     "text": [
      "Final loss: 0.23003515601158142\n",
      "Total Time: Rasterization: 2.823s, Backward: 5.145s\n",
      "Model initialized. Number of Gaussians: 1024\n"
     ]
    },
    {
     "name": "stderr",
     "output_type": "stream",
     "text": [
      "Loss: 0.211 (L1: 0.031, L2: 0.002, SSIM: 0.126): 100%|\u001b[36m████████\u001b[0m| 1000/1000 [00:11<00:00, 83.39step/s]\u001b[0m\n"
     ]
    },
    {
     "name": "stdout",
     "output_type": "stream",
     "text": [
      "Final loss: 0.209546759724617\n",
      "Total Time: Rasterization: 2.757s, Backward: 5.133s\n",
      "Model initialized. Number of Gaussians: 1024\n"
     ]
    },
    {
     "name": "stderr",
     "output_type": "stream",
     "text": [
      "Loss: 0.159 (L1: 0.031, L2: 0.002, SSIM: 0.064): 100%|\u001b[36m███████\u001b[0m| 1000/1000 [00:09<00:00, 104.44step/s]\u001b[0m\n"
     ]
    },
    {
     "name": "stdout",
     "output_type": "stream",
     "text": [
      "Final loss: 0.15932485461235046\n",
      "Total Time: Rasterization: 2.218s, Backward: 4.057s\n",
      "Model initialized. Number of Gaussians: 1024\n"
     ]
    },
    {
     "name": "stderr",
     "output_type": "stream",
     "text": [
      "Loss: 0.257 (L1: 0.061, L2: 0.008, SSIM: 0.199): 100%|\u001b[36m████████\u001b[0m| 1000/1000 [00:12<00:00, 82.72step/s]\u001b[0m\n"
     ]
    },
    {
     "name": "stdout",
     "output_type": "stream",
     "text": [
      "Final loss: 0.2577707767486572\n",
      "Total Time: Rasterization: 2.793s, Backward: 5.144s\n",
      "Model initialized. Number of Gaussians: 1024\n"
     ]
    },
    {
     "name": "stderr",
     "output_type": "stream",
     "text": [
      "Loss: 0.196 (L1: 0.044, L2: 0.005, SSIM: 0.119): 100%|\u001b[36m████████\u001b[0m| 1000/1000 [00:12<00:00, 82.76step/s]\u001b[0m\n"
     ]
    },
    {
     "name": "stdout",
     "output_type": "stream",
     "text": [
      "Final loss: 0.1954205483198166\n",
      "Total Time: Rasterization: 2.798s, Backward: 5.131s\n",
      "Model initialized. Number of Gaussians: 1024\n"
     ]
    },
    {
     "name": "stderr",
     "output_type": "stream",
     "text": [
      "Loss: 0.152 (L1: 0.018, L2: 0.001, SSIM: 0.109): 100%|\u001b[36m████████\u001b[0m| 1000/1000 [00:12<00:00, 82.12step/s]\u001b[0m\n"
     ]
    },
    {
     "name": "stdout",
     "output_type": "stream",
     "text": [
      "Final loss: 0.1513407826423645\n",
      "Total Time: Rasterization: 2.819s, Backward: 5.164s\n",
      "Model initialized. Number of Gaussians: 1024\n"
     ]
    },
    {
     "name": "stderr",
     "output_type": "stream",
     "text": [
      "Loss: 0.217 (L1: 0.043, L2: 0.004, SSIM: 0.125): 100%|\u001b[36m████████\u001b[0m| 1000/1000 [00:11<00:00, 84.44step/s]\u001b[0m\n"
     ]
    },
    {
     "name": "stdout",
     "output_type": "stream",
     "text": [
      "Final loss: 0.21536558866500854\n",
      "Total Time: Rasterization: 2.733s, Backward: 5.003s\n",
      "Model initialized. Number of Gaussians: 1024\n"
     ]
    },
    {
     "name": "stderr",
     "output_type": "stream",
     "text": [
      "Loss: 0.179 (L1: 0.024, L2: 0.001, SSIM: 0.098): 100%|\u001b[36m████████\u001b[0m| 1000/1000 [00:12<00:00, 82.21step/s]\u001b[0m\n"
     ]
    },
    {
     "name": "stdout",
     "output_type": "stream",
     "text": [
      "Final loss: 0.17902272939682007\n",
      "Total Time: Rasterization: 2.815s, Backward: 5.099s\n",
      "Model initialized. Number of Gaussians: 1024\n"
     ]
    },
    {
     "name": "stderr",
     "output_type": "stream",
     "text": [
      "Loss: 0.196 (L1: 0.038, L2: 0.004, SSIM: 0.116): 100%|\u001b[36m████████\u001b[0m| 1000/1000 [00:12<00:00, 83.06step/s]\u001b[0m\n"
     ]
    },
    {
     "name": "stdout",
     "output_type": "stream",
     "text": [
      "Final loss: 0.19604837894439697\n",
      "Total Time: Rasterization: 2.792s, Backward: 5.103s\n",
      "Model initialized. Number of Gaussians: 1024\n"
     ]
    },
    {
     "name": "stderr",
     "output_type": "stream",
     "text": [
      "Loss: 0.197 (L1: 0.026, L2: 0.002, SSIM: 0.126): 100%|\u001b[36m████████\u001b[0m| 1000/1000 [00:11<00:00, 86.68step/s]\u001b[0m\n"
     ]
    },
    {
     "name": "stdout",
     "output_type": "stream",
     "text": [
      "Final loss: 0.19740936160087585\n",
      "Total Time: Rasterization: 2.681s, Backward: 4.865s\n",
      "Model initialized. Number of Gaussians: 1024\n"
     ]
    },
    {
     "name": "stderr",
     "output_type": "stream",
     "text": [
      "Loss: 0.155 (L1: 0.018, L2: 0.001, SSIM: 0.040): 100%|\u001b[36m████████\u001b[0m| 1000/1000 [00:12<00:00, 83.21step/s]\u001b[0m\n"
     ]
    },
    {
     "name": "stdout",
     "output_type": "stream",
     "text": [
      "Final loss: 0.1546734869480133\n",
      "Total Time: Rasterization: 2.781s, Backward: 5.127s\n",
      "Model initialized. Number of Gaussians: 1024\n"
     ]
    },
    {
     "name": "stderr",
     "output_type": "stream",
     "text": [
      "Loss: 0.181 (L1: 0.025, L2: 0.001, SSIM: 0.110): 100%|\u001b[36m████████\u001b[0m| 1000/1000 [00:12<00:00, 80.49step/s]\u001b[0m\n"
     ]
    },
    {
     "name": "stdout",
     "output_type": "stream",
     "text": [
      "Final loss: 0.18049722909927368\n",
      "Total Time: Rasterization: 2.875s, Backward: 5.281s\n",
      "Model initialized. Number of Gaussians: 1024\n"
     ]
    },
    {
     "name": "stderr",
     "output_type": "stream",
     "text": [
      "Loss: 0.182 (L1: 0.031, L2: 0.003, SSIM: 0.098): 100%|\u001b[36m████████\u001b[0m| 1000/1000 [00:12<00:00, 81.79step/s]\u001b[0m\n"
     ]
    },
    {
     "name": "stdout",
     "output_type": "stream",
     "text": [
      "Final loss: 0.18185392022132874\n",
      "Total Time: Rasterization: 2.834s, Backward: 5.166s\n",
      "Model initialized. Number of Gaussians: 1024\n"
     ]
    },
    {
     "name": "stderr",
     "output_type": "stream",
     "text": [
      "Loss: 0.171 (L1: 0.023, L2: 0.002, SSIM: 0.090): 100%|\u001b[36m████████\u001b[0m| 1000/1000 [00:11<00:00, 85.78step/s]\u001b[0m\n"
     ]
    },
    {
     "name": "stdout",
     "output_type": "stream",
     "text": [
      "Final loss: 0.17127388715744019\n",
      "Total Time: Rasterization: 2.690s, Backward: 4.931s\n",
      "Model initialized. Number of Gaussians: 1024\n"
     ]
    },
    {
     "name": "stderr",
     "output_type": "stream",
     "text": [
      "Loss: 0.185 (L1: 0.033, L2: 0.003, SSIM: 0.077): 100%|\u001b[36m████████\u001b[0m| 1000/1000 [00:12<00:00, 82.18step/s]\u001b[0m\n"
     ]
    },
    {
     "name": "stdout",
     "output_type": "stream",
     "text": [
      "Final loss: 0.1843891441822052\n",
      "Total Time: Rasterization: 2.832s, Backward: 5.078s\n",
      "Model initialized. Number of Gaussians: 1024\n"
     ]
    },
    {
     "name": "stderr",
     "output_type": "stream",
     "text": [
      "Loss: 0.151 (L1: 0.014, L2: 0.001, SSIM: 0.062): 100%|\u001b[36m████████\u001b[0m| 1000/1000 [00:12<00:00, 82.89step/s]\u001b[0m\n"
     ]
    },
    {
     "name": "stdout",
     "output_type": "stream",
     "text": [
      "Final loss: 0.1495991349220276\n",
      "Total Time: Rasterization: 2.799s, Backward: 5.115s\n",
      "Model initialized. Number of Gaussians: 1024\n"
     ]
    },
    {
     "name": "stderr",
     "output_type": "stream",
     "text": [
      "Loss: 0.186 (L1: 0.033, L2: 0.003, SSIM: 0.121): 100%|\u001b[36m████████\u001b[0m| 1000/1000 [00:12<00:00, 81.36step/s]\u001b[0m\n"
     ]
    },
    {
     "name": "stdout",
     "output_type": "stream",
     "text": [
      "Final loss: 0.1852264404296875\n",
      "Total Time: Rasterization: 2.852s, Backward: 5.232s\n",
      "Model initialized. Number of Gaussians: 1024\n"
     ]
    },
    {
     "name": "stderr",
     "output_type": "stream",
     "text": [
      "Loss: 0.167 (L1: 0.020, L2: 0.001, SSIM: 0.041): 100%|\u001b[36m████████\u001b[0m| 1000/1000 [00:12<00:00, 82.12step/s]\u001b[0m\n"
     ]
    },
    {
     "name": "stdout",
     "output_type": "stream",
     "text": [
      "Final loss: 0.1661158800125122\n",
      "Total Time: Rasterization: 2.804s, Backward: 5.094s\n",
      "Model initialized. Number of Gaussians: 1024\n"
     ]
    },
    {
     "name": "stderr",
     "output_type": "stream",
     "text": [
      "Loss: 0.150 (L1: 0.011, L2: 0.000, SSIM: 0.027): 100%|\u001b[36m████████\u001b[0m| 1000/1000 [00:11<00:00, 84.87step/s]\u001b[0m\n"
     ]
    },
    {
     "name": "stdout",
     "output_type": "stream",
     "text": [
      "Final loss: 0.14898952841758728\n",
      "Total Time: Rasterization: 2.741s, Backward: 4.957s\n",
      "Model initialized. Number of Gaussians: 1024\n"
     ]
    },
    {
     "name": "stderr",
     "output_type": "stream",
     "text": [
      "Loss: 0.173 (L1: 0.024, L2: 0.002, SSIM: 0.072): 100%|\u001b[36m████████\u001b[0m| 1000/1000 [00:12<00:00, 81.73step/s]\u001b[0m\n"
     ]
    },
    {
     "name": "stdout",
     "output_type": "stream",
     "text": [
      "Final loss: 0.17219169437885284\n",
      "Total Time: Rasterization: 2.821s, Backward: 5.141s\n",
      "Model initialized. Number of Gaussians: 1024\n"
     ]
    },
    {
     "name": "stderr",
     "output_type": "stream",
     "text": [
      "Loss: 0.186 (L1: 0.030, L2: 0.002, SSIM: 0.081): 100%|\u001b[36m████████\u001b[0m| 1000/1000 [00:12<00:00, 81.59step/s]\u001b[0m\n"
     ]
    },
    {
     "name": "stdout",
     "output_type": "stream",
     "text": [
      "Final loss: 0.18580181896686554\n",
      "Total Time: Rasterization: 2.828s, Backward: 5.188s\n",
      "Model initialized. Number of Gaussians: 1024\n"
     ]
    },
    {
     "name": "stderr",
     "output_type": "stream",
     "text": [
      "Loss: 0.154 (L1: 0.014, L2: 0.001, SSIM: 0.043): 100%|\u001b[36m████████\u001b[0m| 1000/1000 [00:12<00:00, 82.36step/s]\u001b[0m\n"
     ]
    },
    {
     "name": "stdout",
     "output_type": "stream",
     "text": [
      "Final loss: 0.15345549583435059\n",
      "Total Time: Rasterization: 2.820s, Backward: 5.190s\n",
      "Model initialized. Number of Gaussians: 1024\n"
     ]
    },
    {
     "name": "stderr",
     "output_type": "stream",
     "text": [
      "Loss: 0.198 (L1: 0.043, L2: 0.004, SSIM: 0.132): 100%|\u001b[36m████████\u001b[0m| 1000/1000 [00:12<00:00, 82.24step/s]\u001b[0m\n"
     ]
    },
    {
     "name": "stdout",
     "output_type": "stream",
     "text": [
      "Final loss: 0.19755586981773376\n",
      "Total Time: Rasterization: 2.818s, Backward: 5.125s\n",
      "Model initialized. Number of Gaussians: 1024\n"
     ]
    },
    {
     "name": "stderr",
     "output_type": "stream",
     "text": [
      "Loss: 0.181 (L1: 0.027, L2: 0.002, SSIM: 0.072): 100%|\u001b[36m███████\u001b[0m| 1000/1000 [00:09<00:00, 108.19step/s]\u001b[0m\n"
     ]
    },
    {
     "name": "stdout",
     "output_type": "stream",
     "text": [
      "Final loss: 0.1799670308828354\n",
      "Total Time: Rasterization: 2.139s, Backward: 3.981s\n",
      "Model initialized. Number of Gaussians: 1024\n"
     ]
    },
    {
     "name": "stderr",
     "output_type": "stream",
     "text": [
      "Loss: 0.224 (L1: 0.032, L2: 0.002, SSIM: 0.151): 100%|\u001b[36m████████\u001b[0m| 1000/1000 [00:12<00:00, 82.23step/s]\u001b[0m\n"
     ]
    },
    {
     "name": "stdout",
     "output_type": "stream",
     "text": [
      "Final loss: 0.2243042290210724\n",
      "Total Time: Rasterization: 2.819s, Backward: 5.100s\n",
      "Model initialized. Number of Gaussians: 1024\n"
     ]
    },
    {
     "name": "stderr",
     "output_type": "stream",
     "text": [
      "Loss: 0.240 (L1: 0.042, L2: 0.004, SSIM: 0.171): 100%|\u001b[36m████████\u001b[0m| 1000/1000 [00:12<00:00, 81.68step/s]\u001b[0m\n"
     ]
    },
    {
     "name": "stdout",
     "output_type": "stream",
     "text": [
      "Final loss: 0.23911023139953613\n",
      "Total Time: Rasterization: 2.841s, Backward: 5.145s\n",
      "Model initialized. Number of Gaussians: 1024\n"
     ]
    },
    {
     "name": "stderr",
     "output_type": "stream",
     "text": [
      "Loss: 0.209 (L1: 0.031, L2: 0.002, SSIM: 0.133): 100%|\u001b[36m████████\u001b[0m| 1000/1000 [00:10<00:00, 92.55step/s]\u001b[0m\n"
     ]
    },
    {
     "name": "stdout",
     "output_type": "stream",
     "text": [
      "Final loss: 0.20890164375305176\n",
      "Total Time: Rasterization: 2.525s, Backward: 4.534s\n",
      "Model initialized. Number of Gaussians: 1024\n"
     ]
    },
    {
     "name": "stderr",
     "output_type": "stream",
     "text": [
      "Loss: 0.203 (L1: 0.027, L2: 0.002, SSIM: 0.102): 100%|\u001b[36m████████\u001b[0m| 1000/1000 [00:12<00:00, 82.82step/s]\u001b[0m\n"
     ]
    },
    {
     "name": "stdout",
     "output_type": "stream",
     "text": [
      "Final loss: 0.20320987701416016\n",
      "Total Time: Rasterization: 2.791s, Backward: 5.085s\n",
      "Model initialized. Number of Gaussians: 1024\n"
     ]
    },
    {
     "name": "stderr",
     "output_type": "stream",
     "text": [
      "Loss: 0.170 (L1: 0.019, L2: 0.001, SSIM: 0.066): 100%|\u001b[36m████████\u001b[0m| 1000/1000 [00:11<00:00, 84.22step/s]\u001b[0m\n"
     ]
    },
    {
     "name": "stdout",
     "output_type": "stream",
     "text": [
      "Final loss: 0.17034092545509338\n",
      "Total Time: Rasterization: 2.728s, Backward: 5.037s\n",
      "Model initialized. Number of Gaussians: 1024\n"
     ]
    },
    {
     "name": "stderr",
     "output_type": "stream",
     "text": [
      "Loss: 0.193 (L1: 0.037, L2: 0.005, SSIM: 0.094): 100%|\u001b[36m████████\u001b[0m| 1000/1000 [00:12<00:00, 82.86step/s]\u001b[0m\n"
     ]
    },
    {
     "name": "stdout",
     "output_type": "stream",
     "text": [
      "Final loss: 0.19215264916419983\n",
      "Total Time: Rasterization: 2.802s, Backward: 5.085s\n",
      "Model initialized. Number of Gaussians: 1024\n"
     ]
    },
    {
     "name": "stderr",
     "output_type": "stream",
     "text": [
      "Loss: 0.161 (L1: 0.014, L2: 0.000, SSIM: 0.044): 100%|\u001b[36m████████\u001b[0m| 1000/1000 [00:12<00:00, 83.22step/s]\u001b[0m\n"
     ]
    },
    {
     "name": "stdout",
     "output_type": "stream",
     "text": [
      "Final loss: 0.16082805395126343\n",
      "Total Time: Rasterization: 2.788s, Backward: 5.080s\n",
      "Model initialized. Number of Gaussians: 1024\n"
     ]
    },
    {
     "name": "stderr",
     "output_type": "stream",
     "text": [
      "Loss: 0.170 (L1: 0.027, L2: 0.002, SSIM: 0.066): 100%|\u001b[36m████████\u001b[0m| 1000/1000 [00:11<00:00, 83.73step/s]\u001b[0m\n"
     ]
    },
    {
     "name": "stdout",
     "output_type": "stream",
     "text": [
      "Final loss: 0.16938155889511108\n",
      "Total Time: Rasterization: 2.769s, Backward: 5.015s\n",
      "Model initialized. Number of Gaussians: 1024\n"
     ]
    },
    {
     "name": "stderr",
     "output_type": "stream",
     "text": [
      "Loss: 0.180 (L1: 0.021, L2: 0.002, SSIM: 0.070): 100%|\u001b[36m████████\u001b[0m| 1000/1000 [00:11<00:00, 84.13step/s]\u001b[0m\n"
     ]
    },
    {
     "name": "stdout",
     "output_type": "stream",
     "text": [
      "Final loss: 0.18001583218574524\n",
      "Total Time: Rasterization: 2.738s, Backward: 5.046s\n",
      "Model initialized. Number of Gaussians: 1024\n"
     ]
    },
    {
     "name": "stderr",
     "output_type": "stream",
     "text": [
      "Loss: 0.172 (L1: 0.015, L2: 0.000, SSIM: 0.093): 100%|\u001b[36m████████\u001b[0m| 1000/1000 [00:12<00:00, 82.46step/s]\u001b[0m\n"
     ]
    },
    {
     "name": "stdout",
     "output_type": "stream",
     "text": [
      "Final loss: 0.1700018346309662\n",
      "Total Time: Rasterization: 2.808s, Backward: 5.106s\n",
      "Model initialized. Number of Gaussians: 1024\n"
     ]
    },
    {
     "name": "stderr",
     "output_type": "stream",
     "text": [
      "Loss: 0.177 (L1: 0.015, L2: 0.001, SSIM: 0.070): 100%|\u001b[36m████████\u001b[0m| 1000/1000 [00:12<00:00, 82.70step/s]\u001b[0m\n"
     ]
    },
    {
     "name": "stdout",
     "output_type": "stream",
     "text": [
      "Final loss: 0.17639431357383728\n",
      "Total Time: Rasterization: 2.802s, Backward: 5.164s\n",
      "Model initialized. Number of Gaussians: 1024\n"
     ]
    },
    {
     "name": "stderr",
     "output_type": "stream",
     "text": [
      "Loss: 0.195 (L1: 0.027, L2: 0.002, SSIM: 0.119): 100%|\u001b[36m████████\u001b[0m| 1000/1000 [00:11<00:00, 86.43step/s]\u001b[0m\n"
     ]
    },
    {
     "name": "stdout",
     "output_type": "stream",
     "text": [
      "Final loss: 0.19636566936969757\n",
      "Total Time: Rasterization: 2.686s, Backward: 4.849s\n",
      "Model initialized. Number of Gaussians: 1024\n"
     ]
    },
    {
     "name": "stderr",
     "output_type": "stream",
     "text": [
      "Loss: 0.173 (L1: 0.025, L2: 0.002, SSIM: 0.065): 100%|\u001b[36m████████\u001b[0m| 1000/1000 [00:11<00:00, 83.60step/s]\u001b[0m\n"
     ]
    },
    {
     "name": "stdout",
     "output_type": "stream",
     "text": [
      "Final loss: 0.17281943559646606\n",
      "Total Time: Rasterization: 2.751s, Backward: 5.080s\n",
      "Model initialized. Number of Gaussians: 1024\n"
     ]
    },
    {
     "name": "stderr",
     "output_type": "stream",
     "text": [
      "Loss: 0.189 (L1: 0.032, L2: 0.003, SSIM: 0.118): 100%|\u001b[36m████████\u001b[0m| 1000/1000 [00:12<00:00, 82.80step/s]\u001b[0m\n"
     ]
    },
    {
     "name": "stdout",
     "output_type": "stream",
     "text": [
      "Final loss: 0.18895360827445984\n",
      "Total Time: Rasterization: 2.815s, Backward: 5.114s\n",
      "Model initialized. Number of Gaussians: 1024\n"
     ]
    },
    {
     "name": "stderr",
     "output_type": "stream",
     "text": [
      "Loss: 0.147 (L1: 0.019, L2: 0.001, SSIM: 0.049): 100%|\u001b[36m████████\u001b[0m| 1000/1000 [00:12<00:00, 82.56step/s]\u001b[0m\n"
     ]
    },
    {
     "name": "stdout",
     "output_type": "stream",
     "text": [
      "Final loss: 0.14659114181995392\n",
      "Total Time: Rasterization: 2.812s, Backward: 5.113s\n",
      "Model initialized. Number of Gaussians: 1024\n"
     ]
    },
    {
     "name": "stderr",
     "output_type": "stream",
     "text": [
      "Loss: 0.174 (L1: 0.018, L2: 0.001, SSIM: 0.079): 100%|\u001b[36m████████\u001b[0m| 1000/1000 [00:12<00:00, 81.69step/s]\u001b[0m\n"
     ]
    },
    {
     "name": "stdout",
     "output_type": "stream",
     "text": [
      "Final loss: 0.17350219190120697\n",
      "Total Time: Rasterization: 2.859s, Backward: 5.180s\n",
      "Model initialized. Number of Gaussians: 1024\n"
     ]
    },
    {
     "name": "stderr",
     "output_type": "stream",
     "text": [
      "Loss: 0.186 (L1: 0.028, L2: 0.002, SSIM: 0.085): 100%|\u001b[36m████████\u001b[0m| 1000/1000 [00:12<00:00, 83.16step/s]\u001b[0m\n"
     ]
    },
    {
     "name": "stdout",
     "output_type": "stream",
     "text": [
      "Final loss: 0.18647973239421844\n",
      "Total Time: Rasterization: 2.800s, Backward: 5.055s\n",
      "Model initialized. Number of Gaussians: 1024\n"
     ]
    },
    {
     "name": "stderr",
     "output_type": "stream",
     "text": [
      "Loss: 0.174 (L1: 0.027, L2: 0.002, SSIM: 0.077): 100%|\u001b[36m████████\u001b[0m| 1000/1000 [00:12<00:00, 82.23step/s]\u001b[0m\n"
     ]
    },
    {
     "name": "stdout",
     "output_type": "stream",
     "text": [
      "Final loss: 0.17233413457870483\n",
      "Total Time: Rasterization: 2.821s, Backward: 5.149s\n",
      "Model initialized. Number of Gaussians: 1024\n"
     ]
    },
    {
     "name": "stderr",
     "output_type": "stream",
     "text": [
      "Loss: 0.209 (L1: 0.037, L2: 0.004, SSIM: 0.136): 100%|\u001b[36m████████\u001b[0m| 1000/1000 [00:12<00:00, 82.94step/s]\u001b[0m\n"
     ]
    },
    {
     "name": "stdout",
     "output_type": "stream",
     "text": [
      "Final loss: 0.208096444606781\n",
      "Total Time: Rasterization: 2.808s, Backward: 5.114s\n",
      "Model initialized. Number of Gaussians: 1024\n"
     ]
    },
    {
     "name": "stderr",
     "output_type": "stream",
     "text": [
      "Loss: 0.234 (L1: 0.028, L2: 0.002, SSIM: 0.140): 100%|\u001b[36m████████\u001b[0m| 1000/1000 [00:12<00:00, 82.49step/s]\u001b[0m\n"
     ]
    },
    {
     "name": "stdout",
     "output_type": "stream",
     "text": [
      "Final loss: 0.2322702556848526\n",
      "Total Time: Rasterization: 2.815s, Backward: 5.154s\n",
      "Model initialized. Number of Gaussians: 1024\n"
     ]
    },
    {
     "name": "stderr",
     "output_type": "stream",
     "text": [
      "Loss: 0.208 (L1: 0.040, L2: 0.003, SSIM: 0.114): 100%|\u001b[36m████████\u001b[0m| 1000/1000 [00:11<00:00, 89.93step/s]\u001b[0m\n"
     ]
    },
    {
     "name": "stdout",
     "output_type": "stream",
     "text": [
      "Final loss: 0.20777058601379395\n",
      "Total Time: Rasterization: 2.587s, Backward: 4.708s\n",
      "Model initialized. Number of Gaussians: 1024\n"
     ]
    },
    {
     "name": "stderr",
     "output_type": "stream",
     "text": [
      "Loss: 0.193 (L1: 0.027, L2: 0.002, SSIM: 0.102): 100%|\u001b[36m████████\u001b[0m| 1000/1000 [00:12<00:00, 82.45step/s]\u001b[0m\n"
     ]
    },
    {
     "name": "stdout",
     "output_type": "stream",
     "text": [
      "Final loss: 0.19061625003814697\n",
      "Total Time: Rasterization: 2.827s, Backward: 5.121s\n",
      "Model initialized. Number of Gaussians: 1024\n"
     ]
    },
    {
     "name": "stderr",
     "output_type": "stream",
     "text": [
      "Loss: 0.234 (L1: 0.045, L2: 0.004, SSIM: 0.158): 100%|\u001b[36m████████\u001b[0m| 1000/1000 [00:12<00:00, 81.29step/s]\u001b[0m\n"
     ]
    },
    {
     "name": "stdout",
     "output_type": "stream",
     "text": [
      "Final loss: 0.23248015344142914\n",
      "Total Time: Rasterization: 2.847s, Backward: 5.222s\n",
      "Model initialized. Number of Gaussians: 1024\n"
     ]
    },
    {
     "name": "stderr",
     "output_type": "stream",
     "text": [
      "Loss: 0.201 (L1: 0.033, L2: 0.002, SSIM: 0.120): 100%|\u001b[36m████████\u001b[0m| 1000/1000 [00:12<00:00, 81.89step/s]\u001b[0m\n"
     ]
    },
    {
     "name": "stdout",
     "output_type": "stream",
     "text": [
      "Final loss: 0.20049560070037842\n",
      "Total Time: Rasterization: 2.790s, Backward: 5.170s\n",
      "Model initialized. Number of Gaussians: 1024\n"
     ]
    },
    {
     "name": "stderr",
     "output_type": "stream",
     "text": [
      "Loss: 0.161 (L1: 0.021, L2: 0.001, SSIM: 0.061): 100%|\u001b[36m████████\u001b[0m| 1000/1000 [00:12<00:00, 80.53step/s]\u001b[0m\n"
     ]
    },
    {
     "name": "stdout",
     "output_type": "stream",
     "text": [
      "Final loss: 0.16024641692638397\n",
      "Total Time: Rasterization: 2.885s, Backward: 5.228s\n",
      "Model initialized. Number of Gaussians: 1024\n"
     ]
    },
    {
     "name": "stderr",
     "output_type": "stream",
     "text": [
      "Loss: 0.184 (L1: 0.031, L2: 0.003, SSIM: 0.100): 100%|\u001b[36m████████\u001b[0m| 1000/1000 [00:12<00:00, 81.47step/s]\u001b[0m\n"
     ]
    },
    {
     "name": "stdout",
     "output_type": "stream",
     "text": [
      "Final loss: 0.183052659034729\n",
      "Total Time: Rasterization: 2.833s, Backward: 5.224s\n",
      "Model initialized. Number of Gaussians: 1024\n"
     ]
    },
    {
     "name": "stderr",
     "output_type": "stream",
     "text": [
      "Loss: 0.177 (L1: 0.029, L2: 0.002, SSIM: 0.074): 100%|\u001b[36m███████\u001b[0m| 1000/1000 [00:09<00:00, 103.97step/s]\u001b[0m\n"
     ]
    },
    {
     "name": "stdout",
     "output_type": "stream",
     "text": [
      "Final loss: 0.1763346642255783\n",
      "Total Time: Rasterization: 2.229s, Backward: 4.102s\n",
      "Model initialized. Number of Gaussians: 1024\n"
     ]
    },
    {
     "name": "stderr",
     "output_type": "stream",
     "text": [
      "Loss: 0.229 (L1: 0.026, L2: 0.001, SSIM: 0.137): 100%|\u001b[36m████████\u001b[0m| 1000/1000 [00:12<00:00, 83.03step/s]\u001b[0m\n"
     ]
    },
    {
     "name": "stdout",
     "output_type": "stream",
     "text": [
      "Final loss: 0.22897961735725403\n",
      "Total Time: Rasterization: 2.794s, Backward: 5.106s\n",
      "Model initialized. Number of Gaussians: 1024\n"
     ]
    },
    {
     "name": "stderr",
     "output_type": "stream",
     "text": [
      "Loss: 0.215 (L1: 0.044, L2: 0.004, SSIM: 0.146): 100%|\u001b[36m████████\u001b[0m| 1000/1000 [00:11<00:00, 85.44step/s]\u001b[0m\n"
     ]
    },
    {
     "name": "stdout",
     "output_type": "stream",
     "text": [
      "Final loss: 0.214344322681427\n",
      "Total Time: Rasterization: 2.699s, Backward: 4.960s\n",
      "Model initialized. Number of Gaussians: 1024\n"
     ]
    },
    {
     "name": "stderr",
     "output_type": "stream",
     "text": [
      "Loss: 0.177 (L1: 0.028, L2: 0.002, SSIM: 0.087): 100%|\u001b[36m████████\u001b[0m| 1000/1000 [00:12<00:00, 82.52step/s]\u001b[0m\n"
     ]
    },
    {
     "name": "stdout",
     "output_type": "stream",
     "text": [
      "Final loss: 0.1765538603067398\n",
      "Total Time: Rasterization: 2.795s, Backward: 5.168s\n",
      "Model initialized. Number of Gaussians: 1024\n"
     ]
    },
    {
     "name": "stderr",
     "output_type": "stream",
     "text": [
      "Loss: 0.188 (L1: 0.050, L2: 0.006, SSIM: 0.086): 100%|\u001b[36m████████\u001b[0m| 1000/1000 [00:12<00:00, 83.00step/s]\u001b[0m\n"
     ]
    },
    {
     "name": "stdout",
     "output_type": "stream",
     "text": [
      "Final loss: 0.18697485327720642\n",
      "Total Time: Rasterization: 2.795s, Backward: 5.064s\n",
      "Model initialized. Number of Gaussians: 1024\n"
     ]
    },
    {
     "name": "stderr",
     "output_type": "stream",
     "text": [
      "Loss: 0.197 (L1: 0.028, L2: 0.003, SSIM: 0.105): 100%|\u001b[36m████████\u001b[0m| 1000/1000 [00:12<00:00, 82.90step/s]\u001b[0m\n"
     ]
    },
    {
     "name": "stdout",
     "output_type": "stream",
     "text": [
      "Final loss: 0.19595077633857727\n",
      "Total Time: Rasterization: 2.793s, Backward: 5.122s\n",
      "Model initialized. Number of Gaussians: 1024\n"
     ]
    },
    {
     "name": "stderr",
     "output_type": "stream",
     "text": [
      "Loss: 0.126 (L1: 0.008, L2: 0.000, SSIM: 0.040): 100%|\u001b[36m████████\u001b[0m| 1000/1000 [00:11<00:00, 84.59step/s]\u001b[0m\n"
     ]
    },
    {
     "name": "stdout",
     "output_type": "stream",
     "text": [
      "Final loss: 0.1251908391714096\n",
      "Total Time: Rasterization: 2.715s, Backward: 5.052s\n",
      "Model initialized. Number of Gaussians: 1024\n"
     ]
    },
    {
     "name": "stderr",
     "output_type": "stream",
     "text": [
      "Loss: 0.172 (L1: 0.027, L2: 0.002, SSIM: 0.073): 100%|\u001b[36m████████\u001b[0m| 1000/1000 [00:12<00:00, 81.63step/s]\u001b[0m\n"
     ]
    },
    {
     "name": "stdout",
     "output_type": "stream",
     "text": [
      "Final loss: 0.1712087094783783\n",
      "Total Time: Rasterization: 2.830s, Backward: 5.168s\n",
      "Model initialized. Number of Gaussians: 1024\n"
     ]
    },
    {
     "name": "stderr",
     "output_type": "stream",
     "text": [
      "Loss: 0.179 (L1: 0.030, L2: 0.004, SSIM: 0.063): 100%|\u001b[36m████████\u001b[0m| 1000/1000 [00:12<00:00, 82.41step/s]\u001b[0m\n"
     ]
    },
    {
     "name": "stdout",
     "output_type": "stream",
     "text": [
      "Final loss: 0.1778411567211151\n",
      "Total Time: Rasterization: 2.811s, Backward: 5.121s\n",
      "Model initialized. Number of Gaussians: 1024\n"
     ]
    },
    {
     "name": "stderr",
     "output_type": "stream",
     "text": [
      "Loss: 0.171 (L1: 0.023, L2: 0.001, SSIM: 0.067): 100%|\u001b[36m████████\u001b[0m| 1000/1000 [00:12<00:00, 82.87step/s]\u001b[0m\n"
     ]
    },
    {
     "name": "stdout",
     "output_type": "stream",
     "text": [
      "Final loss: 0.17164084315299988\n",
      "Total Time: Rasterization: 2.809s, Backward: 5.110s\n",
      "Model initialized. Number of Gaussians: 1024\n"
     ]
    },
    {
     "name": "stderr",
     "output_type": "stream",
     "text": [
      "Loss: 0.167 (L1: 0.013, L2: 0.000, SSIM: 0.055): 100%|\u001b[36m████████\u001b[0m| 1000/1000 [00:11<00:00, 83.35step/s]\u001b[0m\n"
     ]
    },
    {
     "name": "stdout",
     "output_type": "stream",
     "text": [
      "Final loss: 0.1667408049106598\n",
      "Total Time: Rasterization: 2.772s, Backward: 5.046s\n",
      "Model initialized. Number of Gaussians: 1024\n"
     ]
    },
    {
     "name": "stderr",
     "output_type": "stream",
     "text": [
      "Loss: 0.237 (L1: 0.031, L2: 0.002, SSIM: 0.152): 100%|\u001b[36m████████\u001b[0m| 1000/1000 [00:11<00:00, 84.99step/s]\u001b[0m\n"
     ]
    },
    {
     "name": "stdout",
     "output_type": "stream",
     "text": [
      "Final loss: 0.23601999878883362\n",
      "Total Time: Rasterization: 2.739s, Backward: 4.970s\n",
      "Model initialized. Number of Gaussians: 1024\n"
     ]
    },
    {
     "name": "stderr",
     "output_type": "stream",
     "text": [
      "Loss: 0.131 (L1: 0.015, L2: 0.001, SSIM: 0.031): 100%|\u001b[36m████████\u001b[0m| 1000/1000 [00:12<00:00, 80.63step/s]\u001b[0m\n"
     ]
    },
    {
     "name": "stdout",
     "output_type": "stream",
     "text": [
      "Final loss: 0.13033565878868103\n",
      "Total Time: Rasterization: 2.876s, Backward: 5.214s\n",
      "Model initialized. Number of Gaussians: 1024\n"
     ]
    },
    {
     "name": "stderr",
     "output_type": "stream",
     "text": [
      "Loss: 0.170 (L1: 0.021, L2: 0.001, SSIM: 0.049): 100%|\u001b[36m████████\u001b[0m| 1000/1000 [00:11<00:00, 83.84step/s]\u001b[0m\n"
     ]
    },
    {
     "name": "stdout",
     "output_type": "stream",
     "text": [
      "Final loss: 0.16983415186405182\n",
      "Total Time: Rasterization: 2.748s, Backward: 5.020s\n",
      "Model initialized. Number of Gaussians: 1024\n"
     ]
    },
    {
     "name": "stderr",
     "output_type": "stream",
     "text": [
      "Loss: 0.171 (L1: 0.017, L2: 0.001, SSIM: 0.064): 100%|\u001b[36m████████\u001b[0m| 1000/1000 [00:11<00:00, 84.12step/s]\u001b[0m\n"
     ]
    },
    {
     "name": "stdout",
     "output_type": "stream",
     "text": [
      "Final loss: 0.1714104861021042\n",
      "Total Time: Rasterization: 2.737s, Backward: 5.043s\n",
      "Model initialized. Number of Gaussians: 1024\n"
     ]
    },
    {
     "name": "stderr",
     "output_type": "stream",
     "text": [
      "Loss: 0.179 (L1: 0.022, L2: 0.001, SSIM: 0.086): 100%|\u001b[36m████████\u001b[0m| 1000/1000 [00:12<00:00, 81.54step/s]\u001b[0m\n"
     ]
    },
    {
     "name": "stdout",
     "output_type": "stream",
     "text": [
      "Final loss: 0.1778232306241989\n",
      "Total Time: Rasterization: 2.832s, Backward: 5.206s\n",
      "Model initialized. Number of Gaussians: 1024\n"
     ]
    },
    {
     "name": "stderr",
     "output_type": "stream",
     "text": [
      "Loss: 0.189 (L1: 0.030, L2: 0.003, SSIM: 0.102): 100%|\u001b[36m████████\u001b[0m| 1000/1000 [00:12<00:00, 82.56step/s]\u001b[0m\n"
     ]
    },
    {
     "name": "stdout",
     "output_type": "stream",
     "text": [
      "Final loss: 0.1888328194618225\n",
      "Total Time: Rasterization: 2.789s, Backward: 5.117s\n",
      "Model initialized. Number of Gaussians: 1024\n"
     ]
    },
    {
     "name": "stderr",
     "output_type": "stream",
     "text": [
      "Loss: 0.180 (L1: 0.026, L2: 0.002, SSIM: 0.093): 100%|\u001b[36m████████\u001b[0m| 1000/1000 [00:11<00:00, 83.50step/s]\u001b[0m\n"
     ]
    },
    {
     "name": "stdout",
     "output_type": "stream",
     "text": [
      "Final loss: 0.18032225966453552\n",
      "Total Time: Rasterization: 2.795s, Backward: 5.072s\n",
      "Model initialized. Number of Gaussians: 1024\n"
     ]
    },
    {
     "name": "stderr",
     "output_type": "stream",
     "text": [
      "Loss: 0.223 (L1: 0.032, L2: 0.003, SSIM: 0.146): 100%|\u001b[36m████████\u001b[0m| 1000/1000 [00:12<00:00, 82.36step/s]\u001b[0m\n"
     ]
    },
    {
     "name": "stdout",
     "output_type": "stream",
     "text": [
      "Final loss: 0.22256875038146973\n",
      "Total Time: Rasterization: 2.835s, Backward: 5.162s\n",
      "Model initialized. Number of Gaussians: 1024\n"
     ]
    },
    {
     "name": "stderr",
     "output_type": "stream",
     "text": [
      "Loss: 0.176 (L1: 0.030, L2: 0.003, SSIM: 0.090): 100%|\u001b[36m████████\u001b[0m| 1000/1000 [00:11<00:00, 83.68step/s]\u001b[0m\n"
     ]
    },
    {
     "name": "stdout",
     "output_type": "stream",
     "text": [
      "Final loss: 0.1769644170999527\n",
      "Total Time: Rasterization: 2.789s, Backward: 5.085s\n",
      "Model initialized. Number of Gaussians: 1024\n"
     ]
    },
    {
     "name": "stderr",
     "output_type": "stream",
     "text": [
      "Loss: 0.193 (L1: 0.042, L2: 0.004, SSIM: 0.135): 100%|\u001b[36m████████\u001b[0m| 1000/1000 [00:11<00:00, 83.71step/s]\u001b[0m\n"
     ]
    },
    {
     "name": "stdout",
     "output_type": "stream",
     "text": [
      "Final loss: 0.19385850429534912\n",
      "Total Time: Rasterization: 2.779s, Backward: 5.070s\n",
      "Model initialized. Number of Gaussians: 1024\n"
     ]
    },
    {
     "name": "stderr",
     "output_type": "stream",
     "text": [
      "Loss: 0.148 (L1: 0.015, L2: 0.001, SSIM: 0.040): 100%|\u001b[36m████████\u001b[0m| 1000/1000 [00:12<00:00, 82.96step/s]\u001b[0m\n"
     ]
    },
    {
     "name": "stdout",
     "output_type": "stream",
     "text": [
      "Final loss: 0.1474795639514923\n",
      "Total Time: Rasterization: 2.807s, Backward: 5.124s\n",
      "Model initialized. Number of Gaussians: 1024\n"
     ]
    },
    {
     "name": "stderr",
     "output_type": "stream",
     "text": [
      "Loss: 0.230 (L1: 0.014, L2: 0.001, SSIM: 0.042):  58%|\u001b[36m█████▏   \u001b[0m| 583/1000 [00:06<00:04, 91.40step/s]\u001b[0m\n"
     ]
    },
    {
     "ename": "KeyboardInterrupt",
     "evalue": "",
     "output_type": "error",
     "traceback": [
      "\u001b[0;31m---------------------------------------------------------------------------\u001b[0m",
      "\u001b[0;31mKeyboardInterrupt\u001b[0m                         Traceback (most recent call last)",
      "\u001b[0;32m/tmp/user/22473/ipykernel_1914174/2914422366.py\u001b[0m in \u001b[0;36m<cell line: 1>\u001b[0;34m()\u001b[0m\n\u001b[1;32m      6\u001b[0m \u001b[0;34m\u001b[0m\u001b[0m\n\u001b[1;32m      7\u001b[0m     \u001b[0;31m# Train and process splat\u001b[0m\u001b[0;34m\u001b[0m\u001b[0;34m\u001b[0m\u001b[0;34m\u001b[0m\u001b[0m\n\u001b[0;32m----> 8\u001b[0;31m     \u001b[0msplat\u001b[0m \u001b[0;34m=\u001b[0m \u001b[0mtrainer\u001b[0m\u001b[0;34m.\u001b[0m\u001b[0mtrain\u001b[0m\u001b[0;34m(\u001b[0m\u001b[0;34m)\u001b[0m\u001b[0;34m\u001b[0m\u001b[0;34m\u001b[0m\u001b[0m\n\u001b[0m\u001b[1;32m      9\u001b[0m     \u001b[0msplat\u001b[0m \u001b[0;34m=\u001b[0m \u001b[0mmerge_spherical_harmonics\u001b[0m\u001b[0;34m(\u001b[0m\u001b[0msplat\u001b[0m\u001b[0;34m)\u001b[0m\u001b[0;34m\u001b[0m\u001b[0;34m\u001b[0m\u001b[0m\n\u001b[1;32m     10\u001b[0m \u001b[0;34m\u001b[0m\u001b[0m\n",
      "\u001b[0;32m~/Projects/visual-representation-learning/models/gaussian_image_trainer.py\u001b[0m in \u001b[0;36mtrain\u001b[0;34m(self)\u001b[0m\n\u001b[1;32m    416\u001b[0m             \u001b[0;32mif\u001b[0m \u001b[0mcfg\u001b[0m\u001b[0;34m.\u001b[0m\u001b[0msh_degree\u001b[0m\u001b[0;34m:\u001b[0m\u001b[0;34m\u001b[0m\u001b[0;34m\u001b[0m\u001b[0m\n\u001b[1;32m    417\u001b[0m                 \u001b[0;32mif\u001b[0m \u001b[0;34m\"shN\"\u001b[0m \u001b[0;32min\u001b[0m \u001b[0mself\u001b[0m\u001b[0;34m.\u001b[0m\u001b[0msplats\u001b[0m\u001b[0;34m:\u001b[0m\u001b[0;34m\u001b[0m\u001b[0;34m\u001b[0m\u001b[0m\n\u001b[0;32m--> 418\u001b[0;31m                     colors = torch.cat(\n\u001b[0m\u001b[1;32m    419\u001b[0m                         [\n\u001b[1;32m    420\u001b[0m                             \u001b[0mself\u001b[0m\u001b[0;34m.\u001b[0m\u001b[0msplats\u001b[0m\u001b[0;34m[\u001b[0m\u001b[0;34m\"sh0\"\u001b[0m\u001b[0;34m]\u001b[0m\u001b[0;34m,\u001b[0m\u001b[0;34m\u001b[0m\u001b[0;34m\u001b[0m\u001b[0m\n",
      "\u001b[0;31mKeyboardInterrupt\u001b[0m: "
     ]
    }
   ],
   "source": [
    "for idx in range(start_idx, end_idx):\n",
    "    image, label = CIFAR10[idx]\n",
    "    \n",
    "    # Initialize trainer with current image\n",
    "    trainer.reinitialize(Config(image=image))\n",
    "    \n",
    "    # Train and process splat\n",
    "    splat = trainer.train()\n",
    "    splat = merge_spherical_harmonics(splat)\n",
    "    \n",
    "    # Save with original dataset index\n",
    "    save_gs_data(\n",
    "        image,\n",
    "        label,\n",
    "        splat,\n",
    "        Path(f\".../{'train' if CIFAR10.train else 'test'}/{idx}.pt\")\n",
    "    )"
   ]
  },
  {
   "cell_type": "code",
   "execution_count": null,
   "metadata": {},
   "outputs": [],
   "source": []
  }
 ],
 "metadata": {
  "kernelspec": {
   "display_name": ".venv",
   "language": "python",
   "name": "python3"
  },
  "language_info": {
   "codemirror_mode": {
    "name": "ipython",
    "version": 3
   },
   "file_extension": ".py",
   "mimetype": "text/x-python",
   "name": "python",
   "nbconvert_exporter": "python",
   "pygments_lexer": "ipython3",
   "version": "3.8.20"
  }
 },
 "nbformat": 4,
 "nbformat_minor": 2
}
