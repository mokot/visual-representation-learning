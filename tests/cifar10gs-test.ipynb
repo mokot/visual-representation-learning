{
 "cells": [
  {
   "cell_type": "code",
   "execution_count": 1,
   "metadata": {},
   "outputs": [],
   "source": [
    "# Note: This is a hack to allow importing from the parent directory\n",
    "import sys\n",
    "from pathlib import Path\n",
    "\n",
    "sys.path.append(str(Path().resolve().parent))"
   ]
  },
  {
   "cell_type": "code",
   "execution_count": 2,
   "metadata": {},
   "outputs": [],
   "source": [
    "import torch\n",
    "from configs import Config\n",
    "from torchvision import datasets\n",
    "from models import GaussianImageTrainer\n",
    "from constants import CIFAR10_TRANSFORM\n",
    "from utils import (\n",
    "    generate_random_splat,\n",
    "    merge_spherical_harmonics,\n",
    "    save_gs_data,\n",
    "    load_gs_data,\n",
    "    tensor_to_image,\n",
    ")"
   ]
  },
  {
   "cell_type": "code",
   "execution_count": 3,
   "metadata": {},
   "outputs": [
    {
     "name": "stdout",
     "output_type": "stream",
     "text": [
      "Files already downloaded and verified\n",
      "<PIL.Image.Image image mode=RGB size=32x32 at 0x7ADAC6FF89D0> 6 ParameterDict(\n",
      "    (Ks): Parameter containing: [torch.FloatTensor of size 3x3]\n",
      "    (color): Parameter containing: [torch.FloatTensor of size 1024x3]\n",
      "    (mean): Parameter containing: [torch.FloatTensor of size 1024x3]\n",
      "    (opacity): Parameter containing: [torch.FloatTensor of size 1024x1]\n",
      "    (quat): Parameter containing: [torch.FloatTensor of size 1024x4]\n",
      "    (scale): Parameter containing: [torch.FloatTensor of size 1024x3]\n",
      "    (sh0): Parameter containing: [torch.FloatTensor of size 1024x1]\n",
      "    (shN): Parameter containing: [torch.FloatTensor of size 1024x2]\n",
      "    (viewmat): Parameter containing: [torch.FloatTensor of size 4x4]\n",
      ")\n",
      "<PIL.PngImagePlugin.PngImageFile image mode=RGB size=32x32 at 0x7ADAC701B190> 6 ParameterDict(\n",
      "    (Ks): Parameter containing: [torch.FloatTensor of size 3x3]\n",
      "    (color): Parameter containing: [torch.FloatTensor of size 1024x3]\n",
      "    (mean): Parameter containing: [torch.FloatTensor of size 1024x3]\n",
      "    (opacity): Parameter containing: [torch.FloatTensor of size 1024x1]\n",
      "    (quat): Parameter containing: [torch.FloatTensor of size 1024x4]\n",
      "    (scale): Parameter containing: [torch.FloatTensor of size 1024x3]\n",
      "    (viewmat): Parameter containing: [torch.FloatTensor of size 4x4]\n",
      ")\n"
     ]
    }
   ],
   "source": [
    "NUM_POINTS = 1024  # 32x32\n",
    "CIFAR10 = datasets.CIFAR10(\n",
    "    root=\"../data/CIFAR10/train\",\n",
    "    train=True,\n",
    "    download=True,\n",
    "    transform=CIFAR10_TRANSFORM,\n",
    ")\n",
    "means, quats, scales, opacities, colors, viewmats, Ks, sh0, shN = generate_random_splat(\n",
    "    NUM_POINTS\n",
    ")\n",
    "image = tensor_to_image(CIFAR10[0][0])\n",
    "label = CIFAR10[0][1]\n",
    "splat = torch.nn.ParameterDict(\n",
    "    {\n",
    "        \"mean\": torch.nn.Parameter(means),\n",
    "        \"quat\": torch.nn.Parameter(quats),\n",
    "        \"scale\": torch.nn.Parameter(scales),\n",
    "        \"opacity\": torch.nn.Parameter(opacities),\n",
    "        \"color\": torch.nn.Parameter(colors),\n",
    "        \"viewmat\": torch.nn.Parameter(viewmats),\n",
    "        \"Ks\": torch.nn.Parameter(Ks),\n",
    "        \"sh0\": torch.nn.Parameter(sh0),\n",
    "        \"shN\": torch.nn.Parameter(shN),\n",
    "    }\n",
    ")\n",
    "print(image, label, splat)\n",
    "\n",
    "splat = merge_spherical_harmonics(splat)\n",
    "save_gs_data(image, label, splat, Path(\"test.pt\"))\n",
    "image, label, splat = load_gs_data(Path(\"test.pt\"))\n",
    "print(image, label, splat)"
   ]
  },
  {
   "cell_type": "code",
   "execution_count": null,
   "metadata": {},
   "outputs": [],
   "source": [
    "# Example on how the CIFAR10GS dataset should be created\n",
    "trainer = GaussianImageTrainer(Config())\n",
    "for index, (image, label) in enumerate(CIFAR10):\n",
    "    trainer.reinitialize(Config(image=image))\n",
    "\n",
    "    splat = trainer.train()\n",
    "    splat = merge_spherical_harmonics(splat)\n",
    "\n",
    "    save_gs_data(\n",
    "        image,\n",
    "        label,\n",
    "        splat,\n",
    "        Path(f\".../{'train' if CIFAR10.train else 'test'}/{index}.pt\"),\n",
    "    )\n",
    "    break"
   ]
  }
 ],
 "metadata": {
  "kernelspec": {
   "display_name": ".venv",
   "language": "python",
   "name": "python3"
  },
  "language_info": {
   "codemirror_mode": {
    "name": "ipython",
    "version": 3
   },
   "file_extension": ".py",
   "mimetype": "text/x-python",
   "name": "python",
   "nbconvert_exporter": "python",
   "pygments_lexer": "ipython3",
   "version": "3.11.10"
  }
 },
 "nbformat": 4,
 "nbformat_minor": 2
}
