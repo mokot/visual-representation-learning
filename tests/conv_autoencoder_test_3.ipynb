{
  "cells": [
    {
      "cell_type": "code",
      "execution_count": 1,
      "metadata": {},
      "outputs": [],
      "source": [
        "# Note: This is a hack to allow importing from the parent directory\n",
        "import sys\n",
        "from pathlib import Path\n",
        "\n",
        "sys.path.append(str(Path().resolve().parent))\n",
        "\n",
        "# Note: Ignore warnings, be brave (YoLo)\n",
        "import warnings\n",
        "\n",
        "warnings.filterwarnings(\"ignore\")"
      ]
    },
    {
      "cell_type": "code",
      "execution_count": 2,
      "metadata": {},
      "outputs": [],
      "source": [
        "import torch\n",
        "import optuna\n",
        "import torch.nn as nn\n",
        "import torch.optim as optim\n",
        "from models import ConvAutoencoder\n",
        "from data import CIFAR10GaussianSplatsDataset\n",
        "from utils import train, transform_and_collate\n",
        "\n",
        "results_path = Path(\"../logs/conv_autoencoder_test_3/\")\n",
        "results_path.mkdir(parents=True, exist_ok=True)\n",
        "\n",
        "# Use separate model for each part of the splat\n",
        "channels_dim = {\"means\": 3, \"quats\": 4, \"scales\": 3, \"opacities\": 1, \"colors\": 12}\n",
        "join_mode = \"dict\"\n",
        "\n",
        "train_dataset = CIFAR10GaussianSplatsDataset(\n",
        "    root=\"../data/CIFAR10GS\",\n",
        "    train=True,\n",
        "    init_type=\"grid\",\n",
        ")\n",
        "val_dataset = CIFAR10GaussianSplatsDataset(\n",
        "    root=\"../data/CIFAR10GS\",\n",
        "    val=True,\n",
        "    init_type=\"grid\",\n",
        ")"
      ]
    },
    {
      "cell_type": "code",
      "execution_count": null,
      "metadata": {},
      "outputs": [
        {
          "name": "stderr",
          "output_type": "stream",
          "text": [
            "[I 2025-01-19 21:12:27,099] A new study created in memory with name: conv_autoencoder_test_3/means\n"
          ]
        },
        {
          "name": "stdout",
          "output_type": "stream",
          "text": [
            "Processing parameter: means\n"
          ]
        },
        {
          "name": "stderr",
          "output_type": "stream",
          "text": [
            "Epoch 1/1: 100%|██████████| 9/9 [00:20<00:00,  2.32s/batch]\n",
            "[I 2025-01-19 21:12:55,282] Trial 0 finished with value: 0.34991193811098736 and parameters: {'lr': 0.1, 'weight_decay': 0.1, 'loss_fn': <class 'torch.nn.modules.loss.L1Loss'>, 'epochs': 1, 'grad_clip': 1.0, 'weight_init': True}. Best is trial 0 with value: 0.34991193811098736.\n",
            "[I 2025-01-19 21:12:55,288] A new study created in memory with name: conv_autoencoder_test_3/quats\n"
          ]
        },
        {
          "name": "stdout",
          "output_type": "stream",
          "text": [
            "Epoch 1/1 | Train Loss: 0.3619 | Val Loss: 0.3499\n",
            "Train Loss: 0.3619 | Val Loss: 0.3499 | Training time: 26.14s\n",
            "Best trial:FrozenTrial(number=0, state=1, values=[0.34991193811098736], datetime_start=datetime.datetime(2025, 1, 19, 21, 12, 27, 103615), datetime_complete=datetime.datetime(2025, 1, 19, 21, 12, 55, 280931), params={'lr': 0.1, 'weight_decay': 0.1, 'loss_fn': <class 'torch.nn.modules.loss.L1Loss'>, 'epochs': 1, 'grad_clip': 1.0, 'weight_init': True}, user_attrs={}, system_attrs={}, intermediate_values={}, distributions={'lr': FloatDistribution(high=0.1, log=True, low=0.1, step=None), 'weight_decay': FloatDistribution(high=0.1, log=True, low=0.1, step=None), 'loss_fn': CategoricalDistribution(choices=(<class 'torch.nn.modules.loss.L1Loss'>,)), 'epochs': IntDistribution(high=1, log=False, low=1, step=1), 'grad_clip': FloatDistribution(high=1.0, log=False, low=1.0, step=None), 'weight_init': CategoricalDistribution(choices=(True,))}, trial_id=0, value=None)\n",
            "Processing parameter: quats\n"
          ]
        },
        {
          "name": "stderr",
          "output_type": "stream",
          "text": [
            "Epoch 1/1: 100%|██████████| 9/9 [00:30<00:00,  3.43s/batch]\n",
            "[I 2025-01-19 21:13:38,970] Trial 0 finished with value: 0.2928269604841868 and parameters: {'lr': 0.1, 'weight_decay': 0.1, 'loss_fn': <class 'torch.nn.modules.loss.L1Loss'>, 'epochs': 1, 'grad_clip': 1.0, 'weight_init': True}. Best is trial 0 with value: 0.2928269604841868.\n",
            "[I 2025-01-19 21:13:38,982] A new study created in memory with name: conv_autoencoder_test_3/scales\n"
          ]
        },
        {
          "name": "stdout",
          "output_type": "stream",
          "text": [
            "Epoch 1/1 | Train Loss: 0.2960 | Val Loss: 0.2928\n",
            "Train Loss: 0.2960 | Val Loss: 0.2928 | Training time: 43.65s\n",
            "Best trial:FrozenTrial(number=0, state=1, values=[0.2928269604841868], datetime_start=datetime.datetime(2025, 1, 19, 21, 12, 55, 294281), datetime_complete=datetime.datetime(2025, 1, 19, 21, 13, 38, 970394), params={'lr': 0.1, 'weight_decay': 0.1, 'loss_fn': <class 'torch.nn.modules.loss.L1Loss'>, 'epochs': 1, 'grad_clip': 1.0, 'weight_init': True}, user_attrs={}, system_attrs={}, intermediate_values={}, distributions={'lr': FloatDistribution(high=0.1, log=True, low=0.1, step=None), 'weight_decay': FloatDistribution(high=0.1, log=True, low=0.1, step=None), 'loss_fn': CategoricalDistribution(choices=(<class 'torch.nn.modules.loss.L1Loss'>,)), 'epochs': IntDistribution(high=1, log=False, low=1, step=1), 'grad_clip': FloatDistribution(high=1.0, log=False, low=1.0, step=None), 'weight_init': CategoricalDistribution(choices=(True,))}, trial_id=0, value=None)\n",
            "Processing parameter: scales\n"
          ]
        },
        {
          "name": "stderr",
          "output_type": "stream",
          "text": [
            "Epoch 1/1: 100%|██████████| 9/9 [00:01<00:00,  6.48batch/s]\n",
            "[I 2025-01-19 21:13:40,948] Trial 0 finished with value: 0.38455350200335187 and parameters: {'lr': 0.1, 'weight_decay': 0.1, 'loss_fn': <class 'torch.nn.modules.loss.L1Loss'>, 'epochs': 1, 'grad_clip': 1.0, 'weight_init': True}. Best is trial 0 with value: 0.38455350200335187.\n",
            "[I 2025-01-19 21:13:40,951] A new study created in memory with name: conv_autoencoder_test_3/opacities\n"
          ]
        },
        {
          "name": "stdout",
          "output_type": "stream",
          "text": [
            "Epoch 1/1 | Train Loss: 0.4072 | Val Loss: 0.3846\n",
            "Train Loss: 0.4072 | Val Loss: 0.3846 | Training time: 1.95s\n",
            "Best trial:FrozenTrial(number=0, state=1, values=[0.38455350200335187], datetime_start=datetime.datetime(2025, 1, 19, 21, 13, 38, 983911), datetime_complete=datetime.datetime(2025, 1, 19, 21, 13, 40, 947764), params={'lr': 0.1, 'weight_decay': 0.1, 'loss_fn': <class 'torch.nn.modules.loss.L1Loss'>, 'epochs': 1, 'grad_clip': 1.0, 'weight_init': True}, user_attrs={}, system_attrs={}, intermediate_values={}, distributions={'lr': FloatDistribution(high=0.1, log=True, low=0.1, step=None), 'weight_decay': FloatDistribution(high=0.1, log=True, low=0.1, step=None), 'loss_fn': CategoricalDistribution(choices=(<class 'torch.nn.modules.loss.L1Loss'>,)), 'epochs': IntDistribution(high=1, log=False, low=1, step=1), 'grad_clip': FloatDistribution(high=1.0, log=False, low=1.0, step=None), 'weight_init': CategoricalDistribution(choices=(True,))}, trial_id=0, value=None)\n",
            "Processing parameter: opacities\n"
          ]
        },
        {
          "name": "stderr",
          "output_type": "stream",
          "text": [
            "Epoch 1/1: 100%|██████████| 9/9 [00:21<00:00,  2.37s/batch]\n",
            "W0119 21:14:02.847000 681639 torch/_dynamo/convert_frame.py:844] [0/8] torch._dynamo hit config.cache_size_limit (8)\n",
            "W0119 21:14:02.847000 681639 torch/_dynamo/convert_frame.py:844] [0/8]    function: 'forward' (/home/mokot/LMU/VisualRepresentationLearning/Project/models/abstract_autoencoder.py:18)\n",
            "W0119 21:14:02.847000 681639 torch/_dynamo/convert_frame.py:844] [0/8]    last reason: 0/0: GLOBAL_STATE changed: grad_mode \n",
            "W0119 21:14:02.847000 681639 torch/_dynamo/convert_frame.py:844] [0/8] To log all recompilation reasons, use TORCH_LOGS=\"recompiles\".\n",
            "W0119 21:14:02.847000 681639 torch/_dynamo/convert_frame.py:844] [0/8] To diagnose recompilation issues, see https://pytorch.org/docs/main/torch.compiler_troubleshooting.html.\n",
            "[I 2025-01-19 21:14:03,039] Trial 0 finished with value: 0.1789642870426178 and parameters: {'lr': 0.1, 'weight_decay': 0.1, 'loss_fn': <class 'torch.nn.modules.loss.L1Loss'>, 'epochs': 1, 'grad_clip': 1.0, 'weight_init': True}. Best is trial 0 with value: 0.1789642870426178.\n",
            "[I 2025-01-19 21:14:03,044] A new study created in memory with name: conv_autoencoder_test_3/colors\n"
          ]
        },
        {
          "name": "stdout",
          "output_type": "stream",
          "text": [
            "Epoch 1/1 | Train Loss: 0.2905 | Val Loss: 0.1790\n",
            "Train Loss: 0.2905 | Val Loss: 0.1790 | Training time: 22.07s\n",
            "Best trial:FrozenTrial(number=0, state=1, values=[0.1789642870426178], datetime_start=datetime.datetime(2025, 1, 19, 21, 13, 40, 953196), datetime_complete=datetime.datetime(2025, 1, 19, 21, 14, 3, 38867), params={'lr': 0.1, 'weight_decay': 0.1, 'loss_fn': <class 'torch.nn.modules.loss.L1Loss'>, 'epochs': 1, 'grad_clip': 1.0, 'weight_init': True}, user_attrs={}, system_attrs={}, intermediate_values={}, distributions={'lr': FloatDistribution(high=0.1, log=True, low=0.1, step=None), 'weight_decay': FloatDistribution(high=0.1, log=True, low=0.1, step=None), 'loss_fn': CategoricalDistribution(choices=(<class 'torch.nn.modules.loss.L1Loss'>,)), 'epochs': IntDistribution(high=1, log=False, low=1, step=1), 'grad_clip': FloatDistribution(high=1.0, log=False, low=1.0, step=None), 'weight_init': CategoricalDistribution(choices=(True,))}, trial_id=0, value=None)\n",
            "Processing parameter: colors\n"
          ]
        },
        {
          "name": "stderr",
          "output_type": "stream",
          "text": [
            "Epoch 1/1: 100%|██████████| 9/9 [00:01<00:00,  4.93batch/s]\n",
            "[I 2025-01-19 21:14:05,642] Trial 0 finished with value: 0.24367456634839377 and parameters: {'lr': 0.1, 'weight_decay': 0.1, 'loss_fn': <class 'torch.nn.modules.loss.L1Loss'>, 'epochs': 1, 'grad_clip': 1.0, 'weight_init': True}. Best is trial 0 with value: 0.24367456634839377.\n"
          ]
        },
        {
          "name": "stdout",
          "output_type": "stream",
          "text": [
            "Epoch 1/1 | Train Loss: 0.2490 | Val Loss: 0.2437\n",
            "Train Loss: 0.2490 | Val Loss: 0.2437 | Training time: 2.58s\n",
            "Best trial:FrozenTrial(number=0, state=1, values=[0.24367456634839377], datetime_start=datetime.datetime(2025, 1, 19, 21, 14, 3, 46204), datetime_complete=datetime.datetime(2025, 1, 19, 21, 14, 5, 641032), params={'lr': 0.1, 'weight_decay': 0.1, 'loss_fn': <class 'torch.nn.modules.loss.L1Loss'>, 'epochs': 1, 'grad_clip': 1.0, 'weight_init': True}, user_attrs={}, system_attrs={}, intermediate_values={}, distributions={'lr': FloatDistribution(high=0.1, log=True, low=0.1, step=None), 'weight_decay': FloatDistribution(high=0.1, log=True, low=0.1, step=None), 'loss_fn': CategoricalDistribution(choices=(<class 'torch.nn.modules.loss.L1Loss'>,)), 'epochs': IntDistribution(high=1, log=False, low=1, step=1), 'grad_clip': FloatDistribution(high=1.0, log=False, low=1.0, step=None), 'weight_init': CategoricalDistribution(choices=(True,))}, trial_id=0, value=None)\n"
          ]
        }
      ],
      "source": [
        "def objective(trial, param: str, dim: int):\n",
        "    # Define hyperparameter search space\n",
        "    lr = trial.suggest_loguniform(\"lr\", 1e-5, 1e-2)\n",
        "    weight_decay = trial.suggest_loguniform(\"weight_decay\", 1e-6, 1e-3)\n",
        "    epochs = trial.suggest_categorical(\"epochs\", [10, 25, 50])\n",
        "    grad_clip = trial.suggest_uniform(\"grad_clip\", 0.5, 2.0)\n",
        "    weight_init = trial.suggest_categorical(\"weight_init\", [True, False])\n",
        "\n",
        "    # Define train parameters\n",
        "    model = ConvAutoencoder(channels_dim=dim, weight_init=weight_init)\n",
        "    train_loader = torch.utils.data.DataLoader(\n",
        "        train_dataset,\n",
        "        batch_size=32,\n",
        "        shuffle=True,\n",
        "        num_workers=4,\n",
        "        collate_fn=lambda batch: transform_and_collate(batch, join_mode, param),\n",
        "    )\n",
        "    val_loader = torch.utils.data.DataLoader(\n",
        "        val_dataset,\n",
        "        batch_size=32,\n",
        "        shuffle=False,\n",
        "        num_workers=4,\n",
        "        collate_fn=lambda batch: transform_and_collate(batch, join_mode, param),\n",
        "    )\n",
        "    optimizer = optim.Adam(model.parameters(), lr=lr, weight_decay=weight_decay)\n",
        "    criterion = nn.MSELoss()\n",
        "    epochs = epochs\n",
        "    device = torch.device(\"cuda\" if torch.cuda.is_available() else \"cpu\")\n",
        "    scheduler = optim.lr_scheduler.ReduceLROnPlateau(optimizer, \"min\", patience=5)\n",
        "    grad_clip = grad_clip\n",
        "    compile_model = True\n",
        "\n",
        "    results = train(\n",
        "        model=model,\n",
        "        train_loader=train_loader,\n",
        "        val_loader=val_loader,\n",
        "        optimizer=optimizer,\n",
        "        criterion=criterion,\n",
        "        epochs=epochs,\n",
        "        device=device,\n",
        "        scheduler=scheduler,\n",
        "        grad_clip=grad_clip,\n",
        "        logger=print,\n",
        "        compile_model=compile_model,\n",
        "        model_path=results_path / param / \"model.pt\",\n",
        "    )\n",
        "    return results[\"val_loss\"][-1]\n",
        "\n",
        "\n",
        "for param, dim in channels_dim.items():\n",
        "    print(\"Processing parameter:\", param)\n",
        "    param_path = results_path / param\n",
        "    param_path.mkdir(parents=True, exist_ok=True)\n",
        "\n",
        "    # Run hyperparameter search\n",
        "    study = optuna.create_study(\n",
        "        direction=\"minimize\",\n",
        "        study_name=f\"conv_autoencoder_test_3/{param}\",\n",
        "        pruner=optuna.pruners.MedianPruner(n_warmup_steps=5),\n",
        "    )\n",
        "    study.optimize(lambda trial: objective(trial, param, dim), n_trials=100, n_jobs=1)\n",
        "    print(f\"Best trial:{study.best_trial}\")\n",
        "    with open(param_path / \"best_trial.txt\", \"w\") as f:\n",
        "        f.write(f\"Best trial:{study.best_trial}\")\n",
        "    optuna.visualization.plot_optimization_history(study).write_image(\n",
        "        str(results_path / param / \"opt_history.png\")\n",
        "    )\n",
        "    optuna.visualization.plot_param_importance(study).write_image(\n",
        "        str(results_path / param / \"param_importance.png\")\n",
        "    )"
      ]
    }
  ],
  "metadata": {
    "kernelspec": {
      "display_name": ".venv",
      "language": "python",
      "name": "python3"
    },
    "language_info": {
      "codemirror_mode": {
        "name": "ipython",
        "version": 3
      },
      "file_extension": ".py",
      "mimetype": "text/x-python",
      "name": "python",
      "nbconvert_exporter": "python",
      "pygments_lexer": "ipython3",
      "version": "3.11.10"
    }
  },
  "nbformat": 4,
  "nbformat_minor": 2
}
