{
 "cells": [
  {
   "cell_type": "code",
   "execution_count": 1,
   "metadata": {},
   "outputs": [],
   "source": [
    "# Note: This is a hack to allow importing from the parent directory\n",
    "import sys\n",
    "from pathlib import Path\n",
    "\n",
    "sys.path.append(str(Path().resolve().parent))\n",
    "\n",
    "from models import GaussianImageTrainer"
   ]
  },
  {
   "cell_type": "code",
   "execution_count": 2,
   "metadata": {},
   "outputs": [],
   "source": [
    "from constants import GRID_SEARCH_SPACE_TEST\n",
    "from models import GaussianImageTrainer\n",
    "from utils import collect_class_images, load_cifar10, generate_grid_search_combinations"
   ]
  },
  {
   "cell_type": "code",
   "execution_count": 35,
   "metadata": {},
   "outputs": [
    {
     "data": {
      "text/plain": [
       "[{'max_steps': 250, 'learning_rate': None},\n",
       " {'max_steps': 250, 'learning_rate': 0.0001},\n",
       " {'max_steps': 250, 'learning_rate': 0.001},\n",
       " {'max_steps': 250, 'learning_rate': 0.01},\n",
       " {'max_steps': 250, 'learning_rate': 0.1},\n",
       " {'max_steps': 500, 'learning_rate': None},\n",
       " {'max_steps': 500, 'learning_rate': 0.0001},\n",
       " {'max_steps': 500, 'learning_rate': 0.001},\n",
       " {'max_steps': 500, 'learning_rate': 0.01},\n",
       " {'max_steps': 500, 'learning_rate': 0.1},\n",
       " {'max_steps': 1000, 'learning_rate': None},\n",
       " {'max_steps': 1000, 'learning_rate': 0.0001},\n",
       " {'max_steps': 1000, 'learning_rate': 0.001},\n",
       " {'max_steps': 1000, 'learning_rate': 0.01},\n",
       " {'max_steps': 1000, 'learning_rate': 0.1},\n",
       " {'max_steps': 2500, 'learning_rate': None},\n",
       " {'max_steps': 2500, 'learning_rate': 0.0001},\n",
       " {'max_steps': 2500, 'learning_rate': 0.001},\n",
       " {'max_steps': 2500, 'learning_rate': 0.01},\n",
       " {'max_steps': 2500, 'learning_rate': 0.1},\n",
       " {'max_steps': 5000, 'learning_rate': None},\n",
       " {'max_steps': 5000, 'learning_rate': 0.0001},\n",
       " {'max_steps': 5000, 'learning_rate': 0.001},\n",
       " {'max_steps': 5000, 'learning_rate': 0.01},\n",
       " {'max_steps': 5000, 'learning_rate': 0.1},\n",
       " {'max_steps': 10000, 'learning_rate': None},\n",
       " {'max_steps': 10000, 'learning_rate': 0.0001},\n",
       " {'max_steps': 10000, 'learning_rate': 0.001},\n",
       " {'max_steps': 10000, 'learning_rate': 0.01},\n",
       " {'max_steps': 10000, 'learning_rate': 0.1}]"
      ]
     },
     "execution_count": 35,
     "metadata": {},
     "output_type": "execute_result"
    }
   ],
   "source": [
    "generate_grid_search_combinations(GRID_SEARCH_SPACE_TEST, GaussianImageTrainer)"
   ]
  },
  {
   "cell_type": "code",
   "execution_count": 3,
   "metadata": {},
   "outputs": [
    {
     "ename": "ModuleNotFoundError",
     "evalue": "No module named 'gsplat.optimizers'",
     "output_type": "error",
     "traceback": [
      "\u001b[0;31m---------------------------------------------------------------------------\u001b[0m",
      "\u001b[0;31mModuleNotFoundError\u001b[0m                       Traceback (most recent call last)",
      "Cell \u001b[0;32mIn[3], line 1\u001b[0m\n\u001b[0;32m----> 1\u001b[0m \u001b[38;5;28;01mfrom\u001b[39;00m \u001b[38;5;21;01mmodels\u001b[39;00m \u001b[38;5;28;01mimport\u001b[39;00m GaussianImageTrainer\n\u001b[1;32m      2\u001b[0m \u001b[38;5;28;01mfrom\u001b[39;00m \u001b[38;5;21;01mutils\u001b[39;00m \u001b[38;5;28;01mimport\u001b[39;00m generate_grid_search_combinations\n\u001b[1;32m      3\u001b[0m \u001b[38;5;28;01mfrom\u001b[39;00m \u001b[38;5;21;01mconstants\u001b[39;00m \u001b[38;5;28;01mimport\u001b[39;00m GRID_SEARCH_SPACE_TEST_0\n",
      "File \u001b[0;32m~/LMU/VisualRepresentationLearning/Project/models/__init__.py:1\u001b[0m\n\u001b[0;32m----> 1\u001b[0m \u001b[38;5;28;01mfrom\u001b[39;00m \u001b[38;5;21;01m.\u001b[39;00m\u001b[38;5;21;01mgaussian_image_trainer\u001b[39;00m \u001b[38;5;28;01mimport\u001b[39;00m GaussianImageTrainer\n\u001b[1;32m      3\u001b[0m __all__ \u001b[38;5;241m=\u001b[39m [\u001b[38;5;124m\"\u001b[39m\u001b[38;5;124mGaussianImageTrainer\u001b[39m\u001b[38;5;124m\"\u001b[39m]\n",
      "File \u001b[0;32m~/LMU/VisualRepresentationLearning/Project/models/gaussian_image_trainer.py:6\u001b[0m\n\u001b[1;32m      4\u001b[0m \u001b[38;5;28;01mimport\u001b[39;00m \u001b[38;5;21;01mnumpy\u001b[39;00m \u001b[38;5;28;01mas\u001b[39;00m \u001b[38;5;21;01mnp\u001b[39;00m\n\u001b[1;32m      5\u001b[0m \u001b[38;5;28;01mfrom\u001b[39;00m \u001b[38;5;21;01mpathlib\u001b[39;00m \u001b[38;5;28;01mimport\u001b[39;00m Path\n\u001b[0;32m----> 6\u001b[0m \u001b[38;5;28;01mfrom\u001b[39;00m \u001b[38;5;21;01mgsplat\u001b[39;00m\u001b[38;5;21;01m.\u001b[39;00m\u001b[38;5;21;01moptimizers\u001b[39;00m \u001b[38;5;28;01mimport\u001b[39;00m SelectiveAdam\n\u001b[1;32m      7\u001b[0m \u001b[38;5;28;01mfrom\u001b[39;00m \u001b[38;5;21;01mconfigs\u001b[39;00m \u001b[38;5;28;01mimport\u001b[39;00m get_progress_bar, Config\n\u001b[1;32m      8\u001b[0m \u001b[38;5;28;01mfrom\u001b[39;00m \u001b[38;5;21;01mtorch\u001b[39;00m\u001b[38;5;21;01m.\u001b[39;00m\u001b[38;5;21;01mutils\u001b[39;00m\u001b[38;5;21;01m.\u001b[39;00m\u001b[38;5;21;01mtensorboard\u001b[39;00m \u001b[38;5;28;01mimport\u001b[39;00m SummaryWriter\n",
      "\u001b[0;31mModuleNotFoundError\u001b[0m: No module named 'gsplat.optimizers'"
     ]
    }
   ],
   "source": [
    "from models import GaussianImageTrainer\n",
    "from utils import generate_grid_search_combinations\n",
    "from constants import GRID_SEARCH_SPACE_TEST_0\n",
    "from configs import Config\n",
    "\n",
    "for hyperparameters in generate_grid_search_combinations(GRID_SEARCH_SPACE_TEST_0):\n",
    "    print(hyperparameters)\n",
    "    for label, images in class_images.items():\n",
    "        print(f\"Training Gaussian model for class {label}\")\n",
    "        for index, image in enumerate(images):\n",
    "            config = Config(**hyperparameters)\n",
    "            config.image = image\n",
    "            model = GaussianImageTrainer(config)\n",
    "            model.train()\n",
    "            # Create a new trainer object for each iteration!\n",
    "            # train(\n",
    "            #     height=32,\n",
    "            #     width=32,\n",
    "            #     num_points=1024,\n",
    "            #     results_path=Path(f\"label_{label}_image_{index}\"),\n",
    "            #     iterations=1000,\n",
    "            # )\n",
    "            break\n",
    "        break"
   ]
  },
  {
   "cell_type": "code",
   "execution_count": null,
   "metadata": {},
   "outputs": [],
   "source": [
    "!pip install tensorboard\\"
   ]
  },
  {
   "cell_type": "code",
   "execution_count": null,
   "metadata": {},
   "outputs": [],
   "source": [
    "# 1. import contanct for gird search\n",
    "# 2. grid search\n",
    "# 3. save results -> config_test_1"
   ]
  },
  {
   "cell_type": "code",
   "execution_count": null,
   "metadata": {},
   "outputs": [],
   "source": []
  }
 ],
 "metadata": {
  "kernelspec": {
   "display_name": ".venv",
   "language": "python",
   "name": "python3"
  },
  "language_info": {
   "codemirror_mode": {
    "name": "ipython",
    "version": 3
   },
   "file_extension": ".py",
   "mimetype": "text/x-python",
   "name": "python",
   "nbconvert_exporter": "python",
   "pygments_lexer": "ipython3",
   "version": "3.11.10"
  }
 },
 "nbformat": 4,
 "nbformat_minor": 4
}
