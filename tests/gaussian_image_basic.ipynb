{
 "cells": [
  {
   "cell_type": "code",
   "execution_count": 2,
   "metadata": {},
   "outputs": [],
   "source": [
    "# Note: This is a hack to allow importing from the parent directory\n",
    "import sys\n",
    "from pathlib import Path\n",
    "\n",
    "sys.path.append(str(Path().resolve().parent))"
   ]
  },
  {
   "cell_type": "code",
   "execution_count": 7,
   "metadata": {},
   "outputs": [],
   "source": [
    "from models import train\n",
    "from utils import load_cifar10"
   ]
  },
  {
   "cell_type": "code",
   "execution_count": null,
   "metadata": {},
   "outputs": [],
   "source": [
    "print(\"Training Gaussians for default image...\")\n",
    "train(results_path=Path(\"test_default\"))"
   ]
  },
  {
   "cell_type": "code",
   "execution_count": 6,
   "metadata": {},
   "outputs": [
    {
     "name": "stdout",
     "output_type": "stream",
     "text": [
      "Files already downloaded and verified\n"
     ]
    },
    {
     "data": {
      "text/plain": [
       "tensor([[[[0.2314, 0.2431, 0.2471],\n",
       "          [0.1686, 0.1804, 0.1765],\n",
       "          [0.1961, 0.1882, 0.1686],\n",
       "          ...,\n",
       "          [0.6196, 0.5176, 0.4235],\n",
       "          [0.5961, 0.4902, 0.4000],\n",
       "          [0.5804, 0.4863, 0.4039]],\n",
       "\n",
       "         [[0.0627, 0.0784, 0.0784],\n",
       "          [0.0000, 0.0000, 0.0000],\n",
       "          [0.0706, 0.0314, 0.0000],\n",
       "          ...,\n",
       "          [0.4824, 0.3451, 0.2157],\n",
       "          [0.4667, 0.3255, 0.1961],\n",
       "          [0.4784, 0.3412, 0.2235]],\n",
       "\n",
       "         [[0.0980, 0.0941, 0.0824],\n",
       "          [0.0627, 0.0275, 0.0000],\n",
       "          [0.1922, 0.1059, 0.0314],\n",
       "          ...,\n",
       "          [0.4627, 0.3294, 0.1961],\n",
       "          [0.4706, 0.3294, 0.1961],\n",
       "          [0.4275, 0.2863, 0.1647]],\n",
       "\n",
       "         ...,\n",
       "\n",
       "         [[0.8157, 0.6667, 0.3765],\n",
       "          [0.7882, 0.6000, 0.1333],\n",
       "          [0.7765, 0.6314, 0.1020],\n",
       "          ...,\n",
       "          [0.6275, 0.5216, 0.2745],\n",
       "          [0.2196, 0.1216, 0.0275],\n",
       "          [0.2078, 0.1333, 0.0784]],\n",
       "\n",
       "         [[0.7059, 0.5451, 0.3765],\n",
       "          [0.6784, 0.4824, 0.1647],\n",
       "          [0.7294, 0.5647, 0.1176],\n",
       "          ...,\n",
       "          [0.7216, 0.5804, 0.3686],\n",
       "          [0.3804, 0.2431, 0.1333],\n",
       "          [0.3255, 0.2078, 0.1333]],\n",
       "\n",
       "         [[0.6941, 0.5647, 0.4549],\n",
       "          [0.6588, 0.5059, 0.3686],\n",
       "          [0.7020, 0.5569, 0.3412],\n",
       "          ...,\n",
       "          [0.8471, 0.7216, 0.5490],\n",
       "          [0.5922, 0.4627, 0.3294],\n",
       "          [0.4824, 0.3608, 0.2824]]]])"
      ]
     },
     "execution_count": 6,
     "metadata": {},
     "output_type": "execute_result"
    }
   ],
   "source": [
    "# Load CIFAR-10 training data\n",
    "dataloader = load_cifar10(batch_size=1, shuffle=False, train=True, data_root=\"../data\")\n",
    "\n",
    "print(\"Training Gaussians for CIFAR-10 image...\")\n",
    "train(image=next(iter(dataloader))[0], results_path=Path(\"test_cifar10\"))"
   ]
  }
 ],
 "metadata": {
  "kernelspec": {
   "display_name": ".venv",
   "language": "python",
   "name": "python3"
  },
  "language_info": {
   "codemirror_mode": {
    "name": "ipython",
    "version": 3
   },
   "file_extension": ".py",
   "mimetype": "text/x-python",
   "name": "python",
   "nbconvert_exporter": "python",
   "pygments_lexer": "ipython3",
   "version": "3.11.10"
  }
 },
 "nbformat": 4,
 "nbformat_minor": 2
}
