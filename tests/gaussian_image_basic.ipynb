{
 "cells": [
  {
   "cell_type": "code",
   "execution_count": 1,
   "metadata": {},
   "outputs": [],
   "source": [
    "# Note: This is a hack to allow importing from the parent directory\n",
    "import sys\n",
    "from pathlib import Path\n",
    "\n",
    "sys.path.append(str(Path().resolve().parent))"
   ]
  },
  {
   "cell_type": "code",
   "execution_count": 2,
   "metadata": {},
   "outputs": [],
   "source": [
    "from models.train_basic_model import train\n",
    "from utils import load_cifar10, visualize_results"
   ]
  },
  {
   "cell_type": "code",
   "execution_count": 3,
   "metadata": {},
   "outputs": [
    {
     "name": "stdout",
     "output_type": "stream",
     "text": [
      "Training Gaussians for default image...\n",
      "No GPU available. `gpsplat` requires a GPU to train.\n"
     ]
    },
    {
     "data": {
      "text/html": [
       "\n",
       "    <div style=\"display: flex; align-items: center; justify-content: center;\">\n",
       "        <div style=\"margin: 0px 25px; text-align: center;\">\n",
       "            <h3>Animation</h3>\n",
       "            <img src=\"../results/basic_test/animation_test_default.gif\" style=\"min-width: 100px; max-width: 100px;\">\n",
       "        </div>\n",
       "        <div style=\"margin: 0px 25px; text-align: center;\">\n",
       "            <h3>Final Image</h3>\n",
       "            <img src=\"../results/basic_test/final_test_default.jpg\" style=\"min-width: 100px; max-width: 100px;\">\n",
       "        </div>\n",
       "        <div style=\"margin: 0px 25px; text-align: center;\">\n",
       "            <h3>Original Image</h3>\n",
       "            <img src=\"../results/basic_test/original_test_default.jpg\" style=\"min-width: 100px; max-width: 100px;\">\n",
       "        </div>\n",
       "    </div>\n",
       "    "
      ],
      "text/plain": [
       "<IPython.core.display.HTML object>"
      ]
     },
     "metadata": {},
     "output_type": "display_data"
    }
   ],
   "source": [
    "print(\"Training Gaussians for default image...\")\n",
    "train(results_path=Path(\"../results/basic_test/test_default\"))\n",
    "visualize_results(\n",
    "    Path(\"../results/basic_test/animation_test_default.gif\"),\n",
    "    Path(\"../results/basic_test/final_test_default.jpg\"),\n",
    "    Path(\"../results/basic_test/original_test_default.jpg\"),\n",
    ")"
   ]
  },
  {
   "cell_type": "code",
   "execution_count": 4,
   "metadata": {},
   "outputs": [
    {
     "name": "stdout",
     "output_type": "stream",
     "text": [
      "Files already downloaded and verified\n",
      "Training Gaussians for CIFAR-10 image...\n",
      "No GPU available. `gpsplat` requires a GPU to train.\n"
     ]
    },
    {
     "data": {
      "text/html": [
       "\n",
       "    <div style=\"display: flex; align-items: center; justify-content: center;\">\n",
       "        <div style=\"margin: 0px 25px; text-align: center;\">\n",
       "            <h3>Animation</h3>\n",
       "            <img src=\"../results/basic_test/animation_test_cifar10.gif\" style=\"min-width: 100px; max-width: 100px;\">\n",
       "        </div>\n",
       "        <div style=\"margin: 0px 25px; text-align: center;\">\n",
       "            <h3>Final Image</h3>\n",
       "            <img src=\"../results/basic_test/final_test_cifar10.jpg\" style=\"min-width: 100px; max-width: 100px;\">\n",
       "        </div>\n",
       "        <div style=\"margin: 0px 25px; text-align: center;\">\n",
       "            <h3>Original Image</h3>\n",
       "            <img src=\"../results/basic_test/original_test_cifar10.jpg\" style=\"min-width: 100px; max-width: 100px;\">\n",
       "        </div>\n",
       "    </div>\n",
       "    "
      ],
      "text/plain": [
       "<IPython.core.display.HTML object>"
      ]
     },
     "metadata": {},
     "output_type": "display_data"
    }
   ],
   "source": [
    "# Load CIFAR-10 training data\n",
    "dataloader = load_cifar10(\n",
    "    batch_size=1, shuffle=False, train=True, data_root=Path(\"../data\")\n",
    ")\n",
    "image = next(iter(dataloader))[0]\n",
    "\n",
    "print(\"Training Gaussians for CIFAR-10 image...\")\n",
    "train(\n",
    "    image=next(iter(dataloader))[0][0],\n",
    "    results_path=Path(\"../results/basic_test/test_cifar10\"),\n",
    ")\n",
    "visualize_results(\n",
    "    Path(\"../results/basic_test/animation_test_cifar10.gif\"),\n",
    "    Path(\"../results/basic_test/final_test_cifar10.jpg\"),\n",
    "    Path(\"../results/basic_test/original_test_cifar10.jpg\"),\n",
    ")"
   ]
  }
 ],
 "metadata": {
  "kernelspec": {
   "display_name": ".venv",
   "language": "python",
   "name": "python3"
  },
  "language_info": {
   "codemirror_mode": {
    "name": "ipython",
    "version": 3
   },
   "file_extension": ".py",
   "mimetype": "text/x-python",
   "name": "python",
   "nbconvert_exporter": "python",
   "pygments_lexer": "ipython3",
   "version": "3.11.10"
  }
 },
 "nbformat": 4,
 "nbformat_minor": 2
}
