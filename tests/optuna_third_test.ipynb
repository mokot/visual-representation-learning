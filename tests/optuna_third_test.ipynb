{
 "cells": [
  {
   "cell_type": "code",
   "execution_count": 3,
   "metadata": {},
   "outputs": [],
   "source": [
    "# Hack to always autoreload modules and avoid restarting the kernel each time\n",
    "\n",
    "%load_ext autoreload\n",
    "%autoreload 2\n",
    "%reload_ext autoreload"
   ]
  },
  {
   "cell_type": "code",
   "execution_count": 4,
   "metadata": {},
   "outputs": [],
   "source": [
    "# Note: This is a hack to allow importing from the parent directory\n",
    "import sys\n",
    "from pathlib import Path\n",
    "\n",
    "sys.path.append(str(Path().resolve().parent))"
   ]
  },
  {
   "cell_type": "code",
   "execution_count": 5,
   "metadata": {},
   "outputs": [
    {
     "name": "stderr",
     "output_type": "stream",
     "text": [
      "/home/h/harjesruiloba/miniforge3/envs/nerfstudio/lib/python3.8/site-packages/tqdm/auto.py:21: TqdmWarning: IProgress not found. Please update jupyter and ipywidgets. See https://ipywidgets.readthedocs.io/en/stable/user_install.html\n",
      "  from .autonotebook import tqdm as notebook_tqdm\n"
     ]
    }
   ],
   "source": [
    "import optuna\n",
    "import torch\n",
    "from models.gaussian_image_trainer import GaussianImageTrainer\n",
    "from configs import Config\n",
    "from utils.search_space import is_valid_combination"
   ]
  },
  {
   "cell_type": "code",
   "execution_count": 6,
   "metadata": {},
   "outputs": [
    {
     "name": "stdout",
     "output_type": "stream",
     "text": [
      "Files already downloaded and verified\n"
     ]
    }
   ],
   "source": [
    "import torchvision\n",
    "from constants import CIFAR10_TRANSFORM\n",
    "from utils.data import create_default_image\n",
    "from utils import visualize_tensor\n",
    "\n",
    "# Only used one image for the first tuning\n",
    "dataset = torchvision.datasets.CIFAR10(root=\"./data\", download=True)\n",
    "# cifar_image = CIFAR10_TRANSFORM(dataset[2][0])\n",
    "cifar_imgs = [CIFAR10_TRANSFORM(dataset[i][0]) for i in range(4)]\n",
    "visualize_tensor(cifar_imgs[1])"
   ]
  },
  {
   "cell_type": "code",
   "execution_count": 7,
   "metadata": {},
   "outputs": [],
   "source": [
    "import logging\n",
    "import sys"
   ]
  },
  {
   "cell_type": "code",
   "execution_count": 8,
   "metadata": {},
   "outputs": [
    {
     "name": "stderr",
     "output_type": "stream",
     "text": [
      "Error: no \"view\" rule for type \"image/png\" passed its test case\n",
      "       (for more information, add \"--debug=1\" on the command line)\n"
     ]
    },
    {
     "name": "stderr",
     "output_type": "stream",
     "text": [
      "[I 2025-01-09 00:04:39,804] Using an existing study with name 'study-w-grid-2' instead of creating a new one.\n"
     ]
    },
    {
     "name": "stdout",
     "output_type": "stream",
     "text": [
      "Using an existing study with name 'study-w-grid-2' instead of creating a new one.\n"
     ]
    }
   ],
   "source": [
    "# New experiments with some key learnings:]\n",
    "# 1. LR 0.01 seems to be the best.\n",
    "# 2. Max Steps 2000 is better than 1000, larger values are not much better.\n",
    "# 3. Init Type: KNN is the best, Grid is still interesting for other reasons (AE), don't use random. \n",
    "# 4. Model Type: 2dgs is superior\n",
    "# 5. More points is better, but 32x32 is already very good.\n",
    "# 6. Init Scale 2.0 is clearly the best, bigger values might also be good but were not tested.\n",
    "# 7. Init Opacity between 0.5 and 0.75 is the best.\n",
    "# 8. Scale Regulation 0.1 is the best.\n",
    "# 9. Opacity Regulation 0.5 is the best.\n",
    "# 10. Extent 2 and 4 are similar, 1 is worse.\n",
    "\n",
    "# Add stream handler of stdout to show the messages\n",
    "optuna.logging.get_logger(\"optuna\").addHandler(logging.StreamHandler(sys.stdout))\n",
    "study_name_grid = \"study-w-grid-2\"  # Unique identifier of the study.\n",
    "storage_name_grid = \"sqlite:///{}.db\".format(study_name_grid)\n",
    "study_w_grid = optuna.create_study(study_name=study_name_grid, storage=storage_name_grid, load_if_exists=True)"
   ]
  },
  {
   "cell_type": "code",
   "execution_count": 9,
   "metadata": {},
   "outputs": [],
   "source": [
    "def objective_w_grid_2(trial: optuna.Trial) -> float:\n",
    "    \"\"\"\n",
    "    Objective function for Optuna hyperparameter optimization.\n",
    "\n",
    "    Args:\n",
    "        trial (optuna.Trial): The trial object used to suggest hyperparameters.\n",
    "\n",
    "    Returns:\n",
    "        float: The evaluation metric to minimize (e.g., validation loss).\n",
    "    \"\"\"\n",
    "    # Conditional sampling\n",
    "    # group_optimization = trial.suggest_categorical(\"group_optimization\", [True, False])\n",
    "    # strategy = None\n",
    "    group_optimization = True # For now, as having default strategy was causing an error\n",
    "    if not group_optimization:\n",
    "        strategy = trial.suggest_categorical(\"strategy\", [\"default\", \"mcmc\"])\n",
    "\n",
    "    # Hyperparameter suggestions\n",
    "    loss_weights = [\n",
    "        1/3,\n",
    "        1/3,\n",
    "        1/3,\n",
    "    ]\n",
    "\n",
    "    scale_regularization = trial.suggest_categorical(\"scale_regularization\", [None, 0.1, 0.5, 1.0])\n",
    "    opacity_regularization = trial.suggest_categorical(\"opacity_regularization\", [None, 0.1, 0.5, 1.0])\n",
    "\n",
    "    # init_type = trial.suggest_categorical(\"init_type\", [\"grid\", \"knn\"])\n",
    "    init_type = \"grid\"  # Focus on the option with a fixed grid for this study\n",
    "    num_points = 32*32\n",
    "    extent = trial.suggest_categorical(\"extent\", [1.0, 2.0, 4.0])\n",
    "    init_scale = trial.suggest_categorical(\"init_scale\", [2.0, 3.0, 4.0])\n",
    "    init_opacity = trial.suggest_categorical(\"init_opacity\", [0.5, 0.6, 0.7])\n",
    "\n",
    "    max_steps = 1000\n",
    "    learning_rate = 0.01\n",
    "\n",
    "    model_type = \"2dgs\"  # Left out \"2dgs-inria\" as it needed further dependencies\n",
    "    bilateral_grid = False\n",
    "\n",
    "    image_index = trial.suggest_categorical(\"image_index\", [0, 1, 2, 3])\n",
    "\n",
    "    if not is_valid_combination({\n",
    "        \"learning_rate\": learning_rate,\n",
    "        \"loss_weights\": loss_weights,\n",
    "        \"group_optimization\": group_optimization,\n",
    "        # \"strategy\": strategy,\n",
    "        \"learning_rate\": learning_rate,\n",
    "        \"model_type\": model_type,\n",
    "        \"bilateral_grid\": bilateral_grid,\n",
    "    }, GaussianImageTrainer):\n",
    "        raise optuna.exceptions.TrialPruned(\"Invalid hyperparameter combination\")\n",
    "\n",
    "    # Create Config object\n",
    "    cfg = Config(\n",
    "        save_results=False,\n",
    "        save_logs=False,\n",
    "        seed=42,\n",
    "        image=cifar_imgs[image_index],  # Replace with actual ground truth image tensor\n",
    "        max_steps=max_steps,\n",
    "        learning_rate=learning_rate,\n",
    "        loss_weights=loss_weights,\n",
    "        init_type=init_type,\n",
    "        num_points=num_points,\n",
    "        init_scale=init_scale,\n",
    "        init_opacity=init_opacity,\n",
    "        # Fixed, added these:\n",
    "        scale_regularization=scale_regularization,\n",
    "        opacity_regularization=opacity_regularization,\n",
    "        extent=extent,\n",
    "        group_optimization=group_optimization,\n",
    "        # strategy=strategy,\n",
    "        model_type=model_type,\n",
    "        # bilateral_grid=bilateral_grid,\n",
    "        bilateral_grid=False\n",
    "    )\n",
    "\n",
    "    # Initialize and train the model\n",
    "    trainer = GaussianImageTrainer(cfg)\n",
    "    result = trainer.train()\n",
    "\n",
    "    # Evaluate generated image quality (e.g., L1 loss with ground truth)\n",
    "    generated_image = result.cpu()  # Replace with actual rendered output\n",
    "    ground_truth_image = cfg.image.cpu()\n",
    "    # evaluation_metric = torch.nn.functional.l1_loss(generated_image, ground_truth_image)  # Old version\n",
    "    evaluation_metric = trainer.l1_loss * 1/3 + trainer.mse_loss * 1/3 + trainer.ssim_loss * 1/3  # Simply take average as loss\n",
    "\n",
    "    return evaluation_metric.item()"
   ]
  },
  {
   "cell_type": "code",
   "execution_count": 18,
   "metadata": {},
   "outputs": [
    {
     "name": "stdout",
     "output_type": "stream",
     "text": [
      "Model initialized. Number of Gaussians: 1024\n"
     ]
    },
    {
     "name": "stderr",
     "output_type": "stream",
     "text": [
      "/home/h/harjesruiloba/miniforge3/envs/nerfstudio/lib/python3.8/site-packages/torchmetrics/utilities/prints.py:62: FutureWarning: Importing `StructuralSimilarityIndexMeasure` from `torchmetrics` was deprecated and will be removed in 2.0. Import `StructuralSimilarityIndexMeasure` from `torchmetrics.image` instead.\n",
      "  _future_warning(\n",
      "/home/h/harjesruiloba/miniforge3/envs/nerfstudio/lib/python3.8/site-packages/torchmetrics/utilities/prints.py:62: FutureWarning: Importing `PeakSignalNoiseRatio` from `torchmetrics` was deprecated and will be removed in 2.0. Import `PeakSignalNoiseRatio` from `torchmetrics.image` instead.\n",
      "  _future_warning(\n"
     ]
    },
    {
     "name": "stderr",
     "output_type": "stream",
     "text": [
      "Loss: 0.241 (L1: 0.061, MSE: 0.007, SSIM: 0.352): 100%|\u001b[36m██████\u001b[0m| 1000/1000 [00:09<00:00, 108.78step/s]\u001b[0m\n",
      "[I 2025-01-08 23:16:40,619] Trial 10 finished with value: 0.13969792425632477 and parameters: {'scale_regularization': 0.5, 'opacity_regularization': 1.0, 'extent': 1.0, 'init_scale': 2.0, 'init_opacity': 0.6, 'image_index': 0}. Best is trial 7 with value: 0.03648029640316963.\n"
     ]
    },
    {
     "name": "stdout",
     "output_type": "stream",
     "text": [
      "Final loss: 0.24079476296901703\n",
      "Total Time: Rasterization: 1.187s, Backward: 3.891s\n",
      "Trial 10 finished with value: 0.13969792425632477 and parameters: {'scale_regularization': 0.5, 'opacity_regularization': 1.0, 'extent': 1.0, 'init_scale': 2.0, 'init_opacity': 0.6, 'image_index': 0}. Best is trial 7 with value: 0.03648029640316963.\n",
      "Trial 10 finished with value: 0.13969792425632477 and parameters: {'scale_regularization': 0.5, 'opacity_regularization': 1.0, 'extent': 1.0, 'init_scale': 2.0, 'init_opacity': 0.6, 'image_index': 0}. Best is trial 7 with value: 0.03648029640316963.\n",
      "Model initialized. Number of Gaussians: 1024\n"
     ]
    },
    {
     "name": "stderr",
     "output_type": "stream",
     "text": [
      "Loss: 0.118 (L1: 0.041, MSE: 0.004, SSIM: 0.119): 100%|\u001b[36m██████\u001b[0m| 1000/1000 [00:08<00:00, 120.77step/s]\u001b[0m\n",
      "[I 2025-01-08 23:16:49,556] Trial 11 finished with value: 0.054165080189704895 and parameters: {'scale_regularization': 0.1, 'opacity_regularization': None, 'extent': 2.0, 'init_scale': 4.0, 'init_opacity': 0.7, 'image_index': 1}. Best is trial 7 with value: 0.03648029640316963.\n"
     ]
    },
    {
     "name": "stdout",
     "output_type": "stream",
     "text": [
      "Final loss: 0.11760043352842331\n",
      "Total Time: Rasterization: 1.123s, Backward: 3.332s\n",
      "Trial 11 finished with value: 0.054165080189704895 and parameters: {'scale_regularization': 0.1, 'opacity_regularization': None, 'extent': 2.0, 'init_scale': 4.0, 'init_opacity': 0.7, 'image_index': 1}. Best is trial 7 with value: 0.03648029640316963.\n",
      "Trial 11 finished with value: 0.054165080189704895 and parameters: {'scale_regularization': 0.1, 'opacity_regularization': None, 'extent': 2.0, 'init_scale': 4.0, 'init_opacity': 0.7, 'image_index': 1}. Best is trial 7 with value: 0.03648029640316963.\n",
      "Model initialized. Number of Gaussians: 1024\n"
     ]
    },
    {
     "name": "stderr",
     "output_type": "stream",
     "text": [
      "Loss: 0.346 (L1: 0.031, MSE: 0.002, SSIM: 0.208): 100%|\u001b[36m██████\u001b[0m| 1000/1000 [00:08<00:00, 118.51step/s]\u001b[0m\n",
      "[I 2025-01-08 23:16:58,643] Trial 12 finished with value: 0.0800042375922203 and parameters: {'scale_regularization': 0.5, 'opacity_regularization': 0.5, 'extent': 4.0, 'init_scale': 4.0, 'init_opacity': 0.7, 'image_index': 3}. Best is trial 7 with value: 0.03648029640316963.\n"
     ]
    },
    {
     "name": "stdout",
     "output_type": "stream",
     "text": [
      "Final loss: 0.34359315037727356\n",
      "Total Time: Rasterization: 1.115s, Backward: 3.436s\n",
      "Trial 12 finished with value: 0.0800042375922203 and parameters: {'scale_regularization': 0.5, 'opacity_regularization': 0.5, 'extent': 4.0, 'init_scale': 4.0, 'init_opacity': 0.7, 'image_index': 3}. Best is trial 7 with value: 0.03648029640316963.\n",
      "Trial 12 finished with value: 0.0800042375922203 and parameters: {'scale_regularization': 0.5, 'opacity_regularization': 0.5, 'extent': 4.0, 'init_scale': 4.0, 'init_opacity': 0.7, 'image_index': 3}. Best is trial 7 with value: 0.03648029640316963.\n",
      "Model initialized. Number of Gaussians: 1024\n"
     ]
    },
    {
     "name": "stderr",
     "output_type": "stream",
     "text": [
      "Loss: 0.042 (L1: 0.016, MSE: 0.001, SSIM: 0.070): 100%|\u001b[36m██████\u001b[0m| 1000/1000 [00:08<00:00, 119.92step/s]\u001b[0m\n",
      "[I 2025-01-08 23:17:07,639] Trial 13 finished with value: 0.02892162650823593 and parameters: {'scale_regularization': None, 'opacity_regularization': 0.1, 'extent': 2.0, 'init_scale': 3.0, 'init_opacity': 0.6, 'image_index': 3}. Best is trial 13 with value: 0.02892162650823593.\n"
     ]
    },
    {
     "name": "stdout",
     "output_type": "stream",
     "text": [
      "Final loss: 0.041658829897642136\n",
      "Total Time: Rasterization: 1.128s, Backward: 3.383s\n",
      "Trial 13 finished with value: 0.02892162650823593 and parameters: {'scale_regularization': None, 'opacity_regularization': 0.1, 'extent': 2.0, 'init_scale': 3.0, 'init_opacity': 0.6, 'image_index': 3}. Best is trial 13 with value: 0.02892162650823593.\n",
      "Trial 13 finished with value: 0.02892162650823593 and parameters: {'scale_regularization': None, 'opacity_regularization': 0.1, 'extent': 2.0, 'init_scale': 3.0, 'init_opacity': 0.6, 'image_index': 3}. Best is trial 13 with value: 0.02892162650823593.\n",
      "Model initialized. Number of Gaussians: 1024\n"
     ]
    },
    {
     "name": "stderr",
     "output_type": "stream",
     "text": [
      "Loss: 0.125 (L1: 0.013, MSE: 0.001, SSIM: 0.024): 100%|\u001b[36m██████\u001b[0m| 1000/1000 [00:08<00:00, 123.03step/s]\u001b[0m\n",
      "[I 2025-01-08 23:17:16,425] Trial 14 finished with value: 0.012987226247787476 and parameters: {'scale_regularization': 0.5, 'opacity_regularization': None, 'extent': 2.0, 'init_scale': 3.0, 'init_opacity': 0.7, 'image_index': 2}. Best is trial 14 with value: 0.012987226247787476.\n"
     ]
    },
    {
     "name": "stdout",
     "output_type": "stream",
     "text": [
      "Final loss: 0.12446895241737366\n",
      "Total Time: Rasterization: 1.107s, Backward: 3.303s\n",
      "Trial 14 finished with value: 0.012987226247787476 and parameters: {'scale_regularization': 0.5, 'opacity_regularization': None, 'extent': 2.0, 'init_scale': 3.0, 'init_opacity': 0.7, 'image_index': 2}. Best is trial 14 with value: 0.012987226247787476.\n",
      "Trial 14 finished with value: 0.012987226247787476 and parameters: {'scale_regularization': 0.5, 'opacity_regularization': None, 'extent': 2.0, 'init_scale': 3.0, 'init_opacity': 0.7, 'image_index': 2}. Best is trial 14 with value: 0.012987226247787476.\n",
      "Model initialized. Number of Gaussians: 1024\n"
     ]
    },
    {
     "name": "stderr",
     "output_type": "stream",
     "text": [
      "Loss: 0.232 (L1: 0.016, MSE: 0.001, SSIM: 0.037): 100%|\u001b[36m██████\u001b[0m| 1000/1000 [00:08<00:00, 121.00step/s]\u001b[0m\n",
      "[I 2025-01-08 23:17:25,371] Trial 15 finished with value: 0.018005743622779846 and parameters: {'scale_regularization': 1.0, 'opacity_regularization': None, 'extent': 2.0, 'init_scale': 3.0, 'init_opacity': 0.5, 'image_index': 2}. Best is trial 14 with value: 0.012987226247787476.\n"
     ]
    },
    {
     "name": "stdout",
     "output_type": "stream",
     "text": [
      "Final loss: 0.23070396482944489\n",
      "Total Time: Rasterization: 1.120s, Backward: 3.360s\n",
      "Trial 15 finished with value: 0.018005743622779846 and parameters: {'scale_regularization': 1.0, 'opacity_regularization': None, 'extent': 2.0, 'init_scale': 3.0, 'init_opacity': 0.5, 'image_index': 2}. Best is trial 14 with value: 0.012987226247787476.\n",
      "Trial 15 finished with value: 0.018005743622779846 and parameters: {'scale_regularization': 1.0, 'opacity_regularization': None, 'extent': 2.0, 'init_scale': 3.0, 'init_opacity': 0.5, 'image_index': 2}. Best is trial 14 with value: 0.012987226247787476.\n",
      "Model initialized. Number of Gaussians: 1024\n"
     ]
    },
    {
     "name": "stderr",
     "output_type": "stream",
     "text": [
      "Loss: 0.233 (L1: 0.016, MSE: 0.001, SSIM: 0.036): 100%|\u001b[36m██████\u001b[0m| 1000/1000 [00:08<00:00, 120.44step/s]\u001b[0m\n",
      "[I 2025-01-08 23:17:34,310] Trial 16 finished with value: 0.018021706491708755 and parameters: {'scale_regularization': 1.0, 'opacity_regularization': None, 'extent': 2.0, 'init_scale': 3.0, 'init_opacity': 0.5, 'image_index': 2}. Best is trial 14 with value: 0.012987226247787476.\n"
     ]
    },
    {
     "name": "stdout",
     "output_type": "stream",
     "text": [
      "Final loss: 0.23184184730052948\n",
      "Total Time: Rasterization: 1.124s, Backward: 3.381s\n",
      "Trial 16 finished with value: 0.018021706491708755 and parameters: {'scale_regularization': 1.0, 'opacity_regularization': None, 'extent': 2.0, 'init_scale': 3.0, 'init_opacity': 0.5, 'image_index': 2}. Best is trial 14 with value: 0.012987226247787476.\n",
      "Trial 16 finished with value: 0.018021706491708755 and parameters: {'scale_regularization': 1.0, 'opacity_regularization': None, 'extent': 2.0, 'init_scale': 3.0, 'init_opacity': 0.5, 'image_index': 2}. Best is trial 14 with value: 0.012987226247787476.\n",
      "Model initialized. Number of Gaussians: 1024\n"
     ]
    },
    {
     "name": "stderr",
     "output_type": "stream",
     "text": [
      "Loss: 0.229 (L1: 0.016, MSE: 0.001, SSIM: 0.032): 100%|\u001b[36m██████\u001b[0m| 1000/1000 [00:08<00:00, 120.70step/s]\u001b[0m\n",
      "[I 2025-01-08 23:17:43,255] Trial 17 finished with value: 0.015362405218183994 and parameters: {'scale_regularization': 1.0, 'opacity_regularization': None, 'extent': 2.0, 'init_scale': 3.0, 'init_opacity': 0.5, 'image_index': 2}. Best is trial 14 with value: 0.012987226247787476.\n"
     ]
    },
    {
     "name": "stdout",
     "output_type": "stream",
     "text": [
      "Final loss: 0.22721578180789948\n",
      "Total Time: Rasterization: 1.129s, Backward: 3.358s\n",
      "Trial 17 finished with value: 0.015362405218183994 and parameters: {'scale_regularization': 1.0, 'opacity_regularization': None, 'extent': 2.0, 'init_scale': 3.0, 'init_opacity': 0.5, 'image_index': 2}. Best is trial 14 with value: 0.012987226247787476.\n",
      "Trial 17 finished with value: 0.015362405218183994 and parameters: {'scale_regularization': 1.0, 'opacity_regularization': None, 'extent': 2.0, 'init_scale': 3.0, 'init_opacity': 0.5, 'image_index': 2}. Best is trial 14 with value: 0.012987226247787476.\n",
      "Model initialized. Number of Gaussians: 1024\n"
     ]
    },
    {
     "name": "stderr",
     "output_type": "stream",
     "text": [
      "Loss: 0.126 (L1: 0.013, MSE: 0.001, SSIM: 0.026): 100%|\u001b[36m██████\u001b[0m| 1000/1000 [00:08<00:00, 122.91step/s]\u001b[0m\n",
      "[I 2025-01-08 23:17:52,053] Trial 18 finished with value: 0.013366257771849632 and parameters: {'scale_regularization': 0.5, 'opacity_regularization': None, 'extent': 2.0, 'init_scale': 3.0, 'init_opacity': 0.5, 'image_index': 2}. Best is trial 14 with value: 0.012987226247787476.\n"
     ]
    },
    {
     "name": "stdout",
     "output_type": "stream",
     "text": [
      "Final loss: 0.12553450465202332\n",
      "Total Time: Rasterization: 1.108s, Backward: 3.331s\n",
      "Trial 18 finished with value: 0.013366257771849632 and parameters: {'scale_regularization': 0.5, 'opacity_regularization': None, 'extent': 2.0, 'init_scale': 3.0, 'init_opacity': 0.5, 'image_index': 2}. Best is trial 14 with value: 0.012987226247787476.\n",
      "Trial 18 finished with value: 0.013366257771849632 and parameters: {'scale_regularization': 0.5, 'opacity_regularization': None, 'extent': 2.0, 'init_scale': 3.0, 'init_opacity': 0.5, 'image_index': 2}. Best is trial 14 with value: 0.012987226247787476.\n",
      "Model initialized. Number of Gaussians: 1024\n"
     ]
    },
    {
     "name": "stderr",
     "output_type": "stream",
     "text": [
      "Loss: 0.147 (L1: 0.022, MSE: 0.002, SSIM: 0.056): 100%|\u001b[36m██████\u001b[0m| 1000/1000 [00:08<00:00, 115.67step/s]\u001b[0m\n",
      "[I 2025-01-08 23:18:01,399] Trial 19 finished with value: 0.026168426498770714 and parameters: {'scale_regularization': 0.5, 'opacity_regularization': 0.1, 'extent': 4.0, 'init_scale': 3.0, 'init_opacity': 0.7, 'image_index': 2}. Best is trial 14 with value: 0.012987226247787476.\n"
     ]
    },
    {
     "name": "stdout",
     "output_type": "stream",
     "text": [
      "Final loss: 0.1456870138645172\n",
      "Total Time: Rasterization: 1.138s, Backward: 3.503s\n",
      "Trial 19 finished with value: 0.026168426498770714 and parameters: {'scale_regularization': 0.5, 'opacity_regularization': 0.1, 'extent': 4.0, 'init_scale': 3.0, 'init_opacity': 0.7, 'image_index': 2}. Best is trial 14 with value: 0.012987226247787476.\n",
      "Trial 19 finished with value: 0.026168426498770714 and parameters: {'scale_regularization': 0.5, 'opacity_regularization': 0.1, 'extent': 4.0, 'init_scale': 3.0, 'init_opacity': 0.7, 'image_index': 2}. Best is trial 14 with value: 0.012987226247787476.\n",
      "Model initialized. Number of Gaussians: 1024\n"
     ]
    },
    {
     "name": "stderr",
     "output_type": "stream",
     "text": [
      "Loss: 0.123 (L1: 0.013, MSE: 0.000, SSIM: 0.021): 100%|\u001b[36m██████\u001b[0m| 1000/1000 [00:07<00:00, 130.32step/s]\u001b[0m\n",
      "[I 2025-01-08 23:18:09,741] Trial 20 finished with value: 0.011599410325288773 and parameters: {'scale_regularization': 0.5, 'opacity_regularization': None, 'extent': 2.0, 'init_scale': 3.0, 'init_opacity': 0.5, 'image_index': 2}. Best is trial 20 with value: 0.011599410325288773.\n"
     ]
    },
    {
     "name": "stdout",
     "output_type": "stream",
     "text": [
      "Final loss: 0.12302042543888092\n",
      "Total Time: Rasterization: 1.048s, Backward: 3.123s\n",
      "Trial 20 finished with value: 0.011599410325288773 and parameters: {'scale_regularization': 0.5, 'opacity_regularization': None, 'extent': 2.0, 'init_scale': 3.0, 'init_opacity': 0.5, 'image_index': 2}. Best is trial 20 with value: 0.011599410325288773.\n",
      "Trial 20 finished with value: 0.011599410325288773 and parameters: {'scale_regularization': 0.5, 'opacity_regularization': None, 'extent': 2.0, 'init_scale': 3.0, 'init_opacity': 0.5, 'image_index': 2}. Best is trial 20 with value: 0.011599410325288773.\n",
      "Model initialized. Number of Gaussians: 1024\n"
     ]
    },
    {
     "name": "stderr",
     "output_type": "stream",
     "text": [
      "Loss: 0.126 (L1: 0.014, MSE: 0.001, SSIM: 0.026): 100%|\u001b[36m██████\u001b[0m| 1000/1000 [00:08<00:00, 121.29step/s]\u001b[0m\n",
      "[I 2025-01-08 23:18:18,651] Trial 21 finished with value: 0.013074010610580444 and parameters: {'scale_regularization': 0.5, 'opacity_regularization': None, 'extent': 2.0, 'init_scale': 3.0, 'init_opacity': 0.7, 'image_index': 2}. Best is trial 20 with value: 0.011599410325288773.\n"
     ]
    },
    {
     "name": "stdout",
     "output_type": "stream",
     "text": [
      "Final loss: 0.12485050410032272\n",
      "Total Time: Rasterization: 1.115s, Backward: 3.320s\n",
      "Trial 21 finished with value: 0.013074010610580444 and parameters: {'scale_regularization': 0.5, 'opacity_regularization': None, 'extent': 2.0, 'init_scale': 3.0, 'init_opacity': 0.7, 'image_index': 2}. Best is trial 20 with value: 0.011599410325288773.\n",
      "Trial 21 finished with value: 0.013074010610580444 and parameters: {'scale_regularization': 0.5, 'opacity_regularization': None, 'extent': 2.0, 'init_scale': 3.0, 'init_opacity': 0.7, 'image_index': 2}. Best is trial 20 with value: 0.011599410325288773.\n",
      "Model initialized. Number of Gaussians: 1024\n"
     ]
    },
    {
     "name": "stderr",
     "output_type": "stream",
     "text": [
      "Loss: 0.124 (L1: 0.013, MSE: 0.000, SSIM: 0.024): 100%|\u001b[36m██████\u001b[0m| 1000/1000 [00:08<00:00, 118.89step/s]\u001b[0m\n",
      "[I 2025-01-08 23:18:27,715] Trial 22 finished with value: 0.012200993485748768 and parameters: {'scale_regularization': 0.5, 'opacity_regularization': None, 'extent': 2.0, 'init_scale': 3.0, 'init_opacity': 0.5, 'image_index': 2}. Best is trial 20 with value: 0.011599410325288773.\n"
     ]
    },
    {
     "name": "stdout",
     "output_type": "stream",
     "text": [
      "Final loss: 0.12286265194416046\n",
      "Total Time: Rasterization: 1.135s, Backward: 3.415s\n",
      "Trial 22 finished with value: 0.012200993485748768 and parameters: {'scale_regularization': 0.5, 'opacity_regularization': None, 'extent': 2.0, 'init_scale': 3.0, 'init_opacity': 0.5, 'image_index': 2}. Best is trial 20 with value: 0.011599410325288773.\n",
      "Trial 22 finished with value: 0.012200993485748768 and parameters: {'scale_regularization': 0.5, 'opacity_regularization': None, 'extent': 2.0, 'init_scale': 3.0, 'init_opacity': 0.5, 'image_index': 2}. Best is trial 20 with value: 0.011599410325288773.\n",
      "Model initialized. Number of Gaussians: 1024\n"
     ]
    },
    {
     "name": "stderr",
     "output_type": "stream",
     "text": [
      "Loss: 0.298 (L1: 0.081, MSE: 0.012, SSIM: 0.323): 100%|\u001b[36m██████\u001b[0m| 1000/1000 [00:09<00:00, 109.25step/s]\u001b[0m\n",
      "[I 2025-01-08 23:18:37,532] Trial 23 finished with value: 0.13844098150730133 and parameters: {'scale_regularization': 0.5, 'opacity_regularization': 1.0, 'extent': 4.0, 'init_scale': 3.0, 'init_opacity': 0.5, 'image_index': 1}. Best is trial 20 with value: 0.011599410325288773.\n"
     ]
    },
    {
     "name": "stdout",
     "output_type": "stream",
     "text": [
      "Final loss: 0.2974480986595154\n",
      "Total Time: Rasterization: 1.170s, Backward: 3.783s\n",
      "Trial 23 finished with value: 0.13844098150730133 and parameters: {'scale_regularization': 0.5, 'opacity_regularization': 1.0, 'extent': 4.0, 'init_scale': 3.0, 'init_opacity': 0.5, 'image_index': 1}. Best is trial 20 with value: 0.011599410325288773.\n",
      "Trial 23 finished with value: 0.13844098150730133 and parameters: {'scale_regularization': 0.5, 'opacity_regularization': 1.0, 'extent': 4.0, 'init_scale': 3.0, 'init_opacity': 0.5, 'image_index': 1}. Best is trial 20 with value: 0.011599410325288773.\n",
      "Model initialized. Number of Gaussians: 1024\n"
     ]
    },
    {
     "name": "stderr",
     "output_type": "stream",
     "text": [
      "Loss: 0.030 (L1: 0.019, MSE: 0.001, SSIM: 0.038): 100%|\u001b[36m██████\u001b[0m| 1000/1000 [00:08<00:00, 119.64step/s]\u001b[0m\n",
      "[I 2025-01-08 23:18:46,561] Trial 24 finished with value: 0.019852250814437866 and parameters: {'scale_regularization': None, 'opacity_regularization': 0.1, 'extent': 1.0, 'init_scale': 4.0, 'init_opacity': 0.5, 'image_index': 2}. Best is trial 20 with value: 0.011599410325288773.\n"
     ]
    },
    {
     "name": "stdout",
     "output_type": "stream",
     "text": [
      "Final loss: 0.030218781903386116\n",
      "Total Time: Rasterization: 1.123s, Backward: 3.415s\n",
      "Trial 24 finished with value: 0.019852250814437866 and parameters: {'scale_regularization': None, 'opacity_regularization': 0.1, 'extent': 1.0, 'init_scale': 4.0, 'init_opacity': 0.5, 'image_index': 2}. Best is trial 20 with value: 0.011599410325288773.\n",
      "Trial 24 finished with value: 0.019852250814437866 and parameters: {'scale_regularization': None, 'opacity_regularization': 0.1, 'extent': 1.0, 'init_scale': 4.0, 'init_opacity': 0.5, 'image_index': 2}. Best is trial 20 with value: 0.011599410325288773.\n",
      "Model initialized. Number of Gaussians: 1024\n"
     ]
    },
    {
     "name": "stderr",
     "output_type": "stream",
     "text": [
      "Loss: 0.126 (L1: 0.013, MSE: 0.001, SSIM: 0.024): 100%|\u001b[36m██████\u001b[0m| 1000/1000 [00:08<00:00, 120.38step/s]\u001b[0m\n",
      "[I 2025-01-08 23:18:55,550] Trial 25 finished with value: 0.013369441032409668 and parameters: {'scale_regularization': 0.5, 'opacity_regularization': None, 'extent': 2.0, 'init_scale': 3.0, 'init_opacity': 0.5, 'image_index': 2}. Best is trial 20 with value: 0.011599410325288773.\n"
     ]
    },
    {
     "name": "stdout",
     "output_type": "stream",
     "text": [
      "Final loss: 0.12587657570838928\n",
      "Total Time: Rasterization: 1.125s, Backward: 3.359s\n",
      "Trial 25 finished with value: 0.013369441032409668 and parameters: {'scale_regularization': 0.5, 'opacity_regularization': None, 'extent': 2.0, 'init_scale': 3.0, 'init_opacity': 0.5, 'image_index': 2}. Best is trial 20 with value: 0.011599410325288773.\n",
      "Trial 25 finished with value: 0.013369441032409668 and parameters: {'scale_regularization': 0.5, 'opacity_regularization': None, 'extent': 2.0, 'init_scale': 3.0, 'init_opacity': 0.5, 'image_index': 2}. Best is trial 20 with value: 0.011599410325288773.\n",
      "Model initialized. Number of Gaussians: 1024\n"
     ]
    },
    {
     "name": "stderr",
     "output_type": "stream",
     "text": [
      "Loss: 0.125 (L1: 0.014, MSE: 0.001, SSIM: 0.025): 100%|\u001b[36m██████\u001b[0m| 1000/1000 [00:08<00:00, 120.81step/s]\u001b[0m\n",
      "[I 2025-01-08 23:19:04,495] Trial 26 finished with value: 0.01325276680290699 and parameters: {'scale_regularization': 0.5, 'opacity_regularization': None, 'extent': 2.0, 'init_scale': 3.0, 'init_opacity': 0.5, 'image_index': 2}. Best is trial 20 with value: 0.011599410325288773.\n"
     ]
    },
    {
     "name": "stdout",
     "output_type": "stream",
     "text": [
      "Final loss: 0.12462480366230011\n",
      "Total Time: Rasterization: 1.120s, Backward: 3.336s\n",
      "Trial 26 finished with value: 0.01325276680290699 and parameters: {'scale_regularization': 0.5, 'opacity_regularization': None, 'extent': 2.0, 'init_scale': 3.0, 'init_opacity': 0.5, 'image_index': 2}. Best is trial 20 with value: 0.011599410325288773.\n",
      "Trial 26 finished with value: 0.01325276680290699 and parameters: {'scale_regularization': 0.5, 'opacity_regularization': None, 'extent': 2.0, 'init_scale': 3.0, 'init_opacity': 0.5, 'image_index': 2}. Best is trial 20 with value: 0.011599410325288773.\n",
      "Model initialized. Number of Gaussians: 1024\n"
     ]
    },
    {
     "name": "stderr",
     "output_type": "stream",
     "text": [
      "Loss: 0.125 (L1: 0.014, MSE: 0.001, SSIM: 0.028): 100%|\u001b[36m██████\u001b[0m| 1000/1000 [00:08<00:00, 120.89step/s]\u001b[0m\n",
      "[I 2025-01-08 23:19:13,424] Trial 27 finished with value: 0.014183012768626213 and parameters: {'scale_regularization': 0.5, 'opacity_regularization': None, 'extent': 2.0, 'init_scale': 3.0, 'init_opacity': 0.5, 'image_index': 2}. Best is trial 20 with value: 0.011599410325288773.\n"
     ]
    },
    {
     "name": "stdout",
     "output_type": "stream",
     "text": [
      "Final loss: 0.12414944171905518\n",
      "Total Time: Rasterization: 1.131s, Backward: 3.342s\n",
      "Trial 27 finished with value: 0.014183012768626213 and parameters: {'scale_regularization': 0.5, 'opacity_regularization': None, 'extent': 2.0, 'init_scale': 3.0, 'init_opacity': 0.5, 'image_index': 2}. Best is trial 20 with value: 0.011599410325288773.\n",
      "Trial 27 finished with value: 0.014183012768626213 and parameters: {'scale_regularization': 0.5, 'opacity_regularization': None, 'extent': 2.0, 'init_scale': 3.0, 'init_opacity': 0.5, 'image_index': 2}. Best is trial 20 with value: 0.011599410325288773.\n",
      "Model initialized. Number of Gaussians: 1024\n"
     ]
    },
    {
     "name": "stderr",
     "output_type": "stream",
     "text": [
      "Loss: 0.125 (L1: 0.013, MSE: 0.001, SSIM: 0.025): 100%|\u001b[36m██████\u001b[0m| 1000/1000 [00:08<00:00, 120.83step/s]\u001b[0m\n",
      "[I 2025-01-08 23:19:22,366] Trial 28 finished with value: 0.013150367885828018 and parameters: {'scale_regularization': 0.5, 'opacity_regularization': None, 'extent': 2.0, 'init_scale': 3.0, 'init_opacity': 0.7, 'image_index': 2}. Best is trial 20 with value: 0.011599410325288773.\n"
     ]
    },
    {
     "name": "stdout",
     "output_type": "stream",
     "text": [
      "Final loss: 0.12500408291816711\n",
      "Total Time: Rasterization: 1.126s, Backward: 3.353s\n",
      "Trial 28 finished with value: 0.013150367885828018 and parameters: {'scale_regularization': 0.5, 'opacity_regularization': None, 'extent': 2.0, 'init_scale': 3.0, 'init_opacity': 0.7, 'image_index': 2}. Best is trial 20 with value: 0.011599410325288773.\n",
      "Trial 28 finished with value: 0.013150367885828018 and parameters: {'scale_regularization': 0.5, 'opacity_regularization': None, 'extent': 2.0, 'init_scale': 3.0, 'init_opacity': 0.7, 'image_index': 2}. Best is trial 20 with value: 0.011599410325288773.\n",
      "Model initialized. Number of Gaussians: 1024\n"
     ]
    },
    {
     "name": "stderr",
     "output_type": "stream",
     "text": [
      "Loss: 0.125 (L1: 0.014, MSE: 0.001, SSIM: 0.027): 100%|\u001b[36m██████\u001b[0m| 1000/1000 [00:08<00:00, 119.27step/s]\u001b[0m\n",
      "[I 2025-01-08 23:19:31,429] Trial 29 finished with value: 0.013746483251452446 and parameters: {'scale_regularization': 0.5, 'opacity_regularization': None, 'extent': 2.0, 'init_scale': 3.0, 'init_opacity': 0.5, 'image_index': 2}. Best is trial 20 with value: 0.011599410325288773.\n"
     ]
    },
    {
     "name": "stdout",
     "output_type": "stream",
     "text": [
      "Final loss: 0.12462346255779266\n",
      "Total Time: Rasterization: 1.129s, Backward: 3.368s\n",
      "Trial 29 finished with value: 0.013746483251452446 and parameters: {'scale_regularization': 0.5, 'opacity_regularization': None, 'extent': 2.0, 'init_scale': 3.0, 'init_opacity': 0.5, 'image_index': 2}. Best is trial 20 with value: 0.011599410325288773.\n",
      "Trial 29 finished with value: 0.013746483251452446 and parameters: {'scale_regularization': 0.5, 'opacity_regularization': None, 'extent': 2.0, 'init_scale': 3.0, 'init_opacity': 0.5, 'image_index': 2}. Best is trial 20 with value: 0.011599410325288773.\n",
      "Model initialized. Number of Gaussians: 1024\n"
     ]
    },
    {
     "name": "stderr",
     "output_type": "stream",
     "text": [
      "Loss: 0.124 (L1: 0.014, MSE: 0.001, SSIM: 0.024): 100%|\u001b[36m██████\u001b[0m| 1000/1000 [00:08<00:00, 119.73step/s]\u001b[0m\n",
      "[I 2025-01-08 23:19:40,424] Trial 30 finished with value: 0.013008167035877705 and parameters: {'scale_regularization': 0.5, 'opacity_regularization': None, 'extent': 2.0, 'init_scale': 3.0, 'init_opacity': 0.7, 'image_index': 2}. Best is trial 20 with value: 0.011599410325288773.\n"
     ]
    },
    {
     "name": "stdout",
     "output_type": "stream",
     "text": [
      "Final loss: 0.12397678196430206\n",
      "Total Time: Rasterization: 1.130s, Backward: 3.391s\n",
      "Trial 30 finished with value: 0.013008167035877705 and parameters: {'scale_regularization': 0.5, 'opacity_regularization': None, 'extent': 2.0, 'init_scale': 3.0, 'init_opacity': 0.7, 'image_index': 2}. Best is trial 20 with value: 0.011599410325288773.\n",
      "Trial 30 finished with value: 0.013008167035877705 and parameters: {'scale_regularization': 0.5, 'opacity_regularization': None, 'extent': 2.0, 'init_scale': 3.0, 'init_opacity': 0.7, 'image_index': 2}. Best is trial 20 with value: 0.011599410325288773.\n",
      "Model initialized. Number of Gaussians: 1024\n"
     ]
    },
    {
     "name": "stderr",
     "output_type": "stream",
     "text": [
      "Loss: 0.148 (L1: 0.016, MSE: 0.000, SSIM: 0.070): 100%|\u001b[36m██████\u001b[0m| 1000/1000 [00:08<00:00, 121.40step/s]\u001b[0m\n",
      "[I 2025-01-08 23:19:49,318] Trial 31 finished with value: 0.02784668654203415 and parameters: {'scale_regularization': 0.5, 'opacity_regularization': None, 'extent': 2.0, 'init_scale': 3.0, 'init_opacity': 0.5, 'image_index': 3}. Best is trial 20 with value: 0.011599410325288773.\n"
     ]
    },
    {
     "name": "stdout",
     "output_type": "stream",
     "text": [
      "Final loss: 0.14623971283435822\n",
      "Total Time: Rasterization: 1.120s, Backward: 3.278s\n",
      "Trial 31 finished with value: 0.02784668654203415 and parameters: {'scale_regularization': 0.5, 'opacity_regularization': None, 'extent': 2.0, 'init_scale': 3.0, 'init_opacity': 0.5, 'image_index': 3}. Best is trial 20 with value: 0.011599410325288773.\n",
      "Trial 31 finished with value: 0.02784668654203415 and parameters: {'scale_regularization': 0.5, 'opacity_regularization': None, 'extent': 2.0, 'init_scale': 3.0, 'init_opacity': 0.5, 'image_index': 3}. Best is trial 20 with value: 0.011599410325288773.\n",
      "Model initialized. Number of Gaussians: 1024\n"
     ]
    },
    {
     "name": "stderr",
     "output_type": "stream",
     "text": [
      "Loss: 0.073 (L1: 0.044, MSE: 0.005, SSIM: 0.114): 100%|\u001b[36m██████\u001b[0m| 1000/1000 [00:08<00:00, 117.69step/s]\u001b[0m\n",
      "[I 2025-01-08 23:19:58,485] Trial 32 finished with value: 0.05468388646841049 and parameters: {'scale_regularization': None, 'opacity_regularization': 0.1, 'extent': 2.0, 'init_scale': 3.0, 'init_opacity': 0.5, 'image_index': 1}. Best is trial 20 with value: 0.011599410325288773.\n"
     ]
    },
    {
     "name": "stdout",
     "output_type": "stream",
     "text": [
      "Final loss: 0.07347053289413452\n",
      "Total Time: Rasterization: 1.146s, Backward: 3.500s\n",
      "Trial 32 finished with value: 0.05468388646841049 and parameters: {'scale_regularization': None, 'opacity_regularization': 0.1, 'extent': 2.0, 'init_scale': 3.0, 'init_opacity': 0.5, 'image_index': 1}. Best is trial 20 with value: 0.011599410325288773.\n",
      "Trial 32 finished with value: 0.05468388646841049 and parameters: {'scale_regularization': None, 'opacity_regularization': 0.1, 'extent': 2.0, 'init_scale': 3.0, 'init_opacity': 0.5, 'image_index': 1}. Best is trial 20 with value: 0.011599410325288773.\n",
      "Model initialized. Number of Gaussians: 1024\n"
     ]
    },
    {
     "name": "stderr",
     "output_type": "stream",
     "text": [
      "Loss: 0.190 (L1: 0.055, MSE: 0.006, SSIM: 0.301): 100%|\u001b[36m██████\u001b[0m| 1000/1000 [00:08<00:00, 113.57step/s]\u001b[0m\n",
      "[I 2025-01-08 23:20:07,970] Trial 33 finished with value: 0.120245561003685 and parameters: {'scale_regularization': 0.1, 'opacity_regularization': 1.0, 'extent': 1.0, 'init_scale': 2.0, 'init_opacity': 0.6, 'image_index': 0}. Best is trial 20 with value: 0.011599410325288773.\n"
     ]
    },
    {
     "name": "stdout",
     "output_type": "stream",
     "text": [
      "Final loss: 0.18917503952980042\n",
      "Total Time: Rasterization: 1.156s, Backward: 3.734s\n",
      "Trial 33 finished with value: 0.120245561003685 and parameters: {'scale_regularization': 0.1, 'opacity_regularization': 1.0, 'extent': 1.0, 'init_scale': 2.0, 'init_opacity': 0.6, 'image_index': 0}. Best is trial 20 with value: 0.011599410325288773.\n",
      "Trial 33 finished with value: 0.120245561003685 and parameters: {'scale_regularization': 0.1, 'opacity_regularization': 1.0, 'extent': 1.0, 'init_scale': 2.0, 'init_opacity': 0.6, 'image_index': 0}. Best is trial 20 with value: 0.011599410325288773.\n",
      "Model initialized. Number of Gaussians: 1024\n"
     ]
    },
    {
     "name": "stderr",
     "output_type": "stream",
     "text": [
      "Loss: 0.292 (L1: 0.046, MSE: 0.005, SSIM: 0.138): 100%|\u001b[36m██████\u001b[0m| 1000/1000 [00:08<00:00, 119.65step/s]\u001b[0m\n",
      "[I 2025-01-08 23:20:17,004] Trial 34 finished with value: 0.06347990036010742 and parameters: {'scale_regularization': 0.5, 'opacity_regularization': None, 'extent': 4.0, 'init_scale': 4.0, 'init_opacity': 0.7, 'image_index': 1}. Best is trial 20 with value: 0.011599410325288773.\n"
     ]
    },
    {
     "name": "stdout",
     "output_type": "stream",
     "text": [
      "Final loss: 0.29174745082855225\n",
      "Total Time: Rasterization: 1.126s, Backward: 3.355s\n",
      "Trial 34 finished with value: 0.06347990036010742 and parameters: {'scale_regularization': 0.5, 'opacity_regularization': None, 'extent': 4.0, 'init_scale': 4.0, 'init_opacity': 0.7, 'image_index': 1}. Best is trial 20 with value: 0.011599410325288773.\n",
      "Trial 34 finished with value: 0.06347990036010742 and parameters: {'scale_regularization': 0.5, 'opacity_regularization': None, 'extent': 4.0, 'init_scale': 4.0, 'init_opacity': 0.7, 'image_index': 1}. Best is trial 20 with value: 0.011599410325288773.\n",
      "Model initialized. Number of Gaussians: 1024\n"
     ]
    },
    {
     "name": "stderr",
     "output_type": "stream",
     "text": [
      "Loss: 0.081 (L1: 0.013, MSE: 0.001, SSIM: 0.023): 100%|\u001b[36m██████\u001b[0m| 1000/1000 [00:08<00:00, 117.56step/s]\u001b[0m\n",
      "[I 2025-01-08 23:20:26,165] Trial 35 finished with value: 0.01348087191581726 and parameters: {'scale_regularization': 0.5, 'opacity_regularization': None, 'extent': 4.0, 'init_scale': 2.0, 'init_opacity': 0.6, 'image_index': 2}. Best is trial 20 with value: 0.011599410325288773.\n"
     ]
    },
    {
     "name": "stdout",
     "output_type": "stream",
     "text": [
      "Final loss: 0.0815536305308342\n",
      "Total Time: Rasterization: 1.147s, Backward: 3.474s\n",
      "Trial 35 finished with value: 0.01348087191581726 and parameters: {'scale_regularization': 0.5, 'opacity_regularization': None, 'extent': 4.0, 'init_scale': 2.0, 'init_opacity': 0.6, 'image_index': 2}. Best is trial 20 with value: 0.011599410325288773.\n",
      "Trial 35 finished with value: 0.01348087191581726 and parameters: {'scale_regularization': 0.5, 'opacity_regularization': None, 'extent': 4.0, 'init_scale': 2.0, 'init_opacity': 0.6, 'image_index': 2}. Best is trial 20 with value: 0.011599410325288773.\n",
      "Model initialized. Number of Gaussians: 1024\n"
     ]
    },
    {
     "name": "stderr",
     "output_type": "stream",
     "text": [
      "Loss: 0.127 (L1: 0.015, MSE: 0.001, SSIM: 0.029): 100%|\u001b[36m██████\u001b[0m| 1000/1000 [00:08<00:00, 121.65step/s]\u001b[0m\n",
      "[I 2025-01-08 23:20:35,043] Trial 36 finished with value: 0.014927413314580917 and parameters: {'scale_regularization': 0.5, 'opacity_regularization': None, 'extent': 2.0, 'init_scale': 3.0, 'init_opacity': 0.7, 'image_index': 2}. Best is trial 20 with value: 0.011599410325288773.\n"
     ]
    },
    {
     "name": "stdout",
     "output_type": "stream",
     "text": [
      "Final loss: 0.12626472115516663\n",
      "Total Time: Rasterization: 1.119s, Backward: 3.305s\n",
      "Trial 36 finished with value: 0.014927413314580917 and parameters: {'scale_regularization': 0.5, 'opacity_regularization': None, 'extent': 2.0, 'init_scale': 3.0, 'init_opacity': 0.7, 'image_index': 2}. Best is trial 20 with value: 0.011599410325288773.\n",
      "Trial 36 finished with value: 0.014927413314580917 and parameters: {'scale_regularization': 0.5, 'opacity_regularization': None, 'extent': 2.0, 'init_scale': 3.0, 'init_opacity': 0.7, 'image_index': 2}. Best is trial 20 with value: 0.011599410325288773.\n",
      "Model initialized. Number of Gaussians: 1024\n"
     ]
    },
    {
     "name": "stderr",
     "output_type": "stream",
     "text": [
      "Loss: 0.130 (L1: 0.013, MSE: 0.001, SSIM: 0.039): 100%|\u001b[36m██████\u001b[0m| 1000/1000 [00:08<00:00, 121.16step/s]\u001b[0m\n",
      "[I 2025-01-08 23:20:43,960] Trial 37 finished with value: 0.013939166441559792 and parameters: {'scale_regularization': 0.5, 'opacity_regularization': None, 'extent': 2.0, 'init_scale': 3.0, 'init_opacity': 0.7, 'image_index': 2}. Best is trial 20 with value: 0.011599410325288773.\n"
     ]
    },
    {
     "name": "stdout",
     "output_type": "stream",
     "text": [
      "Final loss: 0.12542925775051117\n",
      "Total Time: Rasterization: 1.120s, Backward: 3.356s\n",
      "Trial 37 finished with value: 0.013939166441559792 and parameters: {'scale_regularization': 0.5, 'opacity_regularization': None, 'extent': 2.0, 'init_scale': 3.0, 'init_opacity': 0.7, 'image_index': 2}. Best is trial 20 with value: 0.011599410325288773.\n",
      "Trial 37 finished with value: 0.013939166441559792 and parameters: {'scale_regularization': 0.5, 'opacity_regularization': None, 'extent': 2.0, 'init_scale': 3.0, 'init_opacity': 0.7, 'image_index': 2}. Best is trial 20 with value: 0.011599410325288773.\n",
      "Model initialized. Number of Gaussians: 1024\n"
     ]
    },
    {
     "name": "stderr",
     "output_type": "stream",
     "text": [
      "Loss: 0.125 (L1: 0.012, MSE: 0.001, SSIM: 0.025): 100%|\u001b[36m██████\u001b[0m| 1000/1000 [00:08<00:00, 120.26step/s]\u001b[0m\n",
      "[I 2025-01-08 23:20:52,938] Trial 38 finished with value: 0.012027658522129059 and parameters: {'scale_regularization': 0.5, 'opacity_regularization': None, 'extent': 2.0, 'init_scale': 3.0, 'init_opacity': 0.7, 'image_index': 2}. Best is trial 20 with value: 0.011599410325288773.\n"
     ]
    },
    {
     "name": "stdout",
     "output_type": "stream",
     "text": [
      "Final loss: 0.12388382107019424\n",
      "Total Time: Rasterization: 1.121s, Backward: 3.344s\n",
      "Trial 38 finished with value: 0.012027658522129059 and parameters: {'scale_regularization': 0.5, 'opacity_regularization': None, 'extent': 2.0, 'init_scale': 3.0, 'init_opacity': 0.7, 'image_index': 2}. Best is trial 20 with value: 0.011599410325288773.\n",
      "Trial 38 finished with value: 0.012027658522129059 and parameters: {'scale_regularization': 0.5, 'opacity_regularization': None, 'extent': 2.0, 'init_scale': 3.0, 'init_opacity': 0.7, 'image_index': 2}. Best is trial 20 with value: 0.011599410325288773.\n",
      "Model initialized. Number of Gaussians: 1024\n"
     ]
    },
    {
     "name": "stderr",
     "output_type": "stream",
     "text": [
      "Loss: 0.179 (L1: 0.028, MSE: 0.002, SSIM: 0.084): 100%|\u001b[36m██████\u001b[0m| 1000/1000 [00:08<00:00, 113.55step/s]\u001b[0m\n",
      "[I 2025-01-08 23:21:02,424] Trial 39 finished with value: 0.03839492425322533 and parameters: {'scale_regularization': 0.5, 'opacity_regularization': 0.5, 'extent': 2.0, 'init_scale': 3.0, 'init_opacity': 0.7, 'image_index': 2}. Best is trial 20 with value: 0.011599410325288773.\n"
     ]
    },
    {
     "name": "stdout",
     "output_type": "stream",
     "text": [
      "Final loss: 0.1780441701412201\n",
      "Total Time: Rasterization: 1.155s, Backward: 3.582s\n",
      "Trial 39 finished with value: 0.03839492425322533 and parameters: {'scale_regularization': 0.5, 'opacity_regularization': 0.5, 'extent': 2.0, 'init_scale': 3.0, 'init_opacity': 0.7, 'image_index': 2}. Best is trial 20 with value: 0.011599410325288773.\n",
      "Trial 39 finished with value: 0.03839492425322533 and parameters: {'scale_regularization': 0.5, 'opacity_regularization': 0.5, 'extent': 2.0, 'init_scale': 3.0, 'init_opacity': 0.7, 'image_index': 2}. Best is trial 20 with value: 0.011599410325288773.\n",
      "Model initialized. Number of Gaussians: 1024\n"
     ]
    },
    {
     "name": "stderr",
     "output_type": "stream",
     "text": [
      "Loss: 0.080 (L1: 0.027, MSE: 0.002, SSIM: 0.102): 100%|\u001b[36m██████\u001b[0m| 1000/1000 [00:08<00:00, 121.32step/s]\u001b[0m\n",
      "[I 2025-01-08 23:21:11,331] Trial 40 finished with value: 0.04293954372406006 and parameters: {'scale_regularization': 0.1, 'opacity_regularization': None, 'extent': 2.0, 'init_scale': 3.0, 'init_opacity': 0.7, 'image_index': 0}. Best is trial 20 with value: 0.011599410325288773.\n"
     ]
    },
    {
     "name": "stdout",
     "output_type": "stream",
     "text": [
      "Final loss: 0.07902020215988159\n",
      "Total Time: Rasterization: 1.113s, Backward: 3.262s\n",
      "Trial 40 finished with value: 0.04293954372406006 and parameters: {'scale_regularization': 0.1, 'opacity_regularization': None, 'extent': 2.0, 'init_scale': 3.0, 'init_opacity': 0.7, 'image_index': 0}. Best is trial 20 with value: 0.011599410325288773.\n",
      "Trial 40 finished with value: 0.04293954372406006 and parameters: {'scale_regularization': 0.1, 'opacity_regularization': None, 'extent': 2.0, 'init_scale': 3.0, 'init_opacity': 0.7, 'image_index': 0}. Best is trial 20 with value: 0.011599410325288773.\n",
      "Model initialized. Number of Gaussians: 1024\n"
     ]
    },
    {
     "name": "stderr",
     "output_type": "stream",
     "text": [
      "Loss: 0.058 (L1: 0.026, MSE: 0.002, SSIM: 0.060): 100%|\u001b[36m██████\u001b[0m| 1000/1000 [00:08<00:00, 122.42step/s]\u001b[0m\n",
      "[I 2025-01-08 23:21:20,225] Trial 41 finished with value: 0.029483003541827202 and parameters: {'scale_regularization': None, 'opacity_regularization': 0.5, 'extent': 2.0, 'init_scale': 2.0, 'init_opacity': 0.7, 'image_index': 2}. Best is trial 20 with value: 0.011599410325288773.\n"
     ]
    },
    {
     "name": "stdout",
     "output_type": "stream",
     "text": [
      "Final loss: 0.0585436187684536\n",
      "Total Time: Rasterization: 1.120s, Backward: 3.292s\n",
      "Trial 41 finished with value: 0.029483003541827202 and parameters: {'scale_regularization': None, 'opacity_regularization': 0.5, 'extent': 2.0, 'init_scale': 2.0, 'init_opacity': 0.7, 'image_index': 2}. Best is trial 20 with value: 0.011599410325288773.\n",
      "Trial 41 finished with value: 0.029483003541827202 and parameters: {'scale_regularization': None, 'opacity_regularization': 0.5, 'extent': 2.0, 'init_scale': 2.0, 'init_opacity': 0.7, 'image_index': 2}. Best is trial 20 with value: 0.011599410325288773.\n",
      "Model initialized. Number of Gaussians: 1024\n"
     ]
    },
    {
     "name": "stderr",
     "output_type": "stream",
     "text": [
      "Loss: 0.360 (L1: 0.033, MSE: 0.002, SSIM: 0.224): 100%|\u001b[36m██████\u001b[0m| 1000/1000 [00:08<00:00, 113.97step/s]\u001b[0m\n",
      "[I 2025-01-08 23:21:29,667] Trial 42 finished with value: 0.08611118793487549 and parameters: {'scale_regularization': 0.5, 'opacity_regularization': 1.0, 'extent': 1.0, 'init_scale': 4.0, 'init_opacity': 0.7, 'image_index': 3}. Best is trial 20 with value: 0.011599410325288773.\n"
     ]
    },
    {
     "name": "stdout",
     "output_type": "stream",
     "text": [
      "Final loss: 0.3581840395927429\n",
      "Total Time: Rasterization: 1.156s, Backward: 3.550s\n",
      "Trial 42 finished with value: 0.08611118793487549 and parameters: {'scale_regularization': 0.5, 'opacity_regularization': 1.0, 'extent': 1.0, 'init_scale': 4.0, 'init_opacity': 0.7, 'image_index': 3}. Best is trial 20 with value: 0.011599410325288773.\n",
      "Trial 42 finished with value: 0.08611118793487549 and parameters: {'scale_regularization': 0.5, 'opacity_regularization': 1.0, 'extent': 1.0, 'init_scale': 4.0, 'init_opacity': 0.7, 'image_index': 3}. Best is trial 20 with value: 0.011599410325288773.\n",
      "Model initialized. Number of Gaussians: 1024\n"
     ]
    },
    {
     "name": "stderr",
     "output_type": "stream",
     "text": [
      "Loss: 0.281 (L1: 0.032, MSE: 0.003, SSIM: 0.133): 100%|\u001b[36m██████\u001b[0m| 1000/1000 [00:08<00:00, 120.59step/s]\u001b[0m\n",
      "[I 2025-01-08 23:21:38,618] Trial 43 finished with value: 0.055300939828157425 and parameters: {'scale_regularization': 1.0, 'opacity_regularization': None, 'extent': 2.0, 'init_scale': 3.0, 'init_opacity': 0.6, 'image_index': 0}. Best is trial 20 with value: 0.011599410325288773.\n"
     ]
    },
    {
     "name": "stdout",
     "output_type": "stream",
     "text": [
      "Final loss: 0.27891579270362854\n",
      "Total Time: Rasterization: 1.111s, Backward: 3.318s\n",
      "Trial 43 finished with value: 0.055300939828157425 and parameters: {'scale_regularization': 1.0, 'opacity_regularization': None, 'extent': 2.0, 'init_scale': 3.0, 'init_opacity': 0.6, 'image_index': 0}. Best is trial 20 with value: 0.011599410325288773.\n",
      "Trial 43 finished with value: 0.055300939828157425 and parameters: {'scale_regularization': 1.0, 'opacity_regularization': None, 'extent': 2.0, 'init_scale': 3.0, 'init_opacity': 0.6, 'image_index': 0}. Best is trial 20 with value: 0.011599410325288773.\n",
      "Model initialized. Number of Gaussians: 1024\n"
     ]
    },
    {
     "name": "stderr",
     "output_type": "stream",
     "text": [
      "Loss: 0.102 (L1: 0.028, MSE: 0.002, SSIM: 0.074): 100%|\u001b[36m██████\u001b[0m| 1000/1000 [00:08<00:00, 114.38step/s]\u001b[0m\n",
      "[I 2025-01-08 23:21:48,022] Trial 44 finished with value: 0.034654222428798676 and parameters: {'scale_regularization': 0.1, 'opacity_regularization': 0.5, 'extent': 2.0, 'init_scale': 2.0, 'init_opacity': 0.5, 'image_index': 2}. Best is trial 20 with value: 0.011599410325288773.\n"
     ]
    },
    {
     "name": "stdout",
     "output_type": "stream",
     "text": [
      "Final loss: 0.10187160968780518\n",
      "Total Time: Rasterization: 1.148s, Backward: 3.595s\n",
      "Trial 44 finished with value: 0.034654222428798676 and parameters: {'scale_regularization': 0.1, 'opacity_regularization': 0.5, 'extent': 2.0, 'init_scale': 2.0, 'init_opacity': 0.5, 'image_index': 2}. Best is trial 20 with value: 0.011599410325288773.\n",
      "Trial 44 finished with value: 0.034654222428798676 and parameters: {'scale_regularization': 0.1, 'opacity_regularization': 0.5, 'extent': 2.0, 'init_scale': 2.0, 'init_opacity': 0.5, 'image_index': 2}. Best is trial 20 with value: 0.011599410325288773.\n",
      "Model initialized. Number of Gaussians: 1024\n"
     ]
    },
    {
     "name": "stderr",
     "output_type": "stream",
     "text": [
      "Loss: 0.179 (L1: 0.045, MSE: 0.005, SSIM: 0.135): 100%|\u001b[36m██████\u001b[0m| 1000/1000 [00:08<00:00, 118.08step/s]\u001b[0m\n",
      "[I 2025-01-08 23:21:57,195] Trial 45 finished with value: 0.061522677540779114 and parameters: {'scale_regularization': 0.5, 'opacity_regularization': None, 'extent': 1.0, 'init_scale': 3.0, 'init_opacity': 0.7, 'image_index': 1}. Best is trial 20 with value: 0.011599410325288773.\n"
     ]
    },
    {
     "name": "stdout",
     "output_type": "stream",
     "text": [
      "Final loss: 0.17853349447250366\n",
      "Total Time: Rasterization: 1.142s, Backward: 3.446s\n",
      "Trial 45 finished with value: 0.061522677540779114 and parameters: {'scale_regularization': 0.5, 'opacity_regularization': None, 'extent': 1.0, 'init_scale': 3.0, 'init_opacity': 0.7, 'image_index': 1}. Best is trial 20 with value: 0.011599410325288773.\n",
      "Trial 45 finished with value: 0.061522677540779114 and parameters: {'scale_regularization': 0.5, 'opacity_regularization': None, 'extent': 1.0, 'init_scale': 3.0, 'init_opacity': 0.7, 'image_index': 1}. Best is trial 20 with value: 0.011599410325288773.\n",
      "Model initialized. Number of Gaussians: 1024\n"
     ]
    },
    {
     "name": "stderr",
     "output_type": "stream",
     "text": [
      "Loss: 0.125 (L1: 0.014, MSE: 0.001, SSIM: 0.024): 100%|\u001b[36m██████\u001b[0m| 1000/1000 [00:08<00:00, 120.00step/s]\u001b[0m\n",
      "[I 2025-01-08 23:22:06,213] Trial 46 finished with value: 0.012272504158318043 and parameters: {'scale_regularization': 0.5, 'opacity_regularization': None, 'extent': 2.0, 'init_scale': 3.0, 'init_opacity': 0.7, 'image_index': 2}. Best is trial 20 with value: 0.011599410325288773.\n"
     ]
    },
    {
     "name": "stdout",
     "output_type": "stream",
     "text": [
      "Final loss: 0.12379514425992966\n",
      "Total Time: Rasterization: 1.136s, Backward: 3.367s\n",
      "Trial 46 finished with value: 0.012272504158318043 and parameters: {'scale_regularization': 0.5, 'opacity_regularization': None, 'extent': 2.0, 'init_scale': 3.0, 'init_opacity': 0.7, 'image_index': 2}. Best is trial 20 with value: 0.011599410325288773.\n",
      "Trial 46 finished with value: 0.012272504158318043 and parameters: {'scale_regularization': 0.5, 'opacity_regularization': None, 'extent': 2.0, 'init_scale': 3.0, 'init_opacity': 0.7, 'image_index': 2}. Best is trial 20 with value: 0.011599410325288773.\n",
      "Model initialized. Number of Gaussians: 1024\n"
     ]
    },
    {
     "name": "stderr",
     "output_type": "stream",
     "text": [
      "Loss: 0.125 (L1: 0.013, MSE: 0.001, SSIM: 0.025): 100%|\u001b[36m██████\u001b[0m| 1000/1000 [00:08<00:00, 122.20step/s]\u001b[0m\n",
      "[I 2025-01-08 23:22:15,090] Trial 47 finished with value: 0.013013362884521484 and parameters: {'scale_regularization': 0.5, 'opacity_regularization': None, 'extent': 2.0, 'init_scale': 3.0, 'init_opacity': 0.7, 'image_index': 2}. Best is trial 20 with value: 0.011599410325288773.\n"
     ]
    },
    {
     "name": "stdout",
     "output_type": "stream",
     "text": [
      "Final loss: 0.12427540868520737\n",
      "Total Time: Rasterization: 1.109s, Backward: 3.316s\n",
      "Trial 47 finished with value: 0.013013362884521484 and parameters: {'scale_regularization': 0.5, 'opacity_regularization': None, 'extent': 2.0, 'init_scale': 3.0, 'init_opacity': 0.7, 'image_index': 2}. Best is trial 20 with value: 0.011599410325288773.\n",
      "Trial 47 finished with value: 0.013013362884521484 and parameters: {'scale_regularization': 0.5, 'opacity_regularization': None, 'extent': 2.0, 'init_scale': 3.0, 'init_opacity': 0.7, 'image_index': 2}. Best is trial 20 with value: 0.011599410325288773.\n",
      "Model initialized. Number of Gaussians: 1024\n"
     ]
    },
    {
     "name": "stderr",
     "output_type": "stream",
     "text": [
      "Loss: 0.126 (L1: 0.014, MSE: 0.001, SSIM: 0.026): 100%|\u001b[36m██████\u001b[0m| 1000/1000 [00:08<00:00, 120.48step/s]\u001b[0m\n",
      "[I 2025-01-08 23:22:24,059] Trial 48 finished with value: 0.01306363008916378 and parameters: {'scale_regularization': 0.5, 'opacity_regularization': None, 'extent': 2.0, 'init_scale': 3.0, 'init_opacity': 0.7, 'image_index': 2}. Best is trial 20 with value: 0.011599410325288773.\n"
     ]
    },
    {
     "name": "stdout",
     "output_type": "stream",
     "text": [
      "Final loss: 0.12546952068805695\n",
      "Total Time: Rasterization: 1.126s, Backward: 3.360s\n",
      "Trial 48 finished with value: 0.01306363008916378 and parameters: {'scale_regularization': 0.5, 'opacity_regularization': None, 'extent': 2.0, 'init_scale': 3.0, 'init_opacity': 0.7, 'image_index': 2}. Best is trial 20 with value: 0.011599410325288773.\n",
      "Trial 48 finished with value: 0.01306363008916378 and parameters: {'scale_regularization': 0.5, 'opacity_regularization': None, 'extent': 2.0, 'init_scale': 3.0, 'init_opacity': 0.7, 'image_index': 2}. Best is trial 20 with value: 0.011599410325288773.\n",
      "Model initialized. Number of Gaussians: 1024\n"
     ]
    },
    {
     "name": "stderr",
     "output_type": "stream",
     "text": [
      "Loss: 0.126 (L1: 0.014, MSE: 0.001, SSIM: 0.028): 100%|\u001b[36m██████\u001b[0m| 1000/1000 [00:08<00:00, 121.18step/s]\u001b[0m\n",
      "[I 2025-01-08 23:22:32,993] Trial 49 finished with value: 0.014317572116851807 and parameters: {'scale_regularization': 0.5, 'opacity_regularization': None, 'extent': 2.0, 'init_scale': 3.0, 'init_opacity': 0.7, 'image_index': 2}. Best is trial 20 with value: 0.011599410325288773.\n"
     ]
    },
    {
     "name": "stdout",
     "output_type": "stream",
     "text": [
      "Final loss: 0.125230073928833\n",
      "Total Time: Rasterization: 1.120s, Backward: 3.333s\n",
      "Trial 49 finished with value: 0.014317572116851807 and parameters: {'scale_regularization': 0.5, 'opacity_regularization': None, 'extent': 2.0, 'init_scale': 3.0, 'init_opacity': 0.7, 'image_index': 2}. Best is trial 20 with value: 0.011599410325288773.\n",
      "Trial 49 finished with value: 0.014317572116851807 and parameters: {'scale_regularization': 0.5, 'opacity_regularization': None, 'extent': 2.0, 'init_scale': 3.0, 'init_opacity': 0.7, 'image_index': 2}. Best is trial 20 with value: 0.011599410325288773.\n",
      "Model initialized. Number of Gaussians: 1024\n"
     ]
    },
    {
     "name": "stderr",
     "output_type": "stream",
     "text": [
      "Loss: 0.259 (L1: 0.018, MSE: 0.001, SSIM: 0.085): 100%|\u001b[36m██████\u001b[0m| 1000/1000 [00:08<00:00, 119.19step/s]\u001b[0m\n",
      "[I 2025-01-08 23:22:42,056] Trial 50 finished with value: 0.036606643348932266 and parameters: {'scale_regularization': 1.0, 'opacity_regularization': None, 'extent': 2.0, 'init_scale': 3.0, 'init_opacity': 0.7, 'image_index': 3}. Best is trial 20 with value: 0.011599410325288773.\n"
     ]
    },
    {
     "name": "stdout",
     "output_type": "stream",
     "text": [
      "Final loss: 0.2594994902610779\n",
      "Total Time: Rasterization: 1.136s, Backward: 3.379s\n",
      "Trial 50 finished with value: 0.036606643348932266 and parameters: {'scale_regularization': 1.0, 'opacity_regularization': None, 'extent': 2.0, 'init_scale': 3.0, 'init_opacity': 0.7, 'image_index': 3}. Best is trial 20 with value: 0.011599410325288773.\n",
      "Trial 50 finished with value: 0.036606643348932266 and parameters: {'scale_regularization': 1.0, 'opacity_regularization': None, 'extent': 2.0, 'init_scale': 3.0, 'init_opacity': 0.7, 'image_index': 3}. Best is trial 20 with value: 0.011599410325288773.\n",
      "Model initialized. Number of Gaussians: 1024\n"
     ]
    },
    {
     "name": "stderr",
     "output_type": "stream",
     "text": [
      "Loss: 0.274 (L1: 0.025, MSE: 0.002, SSIM: 0.064): 100%|\u001b[36m██████\u001b[0m| 1000/1000 [00:08<00:00, 118.21step/s]\u001b[0m\n",
      "[I 2025-01-08 23:22:51,202] Trial 51 finished with value: 0.03021334856748581 and parameters: {'scale_regularization': 0.5, 'opacity_regularization': 0.1, 'extent': 2.0, 'init_scale': 4.0, 'init_opacity': 0.5, 'image_index': 2}. Best is trial 20 with value: 0.011599410325288773.\n"
     ]
    },
    {
     "name": "stdout",
     "output_type": "stream",
     "text": [
      "Final loss: 0.2727826237678528\n",
      "Total Time: Rasterization: 1.117s, Backward: 3.407s\n",
      "Trial 51 finished with value: 0.03021334856748581 and parameters: {'scale_regularization': 0.5, 'opacity_regularization': 0.1, 'extent': 2.0, 'init_scale': 4.0, 'init_opacity': 0.5, 'image_index': 2}. Best is trial 20 with value: 0.011599410325288773.\n",
      "Trial 51 finished with value: 0.03021334856748581 and parameters: {'scale_regularization': 0.5, 'opacity_regularization': 0.1, 'extent': 2.0, 'init_scale': 4.0, 'init_opacity': 0.5, 'image_index': 2}. Best is trial 20 with value: 0.011599410325288773.\n",
      "Model initialized. Number of Gaussians: 1024\n"
     ]
    },
    {
     "name": "stderr",
     "output_type": "stream",
     "text": [
      "Loss: 0.224 (L1: 0.038, MSE: 0.003, SSIM: 0.112): 100%|\u001b[36m██████\u001b[0m| 1000/1000 [00:08<00:00, 114.04step/s]\u001b[0m\n",
      "[I 2025-01-08 23:23:00,661] Trial 52 finished with value: 0.051417276263237 and parameters: {'scale_regularization': 0.5, 'opacity_regularization': 1.0, 'extent': 4.0, 'init_scale': 3.0, 'init_opacity': 0.6, 'image_index': 2}. Best is trial 20 with value: 0.011599410325288773.\n"
     ]
    },
    {
     "name": "stdout",
     "output_type": "stream",
     "text": [
      "Final loss: 0.22356420755386353\n",
      "Total Time: Rasterization: 1.144s, Backward: 3.598s\n",
      "Trial 52 finished with value: 0.051417276263237 and parameters: {'scale_regularization': 0.5, 'opacity_regularization': 1.0, 'extent': 4.0, 'init_scale': 3.0, 'init_opacity': 0.6, 'image_index': 2}. Best is trial 20 with value: 0.011599410325288773.\n",
      "Trial 52 finished with value: 0.051417276263237 and parameters: {'scale_regularization': 0.5, 'opacity_regularization': 1.0, 'extent': 4.0, 'init_scale': 3.0, 'init_opacity': 0.6, 'image_index': 2}. Best is trial 20 with value: 0.011599410325288773.\n",
      "Model initialized. Number of Gaussians: 1024\n"
     ]
    },
    {
     "name": "stderr",
     "output_type": "stream",
     "text": [
      "Loss: 0.012 (L1: 0.013, MSE: 0.001, SSIM: 0.021): 100%|\u001b[36m██████\u001b[0m| 1000/1000 [00:07<00:00, 128.16step/s]\u001b[0m\n",
      "[I 2025-01-08 23:23:09,182] Trial 53 finished with value: 0.011570621281862259 and parameters: {'scale_regularization': None, 'opacity_regularization': None, 'extent': 2.0, 'init_scale': 3.0, 'init_opacity': 0.7, 'image_index': 2}. Best is trial 53 with value: 0.011570621281862259.\n"
     ]
    },
    {
     "name": "stdout",
     "output_type": "stream",
     "text": [
      "Final loss: 0.011570621281862259\n",
      "Total Time: Rasterization: 1.104s, Backward: 3.136s\n",
      "Trial 53 finished with value: 0.011570621281862259 and parameters: {'scale_regularization': None, 'opacity_regularization': None, 'extent': 2.0, 'init_scale': 3.0, 'init_opacity': 0.7, 'image_index': 2}. Best is trial 53 with value: 0.011570621281862259.\n",
      "Trial 53 finished with value: 0.011570621281862259 and parameters: {'scale_regularization': None, 'opacity_regularization': None, 'extent': 2.0, 'init_scale': 3.0, 'init_opacity': 0.7, 'image_index': 2}. Best is trial 53 with value: 0.011570621281862259.\n",
      "Model initialized. Number of Gaussians: 1024\n"
     ]
    },
    {
     "name": "stderr",
     "output_type": "stream",
     "text": [
      "Loss: 0.040 (L1: 0.028, MSE: 0.002, SSIM: 0.089): 100%|\u001b[36m██████\u001b[0m| 1000/1000 [00:07<00:00, 127.02step/s]\u001b[0m\n",
      "[I 2025-01-08 23:23:17,716] Trial 54 finished with value: 0.04036516323685646 and parameters: {'scale_regularization': None, 'opacity_regularization': None, 'extent': 2.0, 'init_scale': 3.0, 'init_opacity': 0.5, 'image_index': 0}. Best is trial 53 with value: 0.011570621281862259.\n"
     ]
    },
    {
     "name": "stdout",
     "output_type": "stream",
     "text": [
      "Final loss: 0.04036516323685646\n",
      "Total Time: Rasterization: 1.115s, Backward: 3.164s\n",
      "Trial 54 finished with value: 0.04036516323685646 and parameters: {'scale_regularization': None, 'opacity_regularization': None, 'extent': 2.0, 'init_scale': 3.0, 'init_opacity': 0.5, 'image_index': 0}. Best is trial 53 with value: 0.011570621281862259.\n",
      "Trial 54 finished with value: 0.04036516323685646 and parameters: {'scale_regularization': None, 'opacity_regularization': None, 'extent': 2.0, 'init_scale': 3.0, 'init_opacity': 0.5, 'image_index': 0}. Best is trial 53 with value: 0.011570621281862259.\n",
      "Model initialized. Number of Gaussians: 1024\n"
     ]
    },
    {
     "name": "stderr",
     "output_type": "stream",
     "text": [
      "Loss: 0.057 (L1: 0.026, MSE: 0.002, SSIM: 0.056): 100%|\u001b[36m██████\u001b[0m| 1000/1000 [00:08<00:00, 114.89step/s]\u001b[0m\n",
      "[I 2025-01-08 23:23:27,030] Trial 55 finished with value: 0.02771737053990364 and parameters: {'scale_regularization': None, 'opacity_regularization': 0.5, 'extent': 2.0, 'init_scale': 3.0, 'init_opacity': 0.7, 'image_index': 2}. Best is trial 53 with value: 0.011570621281862259.\n"
     ]
    },
    {
     "name": "stdout",
     "output_type": "stream",
     "text": [
      "Final loss: 0.05685706436634064\n",
      "Total Time: Rasterization: 1.174s, Backward: 3.585s\n",
      "Trial 55 finished with value: 0.02771737053990364 and parameters: {'scale_regularization': None, 'opacity_regularization': 0.5, 'extent': 2.0, 'init_scale': 3.0, 'init_opacity': 0.7, 'image_index': 2}. Best is trial 53 with value: 0.011570621281862259.\n",
      "Trial 55 finished with value: 0.02771737053990364 and parameters: {'scale_regularization': None, 'opacity_regularization': 0.5, 'extent': 2.0, 'init_scale': 3.0, 'init_opacity': 0.7, 'image_index': 2}. Best is trial 53 with value: 0.011570621281862259.\n",
      "Model initialized. Number of Gaussians: 1024\n"
     ]
    },
    {
     "name": "stderr",
     "output_type": "stream",
     "text": [
      "Loss: 0.015 (L1: 0.015, MSE: 0.001, SSIM: 0.030): 100%|\u001b[36m██████\u001b[0m| 1000/1000 [00:07<00:00, 125.03step/s]\u001b[0m\n",
      "[I 2025-01-08 23:23:35,625] Trial 56 finished with value: 0.013559352606534958 and parameters: {'scale_regularization': None, 'opacity_regularization': None, 'extent': 2.0, 'init_scale': 3.0, 'init_opacity': 0.7, 'image_index': 2}. Best is trial 53 with value: 0.011570621281862259.\n"
     ]
    },
    {
     "name": "stdout",
     "output_type": "stream",
     "text": [
      "Final loss: 0.013559352606534958\n",
      "Total Time: Rasterization: 1.131s, Backward: 3.188s\n",
      "Trial 56 finished with value: 0.013559352606534958 and parameters: {'scale_regularization': None, 'opacity_regularization': None, 'extent': 2.0, 'init_scale': 3.0, 'init_opacity': 0.7, 'image_index': 2}. Best is trial 53 with value: 0.011570621281862259.\n",
      "Trial 56 finished with value: 0.013559352606534958 and parameters: {'scale_regularization': None, 'opacity_regularization': None, 'extent': 2.0, 'init_scale': 3.0, 'init_opacity': 0.7, 'image_index': 2}. Best is trial 53 with value: 0.011570621281862259.\n",
      "Model initialized. Number of Gaussians: 1024\n"
     ]
    },
    {
     "name": "stderr",
     "output_type": "stream",
     "text": [
      "Loss: 0.012 (L1: 0.014, MSE: 0.001, SSIM: 0.021): 100%|\u001b[36m██████\u001b[0m| 1000/1000 [00:07<00:00, 129.11step/s]\u001b[0m\n",
      "[I 2025-01-08 23:23:43,971] Trial 57 finished with value: 0.012400329113006592 and parameters: {'scale_regularization': None, 'opacity_regularization': None, 'extent': 2.0, 'init_scale': 3.0, 'init_opacity': 0.7, 'image_index': 2}. Best is trial 53 with value: 0.011570621281862259.\n"
     ]
    },
    {
     "name": "stdout",
     "output_type": "stream",
     "text": [
      "Final loss: 0.012400329113006592\n",
      "Total Time: Rasterization: 1.099s, Backward: 3.112s\n",
      "Trial 57 finished with value: 0.012400329113006592 and parameters: {'scale_regularization': None, 'opacity_regularization': None, 'extent': 2.0, 'init_scale': 3.0, 'init_opacity': 0.7, 'image_index': 2}. Best is trial 53 with value: 0.011570621281862259.\n",
      "Trial 57 finished with value: 0.012400329113006592 and parameters: {'scale_regularization': None, 'opacity_regularization': None, 'extent': 2.0, 'init_scale': 3.0, 'init_opacity': 0.7, 'image_index': 2}. Best is trial 53 with value: 0.011570621281862259.\n",
      "Model initialized. Number of Gaussians: 1024\n"
     ]
    },
    {
     "name": "stderr",
     "output_type": "stream",
     "text": [
      "Loss: 0.013 (L1: 0.014, MSE: 0.001, SSIM: 0.023): 100%|\u001b[36m██████\u001b[0m| 1000/1000 [00:07<00:00, 129.15step/s]\u001b[0m\n",
      "[I 2025-01-08 23:23:52,317] Trial 58 finished with value: 0.01292876061052084 and parameters: {'scale_regularization': None, 'opacity_regularization': None, 'extent': 2.0, 'init_scale': 3.0, 'init_opacity': 0.7, 'image_index': 2}. Best is trial 53 with value: 0.011570621281862259.\n"
     ]
    },
    {
     "name": "stdout",
     "output_type": "stream",
     "text": [
      "Final loss: 0.01292876061052084\n",
      "Total Time: Rasterization: 1.090s, Backward: 3.090s\n",
      "Trial 58 finished with value: 0.01292876061052084 and parameters: {'scale_regularization': None, 'opacity_regularization': None, 'extent': 2.0, 'init_scale': 3.0, 'init_opacity': 0.7, 'image_index': 2}. Best is trial 53 with value: 0.011570621281862259.\n",
      "Trial 58 finished with value: 0.01292876061052084 and parameters: {'scale_regularization': None, 'opacity_regularization': None, 'extent': 2.0, 'init_scale': 3.0, 'init_opacity': 0.7, 'image_index': 2}. Best is trial 53 with value: 0.011570621281862259.\n",
      "Model initialized. Number of Gaussians: 1024\n"
     ]
    },
    {
     "name": "stderr",
     "output_type": "stream",
     "text": [
      "Loss: 0.013 (L1: 0.015, MSE: 0.001, SSIM: 0.025): 100%|\u001b[36m██████\u001b[0m| 1000/1000 [00:07<00:00, 127.46step/s]\u001b[0m\n",
      "[I 2025-01-08 23:24:00,761] Trial 59 finished with value: 0.01312057301402092 and parameters: {'scale_regularization': None, 'opacity_regularization': None, 'extent': 2.0, 'init_scale': 3.0, 'init_opacity': 0.7, 'image_index': 2}. Best is trial 53 with value: 0.011570621281862259.\n"
     ]
    },
    {
     "name": "stdout",
     "output_type": "stream",
     "text": [
      "Final loss: 0.01312057301402092\n",
      "Total Time: Rasterization: 1.106s, Backward: 3.143s\n",
      "Trial 59 finished with value: 0.01312057301402092 and parameters: {'scale_regularization': None, 'opacity_regularization': None, 'extent': 2.0, 'init_scale': 3.0, 'init_opacity': 0.7, 'image_index': 2}. Best is trial 53 with value: 0.011570621281862259.\n",
      "Trial 59 finished with value: 0.01312057301402092 and parameters: {'scale_regularization': None, 'opacity_regularization': None, 'extent': 2.0, 'init_scale': 3.0, 'init_opacity': 0.7, 'image_index': 2}. Best is trial 53 with value: 0.011570621281862259.\n",
      "Model initialized. Number of Gaussians: 1024\n"
     ]
    },
    {
     "name": "stderr",
     "output_type": "stream",
     "text": [
      "Loss: 0.012 (L1: 0.014, MSE: 0.001, SSIM: 0.021): 100%|\u001b[36m██████\u001b[0m| 1000/1000 [00:07<00:00, 125.29step/s]\u001b[0m\n",
      "[I 2025-01-08 23:24:09,360] Trial 60 finished with value: 0.011858567595481873 and parameters: {'scale_regularization': None, 'opacity_regularization': None, 'extent': 2.0, 'init_scale': 3.0, 'init_opacity': 0.5, 'image_index': 2}. Best is trial 53 with value: 0.011570621281862259.\n"
     ]
    },
    {
     "name": "stdout",
     "output_type": "stream",
     "text": [
      "Final loss: 0.011858567595481873\n",
      "Total Time: Rasterization: 1.124s, Backward: 3.183s\n",
      "Trial 60 finished with value: 0.011858567595481873 and parameters: {'scale_regularization': None, 'opacity_regularization': None, 'extent': 2.0, 'init_scale': 3.0, 'init_opacity': 0.5, 'image_index': 2}. Best is trial 53 with value: 0.011570621281862259.\n",
      "Trial 60 finished with value: 0.011858567595481873 and parameters: {'scale_regularization': None, 'opacity_regularization': None, 'extent': 2.0, 'init_scale': 3.0, 'init_opacity': 0.5, 'image_index': 2}. Best is trial 53 with value: 0.011570621281862259.\n",
      "Model initialized. Number of Gaussians: 1024\n"
     ]
    },
    {
     "name": "stderr",
     "output_type": "stream",
     "text": [
      "Loss: 0.011 (L1: 0.013, MSE: 0.001, SSIM: 0.019): 100%|\u001b[36m██████\u001b[0m| 1000/1000 [00:07<00:00, 127.05step/s]\u001b[0m\n",
      "[I 2025-01-08 23:24:17,816] Trial 61 finished with value: 0.010887814685702324 and parameters: {'scale_regularization': None, 'opacity_regularization': None, 'extent': 1.0, 'init_scale': 3.0, 'init_opacity': 0.5, 'image_index': 2}. Best is trial 61 with value: 0.010887814685702324.\n"
     ]
    },
    {
     "name": "stdout",
     "output_type": "stream",
     "text": [
      "Final loss: 0.010887814685702324\n",
      "Total Time: Rasterization: 1.108s, Backward: 3.121s\n",
      "Trial 61 finished with value: 0.010887814685702324 and parameters: {'scale_regularization': None, 'opacity_regularization': None, 'extent': 1.0, 'init_scale': 3.0, 'init_opacity': 0.5, 'image_index': 2}. Best is trial 61 with value: 0.010887814685702324.\n",
      "Trial 61 finished with value: 0.010887814685702324 and parameters: {'scale_regularization': None, 'opacity_regularization': None, 'extent': 1.0, 'init_scale': 3.0, 'init_opacity': 0.5, 'image_index': 2}. Best is trial 61 with value: 0.010887814685702324.\n",
      "Model initialized. Number of Gaussians: 1024\n"
     ]
    },
    {
     "name": "stderr",
     "output_type": "stream",
     "text": [
      "Loss: 0.031 (L1: 0.020, MSE: 0.001, SSIM: 0.042): 100%|\u001b[36m██████\u001b[0m| 1000/1000 [00:08<00:00, 118.40step/s]\u001b[0m\n",
      "[I 2025-01-08 23:24:26,856] Trial 62 finished with value: 0.02134726010262966 and parameters: {'scale_regularization': None, 'opacity_regularization': 0.1, 'extent': 1.0, 'init_scale': 4.0, 'init_opacity': 0.5, 'image_index': 2}. Best is trial 61 with value: 0.010887814685702324.\n"
     ]
    },
    {
     "name": "stdout",
     "output_type": "stream",
     "text": [
      "Final loss: 0.03173830360174179\n",
      "Total Time: Rasterization: 1.141s, Backward: 3.436s\n",
      "Trial 62 finished with value: 0.02134726010262966 and parameters: {'scale_regularization': None, 'opacity_regularization': 0.1, 'extent': 1.0, 'init_scale': 4.0, 'init_opacity': 0.5, 'image_index': 2}. Best is trial 61 with value: 0.010887814685702324.\n",
      "Trial 62 finished with value: 0.02134726010262966 and parameters: {'scale_regularization': None, 'opacity_regularization': 0.1, 'extent': 1.0, 'init_scale': 4.0, 'init_opacity': 0.5, 'image_index': 2}. Best is trial 61 with value: 0.010887814685702324.\n",
      "Model initialized. Number of Gaussians: 1024\n"
     ]
    },
    {
     "name": "stderr",
     "output_type": "stream",
     "text": [
      "Loss: 0.021 (L1: 0.014, MSE: 0.000, SSIM: 0.050): 100%|\u001b[36m██████\u001b[0m| 1000/1000 [00:07<00:00, 128.09step/s]\u001b[0m\n",
      "[I 2025-01-08 23:24:35,256] Trial 63 finished with value: 0.021601706743240356 and parameters: {'scale_regularization': None, 'opacity_regularization': None, 'extent': 1.0, 'init_scale': 3.0, 'init_opacity': 0.5, 'image_index': 3}. Best is trial 61 with value: 0.010887814685702324.\n"
     ]
    },
    {
     "name": "stdout",
     "output_type": "stream",
     "text": [
      "Final loss: 0.021601706743240356\n",
      "Total Time: Rasterization: 1.107s, Backward: 3.113s\n",
      "Trial 63 finished with value: 0.021601706743240356 and parameters: {'scale_regularization': None, 'opacity_regularization': None, 'extent': 1.0, 'init_scale': 3.0, 'init_opacity': 0.5, 'image_index': 3}. Best is trial 61 with value: 0.010887814685702324.\n",
      "Trial 63 finished with value: 0.021601706743240356 and parameters: {'scale_regularization': None, 'opacity_regularization': None, 'extent': 1.0, 'init_scale': 3.0, 'init_opacity': 0.5, 'image_index': 3}. Best is trial 61 with value: 0.010887814685702324.\n",
      "Model initialized. Number of Gaussians: 1024\n"
     ]
    },
    {
     "name": "stderr",
     "output_type": "stream",
     "text": [
      "Loss: 0.015 (L1: 0.015, MSE: 0.001, SSIM: 0.029): 100%|\u001b[36m██████\u001b[0m| 1000/1000 [00:07<00:00, 131.90step/s]\u001b[0m\n",
      "[I 2025-01-08 23:24:43,430] Trial 64 finished with value: 0.01568027026951313 and parameters: {'scale_regularization': None, 'opacity_regularization': None, 'extent': 1.0, 'init_scale': 2.0, 'init_opacity': 0.5, 'image_index': 2}. Best is trial 61 with value: 0.010887814685702324.\n"
     ]
    },
    {
     "name": "stdout",
     "output_type": "stream",
     "text": [
      "Final loss: 0.01568027026951313\n",
      "Total Time: Rasterization: 1.080s, Backward: 2.977s\n",
      "Trial 64 finished with value: 0.01568027026951313 and parameters: {'scale_regularization': None, 'opacity_regularization': None, 'extent': 1.0, 'init_scale': 2.0, 'init_opacity': 0.5, 'image_index': 2}. Best is trial 61 with value: 0.010887814685702324.\n",
      "Trial 64 finished with value: 0.01568027026951313 and parameters: {'scale_regularization': None, 'opacity_regularization': None, 'extent': 1.0, 'init_scale': 2.0, 'init_opacity': 0.5, 'image_index': 2}. Best is trial 61 with value: 0.010887814685702324.\n",
      "Model initialized. Number of Gaussians: 1024\n"
     ]
    },
    {
     "name": "stderr",
     "output_type": "stream",
     "text": [
      "Loss: 0.044 (L1: 0.038, MSE: 0.004, SSIM: 0.092): 100%|\u001b[36m██████\u001b[0m| 1000/1000 [00:08<00:00, 124.85step/s]\u001b[0m\n",
      "[I 2025-01-08 23:24:52,045] Trial 65 finished with value: 0.04591680318117142 and parameters: {'scale_regularization': None, 'opacity_regularization': None, 'extent': 1.0, 'init_scale': 3.0, 'init_opacity': 0.5, 'image_index': 1}. Best is trial 61 with value: 0.010887814685702324.\n"
     ]
    },
    {
     "name": "stdout",
     "output_type": "stream",
     "text": [
      "Final loss: 0.04591680318117142\n",
      "Total Time: Rasterization: 1.133s, Backward: 3.224s\n",
      "Trial 65 finished with value: 0.04591680318117142 and parameters: {'scale_regularization': None, 'opacity_regularization': None, 'extent': 1.0, 'init_scale': 3.0, 'init_opacity': 0.5, 'image_index': 1}. Best is trial 61 with value: 0.010887814685702324.\n",
      "Trial 65 finished with value: 0.04591680318117142 and parameters: {'scale_regularization': None, 'opacity_regularization': None, 'extent': 1.0, 'init_scale': 3.0, 'init_opacity': 0.5, 'image_index': 1}. Best is trial 61 with value: 0.010887814685702324.\n",
      "Model initialized. Number of Gaussians: 1024\n"
     ]
    },
    {
     "name": "stderr",
     "output_type": "stream",
     "text": [
      "Loss: 0.010 (L1: 0.013, MSE: 0.000, SSIM: 0.018): 100%|\u001b[36m██████\u001b[0m| 1000/1000 [00:07<00:00, 130.11step/s]\u001b[0m\n",
      "[I 2025-01-08 23:25:00,319] Trial 66 finished with value: 0.010570604354143143 and parameters: {'scale_regularization': None, 'opacity_regularization': None, 'extent': 2.0, 'init_scale': 3.0, 'init_opacity': 0.5, 'image_index': 2}. Best is trial 66 with value: 0.010570604354143143.\n"
     ]
    },
    {
     "name": "stdout",
     "output_type": "stream",
     "text": [
      "Final loss: 0.010570604354143143\n",
      "Total Time: Rasterization: 1.082s, Backward: 3.091s\n",
      "Trial 66 finished with value: 0.010570604354143143 and parameters: {'scale_regularization': None, 'opacity_regularization': None, 'extent': 2.0, 'init_scale': 3.0, 'init_opacity': 0.5, 'image_index': 2}. Best is trial 66 with value: 0.010570604354143143.\n",
      "Trial 66 finished with value: 0.010570604354143143 and parameters: {'scale_regularization': None, 'opacity_regularization': None, 'extent': 2.0, 'init_scale': 3.0, 'init_opacity': 0.5, 'image_index': 2}. Best is trial 66 with value: 0.010570604354143143.\n",
      "Model initialized. Number of Gaussians: 1024\n"
     ]
    },
    {
     "name": "stderr",
     "output_type": "stream",
     "text": [
      "Loss: 0.010 (L1: 0.013, MSE: 0.001, SSIM: 0.018): 100%|\u001b[36m██████\u001b[0m| 1000/1000 [00:07<00:00, 126.44step/s]\u001b[0m\n",
      "[I 2025-01-08 23:25:08,856] Trial 67 finished with value: 0.010683734901249409 and parameters: {'scale_regularization': None, 'opacity_regularization': None, 'extent': 1.0, 'init_scale': 3.0, 'init_opacity': 0.5, 'image_index': 2}. Best is trial 66 with value: 0.010570604354143143.\n"
     ]
    },
    {
     "name": "stdout",
     "output_type": "stream",
     "text": [
      "Final loss: 0.010683734901249409\n",
      "Total Time: Rasterization: 1.114s, Backward: 3.145s\n",
      "Trial 67 finished with value: 0.010683734901249409 and parameters: {'scale_regularization': None, 'opacity_regularization': None, 'extent': 1.0, 'init_scale': 3.0, 'init_opacity': 0.5, 'image_index': 2}. Best is trial 66 with value: 0.010570604354143143.\n",
      "Trial 67 finished with value: 0.010683734901249409 and parameters: {'scale_regularization': None, 'opacity_regularization': None, 'extent': 1.0, 'init_scale': 3.0, 'init_opacity': 0.5, 'image_index': 2}. Best is trial 66 with value: 0.010570604354143143.\n",
      "Model initialized. Number of Gaussians: 1024\n"
     ]
    },
    {
     "name": "stderr",
     "output_type": "stream",
     "text": [
      "Loss: 0.010 (L1: 0.013, MSE: 0.001, SSIM: 0.017): 100%|\u001b[36m██████\u001b[0m| 1000/1000 [00:08<00:00, 124.51step/s]\u001b[0m\n",
      "[I 2025-01-08 23:25:17,496] Trial 68 finished with value: 0.012084286659955978 and parameters: {'scale_regularization': None, 'opacity_regularization': None, 'extent': 1.0, 'init_scale': 3.0, 'init_opacity': 0.5, 'image_index': 2}. Best is trial 66 with value: 0.010570604354143143.\n"
     ]
    },
    {
     "name": "stdout",
     "output_type": "stream",
     "text": [
      "Final loss: 0.012084286659955978\n",
      "Total Time: Rasterization: 1.133s, Backward: 3.221s\n",
      "Trial 68 finished with value: 0.012084286659955978 and parameters: {'scale_regularization': None, 'opacity_regularization': None, 'extent': 1.0, 'init_scale': 3.0, 'init_opacity': 0.5, 'image_index': 2}. Best is trial 66 with value: 0.010570604354143143.\n",
      "Trial 68 finished with value: 0.012084286659955978 and parameters: {'scale_regularization': None, 'opacity_regularization': None, 'extent': 1.0, 'init_scale': 3.0, 'init_opacity': 0.5, 'image_index': 2}. Best is trial 66 with value: 0.010570604354143143.\n",
      "Model initialized. Number of Gaussians: 1024\n"
     ]
    },
    {
     "name": "stderr",
     "output_type": "stream",
     "text": [
      "Loss: 0.011 (L1: 0.013, MSE: 0.001, SSIM: 0.021): 100%|\u001b[36m██████\u001b[0m| 1000/1000 [00:07<00:00, 127.28step/s]\u001b[0m\n",
      "[I 2025-01-08 23:25:25,958] Trial 69 finished with value: 0.011797519400715828 and parameters: {'scale_regularization': None, 'opacity_regularization': None, 'extent': 1.0, 'init_scale': 3.0, 'init_opacity': 0.5, 'image_index': 2}. Best is trial 66 with value: 0.010570604354143143.\n"
     ]
    },
    {
     "name": "stdout",
     "output_type": "stream",
     "text": [
      "Final loss: 0.011797519400715828\n",
      "Total Time: Rasterization: 1.099s, Backward: 3.140s\n",
      "Trial 69 finished with value: 0.011797519400715828 and parameters: {'scale_regularization': None, 'opacity_regularization': None, 'extent': 1.0, 'init_scale': 3.0, 'init_opacity': 0.5, 'image_index': 2}. Best is trial 66 with value: 0.010570604354143143.\n",
      "Trial 69 finished with value: 0.011797519400715828 and parameters: {'scale_regularization': None, 'opacity_regularization': None, 'extent': 1.0, 'init_scale': 3.0, 'init_opacity': 0.5, 'image_index': 2}. Best is trial 66 with value: 0.010570604354143143.\n",
      "Model initialized. Number of Gaussians: 1024\n"
     ]
    },
    {
     "name": "stderr",
     "output_type": "stream",
     "text": [
      "Loss: 0.011 (L1: 0.013, MSE: 0.001, SSIM: 0.019): 100%|\u001b[36m██████\u001b[0m| 1000/1000 [00:08<00:00, 124.01step/s]\u001b[0m\n",
      "[I 2025-01-08 23:25:34,622] Trial 70 finished with value: 0.010898136533796787 and parameters: {'scale_regularization': None, 'opacity_regularization': None, 'extent': 1.0, 'init_scale': 3.0, 'init_opacity': 0.5, 'image_index': 2}. Best is trial 66 with value: 0.010570604354143143.\n"
     ]
    },
    {
     "name": "stdout",
     "output_type": "stream",
     "text": [
      "Final loss: 0.010898136533796787\n",
      "Total Time: Rasterization: 1.133s, Backward: 3.212s\n",
      "Trial 70 finished with value: 0.010898136533796787 and parameters: {'scale_regularization': None, 'opacity_regularization': None, 'extent': 1.0, 'init_scale': 3.0, 'init_opacity': 0.5, 'image_index': 2}. Best is trial 66 with value: 0.010570604354143143.\n",
      "Trial 70 finished with value: 0.010898136533796787 and parameters: {'scale_regularization': None, 'opacity_regularization': None, 'extent': 1.0, 'init_scale': 3.0, 'init_opacity': 0.5, 'image_index': 2}. Best is trial 66 with value: 0.010570604354143143.\n",
      "Model initialized. Number of Gaussians: 1024\n"
     ]
    },
    {
     "name": "stderr",
     "output_type": "stream",
     "text": [
      "Loss: 0.082 (L1: 0.032, MSE: 0.003, SSIM: 0.081): 100%|\u001b[36m██████\u001b[0m| 1000/1000 [00:07<00:00, 139.05step/s]\u001b[0m\n",
      "[I 2025-01-08 23:25:42,417] Trial 71 finished with value: 0.038320206105709076 and parameters: {'scale_regularization': None, 'opacity_regularization': 1.0, 'extent': 1.0, 'init_scale': 3.0, 'init_opacity': 0.5, 'image_index': 2}. Best is trial 66 with value: 0.010570604354143143.\n"
     ]
    },
    {
     "name": "stdout",
     "output_type": "stream",
     "text": [
      "Final loss: 0.08109473437070847\n",
      "Total Time: Rasterization: 0.985s, Backward: 3.041s\n",
      "Trial 71 finished with value: 0.038320206105709076 and parameters: {'scale_regularization': None, 'opacity_regularization': 1.0, 'extent': 1.0, 'init_scale': 3.0, 'init_opacity': 0.5, 'image_index': 2}. Best is trial 66 with value: 0.010570604354143143.\n",
      "Trial 71 finished with value: 0.038320206105709076 and parameters: {'scale_regularization': None, 'opacity_regularization': 1.0, 'extent': 1.0, 'init_scale': 3.0, 'init_opacity': 0.5, 'image_index': 2}. Best is trial 66 with value: 0.010570604354143143.\n",
      "Model initialized. Number of Gaussians: 1024\n"
     ]
    },
    {
     "name": "stderr",
     "output_type": "stream",
     "text": [
      "Loss: 0.011 (L1: 0.013, MSE: 0.001, SSIM: 0.020): 100%|\u001b[36m██████\u001b[0m| 1000/1000 [00:06<00:00, 161.43step/s]\u001b[0m\n",
      "[I 2025-01-08 23:25:49,183] Trial 72 finished with value: 0.011123583652079105 and parameters: {'scale_regularization': None, 'opacity_regularization': None, 'extent': 1.0, 'init_scale': 3.0, 'init_opacity': 0.5, 'image_index': 2}. Best is trial 66 with value: 0.010570604354143143.\n"
     ]
    },
    {
     "name": "stdout",
     "output_type": "stream",
     "text": [
      "Final loss: 0.011123583652079105\n",
      "Total Time: Rasterization: 0.891s, Backward: 2.474s\n",
      "Trial 72 finished with value: 0.011123583652079105 and parameters: {'scale_regularization': None, 'opacity_regularization': None, 'extent': 1.0, 'init_scale': 3.0, 'init_opacity': 0.5, 'image_index': 2}. Best is trial 66 with value: 0.010570604354143143.\n",
      "Trial 72 finished with value: 0.011123583652079105 and parameters: {'scale_regularization': None, 'opacity_regularization': None, 'extent': 1.0, 'init_scale': 3.0, 'init_opacity': 0.5, 'image_index': 2}. Best is trial 66 with value: 0.010570604354143143.\n",
      "Model initialized. Number of Gaussians: 1024\n"
     ]
    },
    {
     "name": "stderr",
     "output_type": "stream",
     "text": [
      "Loss: 0.011 (L1: 0.013, MSE: 0.001, SSIM: 0.019): 100%|\u001b[36m██████\u001b[0m| 1000/1000 [00:08<00:00, 123.70step/s]\u001b[0m\n",
      "[I 2025-01-08 23:25:57,853] Trial 73 finished with value: 0.010732674971222878 and parameters: {'scale_regularization': None, 'opacity_regularization': None, 'extent': 1.0, 'init_scale': 3.0, 'init_opacity': 0.5, 'image_index': 2}. Best is trial 66 with value: 0.010570604354143143.\n"
     ]
    },
    {
     "name": "stdout",
     "output_type": "stream",
     "text": [
      "Final loss: 0.010732674971222878\n",
      "Total Time: Rasterization: 1.131s, Backward: 3.232s\n",
      "Trial 73 finished with value: 0.010732674971222878 and parameters: {'scale_regularization': None, 'opacity_regularization': None, 'extent': 1.0, 'init_scale': 3.0, 'init_opacity': 0.5, 'image_index': 2}. Best is trial 66 with value: 0.010570604354143143.\n",
      "Trial 73 finished with value: 0.010732674971222878 and parameters: {'scale_regularization': None, 'opacity_regularization': None, 'extent': 1.0, 'init_scale': 3.0, 'init_opacity': 0.5, 'image_index': 2}. Best is trial 66 with value: 0.010570604354143143.\n",
      "Model initialized. Number of Gaussians: 1024\n"
     ]
    },
    {
     "name": "stderr",
     "output_type": "stream",
     "text": [
      "Loss: 0.011 (L1: 0.013, MSE: 0.001, SSIM: 0.019): 100%|\u001b[36m██████\u001b[0m| 1000/1000 [00:07<00:00, 126.54step/s]\u001b[0m\n",
      "[I 2025-01-08 23:26:06,378] Trial 74 finished with value: 0.01079174131155014 and parameters: {'scale_regularization': None, 'opacity_regularization': None, 'extent': 1.0, 'init_scale': 3.0, 'init_opacity': 0.5, 'image_index': 2}. Best is trial 66 with value: 0.010570604354143143.\n"
     ]
    },
    {
     "name": "stdout",
     "output_type": "stream",
     "text": [
      "Final loss: 0.01079174131155014\n",
      "Total Time: Rasterization: 1.114s, Backward: 3.165s\n",
      "Trial 74 finished with value: 0.01079174131155014 and parameters: {'scale_regularization': None, 'opacity_regularization': None, 'extent': 1.0, 'init_scale': 3.0, 'init_opacity': 0.5, 'image_index': 2}. Best is trial 66 with value: 0.010570604354143143.\n",
      "Trial 74 finished with value: 0.01079174131155014 and parameters: {'scale_regularization': None, 'opacity_regularization': None, 'extent': 1.0, 'init_scale': 3.0, 'init_opacity': 0.5, 'image_index': 2}. Best is trial 66 with value: 0.010570604354143143.\n",
      "Model initialized. Number of Gaussians: 1024\n"
     ]
    },
    {
     "name": "stderr",
     "output_type": "stream",
     "text": [
      "Loss: 0.028 (L1: 0.017, MSE: 0.001, SSIM: 0.030): 100%|\u001b[36m██████\u001b[0m| 1000/1000 [00:08<00:00, 118.45step/s]\u001b[0m\n",
      "[I 2025-01-08 23:26:15,424] Trial 75 finished with value: 0.016357656568288803 and parameters: {'scale_regularization': None, 'opacity_regularization': 0.1, 'extent': 1.0, 'init_scale': 3.0, 'init_opacity': 0.5, 'image_index': 2}. Best is trial 66 with value: 0.010570604354143143.\n"
     ]
    },
    {
     "name": "stdout",
     "output_type": "stream",
     "text": [
      "Final loss: 0.028193730860948563\n",
      "Total Time: Rasterization: 1.139s, Backward: 3.409s\n",
      "Trial 75 finished with value: 0.016357656568288803 and parameters: {'scale_regularization': None, 'opacity_regularization': 0.1, 'extent': 1.0, 'init_scale': 3.0, 'init_opacity': 0.5, 'image_index': 2}. Best is trial 66 with value: 0.010570604354143143.\n",
      "Trial 75 finished with value: 0.016357656568288803 and parameters: {'scale_regularization': None, 'opacity_regularization': 0.1, 'extent': 1.0, 'init_scale': 3.0, 'init_opacity': 0.5, 'image_index': 2}. Best is trial 66 with value: 0.010570604354143143.\n",
      "Model initialized. Number of Gaussians: 1024\n"
     ]
    },
    {
     "name": "stderr",
     "output_type": "stream",
     "text": [
      "Loss: 0.013 (L1: 0.014, MSE: 0.001, SSIM: 0.023): 100%|\u001b[36m██████\u001b[0m| 1000/1000 [00:07<00:00, 128.28step/s]\u001b[0m\n",
      "[I 2025-01-08 23:26:23,820] Trial 76 finished with value: 0.012932712212204933 and parameters: {'scale_regularization': None, 'opacity_regularization': None, 'extent': 1.0, 'init_scale': 3.0, 'init_opacity': 0.5, 'image_index': 2}. Best is trial 66 with value: 0.010570604354143143.\n"
     ]
    },
    {
     "name": "stdout",
     "output_type": "stream",
     "text": [
      "Final loss: 0.012932712212204933\n",
      "Total Time: Rasterization: 1.103s, Backward: 3.137s\n",
      "Trial 76 finished with value: 0.012932712212204933 and parameters: {'scale_regularization': None, 'opacity_regularization': None, 'extent': 1.0, 'init_scale': 3.0, 'init_opacity': 0.5, 'image_index': 2}. Best is trial 66 with value: 0.010570604354143143.\n",
      "Trial 76 finished with value: 0.012932712212204933 and parameters: {'scale_regularization': None, 'opacity_regularization': None, 'extent': 1.0, 'init_scale': 3.0, 'init_opacity': 0.5, 'image_index': 2}. Best is trial 66 with value: 0.010570604354143143.\n",
      "Model initialized. Number of Gaussians: 1024\n"
     ]
    },
    {
     "name": "stderr",
     "output_type": "stream",
     "text": [
      "Loss: 0.011 (L1: 0.013, MSE: 0.001, SSIM: 0.019): 100%|\u001b[36m██████\u001b[0m| 1000/1000 [00:08<00:00, 124.95step/s]\u001b[0m\n",
      "[I 2025-01-08 23:26:32,422] Trial 77 finished with value: 0.011007340624928474 and parameters: {'scale_regularization': None, 'opacity_regularization': None, 'extent': 1.0, 'init_scale': 3.0, 'init_opacity': 0.5, 'image_index': 2}. Best is trial 66 with value: 0.010570604354143143.\n"
     ]
    },
    {
     "name": "stdout",
     "output_type": "stream",
     "text": [
      "Final loss: 0.011007340624928474\n",
      "Total Time: Rasterization: 1.136s, Backward: 3.214s\n",
      "Trial 77 finished with value: 0.011007340624928474 and parameters: {'scale_regularization': None, 'opacity_regularization': None, 'extent': 1.0, 'init_scale': 3.0, 'init_opacity': 0.5, 'image_index': 2}. Best is trial 66 with value: 0.010570604354143143.\n",
      "Trial 77 finished with value: 0.011007340624928474 and parameters: {'scale_regularization': None, 'opacity_regularization': None, 'extent': 1.0, 'init_scale': 3.0, 'init_opacity': 0.5, 'image_index': 2}. Best is trial 66 with value: 0.010570604354143143.\n",
      "Model initialized. Number of Gaussians: 1024\n"
     ]
    },
    {
     "name": "stderr",
     "output_type": "stream",
     "text": [
      "Loss: 0.012 (L1: 0.013, MSE: 0.001, SSIM: 0.021): 100%|\u001b[36m██████\u001b[0m| 1000/1000 [00:08<00:00, 121.69step/s]\u001b[0m\n",
      "[I 2025-01-08 23:26:41,211] Trial 78 finished with value: 0.011688546277582645 and parameters: {'scale_regularization': None, 'opacity_regularization': None, 'extent': 1.0, 'init_scale': 3.0, 'init_opacity': 0.5, 'image_index': 2}. Best is trial 66 with value: 0.010570604354143143.\n"
     ]
    },
    {
     "name": "stdout",
     "output_type": "stream",
     "text": [
      "Final loss: 0.011688546277582645\n",
      "Total Time: Rasterization: 1.155s, Backward: 3.268s\n",
      "Trial 78 finished with value: 0.011688546277582645 and parameters: {'scale_regularization': None, 'opacity_regularization': None, 'extent': 1.0, 'init_scale': 3.0, 'init_opacity': 0.5, 'image_index': 2}. Best is trial 66 with value: 0.010570604354143143.\n",
      "Trial 78 finished with value: 0.011688546277582645 and parameters: {'scale_regularization': None, 'opacity_regularization': None, 'extent': 1.0, 'init_scale': 3.0, 'init_opacity': 0.5, 'image_index': 2}. Best is trial 66 with value: 0.010570604354143143.\n",
      "Model initialized. Number of Gaussians: 1024\n"
     ]
    },
    {
     "name": "stderr",
     "output_type": "stream",
     "text": [
      "Loss: 0.011 (L1: 0.013, MSE: 0.001, SSIM: 0.020): 100%|\u001b[36m██████\u001b[0m| 1000/1000 [00:07<00:00, 125.45step/s]\u001b[0m\n",
      "[I 2025-01-08 23:26:49,785] Trial 79 finished with value: 0.011077404022216797 and parameters: {'scale_regularization': None, 'opacity_regularization': None, 'extent': 1.0, 'init_scale': 3.0, 'init_opacity': 0.5, 'image_index': 2}. Best is trial 66 with value: 0.010570604354143143.\n"
     ]
    },
    {
     "name": "stdout",
     "output_type": "stream",
     "text": [
      "Final loss: 0.011077404022216797\n",
      "Total Time: Rasterization: 1.116s, Backward: 3.196s\n",
      "Trial 79 finished with value: 0.011077404022216797 and parameters: {'scale_regularization': None, 'opacity_regularization': None, 'extent': 1.0, 'init_scale': 3.0, 'init_opacity': 0.5, 'image_index': 2}. Best is trial 66 with value: 0.010570604354143143.\n",
      "Trial 79 finished with value: 0.011077404022216797 and parameters: {'scale_regularization': None, 'opacity_regularization': None, 'extent': 1.0, 'init_scale': 3.0, 'init_opacity': 0.5, 'image_index': 2}. Best is trial 66 with value: 0.010570604354143143.\n",
      "Model initialized. Number of Gaussians: 1024\n"
     ]
    },
    {
     "name": "stderr",
     "output_type": "stream",
     "text": [
      "Loss: 0.041 (L1: 0.028, MSE: 0.002, SSIM: 0.093): 100%|\u001b[36m██████\u001b[0m| 1000/1000 [00:08<00:00, 124.14step/s]\u001b[0m\n",
      "[I 2025-01-08 23:26:58,457] Trial 80 finished with value: 0.039772339165210724 and parameters: {'scale_regularization': None, 'opacity_regularization': None, 'extent': 1.0, 'init_scale': 3.0, 'init_opacity': 0.5, 'image_index': 0}. Best is trial 66 with value: 0.010570604354143143.\n"
     ]
    },
    {
     "name": "stdout",
     "output_type": "stream",
     "text": [
      "Final loss: 0.039772339165210724\n",
      "Total Time: Rasterization: 1.133s, Backward: 3.229s\n",
      "Trial 80 finished with value: 0.039772339165210724 and parameters: {'scale_regularization': None, 'opacity_regularization': None, 'extent': 1.0, 'init_scale': 3.0, 'init_opacity': 0.5, 'image_index': 0}. Best is trial 66 with value: 0.010570604354143143.\n",
      "Trial 80 finished with value: 0.039772339165210724 and parameters: {'scale_regularization': None, 'opacity_regularization': None, 'extent': 1.0, 'init_scale': 3.0, 'init_opacity': 0.5, 'image_index': 0}. Best is trial 66 with value: 0.010570604354143143.\n",
      "Model initialized. Number of Gaussians: 1024\n"
     ]
    },
    {
     "name": "stderr",
     "output_type": "stream",
     "text": [
      "Loss: 0.014 (L1: 0.015, MSE: 0.001, SSIM: 0.027): 100%|\u001b[36m██████\u001b[0m| 1000/1000 [00:08<00:00, 124.75step/s]\u001b[0m\n",
      "[I 2025-01-08 23:27:07,082] Trial 81 finished with value: 0.01410111878067255 and parameters: {'scale_regularization': None, 'opacity_regularization': None, 'extent': 1.0, 'init_scale': 4.0, 'init_opacity': 0.5, 'image_index': 2}. Best is trial 66 with value: 0.010570604354143143.\n"
     ]
    },
    {
     "name": "stdout",
     "output_type": "stream",
     "text": [
      "Final loss: 0.01410111878067255\n",
      "Total Time: Rasterization: 1.123s, Backward: 3.187s\n",
      "Trial 81 finished with value: 0.01410111878067255 and parameters: {'scale_regularization': None, 'opacity_regularization': None, 'extent': 1.0, 'init_scale': 4.0, 'init_opacity': 0.5, 'image_index': 2}. Best is trial 66 with value: 0.010570604354143143.\n",
      "Trial 81 finished with value: 0.01410111878067255 and parameters: {'scale_regularization': None, 'opacity_regularization': None, 'extent': 1.0, 'init_scale': 4.0, 'init_opacity': 0.5, 'image_index': 2}. Best is trial 66 with value: 0.010570604354143143.\n",
      "Model initialized. Number of Gaussians: 1024\n"
     ]
    },
    {
     "name": "stderr",
     "output_type": "stream",
     "text": [
      "Loss: 0.049 (L1: 0.037, MSE: 0.004, SSIM: 0.105): 100%|\u001b[36m██████\u001b[0m| 1000/1000 [00:07<00:00, 127.60step/s]\u001b[0m\n",
      "[I 2025-01-08 23:27:15,524] Trial 82 finished with value: 0.048989567905664444 and parameters: {'scale_regularization': None, 'opacity_regularization': None, 'extent': 1.0, 'init_scale': 2.0, 'init_opacity': 0.5, 'image_index': 1}. Best is trial 66 with value: 0.010570604354143143.\n"
     ]
    },
    {
     "name": "stdout",
     "output_type": "stream",
     "text": [
      "Final loss: 0.048989567905664444\n",
      "Total Time: Rasterization: 1.113s, Backward: 3.122s\n",
      "Trial 82 finished with value: 0.048989567905664444 and parameters: {'scale_regularization': None, 'opacity_regularization': None, 'extent': 1.0, 'init_scale': 2.0, 'init_opacity': 0.5, 'image_index': 1}. Best is trial 66 with value: 0.010570604354143143.\n",
      "Trial 82 finished with value: 0.048989567905664444 and parameters: {'scale_regularization': None, 'opacity_regularization': None, 'extent': 1.0, 'init_scale': 2.0, 'init_opacity': 0.5, 'image_index': 1}. Best is trial 66 with value: 0.010570604354143143.\n",
      "Model initialized. Number of Gaussians: 1024\n"
     ]
    },
    {
     "name": "stderr",
     "output_type": "stream",
     "text": [
      "Loss: 0.072 (L1: 0.022, MSE: 0.001, SSIM: 0.105): 100%|\u001b[36m██████\u001b[0m| 1000/1000 [00:08<00:00, 119.10step/s]\u001b[0m\n",
      "[I 2025-01-08 23:27:24,516] Trial 83 finished with value: 0.042725637555122375 and parameters: {'scale_regularization': None, 'opacity_regularization': 0.5, 'extent': 1.0, 'init_scale': 3.0, 'init_opacity': 0.5, 'image_index': 3}. Best is trial 66 with value: 0.010570604354143143.\n"
     ]
    },
    {
     "name": "stdout",
     "output_type": "stream",
     "text": [
      "Final loss: 0.07196542620658875\n",
      "Total Time: Rasterization: 1.136s, Backward: 3.448s\n",
      "Trial 83 finished with value: 0.042725637555122375 and parameters: {'scale_regularization': None, 'opacity_regularization': 0.5, 'extent': 1.0, 'init_scale': 3.0, 'init_opacity': 0.5, 'image_index': 3}. Best is trial 66 with value: 0.010570604354143143.\n",
      "Trial 83 finished with value: 0.042725637555122375 and parameters: {'scale_regularization': None, 'opacity_regularization': 0.5, 'extent': 1.0, 'init_scale': 3.0, 'init_opacity': 0.5, 'image_index': 3}. Best is trial 66 with value: 0.010570604354143143.\n",
      "Model initialized. Number of Gaussians: 1024\n"
     ]
    },
    {
     "name": "stderr",
     "output_type": "stream",
     "text": [
      "Loss: 0.011 (L1: 0.013, MSE: 0.000, SSIM: 0.019): 100%|\u001b[36m██████\u001b[0m| 1000/1000 [00:07<00:00, 126.54step/s]\u001b[0m\n",
      "[I 2025-01-08 23:27:33,015] Trial 84 finished with value: 0.010448366403579712 and parameters: {'scale_regularization': None, 'opacity_regularization': None, 'extent': 1.0, 'init_scale': 3.0, 'init_opacity': 0.5, 'image_index': 2}. Best is trial 84 with value: 0.010448366403579712.\n"
     ]
    },
    {
     "name": "stdout",
     "output_type": "stream",
     "text": [
      "Final loss: 0.010448366403579712\n",
      "Total Time: Rasterization: 1.119s, Backward: 3.185s\n",
      "Trial 84 finished with value: 0.010448366403579712 and parameters: {'scale_regularization': None, 'opacity_regularization': None, 'extent': 1.0, 'init_scale': 3.0, 'init_opacity': 0.5, 'image_index': 2}. Best is trial 84 with value: 0.010448366403579712.\n",
      "Trial 84 finished with value: 0.010448366403579712 and parameters: {'scale_regularization': None, 'opacity_regularization': None, 'extent': 1.0, 'init_scale': 3.0, 'init_opacity': 0.5, 'image_index': 2}. Best is trial 84 with value: 0.010448366403579712.\n",
      "Model initialized. Number of Gaussians: 1024\n"
     ]
    },
    {
     "name": "stderr",
     "output_type": "stream",
     "text": [
      "Loss: 0.041 (L1: 0.012, MSE: 0.001, SSIM: 0.021): 100%|\u001b[36m██████\u001b[0m| 1000/1000 [00:08<00:00, 121.05step/s]\u001b[0m\n",
      "[I 2025-01-08 23:27:41,881] Trial 85 finished with value: 0.011268563568592072 and parameters: {'scale_regularization': 0.1, 'opacity_regularization': None, 'extent': 1.0, 'init_scale': 3.0, 'init_opacity': 0.5, 'image_index': 2}. Best is trial 84 with value: 0.010448366403579712.\n"
     ]
    },
    {
     "name": "stdout",
     "output_type": "stream",
     "text": [
      "Final loss: 0.040922269225120544\n",
      "Total Time: Rasterization: 1.130s, Backward: 3.350s\n",
      "Trial 85 finished with value: 0.011268563568592072 and parameters: {'scale_regularization': 0.1, 'opacity_regularization': None, 'extent': 1.0, 'init_scale': 3.0, 'init_opacity': 0.5, 'image_index': 2}. Best is trial 84 with value: 0.010448366403579712.\n",
      "Trial 85 finished with value: 0.011268563568592072 and parameters: {'scale_regularization': 0.1, 'opacity_regularization': None, 'extent': 1.0, 'init_scale': 3.0, 'init_opacity': 0.5, 'image_index': 2}. Best is trial 84 with value: 0.010448366403579712.\n",
      "Model initialized. Number of Gaussians: 1024\n"
     ]
    },
    {
     "name": "stderr",
     "output_type": "stream",
     "text": [
      "Loss: 0.011 (L1: 0.013, MSE: 0.001, SSIM: 0.021): 100%|\u001b[36m██████\u001b[0m| 1000/1000 [00:08<00:00, 124.84step/s]\u001b[0m\n",
      "[I 2025-01-08 23:27:50,499] Trial 86 finished with value: 0.011511395685374737 and parameters: {'scale_regularization': None, 'opacity_regularization': None, 'extent': 1.0, 'init_scale': 3.0, 'init_opacity': 0.5, 'image_index': 2}. Best is trial 84 with value: 0.010448366403579712.\n"
     ]
    },
    {
     "name": "stdout",
     "output_type": "stream",
     "text": [
      "Final loss: 0.011511395685374737\n",
      "Total Time: Rasterization: 1.124s, Backward: 3.193s\n",
      "Trial 86 finished with value: 0.011511395685374737 and parameters: {'scale_regularization': None, 'opacity_regularization': None, 'extent': 1.0, 'init_scale': 3.0, 'init_opacity': 0.5, 'image_index': 2}. Best is trial 84 with value: 0.010448366403579712.\n",
      "Trial 86 finished with value: 0.011511395685374737 and parameters: {'scale_regularization': None, 'opacity_regularization': None, 'extent': 1.0, 'init_scale': 3.0, 'init_opacity': 0.5, 'image_index': 2}. Best is trial 84 with value: 0.010448366403579712.\n",
      "Model initialized. Number of Gaussians: 1024\n"
     ]
    },
    {
     "name": "stderr",
     "output_type": "stream",
     "text": [
      "Loss: 0.012 (L1: 0.013, MSE: 0.001, SSIM: 0.021): 100%|\u001b[36m██████\u001b[0m| 1000/1000 [00:07<00:00, 125.47step/s]\u001b[0m\n",
      "[I 2025-01-08 23:27:59,066] Trial 87 finished with value: 0.011187950149178505 and parameters: {'scale_regularization': None, 'opacity_regularization': None, 'extent': 1.0, 'init_scale': 3.0, 'init_opacity': 0.5, 'image_index': 2}. Best is trial 84 with value: 0.010448366403579712.\n"
     ]
    },
    {
     "name": "stdout",
     "output_type": "stream",
     "text": [
      "Final loss: 0.011187950149178505\n",
      "Total Time: Rasterization: 1.121s, Backward: 3.196s\n",
      "Trial 87 finished with value: 0.011187950149178505 and parameters: {'scale_regularization': None, 'opacity_regularization': None, 'extent': 1.0, 'init_scale': 3.0, 'init_opacity': 0.5, 'image_index': 2}. Best is trial 84 with value: 0.010448366403579712.\n",
      "Trial 87 finished with value: 0.011187950149178505 and parameters: {'scale_regularization': None, 'opacity_regularization': None, 'extent': 1.0, 'init_scale': 3.0, 'init_opacity': 0.5, 'image_index': 2}. Best is trial 84 with value: 0.010448366403579712.\n",
      "Model initialized. Number of Gaussians: 1024\n"
     ]
    },
    {
     "name": "stderr",
     "output_type": "stream",
     "text": [
      "Loss: 0.011 (L1: 0.013, MSE: 0.000, SSIM: 0.019): 100%|\u001b[36m██████\u001b[0m| 1000/1000 [00:07<00:00, 132.79step/s]\u001b[0m\n",
      "[I 2025-01-08 23:28:07,197] Trial 88 finished with value: 0.01070430688560009 and parameters: {'scale_regularization': None, 'opacity_regularization': None, 'extent': 1.0, 'init_scale': 3.0, 'init_opacity': 0.5, 'image_index': 2}. Best is trial 84 with value: 0.010448366403579712.\n"
     ]
    },
    {
     "name": "stdout",
     "output_type": "stream",
     "text": [
      "Final loss: 0.01070430688560009\n",
      "Total Time: Rasterization: 1.065s, Backward: 3.026s\n",
      "Trial 88 finished with value: 0.01070430688560009 and parameters: {'scale_regularization': None, 'opacity_regularization': None, 'extent': 1.0, 'init_scale': 3.0, 'init_opacity': 0.5, 'image_index': 2}. Best is trial 84 with value: 0.010448366403579712.\n",
      "Trial 88 finished with value: 0.01070430688560009 and parameters: {'scale_regularization': None, 'opacity_regularization': None, 'extent': 1.0, 'init_scale': 3.0, 'init_opacity': 0.5, 'image_index': 2}. Best is trial 84 with value: 0.010448366403579712.\n",
      "Model initialized. Number of Gaussians: 1024\n"
     ]
    },
    {
     "name": "stderr",
     "output_type": "stream",
     "text": [
      "Loss: 0.232 (L1: 0.015, MSE: 0.001, SSIM: 0.032): 100%|\u001b[36m██████\u001b[0m| 1000/1000 [00:08<00:00, 117.98step/s]\u001b[0m\n",
      "[I 2025-01-08 23:28:16,301] Trial 89 finished with value: 0.015388933010399342 and parameters: {'scale_regularization': 1.0, 'opacity_regularization': None, 'extent': 1.0, 'init_scale': 3.0, 'init_opacity': 0.5, 'image_index': 2}. Best is trial 84 with value: 0.010448366403579712.\n"
     ]
    },
    {
     "name": "stdout",
     "output_type": "stream",
     "text": [
      "Final loss: 0.2305082380771637\n",
      "Total Time: Rasterization: 1.152s, Backward: 3.426s\n",
      "Trial 89 finished with value: 0.015388933010399342 and parameters: {'scale_regularization': 1.0, 'opacity_regularization': None, 'extent': 1.0, 'init_scale': 3.0, 'init_opacity': 0.5, 'image_index': 2}. Best is trial 84 with value: 0.010448366403579712.\n",
      "Trial 89 finished with value: 0.015388933010399342 and parameters: {'scale_regularization': 1.0, 'opacity_regularization': None, 'extent': 1.0, 'init_scale': 3.0, 'init_opacity': 0.5, 'image_index': 2}. Best is trial 84 with value: 0.010448366403579712.\n",
      "Model initialized. Number of Gaussians: 1024\n"
     ]
    },
    {
     "name": "stderr",
     "output_type": "stream",
     "text": [
      "Loss: 0.080 (L1: 0.031, MSE: 0.003, SSIM: 0.076): 100%|\u001b[36m██████\u001b[0m| 1000/1000 [00:08<00:00, 114.14step/s]\u001b[0m\n",
      "[I 2025-01-08 23:28:25,653] Trial 90 finished with value: 0.036122530698776245 and parameters: {'scale_regularization': None, 'opacity_regularization': 1.0, 'extent': 1.0, 'init_scale': 3.0, 'init_opacity': 0.5, 'image_index': 2}. Best is trial 84 with value: 0.010448366403579712.\n"
     ]
    },
    {
     "name": "stdout",
     "output_type": "stream",
     "text": [
      "Final loss: 0.07912307232618332\n",
      "Total Time: Rasterization: 1.177s, Backward: 3.651s\n",
      "Trial 90 finished with value: 0.036122530698776245 and parameters: {'scale_regularization': None, 'opacity_regularization': 1.0, 'extent': 1.0, 'init_scale': 3.0, 'init_opacity': 0.5, 'image_index': 2}. Best is trial 84 with value: 0.010448366403579712.\n",
      "Trial 90 finished with value: 0.036122530698776245 and parameters: {'scale_regularization': None, 'opacity_regularization': 1.0, 'extent': 1.0, 'init_scale': 3.0, 'init_opacity': 0.5, 'image_index': 2}. Best is trial 84 with value: 0.010448366403579712.\n",
      "Model initialized. Number of Gaussians: 1024\n"
     ]
    },
    {
     "name": "stderr",
     "output_type": "stream",
     "text": [
      "Loss: 0.013 (L1: 0.014, MSE: 0.001, SSIM: 0.023): 100%|\u001b[36m██████\u001b[0m| 1000/1000 [00:07<00:00, 126.63step/s]\u001b[0m\n",
      "[I 2025-01-08 23:28:34,155] Trial 91 finished with value: 0.012504263781011105 and parameters: {'scale_regularization': None, 'opacity_regularization': None, 'extent': 1.0, 'init_scale': 3.0, 'init_opacity': 0.5, 'image_index': 2}. Best is trial 84 with value: 0.010448366403579712.\n"
     ]
    },
    {
     "name": "stdout",
     "output_type": "stream",
     "text": [
      "Final loss: 0.012504263781011105\n",
      "Total Time: Rasterization: 1.115s, Backward: 3.160s\n",
      "Trial 91 finished with value: 0.012504263781011105 and parameters: {'scale_regularization': None, 'opacity_regularization': None, 'extent': 1.0, 'init_scale': 3.0, 'init_opacity': 0.5, 'image_index': 2}. Best is trial 84 with value: 0.010448366403579712.\n",
      "Trial 91 finished with value: 0.012504263781011105 and parameters: {'scale_regularization': None, 'opacity_regularization': None, 'extent': 1.0, 'init_scale': 3.0, 'init_opacity': 0.5, 'image_index': 2}. Best is trial 84 with value: 0.010448366403579712.\n",
      "Model initialized. Number of Gaussians: 1024\n"
     ]
    },
    {
     "name": "stderr",
     "output_type": "stream",
     "text": [
      "Loss: 0.012 (L1: 0.013, MSE: 0.001, SSIM: 0.021): 100%|\u001b[36m██████\u001b[0m| 1000/1000 [00:08<00:00, 121.87step/s]\u001b[0m\n",
      "[I 2025-01-08 23:28:42,971] Trial 92 finished with value: 0.01134122908115387 and parameters: {'scale_regularization': None, 'opacity_regularization': None, 'extent': 1.0, 'init_scale': 3.0, 'init_opacity': 0.5, 'image_index': 2}. Best is trial 84 with value: 0.010448366403579712.\n"
     ]
    },
    {
     "name": "stdout",
     "output_type": "stream",
     "text": [
      "Final loss: 0.01134122908115387\n",
      "Total Time: Rasterization: 1.144s, Backward: 3.241s\n",
      "Trial 92 finished with value: 0.01134122908115387 and parameters: {'scale_regularization': None, 'opacity_regularization': None, 'extent': 1.0, 'init_scale': 3.0, 'init_opacity': 0.5, 'image_index': 2}. Best is trial 84 with value: 0.010448366403579712.\n",
      "Trial 92 finished with value: 0.01134122908115387 and parameters: {'scale_regularization': None, 'opacity_regularization': None, 'extent': 1.0, 'init_scale': 3.0, 'init_opacity': 0.5, 'image_index': 2}. Best is trial 84 with value: 0.010448366403579712.\n",
      "Model initialized. Number of Gaussians: 1024\n"
     ]
    },
    {
     "name": "stderr",
     "output_type": "stream",
     "text": [
      "Loss: 0.013 (L1: 0.015, MSE: 0.001, SSIM: 0.024): 100%|\u001b[36m██████\u001b[0m| 1000/1000 [00:07<00:00, 128.59step/s]\u001b[0m\n",
      "[I 2025-01-08 23:28:51,358] Trial 93 finished with value: 0.012893153354525566 and parameters: {'scale_regularization': None, 'opacity_regularization': None, 'extent': 1.0, 'init_scale': 3.0, 'init_opacity': 0.6, 'image_index': 2}. Best is trial 84 with value: 0.010448366403579712.\n"
     ]
    },
    {
     "name": "stdout",
     "output_type": "stream",
     "text": [
      "Final loss: 0.012893153354525566\n",
      "Total Time: Rasterization: 1.102s, Backward: 3.125s\n",
      "Trial 93 finished with value: 0.012893153354525566 and parameters: {'scale_regularization': None, 'opacity_regularization': None, 'extent': 1.0, 'init_scale': 3.0, 'init_opacity': 0.6, 'image_index': 2}. Best is trial 84 with value: 0.010448366403579712.\n",
      "Trial 93 finished with value: 0.012893153354525566 and parameters: {'scale_regularization': None, 'opacity_regularization': None, 'extent': 1.0, 'init_scale': 3.0, 'init_opacity': 0.6, 'image_index': 2}. Best is trial 84 with value: 0.010448366403579712.\n",
      "Model initialized. Number of Gaussians: 1024\n"
     ]
    },
    {
     "name": "stderr",
     "output_type": "stream",
     "text": [
      "Loss: 0.036 (L1: 0.026, MSE: 0.002, SSIM: 0.081): 100%|\u001b[36m██████\u001b[0m| 1000/1000 [00:07<00:00, 125.98step/s]\u001b[0m\n",
      "[I 2025-01-08 23:28:59,888] Trial 94 finished with value: 0.03718109428882599 and parameters: {'scale_regularization': None, 'opacity_regularization': None, 'extent': 4.0, 'init_scale': 3.0, 'init_opacity': 0.5, 'image_index': 0}. Best is trial 84 with value: 0.010448366403579712.\n"
     ]
    },
    {
     "name": "stdout",
     "output_type": "stream",
     "text": [
      "Final loss: 0.03718109428882599\n",
      "Total Time: Rasterization: 1.116s, Backward: 3.167s\n",
      "Trial 94 finished with value: 0.03718109428882599 and parameters: {'scale_regularization': None, 'opacity_regularization': None, 'extent': 4.0, 'init_scale': 3.0, 'init_opacity': 0.5, 'image_index': 0}. Best is trial 84 with value: 0.010448366403579712.\n",
      "Trial 94 finished with value: 0.03718109428882599 and parameters: {'scale_regularization': None, 'opacity_regularization': None, 'extent': 4.0, 'init_scale': 3.0, 'init_opacity': 0.5, 'image_index': 0}. Best is trial 84 with value: 0.010448366403579712.\n",
      "Model initialized. Number of Gaussians: 1024\n"
     ]
    },
    {
     "name": "stderr",
     "output_type": "stream",
     "text": [
      "Loss: 0.067 (L1: 0.021, MSE: 0.001, SSIM: 0.052): 100%|\u001b[36m██████\u001b[0m| 1000/1000 [00:08<00:00, 116.53step/s]\u001b[0m\n",
      "[I 2025-01-08 23:29:09,058] Trial 95 finished with value: 0.02487553097307682 and parameters: {'scale_regularization': 0.1, 'opacity_regularization': 0.1, 'extent': 1.0, 'init_scale': 2.0, 'init_opacity': 0.5, 'image_index': 2}. Best is trial 84 with value: 0.010448366403579712.\n"
     ]
    },
    {
     "name": "stdout",
     "output_type": "stream",
     "text": [
      "Final loss: 0.06651464104652405\n",
      "Total Time: Rasterization: 1.139s, Backward: 3.503s\n",
      "Trial 95 finished with value: 0.02487553097307682 and parameters: {'scale_regularization': 0.1, 'opacity_regularization': 0.1, 'extent': 1.0, 'init_scale': 2.0, 'init_opacity': 0.5, 'image_index': 2}. Best is trial 84 with value: 0.010448366403579712.\n",
      "Trial 95 finished with value: 0.02487553097307682 and parameters: {'scale_regularization': 0.1, 'opacity_regularization': 0.1, 'extent': 1.0, 'init_scale': 2.0, 'init_opacity': 0.5, 'image_index': 2}. Best is trial 84 with value: 0.010448366403579712.\n",
      "Model initialized. Number of Gaussians: 1024\n"
     ]
    },
    {
     "name": "stderr",
     "output_type": "stream",
     "text": [
      "Loss: 0.012 (L1: 0.014, MSE: 0.001, SSIM: 0.021): 100%|\u001b[36m██████\u001b[0m| 1000/1000 [00:07<00:00, 125.23step/s]\u001b[0m\n",
      "[I 2025-01-08 23:29:17,656] Trial 96 finished with value: 0.01172570325434208 and parameters: {'scale_regularization': None, 'opacity_regularization': None, 'extent': 1.0, 'init_scale': 3.0, 'init_opacity': 0.5, 'image_index': 2}. Best is trial 84 with value: 0.010448366403579712.\n"
     ]
    },
    {
     "name": "stdout",
     "output_type": "stream",
     "text": [
      "Final loss: 0.01172570325434208\n",
      "Total Time: Rasterization: 1.124s, Backward: 3.193s\n",
      "Trial 96 finished with value: 0.01172570325434208 and parameters: {'scale_regularization': None, 'opacity_regularization': None, 'extent': 1.0, 'init_scale': 3.0, 'init_opacity': 0.5, 'image_index': 2}. Best is trial 84 with value: 0.010448366403579712.\n",
      "Trial 96 finished with value: 0.01172570325434208 and parameters: {'scale_regularization': None, 'opacity_regularization': None, 'extent': 1.0, 'init_scale': 3.0, 'init_opacity': 0.5, 'image_index': 2}. Best is trial 84 with value: 0.010448366403579712.\n",
      "Model initialized. Number of Gaussians: 1024\n"
     ]
    },
    {
     "name": "stderr",
     "output_type": "stream",
     "text": [
      "Loss: 0.012 (L1: 0.013, MSE: 0.001, SSIM: 0.021): 100%|\u001b[36m██████\u001b[0m| 1000/1000 [00:07<00:00, 130.21step/s]\u001b[0m\n",
      "[I 2025-01-08 23:29:25,938] Trial 97 finished with value: 0.011640219017863274 and parameters: {'scale_regularization': None, 'opacity_regularization': None, 'extent': 1.0, 'init_scale': 3.0, 'init_opacity': 0.5, 'image_index': 2}. Best is trial 84 with value: 0.010448366403579712.\n"
     ]
    },
    {
     "name": "stdout",
     "output_type": "stream",
     "text": [
      "Final loss: 0.011640219017863274\n",
      "Total Time: Rasterization: 1.085s, Backward: 3.101s\n",
      "Trial 97 finished with value: 0.011640219017863274 and parameters: {'scale_regularization': None, 'opacity_regularization': None, 'extent': 1.0, 'init_scale': 3.0, 'init_opacity': 0.5, 'image_index': 2}. Best is trial 84 with value: 0.010448366403579712.\n",
      "Trial 97 finished with value: 0.011640219017863274 and parameters: {'scale_regularization': None, 'opacity_regularization': None, 'extent': 1.0, 'init_scale': 3.0, 'init_opacity': 0.5, 'image_index': 2}. Best is trial 84 with value: 0.010448366403579712.\n",
      "Model initialized. Number of Gaussians: 1024\n"
     ]
    },
    {
     "name": "stderr",
     "output_type": "stream",
     "text": [
      "Loss: 0.010 (L1: 0.013, MSE: 0.001, SSIM: 0.018): 100%|\u001b[36m██████\u001b[0m| 1000/1000 [00:08<00:00, 124.55step/s]\u001b[0m\n",
      "[I 2025-01-08 23:29:34,561] Trial 98 finished with value: 0.010513419285416603 and parameters: {'scale_regularization': None, 'opacity_regularization': None, 'extent': 1.0, 'init_scale': 3.0, 'init_opacity': 0.5, 'image_index': 2}. Best is trial 84 with value: 0.010448366403579712.\n"
     ]
    },
    {
     "name": "stdout",
     "output_type": "stream",
     "text": [
      "Final loss: 0.010513419285416603\n",
      "Total Time: Rasterization: 1.124s, Backward: 3.219s\n",
      "Trial 98 finished with value: 0.010513419285416603 and parameters: {'scale_regularization': None, 'opacity_regularization': None, 'extent': 1.0, 'init_scale': 3.0, 'init_opacity': 0.5, 'image_index': 2}. Best is trial 84 with value: 0.010448366403579712.\n",
      "Trial 98 finished with value: 0.010513419285416603 and parameters: {'scale_regularization': None, 'opacity_regularization': None, 'extent': 1.0, 'init_scale': 3.0, 'init_opacity': 0.5, 'image_index': 2}. Best is trial 84 with value: 0.010448366403579712.\n",
      "Model initialized. Number of Gaussians: 1024\n"
     ]
    },
    {
     "name": "stderr",
     "output_type": "stream",
     "text": [
      "Loss: 0.012 (L1: 0.014, MSE: 0.001, SSIM: 0.021): 100%|\u001b[36m██████\u001b[0m| 1000/1000 [00:07<00:00, 127.62step/s]\u001b[0m\n",
      "[I 2025-01-08 23:29:42,999] Trial 99 finished with value: 0.012114591896533966 and parameters: {'scale_regularization': None, 'opacity_regularization': None, 'extent': 1.0, 'init_scale': 3.0, 'init_opacity': 0.5, 'image_index': 2}. Best is trial 84 with value: 0.010448366403579712.\n"
     ]
    },
    {
     "name": "stdout",
     "output_type": "stream",
     "text": [
      "Final loss: 0.012114591896533966\n",
      "Total Time: Rasterization: 1.105s, Backward: 3.127s\n",
      "Trial 99 finished with value: 0.012114591896533966 and parameters: {'scale_regularization': None, 'opacity_regularization': None, 'extent': 1.0, 'init_scale': 3.0, 'init_opacity': 0.5, 'image_index': 2}. Best is trial 84 with value: 0.010448366403579712.\n",
      "Trial 99 finished with value: 0.012114591896533966 and parameters: {'scale_regularization': None, 'opacity_regularization': None, 'extent': 1.0, 'init_scale': 3.0, 'init_opacity': 0.5, 'image_index': 2}. Best is trial 84 with value: 0.010448366403579712.\n",
      "Model initialized. Number of Gaussians: 1024\n"
     ]
    },
    {
     "name": "stderr",
     "output_type": "stream",
     "text": [
      "Loss: 0.012 (L1: 0.014, MSE: 0.001, SSIM: 0.023): 100%|\u001b[36m██████\u001b[0m| 1000/1000 [00:07<00:00, 127.94step/s]\u001b[0m\n",
      "[I 2025-01-08 23:29:51,414] Trial 100 finished with value: 0.01227123849093914 and parameters: {'scale_regularization': None, 'opacity_regularization': None, 'extent': 1.0, 'init_scale': 3.0, 'init_opacity': 0.5, 'image_index': 2}. Best is trial 84 with value: 0.010448366403579712.\n"
     ]
    },
    {
     "name": "stdout",
     "output_type": "stream",
     "text": [
      "Final loss: 0.01227123849093914\n",
      "Total Time: Rasterization: 1.105s, Backward: 3.132s\n",
      "Trial 100 finished with value: 0.01227123849093914 and parameters: {'scale_regularization': None, 'opacity_regularization': None, 'extent': 1.0, 'init_scale': 3.0, 'init_opacity': 0.5, 'image_index': 2}. Best is trial 84 with value: 0.010448366403579712.\n",
      "Trial 100 finished with value: 0.01227123849093914 and parameters: {'scale_regularization': None, 'opacity_regularization': None, 'extent': 1.0, 'init_scale': 3.0, 'init_opacity': 0.5, 'image_index': 2}. Best is trial 84 with value: 0.010448366403579712.\n",
      "Model initialized. Number of Gaussians: 1024\n"
     ]
    },
    {
     "name": "stderr",
     "output_type": "stream",
     "text": [
      "Loss: 0.059 (L1: 0.026, MSE: 0.002, SSIM: 0.062): 100%|\u001b[36m██████\u001b[0m| 1000/1000 [00:08<00:00, 115.81step/s]\u001b[0m\n",
      "[I 2025-01-08 23:30:00,648] Trial 101 finished with value: 0.030019091442227364 and parameters: {'scale_regularization': None, 'opacity_regularization': 0.5, 'extent': 1.0, 'init_scale': 3.0, 'init_opacity': 0.5, 'image_index': 2}. Best is trial 84 with value: 0.010448366403579712.\n"
     ]
    },
    {
     "name": "stdout",
     "output_type": "stream",
     "text": [
      "Final loss: 0.05858214199542999\n",
      "Total Time: Rasterization: 1.161s, Backward: 3.539s\n",
      "Trial 101 finished with value: 0.030019091442227364 and parameters: {'scale_regularization': None, 'opacity_regularization': 0.5, 'extent': 1.0, 'init_scale': 3.0, 'init_opacity': 0.5, 'image_index': 2}. Best is trial 84 with value: 0.010448366403579712.\n",
      "Trial 101 finished with value: 0.030019091442227364 and parameters: {'scale_regularization': None, 'opacity_regularization': 0.5, 'extent': 1.0, 'init_scale': 3.0, 'init_opacity': 0.5, 'image_index': 2}. Best is trial 84 with value: 0.010448366403579712.\n",
      "Model initialized. Number of Gaussians: 1024\n"
     ]
    },
    {
     "name": "stderr",
     "output_type": "stream",
     "text": [
      "Loss: 0.506 (L1: 0.047, MSE: 0.005, SSIM: 0.135): 100%|\u001b[36m██████\u001b[0m| 1000/1000 [00:08<00:00, 124.14step/s]\u001b[0m\n",
      "[I 2025-01-08 23:30:09,293] Trial 102 finished with value: 0.06163451075553894 and parameters: {'scale_regularization': 1.0, 'opacity_regularization': None, 'extent': 1.0, 'init_scale': 4.0, 'init_opacity': 0.5, 'image_index': 1}. Best is trial 84 with value: 0.010448366403579712.\n"
     ]
    },
    {
     "name": "stdout",
     "output_type": "stream",
     "text": [
      "Final loss: 0.5028097629547119\n",
      "Total Time: Rasterization: 1.105s, Backward: 3.290s\n",
      "Trial 102 finished with value: 0.06163451075553894 and parameters: {'scale_regularization': 1.0, 'opacity_regularization': None, 'extent': 1.0, 'init_scale': 4.0, 'init_opacity': 0.5, 'image_index': 1}. Best is trial 84 with value: 0.010448366403579712.\n",
      "Trial 102 finished with value: 0.06163451075553894 and parameters: {'scale_regularization': 1.0, 'opacity_regularization': None, 'extent': 1.0, 'init_scale': 4.0, 'init_opacity': 0.5, 'image_index': 1}. Best is trial 84 with value: 0.010448366403579712.\n",
      "Model initialized. Number of Gaussians: 1024\n"
     ]
    },
    {
     "name": "stderr",
     "output_type": "stream",
     "text": [
      "Loss: 0.021 (L1: 0.012, MSE: 0.000, SSIM: 0.050): 100%|\u001b[36m██████\u001b[0m| 1000/1000 [00:07<00:00, 125.26step/s]\u001b[0m\n",
      "[I 2025-01-08 23:30:17,875] Trial 103 finished with value: 0.02076531946659088 and parameters: {'scale_regularization': None, 'opacity_regularization': None, 'extent': 1.0, 'init_scale': 3.0, 'init_opacity': 0.5, 'image_index': 3}. Best is trial 84 with value: 0.010448366403579712.\n"
     ]
    },
    {
     "name": "stdout",
     "output_type": "stream",
     "text": [
      "Final loss: 0.02076531946659088\n",
      "Total Time: Rasterization: 1.127s, Backward: 3.199s\n",
      "Trial 103 finished with value: 0.02076531946659088 and parameters: {'scale_regularization': None, 'opacity_regularization': None, 'extent': 1.0, 'init_scale': 3.0, 'init_opacity': 0.5, 'image_index': 3}. Best is trial 84 with value: 0.010448366403579712.\n",
      "Trial 103 finished with value: 0.02076531946659088 and parameters: {'scale_regularization': None, 'opacity_regularization': None, 'extent': 1.0, 'init_scale': 3.0, 'init_opacity': 0.5, 'image_index': 3}. Best is trial 84 with value: 0.010448366403579712.\n",
      "Model initialized. Number of Gaussians: 1024\n"
     ]
    },
    {
     "name": "stderr",
     "output_type": "stream",
     "text": [
      "Loss: 0.013 (L1: 0.015, MSE: 0.001, SSIM: 0.024): 100%|\u001b[36m██████\u001b[0m| 1000/1000 [00:07<00:00, 132.26step/s]\u001b[0m\n",
      "[I 2025-01-08 23:30:26,028] Trial 104 finished with value: 0.013729441910982132 and parameters: {'scale_regularization': None, 'opacity_regularization': None, 'extent': 4.0, 'init_scale': 3.0, 'init_opacity': 0.6, 'image_index': 2}. Best is trial 84 with value: 0.010448366403579712.\n"
     ]
    },
    {
     "name": "stdout",
     "output_type": "stream",
     "text": [
      "Final loss: 0.013729441910982132\n",
      "Total Time: Rasterization: 1.085s, Backward: 3.035s\n",
      "Trial 104 finished with value: 0.013729441910982132 and parameters: {'scale_regularization': None, 'opacity_regularization': None, 'extent': 4.0, 'init_scale': 3.0, 'init_opacity': 0.6, 'image_index': 2}. Best is trial 84 with value: 0.010448366403579712.\n",
      "Trial 104 finished with value: 0.013729441910982132 and parameters: {'scale_regularization': None, 'opacity_regularization': None, 'extent': 4.0, 'init_scale': 3.0, 'init_opacity': 0.6, 'image_index': 2}. Best is trial 84 with value: 0.010448366403579712.\n",
      "Model initialized. Number of Gaussians: 1024\n"
     ]
    },
    {
     "name": "stderr",
     "output_type": "stream",
     "text": [
      "Loss: 0.012 (L1: 0.013, MSE: 0.001, SSIM: 0.021): 100%|\u001b[36m██████\u001b[0m| 1000/1000 [00:07<00:00, 126.43step/s]\u001b[0m\n",
      "[I 2025-01-08 23:30:34,534] Trial 105 finished with value: 0.01129322312772274 and parameters: {'scale_regularization': None, 'opacity_regularization': None, 'extent': 1.0, 'init_scale': 3.0, 'init_opacity': 0.5, 'image_index': 2}. Best is trial 84 with value: 0.010448366403579712.\n"
     ]
    },
    {
     "name": "stdout",
     "output_type": "stream",
     "text": [
      "Final loss: 0.01129322312772274\n",
      "Total Time: Rasterization: 1.121s, Backward: 3.176s\n",
      "Trial 105 finished with value: 0.01129322312772274 and parameters: {'scale_regularization': None, 'opacity_regularization': None, 'extent': 1.0, 'init_scale': 3.0, 'init_opacity': 0.5, 'image_index': 2}. Best is trial 84 with value: 0.010448366403579712.\n",
      "Trial 105 finished with value: 0.01129322312772274 and parameters: {'scale_regularization': None, 'opacity_regularization': None, 'extent': 1.0, 'init_scale': 3.0, 'init_opacity': 0.5, 'image_index': 2}. Best is trial 84 with value: 0.010448366403579712.\n",
      "Model initialized. Number of Gaussians: 1024\n"
     ]
    },
    {
     "name": "stderr",
     "output_type": "stream",
     "text": [
      "Loss: 0.011 (L1: 0.013, MSE: 0.001, SSIM: 0.019): 100%|\u001b[36m██████\u001b[0m| 1000/1000 [00:07<00:00, 126.48step/s]\u001b[0m\n",
      "[I 2025-01-08 23:30:43,041] Trial 106 finished with value: 0.01106983795762062 and parameters: {'scale_regularization': None, 'opacity_regularization': None, 'extent': 1.0, 'init_scale': 3.0, 'init_opacity': 0.5, 'image_index': 2}. Best is trial 84 with value: 0.010448366403579712.\n"
     ]
    },
    {
     "name": "stdout",
     "output_type": "stream",
     "text": [
      "Final loss: 0.01106983795762062\n",
      "Total Time: Rasterization: 1.111s, Backward: 3.157s\n",
      "Trial 106 finished with value: 0.01106983795762062 and parameters: {'scale_regularization': None, 'opacity_regularization': None, 'extent': 1.0, 'init_scale': 3.0, 'init_opacity': 0.5, 'image_index': 2}. Best is trial 84 with value: 0.010448366403579712.\n",
      "Trial 106 finished with value: 0.01106983795762062 and parameters: {'scale_regularization': None, 'opacity_regularization': None, 'extent': 1.0, 'init_scale': 3.0, 'init_opacity': 0.5, 'image_index': 2}. Best is trial 84 with value: 0.010448366403579712.\n",
      "Model initialized. Number of Gaussians: 1024\n"
     ]
    },
    {
     "name": "stderr",
     "output_type": "stream",
     "text": [
      "Loss: 0.011 (L1: 0.013, MSE: 0.001, SSIM: 0.021): 100%|\u001b[36m██████\u001b[0m| 1000/1000 [00:07<00:00, 126.69step/s]\u001b[0m\n",
      "[I 2025-01-08 23:30:51,537] Trial 107 finished with value: 0.01126924529671669 and parameters: {'scale_regularization': None, 'opacity_regularization': None, 'extent': 1.0, 'init_scale': 3.0, 'init_opacity': 0.5, 'image_index': 2}. Best is trial 84 with value: 0.010448366403579712.\n"
     ]
    },
    {
     "name": "stdout",
     "output_type": "stream",
     "text": [
      "Final loss: 0.01126924529671669\n",
      "Total Time: Rasterization: 1.122s, Backward: 3.136s\n",
      "Trial 107 finished with value: 0.01126924529671669 and parameters: {'scale_regularization': None, 'opacity_regularization': None, 'extent': 1.0, 'init_scale': 3.0, 'init_opacity': 0.5, 'image_index': 2}. Best is trial 84 with value: 0.010448366403579712.\n",
      "Trial 107 finished with value: 0.01126924529671669 and parameters: {'scale_regularization': None, 'opacity_regularization': None, 'extent': 1.0, 'init_scale': 3.0, 'init_opacity': 0.5, 'image_index': 2}. Best is trial 84 with value: 0.010448366403579712.\n",
      "Model initialized. Number of Gaussians: 1024\n"
     ]
    },
    {
     "name": "stderr",
     "output_type": "stream",
     "text": [
      "Loss: 0.012 (L1: 0.013, MSE: 0.001, SSIM: 0.021): 100%|\u001b[36m██████\u001b[0m| 1000/1000 [00:07<00:00, 125.98step/s]\u001b[0m\n",
      "[I 2025-01-08 23:31:00,091] Trial 108 finished with value: 0.012013198807835579 and parameters: {'scale_regularization': None, 'opacity_regularization': None, 'extent': 1.0, 'init_scale': 3.0, 'init_opacity': 0.5, 'image_index': 2}. Best is trial 84 with value: 0.010448366403579712.\n"
     ]
    },
    {
     "name": "stdout",
     "output_type": "stream",
     "text": [
      "Final loss: 0.012013198807835579\n",
      "Total Time: Rasterization: 1.116s, Backward: 3.144s\n",
      "Trial 108 finished with value: 0.012013198807835579 and parameters: {'scale_regularization': None, 'opacity_regularization': None, 'extent': 1.0, 'init_scale': 3.0, 'init_opacity': 0.5, 'image_index': 2}. Best is trial 84 with value: 0.010448366403579712.\n",
      "Trial 108 finished with value: 0.012013198807835579 and parameters: {'scale_regularization': None, 'opacity_regularization': None, 'extent': 1.0, 'init_scale': 3.0, 'init_opacity': 0.5, 'image_index': 2}. Best is trial 84 with value: 0.010448366403579712.\n",
      "Model initialized. Number of Gaussians: 1024\n"
     ]
    },
    {
     "name": "stderr",
     "output_type": "stream",
     "text": [
      "Loss: 0.013 (L1: 0.014, MSE: 0.001, SSIM: 0.025): 100%|\u001b[36m██████\u001b[0m| 1000/1000 [00:08<00:00, 123.42step/s]\u001b[0m\n",
      "[I 2025-01-08 23:31:08,805] Trial 109 finished with value: 0.0122978575527668 and parameters: {'scale_regularization': None, 'opacity_regularization': None, 'extent': 1.0, 'init_scale': 3.0, 'init_opacity': 0.5, 'image_index': 2}. Best is trial 84 with value: 0.010448366403579712.\n"
     ]
    },
    {
     "name": "stdout",
     "output_type": "stream",
     "text": [
      "Final loss: 0.0122978575527668\n",
      "Total Time: Rasterization: 1.136s, Backward: 3.227s\n",
      "Trial 109 finished with value: 0.0122978575527668 and parameters: {'scale_regularization': None, 'opacity_regularization': None, 'extent': 1.0, 'init_scale': 3.0, 'init_opacity': 0.5, 'image_index': 2}. Best is trial 84 with value: 0.010448366403579712.\n",
      "Trial 109 finished with value: 0.0122978575527668 and parameters: {'scale_regularization': None, 'opacity_regularization': None, 'extent': 1.0, 'init_scale': 3.0, 'init_opacity': 0.5, 'image_index': 2}. Best is trial 84 with value: 0.010448366403579712.\n",
      "Model initialized. Number of Gaussians: 1024\n"
     ]
    },
    {
     "name": "stderr",
     "output_type": "stream",
     "text": [
      "Loss: 0.012 (L1: 0.014, MSE: 0.001, SSIM: 0.021): 100%|\u001b[36m██████\u001b[0m| 1000/1000 [00:07<00:00, 129.33step/s]\u001b[0m\n",
      "[I 2025-01-08 23:31:17,146] Trial 110 finished with value: 0.011566021479666233 and parameters: {'scale_regularization': None, 'opacity_regularization': None, 'extent': 1.0, 'init_scale': 3.0, 'init_opacity': 0.5, 'image_index': 2}. Best is trial 84 with value: 0.010448366403579712.\n"
     ]
    },
    {
     "name": "stdout",
     "output_type": "stream",
     "text": [
      "Final loss: 0.011566021479666233\n",
      "Total Time: Rasterization: 1.085s, Backward: 3.090s\n",
      "Trial 110 finished with value: 0.011566021479666233 and parameters: {'scale_regularization': None, 'opacity_regularization': None, 'extent': 1.0, 'init_scale': 3.0, 'init_opacity': 0.5, 'image_index': 2}. Best is trial 84 with value: 0.010448366403579712.\n",
      "Trial 110 finished with value: 0.011566021479666233 and parameters: {'scale_regularization': None, 'opacity_regularization': None, 'extent': 1.0, 'init_scale': 3.0, 'init_opacity': 0.5, 'image_index': 2}. Best is trial 84 with value: 0.010448366403579712.\n",
      "Model initialized. Number of Gaussians: 1024\n"
     ]
    },
    {
     "name": "stderr",
     "output_type": "stream",
     "text": [
      "Loss: 0.011 (L1: 0.013, MSE: 0.001, SSIM: 0.019): 100%|\u001b[36m██████\u001b[0m| 1000/1000 [00:08<00:00, 123.63step/s]\u001b[0m\n",
      "[I 2025-01-08 23:31:25,861] Trial 111 finished with value: 0.010547136887907982 and parameters: {'scale_regularization': None, 'opacity_regularization': None, 'extent': 1.0, 'init_scale': 3.0, 'init_opacity': 0.5, 'image_index': 2}. Best is trial 84 with value: 0.010448366403579712.\n"
     ]
    },
    {
     "name": "stdout",
     "output_type": "stream",
     "text": [
      "Final loss: 0.010547136887907982\n",
      "Total Time: Rasterization: 1.135s, Backward: 3.210s\n",
      "Trial 111 finished with value: 0.010547136887907982 and parameters: {'scale_regularization': None, 'opacity_regularization': None, 'extent': 1.0, 'init_scale': 3.0, 'init_opacity': 0.5, 'image_index': 2}. Best is trial 84 with value: 0.010448366403579712.\n",
      "Trial 111 finished with value: 0.010547136887907982 and parameters: {'scale_regularization': None, 'opacity_regularization': None, 'extent': 1.0, 'init_scale': 3.0, 'init_opacity': 0.5, 'image_index': 2}. Best is trial 84 with value: 0.010448366403579712.\n",
      "Model initialized. Number of Gaussians: 1024\n"
     ]
    },
    {
     "name": "stderr",
     "output_type": "stream",
     "text": [
      "Loss: 0.082 (L1: 0.032, MSE: 0.003, SSIM: 0.082): 100%|\u001b[36m██████\u001b[0m| 1000/1000 [00:08<00:00, 115.92step/s]\u001b[0m\n",
      "[I 2025-01-08 23:31:35,100] Trial 112 finished with value: 0.03885196894407272 and parameters: {'scale_regularization': None, 'opacity_regularization': 1.0, 'extent': 1.0, 'init_scale': 3.0, 'init_opacity': 0.5, 'image_index': 2}. Best is trial 84 with value: 0.010448366403579712.\n"
     ]
    },
    {
     "name": "stdout",
     "output_type": "stream",
     "text": [
      "Final loss: 0.08146265149116516\n",
      "Total Time: Rasterization: 1.148s, Backward: 3.580s\n",
      "Trial 112 finished with value: 0.03885196894407272 and parameters: {'scale_regularization': None, 'opacity_regularization': 1.0, 'extent': 1.0, 'init_scale': 3.0, 'init_opacity': 0.5, 'image_index': 2}. Best is trial 84 with value: 0.010448366403579712.\n",
      "Trial 112 finished with value: 0.03885196894407272 and parameters: {'scale_regularization': None, 'opacity_regularization': 1.0, 'extent': 1.0, 'init_scale': 3.0, 'init_opacity': 0.5, 'image_index': 2}. Best is trial 84 with value: 0.010448366403579712.\n",
      "Model initialized. Number of Gaussians: 1024\n"
     ]
    },
    {
     "name": "stderr",
     "output_type": "stream",
     "text": [
      "Loss: 0.011 (L1: 0.013, MSE: 0.001, SSIM: 0.020): 100%|\u001b[36m██████\u001b[0m| 1000/1000 [00:07<00:00, 126.19step/s]\u001b[0m\n",
      "[I 2025-01-08 23:31:43,635] Trial 113 finished with value: 0.010828262194991112 and parameters: {'scale_regularization': None, 'opacity_regularization': None, 'extent': 1.0, 'init_scale': 3.0, 'init_opacity': 0.5, 'image_index': 2}. Best is trial 84 with value: 0.010448366403579712.\n"
     ]
    },
    {
     "name": "stdout",
     "output_type": "stream",
     "text": [
      "Final loss: 0.010828262194991112\n",
      "Total Time: Rasterization: 1.120s, Backward: 3.164s\n",
      "Trial 113 finished with value: 0.010828262194991112 and parameters: {'scale_regularization': None, 'opacity_regularization': None, 'extent': 1.0, 'init_scale': 3.0, 'init_opacity': 0.5, 'image_index': 2}. Best is trial 84 with value: 0.010448366403579712.\n",
      "Trial 113 finished with value: 0.010828262194991112 and parameters: {'scale_regularization': None, 'opacity_regularization': None, 'extent': 1.0, 'init_scale': 3.0, 'init_opacity': 0.5, 'image_index': 2}. Best is trial 84 with value: 0.010448366403579712.\n",
      "Model initialized. Number of Gaussians: 1024\n"
     ]
    },
    {
     "name": "stderr",
     "output_type": "stream",
     "text": [
      "Loss: 0.011 (L1: 0.013, MSE: 0.001, SSIM: 0.021): 100%|\u001b[36m██████\u001b[0m| 1000/1000 [00:08<00:00, 122.33step/s]\u001b[0m\n",
      "[I 2025-01-08 23:31:52,406] Trial 114 finished with value: 0.011094296351075172 and parameters: {'scale_regularization': None, 'opacity_regularization': None, 'extent': 1.0, 'init_scale': 3.0, 'init_opacity': 0.5, 'image_index': 2}. Best is trial 84 with value: 0.010448366403579712.\n"
     ]
    },
    {
     "name": "stdout",
     "output_type": "stream",
     "text": [
      "Final loss: 0.011094296351075172\n",
      "Total Time: Rasterization: 1.145s, Backward: 3.230s\n",
      "Trial 114 finished with value: 0.011094296351075172 and parameters: {'scale_regularization': None, 'opacity_regularization': None, 'extent': 1.0, 'init_scale': 3.0, 'init_opacity': 0.5, 'image_index': 2}. Best is trial 84 with value: 0.010448366403579712.\n",
      "Trial 114 finished with value: 0.011094296351075172 and parameters: {'scale_regularization': None, 'opacity_regularization': None, 'extent': 1.0, 'init_scale': 3.0, 'init_opacity': 0.5, 'image_index': 2}. Best is trial 84 with value: 0.010448366403579712.\n",
      "Model initialized. Number of Gaussians: 1024\n"
     ]
    },
    {
     "name": "stderr",
     "output_type": "stream",
     "text": [
      "Loss: 0.117 (L1: 0.030, MSE: 0.002, SSIM: 0.120): 100%|\u001b[36m██████\u001b[0m| 1000/1000 [00:08<00:00, 123.54step/s]\u001b[0m\n",
      "[I 2025-01-08 23:32:01,106] Trial 115 finished with value: 0.05066622421145439 and parameters: {'scale_regularization': 0.1, 'opacity_regularization': None, 'extent': 1.0, 'init_scale': 4.0, 'init_opacity': 0.5, 'image_index': 0}. Best is trial 84 with value: 0.010448366403579712.\n"
     ]
    },
    {
     "name": "stdout",
     "output_type": "stream",
     "text": [
      "Final loss: 0.11681978404521942\n",
      "Total Time: Rasterization: 1.109s, Backward: 3.236s\n",
      "Trial 115 finished with value: 0.05066622421145439 and parameters: {'scale_regularization': 0.1, 'opacity_regularization': None, 'extent': 1.0, 'init_scale': 4.0, 'init_opacity': 0.5, 'image_index': 0}. Best is trial 84 with value: 0.010448366403579712.\n",
      "Trial 115 finished with value: 0.05066622421145439 and parameters: {'scale_regularization': 0.1, 'opacity_regularization': None, 'extent': 1.0, 'init_scale': 4.0, 'init_opacity': 0.5, 'image_index': 0}. Best is trial 84 with value: 0.010448366403579712.\n",
      "Model initialized. Number of Gaussians: 1024\n"
     ]
    },
    {
     "name": "stderr",
     "output_type": "stream",
     "text": [
      "Loss: 0.011 (L1: 0.013, MSE: 0.000, SSIM: 0.019): 100%|\u001b[36m██████\u001b[0m| 1000/1000 [00:08<00:00, 124.39step/s]\u001b[0m\n",
      "[I 2025-01-08 23:32:09,743] Trial 116 finished with value: 0.01058085449039936 and parameters: {'scale_regularization': None, 'opacity_regularization': None, 'extent': 1.0, 'init_scale': 3.0, 'init_opacity': 0.5, 'image_index': 2}. Best is trial 84 with value: 0.010448366403579712.\n"
     ]
    },
    {
     "name": "stdout",
     "output_type": "stream",
     "text": [
      "Final loss: 0.01058085449039936\n",
      "Total Time: Rasterization: 1.128s, Backward: 3.182s\n",
      "Trial 116 finished with value: 0.01058085449039936 and parameters: {'scale_regularization': None, 'opacity_regularization': None, 'extent': 1.0, 'init_scale': 3.0, 'init_opacity': 0.5, 'image_index': 2}. Best is trial 84 with value: 0.010448366403579712.\n",
      "Trial 116 finished with value: 0.01058085449039936 and parameters: {'scale_regularization': None, 'opacity_regularization': None, 'extent': 1.0, 'init_scale': 3.0, 'init_opacity': 0.5, 'image_index': 2}. Best is trial 84 with value: 0.010448366403579712.\n",
      "Model initialized. Number of Gaussians: 1024\n"
     ]
    },
    {
     "name": "stderr",
     "output_type": "stream",
     "text": [
      "Loss: 0.011 (L1: 0.013, MSE: 0.001, SSIM: 0.020): 100%|\u001b[36m██████\u001b[0m| 1000/1000 [00:07<00:00, 125.70step/s]\u001b[0m\n",
      "[I 2025-01-08 23:32:18,298] Trial 117 finished with value: 0.010907061398029327 and parameters: {'scale_regularization': None, 'opacity_regularization': None, 'extent': 1.0, 'init_scale': 3.0, 'init_opacity': 0.5, 'image_index': 2}. Best is trial 84 with value: 0.010448366403579712.\n"
     ]
    },
    {
     "name": "stdout",
     "output_type": "stream",
     "text": [
      "Final loss: 0.010907061398029327\n",
      "Total Time: Rasterization: 1.124s, Backward: 3.188s\n",
      "Trial 117 finished with value: 0.010907061398029327 and parameters: {'scale_regularization': None, 'opacity_regularization': None, 'extent': 1.0, 'init_scale': 3.0, 'init_opacity': 0.5, 'image_index': 2}. Best is trial 84 with value: 0.010448366403579712.\n",
      "Trial 117 finished with value: 0.010907061398029327 and parameters: {'scale_regularization': None, 'opacity_regularization': None, 'extent': 1.0, 'init_scale': 3.0, 'init_opacity': 0.5, 'image_index': 2}. Best is trial 84 with value: 0.010448366403579712.\n",
      "Model initialized. Number of Gaussians: 1024\n"
     ]
    },
    {
     "name": "stderr",
     "output_type": "stream",
     "text": [
      "Loss: 0.012 (L1: 0.014, MSE: 0.001, SSIM: 0.023): 100%|\u001b[36m██████\u001b[0m| 1000/1000 [00:08<00:00, 124.73step/s]\u001b[0m\n",
      "[I 2025-01-08 23:32:26,913] Trial 118 finished with value: 0.012285587377846241 and parameters: {'scale_regularization': None, 'opacity_regularization': None, 'extent': 1.0, 'init_scale': 3.0, 'init_opacity': 0.5, 'image_index': 2}. Best is trial 84 with value: 0.010448366403579712.\n"
     ]
    },
    {
     "name": "stdout",
     "output_type": "stream",
     "text": [
      "Final loss: 0.012285587377846241\n",
      "Total Time: Rasterization: 1.127s, Backward: 3.218s\n",
      "Trial 118 finished with value: 0.012285587377846241 and parameters: {'scale_regularization': None, 'opacity_regularization': None, 'extent': 1.0, 'init_scale': 3.0, 'init_opacity': 0.5, 'image_index': 2}. Best is trial 84 with value: 0.010448366403579712.\n",
      "Trial 118 finished with value: 0.012285587377846241 and parameters: {'scale_regularization': None, 'opacity_regularization': None, 'extent': 1.0, 'init_scale': 3.0, 'init_opacity': 0.5, 'image_index': 2}. Best is trial 84 with value: 0.010448366403579712.\n",
      "Model initialized. Number of Gaussians: 1024\n"
     ]
    },
    {
     "name": "stderr",
     "output_type": "stream",
     "text": [
      "Loss: 0.013 (L1: 0.014, MSE: 0.001, SSIM: 0.024): 100%|\u001b[36m██████\u001b[0m| 1000/1000 [00:07<00:00, 129.29step/s]\u001b[0m\n",
      "[I 2025-01-08 23:32:35,244] Trial 119 finished with value: 0.013027971610426903 and parameters: {'scale_regularization': None, 'opacity_regularization': None, 'extent': 1.0, 'init_scale': 3.0, 'init_opacity': 0.5, 'image_index': 2}. Best is trial 84 with value: 0.010448366403579712.\n"
     ]
    },
    {
     "name": "stdout",
     "output_type": "stream",
     "text": [
      "Final loss: 0.013027971610426903\n",
      "Total Time: Rasterization: 1.097s, Backward: 3.106s\n",
      "Trial 119 finished with value: 0.013027971610426903 and parameters: {'scale_regularization': None, 'opacity_regularization': None, 'extent': 1.0, 'init_scale': 3.0, 'init_opacity': 0.5, 'image_index': 2}. Best is trial 84 with value: 0.010448366403579712.\n",
      "Trial 119 finished with value: 0.013027971610426903 and parameters: {'scale_regularization': None, 'opacity_regularization': None, 'extent': 1.0, 'init_scale': 3.0, 'init_opacity': 0.5, 'image_index': 2}. Best is trial 84 with value: 0.010448366403579712.\n",
      "Model initialized. Number of Gaussians: 1024\n"
     ]
    },
    {
     "name": "stderr",
     "output_type": "stream",
     "text": [
      "Loss: 0.011 (L1: 0.013, MSE: 0.001, SSIM: 0.020): 100%|\u001b[36m██████\u001b[0m| 1000/1000 [00:08<00:00, 123.28step/s]\u001b[0m\n",
      "[I 2025-01-08 23:32:43,964] Trial 120 finished with value: 0.0112547492608428 and parameters: {'scale_regularization': None, 'opacity_regularization': None, 'extent': 1.0, 'init_scale': 3.0, 'init_opacity': 0.5, 'image_index': 2}. Best is trial 84 with value: 0.010448366403579712.\n"
     ]
    },
    {
     "name": "stdout",
     "output_type": "stream",
     "text": [
      "Final loss: 0.0112547492608428\n",
      "Total Time: Rasterization: 1.146s, Backward: 3.242s\n",
      "Trial 120 finished with value: 0.0112547492608428 and parameters: {'scale_regularization': None, 'opacity_regularization': None, 'extent': 1.0, 'init_scale': 3.0, 'init_opacity': 0.5, 'image_index': 2}. Best is trial 84 with value: 0.010448366403579712.\n",
      "Trial 120 finished with value: 0.0112547492608428 and parameters: {'scale_regularization': None, 'opacity_regularization': None, 'extent': 1.0, 'init_scale': 3.0, 'init_opacity': 0.5, 'image_index': 2}. Best is trial 84 with value: 0.010448366403579712.\n",
      "Model initialized. Number of Gaussians: 1024\n"
     ]
    },
    {
     "name": "stderr",
     "output_type": "stream",
     "text": [
      "Loss: 0.151 (L1: 0.023, MSE: 0.002, SSIM: 0.063): 100%|\u001b[36m██████\u001b[0m| 1000/1000 [00:09<00:00, 111.06step/s]\u001b[0m\n",
      "[I 2025-01-08 23:32:53,633] Trial 121 finished with value: 0.029125291854143143 and parameters: {'scale_regularization': 1.0, 'opacity_regularization': 0.1, 'extent': 1.0, 'init_scale': 2.0, 'init_opacity': 0.5, 'image_index': 2}. Best is trial 84 with value: 0.010448366403579712.\n"
     ]
    },
    {
     "name": "stdout",
     "output_type": "stream",
     "text": [
      "Final loss: 0.15027278661727905\n",
      "Total Time: Rasterization: 1.178s, Backward: 3.716s\n",
      "Trial 121 finished with value: 0.029125291854143143 and parameters: {'scale_regularization': 1.0, 'opacity_regularization': 0.1, 'extent': 1.0, 'init_scale': 2.0, 'init_opacity': 0.5, 'image_index': 2}. Best is trial 84 with value: 0.010448366403579712.\n",
      "Trial 121 finished with value: 0.029125291854143143 and parameters: {'scale_regularization': 1.0, 'opacity_regularization': 0.1, 'extent': 1.0, 'init_scale': 2.0, 'init_opacity': 0.5, 'image_index': 2}. Best is trial 84 with value: 0.010448366403579712.\n",
      "Model initialized. Number of Gaussians: 1024\n"
     ]
    },
    {
     "name": "stderr",
     "output_type": "stream",
     "text": [
      "Loss: 0.013 (L1: 0.014, MSE: 0.001, SSIM: 0.024): 100%|\u001b[36m██████\u001b[0m| 1000/1000 [00:07<00:00, 128.50step/s]\u001b[0m\n",
      "[I 2025-01-08 23:33:02,014] Trial 122 finished with value: 0.01255752146244049 and parameters: {'scale_regularization': None, 'opacity_regularization': None, 'extent': 4.0, 'init_scale': 3.0, 'init_opacity': 0.5, 'image_index': 2}. Best is trial 84 with value: 0.010448366403579712.\n"
     ]
    },
    {
     "name": "stdout",
     "output_type": "stream",
     "text": [
      "Final loss: 0.01255752146244049\n",
      "Total Time: Rasterization: 1.107s, Backward: 3.135s\n",
      "Trial 122 finished with value: 0.01255752146244049 and parameters: {'scale_regularization': None, 'opacity_regularization': None, 'extent': 4.0, 'init_scale': 3.0, 'init_opacity': 0.5, 'image_index': 2}. Best is trial 84 with value: 0.010448366403579712.\n",
      "Trial 122 finished with value: 0.01255752146244049 and parameters: {'scale_regularization': None, 'opacity_regularization': None, 'extent': 4.0, 'init_scale': 3.0, 'init_opacity': 0.5, 'image_index': 2}. Best is trial 84 with value: 0.010448366403579712.\n",
      "Model initialized. Number of Gaussians: 1024\n"
     ]
    },
    {
     "name": "stderr",
     "output_type": "stream",
     "text": [
      "Loss: 0.058 (L1: 0.026, MSE: 0.002, SSIM: 0.059): 100%|\u001b[36m██████\u001b[0m| 1000/1000 [00:08<00:00, 117.35step/s]\u001b[0m\n",
      "[I 2025-01-08 23:33:11,133] Trial 123 finished with value: 0.028920790180563927 and parameters: {'scale_regularization': None, 'opacity_regularization': 0.5, 'extent': 1.0, 'init_scale': 3.0, 'init_opacity': 0.6, 'image_index': 2}. Best is trial 84 with value: 0.010448366403579712.\n"
     ]
    },
    {
     "name": "stdout",
     "output_type": "stream",
     "text": [
      "Final loss: 0.058168403804302216\n",
      "Total Time: Rasterization: 1.142s, Backward: 3.513s\n",
      "Trial 123 finished with value: 0.028920790180563927 and parameters: {'scale_regularization': None, 'opacity_regularization': 0.5, 'extent': 1.0, 'init_scale': 3.0, 'init_opacity': 0.6, 'image_index': 2}. Best is trial 84 with value: 0.010448366403579712.\n",
      "Trial 123 finished with value: 0.028920790180563927 and parameters: {'scale_regularization': None, 'opacity_regularization': 0.5, 'extent': 1.0, 'init_scale': 3.0, 'init_opacity': 0.6, 'image_index': 2}. Best is trial 84 with value: 0.010448366403579712.\n",
      "Model initialized. Number of Gaussians: 1024\n"
     ]
    },
    {
     "name": "stderr",
     "output_type": "stream",
     "text": [
      "Loss: 0.044 (L1: 0.037, MSE: 0.003, SSIM: 0.091): 100%|\u001b[36m██████\u001b[0m| 1000/1000 [00:07<00:00, 129.37step/s]\u001b[0m\n",
      "[I 2025-01-08 23:33:19,461] Trial 124 finished with value: 0.04379986971616745 and parameters: {'scale_regularization': None, 'opacity_regularization': None, 'extent': 1.0, 'init_scale': 3.0, 'init_opacity': 0.5, 'image_index': 1}. Best is trial 84 with value: 0.010448366403579712.\n"
     ]
    },
    {
     "name": "stdout",
     "output_type": "stream",
     "text": [
      "Final loss: 0.04379986971616745\n",
      "Total Time: Rasterization: 1.096s, Backward: 3.121s\n",
      "Trial 124 finished with value: 0.04379986971616745 and parameters: {'scale_regularization': None, 'opacity_regularization': None, 'extent': 1.0, 'init_scale': 3.0, 'init_opacity': 0.5, 'image_index': 1}. Best is trial 84 with value: 0.010448366403579712.\n",
      "Trial 124 finished with value: 0.04379986971616745 and parameters: {'scale_regularization': None, 'opacity_regularization': None, 'extent': 1.0, 'init_scale': 3.0, 'init_opacity': 0.5, 'image_index': 1}. Best is trial 84 with value: 0.010448366403579712.\n",
      "Model initialized. Number of Gaussians: 1024\n"
     ]
    },
    {
     "name": "stderr",
     "output_type": "stream",
     "text": [
      "Loss: 0.019 (L1: 0.012, MSE: 0.000, SSIM: 0.045): 100%|\u001b[36m██████\u001b[0m| 1000/1000 [00:07<00:00, 127.65step/s]\u001b[0m\n",
      "[I 2025-01-08 23:33:27,892] Trial 125 finished with value: 0.017174508422613144 and parameters: {'scale_regularization': None, 'opacity_regularization': None, 'extent': 1.0, 'init_scale': 3.0, 'init_opacity': 0.5, 'image_index': 3}. Best is trial 84 with value: 0.010448366403579712.\n"
     ]
    },
    {
     "name": "stdout",
     "output_type": "stream",
     "text": [
      "Final loss: 0.017174508422613144\n",
      "Total Time: Rasterization: 1.111s, Backward: 3.135s\n",
      "Trial 125 finished with value: 0.017174508422613144 and parameters: {'scale_regularization': None, 'opacity_regularization': None, 'extent': 1.0, 'init_scale': 3.0, 'init_opacity': 0.5, 'image_index': 3}. Best is trial 84 with value: 0.010448366403579712.\n",
      "Trial 125 finished with value: 0.017174508422613144 and parameters: {'scale_regularization': None, 'opacity_regularization': None, 'extent': 1.0, 'init_scale': 3.0, 'init_opacity': 0.5, 'image_index': 3}. Best is trial 84 with value: 0.010448366403579712.\n",
      "Model initialized. Number of Gaussians: 1024\n"
     ]
    },
    {
     "name": "stderr",
     "output_type": "stream",
     "text": [
      "Loss: 0.012 (L1: 0.014, MSE: 0.001, SSIM: 0.021): 100%|\u001b[36m██████\u001b[0m| 1000/1000 [00:07<00:00, 125.89step/s]\u001b[0m\n",
      "[I 2025-01-08 23:33:36,432] Trial 126 finished with value: 0.011742549017071724 and parameters: {'scale_regularization': None, 'opacity_regularization': None, 'extent': 1.0, 'init_scale': 3.0, 'init_opacity': 0.5, 'image_index': 2}. Best is trial 84 with value: 0.010448366403579712.\n"
     ]
    },
    {
     "name": "stdout",
     "output_type": "stream",
     "text": [
      "Final loss: 0.011742549017071724\n",
      "Total Time: Rasterization: 1.120s, Backward: 3.159s\n",
      "Trial 126 finished with value: 0.011742549017071724 and parameters: {'scale_regularization': None, 'opacity_regularization': None, 'extent': 1.0, 'init_scale': 3.0, 'init_opacity': 0.5, 'image_index': 2}. Best is trial 84 with value: 0.010448366403579712.\n",
      "Trial 126 finished with value: 0.011742549017071724 and parameters: {'scale_regularization': None, 'opacity_regularization': None, 'extent': 1.0, 'init_scale': 3.0, 'init_opacity': 0.5, 'image_index': 2}. Best is trial 84 with value: 0.010448366403579712.\n",
      "Model initialized. Number of Gaussians: 1024\n"
     ]
    },
    {
     "name": "stderr",
     "output_type": "stream",
     "text": [
      "Loss: 0.011 (L1: 0.013, MSE: 0.001, SSIM: 0.020): 100%|\u001b[36m██████\u001b[0m| 1000/1000 [00:07<00:00, 126.29step/s]\u001b[0m\n",
      "[I 2025-01-08 23:33:44,949] Trial 127 finished with value: 0.010866733267903328 and parameters: {'scale_regularization': None, 'opacity_regularization': None, 'extent': 1.0, 'init_scale': 3.0, 'init_opacity': 0.5, 'image_index': 2}. Best is trial 84 with value: 0.010448366403579712.\n"
     ]
    },
    {
     "name": "stdout",
     "output_type": "stream",
     "text": [
      "Final loss: 0.010866733267903328\n",
      "Total Time: Rasterization: 1.117s, Backward: 3.168s\n",
      "Trial 127 finished with value: 0.010866733267903328 and parameters: {'scale_regularization': None, 'opacity_regularization': None, 'extent': 1.0, 'init_scale': 3.0, 'init_opacity': 0.5, 'image_index': 2}. Best is trial 84 with value: 0.010448366403579712.\n",
      "Trial 127 finished with value: 0.010866733267903328 and parameters: {'scale_regularization': None, 'opacity_regularization': None, 'extent': 1.0, 'init_scale': 3.0, 'init_opacity': 0.5, 'image_index': 2}. Best is trial 84 with value: 0.010448366403579712.\n",
      "Model initialized. Number of Gaussians: 1024\n"
     ]
    },
    {
     "name": "stderr",
     "output_type": "stream",
     "text": [
      "Loss: 0.011 (L1: 0.013, MSE: 0.001, SSIM: 0.020): 100%|\u001b[36m██████\u001b[0m| 1000/1000 [00:07<00:00, 125.95step/s]\u001b[0m\n",
      "[I 2025-01-08 23:33:53,493] Trial 128 finished with value: 0.01091865822672844 and parameters: {'scale_regularization': None, 'opacity_regularization': None, 'extent': 1.0, 'init_scale': 3.0, 'init_opacity': 0.5, 'image_index': 2}. Best is trial 84 with value: 0.010448366403579712.\n"
     ]
    },
    {
     "name": "stdout",
     "output_type": "stream",
     "text": [
      "Final loss: 0.01091865822672844\n",
      "Total Time: Rasterization: 1.113s, Backward: 3.156s\n",
      "Trial 128 finished with value: 0.01091865822672844 and parameters: {'scale_regularization': None, 'opacity_regularization': None, 'extent': 1.0, 'init_scale': 3.0, 'init_opacity': 0.5, 'image_index': 2}. Best is trial 84 with value: 0.010448366403579712.\n",
      "Trial 128 finished with value: 0.01091865822672844 and parameters: {'scale_regularization': None, 'opacity_regularization': None, 'extent': 1.0, 'init_scale': 3.0, 'init_opacity': 0.5, 'image_index': 2}. Best is trial 84 with value: 0.010448366403579712.\n",
      "Model initialized. Number of Gaussians: 1024\n"
     ]
    },
    {
     "name": "stderr",
     "output_type": "stream",
     "text": [
      "Loss: 0.012 (L1: 0.014, MSE: 0.001, SSIM: 0.021): 100%|\u001b[36m██████\u001b[0m| 1000/1000 [00:07<00:00, 126.48step/s]\u001b[0m\n",
      "[I 2025-01-08 23:34:02,008] Trial 129 finished with value: 0.01191972941160202 and parameters: {'scale_regularization': None, 'opacity_regularization': None, 'extent': 1.0, 'init_scale': 3.0, 'init_opacity': 0.5, 'image_index': 2}. Best is trial 84 with value: 0.010448366403579712.\n"
     ]
    },
    {
     "name": "stdout",
     "output_type": "stream",
     "text": [
      "Final loss: 0.01191972941160202\n",
      "Total Time: Rasterization: 1.106s, Backward: 3.168s\n",
      "Trial 129 finished with value: 0.01191972941160202 and parameters: {'scale_regularization': None, 'opacity_regularization': None, 'extent': 1.0, 'init_scale': 3.0, 'init_opacity': 0.5, 'image_index': 2}. Best is trial 84 with value: 0.010448366403579712.\n",
      "Trial 129 finished with value: 0.01191972941160202 and parameters: {'scale_regularization': None, 'opacity_regularization': None, 'extent': 1.0, 'init_scale': 3.0, 'init_opacity': 0.5, 'image_index': 2}. Best is trial 84 with value: 0.010448366403579712.\n",
      "Model initialized. Number of Gaussians: 1024\n"
     ]
    },
    {
     "name": "stderr",
     "output_type": "stream",
     "text": [
      "Loss: 0.011 (L1: 0.013, MSE: 0.001, SSIM: 0.021): 100%|\u001b[36m██████\u001b[0m| 1000/1000 [00:08<00:00, 121.62step/s]\u001b[0m\n",
      "[I 2025-01-08 23:34:10,837] Trial 130 finished with value: 0.011522462591528893 and parameters: {'scale_regularization': None, 'opacity_regularization': None, 'extent': 1.0, 'init_scale': 3.0, 'init_opacity': 0.5, 'image_index': 2}. Best is trial 84 with value: 0.010448366403579712.\n"
     ]
    },
    {
     "name": "stdout",
     "output_type": "stream",
     "text": [
      "Final loss: 0.011522462591528893\n",
      "Total Time: Rasterization: 1.164s, Backward: 3.247s\n",
      "Trial 130 finished with value: 0.011522462591528893 and parameters: {'scale_regularization': None, 'opacity_regularization': None, 'extent': 1.0, 'init_scale': 3.0, 'init_opacity': 0.5, 'image_index': 2}. Best is trial 84 with value: 0.010448366403579712.\n",
      "Trial 130 finished with value: 0.011522462591528893 and parameters: {'scale_regularization': None, 'opacity_regularization': None, 'extent': 1.0, 'init_scale': 3.0, 'init_opacity': 0.5, 'image_index': 2}. Best is trial 84 with value: 0.010448366403579712.\n",
      "Model initialized. Number of Gaussians: 1024\n"
     ]
    },
    {
     "name": "stderr",
     "output_type": "stream",
     "text": [
      "Loss: 0.011 (L1: 0.013, MSE: 0.001, SSIM: 0.019): 100%|\u001b[36m██████\u001b[0m| 1000/1000 [00:08<00:00, 122.01step/s]\u001b[0m\n",
      "[I 2025-01-08 23:34:19,631] Trial 131 finished with value: 0.01039581373333931 and parameters: {'scale_regularization': None, 'opacity_regularization': None, 'extent': 1.0, 'init_scale': 3.0, 'init_opacity': 0.5, 'image_index': 2}. Best is trial 131 with value: 0.01039581373333931.\n"
     ]
    },
    {
     "name": "stdout",
     "output_type": "stream",
     "text": [
      "Final loss: 0.01039581373333931\n",
      "Total Time: Rasterization: 1.152s, Backward: 3.267s\n",
      "Trial 131 finished with value: 0.01039581373333931 and parameters: {'scale_regularization': None, 'opacity_regularization': None, 'extent': 1.0, 'init_scale': 3.0, 'init_opacity': 0.5, 'image_index': 2}. Best is trial 131 with value: 0.01039581373333931.\n",
      "Trial 131 finished with value: 0.01039581373333931 and parameters: {'scale_regularization': None, 'opacity_regularization': None, 'extent': 1.0, 'init_scale': 3.0, 'init_opacity': 0.5, 'image_index': 2}. Best is trial 131 with value: 0.01039581373333931.\n",
      "Model initialized. Number of Gaussians: 1024\n"
     ]
    },
    {
     "name": "stderr",
     "output_type": "stream",
     "text": [
      "Loss: 0.015 (L1: 0.015, MSE: 0.001, SSIM: 0.029): 100%|\u001b[36m██████\u001b[0m| 1000/1000 [00:08<00:00, 124.64step/s]\u001b[0m\n",
      "[I 2025-01-08 23:34:28,250] Trial 132 finished with value: 0.01451406255364418 and parameters: {'scale_regularization': None, 'opacity_regularization': None, 'extent': 1.0, 'init_scale': 3.0, 'init_opacity': 0.5, 'image_index': 2}. Best is trial 131 with value: 0.01039581373333931.\n"
     ]
    },
    {
     "name": "stdout",
     "output_type": "stream",
     "text": [
      "Final loss: 0.01451406255364418\n",
      "Total Time: Rasterization: 1.129s, Backward: 3.220s\n",
      "Trial 132 finished with value: 0.01451406255364418 and parameters: {'scale_regularization': None, 'opacity_regularization': None, 'extent': 1.0, 'init_scale': 3.0, 'init_opacity': 0.5, 'image_index': 2}. Best is trial 131 with value: 0.01039581373333931.\n",
      "Trial 132 finished with value: 0.01451406255364418 and parameters: {'scale_regularization': None, 'opacity_regularization': None, 'extent': 1.0, 'init_scale': 3.0, 'init_opacity': 0.5, 'image_index': 2}. Best is trial 131 with value: 0.01039581373333931.\n",
      "Model initialized. Number of Gaussians: 1024\n"
     ]
    },
    {
     "name": "stderr",
     "output_type": "stream",
     "text": [
      "Loss: 0.081 (L1: 0.032, MSE: 0.003, SSIM: 0.079): 100%|\u001b[36m██████\u001b[0m| 1000/1000 [00:08<00:00, 114.13step/s]\u001b[0m\n",
      "[I 2025-01-08 23:34:37,613] Trial 133 finished with value: 0.03819200396537781 and parameters: {'scale_regularization': None, 'opacity_regularization': 1.0, 'extent': 1.0, 'init_scale': 3.0, 'init_opacity': 0.5, 'image_index': 2}. Best is trial 131 with value: 0.01039581373333931.\n"
     ]
    },
    {
     "name": "stdout",
     "output_type": "stream",
     "text": [
      "Final loss: 0.08133624494075775\n",
      "Total Time: Rasterization: 1.169s, Backward: 3.683s\n",
      "Trial 133 finished with value: 0.03819200396537781 and parameters: {'scale_regularization': None, 'opacity_regularization': 1.0, 'extent': 1.0, 'init_scale': 3.0, 'init_opacity': 0.5, 'image_index': 2}. Best is trial 131 with value: 0.01039581373333931.\n",
      "Trial 133 finished with value: 0.03819200396537781 and parameters: {'scale_regularization': None, 'opacity_regularization': 1.0, 'extent': 1.0, 'init_scale': 3.0, 'init_opacity': 0.5, 'image_index': 2}. Best is trial 131 with value: 0.01039581373333931.\n",
      "Model initialized. Number of Gaussians: 1024\n"
     ]
    },
    {
     "name": "stderr",
     "output_type": "stream",
     "text": [
      "Loss: 0.010 (L1: 0.013, MSE: 0.001, SSIM: 0.018): 100%|\u001b[36m██████\u001b[0m| 1000/1000 [00:08<00:00, 122.94step/s]\u001b[0m\n",
      "[I 2025-01-08 23:34:46,349] Trial 134 finished with value: 0.010311022400856018 and parameters: {'scale_regularization': None, 'opacity_regularization': None, 'extent': 1.0, 'init_scale': 3.0, 'init_opacity': 0.5, 'image_index': 2}. Best is trial 134 with value: 0.010311022400856018.\n"
     ]
    },
    {
     "name": "stdout",
     "output_type": "stream",
     "text": [
      "Final loss: 0.010311022400856018\n",
      "Total Time: Rasterization: 1.143s, Backward: 3.250s\n",
      "Trial 134 finished with value: 0.010311022400856018 and parameters: {'scale_regularization': None, 'opacity_regularization': None, 'extent': 1.0, 'init_scale': 3.0, 'init_opacity': 0.5, 'image_index': 2}. Best is trial 134 with value: 0.010311022400856018.\n",
      "Trial 134 finished with value: 0.010311022400856018 and parameters: {'scale_regularization': None, 'opacity_regularization': None, 'extent': 1.0, 'init_scale': 3.0, 'init_opacity': 0.5, 'image_index': 2}. Best is trial 134 with value: 0.010311022400856018.\n",
      "Model initialized. Number of Gaussians: 1024\n"
     ]
    },
    {
     "name": "stderr",
     "output_type": "stream",
     "text": [
      "Loss: 0.012 (L1: 0.014, MSE: 0.001, SSIM: 0.021): 100%|\u001b[36m██████\u001b[0m| 1000/1000 [00:07<00:00, 127.71step/s]\u001b[0m\n",
      "[I 2025-01-08 23:34:54,868] Trial 135 finished with value: 0.011561024934053421 and parameters: {'scale_regularization': None, 'opacity_regularization': None, 'extent': 1.0, 'init_scale': 3.0, 'init_opacity': 0.5, 'image_index': 2}. Best is trial 134 with value: 0.010311022400856018.\n"
     ]
    },
    {
     "name": "stdout",
     "output_type": "stream",
     "text": [
      "Final loss: 0.011561024934053421\n",
      "Total Time: Rasterization: 1.103s, Backward: 3.157s\n",
      "Trial 135 finished with value: 0.011561024934053421 and parameters: {'scale_regularization': None, 'opacity_regularization': None, 'extent': 1.0, 'init_scale': 3.0, 'init_opacity': 0.5, 'image_index': 2}. Best is trial 134 with value: 0.010311022400856018.\n",
      "Trial 135 finished with value: 0.011561024934053421 and parameters: {'scale_regularization': None, 'opacity_regularization': None, 'extent': 1.0, 'init_scale': 3.0, 'init_opacity': 0.5, 'image_index': 2}. Best is trial 134 with value: 0.010311022400856018.\n",
      "Model initialized. Number of Gaussians: 1024\n"
     ]
    },
    {
     "name": "stderr",
     "output_type": "stream",
     "text": [
      "Loss: 0.012 (L1: 0.014, MSE: 0.001, SSIM: 0.022): 100%|\u001b[36m██████\u001b[0m| 1000/1000 [00:07<00:00, 129.64step/s]\u001b[0m\n",
      "[I 2025-01-08 23:35:03,219] Trial 136 finished with value: 0.012028027325868607 and parameters: {'scale_regularization': None, 'opacity_regularization': None, 'extent': 1.0, 'init_scale': 3.0, 'init_opacity': 0.5, 'image_index': 2}. Best is trial 134 with value: 0.010311022400856018.\n"
     ]
    },
    {
     "name": "stdout",
     "output_type": "stream",
     "text": [
      "Final loss: 0.012028027325868607\n",
      "Total Time: Rasterization: 1.088s, Backward: 3.120s\n",
      "Trial 136 finished with value: 0.012028027325868607 and parameters: {'scale_regularization': None, 'opacity_regularization': None, 'extent': 1.0, 'init_scale': 3.0, 'init_opacity': 0.5, 'image_index': 2}. Best is trial 134 with value: 0.010311022400856018.\n",
      "Trial 136 finished with value: 0.012028027325868607 and parameters: {'scale_regularization': None, 'opacity_regularization': None, 'extent': 1.0, 'init_scale': 3.0, 'init_opacity': 0.5, 'image_index': 2}. Best is trial 134 with value: 0.010311022400856018.\n",
      "Model initialized. Number of Gaussians: 1024\n"
     ]
    },
    {
     "name": "stderr",
     "output_type": "stream",
     "text": [
      "Loss: 0.012 (L1: 0.014, MSE: 0.001, SSIM: 0.023): 100%|\u001b[36m██████\u001b[0m| 1000/1000 [00:07<00:00, 130.24step/s]\u001b[0m\n",
      "[I 2025-01-08 23:35:11,506] Trial 137 finished with value: 0.013229046016931534 and parameters: {'scale_regularization': None, 'opacity_regularization': None, 'extent': 1.0, 'init_scale': 3.0, 'init_opacity': 0.5, 'image_index': 2}. Best is trial 134 with value: 0.010311022400856018.\n"
     ]
    },
    {
     "name": "stdout",
     "output_type": "stream",
     "text": [
      "Final loss: 0.013229046016931534\n",
      "Total Time: Rasterization: 1.089s, Backward: 3.099s\n",
      "Trial 137 finished with value: 0.013229046016931534 and parameters: {'scale_regularization': None, 'opacity_regularization': None, 'extent': 1.0, 'init_scale': 3.0, 'init_opacity': 0.5, 'image_index': 2}. Best is trial 134 with value: 0.010311022400856018.\n",
      "Trial 137 finished with value: 0.013229046016931534 and parameters: {'scale_regularization': None, 'opacity_regularization': None, 'extent': 1.0, 'init_scale': 3.0, 'init_opacity': 0.5, 'image_index': 2}. Best is trial 134 with value: 0.010311022400856018.\n",
      "Model initialized. Number of Gaussians: 1024\n"
     ]
    },
    {
     "name": "stderr",
     "output_type": "stream",
     "text": [
      "Loss: 0.012 (L1: 0.014, MSE: 0.001, SSIM: 0.022): 100%|\u001b[36m██████\u001b[0m| 1000/1000 [00:08<00:00, 123.75step/s]\u001b[0m\n",
      "[I 2025-01-08 23:35:20,206] Trial 138 finished with value: 0.012591549195349216 and parameters: {'scale_regularization': None, 'opacity_regularization': None, 'extent': 1.0, 'init_scale': 3.0, 'init_opacity': 0.5, 'image_index': 2}. Best is trial 134 with value: 0.010311022400856018.\n"
     ]
    },
    {
     "name": "stdout",
     "output_type": "stream",
     "text": [
      "Final loss: 0.012591549195349216\n",
      "Total Time: Rasterization: 1.141s, Backward: 3.225s\n",
      "Trial 138 finished with value: 0.012591549195349216 and parameters: {'scale_regularization': None, 'opacity_regularization': None, 'extent': 1.0, 'init_scale': 3.0, 'init_opacity': 0.5, 'image_index': 2}. Best is trial 134 with value: 0.010311022400856018.\n",
      "Trial 138 finished with value: 0.012591549195349216 and parameters: {'scale_regularization': None, 'opacity_regularization': None, 'extent': 1.0, 'init_scale': 3.0, 'init_opacity': 0.5, 'image_index': 2}. Best is trial 134 with value: 0.010311022400856018.\n",
      "Model initialized. Number of Gaussians: 1024\n"
     ]
    },
    {
     "name": "stderr",
     "output_type": "stream",
     "text": [
      "Loss: 0.011 (L1: 0.013, MSE: 0.000, SSIM: 0.018): 100%|\u001b[36m██████\u001b[0m| 1000/1000 [00:08<00:00, 124.88step/s]\u001b[0m\n",
      "[I 2025-01-08 23:35:28,832] Trial 139 finished with value: 0.010095495730638504 and parameters: {'scale_regularization': None, 'opacity_regularization': None, 'extent': 1.0, 'init_scale': 3.0, 'init_opacity': 0.5, 'image_index': 2}. Best is trial 139 with value: 0.010095495730638504.\n"
     ]
    },
    {
     "name": "stdout",
     "output_type": "stream",
     "text": [
      "Final loss: 0.010095495730638504\n",
      "Total Time: Rasterization: 1.131s, Backward: 3.173s\n",
      "Trial 139 finished with value: 0.010095495730638504 and parameters: {'scale_regularization': None, 'opacity_regularization': None, 'extent': 1.0, 'init_scale': 3.0, 'init_opacity': 0.5, 'image_index': 2}. Best is trial 139 with value: 0.010095495730638504.\n",
      "Trial 139 finished with value: 0.010095495730638504 and parameters: {'scale_regularization': None, 'opacity_regularization': None, 'extent': 1.0, 'init_scale': 3.0, 'init_opacity': 0.5, 'image_index': 2}. Best is trial 139 with value: 0.010095495730638504.\n",
      "Model initialized. Number of Gaussians: 1024\n"
     ]
    },
    {
     "name": "stderr",
     "output_type": "stream",
     "text": [
      "Loss: 0.011 (L1: 0.013, MSE: 0.001, SSIM: 0.019): 100%|\u001b[36m██████\u001b[0m| 1000/1000 [00:07<00:00, 125.29step/s]\u001b[0m\n",
      "[I 2025-01-08 23:35:37,406] Trial 140 finished with value: 0.010935718193650246 and parameters: {'scale_regularization': None, 'opacity_regularization': None, 'extent': 1.0, 'init_scale': 3.0, 'init_opacity': 0.5, 'image_index': 2}. Best is trial 139 with value: 0.010095495730638504.\n"
     ]
    },
    {
     "name": "stdout",
     "output_type": "stream",
     "text": [
      "Final loss: 0.010935718193650246\n",
      "Total Time: Rasterization: 1.125s, Backward: 3.179s\n",
      "Trial 140 finished with value: 0.010935718193650246 and parameters: {'scale_regularization': None, 'opacity_regularization': None, 'extent': 1.0, 'init_scale': 3.0, 'init_opacity': 0.5, 'image_index': 2}. Best is trial 139 with value: 0.010095495730638504.\n",
      "Trial 140 finished with value: 0.010935718193650246 and parameters: {'scale_regularization': None, 'opacity_regularization': None, 'extent': 1.0, 'init_scale': 3.0, 'init_opacity': 0.5, 'image_index': 2}. Best is trial 139 with value: 0.010095495730638504.\n",
      "Model initialized. Number of Gaussians: 1024\n"
     ]
    },
    {
     "name": "stderr",
     "output_type": "stream",
     "text": [
      "Loss: 0.039 (L1: 0.011, MSE: 0.000, SSIM: 0.018): 100%|\u001b[36m██████\u001b[0m| 1000/1000 [00:05<00:00, 168.64step/s]\u001b[0m\n",
      "[I 2025-01-08 23:35:43,941] Trial 141 finished with value: 0.0095635075122118 and parameters: {'scale_regularization': 0.1, 'opacity_regularization': None, 'extent': 1.0, 'init_scale': 3.0, 'init_opacity': 0.5, 'image_index': 2}. Best is trial 141 with value: 0.0095635075122118.\n"
     ]
    },
    {
     "name": "stdout",
     "output_type": "stream",
     "text": [
      "Final loss: 0.03836715966463089\n",
      "Total Time: Rasterization: 0.842s, Backward: 2.438s\n",
      "Trial 141 finished with value: 0.0095635075122118 and parameters: {'scale_regularization': 0.1, 'opacity_regularization': None, 'extent': 1.0, 'init_scale': 3.0, 'init_opacity': 0.5, 'image_index': 2}. Best is trial 141 with value: 0.0095635075122118.\n",
      "Trial 141 finished with value: 0.0095635075122118 and parameters: {'scale_regularization': 0.1, 'opacity_regularization': None, 'extent': 1.0, 'init_scale': 3.0, 'init_opacity': 0.5, 'image_index': 2}. Best is trial 141 with value: 0.0095635075122118.\n",
      "Model initialized. Number of Gaussians: 1024\n"
     ]
    },
    {
     "name": "stderr",
     "output_type": "stream",
     "text": [
      "Loss: 0.036 (L1: 0.011, MSE: 0.000, SSIM: 0.019): 100%|\u001b[36m██████\u001b[0m| 1000/1000 [00:07<00:00, 136.97step/s]\u001b[0m\n",
      "[I 2025-01-08 23:35:51,827] Trial 142 finished with value: 0.010010555386543274 and parameters: {'scale_regularization': 0.1, 'opacity_regularization': None, 'extent': 4.0, 'init_scale': 2.0, 'init_opacity': 0.5, 'image_index': 2}. Best is trial 141 with value: 0.0095635075122118.\n"
     ]
    },
    {
     "name": "stdout",
     "output_type": "stream",
     "text": [
      "Final loss: 0.036006711423397064\n",
      "Total Time: Rasterization: 0.999s, Backward: 3.000s\n",
      "Trial 142 finished with value: 0.010010555386543274 and parameters: {'scale_regularization': 0.1, 'opacity_regularization': None, 'extent': 4.0, 'init_scale': 2.0, 'init_opacity': 0.5, 'image_index': 2}. Best is trial 141 with value: 0.0095635075122118.\n",
      "Trial 142 finished with value: 0.010010555386543274 and parameters: {'scale_regularization': 0.1, 'opacity_regularization': None, 'extent': 4.0, 'init_scale': 2.0, 'init_opacity': 0.5, 'image_index': 2}. Best is trial 141 with value: 0.0095635075122118.\n",
      "Model initialized. Number of Gaussians: 1024\n"
     ]
    },
    {
     "name": "stderr",
     "output_type": "stream",
     "text": [
      "Loss: 0.036 (L1: 0.011, MSE: 0.001, SSIM: 0.020): 100%|\u001b[36m██████\u001b[0m| 1000/1000 [00:08<00:00, 120.43step/s]\u001b[0m\n",
      "[I 2025-01-08 23:36:00,742] Trial 143 finished with value: 0.01069642510265112 and parameters: {'scale_regularization': 0.1, 'opacity_regularization': None, 'extent': 4.0, 'init_scale': 2.0, 'init_opacity': 0.5, 'image_index': 2}. Best is trial 141 with value: 0.0095635075122118.\n"
     ]
    },
    {
     "name": "stdout",
     "output_type": "stream",
     "text": [
      "Final loss: 0.035937048494815826\n",
      "Total Time: Rasterization: 1.125s, Backward: 3.389s\n",
      "Trial 143 finished with value: 0.01069642510265112 and parameters: {'scale_regularization': 0.1, 'opacity_regularization': None, 'extent': 4.0, 'init_scale': 2.0, 'init_opacity': 0.5, 'image_index': 2}. Best is trial 141 with value: 0.0095635075122118.\n",
      "Trial 143 finished with value: 0.01069642510265112 and parameters: {'scale_regularization': 0.1, 'opacity_regularization': None, 'extent': 4.0, 'init_scale': 2.0, 'init_opacity': 0.5, 'image_index': 2}. Best is trial 141 with value: 0.0095635075122118.\n",
      "Model initialized. Number of Gaussians: 1024\n"
     ]
    },
    {
     "name": "stderr",
     "output_type": "stream",
     "text": [
      "Loss: 0.082 (L1: 0.030, MSE: 0.002, SSIM: 0.129): 100%|\u001b[36m██████\u001b[0m| 1000/1000 [00:08<00:00, 120.87step/s]\u001b[0m\n",
      "[I 2025-01-08 23:36:09,616] Trial 144 finished with value: 0.05259126052260399 and parameters: {'scale_regularization': 0.1, 'opacity_regularization': None, 'extent': 4.0, 'init_scale': 2.0, 'init_opacity': 0.6, 'image_index': 0}. Best is trial 141 with value: 0.0095635075122118.\n"
     ]
    },
    {
     "name": "stdout",
     "output_type": "stream",
     "text": [
      "Final loss: 0.08064218610525131\n",
      "Total Time: Rasterization: 1.125s, Backward: 3.388s\n",
      "Trial 144 finished with value: 0.05259126052260399 and parameters: {'scale_regularization': 0.1, 'opacity_regularization': None, 'extent': 4.0, 'init_scale': 2.0, 'init_opacity': 0.6, 'image_index': 0}. Best is trial 141 with value: 0.0095635075122118.\n",
      "Trial 144 finished with value: 0.05259126052260399 and parameters: {'scale_regularization': 0.1, 'opacity_regularization': None, 'extent': 4.0, 'init_scale': 2.0, 'init_opacity': 0.6, 'image_index': 0}. Best is trial 141 with value: 0.0095635075122118.\n",
      "Model initialized. Number of Gaussians: 1024\n"
     ]
    },
    {
     "name": "stderr",
     "output_type": "stream",
     "text": [
      "Loss: 0.037 (L1: 0.011, MSE: 0.001, SSIM: 0.021): 100%|\u001b[36m██████\u001b[0m| 1000/1000 [00:08<00:00, 118.57step/s]\u001b[0m\n",
      "[I 2025-01-08 23:36:18,660] Trial 145 finished with value: 0.01068883202970028 and parameters: {'scale_regularization': 0.1, 'opacity_regularization': None, 'extent': 4.0, 'init_scale': 2.0, 'init_opacity': 0.5, 'image_index': 2}. Best is trial 141 with value: 0.0095635075122118.\n"
     ]
    },
    {
     "name": "stdout",
     "output_type": "stream",
     "text": [
      "Final loss: 0.03634464368224144\n",
      "Total Time: Rasterization: 1.137s, Backward: 3.428s\n",
      "Trial 145 finished with value: 0.01068883202970028 and parameters: {'scale_regularization': 0.1, 'opacity_regularization': None, 'extent': 4.0, 'init_scale': 2.0, 'init_opacity': 0.5, 'image_index': 2}. Best is trial 141 with value: 0.0095635075122118.\n",
      "Trial 145 finished with value: 0.01068883202970028 and parameters: {'scale_regularization': 0.1, 'opacity_regularization': None, 'extent': 4.0, 'init_scale': 2.0, 'init_opacity': 0.5, 'image_index': 2}. Best is trial 141 with value: 0.0095635075122118.\n",
      "Model initialized. Number of Gaussians: 1024\n"
     ]
    },
    {
     "name": "stderr",
     "output_type": "stream",
     "text": [
      "Loss: 0.037 (L1: 0.011, MSE: 0.001, SSIM: 0.021): 100%|\u001b[36m██████\u001b[0m| 1000/1000 [00:08<00:00, 119.08step/s]\u001b[0m\n",
      "[I 2025-01-08 23:36:27,674] Trial 146 finished with value: 0.01069490984082222 and parameters: {'scale_regularization': 0.1, 'opacity_regularization': None, 'extent': 4.0, 'init_scale': 2.0, 'init_opacity': 0.5, 'image_index': 2}. Best is trial 141 with value: 0.0095635075122118.\n"
     ]
    },
    {
     "name": "stdout",
     "output_type": "stream",
     "text": [
      "Final loss: 0.03628373146057129\n",
      "Total Time: Rasterization: 1.139s, Backward: 3.418s\n",
      "Trial 146 finished with value: 0.01069490984082222 and parameters: {'scale_regularization': 0.1, 'opacity_regularization': None, 'extent': 4.0, 'init_scale': 2.0, 'init_opacity': 0.5, 'image_index': 2}. Best is trial 141 with value: 0.0095635075122118.\n",
      "Trial 146 finished with value: 0.01069490984082222 and parameters: {'scale_regularization': 0.1, 'opacity_regularization': None, 'extent': 4.0, 'init_scale': 2.0, 'init_opacity': 0.5, 'image_index': 2}. Best is trial 141 with value: 0.0095635075122118.\n",
      "Model initialized. Number of Gaussians: 1024\n"
     ]
    },
    {
     "name": "stderr",
     "output_type": "stream",
     "text": [
      "Loss: 0.036 (L1: 0.012, MSE: 0.000, SSIM: 0.020): 100%|\u001b[36m██████\u001b[0m| 1000/1000 [00:08<00:00, 117.38step/s]\u001b[0m\n",
      "[I 2025-01-08 23:36:36,790] Trial 147 finished with value: 0.010357757098972797 and parameters: {'scale_regularization': 0.1, 'opacity_regularization': None, 'extent': 4.0, 'init_scale': 2.0, 'init_opacity': 0.5, 'image_index': 2}. Best is trial 141 with value: 0.0095635075122118.\n"
     ]
    },
    {
     "name": "stdout",
     "output_type": "stream",
     "text": [
      "Final loss: 0.03527579829096794\n",
      "Total Time: Rasterization: 1.135s, Backward: 3.424s\n",
      "Trial 147 finished with value: 0.010357757098972797 and parameters: {'scale_regularization': 0.1, 'opacity_regularization': None, 'extent': 4.0, 'init_scale': 2.0, 'init_opacity': 0.5, 'image_index': 2}. Best is trial 141 with value: 0.0095635075122118.\n",
      "Trial 147 finished with value: 0.010357757098972797 and parameters: {'scale_regularization': 0.1, 'opacity_regularization': None, 'extent': 4.0, 'init_scale': 2.0, 'init_opacity': 0.5, 'image_index': 2}. Best is trial 141 with value: 0.0095635075122118.\n",
      "Model initialized. Number of Gaussians: 1024\n"
     ]
    },
    {
     "name": "stderr",
     "output_type": "stream",
     "text": [
      "Loss: 0.036 (L1: 0.011, MSE: 0.000, SSIM: 0.019): 100%|\u001b[36m██████\u001b[0m| 1000/1000 [00:08<00:00, 117.69step/s]\u001b[0m\n",
      "[I 2025-01-08 23:36:45,884] Trial 148 finished with value: 0.010406697168946266 and parameters: {'scale_regularization': 0.1, 'opacity_regularization': None, 'extent': 4.0, 'init_scale': 2.0, 'init_opacity': 0.5, 'image_index': 2}. Best is trial 141 with value: 0.0095635075122118.\n"
     ]
    },
    {
     "name": "stdout",
     "output_type": "stream",
     "text": [
      "Final loss: 0.035992760211229324\n",
      "Total Time: Rasterization: 1.157s, Backward: 3.482s\n",
      "Trial 148 finished with value: 0.010406697168946266 and parameters: {'scale_regularization': 0.1, 'opacity_regularization': None, 'extent': 4.0, 'init_scale': 2.0, 'init_opacity': 0.5, 'image_index': 2}. Best is trial 141 with value: 0.0095635075122118.\n",
      "Trial 148 finished with value: 0.010406697168946266 and parameters: {'scale_regularization': 0.1, 'opacity_regularization': None, 'extent': 4.0, 'init_scale': 2.0, 'init_opacity': 0.5, 'image_index': 2}. Best is trial 141 with value: 0.0095635075122118.\n",
      "Model initialized. Number of Gaussians: 1024\n"
     ]
    },
    {
     "name": "stderr",
     "output_type": "stream",
     "text": [
      "Loss: 0.038 (L1: 0.011, MSE: 0.001, SSIM: 0.021): 100%|\u001b[36m██████\u001b[0m| 1000/1000 [00:08<00:00, 119.26step/s]\u001b[0m\n",
      "[I 2025-01-08 23:36:54,866] Trial 149 finished with value: 0.010590935125946999 and parameters: {'scale_regularization': 0.1, 'opacity_regularization': None, 'extent': 4.0, 'init_scale': 2.0, 'init_opacity': 0.5, 'image_index': 2}. Best is trial 141 with value: 0.0095635075122118.\n"
     ]
    },
    {
     "name": "stdout",
     "output_type": "stream",
     "text": [
      "Final loss: 0.03705805540084839\n",
      "Total Time: Rasterization: 1.143s, Backward: 3.431s\n",
      "Trial 149 finished with value: 0.010590935125946999 and parameters: {'scale_regularization': 0.1, 'opacity_regularization': None, 'extent': 4.0, 'init_scale': 2.0, 'init_opacity': 0.5, 'image_index': 2}. Best is trial 141 with value: 0.0095635075122118.\n",
      "Trial 149 finished with value: 0.010590935125946999 and parameters: {'scale_regularization': 0.1, 'opacity_regularization': None, 'extent': 4.0, 'init_scale': 2.0, 'init_opacity': 0.5, 'image_index': 2}. Best is trial 141 with value: 0.0095635075122118.\n",
      "Model initialized. Number of Gaussians: 1024\n"
     ]
    },
    {
     "name": "stderr",
     "output_type": "stream",
     "text": [
      "Loss: 0.067 (L1: 0.022, MSE: 0.001, SSIM: 0.052): 100%|\u001b[36m██████\u001b[0m| 1000/1000 [00:08<00:00, 116.62step/s]\u001b[0m\n",
      "[I 2025-01-08 23:37:04,038] Trial 150 finished with value: 0.02497974969446659 and parameters: {'scale_regularization': 0.1, 'opacity_regularization': 0.1, 'extent': 4.0, 'init_scale': 2.0, 'init_opacity': 0.5, 'image_index': 2}. Best is trial 141 with value: 0.0095635075122118.\n"
     ]
    },
    {
     "name": "stdout",
     "output_type": "stream",
     "text": [
      "Final loss: 0.0666014701128006\n",
      "Total Time: Rasterization: 1.139s, Backward: 3.495s\n",
      "Trial 150 finished with value: 0.02497974969446659 and parameters: {'scale_regularization': 0.1, 'opacity_regularization': 0.1, 'extent': 4.0, 'init_scale': 2.0, 'init_opacity': 0.5, 'image_index': 2}. Best is trial 141 with value: 0.0095635075122118.\n",
      "Trial 150 finished with value: 0.02497974969446659 and parameters: {'scale_regularization': 0.1, 'opacity_regularization': 0.1, 'extent': 4.0, 'init_scale': 2.0, 'init_opacity': 0.5, 'image_index': 2}. Best is trial 141 with value: 0.0095635075122118.\n",
      "Model initialized. Number of Gaussians: 1024\n"
     ]
    },
    {
     "name": "stderr",
     "output_type": "stream",
     "text": [
      "Loss: 0.034 (L1: 0.010, MSE: 0.000, SSIM: 0.016): 100%|\u001b[36m██████\u001b[0m| 1000/1000 [00:08<00:00, 116.81step/s]\u001b[0m\n",
      "[I 2025-01-08 23:37:13,219] Trial 151 finished with value: 0.008646728470921516 and parameters: {'scale_regularization': 0.1, 'opacity_regularization': None, 'extent': 4.0, 'init_scale': 2.0, 'init_opacity': 0.5, 'image_index': 2}. Best is trial 151 with value: 0.008646728470921516.\n"
     ]
    },
    {
     "name": "stdout",
     "output_type": "stream",
     "text": [
      "Final loss: 0.03388968110084534\n",
      "Total Time: Rasterization: 1.156s, Backward: 3.493s\n",
      "Trial 151 finished with value: 0.008646728470921516 and parameters: {'scale_regularization': 0.1, 'opacity_regularization': None, 'extent': 4.0, 'init_scale': 2.0, 'init_opacity': 0.5, 'image_index': 2}. Best is trial 151 with value: 0.008646728470921516.\n",
      "Trial 151 finished with value: 0.008646728470921516 and parameters: {'scale_regularization': 0.1, 'opacity_regularization': None, 'extent': 4.0, 'init_scale': 2.0, 'init_opacity': 0.5, 'image_index': 2}. Best is trial 151 with value: 0.008646728470921516.\n",
      "Model initialized. Number of Gaussians: 1024\n"
     ]
    },
    {
     "name": "stderr",
     "output_type": "stream",
     "text": [
      "Loss: 0.036 (L1: 0.011, MSE: 0.000, SSIM: 0.019): 100%|\u001b[36m██████\u001b[0m| 1000/1000 [00:08<00:00, 117.90step/s]\u001b[0m\n",
      "[I 2025-01-08 23:37:22,311] Trial 152 finished with value: 0.009933453053236008 and parameters: {'scale_regularization': 0.1, 'opacity_regularization': None, 'extent': 4.0, 'init_scale': 2.0, 'init_opacity': 0.5, 'image_index': 2}. Best is trial 151 with value: 0.008646728470921516.\n"
     ]
    },
    {
     "name": "stdout",
     "output_type": "stream",
     "text": [
      "Final loss: 0.035194866359233856\n",
      "Total Time: Rasterization: 1.143s, Backward: 3.436s\n",
      "Trial 152 finished with value: 0.009933453053236008 and parameters: {'scale_regularization': 0.1, 'opacity_regularization': None, 'extent': 4.0, 'init_scale': 2.0, 'init_opacity': 0.5, 'image_index': 2}. Best is trial 151 with value: 0.008646728470921516.\n",
      "Trial 152 finished with value: 0.009933453053236008 and parameters: {'scale_regularization': 0.1, 'opacity_regularization': None, 'extent': 4.0, 'init_scale': 2.0, 'init_opacity': 0.5, 'image_index': 2}. Best is trial 151 with value: 0.008646728470921516.\n",
      "Model initialized. Number of Gaussians: 1024\n"
     ]
    },
    {
     "name": "stderr",
     "output_type": "stream",
     "text": [
      "Loss: 0.035 (L1: 0.011, MSE: 0.000, SSIM: 0.018): 100%|\u001b[36m██████\u001b[0m| 1000/1000 [00:08<00:00, 117.44step/s]\u001b[0m\n",
      "[I 2025-01-08 23:37:31,438] Trial 153 finished with value: 0.00964828860014677 and parameters: {'scale_regularization': 0.1, 'opacity_regularization': None, 'extent': 4.0, 'init_scale': 2.0, 'init_opacity': 0.5, 'image_index': 2}. Best is trial 151 with value: 0.008646728470921516.\n"
     ]
    },
    {
     "name": "stdout",
     "output_type": "stream",
     "text": [
      "Final loss: 0.03473159298300743\n",
      "Total Time: Rasterization: 1.151s, Backward: 3.438s\n",
      "Trial 153 finished with value: 0.00964828860014677 and parameters: {'scale_regularization': 0.1, 'opacity_regularization': None, 'extent': 4.0, 'init_scale': 2.0, 'init_opacity': 0.5, 'image_index': 2}. Best is trial 151 with value: 0.008646728470921516.\n",
      "Trial 153 finished with value: 0.00964828860014677 and parameters: {'scale_regularization': 0.1, 'opacity_regularization': None, 'extent': 4.0, 'init_scale': 2.0, 'init_opacity': 0.5, 'image_index': 2}. Best is trial 151 with value: 0.008646728470921516.\n",
      "Model initialized. Number of Gaussians: 1024\n"
     ]
    },
    {
     "name": "stderr",
     "output_type": "stream",
     "text": [
      "Loss: 0.174 (L1: 0.070, MSE: 0.010, SSIM: 0.254): 100%|\u001b[36m██████\u001b[0m| 1000/1000 [00:08<00:00, 112.58step/s]\u001b[0m\n",
      "[I 2025-01-08 23:37:40,938] Trial 154 finished with value: 0.11110064387321472 and parameters: {'scale_regularization': 0.1, 'opacity_regularization': 0.5, 'extent': 4.0, 'init_scale': 2.0, 'init_opacity': 0.5, 'image_index': 1}. Best is trial 151 with value: 0.008646728470921516.\n"
     ]
    },
    {
     "name": "stdout",
     "output_type": "stream",
     "text": [
      "Final loss: 0.17393949627876282\n",
      "Total Time: Rasterization: 1.166s, Backward: 3.738s\n",
      "Trial 154 finished with value: 0.11110064387321472 and parameters: {'scale_regularization': 0.1, 'opacity_regularization': 0.5, 'extent': 4.0, 'init_scale': 2.0, 'init_opacity': 0.5, 'image_index': 1}. Best is trial 151 with value: 0.008646728470921516.\n",
      "Trial 154 finished with value: 0.11110064387321472 and parameters: {'scale_regularization': 0.1, 'opacity_regularization': 0.5, 'extent': 4.0, 'init_scale': 2.0, 'init_opacity': 0.5, 'image_index': 1}. Best is trial 151 with value: 0.008646728470921516.\n",
      "Model initialized. Number of Gaussians: 1024\n"
     ]
    },
    {
     "name": "stderr",
     "output_type": "stream",
     "text": [
      "Loss: 0.036 (L1: 0.011, MSE: 0.000, SSIM: 0.019): 100%|\u001b[36m██████\u001b[0m| 1000/1000 [00:08<00:00, 120.26step/s]\u001b[0m\n",
      "[I 2025-01-08 23:37:49,871] Trial 155 finished with value: 0.010263529606163502 and parameters: {'scale_regularization': 0.1, 'opacity_regularization': None, 'extent': 4.0, 'init_scale': 2.0, 'init_opacity': 0.5, 'image_index': 2}. Best is trial 151 with value: 0.008646728470921516.\n"
     ]
    },
    {
     "name": "stdout",
     "output_type": "stream",
     "text": [
      "Final loss: 0.03585369512438774\n",
      "Total Time: Rasterization: 1.127s, Backward: 3.390s\n",
      "Trial 155 finished with value: 0.010263529606163502 and parameters: {'scale_regularization': 0.1, 'opacity_regularization': None, 'extent': 4.0, 'init_scale': 2.0, 'init_opacity': 0.5, 'image_index': 2}. Best is trial 151 with value: 0.008646728470921516.\n",
      "Trial 155 finished with value: 0.010263529606163502 and parameters: {'scale_regularization': 0.1, 'opacity_regularization': None, 'extent': 4.0, 'init_scale': 2.0, 'init_opacity': 0.5, 'image_index': 2}. Best is trial 151 with value: 0.008646728470921516.\n",
      "Model initialized. Number of Gaussians: 1024\n"
     ]
    },
    {
     "name": "stderr",
     "output_type": "stream",
     "text": [
      "Loss: 0.036 (L1: 0.012, MSE: 0.001, SSIM: 0.020): 100%|\u001b[36m██████\u001b[0m| 1000/1000 [00:08<00:00, 119.81step/s]\u001b[0m\n",
      "[I 2025-01-08 23:37:58,816] Trial 156 finished with value: 0.01112954318523407 and parameters: {'scale_regularization': 0.1, 'opacity_regularization': None, 'extent': 4.0, 'init_scale': 2.0, 'init_opacity': 0.5, 'image_index': 2}. Best is trial 151 with value: 0.008646728470921516.\n"
     ]
    },
    {
     "name": "stdout",
     "output_type": "stream",
     "text": [
      "Final loss: 0.03674423694610596\n",
      "Total Time: Rasterization: 1.135s, Backward: 3.398s\n",
      "Trial 156 finished with value: 0.01112954318523407 and parameters: {'scale_regularization': 0.1, 'opacity_regularization': None, 'extent': 4.0, 'init_scale': 2.0, 'init_opacity': 0.5, 'image_index': 2}. Best is trial 151 with value: 0.008646728470921516.\n",
      "Trial 156 finished with value: 0.01112954318523407 and parameters: {'scale_regularization': 0.1, 'opacity_regularization': None, 'extent': 4.0, 'init_scale': 2.0, 'init_opacity': 0.5, 'image_index': 2}. Best is trial 151 with value: 0.008646728470921516.\n",
      "Model initialized. Number of Gaussians: 1024\n"
     ]
    },
    {
     "name": "stderr",
     "output_type": "stream",
     "text": [
      "Loss: 0.037 (L1: 0.012, MSE: 0.001, SSIM: 0.022): 100%|\u001b[36m██████\u001b[0m| 1000/1000 [00:08<00:00, 124.09step/s]\u001b[0m\n",
      "[I 2025-01-08 23:38:07,473] Trial 157 finished with value: 0.012001796625554562 and parameters: {'scale_regularization': 0.1, 'opacity_regularization': None, 'extent': 4.0, 'init_scale': 2.0, 'init_opacity': 0.5, 'image_index': 2}. Best is trial 151 with value: 0.008646728470921516.\n"
     ]
    },
    {
     "name": "stdout",
     "output_type": "stream",
     "text": [
      "Final loss: 0.03729906678199768\n",
      "Total Time: Rasterization: 1.091s, Backward: 3.259s\n",
      "Trial 157 finished with value: 0.012001796625554562 and parameters: {'scale_regularization': 0.1, 'opacity_regularization': None, 'extent': 4.0, 'init_scale': 2.0, 'init_opacity': 0.5, 'image_index': 2}. Best is trial 151 with value: 0.008646728470921516.\n",
      "Trial 157 finished with value: 0.012001796625554562 and parameters: {'scale_regularization': 0.1, 'opacity_regularization': None, 'extent': 4.0, 'init_scale': 2.0, 'init_opacity': 0.5, 'image_index': 2}. Best is trial 151 with value: 0.008646728470921516.\n",
      "Model initialized. Number of Gaussians: 1024\n"
     ]
    },
    {
     "name": "stderr",
     "output_type": "stream",
     "text": [
      "Loss: 0.036 (L1: 0.011, MSE: 0.000, SSIM: 0.019): 100%|\u001b[36m██████\u001b[0m| 1000/1000 [00:08<00:00, 114.89step/s]\u001b[0m\n",
      "[I 2025-01-08 23:38:16,800] Trial 158 finished with value: 0.01026022620499134 and parameters: {'scale_regularization': 0.1, 'opacity_regularization': None, 'extent': 4.0, 'init_scale': 2.0, 'init_opacity': 0.5, 'image_index': 2}. Best is trial 151 with value: 0.008646728470921516.\n"
     ]
    },
    {
     "name": "stdout",
     "output_type": "stream",
     "text": [
      "Final loss: 0.03570159524679184\n",
      "Total Time: Rasterization: 1.166s, Backward: 3.535s\n",
      "Trial 158 finished with value: 0.01026022620499134 and parameters: {'scale_regularization': 0.1, 'opacity_regularization': None, 'extent': 4.0, 'init_scale': 2.0, 'init_opacity': 0.5, 'image_index': 2}. Best is trial 151 with value: 0.008646728470921516.\n",
      "Trial 158 finished with value: 0.01026022620499134 and parameters: {'scale_regularization': 0.1, 'opacity_regularization': None, 'extent': 4.0, 'init_scale': 2.0, 'init_opacity': 0.5, 'image_index': 2}. Best is trial 151 with value: 0.008646728470921516.\n",
      "Model initialized. Number of Gaussians: 1024\n"
     ]
    },
    {
     "name": "stderr",
     "output_type": "stream",
     "text": [
      "Loss: 0.034 (L1: 0.010, MSE: 0.000, SSIM: 0.016): 100%|\u001b[36m██████\u001b[0m| 1000/1000 [00:08<00:00, 118.23step/s]\u001b[0m\n",
      "[I 2025-01-08 23:38:25,903] Trial 159 finished with value: 0.009325999766588211 and parameters: {'scale_regularization': 0.1, 'opacity_regularization': None, 'extent': 4.0, 'init_scale': 2.0, 'init_opacity': 0.5, 'image_index': 2}. Best is trial 151 with value: 0.008646728470921516.\n"
     ]
    },
    {
     "name": "stdout",
     "output_type": "stream",
     "text": [
      "Final loss: 0.03465721756219864\n",
      "Total Time: Rasterization: 1.137s, Backward: 3.436s\n",
      "Trial 159 finished with value: 0.009325999766588211 and parameters: {'scale_regularization': 0.1, 'opacity_regularization': None, 'extent': 4.0, 'init_scale': 2.0, 'init_opacity': 0.5, 'image_index': 2}. Best is trial 151 with value: 0.008646728470921516.\n",
      "Trial 159 finished with value: 0.009325999766588211 and parameters: {'scale_regularization': 0.1, 'opacity_regularization': None, 'extent': 4.0, 'init_scale': 2.0, 'init_opacity': 0.5, 'image_index': 2}. Best is trial 151 with value: 0.008646728470921516.\n",
      "Model initialized. Number of Gaussians: 1024\n"
     ]
    },
    {
     "name": "stderr",
     "output_type": "stream",
     "text": [
      "Loss: 0.037 (L1: 0.011, MSE: 0.000, SSIM: 0.021): 100%|\u001b[36m██████\u001b[0m| 1000/1000 [00:08<00:00, 118.28step/s]\u001b[0m\n",
      "[I 2025-01-08 23:38:34,985] Trial 160 finished with value: 0.010889995843172073 and parameters: {'scale_regularization': 0.1, 'opacity_regularization': None, 'extent': 4.0, 'init_scale': 2.0, 'init_opacity': 0.5, 'image_index': 2}. Best is trial 151 with value: 0.008646728470921516.\n"
     ]
    },
    {
     "name": "stdout",
     "output_type": "stream",
     "text": [
      "Final loss: 0.03662632405757904\n",
      "Total Time: Rasterization: 1.143s, Backward: 3.419s\n",
      "Trial 160 finished with value: 0.010889995843172073 and parameters: {'scale_regularization': 0.1, 'opacity_regularization': None, 'extent': 4.0, 'init_scale': 2.0, 'init_opacity': 0.5, 'image_index': 2}. Best is trial 151 with value: 0.008646728470921516.\n",
      "Trial 160 finished with value: 0.010889995843172073 and parameters: {'scale_regularization': 0.1, 'opacity_regularization': None, 'extent': 4.0, 'init_scale': 2.0, 'init_opacity': 0.5, 'image_index': 2}. Best is trial 151 with value: 0.008646728470921516.\n",
      "Model initialized. Number of Gaussians: 1024\n"
     ]
    },
    {
     "name": "stderr",
     "output_type": "stream",
     "text": [
      "Loss: 0.052 (L1: 0.014, MSE: 0.000, SSIM: 0.062): 100%|\u001b[36m██████\u001b[0m| 1000/1000 [00:08<00:00, 118.17step/s]\u001b[0m\n",
      "[I 2025-01-08 23:38:44,045] Trial 161 finished with value: 0.026869412511587143 and parameters: {'scale_regularization': 0.1, 'opacity_regularization': None, 'extent': 4.0, 'init_scale': 2.0, 'init_opacity': 0.5, 'image_index': 3}. Best is trial 151 with value: 0.008646728470921516.\n"
     ]
    },
    {
     "name": "stdout",
     "output_type": "stream",
     "text": [
      "Final loss: 0.05342630669474602\n",
      "Total Time: Rasterization: 1.148s, Backward: 3.429s\n",
      "Trial 161 finished with value: 0.026869412511587143 and parameters: {'scale_regularization': 0.1, 'opacity_regularization': None, 'extent': 4.0, 'init_scale': 2.0, 'init_opacity': 0.5, 'image_index': 3}. Best is trial 151 with value: 0.008646728470921516.\n",
      "Trial 161 finished with value: 0.026869412511587143 and parameters: {'scale_regularization': 0.1, 'opacity_regularization': None, 'extent': 4.0, 'init_scale': 2.0, 'init_opacity': 0.5, 'image_index': 3}. Best is trial 151 with value: 0.008646728470921516.\n",
      "Model initialized. Number of Gaussians: 1024\n"
     ]
    },
    {
     "name": "stderr",
     "output_type": "stream",
     "text": [
      "Loss: 0.034 (L1: 0.010, MSE: 0.000, SSIM: 0.017): 100%|\u001b[36m██████\u001b[0m| 1000/1000 [00:08<00:00, 117.99step/s]\u001b[0m\n",
      "[I 2025-01-08 23:38:53,133] Trial 162 finished with value: 0.00888007041066885 and parameters: {'scale_regularization': 0.1, 'opacity_regularization': None, 'extent': 4.0, 'init_scale': 2.0, 'init_opacity': 0.5, 'image_index': 2}. Best is trial 151 with value: 0.008646728470921516.\n"
     ]
    },
    {
     "name": "stdout",
     "output_type": "stream",
     "text": [
      "Final loss: 0.03356519713997841\n",
      "Total Time: Rasterization: 1.148s, Backward: 3.421s\n",
      "Trial 162 finished with value: 0.00888007041066885 and parameters: {'scale_regularization': 0.1, 'opacity_regularization': None, 'extent': 4.0, 'init_scale': 2.0, 'init_opacity': 0.5, 'image_index': 2}. Best is trial 151 with value: 0.008646728470921516.\n",
      "Trial 162 finished with value: 0.00888007041066885 and parameters: {'scale_regularization': 0.1, 'opacity_regularization': None, 'extent': 4.0, 'init_scale': 2.0, 'init_opacity': 0.5, 'image_index': 2}. Best is trial 151 with value: 0.008646728470921516.\n",
      "Model initialized. Number of Gaussians: 1024\n"
     ]
    },
    {
     "name": "stderr",
     "output_type": "stream",
     "text": [
      "Loss: 0.038 (L1: 0.012, MSE: 0.001, SSIM: 0.023): 100%|\u001b[36m██████\u001b[0m| 1000/1000 [00:08<00:00, 118.01step/s]\u001b[0m\n",
      "[I 2025-01-08 23:39:02,214] Trial 163 finished with value: 0.011290289461612701 and parameters: {'scale_regularization': 0.1, 'opacity_regularization': None, 'extent': 4.0, 'init_scale': 2.0, 'init_opacity': 0.5, 'image_index': 2}. Best is trial 151 with value: 0.008646728470921516.\n"
     ]
    },
    {
     "name": "stdout",
     "output_type": "stream",
     "text": [
      "Final loss: 0.036746419966220856\n",
      "Total Time: Rasterization: 1.149s, Backward: 3.439s\n",
      "Trial 163 finished with value: 0.011290289461612701 and parameters: {'scale_regularization': 0.1, 'opacity_regularization': None, 'extent': 4.0, 'init_scale': 2.0, 'init_opacity': 0.5, 'image_index': 2}. Best is trial 151 with value: 0.008646728470921516.\n",
      "Trial 163 finished with value: 0.011290289461612701 and parameters: {'scale_regularization': 0.1, 'opacity_regularization': None, 'extent': 4.0, 'init_scale': 2.0, 'init_opacity': 0.5, 'image_index': 2}. Best is trial 151 with value: 0.008646728470921516.\n",
      "Model initialized. Number of Gaussians: 1024\n"
     ]
    },
    {
     "name": "stderr",
     "output_type": "stream",
     "text": [
      "Loss: 0.038 (L1: 0.012, MSE: 0.001, SSIM: 0.022): 100%|\u001b[36m██████\u001b[0m| 1000/1000 [00:08<00:00, 120.82step/s]\u001b[0m\n",
      "[I 2025-01-08 23:39:11,161] Trial 164 finished with value: 0.01127361599355936 and parameters: {'scale_regularization': 0.1, 'opacity_regularization': None, 'extent': 4.0, 'init_scale': 2.0, 'init_opacity': 0.5, 'image_index': 2}. Best is trial 151 with value: 0.008646728470921516.\n"
     ]
    },
    {
     "name": "stdout",
     "output_type": "stream",
     "text": [
      "Final loss: 0.03730205446481705\n",
      "Total Time: Rasterization: 1.127s, Backward: 3.383s\n",
      "Trial 164 finished with value: 0.01127361599355936 and parameters: {'scale_regularization': 0.1, 'opacity_regularization': None, 'extent': 4.0, 'init_scale': 2.0, 'init_opacity': 0.5, 'image_index': 2}. Best is trial 151 with value: 0.008646728470921516.\n",
      "Trial 164 finished with value: 0.01127361599355936 and parameters: {'scale_regularization': 0.1, 'opacity_regularization': None, 'extent': 4.0, 'init_scale': 2.0, 'init_opacity': 0.5, 'image_index': 2}. Best is trial 151 with value: 0.008646728470921516.\n",
      "Model initialized. Number of Gaussians: 1024\n"
     ]
    },
    {
     "name": "stderr",
     "output_type": "stream",
     "text": [
      "Loss: 0.037 (L1: 0.011, MSE: 0.001, SSIM: 0.021): 100%|\u001b[36m██████\u001b[0m| 1000/1000 [00:08<00:00, 118.18step/s]\u001b[0m\n",
      "[I 2025-01-08 23:39:20,246] Trial 165 finished with value: 0.011028353124856949 and parameters: {'scale_regularization': 0.1, 'opacity_regularization': None, 'extent': 4.0, 'init_scale': 2.0, 'init_opacity': 0.5, 'image_index': 2}. Best is trial 151 with value: 0.008646728470921516.\n"
     ]
    },
    {
     "name": "stdout",
     "output_type": "stream",
     "text": [
      "Final loss: 0.036525461822748184\n",
      "Total Time: Rasterization: 1.139s, Backward: 3.444s\n",
      "Trial 165 finished with value: 0.011028353124856949 and parameters: {'scale_regularization': 0.1, 'opacity_regularization': None, 'extent': 4.0, 'init_scale': 2.0, 'init_opacity': 0.5, 'image_index': 2}. Best is trial 151 with value: 0.008646728470921516.\n",
      "Trial 165 finished with value: 0.011028353124856949 and parameters: {'scale_regularization': 0.1, 'opacity_regularization': None, 'extent': 4.0, 'init_scale': 2.0, 'init_opacity': 0.5, 'image_index': 2}. Best is trial 151 with value: 0.008646728470921516.\n",
      "Model initialized. Number of Gaussians: 1024\n"
     ]
    },
    {
     "name": "stderr",
     "output_type": "stream",
     "text": [
      "Loss: 0.038 (L1: 0.013, MSE: 0.001, SSIM: 0.023): 100%|\u001b[36m██████\u001b[0m| 1000/1000 [00:08<00:00, 117.51step/s]\u001b[0m\n",
      "[I 2025-01-08 23:39:29,343] Trial 166 finished with value: 0.012009498663246632 and parameters: {'scale_regularization': 0.1, 'opacity_regularization': None, 'extent': 4.0, 'init_scale': 2.0, 'init_opacity': 0.5, 'image_index': 2}. Best is trial 151 with value: 0.008646728470921516.\n"
     ]
    },
    {
     "name": "stdout",
     "output_type": "stream",
     "text": [
      "Final loss: 0.03796153888106346\n",
      "Total Time: Rasterization: 1.157s, Backward: 3.461s\n",
      "Trial 166 finished with value: 0.012009498663246632 and parameters: {'scale_regularization': 0.1, 'opacity_regularization': None, 'extent': 4.0, 'init_scale': 2.0, 'init_opacity': 0.5, 'image_index': 2}. Best is trial 151 with value: 0.008646728470921516.\n",
      "Trial 166 finished with value: 0.012009498663246632 and parameters: {'scale_regularization': 0.1, 'opacity_regularization': None, 'extent': 4.0, 'init_scale': 2.0, 'init_opacity': 0.5, 'image_index': 2}. Best is trial 151 with value: 0.008646728470921516.\n",
      "Model initialized. Number of Gaussians: 1024\n"
     ]
    },
    {
     "name": "stderr",
     "output_type": "stream",
     "text": [
      "Loss: 0.036 (L1: 0.011, MSE: 0.000, SSIM: 0.018): 100%|\u001b[36m██████\u001b[0m| 1000/1000 [00:08<00:00, 119.99step/s]\u001b[0m\n",
      "[I 2025-01-08 23:39:38,290] Trial 167 finished with value: 0.009827290661633015 and parameters: {'scale_regularization': 0.1, 'opacity_regularization': None, 'extent': 4.0, 'init_scale': 2.0, 'init_opacity': 0.5, 'image_index': 2}. Best is trial 151 with value: 0.008646728470921516.\n"
     ]
    },
    {
     "name": "stdout",
     "output_type": "stream",
     "text": [
      "Final loss: 0.035483166575431824\n",
      "Total Time: Rasterization: 1.128s, Backward: 3.394s\n",
      "Trial 167 finished with value: 0.009827290661633015 and parameters: {'scale_regularization': 0.1, 'opacity_regularization': None, 'extent': 4.0, 'init_scale': 2.0, 'init_opacity': 0.5, 'image_index': 2}. Best is trial 151 with value: 0.008646728470921516.\n",
      "Trial 167 finished with value: 0.009827290661633015 and parameters: {'scale_regularization': 0.1, 'opacity_regularization': None, 'extent': 4.0, 'init_scale': 2.0, 'init_opacity': 0.5, 'image_index': 2}. Best is trial 151 with value: 0.008646728470921516.\n",
      "Model initialized. Number of Gaussians: 1024\n"
     ]
    },
    {
     "name": "stderr",
     "output_type": "stream",
     "text": [
      "Loss: 0.036 (L1: 0.011, MSE: 0.000, SSIM: 0.020): 100%|\u001b[36m██████\u001b[0m| 1000/1000 [00:08<00:00, 117.03step/s]\u001b[0m\n",
      "[I 2025-01-08 23:39:47,425] Trial 168 finished with value: 0.010164018720388412 and parameters: {'scale_regularization': 0.1, 'opacity_regularization': None, 'extent': 4.0, 'init_scale': 2.0, 'init_opacity': 0.5, 'image_index': 2}. Best is trial 151 with value: 0.008646728470921516.\n"
     ]
    },
    {
     "name": "stdout",
     "output_type": "stream",
     "text": [
      "Final loss: 0.03529080003499985\n",
      "Total Time: Rasterization: 1.156s, Backward: 3.480s\n",
      "Trial 168 finished with value: 0.010164018720388412 and parameters: {'scale_regularization': 0.1, 'opacity_regularization': None, 'extent': 4.0, 'init_scale': 2.0, 'init_opacity': 0.5, 'image_index': 2}. Best is trial 151 with value: 0.008646728470921516.\n",
      "Trial 168 finished with value: 0.010164018720388412 and parameters: {'scale_regularization': 0.1, 'opacity_regularization': None, 'extent': 4.0, 'init_scale': 2.0, 'init_opacity': 0.5, 'image_index': 2}. Best is trial 151 with value: 0.008646728470921516.\n",
      "Model initialized. Number of Gaussians: 1024\n"
     ]
    },
    {
     "name": "stderr",
     "output_type": "stream",
     "text": [
      "Loss: 0.037 (L1: 0.012, MSE: 0.000, SSIM: 0.021): 100%|\u001b[36m██████\u001b[0m| 1000/1000 [00:08<00:00, 114.85step/s]\u001b[0m\n",
      "[I 2025-01-08 23:39:56,754] Trial 169 finished with value: 0.010911362245678902 and parameters: {'scale_regularization': 0.1, 'opacity_regularization': None, 'extent': 4.0, 'init_scale': 2.0, 'init_opacity': 0.5, 'image_index': 2}. Best is trial 151 with value: 0.008646728470921516.\n"
     ]
    },
    {
     "name": "stdout",
     "output_type": "stream",
     "text": [
      "Final loss: 0.03632967919111252\n",
      "Total Time: Rasterization: 1.174s, Backward: 3.550s\n",
      "Trial 169 finished with value: 0.010911362245678902 and parameters: {'scale_regularization': 0.1, 'opacity_regularization': None, 'extent': 4.0, 'init_scale': 2.0, 'init_opacity': 0.5, 'image_index': 2}. Best is trial 151 with value: 0.008646728470921516.\n",
      "Trial 169 finished with value: 0.010911362245678902 and parameters: {'scale_regularization': 0.1, 'opacity_regularization': None, 'extent': 4.0, 'init_scale': 2.0, 'init_opacity': 0.5, 'image_index': 2}. Best is trial 151 with value: 0.008646728470921516.\n",
      "Model initialized. Number of Gaussians: 1024\n"
     ]
    },
    {
     "name": "stderr",
     "output_type": "stream",
     "text": [
      "Loss: 0.037 (L1: 0.012, MSE: 0.001, SSIM: 0.023): 100%|\u001b[36m██████\u001b[0m| 1000/1000 [00:08<00:00, 121.77step/s]\u001b[0m\n",
      "[I 2025-01-08 23:40:05,574] Trial 170 finished with value: 0.011466847732663155 and parameters: {'scale_regularization': 0.1, 'opacity_regularization': None, 'extent': 4.0, 'init_scale': 2.0, 'init_opacity': 0.5, 'image_index': 2}. Best is trial 151 with value: 0.008646728470921516.\n"
     ]
    },
    {
     "name": "stdout",
     "output_type": "stream",
     "text": [
      "Final loss: 0.037082113325595856\n",
      "Total Time: Rasterization: 1.116s, Backward: 3.333s\n",
      "Trial 170 finished with value: 0.011466847732663155 and parameters: {'scale_regularization': 0.1, 'opacity_regularization': None, 'extent': 4.0, 'init_scale': 2.0, 'init_opacity': 0.5, 'image_index': 2}. Best is trial 151 with value: 0.008646728470921516.\n",
      "Trial 170 finished with value: 0.011466847732663155 and parameters: {'scale_regularization': 0.1, 'opacity_regularization': None, 'extent': 4.0, 'init_scale': 2.0, 'init_opacity': 0.5, 'image_index': 2}. Best is trial 151 with value: 0.008646728470921516.\n",
      "Model initialized. Number of Gaussians: 1024\n"
     ]
    },
    {
     "name": "stderr",
     "output_type": "stream",
     "text": [
      "Loss: 0.132 (L1: 0.037, MSE: 0.003, SSIM: 0.097): 100%|\u001b[36m██████\u001b[0m| 1000/1000 [00:08<00:00, 111.52step/s]\u001b[0m\n",
      "[I 2025-01-08 23:40:15,142] Trial 171 finished with value: 0.04499463737010956 and parameters: {'scale_regularization': 0.1, 'opacity_regularization': 1.0, 'extent': 4.0, 'init_scale': 2.0, 'init_opacity': 0.5, 'image_index': 2}. Best is trial 151 with value: 0.008646728470921516.\n"
     ]
    },
    {
     "name": "stdout",
     "output_type": "stream",
     "text": [
      "Final loss: 0.13105496764183044\n",
      "Total Time: Rasterization: 1.164s, Backward: 3.674s\n",
      "Trial 171 finished with value: 0.04499463737010956 and parameters: {'scale_regularization': 0.1, 'opacity_regularization': 1.0, 'extent': 4.0, 'init_scale': 2.0, 'init_opacity': 0.5, 'image_index': 2}. Best is trial 151 with value: 0.008646728470921516.\n",
      "Trial 171 finished with value: 0.04499463737010956 and parameters: {'scale_regularization': 0.1, 'opacity_regularization': 1.0, 'extent': 4.0, 'init_scale': 2.0, 'init_opacity': 0.5, 'image_index': 2}. Best is trial 151 with value: 0.008646728470921516.\n",
      "Model initialized. Number of Gaussians: 1024\n"
     ]
    },
    {
     "name": "stderr",
     "output_type": "stream",
     "text": [
      "Loss: 0.039 (L1: 0.013, MSE: 0.001, SSIM: 0.025): 100%|\u001b[36m██████\u001b[0m| 1000/1000 [00:08<00:00, 119.74step/s]\u001b[0m\n",
      "[I 2025-01-08 23:40:24,096] Trial 172 finished with value: 0.012663689441978931 and parameters: {'scale_regularization': 0.1, 'opacity_regularization': None, 'extent': 4.0, 'init_scale': 2.0, 'init_opacity': 0.5, 'image_index': 2}. Best is trial 151 with value: 0.008646728470921516.\n"
     ]
    },
    {
     "name": "stdout",
     "output_type": "stream",
     "text": [
      "Final loss: 0.03806030750274658\n",
      "Total Time: Rasterization: 1.132s, Backward: 3.392s\n",
      "Trial 172 finished with value: 0.012663689441978931 and parameters: {'scale_regularization': 0.1, 'opacity_regularization': None, 'extent': 4.0, 'init_scale': 2.0, 'init_opacity': 0.5, 'image_index': 2}. Best is trial 151 with value: 0.008646728470921516.\n",
      "Trial 172 finished with value: 0.012663689441978931 and parameters: {'scale_regularization': 0.1, 'opacity_regularization': None, 'extent': 4.0, 'init_scale': 2.0, 'init_opacity': 0.5, 'image_index': 2}. Best is trial 151 with value: 0.008646728470921516.\n",
      "Model initialized. Number of Gaussians: 1024\n"
     ]
    },
    {
     "name": "stderr",
     "output_type": "stream",
     "text": [
      "Loss: 0.036 (L1: 0.010, MSE: 0.000, SSIM: 0.019): 100%|\u001b[36m██████\u001b[0m| 1000/1000 [00:08<00:00, 118.83step/s]\u001b[0m\n",
      "[I 2025-01-08 23:40:33,111] Trial 173 finished with value: 0.010187890380620956 and parameters: {'scale_regularization': 0.1, 'opacity_regularization': None, 'extent': 4.0, 'init_scale': 2.0, 'init_opacity': 0.5, 'image_index': 2}. Best is trial 151 with value: 0.008646728470921516.\n"
     ]
    },
    {
     "name": "stdout",
     "output_type": "stream",
     "text": [
      "Final loss: 0.03569280356168747\n",
      "Total Time: Rasterization: 1.147s, Backward: 3.411s\n",
      "Trial 173 finished with value: 0.010187890380620956 and parameters: {'scale_regularization': 0.1, 'opacity_regularization': None, 'extent': 4.0, 'init_scale': 2.0, 'init_opacity': 0.5, 'image_index': 2}. Best is trial 151 with value: 0.008646728470921516.\n",
      "Trial 173 finished with value: 0.010187890380620956 and parameters: {'scale_regularization': 0.1, 'opacity_regularization': None, 'extent': 4.0, 'init_scale': 2.0, 'init_opacity': 0.5, 'image_index': 2}. Best is trial 151 with value: 0.008646728470921516.\n",
      "Model initialized. Number of Gaussians: 1024\n"
     ]
    },
    {
     "name": "stderr",
     "output_type": "stream",
     "text": [
      "Loss: 0.038 (L1: 0.012, MSE: 0.001, SSIM: 0.023): 100%|\u001b[36m██████\u001b[0m| 1000/1000 [00:08<00:00, 121.23step/s]\u001b[0m\n",
      "[I 2025-01-08 23:40:41,967] Trial 174 finished with value: 0.011980712413787842 and parameters: {'scale_regularization': 0.1, 'opacity_regularization': None, 'extent': 4.0, 'init_scale': 2.0, 'init_opacity': 0.5, 'image_index': 2}. Best is trial 151 with value: 0.008646728470921516.\n"
     ]
    },
    {
     "name": "stdout",
     "output_type": "stream",
     "text": [
      "Final loss: 0.03833220899105072\n",
      "Total Time: Rasterization: 1.121s, Backward: 3.358s\n",
      "Trial 174 finished with value: 0.011980712413787842 and parameters: {'scale_regularization': 0.1, 'opacity_regularization': None, 'extent': 4.0, 'init_scale': 2.0, 'init_opacity': 0.5, 'image_index': 2}. Best is trial 151 with value: 0.008646728470921516.\n",
      "Trial 174 finished with value: 0.011980712413787842 and parameters: {'scale_regularization': 0.1, 'opacity_regularization': None, 'extent': 4.0, 'init_scale': 2.0, 'init_opacity': 0.5, 'image_index': 2}. Best is trial 151 with value: 0.008646728470921516.\n",
      "Model initialized. Number of Gaussians: 1024\n"
     ]
    },
    {
     "name": "stderr",
     "output_type": "stream",
     "text": [
      "Loss: 0.038 (L1: 0.012, MSE: 0.001, SSIM: 0.023): 100%|\u001b[36m██████\u001b[0m| 1000/1000 [00:08<00:00, 119.16step/s]\u001b[0m\n",
      "[I 2025-01-08 23:40:50,956] Trial 175 finished with value: 0.011530337855219841 and parameters: {'scale_regularization': 0.1, 'opacity_regularization': None, 'extent': 4.0, 'init_scale': 2.0, 'init_opacity': 0.6, 'image_index': 2}. Best is trial 151 with value: 0.008646728470921516.\n"
     ]
    },
    {
     "name": "stdout",
     "output_type": "stream",
     "text": [
      "Final loss: 0.03710164502263069\n",
      "Total Time: Rasterization: 1.141s, Backward: 3.417s\n",
      "Trial 175 finished with value: 0.011530337855219841 and parameters: {'scale_regularization': 0.1, 'opacity_regularization': None, 'extent': 4.0, 'init_scale': 2.0, 'init_opacity': 0.6, 'image_index': 2}. Best is trial 151 with value: 0.008646728470921516.\n",
      "Trial 175 finished with value: 0.011530337855219841 and parameters: {'scale_regularization': 0.1, 'opacity_regularization': None, 'extent': 4.0, 'init_scale': 2.0, 'init_opacity': 0.6, 'image_index': 2}. Best is trial 151 with value: 0.008646728470921516.\n",
      "Model initialized. Number of Gaussians: 1024\n"
     ]
    },
    {
     "name": "stderr",
     "output_type": "stream",
     "text": [
      "Loss: 0.037 (L1: 0.011, MSE: 0.000, SSIM: 0.022): 100%|\u001b[36m██████\u001b[0m| 1000/1000 [00:08<00:00, 119.42step/s]\u001b[0m\n",
      "[I 2025-01-08 23:40:59,928] Trial 176 finished with value: 0.011033443734049797 and parameters: {'scale_regularization': 0.1, 'opacity_regularization': None, 'extent': 4.0, 'init_scale': 2.0, 'init_opacity': 0.5, 'image_index': 2}. Best is trial 151 with value: 0.008646728470921516.\n"
     ]
    },
    {
     "name": "stdout",
     "output_type": "stream",
     "text": [
      "Final loss: 0.03667823225259781\n",
      "Total Time: Rasterization: 1.130s, Backward: 3.398s\n",
      "Trial 176 finished with value: 0.011033443734049797 and parameters: {'scale_regularization': 0.1, 'opacity_regularization': None, 'extent': 4.0, 'init_scale': 2.0, 'init_opacity': 0.5, 'image_index': 2}. Best is trial 151 with value: 0.008646728470921516.\n",
      "Trial 176 finished with value: 0.011033443734049797 and parameters: {'scale_regularization': 0.1, 'opacity_regularization': None, 'extent': 4.0, 'init_scale': 2.0, 'init_opacity': 0.5, 'image_index': 2}. Best is trial 151 with value: 0.008646728470921516.\n",
      "Model initialized. Number of Gaussians: 1024\n"
     ]
    },
    {
     "name": "stderr",
     "output_type": "stream",
     "text": [
      "Loss: 0.037 (L1: 0.012, MSE: 0.001, SSIM: 0.020): 100%|\u001b[36m██████\u001b[0m| 1000/1000 [00:08<00:00, 121.11step/s]\u001b[0m\n",
      "[I 2025-01-08 23:41:08,798] Trial 177 finished with value: 0.011016454547643661 and parameters: {'scale_regularization': 0.1, 'opacity_regularization': None, 'extent': 4.0, 'init_scale': 2.0, 'init_opacity': 0.5, 'image_index': 2}. Best is trial 151 with value: 0.008646728470921516.\n"
     ]
    },
    {
     "name": "stdout",
     "output_type": "stream",
     "text": [
      "Final loss: 0.03688235580921173\n",
      "Total Time: Rasterization: 1.117s, Backward: 3.359s\n",
      "Trial 177 finished with value: 0.011016454547643661 and parameters: {'scale_regularization': 0.1, 'opacity_regularization': None, 'extent': 4.0, 'init_scale': 2.0, 'init_opacity': 0.5, 'image_index': 2}. Best is trial 151 with value: 0.008646728470921516.\n",
      "Trial 177 finished with value: 0.011016454547643661 and parameters: {'scale_regularization': 0.1, 'opacity_regularization': None, 'extent': 4.0, 'init_scale': 2.0, 'init_opacity': 0.5, 'image_index': 2}. Best is trial 151 with value: 0.008646728470921516.\n",
      "Model initialized. Number of Gaussians: 1024\n"
     ]
    },
    {
     "name": "stderr",
     "output_type": "stream",
     "text": [
      "Loss: 0.037 (L1: 0.012, MSE: 0.001, SSIM: 0.022): 100%|\u001b[36m██████\u001b[0m| 1000/1000 [00:08<00:00, 119.52step/s]\u001b[0m\n",
      "[I 2025-01-08 23:41:17,780] Trial 178 finished with value: 0.011718545109033585 and parameters: {'scale_regularization': 0.1, 'opacity_regularization': None, 'extent': 4.0, 'init_scale': 2.0, 'init_opacity': 0.5, 'image_index': 2}. Best is trial 151 with value: 0.008646728470921516.\n"
     ]
    },
    {
     "name": "stdout",
     "output_type": "stream",
     "text": [
      "Final loss: 0.03701202571392059\n",
      "Total Time: Rasterization: 1.137s, Backward: 3.420s\n",
      "Trial 178 finished with value: 0.011718545109033585 and parameters: {'scale_regularization': 0.1, 'opacity_regularization': None, 'extent': 4.0, 'init_scale': 2.0, 'init_opacity': 0.5, 'image_index': 2}. Best is trial 151 with value: 0.008646728470921516.\n",
      "Trial 178 finished with value: 0.011718545109033585 and parameters: {'scale_regularization': 0.1, 'opacity_regularization': None, 'extent': 4.0, 'init_scale': 2.0, 'init_opacity': 0.5, 'image_index': 2}. Best is trial 151 with value: 0.008646728470921516.\n",
      "Model initialized. Number of Gaussians: 1024\n"
     ]
    },
    {
     "name": "stderr",
     "output_type": "stream",
     "text": [
      "Loss: 0.037 (L1: 0.012, MSE: 0.001, SSIM: 0.022): 100%|\u001b[36m██████\u001b[0m| 1000/1000 [00:08<00:00, 118.95step/s]\u001b[0m\n",
      "[I 2025-01-08 23:41:26,801] Trial 179 finished with value: 0.011471249163150787 and parameters: {'scale_regularization': 0.1, 'opacity_regularization': None, 'extent': 4.0, 'init_scale': 2.0, 'init_opacity': 0.5, 'image_index': 2}. Best is trial 151 with value: 0.008646728470921516.\n"
     ]
    },
    {
     "name": "stdout",
     "output_type": "stream",
     "text": [
      "Final loss: 0.03734317421913147\n",
      "Total Time: Rasterization: 1.133s, Backward: 3.394s\n",
      "Trial 179 finished with value: 0.011471249163150787 and parameters: {'scale_regularization': 0.1, 'opacity_regularization': None, 'extent': 4.0, 'init_scale': 2.0, 'init_opacity': 0.5, 'image_index': 2}. Best is trial 151 with value: 0.008646728470921516.\n",
      "Trial 179 finished with value: 0.011471249163150787 and parameters: {'scale_regularization': 0.1, 'opacity_regularization': None, 'extent': 4.0, 'init_scale': 2.0, 'init_opacity': 0.5, 'image_index': 2}. Best is trial 151 with value: 0.008646728470921516.\n",
      "Model initialized. Number of Gaussians: 1024\n"
     ]
    },
    {
     "name": "stderr",
     "output_type": "stream",
     "text": [
      "Loss: 0.038 (L1: 0.013, MSE: 0.001, SSIM: 0.023): 100%|\u001b[36m██████\u001b[0m| 1000/1000 [00:08<00:00, 119.75step/s]\u001b[0m\n",
      "[I 2025-01-08 23:41:35,768] Trial 180 finished with value: 0.011403193697333336 and parameters: {'scale_regularization': 0.1, 'opacity_regularization': None, 'extent': 4.0, 'init_scale': 2.0, 'init_opacity': 0.5, 'image_index': 2}. Best is trial 151 with value: 0.008646728470921516.\n"
     ]
    },
    {
     "name": "stdout",
     "output_type": "stream",
     "text": [
      "Final loss: 0.0372302271425724\n",
      "Total Time: Rasterization: 1.137s, Backward: 3.391s\n",
      "Trial 180 finished with value: 0.011403193697333336 and parameters: {'scale_regularization': 0.1, 'opacity_regularization': None, 'extent': 4.0, 'init_scale': 2.0, 'init_opacity': 0.5, 'image_index': 2}. Best is trial 151 with value: 0.008646728470921516.\n",
      "Trial 180 finished with value: 0.011403193697333336 and parameters: {'scale_regularization': 0.1, 'opacity_regularization': None, 'extent': 4.0, 'init_scale': 2.0, 'init_opacity': 0.5, 'image_index': 2}. Best is trial 151 with value: 0.008646728470921516.\n",
      "Model initialized. Number of Gaussians: 1024\n"
     ]
    },
    {
     "name": "stderr",
     "output_type": "stream",
     "text": [
      "Loss: 0.036 (L1: 0.011, MSE: 0.000, SSIM: 0.021): 100%|\u001b[36m██████\u001b[0m| 1000/1000 [00:07<00:00, 125.57step/s]\u001b[0m\n",
      "[I 2025-01-08 23:41:44,340] Trial 181 finished with value: 0.010574216954410076 and parameters: {'scale_regularization': 0.1, 'opacity_regularization': None, 'extent': 4.0, 'init_scale': 2.0, 'init_opacity': 0.5, 'image_index': 2}. Best is trial 151 with value: 0.008646728470921516.\n"
     ]
    },
    {
     "name": "stdout",
     "output_type": "stream",
     "text": [
      "Final loss: 0.036112941801548004\n",
      "Total Time: Rasterization: 1.096s, Backward: 3.260s\n",
      "Trial 181 finished with value: 0.010574216954410076 and parameters: {'scale_regularization': 0.1, 'opacity_regularization': None, 'extent': 4.0, 'init_scale': 2.0, 'init_opacity': 0.5, 'image_index': 2}. Best is trial 151 with value: 0.008646728470921516.\n",
      "Trial 181 finished with value: 0.010574216954410076 and parameters: {'scale_regularization': 0.1, 'opacity_regularization': None, 'extent': 4.0, 'init_scale': 2.0, 'init_opacity': 0.5, 'image_index': 2}. Best is trial 151 with value: 0.008646728470921516.\n",
      "Model initialized. Number of Gaussians: 1024\n"
     ]
    },
    {
     "name": "stderr",
     "output_type": "stream",
     "text": [
      "Loss: 0.071 (L1: 0.026, MSE: 0.002, SSIM: 0.107): 100%|\u001b[36m██████\u001b[0m| 1000/1000 [00:07<00:00, 126.46step/s]\u001b[0m\n",
      "[I 2025-01-08 23:41:52,826] Trial 182 finished with value: 0.04521046578884125 and parameters: {'scale_regularization': 0.1, 'opacity_regularization': None, 'extent': 4.0, 'init_scale': 2.0, 'init_opacity': 0.5, 'image_index': 0}. Best is trial 151 with value: 0.008646728470921516.\n"
     ]
    },
    {
     "name": "stdout",
     "output_type": "stream",
     "text": [
      "Final loss: 0.07125387340784073\n",
      "Total Time: Rasterization: 1.079s, Backward: 3.229s\n",
      "Trial 182 finished with value: 0.04521046578884125 and parameters: {'scale_regularization': 0.1, 'opacity_regularization': None, 'extent': 4.0, 'init_scale': 2.0, 'init_opacity': 0.5, 'image_index': 0}. Best is trial 151 with value: 0.008646728470921516.\n",
      "Trial 182 finished with value: 0.04521046578884125 and parameters: {'scale_regularization': 0.1, 'opacity_regularization': None, 'extent': 4.0, 'init_scale': 2.0, 'init_opacity': 0.5, 'image_index': 0}. Best is trial 151 with value: 0.008646728470921516.\n",
      "Model initialized. Number of Gaussians: 1024\n"
     ]
    },
    {
     "name": "stderr",
     "output_type": "stream",
     "text": [
      "Loss: 0.038 (L1: 0.012, MSE: 0.001, SSIM: 0.023): 100%|\u001b[36m██████\u001b[0m| 1000/1000 [00:08<00:00, 118.50step/s]\u001b[0m\n",
      "[I 2025-01-08 23:42:01,871] Trial 183 finished with value: 0.011673737317323685 and parameters: {'scale_regularization': 0.1, 'opacity_regularization': None, 'extent': 4.0, 'init_scale': 2.0, 'init_opacity': 0.5, 'image_index': 2}. Best is trial 151 with value: 0.008646728470921516.\n"
     ]
    },
    {
     "name": "stdout",
     "output_type": "stream",
     "text": [
      "Final loss: 0.037669915705919266\n",
      "Total Time: Rasterization: 1.144s, Backward: 3.405s\n",
      "Trial 183 finished with value: 0.011673737317323685 and parameters: {'scale_regularization': 0.1, 'opacity_regularization': None, 'extent': 4.0, 'init_scale': 2.0, 'init_opacity': 0.5, 'image_index': 2}. Best is trial 151 with value: 0.008646728470921516.\n",
      "Trial 183 finished with value: 0.011673737317323685 and parameters: {'scale_regularization': 0.1, 'opacity_regularization': None, 'extent': 4.0, 'init_scale': 2.0, 'init_opacity': 0.5, 'image_index': 2}. Best is trial 151 with value: 0.008646728470921516.\n",
      "Model initialized. Number of Gaussians: 1024\n"
     ]
    },
    {
     "name": "stderr",
     "output_type": "stream",
     "text": [
      "Loss: 0.067 (L1: 0.021, MSE: 0.001, SSIM: 0.052): 100%|\u001b[36m██████\u001b[0m| 1000/1000 [00:08<00:00, 117.53step/s]\u001b[0m\n",
      "[I 2025-01-08 23:42:10,973] Trial 184 finished with value: 0.02463393285870552 and parameters: {'scale_regularization': 0.1, 'opacity_regularization': 0.1, 'extent': 4.0, 'init_scale': 2.0, 'init_opacity': 0.5, 'image_index': 2}. Best is trial 151 with value: 0.008646728470921516.\n"
     ]
    },
    {
     "name": "stdout",
     "output_type": "stream",
     "text": [
      "Final loss: 0.06682858616113663\n",
      "Total Time: Rasterization: 1.130s, Backward: 3.468s\n",
      "Trial 184 finished with value: 0.02463393285870552 and parameters: {'scale_regularization': 0.1, 'opacity_regularization': 0.1, 'extent': 4.0, 'init_scale': 2.0, 'init_opacity': 0.5, 'image_index': 2}. Best is trial 151 with value: 0.008646728470921516.\n",
      "Trial 184 finished with value: 0.02463393285870552 and parameters: {'scale_regularization': 0.1, 'opacity_regularization': 0.1, 'extent': 4.0, 'init_scale': 2.0, 'init_opacity': 0.5, 'image_index': 2}. Best is trial 151 with value: 0.008646728470921516.\n",
      "Model initialized. Number of Gaussians: 1024\n"
     ]
    },
    {
     "name": "stderr",
     "output_type": "stream",
     "text": [
      "Loss: 0.036 (L1: 0.011, MSE: 0.000, SSIM: 0.020): 100%|\u001b[36m██████\u001b[0m| 1000/1000 [00:08<00:00, 122.25step/s]\u001b[0m\n",
      "[I 2025-01-08 23:42:19,772] Trial 185 finished with value: 0.010653032921254635 and parameters: {'scale_regularization': 0.1, 'opacity_regularization': None, 'extent': 4.0, 'init_scale': 2.0, 'init_opacity': 0.5, 'image_index': 2}. Best is trial 151 with value: 0.008646728470921516.\n"
     ]
    },
    {
     "name": "stdout",
     "output_type": "stream",
     "text": [
      "Final loss: 0.03616582974791527\n",
      "Total Time: Rasterization: 1.121s, Backward: 3.328s\n",
      "Trial 185 finished with value: 0.010653032921254635 and parameters: {'scale_regularization': 0.1, 'opacity_regularization': None, 'extent': 4.0, 'init_scale': 2.0, 'init_opacity': 0.5, 'image_index': 2}. Best is trial 151 with value: 0.008646728470921516.\n",
      "Trial 185 finished with value: 0.010653032921254635 and parameters: {'scale_regularization': 0.1, 'opacity_regularization': None, 'extent': 4.0, 'init_scale': 2.0, 'init_opacity': 0.5, 'image_index': 2}. Best is trial 151 with value: 0.008646728470921516.\n",
      "Model initialized. Number of Gaussians: 1024\n"
     ]
    },
    {
     "name": "stderr",
     "output_type": "stream",
     "text": [
      "Loss: 0.038 (L1: 0.013, MSE: 0.001, SSIM: 0.024): 100%|\u001b[36m██████\u001b[0m| 1000/1000 [00:08<00:00, 120.35step/s]\u001b[0m\n",
      "[I 2025-01-08 23:42:28,695] Trial 186 finished with value: 0.01232408918440342 and parameters: {'scale_regularization': 0.1, 'opacity_regularization': None, 'extent': 4.0, 'init_scale': 2.0, 'init_opacity': 0.5, 'image_index': 2}. Best is trial 151 with value: 0.008646728470921516.\n"
     ]
    },
    {
     "name": "stdout",
     "output_type": "stream",
     "text": [
      "Final loss: 0.03780944645404816\n",
      "Total Time: Rasterization: 1.131s, Backward: 3.411s\n",
      "Trial 186 finished with value: 0.01232408918440342 and parameters: {'scale_regularization': 0.1, 'opacity_regularization': None, 'extent': 4.0, 'init_scale': 2.0, 'init_opacity': 0.5, 'image_index': 2}. Best is trial 151 with value: 0.008646728470921516.\n",
      "Trial 186 finished with value: 0.01232408918440342 and parameters: {'scale_regularization': 0.1, 'opacity_regularization': None, 'extent': 4.0, 'init_scale': 2.0, 'init_opacity': 0.5, 'image_index': 2}. Best is trial 151 with value: 0.008646728470921516.\n",
      "Model initialized. Number of Gaussians: 1024\n"
     ]
    },
    {
     "name": "stderr",
     "output_type": "stream",
     "text": [
      "Loss: 0.037 (L1: 0.011, MSE: 0.000, SSIM: 0.020): 100%|\u001b[36m██████\u001b[0m| 1000/1000 [00:08<00:00, 119.17step/s]\u001b[0m\n",
      "[I 2025-01-08 23:42:37,685] Trial 187 finished with value: 0.010979512706398964 and parameters: {'scale_regularization': 0.1, 'opacity_regularization': None, 'extent': 4.0, 'init_scale': 2.0, 'init_opacity': 0.5, 'image_index': 2}. Best is trial 151 with value: 0.008646728470921516.\n"
     ]
    },
    {
     "name": "stdout",
     "output_type": "stream",
     "text": [
      "Final loss: 0.03671389818191528\n",
      "Total Time: Rasterization: 1.142s, Backward: 3.428s\n",
      "Trial 187 finished with value: 0.010979512706398964 and parameters: {'scale_regularization': 0.1, 'opacity_regularization': None, 'extent': 4.0, 'init_scale': 2.0, 'init_opacity': 0.5, 'image_index': 2}. Best is trial 151 with value: 0.008646728470921516.\n",
      "Trial 187 finished with value: 0.010979512706398964 and parameters: {'scale_regularization': 0.1, 'opacity_regularization': None, 'extent': 4.0, 'init_scale': 2.0, 'init_opacity': 0.5, 'image_index': 2}. Best is trial 151 with value: 0.008646728470921516.\n",
      "Model initialized. Number of Gaussians: 1024\n"
     ]
    },
    {
     "name": "stderr",
     "output_type": "stream",
     "text": [
      "Loss: 0.036 (L1: 0.011, MSE: 0.000, SSIM: 0.020): 100%|\u001b[36m██████\u001b[0m| 1000/1000 [00:08<00:00, 119.73step/s]\u001b[0m\n",
      "[I 2025-01-08 23:42:46,646] Trial 188 finished with value: 0.010317129082977772 and parameters: {'scale_regularization': 0.1, 'opacity_regularization': None, 'extent': 4.0, 'init_scale': 2.0, 'init_opacity': 0.5, 'image_index': 2}. Best is trial 151 with value: 0.008646728470921516.\n"
     ]
    },
    {
     "name": "stdout",
     "output_type": "stream",
     "text": [
      "Final loss: 0.03594491258263588\n",
      "Total Time: Rasterization: 1.139s, Backward: 3.389s\n",
      "Trial 188 finished with value: 0.010317129082977772 and parameters: {'scale_regularization': 0.1, 'opacity_regularization': None, 'extent': 4.0, 'init_scale': 2.0, 'init_opacity': 0.5, 'image_index': 2}. Best is trial 151 with value: 0.008646728470921516.\n",
      "Trial 188 finished with value: 0.010317129082977772 and parameters: {'scale_regularization': 0.1, 'opacity_regularization': None, 'extent': 4.0, 'init_scale': 2.0, 'init_opacity': 0.5, 'image_index': 2}. Best is trial 151 with value: 0.008646728470921516.\n",
      "Model initialized. Number of Gaussians: 1024\n"
     ]
    },
    {
     "name": "stderr",
     "output_type": "stream",
     "text": [
      "Loss: 0.034 (L1: 0.010, MSE: 0.000, SSIM: 0.017): 100%|\u001b[36m██████\u001b[0m| 1000/1000 [00:08<00:00, 120.02step/s]\u001b[0m\n",
      "[I 2025-01-08 23:42:55,589] Trial 189 finished with value: 0.00997032318264246 and parameters: {'scale_regularization': 0.1, 'opacity_regularization': None, 'extent': 4.0, 'init_scale': 2.0, 'init_opacity': 0.5, 'image_index': 2}. Best is trial 151 with value: 0.008646728470921516.\n"
     ]
    },
    {
     "name": "stdout",
     "output_type": "stream",
     "text": [
      "Final loss: 0.034968167543411255\n",
      "Total Time: Rasterization: 1.138s, Backward: 3.403s\n",
      "Trial 189 finished with value: 0.00997032318264246 and parameters: {'scale_regularization': 0.1, 'opacity_regularization': None, 'extent': 4.0, 'init_scale': 2.0, 'init_opacity': 0.5, 'image_index': 2}. Best is trial 151 with value: 0.008646728470921516.\n",
      "Trial 189 finished with value: 0.00997032318264246 and parameters: {'scale_regularization': 0.1, 'opacity_regularization': None, 'extent': 4.0, 'init_scale': 2.0, 'init_opacity': 0.5, 'image_index': 2}. Best is trial 151 with value: 0.008646728470921516.\n",
      "Model initialized. Number of Gaussians: 1024\n"
     ]
    },
    {
     "name": "stderr",
     "output_type": "stream",
     "text": [
      "Loss: 0.037 (L1: 0.012, MSE: 0.001, SSIM: 0.021): 100%|\u001b[36m██████\u001b[0m| 1000/1000 [00:08<00:00, 120.31step/s]\u001b[0m\n",
      "[I 2025-01-08 23:43:04,514] Trial 190 finished with value: 0.011046634055674076 and parameters: {'scale_regularization': 0.1, 'opacity_regularization': None, 'extent': 4.0, 'init_scale': 2.0, 'init_opacity': 0.5, 'image_index': 2}. Best is trial 151 with value: 0.008646728470921516.\n"
     ]
    },
    {
     "name": "stdout",
     "output_type": "stream",
     "text": [
      "Final loss: 0.036359623074531555\n",
      "Total Time: Rasterization: 1.134s, Backward: 3.383s\n",
      "Trial 190 finished with value: 0.011046634055674076 and parameters: {'scale_regularization': 0.1, 'opacity_regularization': None, 'extent': 4.0, 'init_scale': 2.0, 'init_opacity': 0.5, 'image_index': 2}. Best is trial 151 with value: 0.008646728470921516.\n",
      "Trial 190 finished with value: 0.011046634055674076 and parameters: {'scale_regularization': 0.1, 'opacity_regularization': None, 'extent': 4.0, 'init_scale': 2.0, 'init_opacity': 0.5, 'image_index': 2}. Best is trial 151 with value: 0.008646728470921516.\n",
      "Model initialized. Number of Gaussians: 1024\n"
     ]
    },
    {
     "name": "stderr",
     "output_type": "stream",
     "text": [
      "Loss: 0.037 (L1: 0.011, MSE: 0.001, SSIM: 0.021): 100%|\u001b[36m██████\u001b[0m| 1000/1000 [00:08<00:00, 119.08step/s]\u001b[0m\n",
      "[I 2025-01-08 23:43:13,535] Trial 191 finished with value: 0.010846015065908432 and parameters: {'scale_regularization': 0.1, 'opacity_regularization': None, 'extent': 4.0, 'init_scale': 2.0, 'init_opacity': 0.5, 'image_index': 2}. Best is trial 151 with value: 0.008646728470921516.\n"
     ]
    },
    {
     "name": "stdout",
     "output_type": "stream",
     "text": [
      "Final loss: 0.03672730177640915\n",
      "Total Time: Rasterization: 1.138s, Backward: 3.390s\n",
      "Trial 191 finished with value: 0.010846015065908432 and parameters: {'scale_regularization': 0.1, 'opacity_regularization': None, 'extent': 4.0, 'init_scale': 2.0, 'init_opacity': 0.5, 'image_index': 2}. Best is trial 151 with value: 0.008646728470921516.\n",
      "Trial 191 finished with value: 0.010846015065908432 and parameters: {'scale_regularization': 0.1, 'opacity_regularization': None, 'extent': 4.0, 'init_scale': 2.0, 'init_opacity': 0.5, 'image_index': 2}. Best is trial 151 with value: 0.008646728470921516.\n",
      "Model initialized. Number of Gaussians: 1024\n"
     ]
    },
    {
     "name": "stderr",
     "output_type": "stream",
     "text": [
      "Loss: 0.175 (L1: 0.070, MSE: 0.009, SSIM: 0.265): 100%|\u001b[36m██████\u001b[0m| 1000/1000 [00:08<00:00, 112.60step/s]\u001b[0m\n",
      "[I 2025-01-08 23:43:23,013] Trial 192 finished with value: 0.11465729773044586 and parameters: {'scale_regularization': 0.1, 'opacity_regularization': 0.5, 'extent': 4.0, 'init_scale': 2.0, 'init_opacity': 0.5, 'image_index': 1}. Best is trial 151 with value: 0.008646728470921516.\n"
     ]
    },
    {
     "name": "stdout",
     "output_type": "stream",
     "text": [
      "Final loss: 0.1748059093952179\n",
      "Total Time: Rasterization: 1.152s, Backward: 3.732s\n",
      "Trial 192 finished with value: 0.11465729773044586 and parameters: {'scale_regularization': 0.1, 'opacity_regularization': 0.5, 'extent': 4.0, 'init_scale': 2.0, 'init_opacity': 0.5, 'image_index': 1}. Best is trial 151 with value: 0.008646728470921516.\n",
      "Trial 192 finished with value: 0.11465729773044586 and parameters: {'scale_regularization': 0.1, 'opacity_regularization': 0.5, 'extent': 4.0, 'init_scale': 2.0, 'init_opacity': 0.5, 'image_index': 1}. Best is trial 151 with value: 0.008646728470921516.\n",
      "Model initialized. Number of Gaussians: 1024\n"
     ]
    },
    {
     "name": "stderr",
     "output_type": "stream",
     "text": [
      "Loss: 0.036 (L1: 0.010, MSE: 0.000, SSIM: 0.020): 100%|\u001b[36m██████\u001b[0m| 1000/1000 [00:08<00:00, 117.68step/s]\u001b[0m\n",
      "[I 2025-01-08 23:43:32,100] Trial 193 finished with value: 0.010213577188551426 and parameters: {'scale_regularization': 0.1, 'opacity_regularization': None, 'extent': 4.0, 'init_scale': 2.0, 'init_opacity': 0.5, 'image_index': 2}. Best is trial 151 with value: 0.008646728470921516.\n"
     ]
    },
    {
     "name": "stdout",
     "output_type": "stream",
     "text": [
      "Final loss: 0.035772379487752914\n",
      "Total Time: Rasterization: 1.151s, Backward: 3.471s\n",
      "Trial 193 finished with value: 0.010213577188551426 and parameters: {'scale_regularization': 0.1, 'opacity_regularization': None, 'extent': 4.0, 'init_scale': 2.0, 'init_opacity': 0.5, 'image_index': 2}. Best is trial 151 with value: 0.008646728470921516.\n",
      "Trial 193 finished with value: 0.010213577188551426 and parameters: {'scale_regularization': 0.1, 'opacity_regularization': None, 'extent': 4.0, 'init_scale': 2.0, 'init_opacity': 0.5, 'image_index': 2}. Best is trial 151 with value: 0.008646728470921516.\n",
      "Model initialized. Number of Gaussians: 1024\n"
     ]
    },
    {
     "name": "stderr",
     "output_type": "stream",
     "text": [
      "Loss: 0.037 (L1: 0.012, MSE: 0.000, SSIM: 0.021): 100%|\u001b[36m██████\u001b[0m| 1000/1000 [00:08<00:00, 119.32step/s]\u001b[0m\n",
      "[I 2025-01-08 23:43:41,096] Trial 194 finished with value: 0.01087988168001175 and parameters: {'scale_regularization': 0.1, 'opacity_regularization': None, 'extent': 4.0, 'init_scale': 2.0, 'init_opacity': 0.5, 'image_index': 2}. Best is trial 151 with value: 0.008646728470921516.\n"
     ]
    },
    {
     "name": "stdout",
     "output_type": "stream",
     "text": [
      "Final loss: 0.03658917546272278\n",
      "Total Time: Rasterization: 1.137s, Backward: 3.402s\n",
      "Trial 194 finished with value: 0.01087988168001175 and parameters: {'scale_regularization': 0.1, 'opacity_regularization': None, 'extent': 4.0, 'init_scale': 2.0, 'init_opacity': 0.5, 'image_index': 2}. Best is trial 151 with value: 0.008646728470921516.\n",
      "Trial 194 finished with value: 0.01087988168001175 and parameters: {'scale_regularization': 0.1, 'opacity_regularization': None, 'extent': 4.0, 'init_scale': 2.0, 'init_opacity': 0.5, 'image_index': 2}. Best is trial 151 with value: 0.008646728470921516.\n",
      "Model initialized. Number of Gaussians: 1024\n"
     ]
    },
    {
     "name": "stderr",
     "output_type": "stream",
     "text": [
      "Loss: 0.049 (L1: 0.013, MSE: 0.000, SSIM: 0.057): 100%|\u001b[36m██████\u001b[0m| 1000/1000 [00:08<00:00, 120.69step/s]\u001b[0m\n",
      "[I 2025-01-08 23:43:49,985] Trial 195 finished with value: 0.02373548597097397 and parameters: {'scale_regularization': 0.1, 'opacity_regularization': None, 'extent': 4.0, 'init_scale': 2.0, 'init_opacity': 0.5, 'image_index': 3}. Best is trial 151 with value: 0.008646728470921516.\n"
     ]
    },
    {
     "name": "stdout",
     "output_type": "stream",
     "text": [
      "Final loss: 0.04883022606372833\n",
      "Total Time: Rasterization: 1.130s, Backward: 3.362s\n",
      "Trial 195 finished with value: 0.02373548597097397 and parameters: {'scale_regularization': 0.1, 'opacity_regularization': None, 'extent': 4.0, 'init_scale': 2.0, 'init_opacity': 0.5, 'image_index': 3}. Best is trial 151 with value: 0.008646728470921516.\n",
      "Trial 195 finished with value: 0.02373548597097397 and parameters: {'scale_regularization': 0.1, 'opacity_regularization': None, 'extent': 4.0, 'init_scale': 2.0, 'init_opacity': 0.5, 'image_index': 3}. Best is trial 151 with value: 0.008646728470921516.\n",
      "Model initialized. Number of Gaussians: 1024\n"
     ]
    },
    {
     "name": "stderr",
     "output_type": "stream",
     "text": [
      "Loss: 0.036 (L1: 0.011, MSE: 0.001, SSIM: 0.021): 100%|\u001b[36m██████\u001b[0m| 1000/1000 [00:08<00:00, 119.87step/s]\u001b[0m\n",
      "[I 2025-01-08 23:43:58,935] Trial 196 finished with value: 0.010766333900392056 and parameters: {'scale_regularization': 0.1, 'opacity_regularization': None, 'extent': 4.0, 'init_scale': 2.0, 'init_opacity': 0.5, 'image_index': 2}. Best is trial 151 with value: 0.008646728470921516.\n"
     ]
    },
    {
     "name": "stdout",
     "output_type": "stream",
     "text": [
      "Final loss: 0.03603644296526909\n",
      "Total Time: Rasterization: 1.124s, Backward: 3.397s\n",
      "Trial 196 finished with value: 0.010766333900392056 and parameters: {'scale_regularization': 0.1, 'opacity_regularization': None, 'extent': 4.0, 'init_scale': 2.0, 'init_opacity': 0.5, 'image_index': 2}. Best is trial 151 with value: 0.008646728470921516.\n",
      "Trial 196 finished with value: 0.010766333900392056 and parameters: {'scale_regularization': 0.1, 'opacity_regularization': None, 'extent': 4.0, 'init_scale': 2.0, 'init_opacity': 0.5, 'image_index': 2}. Best is trial 151 with value: 0.008646728470921516.\n",
      "Model initialized. Number of Gaussians: 1024\n"
     ]
    },
    {
     "name": "stderr",
     "output_type": "stream",
     "text": [
      "Loss: 0.035 (L1: 0.010, MSE: 0.000, SSIM: 0.018): 100%|\u001b[36m██████\u001b[0m| 1000/1000 [00:08<00:00, 118.92step/s]\u001b[0m\n",
      "[I 2025-01-08 23:44:07,956] Trial 197 finished with value: 0.00995693076401949 and parameters: {'scale_regularization': 0.1, 'opacity_regularization': None, 'extent': 4.0, 'init_scale': 2.0, 'init_opacity': 0.5, 'image_index': 2}. Best is trial 151 with value: 0.008646728470921516.\n"
     ]
    },
    {
     "name": "stdout",
     "output_type": "stream",
     "text": [
      "Final loss: 0.03539933264255524\n",
      "Total Time: Rasterization: 1.136s, Backward: 3.411s\n",
      "Trial 197 finished with value: 0.00995693076401949 and parameters: {'scale_regularization': 0.1, 'opacity_regularization': None, 'extent': 4.0, 'init_scale': 2.0, 'init_opacity': 0.5, 'image_index': 2}. Best is trial 151 with value: 0.008646728470921516.\n",
      "Trial 197 finished with value: 0.00995693076401949 and parameters: {'scale_regularization': 0.1, 'opacity_regularization': None, 'extent': 4.0, 'init_scale': 2.0, 'init_opacity': 0.5, 'image_index': 2}. Best is trial 151 with value: 0.008646728470921516.\n",
      "Model initialized. Number of Gaussians: 1024\n"
     ]
    },
    {
     "name": "stderr",
     "output_type": "stream",
     "text": [
      "Loss: 0.035 (L1: 0.011, MSE: 0.000, SSIM: 0.018): 100%|\u001b[36m██████\u001b[0m| 1000/1000 [00:08<00:00, 121.38step/s]\u001b[0m\n",
      "[I 2025-01-08 23:44:16,789] Trial 198 finished with value: 0.00969440396875143 and parameters: {'scale_regularization': 0.1, 'opacity_regularization': None, 'extent': 4.0, 'init_scale': 2.0, 'init_opacity': 0.5, 'image_index': 2}. Best is trial 151 with value: 0.008646728470921516.\n"
     ]
    },
    {
     "name": "stdout",
     "output_type": "stream",
     "text": [
      "Final loss: 0.03516918048262596\n",
      "Total Time: Rasterization: 1.123s, Backward: 3.362s\n",
      "Trial 198 finished with value: 0.00969440396875143 and parameters: {'scale_regularization': 0.1, 'opacity_regularization': None, 'extent': 4.0, 'init_scale': 2.0, 'init_opacity': 0.5, 'image_index': 2}. Best is trial 151 with value: 0.008646728470921516.\n",
      "Trial 198 finished with value: 0.00969440396875143 and parameters: {'scale_regularization': 0.1, 'opacity_regularization': None, 'extent': 4.0, 'init_scale': 2.0, 'init_opacity': 0.5, 'image_index': 2}. Best is trial 151 with value: 0.008646728470921516.\n",
      "Model initialized. Number of Gaussians: 1024\n"
     ]
    },
    {
     "name": "stderr",
     "output_type": "stream",
     "text": [
      "Loss: 0.037 (L1: 0.011, MSE: 0.001, SSIM: 0.021): 100%|\u001b[36m██████\u001b[0m| 1000/1000 [00:08<00:00, 120.55step/s]\u001b[0m\n",
      "[I 2025-01-08 23:44:25,677] Trial 199 finished with value: 0.010934991762042046 and parameters: {'scale_regularization': 0.1, 'opacity_regularization': None, 'extent': 4.0, 'init_scale': 2.0, 'init_opacity': 0.5, 'image_index': 2}. Best is trial 151 with value: 0.008646728470921516.\n"
     ]
    },
    {
     "name": "stdout",
     "output_type": "stream",
     "text": [
      "Final loss: 0.03691297397017479\n",
      "Total Time: Rasterization: 1.127s, Backward: 3.370s\n",
      "Trial 199 finished with value: 0.010934991762042046 and parameters: {'scale_regularization': 0.1, 'opacity_regularization': None, 'extent': 4.0, 'init_scale': 2.0, 'init_opacity': 0.5, 'image_index': 2}. Best is trial 151 with value: 0.008646728470921516.\n",
      "Trial 199 finished with value: 0.010934991762042046 and parameters: {'scale_regularization': 0.1, 'opacity_regularization': None, 'extent': 4.0, 'init_scale': 2.0, 'init_opacity': 0.5, 'image_index': 2}. Best is trial 151 with value: 0.008646728470921516.\n",
      "Model initialized. Number of Gaussians: 1024\n"
     ]
    },
    {
     "name": "stderr",
     "output_type": "stream",
     "text": [
      "Loss: 0.037 (L1: 0.011, MSE: 0.001, SSIM: 0.022): 100%|\u001b[36m██████\u001b[0m| 1000/1000 [00:08<00:00, 118.73step/s]\u001b[0m\n",
      "[I 2025-01-08 23:44:34,699] Trial 200 finished with value: 0.010734525509178638 and parameters: {'scale_regularization': 0.1, 'opacity_regularization': None, 'extent': 4.0, 'init_scale': 2.0, 'init_opacity': 0.5, 'image_index': 2}. Best is trial 151 with value: 0.008646728470921516.\n"
     ]
    },
    {
     "name": "stdout",
     "output_type": "stream",
     "text": [
      "Final loss: 0.036310721188783646\n",
      "Total Time: Rasterization: 1.126s, Backward: 3.380s\n",
      "Trial 200 finished with value: 0.010734525509178638 and parameters: {'scale_regularization': 0.1, 'opacity_regularization': None, 'extent': 4.0, 'init_scale': 2.0, 'init_opacity': 0.5, 'image_index': 2}. Best is trial 151 with value: 0.008646728470921516.\n",
      "Trial 200 finished with value: 0.010734525509178638 and parameters: {'scale_regularization': 0.1, 'opacity_regularization': None, 'extent': 4.0, 'init_scale': 2.0, 'init_opacity': 0.5, 'image_index': 2}. Best is trial 151 with value: 0.008646728470921516.\n",
      "Model initialized. Number of Gaussians: 1024\n"
     ]
    },
    {
     "name": "stderr",
     "output_type": "stream",
     "text": [
      "Loss: 0.035 (L1: 0.010, MSE: 0.000, SSIM: 0.018): 100%|\u001b[36m██████\u001b[0m| 1000/1000 [00:08<00:00, 115.82step/s]\u001b[0m\n",
      "[I 2025-01-08 23:44:43,935] Trial 201 finished with value: 0.010516838170588017 and parameters: {'scale_regularization': 0.1, 'opacity_regularization': None, 'extent': 4.0, 'init_scale': 2.0, 'init_opacity': 0.5, 'image_index': 2}. Best is trial 151 with value: 0.008646728470921516.\n"
     ]
    },
    {
     "name": "stdout",
     "output_type": "stream",
     "text": [
      "Final loss: 0.035835206508636475\n",
      "Total Time: Rasterization: 1.169s, Backward: 3.508s\n",
      "Trial 201 finished with value: 0.010516838170588017 and parameters: {'scale_regularization': 0.1, 'opacity_regularization': None, 'extent': 4.0, 'init_scale': 2.0, 'init_opacity': 0.5, 'image_index': 2}. Best is trial 151 with value: 0.008646728470921516.\n",
      "Trial 201 finished with value: 0.010516838170588017 and parameters: {'scale_regularization': 0.1, 'opacity_regularization': None, 'extent': 4.0, 'init_scale': 2.0, 'init_opacity': 0.5, 'image_index': 2}. Best is trial 151 with value: 0.008646728470921516.\n",
      "Model initialized. Number of Gaussians: 1024\n"
     ]
    },
    {
     "name": "stderr",
     "output_type": "stream",
     "text": [
      "Loss: 0.036 (L1: 0.012, MSE: 0.001, SSIM: 0.020): 100%|\u001b[36m██████\u001b[0m| 1000/1000 [00:08<00:00, 121.03step/s]\u001b[0m\n",
      "[I 2025-01-08 23:44:52,797] Trial 202 finished with value: 0.010441516526043415 and parameters: {'scale_regularization': 0.1, 'opacity_regularization': None, 'extent': 4.0, 'init_scale': 2.0, 'init_opacity': 0.5, 'image_index': 2}. Best is trial 151 with value: 0.008646728470921516.\n"
     ]
    },
    {
     "name": "stdout",
     "output_type": "stream",
     "text": [
      "Final loss: 0.035380084067583084\n",
      "Total Time: Rasterization: 1.125s, Backward: 3.365s\n",
      "Trial 202 finished with value: 0.010441516526043415 and parameters: {'scale_regularization': 0.1, 'opacity_regularization': None, 'extent': 4.0, 'init_scale': 2.0, 'init_opacity': 0.5, 'image_index': 2}. Best is trial 151 with value: 0.008646728470921516.\n",
      "Trial 202 finished with value: 0.010441516526043415 and parameters: {'scale_regularization': 0.1, 'opacity_regularization': None, 'extent': 4.0, 'init_scale': 2.0, 'init_opacity': 0.5, 'image_index': 2}. Best is trial 151 with value: 0.008646728470921516.\n",
      "Model initialized. Number of Gaussians: 1024\n"
     ]
    },
    {
     "name": "stderr",
     "output_type": "stream",
     "text": [
      "Loss: 0.037 (L1: 0.012, MSE: 0.001, SSIM: 0.021): 100%|\u001b[36m██████\u001b[0m| 1000/1000 [00:08<00:00, 119.09step/s]\u001b[0m\n",
      "[I 2025-01-08 23:45:01,817] Trial 203 finished with value: 0.011511977761983871 and parameters: {'scale_regularization': 0.1, 'opacity_regularization': None, 'extent': 4.0, 'init_scale': 2.0, 'init_opacity': 0.5, 'image_index': 2}. Best is trial 151 with value: 0.008646728470921516.\n"
     ]
    },
    {
     "name": "stdout",
     "output_type": "stream",
     "text": [
      "Final loss: 0.037174444645643234\n",
      "Total Time: Rasterization: 1.142s, Backward: 3.404s\n",
      "Trial 203 finished with value: 0.011511977761983871 and parameters: {'scale_regularization': 0.1, 'opacity_regularization': None, 'extent': 4.0, 'init_scale': 2.0, 'init_opacity': 0.5, 'image_index': 2}. Best is trial 151 with value: 0.008646728470921516.\n",
      "Trial 203 finished with value: 0.011511977761983871 and parameters: {'scale_regularization': 0.1, 'opacity_regularization': None, 'extent': 4.0, 'init_scale': 2.0, 'init_opacity': 0.5, 'image_index': 2}. Best is trial 151 with value: 0.008646728470921516.\n",
      "Model initialized. Number of Gaussians: 1024\n"
     ]
    },
    {
     "name": "stderr",
     "output_type": "stream",
     "text": [
      "Loss: 0.036 (L1: 0.011, MSE: 0.001, SSIM: 0.019): 100%|\u001b[36m██████\u001b[0m| 1000/1000 [00:08<00:00, 119.21step/s]\u001b[0m\n",
      "[I 2025-01-08 23:45:10,820] Trial 204 finished with value: 0.01046779751777649 and parameters: {'scale_regularization': 0.1, 'opacity_regularization': None, 'extent': 4.0, 'init_scale': 2.0, 'init_opacity': 0.5, 'image_index': 2}. Best is trial 151 with value: 0.008646728470921516.\n"
     ]
    },
    {
     "name": "stdout",
     "output_type": "stream",
     "text": [
      "Final loss: 0.03601924329996109\n",
      "Total Time: Rasterization: 1.139s, Backward: 3.423s\n",
      "Trial 204 finished with value: 0.01046779751777649 and parameters: {'scale_regularization': 0.1, 'opacity_regularization': None, 'extent': 4.0, 'init_scale': 2.0, 'init_opacity': 0.5, 'image_index': 2}. Best is trial 151 with value: 0.008646728470921516.\n",
      "Trial 204 finished with value: 0.01046779751777649 and parameters: {'scale_regularization': 0.1, 'opacity_regularization': None, 'extent': 4.0, 'init_scale': 2.0, 'init_opacity': 0.5, 'image_index': 2}. Best is trial 151 with value: 0.008646728470921516.\n",
      "Model initialized. Number of Gaussians: 1024\n"
     ]
    },
    {
     "name": "stderr",
     "output_type": "stream",
     "text": [
      "Loss: 0.136 (L1: 0.035, MSE: 0.003, SSIM: 0.098): 100%|\u001b[36m██████\u001b[0m| 1000/1000 [00:08<00:00, 114.00step/s]\u001b[0m\n",
      "[I 2025-01-08 23:45:20,195] Trial 205 finished with value: 0.04525721073150635 and parameters: {'scale_regularization': 0.1, 'opacity_regularization': 1.0, 'extent': 4.0, 'init_scale': 2.0, 'init_opacity': 0.5, 'image_index': 2}. Best is trial 151 with value: 0.008646728470921516.\n"
     ]
    },
    {
     "name": "stdout",
     "output_type": "stream",
     "text": [
      "Final loss: 0.13532477617263794\n",
      "Total Time: Rasterization: 1.146s, Backward: 3.671s\n",
      "Trial 205 finished with value: 0.04525721073150635 and parameters: {'scale_regularization': 0.1, 'opacity_regularization': 1.0, 'extent': 4.0, 'init_scale': 2.0, 'init_opacity': 0.5, 'image_index': 2}. Best is trial 151 with value: 0.008646728470921516.\n",
      "Trial 205 finished with value: 0.04525721073150635 and parameters: {'scale_regularization': 0.1, 'opacity_regularization': 1.0, 'extent': 4.0, 'init_scale': 2.0, 'init_opacity': 0.5, 'image_index': 2}. Best is trial 151 with value: 0.008646728470921516.\n",
      "Model initialized. Number of Gaussians: 1024\n"
     ]
    },
    {
     "name": "stderr",
     "output_type": "stream",
     "text": [
      "Loss: 0.036 (L1: 0.011, MSE: 0.000, SSIM: 0.021): 100%|\u001b[36m██████\u001b[0m| 1000/1000 [00:08<00:00, 118.20step/s]\u001b[0m\n",
      "[I 2025-01-08 23:45:29,257] Trial 206 finished with value: 0.013180870562791824 and parameters: {'scale_regularization': 0.1, 'opacity_regularization': None, 'extent': 4.0, 'init_scale': 2.0, 'init_opacity': 0.5, 'image_index': 2}. Best is trial 151 with value: 0.008646728470921516.\n"
     ]
    },
    {
     "name": "stdout",
     "output_type": "stream",
     "text": [
      "Final loss: 0.0385906919836998\n",
      "Total Time: Rasterization: 1.150s, Backward: 3.460s\n",
      "Trial 206 finished with value: 0.013180870562791824 and parameters: {'scale_regularization': 0.1, 'opacity_regularization': None, 'extent': 4.0, 'init_scale': 2.0, 'init_opacity': 0.5, 'image_index': 2}. Best is trial 151 with value: 0.008646728470921516.\n",
      "Trial 206 finished with value: 0.013180870562791824 and parameters: {'scale_regularization': 0.1, 'opacity_regularization': None, 'extent': 4.0, 'init_scale': 2.0, 'init_opacity': 0.5, 'image_index': 2}. Best is trial 151 with value: 0.008646728470921516.\n",
      "Model initialized. Number of Gaussians: 1024\n"
     ]
    },
    {
     "name": "stderr",
     "output_type": "stream",
     "text": [
      "Loss: 0.035 (L1: 0.010, MSE: 0.000, SSIM: 0.017): 100%|\u001b[36m██████\u001b[0m| 1000/1000 [00:08<00:00, 119.59step/s]\u001b[0m\n",
      "[I 2025-01-08 23:45:38,224] Trial 207 finished with value: 0.009270330891013145 and parameters: {'scale_regularization': 0.1, 'opacity_regularization': None, 'extent': 4.0, 'init_scale': 2.0, 'init_opacity': 0.5, 'image_index': 2}. Best is trial 151 with value: 0.008646728470921516.\n"
     ]
    },
    {
     "name": "stdout",
     "output_type": "stream",
     "text": [
      "Final loss: 0.03496472164988518\n",
      "Total Time: Rasterization: 1.134s, Backward: 3.404s\n",
      "Trial 207 finished with value: 0.009270330891013145 and parameters: {'scale_regularization': 0.1, 'opacity_regularization': None, 'extent': 4.0, 'init_scale': 2.0, 'init_opacity': 0.5, 'image_index': 2}. Best is trial 151 with value: 0.008646728470921516.\n",
      "Trial 207 finished with value: 0.009270330891013145 and parameters: {'scale_regularization': 0.1, 'opacity_regularization': None, 'extent': 4.0, 'init_scale': 2.0, 'init_opacity': 0.5, 'image_index': 2}. Best is trial 151 with value: 0.008646728470921516.\n",
      "Model initialized. Number of Gaussians: 1024\n"
     ]
    },
    {
     "name": "stderr",
     "output_type": "stream",
     "text": [
      "Loss: 0.036 (L1: 0.012, MSE: 0.001, SSIM: 0.019): 100%|\u001b[36m██████\u001b[0m| 1000/1000 [00:05<00:00, 171.01step/s]\u001b[0m\n",
      "[I 2025-01-08 23:45:44,665] Trial 208 finished with value: 0.010526027530431747 and parameters: {'scale_regularization': 0.1, 'opacity_regularization': None, 'extent': 4.0, 'init_scale': 2.0, 'init_opacity': 0.5, 'image_index': 2}. Best is trial 151 with value: 0.008646728470921516.\n"
     ]
    },
    {
     "name": "stdout",
     "output_type": "stream",
     "text": [
      "Final loss: 0.03612663596868515\n",
      "Total Time: Rasterization: 0.825s, Backward: 2.424s\n",
      "Trial 208 finished with value: 0.010526027530431747 and parameters: {'scale_regularization': 0.1, 'opacity_regularization': None, 'extent': 4.0, 'init_scale': 2.0, 'init_opacity': 0.5, 'image_index': 2}. Best is trial 151 with value: 0.008646728470921516.\n",
      "Trial 208 finished with value: 0.010526027530431747 and parameters: {'scale_regularization': 0.1, 'opacity_regularization': None, 'extent': 4.0, 'init_scale': 2.0, 'init_opacity': 0.5, 'image_index': 2}. Best is trial 151 with value: 0.008646728470921516.\n",
      "Model initialized. Number of Gaussians: 1024\n"
     ]
    },
    {
     "name": "stderr",
     "output_type": "stream",
     "text": [
      "Loss: 0.035 (L1: 0.010, MSE: 0.000, SSIM: 0.017): 100%|\u001b[36m██████\u001b[0m| 1000/1000 [00:07<00:00, 132.00step/s]\u001b[0m\n",
      "[I 2025-01-08 23:45:52,819] Trial 209 finished with value: 0.009265955537557602 and parameters: {'scale_regularization': 0.1, 'opacity_regularization': None, 'extent': 4.0, 'init_scale': 2.0, 'init_opacity': 0.5, 'image_index': 2}. Best is trial 151 with value: 0.008646728470921516.\n"
     ]
    },
    {
     "name": "stdout",
     "output_type": "stream",
     "text": [
      "Final loss: 0.03473059833049774\n",
      "Total Time: Rasterization: 1.040s, Backward: 3.118s\n",
      "Trial 209 finished with value: 0.009265955537557602 and parameters: {'scale_regularization': 0.1, 'opacity_regularization': None, 'extent': 4.0, 'init_scale': 2.0, 'init_opacity': 0.5, 'image_index': 2}. Best is trial 151 with value: 0.008646728470921516.\n",
      "Trial 209 finished with value: 0.009265955537557602 and parameters: {'scale_regularization': 0.1, 'opacity_regularization': None, 'extent': 4.0, 'init_scale': 2.0, 'init_opacity': 0.5, 'image_index': 2}. Best is trial 151 with value: 0.008646728470921516.\n",
      "Model initialized. Number of Gaussians: 1024\n"
     ]
    },
    {
     "name": "stderr",
     "output_type": "stream",
     "text": [
      "Loss: 0.037 (L1: 0.012, MSE: 0.001, SSIM: 0.021): 100%|\u001b[36m██████\u001b[0m| 1000/1000 [00:08<00:00, 116.86step/s]\u001b[0m\n",
      "[I 2025-01-08 23:46:01,969] Trial 210 finished with value: 0.011499887332320213 and parameters: {'scale_regularization': 0.1, 'opacity_regularization': None, 'extent': 4.0, 'init_scale': 2.0, 'init_opacity': 0.5, 'image_index': 2}. Best is trial 151 with value: 0.008646728470921516.\n"
     ]
    },
    {
     "name": "stdout",
     "output_type": "stream",
     "text": [
      "Final loss: 0.03722488135099411\n",
      "Total Time: Rasterization: 1.159s, Backward: 3.479s\n",
      "Trial 210 finished with value: 0.011499887332320213 and parameters: {'scale_regularization': 0.1, 'opacity_regularization': None, 'extent': 4.0, 'init_scale': 2.0, 'init_opacity': 0.5, 'image_index': 2}. Best is trial 151 with value: 0.008646728470921516.\n",
      "Trial 210 finished with value: 0.011499887332320213 and parameters: {'scale_regularization': 0.1, 'opacity_regularization': None, 'extent': 4.0, 'init_scale': 2.0, 'init_opacity': 0.5, 'image_index': 2}. Best is trial 151 with value: 0.008646728470921516.\n",
      "Model initialized. Number of Gaussians: 1024\n"
     ]
    },
    {
     "name": "stderr",
     "output_type": "stream",
     "text": [
      "Loss: 0.035 (L1: 0.010, MSE: 0.000, SSIM: 0.017): 100%|\u001b[36m██████\u001b[0m| 1000/1000 [00:08<00:00, 117.70step/s]\u001b[0m\n",
      "[I 2025-01-08 23:46:11,078] Trial 211 finished with value: 0.009275112301111221 and parameters: {'scale_regularization': 0.1, 'opacity_regularization': None, 'extent': 4.0, 'init_scale': 2.0, 'init_opacity': 0.5, 'image_index': 2}. Best is trial 151 with value: 0.008646728470921516.\n"
     ]
    },
    {
     "name": "stdout",
     "output_type": "stream",
     "text": [
      "Final loss: 0.034852296113967896\n",
      "Total Time: Rasterization: 1.155s, Backward: 3.447s\n",
      "Trial 211 finished with value: 0.009275112301111221 and parameters: {'scale_regularization': 0.1, 'opacity_regularization': None, 'extent': 4.0, 'init_scale': 2.0, 'init_opacity': 0.5, 'image_index': 2}. Best is trial 151 with value: 0.008646728470921516.\n",
      "Trial 211 finished with value: 0.009275112301111221 and parameters: {'scale_regularization': 0.1, 'opacity_regularization': None, 'extent': 4.0, 'init_scale': 2.0, 'init_opacity': 0.5, 'image_index': 2}. Best is trial 151 with value: 0.008646728470921516.\n",
      "Model initialized. Number of Gaussians: 1024\n"
     ]
    },
    {
     "name": "stderr",
     "output_type": "stream",
     "text": [
      "Loss: 0.036 (L1: 0.011, MSE: 0.000, SSIM: 0.020): 100%|\u001b[36m██████\u001b[0m| 1000/1000 [00:08<00:00, 118.65step/s]\u001b[0m\n",
      "[I 2025-01-08 23:46:20,119] Trial 212 finished with value: 0.01105006504803896 and parameters: {'scale_regularization': 0.1, 'opacity_regularization': None, 'extent': 4.0, 'init_scale': 2.0, 'init_opacity': 0.6, 'image_index': 2}. Best is trial 151 with value: 0.008646728470921516.\n"
     ]
    },
    {
     "name": "stdout",
     "output_type": "stream",
     "text": [
      "Final loss: 0.03618153557181358\n",
      "Total Time: Rasterization: 1.137s, Backward: 3.419s\n",
      "Trial 212 finished with value: 0.01105006504803896 and parameters: {'scale_regularization': 0.1, 'opacity_regularization': None, 'extent': 4.0, 'init_scale': 2.0, 'init_opacity': 0.6, 'image_index': 2}. Best is trial 151 with value: 0.008646728470921516.\n",
      "Trial 212 finished with value: 0.01105006504803896 and parameters: {'scale_regularization': 0.1, 'opacity_regularization': None, 'extent': 4.0, 'init_scale': 2.0, 'init_opacity': 0.6, 'image_index': 2}. Best is trial 151 with value: 0.008646728470921516.\n",
      "Model initialized. Number of Gaussians: 1024\n"
     ]
    },
    {
     "name": "stderr",
     "output_type": "stream",
     "text": [
      "Loss: 0.036 (L1: 0.011, MSE: 0.000, SSIM: 0.020): 100%|\u001b[36m██████\u001b[0m| 1000/1000 [00:08<00:00, 118.82step/s]\u001b[0m\n",
      "[I 2025-01-08 23:46:29,126] Trial 213 finished with value: 0.01050739549100399 and parameters: {'scale_regularization': 0.1, 'opacity_regularization': None, 'extent': 4.0, 'init_scale': 2.0, 'init_opacity': 0.5, 'image_index': 2}. Best is trial 151 with value: 0.008646728470921516.\n"
     ]
    },
    {
     "name": "stdout",
     "output_type": "stream",
     "text": [
      "Final loss: 0.03573054447770119\n",
      "Total Time: Rasterization: 1.146s, Backward: 3.420s\n",
      "Trial 213 finished with value: 0.01050739549100399 and parameters: {'scale_regularization': 0.1, 'opacity_regularization': None, 'extent': 4.0, 'init_scale': 2.0, 'init_opacity': 0.5, 'image_index': 2}. Best is trial 151 with value: 0.008646728470921516.\n",
      "Trial 213 finished with value: 0.01050739549100399 and parameters: {'scale_regularization': 0.1, 'opacity_regularization': None, 'extent': 4.0, 'init_scale': 2.0, 'init_opacity': 0.5, 'image_index': 2}. Best is trial 151 with value: 0.008646728470921516.\n",
      "Model initialized. Number of Gaussians: 1024\n"
     ]
    },
    {
     "name": "stderr",
     "output_type": "stream",
     "text": [
      "Loss: 0.035 (L1: 0.011, MSE: 0.000, SSIM: 0.018): 100%|\u001b[36m██████\u001b[0m| 1000/1000 [00:08<00:00, 120.84step/s]\u001b[0m\n",
      "[I 2025-01-08 23:46:38,004] Trial 214 finished with value: 0.011232774704694748 and parameters: {'scale_regularization': 0.1, 'opacity_regularization': None, 'extent': 4.0, 'init_scale': 2.0, 'init_opacity': 0.5, 'image_index': 2}. Best is trial 151 with value: 0.008646728470921516.\n"
     ]
    },
    {
     "name": "stdout",
     "output_type": "stream",
     "text": [
      "Final loss: 0.03658885508775711\n",
      "Total Time: Rasterization: 1.126s, Backward: 3.396s\n",
      "Trial 214 finished with value: 0.011232774704694748 and parameters: {'scale_regularization': 0.1, 'opacity_regularization': None, 'extent': 4.0, 'init_scale': 2.0, 'init_opacity': 0.5, 'image_index': 2}. Best is trial 151 with value: 0.008646728470921516.\n",
      "Trial 214 finished with value: 0.011232774704694748 and parameters: {'scale_regularization': 0.1, 'opacity_regularization': None, 'extent': 4.0, 'init_scale': 2.0, 'init_opacity': 0.5, 'image_index': 2}. Best is trial 151 with value: 0.008646728470921516.\n",
      "Model initialized. Number of Gaussians: 1024\n"
     ]
    },
    {
     "name": "stderr",
     "output_type": "stream",
     "text": [
      "Loss: 0.137 (L1: 0.017, MSE: 0.001, SSIM: 0.035): 100%|\u001b[36m██████\u001b[0m| 1000/1000 [00:08<00:00, 115.63step/s]\u001b[0m\n",
      "[I 2025-01-08 23:46:47,246] Trial 215 finished with value: 0.017530111595988274 and parameters: {'scale_regularization': 1.0, 'opacity_regularization': None, 'extent': 4.0, 'init_scale': 2.0, 'init_opacity': 0.5, 'image_index': 2}. Best is trial 151 with value: 0.008646728470921516.\n"
     ]
    },
    {
     "name": "stdout",
     "output_type": "stream",
     "text": [
      "Final loss: 0.13662134110927582\n",
      "Total Time: Rasterization: 1.166s, Backward: 3.546s\n",
      "Trial 215 finished with value: 0.017530111595988274 and parameters: {'scale_regularization': 1.0, 'opacity_regularization': None, 'extent': 4.0, 'init_scale': 2.0, 'init_opacity': 0.5, 'image_index': 2}. Best is trial 151 with value: 0.008646728470921516.\n",
      "Trial 215 finished with value: 0.017530111595988274 and parameters: {'scale_regularization': 1.0, 'opacity_regularization': None, 'extent': 4.0, 'init_scale': 2.0, 'init_opacity': 0.5, 'image_index': 2}. Best is trial 151 with value: 0.008646728470921516.\n",
      "Model initialized. Number of Gaussians: 1024\n"
     ]
    },
    {
     "name": "stderr",
     "output_type": "stream",
     "text": [
      "Loss: 0.037 (L1: 0.012, MSE: 0.001, SSIM: 0.021): 100%|\u001b[36m██████\u001b[0m| 1000/1000 [00:08<00:00, 121.41step/s]\u001b[0m\n",
      "[I 2025-01-08 23:46:56,089] Trial 216 finished with value: 0.011498886160552502 and parameters: {'scale_regularization': 0.1, 'opacity_regularization': None, 'extent': 4.0, 'init_scale': 2.0, 'init_opacity': 0.5, 'image_index': 2}. Best is trial 151 with value: 0.008646728470921516.\n"
     ]
    },
    {
     "name": "stdout",
     "output_type": "stream",
     "text": [
      "Final loss: 0.03695013001561165\n",
      "Total Time: Rasterization: 1.111s, Backward: 3.349s\n",
      "Trial 216 finished with value: 0.011498886160552502 and parameters: {'scale_regularization': 0.1, 'opacity_regularization': None, 'extent': 4.0, 'init_scale': 2.0, 'init_opacity': 0.5, 'image_index': 2}. Best is trial 151 with value: 0.008646728470921516.\n",
      "Trial 216 finished with value: 0.011498886160552502 and parameters: {'scale_regularization': 0.1, 'opacity_regularization': None, 'extent': 4.0, 'init_scale': 2.0, 'init_opacity': 0.5, 'image_index': 2}. Best is trial 151 with value: 0.008646728470921516.\n",
      "Model initialized. Number of Gaussians: 1024\n"
     ]
    },
    {
     "name": "stderr",
     "output_type": "stream",
     "text": [
      "Loss: 0.036 (L1: 0.012, MSE: 0.001, SSIM: 0.021): 100%|\u001b[36m██████\u001b[0m| 1000/1000 [00:08<00:00, 119.44step/s]\u001b[0m\n",
      "[I 2025-01-08 23:47:05,063] Trial 217 finished with value: 0.011174824088811874 and parameters: {'scale_regularization': 0.1, 'opacity_regularization': None, 'extent': 4.0, 'init_scale': 2.0, 'init_opacity': 0.5, 'image_index': 2}. Best is trial 151 with value: 0.008646728470921516.\n"
     ]
    },
    {
     "name": "stdout",
     "output_type": "stream",
     "text": [
      "Final loss: 0.03647555410861969\n",
      "Total Time: Rasterization: 1.137s, Backward: 3.403s\n",
      "Trial 217 finished with value: 0.011174824088811874 and parameters: {'scale_regularization': 0.1, 'opacity_regularization': None, 'extent': 4.0, 'init_scale': 2.0, 'init_opacity': 0.5, 'image_index': 2}. Best is trial 151 with value: 0.008646728470921516.\n",
      "Trial 217 finished with value: 0.011174824088811874 and parameters: {'scale_regularization': 0.1, 'opacity_regularization': None, 'extent': 4.0, 'init_scale': 2.0, 'init_opacity': 0.5, 'image_index': 2}. Best is trial 151 with value: 0.008646728470921516.\n",
      "Model initialized. Number of Gaussians: 1024\n"
     ]
    },
    {
     "name": "stderr",
     "output_type": "stream",
     "text": [
      "Loss: 0.036 (L1: 0.012, MSE: 0.001, SSIM: 0.019): 100%|\u001b[36m██████\u001b[0m| 1000/1000 [00:08<00:00, 116.65step/s]\u001b[0m\n",
      "[I 2025-01-08 23:47:14,259] Trial 218 finished with value: 0.010874628089368343 and parameters: {'scale_regularization': 0.1, 'opacity_regularization': None, 'extent': 4.0, 'init_scale': 2.0, 'init_opacity': 0.5, 'image_index': 2}. Best is trial 151 with value: 0.008646728470921516.\n"
     ]
    },
    {
     "name": "stdout",
     "output_type": "stream",
     "text": [
      "Final loss: 0.03667909651994705\n",
      "Total Time: Rasterization: 1.161s, Backward: 3.484s\n",
      "Trial 218 finished with value: 0.010874628089368343 and parameters: {'scale_regularization': 0.1, 'opacity_regularization': None, 'extent': 4.0, 'init_scale': 2.0, 'init_opacity': 0.5, 'image_index': 2}. Best is trial 151 with value: 0.008646728470921516.\n",
      "Trial 218 finished with value: 0.010874628089368343 and parameters: {'scale_regularization': 0.1, 'opacity_regularization': None, 'extent': 4.0, 'init_scale': 2.0, 'init_opacity': 0.5, 'image_index': 2}. Best is trial 151 with value: 0.008646728470921516.\n",
      "Model initialized. Number of Gaussians: 1024\n"
     ]
    },
    {
     "name": "stderr",
     "output_type": "stream",
     "text": [
      "Loss: 0.037 (L1: 0.012, MSE: 0.001, SSIM: 0.021): 100%|\u001b[36m██████\u001b[0m| 1000/1000 [00:08<00:00, 118.97step/s]\u001b[0m\n",
      "[I 2025-01-08 23:47:23,260] Trial 219 finished with value: 0.011204447597265244 and parameters: {'scale_regularization': 0.1, 'opacity_regularization': None, 'extent': 4.0, 'init_scale': 2.0, 'init_opacity': 0.5, 'image_index': 2}. Best is trial 151 with value: 0.008646728470921516.\n"
     ]
    },
    {
     "name": "stdout",
     "output_type": "stream",
     "text": [
      "Final loss: 0.0369589626789093\n",
      "Total Time: Rasterization: 1.141s, Backward: 3.422s\n",
      "Trial 219 finished with value: 0.011204447597265244 and parameters: {'scale_regularization': 0.1, 'opacity_regularization': None, 'extent': 4.0, 'init_scale': 2.0, 'init_opacity': 0.5, 'image_index': 2}. Best is trial 151 with value: 0.008646728470921516.\n",
      "Trial 219 finished with value: 0.011204447597265244 and parameters: {'scale_regularization': 0.1, 'opacity_regularization': None, 'extent': 4.0, 'init_scale': 2.0, 'init_opacity': 0.5, 'image_index': 2}. Best is trial 151 with value: 0.008646728470921516.\n",
      "Model initialized. Number of Gaussians: 1024\n"
     ]
    },
    {
     "name": "stderr",
     "output_type": "stream",
     "text": [
      "Loss: 0.066 (L1: 0.012, MSE: 0.001, SSIM: 0.024): 100%|\u001b[36m██████\u001b[0m| 1000/1000 [00:08<00:00, 120.08step/s]\u001b[0m\n",
      "[I 2025-01-08 23:47:32,194] Trial 220 finished with value: 0.012044180184602737 and parameters: {'scale_regularization': 0.1, 'opacity_regularization': None, 'extent': 4.0, 'init_scale': 4.0, 'init_opacity': 0.5, 'image_index': 2}. Best is trial 151 with value: 0.008646728470921516.\n"
     ]
    },
    {
     "name": "stdout",
     "output_type": "stream",
     "text": [
      "Final loss: 0.0658530741930008\n",
      "Total Time: Rasterization: 1.140s, Backward: 3.328s\n",
      "Trial 220 finished with value: 0.012044180184602737 and parameters: {'scale_regularization': 0.1, 'opacity_regularization': None, 'extent': 4.0, 'init_scale': 4.0, 'init_opacity': 0.5, 'image_index': 2}. Best is trial 151 with value: 0.008646728470921516.\n",
      "Trial 220 finished with value: 0.012044180184602737 and parameters: {'scale_regularization': 0.1, 'opacity_regularization': None, 'extent': 4.0, 'init_scale': 4.0, 'init_opacity': 0.5, 'image_index': 2}. Best is trial 151 with value: 0.008646728470921516.\n",
      "Model initialized. Number of Gaussians: 1024\n"
     ]
    },
    {
     "name": "stderr",
     "output_type": "stream",
     "text": [
      "Loss: 0.036 (L1: 0.011, MSE: 0.000, SSIM: 0.020): 100%|\u001b[36m██████\u001b[0m| 1000/1000 [00:08<00:00, 122.45step/s]\u001b[0m\n",
      "[I 2025-01-08 23:47:40,954] Trial 221 finished with value: 0.010724605992436409 and parameters: {'scale_regularization': 0.1, 'opacity_regularization': None, 'extent': 4.0, 'init_scale': 2.0, 'init_opacity': 0.5, 'image_index': 2}. Best is trial 151 with value: 0.008646728470921516.\n"
     ]
    },
    {
     "name": "stdout",
     "output_type": "stream",
     "text": [
      "Final loss: 0.03591003641486168\n",
      "Total Time: Rasterization: 1.109s, Backward: 3.334s\n",
      "Trial 221 finished with value: 0.010724605992436409 and parameters: {'scale_regularization': 0.1, 'opacity_regularization': None, 'extent': 4.0, 'init_scale': 2.0, 'init_opacity': 0.5, 'image_index': 2}. Best is trial 151 with value: 0.008646728470921516.\n",
      "Trial 221 finished with value: 0.010724605992436409 and parameters: {'scale_regularization': 0.1, 'opacity_regularization': None, 'extent': 4.0, 'init_scale': 2.0, 'init_opacity': 0.5, 'image_index': 2}. Best is trial 151 with value: 0.008646728470921516.\n",
      "Model initialized. Number of Gaussians: 1024\n"
     ]
    },
    {
     "name": "stderr",
     "output_type": "stream",
     "text": [
      "Loss: 0.074 (L1: 0.027, MSE: 0.002, SSIM: 0.113): 100%|\u001b[36m██████\u001b[0m| 1000/1000 [00:08<00:00, 117.58step/s]\u001b[0m\n",
      "[I 2025-01-08 23:47:50,056] Trial 222 finished with value: 0.04684530198574066 and parameters: {'scale_regularization': 0.1, 'opacity_regularization': None, 'extent': 4.0, 'init_scale': 2.0, 'init_opacity': 0.5, 'image_index': 0}. Best is trial 151 with value: 0.008646728470921516.\n"
     ]
    },
    {
     "name": "stdout",
     "output_type": "stream",
     "text": [
      "Final loss: 0.07364276051521301\n",
      "Total Time: Rasterization: 1.151s, Backward: 3.412s\n",
      "Trial 222 finished with value: 0.04684530198574066 and parameters: {'scale_regularization': 0.1, 'opacity_regularization': None, 'extent': 4.0, 'init_scale': 2.0, 'init_opacity': 0.5, 'image_index': 0}. Best is trial 151 with value: 0.008646728470921516.\n",
      "Trial 222 finished with value: 0.04684530198574066 and parameters: {'scale_regularization': 0.1, 'opacity_regularization': None, 'extent': 4.0, 'init_scale': 2.0, 'init_opacity': 0.5, 'image_index': 0}. Best is trial 151 with value: 0.008646728470921516.\n",
      "Model initialized. Number of Gaussians: 1024\n"
     ]
    },
    {
     "name": "stderr",
     "output_type": "stream",
     "text": [
      "Loss: 0.036 (L1: 0.011, MSE: 0.000, SSIM: 0.019): 100%|\u001b[36m██████\u001b[0m| 1000/1000 [00:08<00:00, 119.43step/s]\u001b[0m\n",
      "[I 2025-01-08 23:47:59,037] Trial 223 finished with value: 0.010330425575375557 and parameters: {'scale_regularization': 0.1, 'opacity_regularization': None, 'extent': 4.0, 'init_scale': 2.0, 'init_opacity': 0.5, 'image_index': 2}. Best is trial 151 with value: 0.008646728470921516.\n"
     ]
    },
    {
     "name": "stdout",
     "output_type": "stream",
     "text": [
      "Final loss: 0.03613128513097763\n",
      "Total Time: Rasterization: 1.133s, Backward: 3.415s\n",
      "Trial 223 finished with value: 0.010330425575375557 and parameters: {'scale_regularization': 0.1, 'opacity_regularization': None, 'extent': 4.0, 'init_scale': 2.0, 'init_opacity': 0.5, 'image_index': 2}. Best is trial 151 with value: 0.008646728470921516.\n",
      "Trial 223 finished with value: 0.010330425575375557 and parameters: {'scale_regularization': 0.1, 'opacity_regularization': None, 'extent': 4.0, 'init_scale': 2.0, 'init_opacity': 0.5, 'image_index': 2}. Best is trial 151 with value: 0.008646728470921516.\n",
      "Model initialized. Number of Gaussians: 1024\n"
     ]
    },
    {
     "name": "stderr",
     "output_type": "stream",
     "text": [
      "Loss: 0.067 (L1: 0.021, MSE: 0.001, SSIM: 0.049): 100%|\u001b[36m██████\u001b[0m| 1000/1000 [00:08<00:00, 123.22step/s]\u001b[0m\n",
      "[I 2025-01-08 23:48:07,746] Trial 224 finished with value: 0.02378286048769951 and parameters: {'scale_regularization': 0.1, 'opacity_regularization': 0.1, 'extent': 4.0, 'init_scale': 2.0, 'init_opacity': 0.5, 'image_index': 2}. Best is trial 151 with value: 0.008646728470921516.\n"
     ]
    },
    {
     "name": "stdout",
     "output_type": "stream",
     "text": [
      "Final loss: 0.06736350059509277\n",
      "Total Time: Rasterization: 1.077s, Backward: 3.316s\n",
      "Trial 224 finished with value: 0.02378286048769951 and parameters: {'scale_regularization': 0.1, 'opacity_regularization': 0.1, 'extent': 4.0, 'init_scale': 2.0, 'init_opacity': 0.5, 'image_index': 2}. Best is trial 151 with value: 0.008646728470921516.\n",
      "Trial 224 finished with value: 0.02378286048769951 and parameters: {'scale_regularization': 0.1, 'opacity_regularization': 0.1, 'extent': 4.0, 'init_scale': 2.0, 'init_opacity': 0.5, 'image_index': 2}. Best is trial 151 with value: 0.008646728470921516.\n",
      "Model initialized. Number of Gaussians: 1024\n"
     ]
    },
    {
     "name": "stderr",
     "output_type": "stream",
     "text": [
      "Loss: 0.036 (L1: 0.011, MSE: 0.000, SSIM: 0.021): 100%|\u001b[36m██████\u001b[0m| 1000/1000 [00:08<00:00, 121.18step/s]\u001b[0m\n",
      "[I 2025-01-08 23:48:16,605] Trial 225 finished with value: 0.010580962523818016 and parameters: {'scale_regularization': 0.1, 'opacity_regularization': None, 'extent': 4.0, 'init_scale': 2.0, 'init_opacity': 0.5, 'image_index': 2}. Best is trial 151 with value: 0.008646728470921516.\n"
     ]
    },
    {
     "name": "stdout",
     "output_type": "stream",
     "text": [
      "Final loss: 0.03534914553165436\n",
      "Total Time: Rasterization: 1.123s, Backward: 3.386s\n",
      "Trial 225 finished with value: 0.010580962523818016 and parameters: {'scale_regularization': 0.1, 'opacity_regularization': None, 'extent': 4.0, 'init_scale': 2.0, 'init_opacity': 0.5, 'image_index': 2}. Best is trial 151 with value: 0.008646728470921516.\n",
      "Trial 225 finished with value: 0.010580962523818016 and parameters: {'scale_regularization': 0.1, 'opacity_regularization': None, 'extent': 4.0, 'init_scale': 2.0, 'init_opacity': 0.5, 'image_index': 2}. Best is trial 151 with value: 0.008646728470921516.\n",
      "Model initialized. Number of Gaussians: 1024\n"
     ]
    },
    {
     "name": "stderr",
     "output_type": "stream",
     "text": [
      "Loss: 0.039 (L1: 0.012, MSE: 0.001, SSIM: 0.024): 100%|\u001b[36m██████\u001b[0m| 1000/1000 [00:08<00:00, 122.33step/s]\u001b[0m\n",
      "[I 2025-01-08 23:48:25,384] Trial 226 finished with value: 0.012688212096691132 and parameters: {'scale_regularization': 0.1, 'opacity_regularization': None, 'extent': 4.0, 'init_scale': 2.0, 'init_opacity': 0.5, 'image_index': 2}. Best is trial 151 with value: 0.008646728470921516.\n"
     ]
    },
    {
     "name": "stdout",
     "output_type": "stream",
     "text": [
      "Final loss: 0.038862816989421844\n",
      "Total Time: Rasterization: 1.120s, Backward: 3.335s\n",
      "Trial 226 finished with value: 0.012688212096691132 and parameters: {'scale_regularization': 0.1, 'opacity_regularization': None, 'extent': 4.0, 'init_scale': 2.0, 'init_opacity': 0.5, 'image_index': 2}. Best is trial 151 with value: 0.008646728470921516.\n",
      "Trial 226 finished with value: 0.012688212096691132 and parameters: {'scale_regularization': 0.1, 'opacity_regularization': None, 'extent': 4.0, 'init_scale': 2.0, 'init_opacity': 0.5, 'image_index': 2}. Best is trial 151 with value: 0.008646728470921516.\n",
      "Model initialized. Number of Gaussians: 1024\n"
     ]
    },
    {
     "name": "stderr",
     "output_type": "stream",
     "text": [
      "Loss: 0.036 (L1: 0.011, MSE: 0.000, SSIM: 0.020): 100%|\u001b[36m██████\u001b[0m| 1000/1000 [00:07<00:00, 141.35step/s]\u001b[0m\n",
      "[I 2025-01-08 23:48:33,033] Trial 227 finished with value: 0.011000847443938255 and parameters: {'scale_regularization': 0.1, 'opacity_regularization': None, 'extent': 4.0, 'init_scale': 2.0, 'init_opacity': 0.5, 'image_index': 2}. Best is trial 151 with value: 0.008646728470921516.\n"
     ]
    },
    {
     "name": "stdout",
     "output_type": "stream",
     "text": [
      "Final loss: 0.03593975678086281\n",
      "Total Time: Rasterization: 0.978s, Backward: 2.924s\n",
      "Trial 227 finished with value: 0.011000847443938255 and parameters: {'scale_regularization': 0.1, 'opacity_regularization': None, 'extent': 4.0, 'init_scale': 2.0, 'init_opacity': 0.5, 'image_index': 2}. Best is trial 151 with value: 0.008646728470921516.\n",
      "Trial 227 finished with value: 0.011000847443938255 and parameters: {'scale_regularization': 0.1, 'opacity_regularization': None, 'extent': 4.0, 'init_scale': 2.0, 'init_opacity': 0.5, 'image_index': 2}. Best is trial 151 with value: 0.008646728470921516.\n",
      "Model initialized. Number of Gaussians: 1024\n"
     ]
    },
    {
     "name": "stderr",
     "output_type": "stream",
     "text": [
      "Loss: 0.037 (L1: 0.012, MSE: 0.000, SSIM: 0.024): 100%|\u001b[36m██████\u001b[0m| 1000/1000 [00:08<00:00, 118.94step/s]\u001b[0m\n",
      "[I 2025-01-08 23:48:42,059] Trial 228 finished with value: 0.010842273011803627 and parameters: {'scale_regularization': 0.1, 'opacity_regularization': None, 'extent': 4.0, 'init_scale': 2.0, 'init_opacity': 0.5, 'image_index': 2}. Best is trial 151 with value: 0.008646728470921516.\n"
     ]
    },
    {
     "name": "stdout",
     "output_type": "stream",
     "text": [
      "Final loss: 0.03574381023645401\n",
      "Total Time: Rasterization: 1.140s, Backward: 3.420s\n",
      "Trial 228 finished with value: 0.010842273011803627 and parameters: {'scale_regularization': 0.1, 'opacity_regularization': None, 'extent': 4.0, 'init_scale': 2.0, 'init_opacity': 0.5, 'image_index': 2}. Best is trial 151 with value: 0.008646728470921516.\n",
      "Trial 228 finished with value: 0.010842273011803627 and parameters: {'scale_regularization': 0.1, 'opacity_regularization': None, 'extent': 4.0, 'init_scale': 2.0, 'init_opacity': 0.5, 'image_index': 2}. Best is trial 151 with value: 0.008646728470921516.\n",
      "Model initialized. Number of Gaussians: 1024\n"
     ]
    },
    {
     "name": "stderr",
     "output_type": "stream",
     "text": [
      "Loss: 0.036 (L1: 0.011, MSE: 0.000, SSIM: 0.021): 100%|\u001b[36m██████\u001b[0m| 1000/1000 [00:08<00:00, 119.42step/s]\u001b[0m\n",
      "[I 2025-01-08 23:48:51,029] Trial 229 finished with value: 0.01100088469684124 and parameters: {'scale_regularization': 0.1, 'opacity_regularization': None, 'extent': 4.0, 'init_scale': 2.0, 'init_opacity': 0.5, 'image_index': 2}. Best is trial 151 with value: 0.008646728470921516.\n"
     ]
    },
    {
     "name": "stdout",
     "output_type": "stream",
     "text": [
      "Final loss: 0.03617149591445923\n",
      "Total Time: Rasterization: 1.129s, Backward: 3.407s\n",
      "Trial 229 finished with value: 0.01100088469684124 and parameters: {'scale_regularization': 0.1, 'opacity_regularization': None, 'extent': 4.0, 'init_scale': 2.0, 'init_opacity': 0.5, 'image_index': 2}. Best is trial 151 with value: 0.008646728470921516.\n",
      "Trial 229 finished with value: 0.01100088469684124 and parameters: {'scale_regularization': 0.1, 'opacity_regularization': None, 'extent': 4.0, 'init_scale': 2.0, 'init_opacity': 0.5, 'image_index': 2}. Best is trial 151 with value: 0.008646728470921516.\n",
      "Model initialized. Number of Gaussians: 1024\n"
     ]
    },
    {
     "name": "stderr",
     "output_type": "stream",
     "text": [
      "Loss: 0.036 (L1: 0.011, MSE: 0.000, SSIM: 0.020): 100%|\u001b[36m██████\u001b[0m| 1000/1000 [00:08<00:00, 120.17step/s]\u001b[0m\n",
      "[I 2025-01-08 23:48:59,997] Trial 230 finished with value: 0.010105284862220287 and parameters: {'scale_regularization': 0.1, 'opacity_regularization': None, 'extent': 4.0, 'init_scale': 2.0, 'init_opacity': 0.5, 'image_index': 2}. Best is trial 151 with value: 0.008646728470921516.\n"
     ]
    },
    {
     "name": "stdout",
     "output_type": "stream",
     "text": [
      "Final loss: 0.035232774913311005\n",
      "Total Time: Rasterization: 1.124s, Backward: 3.393s\n",
      "Trial 230 finished with value: 0.010105284862220287 and parameters: {'scale_regularization': 0.1, 'opacity_regularization': None, 'extent': 4.0, 'init_scale': 2.0, 'init_opacity': 0.5, 'image_index': 2}. Best is trial 151 with value: 0.008646728470921516.\n",
      "Trial 230 finished with value: 0.010105284862220287 and parameters: {'scale_regularization': 0.1, 'opacity_regularization': None, 'extent': 4.0, 'init_scale': 2.0, 'init_opacity': 0.5, 'image_index': 2}. Best is trial 151 with value: 0.008646728470921516.\n",
      "Model initialized. Number of Gaussians: 1024\n"
     ]
    },
    {
     "name": "stderr",
     "output_type": "stream",
     "text": [
      "Loss: 0.039 (L1: 0.013, MSE: 0.001, SSIM: 0.024): 100%|\u001b[36m██████\u001b[0m| 1000/1000 [00:08<00:00, 119.32step/s]\u001b[0m\n",
      "[I 2025-01-08 23:49:09,000] Trial 231 finished with value: 0.012693818658590317 and parameters: {'scale_regularization': 0.1, 'opacity_regularization': None, 'extent': 4.0, 'init_scale': 2.0, 'init_opacity': 0.5, 'image_index': 2}. Best is trial 151 with value: 0.008646728470921516.\n"
     ]
    },
    {
     "name": "stdout",
     "output_type": "stream",
     "text": [
      "Final loss: 0.03833485394716263\n",
      "Total Time: Rasterization: 1.137s, Backward: 3.395s\n",
      "Trial 231 finished with value: 0.012693818658590317 and parameters: {'scale_regularization': 0.1, 'opacity_regularization': None, 'extent': 4.0, 'init_scale': 2.0, 'init_opacity': 0.5, 'image_index': 2}. Best is trial 151 with value: 0.008646728470921516.\n",
      "Trial 231 finished with value: 0.012693818658590317 and parameters: {'scale_regularization': 0.1, 'opacity_regularization': None, 'extent': 4.0, 'init_scale': 2.0, 'init_opacity': 0.5, 'image_index': 2}. Best is trial 151 with value: 0.008646728470921516.\n",
      "Model initialized. Number of Gaussians: 1024\n"
     ]
    },
    {
     "name": "stderr",
     "output_type": "stream",
     "text": [
      "Loss: 0.036 (L1: 0.012, MSE: 0.000, SSIM: 0.021): 100%|\u001b[36m██████\u001b[0m| 1000/1000 [00:08<00:00, 123.52step/s]\u001b[0m\n",
      "[I 2025-01-08 23:49:17,711] Trial 232 finished with value: 0.010747656226158142 and parameters: {'scale_regularization': 0.1, 'opacity_regularization': None, 'extent': 4.0, 'init_scale': 2.0, 'init_opacity': 0.5, 'image_index': 2}. Best is trial 151 with value: 0.008646728470921516.\n"
     ]
    },
    {
     "name": "stdout",
     "output_type": "stream",
     "text": [
      "Final loss: 0.035494208335876465\n",
      "Total Time: Rasterization: 1.099s, Backward: 3.322s\n",
      "Trial 232 finished with value: 0.010747656226158142 and parameters: {'scale_regularization': 0.1, 'opacity_regularization': None, 'extent': 4.0, 'init_scale': 2.0, 'init_opacity': 0.5, 'image_index': 2}. Best is trial 151 with value: 0.008646728470921516.\n",
      "Trial 232 finished with value: 0.010747656226158142 and parameters: {'scale_regularization': 0.1, 'opacity_regularization': None, 'extent': 4.0, 'init_scale': 2.0, 'init_opacity': 0.5, 'image_index': 2}. Best is trial 151 with value: 0.008646728470921516.\n",
      "Model initialized. Number of Gaussians: 1024\n"
     ]
    },
    {
     "name": "stderr",
     "output_type": "stream",
     "text": [
      "Loss: 0.078 (L1: 0.039, MSE: 0.004, SSIM: 0.110): 100%|\u001b[36m██████\u001b[0m| 1000/1000 [00:08<00:00, 120.39step/s]\u001b[0m\n",
      "[I 2025-01-08 23:49:26,632] Trial 233 finished with value: 0.05110444873571396 and parameters: {'scale_regularization': 0.1, 'opacity_regularization': None, 'extent': 4.0, 'init_scale': 2.0, 'init_opacity': 0.5, 'image_index': 1}. Best is trial 151 with value: 0.008646728470921516.\n"
     ]
    },
    {
     "name": "stdout",
     "output_type": "stream",
     "text": [
      "Final loss: 0.07775204628705978\n",
      "Total Time: Rasterization: 1.132s, Backward: 3.400s\n",
      "Trial 233 finished with value: 0.05110444873571396 and parameters: {'scale_regularization': 0.1, 'opacity_regularization': None, 'extent': 4.0, 'init_scale': 2.0, 'init_opacity': 0.5, 'image_index': 1}. Best is trial 151 with value: 0.008646728470921516.\n",
      "Trial 233 finished with value: 0.05110444873571396 and parameters: {'scale_regularization': 0.1, 'opacity_regularization': None, 'extent': 4.0, 'init_scale': 2.0, 'init_opacity': 0.5, 'image_index': 1}. Best is trial 151 with value: 0.008646728470921516.\n",
      "Model initialized. Number of Gaussians: 1024\n"
     ]
    },
    {
     "name": "stderr",
     "output_type": "stream",
     "text": [
      "Loss: 0.035 (L1: 0.011, MSE: 0.000, SSIM: 0.018): 100%|\u001b[36m██████\u001b[0m| 1000/1000 [00:08<00:00, 119.67step/s]\u001b[0m\n",
      "[I 2025-01-08 23:49:35,577] Trial 234 finished with value: 0.00982092134654522 and parameters: {'scale_regularization': 0.1, 'opacity_regularization': None, 'extent': 4.0, 'init_scale': 2.0, 'init_opacity': 0.5, 'image_index': 2}. Best is trial 151 with value: 0.008646728470921516.\n"
     ]
    },
    {
     "name": "stdout",
     "output_type": "stream",
     "text": [
      "Final loss: 0.03537779301404953\n",
      "Total Time: Rasterization: 1.138s, Backward: 3.400s\n",
      "Trial 234 finished with value: 0.00982092134654522 and parameters: {'scale_regularization': 0.1, 'opacity_regularization': None, 'extent': 4.0, 'init_scale': 2.0, 'init_opacity': 0.5, 'image_index': 2}. Best is trial 151 with value: 0.008646728470921516.\n",
      "Trial 234 finished with value: 0.00982092134654522 and parameters: {'scale_regularization': 0.1, 'opacity_regularization': None, 'extent': 4.0, 'init_scale': 2.0, 'init_opacity': 0.5, 'image_index': 2}. Best is trial 151 with value: 0.008646728470921516.\n",
      "Model initialized. Number of Gaussians: 1024\n"
     ]
    },
    {
     "name": "stderr",
     "output_type": "stream",
     "text": [
      "Loss: 0.118 (L1: 0.025, MSE: 0.001, SSIM: 0.153): 100%|\u001b[36m██████\u001b[0m| 1000/1000 [00:08<00:00, 112.90step/s]\u001b[0m\n",
      "[I 2025-01-08 23:49:45,046] Trial 235 finished with value: 0.06038326770067215 and parameters: {'scale_regularization': 0.1, 'opacity_regularization': 0.5, 'extent': 4.0, 'init_scale': 2.0, 'init_opacity': 0.5, 'image_index': 3}. Best is trial 151 with value: 0.008646728470921516.\n"
     ]
    },
    {
     "name": "stdout",
     "output_type": "stream",
     "text": [
      "Final loss: 0.11805528402328491\n",
      "Total Time: Rasterization: 1.161s, Backward: 3.649s\n",
      "Trial 235 finished with value: 0.06038326770067215 and parameters: {'scale_regularization': 0.1, 'opacity_regularization': 0.5, 'extent': 4.0, 'init_scale': 2.0, 'init_opacity': 0.5, 'image_index': 3}. Best is trial 151 with value: 0.008646728470921516.\n",
      "Trial 235 finished with value: 0.06038326770067215 and parameters: {'scale_regularization': 0.1, 'opacity_regularization': 0.5, 'extent': 4.0, 'init_scale': 2.0, 'init_opacity': 0.5, 'image_index': 3}. Best is trial 151 with value: 0.008646728470921516.\n",
      "Model initialized. Number of Gaussians: 1024\n"
     ]
    },
    {
     "name": "stderr",
     "output_type": "stream",
     "text": [
      "Loss: 0.037 (L1: 0.013, MSE: 0.001, SSIM: 0.023): 100%|\u001b[36m██████\u001b[0m| 1000/1000 [00:08<00:00, 117.85step/s]\u001b[0m\n",
      "[I 2025-01-08 23:49:54,136] Trial 236 finished with value: 0.012122167274355888 and parameters: {'scale_regularization': 0.1, 'opacity_regularization': None, 'extent': 4.0, 'init_scale': 2.0, 'init_opacity': 0.5, 'image_index': 2}. Best is trial 151 with value: 0.008646728470921516.\n"
     ]
    },
    {
     "name": "stdout",
     "output_type": "stream",
     "text": [
      "Final loss: 0.037107326090335846\n",
      "Total Time: Rasterization: 1.148s, Backward: 3.460s\n",
      "Trial 236 finished with value: 0.012122167274355888 and parameters: {'scale_regularization': 0.1, 'opacity_regularization': None, 'extent': 4.0, 'init_scale': 2.0, 'init_opacity': 0.5, 'image_index': 2}. Best is trial 151 with value: 0.008646728470921516.\n",
      "Trial 236 finished with value: 0.012122167274355888 and parameters: {'scale_regularization': 0.1, 'opacity_regularization': None, 'extent': 4.0, 'init_scale': 2.0, 'init_opacity': 0.5, 'image_index': 2}. Best is trial 151 with value: 0.008646728470921516.\n",
      "Model initialized. Number of Gaussians: 1024\n"
     ]
    },
    {
     "name": "stderr",
     "output_type": "stream",
     "text": [
      "Loss: 0.035 (L1: 0.011, MSE: 0.000, SSIM: 0.019): 100%|\u001b[36m██████\u001b[0m| 1000/1000 [00:08<00:00, 123.19step/s]\u001b[0m\n",
      "[I 2025-01-08 23:50:02,882] Trial 237 finished with value: 0.009840891696512699 and parameters: {'scale_regularization': 0.1, 'opacity_regularization': None, 'extent': 4.0, 'init_scale': 2.0, 'init_opacity': 0.5, 'image_index': 2}. Best is trial 151 with value: 0.008646728470921516.\n"
     ]
    },
    {
     "name": "stdout",
     "output_type": "stream",
     "text": [
      "Final loss: 0.03511493653059006\n",
      "Total Time: Rasterization: 1.104s, Backward: 3.311s\n",
      "Trial 237 finished with value: 0.009840891696512699 and parameters: {'scale_regularization': 0.1, 'opacity_regularization': None, 'extent': 4.0, 'init_scale': 2.0, 'init_opacity': 0.5, 'image_index': 2}. Best is trial 151 with value: 0.008646728470921516.\n",
      "Trial 237 finished with value: 0.009840891696512699 and parameters: {'scale_regularization': 0.1, 'opacity_regularization': None, 'extent': 4.0, 'init_scale': 2.0, 'init_opacity': 0.5, 'image_index': 2}. Best is trial 151 with value: 0.008646728470921516.\n",
      "Model initialized. Number of Gaussians: 1024\n"
     ]
    },
    {
     "name": "stderr",
     "output_type": "stream",
     "text": [
      "Loss: 0.037 (L1: 0.011, MSE: 0.000, SSIM: 0.022): 100%|\u001b[36m██████\u001b[0m| 1000/1000 [00:08<00:00, 119.87step/s]\u001b[0m\n",
      "[I 2025-01-08 23:50:11,833] Trial 238 finished with value: 0.011181210167706013 and parameters: {'scale_regularization': 0.1, 'opacity_regularization': None, 'extent': 4.0, 'init_scale': 2.0, 'init_opacity': 0.5, 'image_index': 2}. Best is trial 151 with value: 0.008646728470921516.\n"
     ]
    },
    {
     "name": "stdout",
     "output_type": "stream",
     "text": [
      "Final loss: 0.03708112984895706\n",
      "Total Time: Rasterization: 1.130s, Backward: 3.390s\n",
      "Trial 238 finished with value: 0.011181210167706013 and parameters: {'scale_regularization': 0.1, 'opacity_regularization': None, 'extent': 4.0, 'init_scale': 2.0, 'init_opacity': 0.5, 'image_index': 2}. Best is trial 151 with value: 0.008646728470921516.\n",
      "Trial 238 finished with value: 0.011181210167706013 and parameters: {'scale_regularization': 0.1, 'opacity_regularization': None, 'extent': 4.0, 'init_scale': 2.0, 'init_opacity': 0.5, 'image_index': 2}. Best is trial 151 with value: 0.008646728470921516.\n",
      "Model initialized. Number of Gaussians: 1024\n"
     ]
    },
    {
     "name": "stderr",
     "output_type": "stream",
     "text": [
      "Loss: 0.037 (L1: 0.012, MSE: 0.001, SSIM: 0.024): 100%|\u001b[36m██████\u001b[0m| 1000/1000 [00:08<00:00, 118.23step/s]\u001b[0m\n",
      "[I 2025-01-08 23:50:20,909] Trial 239 finished with value: 0.011575547978281975 and parameters: {'scale_regularization': 0.1, 'opacity_regularization': None, 'extent': 4.0, 'init_scale': 2.0, 'init_opacity': 0.5, 'image_index': 2}. Best is trial 151 with value: 0.008646728470921516.\n"
     ]
    },
    {
     "name": "stdout",
     "output_type": "stream",
     "text": [
      "Final loss: 0.03667401894927025\n",
      "Total Time: Rasterization: 1.142s, Backward: 3.464s\n",
      "Trial 239 finished with value: 0.011575547978281975 and parameters: {'scale_regularization': 0.1, 'opacity_regularization': None, 'extent': 4.0, 'init_scale': 2.0, 'init_opacity': 0.5, 'image_index': 2}. Best is trial 151 with value: 0.008646728470921516.\n",
      "Trial 239 finished with value: 0.011575547978281975 and parameters: {'scale_regularization': 0.1, 'opacity_regularization': None, 'extent': 4.0, 'init_scale': 2.0, 'init_opacity': 0.5, 'image_index': 2}. Best is trial 151 with value: 0.008646728470921516.\n",
      "Model initialized. Number of Gaussians: 1024\n"
     ]
    },
    {
     "name": "stderr",
     "output_type": "stream",
     "text": [
      "Loss: 0.037 (L1: 0.012, MSE: 0.001, SSIM: 0.022): 100%|\u001b[36m██████\u001b[0m| 1000/1000 [00:08<00:00, 117.26step/s]\u001b[0m\n",
      "[I 2025-01-08 23:50:30,044] Trial 240 finished with value: 0.011730682104825974 and parameters: {'scale_regularization': 0.1, 'opacity_regularization': None, 'extent': 4.0, 'init_scale': 2.0, 'init_opacity': 0.5, 'image_index': 2}. Best is trial 151 with value: 0.008646728470921516.\n"
     ]
    },
    {
     "name": "stdout",
     "output_type": "stream",
     "text": [
      "Final loss: 0.03760528564453125\n",
      "Total Time: Rasterization: 1.159s, Backward: 3.465s\n",
      "Trial 240 finished with value: 0.011730682104825974 and parameters: {'scale_regularization': 0.1, 'opacity_regularization': None, 'extent': 4.0, 'init_scale': 2.0, 'init_opacity': 0.5, 'image_index': 2}. Best is trial 151 with value: 0.008646728470921516.\n",
      "Trial 240 finished with value: 0.011730682104825974 and parameters: {'scale_regularization': 0.1, 'opacity_regularization': None, 'extent': 4.0, 'init_scale': 2.0, 'init_opacity': 0.5, 'image_index': 2}. Best is trial 151 with value: 0.008646728470921516.\n",
      "Model initialized. Number of Gaussians: 1024\n"
     ]
    },
    {
     "name": "stderr",
     "output_type": "stream",
     "text": [
      "Loss: 0.036 (L1: 0.012, MSE: 0.001, SSIM: 0.021): 100%|\u001b[36m██████\u001b[0m| 1000/1000 [00:08<00:00, 118.02step/s]\u001b[0m\n",
      "[I 2025-01-08 23:50:39,106] Trial 241 finished with value: 0.011237764731049538 and parameters: {'scale_regularization': 0.1, 'opacity_regularization': None, 'extent': 4.0, 'init_scale': 2.0, 'init_opacity': 0.5, 'image_index': 2}. Best is trial 151 with value: 0.008646728470921516.\n"
     ]
    },
    {
     "name": "stdout",
     "output_type": "stream",
     "text": [
      "Final loss: 0.03615777939558029\n",
      "Total Time: Rasterization: 1.145s, Backward: 3.435s\n",
      "Trial 241 finished with value: 0.011237764731049538 and parameters: {'scale_regularization': 0.1, 'opacity_regularization': None, 'extent': 4.0, 'init_scale': 2.0, 'init_opacity': 0.5, 'image_index': 2}. Best is trial 151 with value: 0.008646728470921516.\n",
      "Trial 241 finished with value: 0.011237764731049538 and parameters: {'scale_regularization': 0.1, 'opacity_regularization': None, 'extent': 4.0, 'init_scale': 2.0, 'init_opacity': 0.5, 'image_index': 2}. Best is trial 151 with value: 0.008646728470921516.\n",
      "Model initialized. Number of Gaussians: 1024\n"
     ]
    },
    {
     "name": "stderr",
     "output_type": "stream",
     "text": [
      "Loss: 0.036 (L1: 0.011, MSE: 0.000, SSIM: 0.018): 100%|\u001b[36m██████\u001b[0m| 1000/1000 [00:08<00:00, 119.40step/s]\u001b[0m\n",
      "[I 2025-01-08 23:50:48,083] Trial 242 finished with value: 0.009751880541443825 and parameters: {'scale_regularization': 0.1, 'opacity_regularization': None, 'extent': 4.0, 'init_scale': 2.0, 'init_opacity': 0.5, 'image_index': 2}. Best is trial 151 with value: 0.008646728470921516.\n"
     ]
    },
    {
     "name": "stdout",
     "output_type": "stream",
     "text": [
      "Final loss: 0.03550504893064499\n",
      "Total Time: Rasterization: 1.135s, Backward: 3.409s\n",
      "Trial 242 finished with value: 0.009751880541443825 and parameters: {'scale_regularization': 0.1, 'opacity_regularization': None, 'extent': 4.0, 'init_scale': 2.0, 'init_opacity': 0.5, 'image_index': 2}. Best is trial 151 with value: 0.008646728470921516.\n",
      "Trial 242 finished with value: 0.009751880541443825 and parameters: {'scale_regularization': 0.1, 'opacity_regularization': None, 'extent': 4.0, 'init_scale': 2.0, 'init_opacity': 0.5, 'image_index': 2}. Best is trial 151 with value: 0.008646728470921516.\n",
      "Model initialized. Number of Gaussians: 1024\n"
     ]
    },
    {
     "name": "stderr",
     "output_type": "stream",
     "text": [
      "Loss: 0.036 (L1: 0.011, MSE: 0.001, SSIM: 0.020): 100%|\u001b[36m██████\u001b[0m| 1000/1000 [00:08<00:00, 120.53step/s]\u001b[0m\n",
      "[I 2025-01-08 23:50:57,034] Trial 243 finished with value: 0.010795368812978268 and parameters: {'scale_regularization': 0.1, 'opacity_regularization': None, 'extent': 4.0, 'init_scale': 2.0, 'init_opacity': 0.5, 'image_index': 2}. Best is trial 151 with value: 0.008646728470921516.\n"
     ]
    },
    {
     "name": "stdout",
     "output_type": "stream",
     "text": [
      "Final loss: 0.035923123359680176\n",
      "Total Time: Rasterization: 1.124s, Backward: 3.394s\n",
      "Trial 243 finished with value: 0.010795368812978268 and parameters: {'scale_regularization': 0.1, 'opacity_regularization': None, 'extent': 4.0, 'init_scale': 2.0, 'init_opacity': 0.5, 'image_index': 2}. Best is trial 151 with value: 0.008646728470921516.\n",
      "Trial 243 finished with value: 0.010795368812978268 and parameters: {'scale_regularization': 0.1, 'opacity_regularization': None, 'extent': 4.0, 'init_scale': 2.0, 'init_opacity': 0.5, 'image_index': 2}. Best is trial 151 with value: 0.008646728470921516.\n",
      "Model initialized. Number of Gaussians: 1024\n"
     ]
    },
    {
     "name": "stderr",
     "output_type": "stream",
     "text": [
      "Loss: 0.038 (L1: 0.013, MSE: 0.001, SSIM: 0.023): 100%|\u001b[36m██████\u001b[0m| 1000/1000 [00:08<00:00, 120.40step/s]\u001b[0m\n",
      "[I 2025-01-08 23:51:05,939] Trial 244 finished with value: 0.012680215761065483 and parameters: {'scale_regularization': 0.1, 'opacity_regularization': None, 'extent': 4.0, 'init_scale': 2.0, 'init_opacity': 0.5, 'image_index': 2}. Best is trial 151 with value: 0.008646728470921516.\n"
     ]
    },
    {
     "name": "stdout",
     "output_type": "stream",
     "text": [
      "Final loss: 0.03852910175919533\n",
      "Total Time: Rasterization: 1.124s, Backward: 3.404s\n",
      "Trial 244 finished with value: 0.012680215761065483 and parameters: {'scale_regularization': 0.1, 'opacity_regularization': None, 'extent': 4.0, 'init_scale': 2.0, 'init_opacity': 0.5, 'image_index': 2}. Best is trial 151 with value: 0.008646728470921516.\n",
      "Trial 244 finished with value: 0.012680215761065483 and parameters: {'scale_regularization': 0.1, 'opacity_regularization': None, 'extent': 4.0, 'init_scale': 2.0, 'init_opacity': 0.5, 'image_index': 2}. Best is trial 151 with value: 0.008646728470921516.\n",
      "Model initialized. Number of Gaussians: 1024\n"
     ]
    },
    {
     "name": "stderr",
     "output_type": "stream",
     "text": [
      "Loss: 0.036 (L1: 0.011, MSE: 0.000, SSIM: 0.020): 100%|\u001b[36m██████\u001b[0m| 1000/1000 [00:08<00:00, 119.34step/s]\u001b[0m\n",
      "[I 2025-01-08 23:51:14,925] Trial 245 finished with value: 0.01046623196452856 and parameters: {'scale_regularization': 0.1, 'opacity_regularization': None, 'extent': 4.0, 'init_scale': 2.0, 'init_opacity': 0.5, 'image_index': 2}. Best is trial 151 with value: 0.008646728470921516.\n"
     ]
    },
    {
     "name": "stdout",
     "output_type": "stream",
     "text": [
      "Final loss: 0.035719987004995346\n",
      "Total Time: Rasterization: 1.138s, Backward: 3.390s\n",
      "Trial 245 finished with value: 0.01046623196452856 and parameters: {'scale_regularization': 0.1, 'opacity_regularization': None, 'extent': 4.0, 'init_scale': 2.0, 'init_opacity': 0.5, 'image_index': 2}. Best is trial 151 with value: 0.008646728470921516.\n",
      "Trial 245 finished with value: 0.01046623196452856 and parameters: {'scale_regularization': 0.1, 'opacity_regularization': None, 'extent': 4.0, 'init_scale': 2.0, 'init_opacity': 0.5, 'image_index': 2}. Best is trial 151 with value: 0.008646728470921516.\n",
      "Model initialized. Number of Gaussians: 1024\n"
     ]
    },
    {
     "name": "stderr",
     "output_type": "stream",
     "text": [
      "Loss: 0.036 (L1: 0.011, MSE: 0.000, SSIM: 0.020): 100%|\u001b[36m██████\u001b[0m| 1000/1000 [00:08<00:00, 122.21step/s]\u001b[0m\n",
      "[I 2025-01-08 23:51:23,701] Trial 246 finished with value: 0.010532480664551258 and parameters: {'scale_regularization': 0.1, 'opacity_regularization': None, 'extent': 4.0, 'init_scale': 2.0, 'init_opacity': 0.5, 'image_index': 2}. Best is trial 151 with value: 0.008646728470921516.\n"
     ]
    },
    {
     "name": "stdout",
     "output_type": "stream",
     "text": [
      "Final loss: 0.035788148641586304\n",
      "Total Time: Rasterization: 1.115s, Backward: 3.337s\n",
      "Trial 246 finished with value: 0.010532480664551258 and parameters: {'scale_regularization': 0.1, 'opacity_regularization': None, 'extent': 4.0, 'init_scale': 2.0, 'init_opacity': 0.5, 'image_index': 2}. Best is trial 151 with value: 0.008646728470921516.\n",
      "Trial 246 finished with value: 0.010532480664551258 and parameters: {'scale_regularization': 0.1, 'opacity_regularization': None, 'extent': 4.0, 'init_scale': 2.0, 'init_opacity': 0.5, 'image_index': 2}. Best is trial 151 with value: 0.008646728470921516.\n",
      "Model initialized. Number of Gaussians: 1024\n"
     ]
    },
    {
     "name": "stderr",
     "output_type": "stream",
     "text": [
      "Loss: 0.037 (L1: 0.012, MSE: 0.001, SSIM: 0.021): 100%|\u001b[36m██████\u001b[0m| 1000/1000 [00:08<00:00, 123.62step/s]\u001b[0m\n",
      "[I 2025-01-08 23:51:32,399] Trial 247 finished with value: 0.011583313345909119 and parameters: {'scale_regularization': 0.1, 'opacity_regularization': None, 'extent': 4.0, 'init_scale': 2.0, 'init_opacity': 0.5, 'image_index': 2}. Best is trial 151 with value: 0.008646728470921516.\n"
     ]
    },
    {
     "name": "stdout",
     "output_type": "stream",
     "text": [
      "Final loss: 0.03732575476169586\n",
      "Total Time: Rasterization: 1.101s, Backward: 3.330s\n",
      "Trial 247 finished with value: 0.011583313345909119 and parameters: {'scale_regularization': 0.1, 'opacity_regularization': None, 'extent': 4.0, 'init_scale': 2.0, 'init_opacity': 0.5, 'image_index': 2}. Best is trial 151 with value: 0.008646728470921516.\n",
      "Trial 247 finished with value: 0.011583313345909119 and parameters: {'scale_regularization': 0.1, 'opacity_regularization': None, 'extent': 4.0, 'init_scale': 2.0, 'init_opacity': 0.5, 'image_index': 2}. Best is trial 151 with value: 0.008646728470921516.\n",
      "Model initialized. Number of Gaussians: 1024\n"
     ]
    },
    {
     "name": "stderr",
     "output_type": "stream",
     "text": [
      "Loss: 0.035 (L1: 0.011, MSE: 0.000, SSIM: 0.019): 100%|\u001b[36m██████\u001b[0m| 1000/1000 [00:08<00:00, 120.72step/s]\u001b[0m\n",
      "[I 2025-01-08 23:51:41,292] Trial 248 finished with value: 0.0100252078846097 and parameters: {'scale_regularization': 0.1, 'opacity_regularization': None, 'extent': 4.0, 'init_scale': 2.0, 'init_opacity': 0.5, 'image_index': 2}. Best is trial 151 with value: 0.008646728470921516.\n"
     ]
    },
    {
     "name": "stdout",
     "output_type": "stream",
     "text": [
      "Final loss: 0.035114873200654984\n",
      "Total Time: Rasterization: 1.125s, Backward: 3.397s\n",
      "Trial 248 finished with value: 0.0100252078846097 and parameters: {'scale_regularization': 0.1, 'opacity_regularization': None, 'extent': 4.0, 'init_scale': 2.0, 'init_opacity': 0.5, 'image_index': 2}. Best is trial 151 with value: 0.008646728470921516.\n",
      "Trial 248 finished with value: 0.0100252078846097 and parameters: {'scale_regularization': 0.1, 'opacity_regularization': None, 'extent': 4.0, 'init_scale': 2.0, 'init_opacity': 0.5, 'image_index': 2}. Best is trial 151 with value: 0.008646728470921516.\n",
      "Model initialized. Number of Gaussians: 1024\n"
     ]
    },
    {
     "name": "stderr",
     "output_type": "stream",
     "text": [
      "Loss: 0.035 (L1: 0.011, MSE: 0.000, SSIM: 0.020): 100%|\u001b[36m██████\u001b[0m| 1000/1000 [00:08<00:00, 119.93step/s]\u001b[0m\n",
      "[I 2025-01-08 23:51:50,238] Trial 249 finished with value: 0.010351144708693027 and parameters: {'scale_regularization': 0.1, 'opacity_regularization': None, 'extent': 4.0, 'init_scale': 2.0, 'init_opacity': 0.5, 'image_index': 2}. Best is trial 151 with value: 0.008646728470921516.\n"
     ]
    },
    {
     "name": "stdout",
     "output_type": "stream",
     "text": [
      "Final loss: 0.035007428377866745\n",
      "Total Time: Rasterization: 1.127s, Backward: 3.414s\n",
      "Trial 249 finished with value: 0.010351144708693027 and parameters: {'scale_regularization': 0.1, 'opacity_regularization': None, 'extent': 4.0, 'init_scale': 2.0, 'init_opacity': 0.5, 'image_index': 2}. Best is trial 151 with value: 0.008646728470921516.\n",
      "Trial 249 finished with value: 0.010351144708693027 and parameters: {'scale_regularization': 0.1, 'opacity_regularization': None, 'extent': 4.0, 'init_scale': 2.0, 'init_opacity': 0.5, 'image_index': 2}. Best is trial 151 with value: 0.008646728470921516.\n",
      "Model initialized. Number of Gaussians: 1024\n"
     ]
    },
    {
     "name": "stderr",
     "output_type": "stream",
     "text": [
      "Loss: 0.035 (L1: 0.010, MSE: 0.000, SSIM: 0.019): 100%|\u001b[36m██████\u001b[0m| 1000/1000 [00:08<00:00, 118.70step/s]\u001b[0m\n",
      "[I 2025-01-08 23:51:59,256] Trial 250 finished with value: 0.009671038016676903 and parameters: {'scale_regularization': 0.1, 'opacity_regularization': None, 'extent': 4.0, 'init_scale': 2.0, 'init_opacity': 0.5, 'image_index': 2}. Best is trial 151 with value: 0.008646728470921516.\n"
     ]
    },
    {
     "name": "stdout",
     "output_type": "stream",
     "text": [
      "Final loss: 0.034859322011470795\n",
      "Total Time: Rasterization: 1.132s, Backward: 3.406s\n",
      "Trial 250 finished with value: 0.009671038016676903 and parameters: {'scale_regularization': 0.1, 'opacity_regularization': None, 'extent': 4.0, 'init_scale': 2.0, 'init_opacity': 0.5, 'image_index': 2}. Best is trial 151 with value: 0.008646728470921516.\n",
      "Trial 250 finished with value: 0.009671038016676903 and parameters: {'scale_regularization': 0.1, 'opacity_regularization': None, 'extent': 4.0, 'init_scale': 2.0, 'init_opacity': 0.5, 'image_index': 2}. Best is trial 151 with value: 0.008646728470921516.\n",
      "Model initialized. Number of Gaussians: 1024\n"
     ]
    },
    {
     "name": "stderr",
     "output_type": "stream",
     "text": [
      "Loss: 0.036 (L1: 0.011, MSE: 0.000, SSIM: 0.019): 100%|\u001b[36m██████\u001b[0m| 1000/1000 [00:08<00:00, 117.92step/s]\u001b[0m\n",
      "[I 2025-01-08 23:52:08,340] Trial 251 finished with value: 0.009716160595417023 and parameters: {'scale_regularization': 0.1, 'opacity_regularization': None, 'extent': 4.0, 'init_scale': 2.0, 'init_opacity': 0.7, 'image_index': 2}. Best is trial 151 with value: 0.008646728470921516.\n"
     ]
    },
    {
     "name": "stdout",
     "output_type": "stream",
     "text": [
      "Final loss: 0.03524935245513916\n",
      "Total Time: Rasterization: 1.147s, Backward: 3.451s\n",
      "Trial 251 finished with value: 0.009716160595417023 and parameters: {'scale_regularization': 0.1, 'opacity_regularization': None, 'extent': 4.0, 'init_scale': 2.0, 'init_opacity': 0.7, 'image_index': 2}. Best is trial 151 with value: 0.008646728470921516.\n",
      "Trial 251 finished with value: 0.009716160595417023 and parameters: {'scale_regularization': 0.1, 'opacity_regularization': None, 'extent': 4.0, 'init_scale': 2.0, 'init_opacity': 0.7, 'image_index': 2}. Best is trial 151 with value: 0.008646728470921516.\n",
      "Model initialized. Number of Gaussians: 1024\n"
     ]
    },
    {
     "name": "stderr",
     "output_type": "stream",
     "text": [
      "Loss: 0.036 (L1: 0.011, MSE: 0.000, SSIM: 0.019): 100%|\u001b[36m██████\u001b[0m| 1000/1000 [00:08<00:00, 121.87step/s]\u001b[0m\n",
      "[I 2025-01-08 23:52:17,147] Trial 252 finished with value: 0.009965457953512669 and parameters: {'scale_regularization': 0.1, 'opacity_regularization': None, 'extent': 4.0, 'init_scale': 2.0, 'init_opacity': 0.7, 'image_index': 2}. Best is trial 151 with value: 0.008646728470921516.\n"
     ]
    },
    {
     "name": "stdout",
     "output_type": "stream",
     "text": [
      "Final loss: 0.035989876836538315\n",
      "Total Time: Rasterization: 1.119s, Backward: 3.358s\n",
      "Trial 252 finished with value: 0.009965457953512669 and parameters: {'scale_regularization': 0.1, 'opacity_regularization': None, 'extent': 4.0, 'init_scale': 2.0, 'init_opacity': 0.7, 'image_index': 2}. Best is trial 151 with value: 0.008646728470921516.\n",
      "Trial 252 finished with value: 0.009965457953512669 and parameters: {'scale_regularization': 0.1, 'opacity_regularization': None, 'extent': 4.0, 'init_scale': 2.0, 'init_opacity': 0.7, 'image_index': 2}. Best is trial 151 with value: 0.008646728470921516.\n",
      "Model initialized. Number of Gaussians: 1024\n"
     ]
    },
    {
     "name": "stderr",
     "output_type": "stream",
     "text": [
      "Loss: 0.533 (L1: 0.040, MSE: 0.004, SSIM: 0.118): 100%|\u001b[36m██████\u001b[0m| 1000/1000 [00:08<00:00, 115.46step/s]\u001b[0m\n",
      "[I 2025-01-08 23:52:26,431] Trial 253 finished with value: 0.05416332185268402 and parameters: {'scale_regularization': 1.0, 'opacity_regularization': 1.0, 'extent': 4.0, 'init_scale': 4.0, 'init_opacity': 0.7, 'image_index': 2}. Best is trial 151 with value: 0.008646728470921516.\n"
     ]
    },
    {
     "name": "stdout",
     "output_type": "stream",
     "text": [
      "Final loss: 0.5300897359848022\n",
      "Total Time: Rasterization: 1.143s, Backward: 3.539s\n",
      "Trial 253 finished with value: 0.05416332185268402 and parameters: {'scale_regularization': 1.0, 'opacity_regularization': 1.0, 'extent': 4.0, 'init_scale': 4.0, 'init_opacity': 0.7, 'image_index': 2}. Best is trial 151 with value: 0.008646728470921516.\n",
      "Trial 253 finished with value: 0.05416332185268402 and parameters: {'scale_regularization': 1.0, 'opacity_regularization': 1.0, 'extent': 4.0, 'init_scale': 4.0, 'init_opacity': 0.7, 'image_index': 2}. Best is trial 151 with value: 0.008646728470921516.\n",
      "Model initialized. Number of Gaussians: 1024\n"
     ]
    },
    {
     "name": "stderr",
     "output_type": "stream",
     "text": [
      "Loss: 0.039 (L1: 0.012, MSE: 0.001, SSIM: 0.025): 100%|\u001b[36m██████\u001b[0m| 1000/1000 [00:08<00:00, 118.35step/s]\u001b[0m\n",
      "[I 2025-01-08 23:52:35,482] Trial 254 finished with value: 0.01285142358392477 and parameters: {'scale_regularization': 0.1, 'opacity_regularization': None, 'extent': 4.0, 'init_scale': 2.0, 'init_opacity': 0.7, 'image_index': 2}. Best is trial 151 with value: 0.008646728470921516.\n"
     ]
    },
    {
     "name": "stdout",
     "output_type": "stream",
     "text": [
      "Final loss: 0.038902949541807175\n",
      "Total Time: Rasterization: 1.149s, Backward: 3.448s\n",
      "Trial 254 finished with value: 0.01285142358392477 and parameters: {'scale_regularization': 0.1, 'opacity_regularization': None, 'extent': 4.0, 'init_scale': 2.0, 'init_opacity': 0.7, 'image_index': 2}. Best is trial 151 with value: 0.008646728470921516.\n",
      "Trial 254 finished with value: 0.01285142358392477 and parameters: {'scale_regularization': 0.1, 'opacity_regularization': None, 'extent': 4.0, 'init_scale': 2.0, 'init_opacity': 0.7, 'image_index': 2}. Best is trial 151 with value: 0.008646728470921516.\n",
      "Model initialized. Number of Gaussians: 1024\n"
     ]
    },
    {
     "name": "stderr",
     "output_type": "stream",
     "text": [
      "Loss: 0.038 (L1: 0.012, MSE: 0.001, SSIM: 0.021): 100%|\u001b[36m██████\u001b[0m| 1000/1000 [00:08<00:00, 121.62step/s]\u001b[0m\n",
      "[I 2025-01-08 23:52:44,308] Trial 255 finished with value: 0.01200893521308899 and parameters: {'scale_regularization': 0.1, 'opacity_regularization': None, 'extent': 4.0, 'init_scale': 2.0, 'init_opacity': 0.7, 'image_index': 2}. Best is trial 151 with value: 0.008646728470921516.\n"
     ]
    },
    {
     "name": "stdout",
     "output_type": "stream",
     "text": [
      "Final loss: 0.03841714933514595\n",
      "Total Time: Rasterization: 1.117s, Backward: 3.351s\n",
      "Trial 255 finished with value: 0.01200893521308899 and parameters: {'scale_regularization': 0.1, 'opacity_regularization': None, 'extent': 4.0, 'init_scale': 2.0, 'init_opacity': 0.7, 'image_index': 2}. Best is trial 151 with value: 0.008646728470921516.\n",
      "Trial 255 finished with value: 0.01200893521308899 and parameters: {'scale_regularization': 0.1, 'opacity_regularization': None, 'extent': 4.0, 'init_scale': 2.0, 'init_opacity': 0.7, 'image_index': 2}. Best is trial 151 with value: 0.008646728470921516.\n",
      "Model initialized. Number of Gaussians: 1024\n"
     ]
    },
    {
     "name": "stderr",
     "output_type": "stream",
     "text": [
      "Loss: 0.037 (L1: 0.011, MSE: 0.001, SSIM: 0.021): 100%|\u001b[36m██████\u001b[0m| 1000/1000 [00:08<00:00, 119.40step/s]\u001b[0m\n",
      "[I 2025-01-08 23:52:53,279] Trial 256 finished with value: 0.011027464643120766 and parameters: {'scale_regularization': 0.1, 'opacity_regularization': None, 'extent': 4.0, 'init_scale': 2.0, 'init_opacity': 0.7, 'image_index': 2}. Best is trial 151 with value: 0.008646728470921516.\n"
     ]
    },
    {
     "name": "stdout",
     "output_type": "stream",
     "text": [
      "Final loss: 0.037017181515693665\n",
      "Total Time: Rasterization: 1.128s, Backward: 3.401s\n",
      "Trial 256 finished with value: 0.011027464643120766 and parameters: {'scale_regularization': 0.1, 'opacity_regularization': None, 'extent': 4.0, 'init_scale': 2.0, 'init_opacity': 0.7, 'image_index': 2}. Best is trial 151 with value: 0.008646728470921516.\n",
      "Trial 256 finished with value: 0.011027464643120766 and parameters: {'scale_regularization': 0.1, 'opacity_regularization': None, 'extent': 4.0, 'init_scale': 2.0, 'init_opacity': 0.7, 'image_index': 2}. Best is trial 151 with value: 0.008646728470921516.\n",
      "Model initialized. Number of Gaussians: 1024\n"
     ]
    },
    {
     "name": "stderr",
     "output_type": "stream",
     "text": [
      "Loss: 0.037 (L1: 0.012, MSE: 0.001, SSIM: 0.022): 100%|\u001b[36m██████\u001b[0m| 1000/1000 [00:08<00:00, 119.36step/s]\u001b[0m\n",
      "[I 2025-01-08 23:53:02,250] Trial 257 finished with value: 0.011045470833778381 and parameters: {'scale_regularization': 0.1, 'opacity_regularization': None, 'extent': 4.0, 'init_scale': 2.0, 'init_opacity': 0.7, 'image_index': 2}. Best is trial 151 with value: 0.008646728470921516.\n"
     ]
    },
    {
     "name": "stdout",
     "output_type": "stream",
     "text": [
      "Final loss: 0.03688505291938782\n",
      "Total Time: Rasterization: 1.136s, Backward: 3.415s\n",
      "Trial 257 finished with value: 0.011045470833778381 and parameters: {'scale_regularization': 0.1, 'opacity_regularization': None, 'extent': 4.0, 'init_scale': 2.0, 'init_opacity': 0.7, 'image_index': 2}. Best is trial 151 with value: 0.008646728470921516.\n",
      "Trial 257 finished with value: 0.011045470833778381 and parameters: {'scale_regularization': 0.1, 'opacity_regularization': None, 'extent': 4.0, 'init_scale': 2.0, 'init_opacity': 0.7, 'image_index': 2}. Best is trial 151 with value: 0.008646728470921516.\n",
      "Model initialized. Number of Gaussians: 1024\n"
     ]
    },
    {
     "name": "stderr",
     "output_type": "stream",
     "text": [
      "Loss: 0.035 (L1: 0.011, MSE: 0.000, SSIM: 0.018): 100%|\u001b[36m██████\u001b[0m| 1000/1000 [00:08<00:00, 120.56step/s]\u001b[0m\n",
      "[I 2025-01-08 23:53:11,153] Trial 258 finished with value: 0.009644834324717522 and parameters: {'scale_regularization': 0.1, 'opacity_regularization': None, 'extent': 4.0, 'init_scale': 2.0, 'init_opacity': 0.7, 'image_index': 2}. Best is trial 151 with value: 0.008646728470921516.\n"
     ]
    },
    {
     "name": "stdout",
     "output_type": "stream",
     "text": [
      "Final loss: 0.03518890589475632\n",
      "Total Time: Rasterization: 1.123s, Backward: 3.376s\n",
      "Trial 258 finished with value: 0.009644834324717522 and parameters: {'scale_regularization': 0.1, 'opacity_regularization': None, 'extent': 4.0, 'init_scale': 2.0, 'init_opacity': 0.7, 'image_index': 2}. Best is trial 151 with value: 0.008646728470921516.\n",
      "Trial 258 finished with value: 0.009644834324717522 and parameters: {'scale_regularization': 0.1, 'opacity_regularization': None, 'extent': 4.0, 'init_scale': 2.0, 'init_opacity': 0.7, 'image_index': 2}. Best is trial 151 with value: 0.008646728470921516.\n",
      "Model initialized. Number of Gaussians: 1024\n"
     ]
    },
    {
     "name": "stderr",
     "output_type": "stream",
     "text": [
      "Loss: 0.036 (L1: 0.011, MSE: 0.000, SSIM: 0.019): 100%|\u001b[36m██████\u001b[0m| 1000/1000 [00:08<00:00, 119.23step/s]\u001b[0m\n",
      "[I 2025-01-08 23:53:20,168] Trial 259 finished with value: 0.010118436068296432 and parameters: {'scale_regularization': 0.1, 'opacity_regularization': None, 'extent': 4.0, 'init_scale': 2.0, 'init_opacity': 0.7, 'image_index': 2}. Best is trial 151 with value: 0.008646728470921516.\n"
     ]
    },
    {
     "name": "stdout",
     "output_type": "stream",
     "text": [
      "Final loss: 0.035658665001392365\n",
      "Total Time: Rasterization: 1.137s, Backward: 3.400s\n",
      "Trial 259 finished with value: 0.010118436068296432 and parameters: {'scale_regularization': 0.1, 'opacity_regularization': None, 'extent': 4.0, 'init_scale': 2.0, 'init_opacity': 0.7, 'image_index': 2}. Best is trial 151 with value: 0.008646728470921516.\n",
      "Trial 259 finished with value: 0.010118436068296432 and parameters: {'scale_regularization': 0.1, 'opacity_regularization': None, 'extent': 4.0, 'init_scale': 2.0, 'init_opacity': 0.7, 'image_index': 2}. Best is trial 151 with value: 0.008646728470921516.\n",
      "Model initialized. Number of Gaussians: 1024\n"
     ]
    },
    {
     "name": "stderr",
     "output_type": "stream",
     "text": [
      "Loss: 0.036 (L1: 0.011, MSE: 0.000, SSIM: 0.017): 100%|\u001b[36m██████\u001b[0m| 1000/1000 [00:08<00:00, 117.75step/s]\u001b[0m\n",
      "[I 2025-01-08 23:53:29,275] Trial 260 finished with value: 0.009606598876416683 and parameters: {'scale_regularization': 0.1, 'opacity_regularization': None, 'extent': 4.0, 'init_scale': 2.0, 'init_opacity': 0.7, 'image_index': 2}. Best is trial 151 with value: 0.008646728470921516.\n"
     ]
    },
    {
     "name": "stdout",
     "output_type": "stream",
     "text": [
      "Final loss: 0.035543251782655716\n",
      "Total Time: Rasterization: 1.153s, Backward: 3.459s\n",
      "Trial 260 finished with value: 0.009606598876416683 and parameters: {'scale_regularization': 0.1, 'opacity_regularization': None, 'extent': 4.0, 'init_scale': 2.0, 'init_opacity': 0.7, 'image_index': 2}. Best is trial 151 with value: 0.008646728470921516.\n",
      "Trial 260 finished with value: 0.009606598876416683 and parameters: {'scale_regularization': 0.1, 'opacity_regularization': None, 'extent': 4.0, 'init_scale': 2.0, 'init_opacity': 0.7, 'image_index': 2}. Best is trial 151 with value: 0.008646728470921516.\n",
      "Model initialized. Number of Gaussians: 1024\n"
     ]
    },
    {
     "name": "stderr",
     "output_type": "stream",
     "text": [
      "Loss: 0.073 (L1: 0.027, MSE: 0.002, SSIM: 0.109): 100%|\u001b[36m██████\u001b[0m| 1000/1000 [00:08<00:00, 119.12step/s]\u001b[0m\n",
      "[I 2025-01-08 23:53:38,262] Trial 261 finished with value: 0.04604364559054375 and parameters: {'scale_regularization': 0.1, 'opacity_regularization': None, 'extent': 4.0, 'init_scale': 2.0, 'init_opacity': 0.7, 'image_index': 0}. Best is trial 151 with value: 0.008646728470921516.\n"
     ]
    },
    {
     "name": "stdout",
     "output_type": "stream",
     "text": [
      "Final loss: 0.07321087270975113\n",
      "Total Time: Rasterization: 1.144s, Backward: 3.440s\n",
      "Trial 261 finished with value: 0.04604364559054375 and parameters: {'scale_regularization': 0.1, 'opacity_regularization': None, 'extent': 4.0, 'init_scale': 2.0, 'init_opacity': 0.7, 'image_index': 0}. Best is trial 151 with value: 0.008646728470921516.\n",
      "Trial 261 finished with value: 0.04604364559054375 and parameters: {'scale_regularization': 0.1, 'opacity_regularization': None, 'extent': 4.0, 'init_scale': 2.0, 'init_opacity': 0.7, 'image_index': 0}. Best is trial 151 with value: 0.008646728470921516.\n",
      "Model initialized. Number of Gaussians: 1024\n"
     ]
    },
    {
     "name": "stderr",
     "output_type": "stream",
     "text": [
      "Loss: 0.037 (L1: 0.011, MSE: 0.000, SSIM: 0.021): 100%|\u001b[36m██████\u001b[0m| 1000/1000 [00:08<00:00, 121.73step/s]\u001b[0m\n",
      "[I 2025-01-08 23:53:47,095] Trial 262 finished with value: 0.01107240840792656 and parameters: {'scale_regularization': 0.1, 'opacity_regularization': None, 'extent': 4.0, 'init_scale': 2.0, 'init_opacity': 0.7, 'image_index': 2}. Best is trial 151 with value: 0.008646728470921516.\n"
     ]
    },
    {
     "name": "stdout",
     "output_type": "stream",
     "text": [
      "Final loss: 0.036825962364673615\n",
      "Total Time: Rasterization: 1.113s, Backward: 3.371s\n",
      "Trial 262 finished with value: 0.01107240840792656 and parameters: {'scale_regularization': 0.1, 'opacity_regularization': None, 'extent': 4.0, 'init_scale': 2.0, 'init_opacity': 0.7, 'image_index': 2}. Best is trial 151 with value: 0.008646728470921516.\n",
      "Trial 262 finished with value: 0.01107240840792656 and parameters: {'scale_regularization': 0.1, 'opacity_regularization': None, 'extent': 4.0, 'init_scale': 2.0, 'init_opacity': 0.7, 'image_index': 2}. Best is trial 151 with value: 0.008646728470921516.\n",
      "Model initialized. Number of Gaussians: 1024\n"
     ]
    },
    {
     "name": "stderr",
     "output_type": "stream",
     "text": [
      "Loss: 0.070 (L1: 0.021, MSE: 0.001, SSIM: 0.053): 100%|\u001b[36m██████\u001b[0m| 1000/1000 [00:08<00:00, 115.07step/s]\u001b[0m\n",
      "[I 2025-01-08 23:53:56,400] Trial 263 finished with value: 0.02510773204267025 and parameters: {'scale_regularization': 0.1, 'opacity_regularization': 0.1, 'extent': 4.0, 'init_scale': 2.0, 'init_opacity': 0.7, 'image_index': 2}. Best is trial 151 with value: 0.008646728470921516.\n"
     ]
    },
    {
     "name": "stdout",
     "output_type": "stream",
     "text": [
      "Final loss: 0.06983882933855057\n",
      "Total Time: Rasterization: 1.145s, Backward: 3.505s\n",
      "Trial 263 finished with value: 0.02510773204267025 and parameters: {'scale_regularization': 0.1, 'opacity_regularization': 0.1, 'extent': 4.0, 'init_scale': 2.0, 'init_opacity': 0.7, 'image_index': 2}. Best is trial 151 with value: 0.008646728470921516.\n",
      "Trial 263 finished with value: 0.02510773204267025 and parameters: {'scale_regularization': 0.1, 'opacity_regularization': 0.1, 'extent': 4.0, 'init_scale': 2.0, 'init_opacity': 0.7, 'image_index': 2}. Best is trial 151 with value: 0.008646728470921516.\n",
      "Model initialized. Number of Gaussians: 1024\n"
     ]
    },
    {
     "name": "stderr",
     "output_type": "stream",
     "text": [
      "Loss: 0.037 (L1: 0.011, MSE: 0.000, SSIM: 0.020): 100%|\u001b[36m██████\u001b[0m| 1000/1000 [00:08<00:00, 118.06step/s]\u001b[0m\n",
      "[I 2025-01-08 23:54:05,474] Trial 264 finished with value: 0.01040620543062687 and parameters: {'scale_regularization': 0.1, 'opacity_regularization': None, 'extent': 4.0, 'init_scale': 2.0, 'init_opacity': 0.7, 'image_index': 2}. Best is trial 151 with value: 0.008646728470921516.\n"
     ]
    },
    {
     "name": "stdout",
     "output_type": "stream",
     "text": [
      "Final loss: 0.036797136068344116\n",
      "Total Time: Rasterization: 1.140s, Backward: 3.475s\n",
      "Trial 264 finished with value: 0.01040620543062687 and parameters: {'scale_regularization': 0.1, 'opacity_regularization': None, 'extent': 4.0, 'init_scale': 2.0, 'init_opacity': 0.7, 'image_index': 2}. Best is trial 151 with value: 0.008646728470921516.\n",
      "Trial 264 finished with value: 0.01040620543062687 and parameters: {'scale_regularization': 0.1, 'opacity_regularization': None, 'extent': 4.0, 'init_scale': 2.0, 'init_opacity': 0.7, 'image_index': 2}. Best is trial 151 with value: 0.008646728470921516.\n",
      "Model initialized. Number of Gaussians: 1024\n"
     ]
    },
    {
     "name": "stderr",
     "output_type": "stream",
     "text": [
      "Loss: 0.036 (L1: 0.012, MSE: 0.001, SSIM: 0.021): 100%|\u001b[36m██████\u001b[0m| 1000/1000 [00:08<00:00, 117.57step/s]\u001b[0m\n",
      "[I 2025-01-08 23:54:14,592] Trial 265 finished with value: 0.01082107424736023 and parameters: {'scale_regularization': 0.1, 'opacity_regularization': None, 'extent': 4.0, 'init_scale': 2.0, 'init_opacity': 0.6, 'image_index': 2}. Best is trial 151 with value: 0.008646728470921516.\n"
     ]
    },
    {
     "name": "stdout",
     "output_type": "stream",
     "text": [
      "Final loss: 0.03596258908510208\n",
      "Total Time: Rasterization: 1.149s, Backward: 3.476s\n",
      "Trial 265 finished with value: 0.01082107424736023 and parameters: {'scale_regularization': 0.1, 'opacity_regularization': None, 'extent': 4.0, 'init_scale': 2.0, 'init_opacity': 0.6, 'image_index': 2}. Best is trial 151 with value: 0.008646728470921516.\n",
      "Trial 265 finished with value: 0.01082107424736023 and parameters: {'scale_regularization': 0.1, 'opacity_regularization': None, 'extent': 4.0, 'init_scale': 2.0, 'init_opacity': 0.6, 'image_index': 2}. Best is trial 151 with value: 0.008646728470921516.\n",
      "Model initialized. Number of Gaussians: 1024\n"
     ]
    },
    {
     "name": "stderr",
     "output_type": "stream",
     "text": [
      "Loss: 0.037 (L1: 0.011, MSE: 0.000, SSIM: 0.021): 100%|\u001b[36m██████\u001b[0m| 1000/1000 [00:08<00:00, 120.28step/s]\u001b[0m\n",
      "[I 2025-01-08 23:54:23,511] Trial 266 finished with value: 0.010805750265717506 and parameters: {'scale_regularization': 0.1, 'opacity_regularization': None, 'extent': 4.0, 'init_scale': 2.0, 'init_opacity': 0.7, 'image_index': 2}. Best is trial 151 with value: 0.008646728470921516.\n"
     ]
    },
    {
     "name": "stdout",
     "output_type": "stream",
     "text": [
      "Final loss: 0.03651687875390053\n",
      "Total Time: Rasterization: 1.135s, Backward: 3.400s\n",
      "Trial 266 finished with value: 0.010805750265717506 and parameters: {'scale_regularization': 0.1, 'opacity_regularization': None, 'extent': 4.0, 'init_scale': 2.0, 'init_opacity': 0.7, 'image_index': 2}. Best is trial 151 with value: 0.008646728470921516.\n",
      "Trial 266 finished with value: 0.010805750265717506 and parameters: {'scale_regularization': 0.1, 'opacity_regularization': None, 'extent': 4.0, 'init_scale': 2.0, 'init_opacity': 0.7, 'image_index': 2}. Best is trial 151 with value: 0.008646728470921516.\n",
      "Model initialized. Number of Gaussians: 1024\n"
     ]
    },
    {
     "name": "stderr",
     "output_type": "stream",
     "text": [
      "Loss: 0.036 (L1: 0.011, MSE: 0.000, SSIM: 0.019): 100%|\u001b[36m██████\u001b[0m| 1000/1000 [00:08<00:00, 119.10step/s]\u001b[0m\n",
      "[I 2025-01-08 23:54:32,515] Trial 267 finished with value: 0.009962871670722961 and parameters: {'scale_regularization': 0.1, 'opacity_regularization': None, 'extent': 4.0, 'init_scale': 2.0, 'init_opacity': 0.7, 'image_index': 2}. Best is trial 151 with value: 0.008646728470921516.\n"
     ]
    },
    {
     "name": "stdout",
     "output_type": "stream",
     "text": [
      "Final loss: 0.035286083817481995\n",
      "Total Time: Rasterization: 1.137s, Backward: 3.420s\n",
      "Trial 267 finished with value: 0.009962871670722961 and parameters: {'scale_regularization': 0.1, 'opacity_regularization': None, 'extent': 4.0, 'init_scale': 2.0, 'init_opacity': 0.7, 'image_index': 2}. Best is trial 151 with value: 0.008646728470921516.\n",
      "Trial 267 finished with value: 0.009962871670722961 and parameters: {'scale_regularization': 0.1, 'opacity_regularization': None, 'extent': 4.0, 'init_scale': 2.0, 'init_opacity': 0.7, 'image_index': 2}. Best is trial 151 with value: 0.008646728470921516.\n",
      "Model initialized. Number of Gaussians: 1024\n"
     ]
    },
    {
     "name": "stderr",
     "output_type": "stream",
     "text": [
      "Loss: 0.169 (L1: 0.069, MSE: 0.009, SSIM: 0.250): 100%|\u001b[36m██████\u001b[0m| 1000/1000 [00:08<00:00, 111.93step/s]\u001b[0m\n",
      "[I 2025-01-08 23:54:42,050] Trial 268 finished with value: 0.10869108140468597 and parameters: {'scale_regularization': 0.1, 'opacity_regularization': 0.5, 'extent': 4.0, 'init_scale': 2.0, 'init_opacity': 0.7, 'image_index': 1}. Best is trial 151 with value: 0.008646728470921516.\n"
     ]
    },
    {
     "name": "stdout",
     "output_type": "stream",
     "text": [
      "Final loss: 0.16856960952281952\n",
      "Total Time: Rasterization: 1.169s, Backward: 3.745s\n",
      "Trial 268 finished with value: 0.10869108140468597 and parameters: {'scale_regularization': 0.1, 'opacity_regularization': 0.5, 'extent': 4.0, 'init_scale': 2.0, 'init_opacity': 0.7, 'image_index': 1}. Best is trial 151 with value: 0.008646728470921516.\n",
      "Trial 268 finished with value: 0.10869108140468597 and parameters: {'scale_regularization': 0.1, 'opacity_regularization': 0.5, 'extent': 4.0, 'init_scale': 2.0, 'init_opacity': 0.7, 'image_index': 1}. Best is trial 151 with value: 0.008646728470921516.\n",
      "Model initialized. Number of Gaussians: 1024\n"
     ]
    },
    {
     "name": "stderr",
     "output_type": "stream",
     "text": [
      "Loss: 0.036 (L1: 0.012, MSE: 0.000, SSIM: 0.020): 100%|\u001b[36m██████\u001b[0m| 1000/1000 [00:08<00:00, 121.36step/s]\u001b[0m\n",
      "[I 2025-01-08 23:54:50,893] Trial 269 finished with value: 0.010382510721683502 and parameters: {'scale_regularization': 0.1, 'opacity_regularization': None, 'extent': 4.0, 'init_scale': 2.0, 'init_opacity': 0.7, 'image_index': 2}. Best is trial 151 with value: 0.008646728470921516.\n"
     ]
    },
    {
     "name": "stdout",
     "output_type": "stream",
     "text": [
      "Final loss: 0.03552475571632385\n",
      "Total Time: Rasterization: 1.116s, Backward: 3.371s\n",
      "Trial 269 finished with value: 0.010382510721683502 and parameters: {'scale_regularization': 0.1, 'opacity_regularization': None, 'extent': 4.0, 'init_scale': 2.0, 'init_opacity': 0.7, 'image_index': 2}. Best is trial 151 with value: 0.008646728470921516.\n",
      "Trial 269 finished with value: 0.010382510721683502 and parameters: {'scale_regularization': 0.1, 'opacity_regularization': None, 'extent': 4.0, 'init_scale': 2.0, 'init_opacity': 0.7, 'image_index': 2}. Best is trial 151 with value: 0.008646728470921516.\n",
      "Model initialized. Number of Gaussians: 1024\n"
     ]
    },
    {
     "name": "stderr",
     "output_type": "stream",
     "text": [
      "Loss: 0.484 (L1: 0.188, MSE: 0.049, SSIM: 0.571):   7%|\u001b[36m▌       \u001b[0m| 71/1000 [00:00<00:06, 134.16step/s]\u001b[0m\n",
      "[W 2025-01-08 23:54:52,018] Trial 270 failed with parameters: {'scale_regularization': 0.1, 'opacity_regularization': None, 'extent': 4.0, 'init_scale': 2.0, 'init_opacity': 0.7, 'image_index': 2} because of the following error: KeyboardInterrupt().\n",
      "Traceback (most recent call last):\n",
      "  File \"/home/h/harjesruiloba/miniforge3/envs/nerfstudio/lib/python3.8/site-packages/optuna/study/_optimize.py\", line 197, in _run_trial\n",
      "    value_or_values = func(trial)\n",
      "  File \"/tmp/user/22473/ipykernel_2012958/1870793656.py\", line 80, in objective_w_grid_2\n",
      "    result = trainer.train()\n",
      "  File \"/home/h/harjesruiloba/Projects/visual-representation-learning/models/gaussian_image_trainer.py\", line 555, in train\n",
      "    * torch.abs(torch.exp(self.splats[\"scales\"])).mean()\n",
      "KeyboardInterrupt\n"
     ]
    },
    {
     "name": "stdout",
     "output_type": "stream",
     "text": [
      "Trial 270 failed with parameters: {'scale_regularization': 0.1, 'opacity_regularization': None, 'extent': 4.0, 'init_scale': 2.0, 'init_opacity': 0.7, 'image_index': 2} because of the following error: KeyboardInterrupt().\n",
      "Traceback (most recent call last):\n",
      "  File \"/home/h/harjesruiloba/miniforge3/envs/nerfstudio/lib/python3.8/site-packages/optuna/study/_optimize.py\", line 197, in _run_trial\n",
      "    value_or_values = func(trial)\n",
      "  File \"/tmp/user/22473/ipykernel_2012958/1870793656.py\", line 80, in objective_w_grid_2\n",
      "    result = trainer.train()\n",
      "  File \"/home/h/harjesruiloba/Projects/visual-representation-learning/models/gaussian_image_trainer.py\", line 555, in train\n",
      "    * torch.abs(torch.exp(self.splats[\"scales\"])).mean()\n",
      "KeyboardInterrupt\n",
      "Trial 270 failed with parameters: {'scale_regularization': 0.1, 'opacity_regularization': None, 'extent': 4.0, 'init_scale': 2.0, 'init_opacity': 0.7, 'image_index': 2} because of the following error: KeyboardInterrupt().\n",
      "Traceback (most recent call last):\n",
      "  File \"/home/h/harjesruiloba/miniforge3/envs/nerfstudio/lib/python3.8/site-packages/optuna/study/_optimize.py\", line 197, in _run_trial\n",
      "    value_or_values = func(trial)\n",
      "  File \"/tmp/user/22473/ipykernel_2012958/1870793656.py\", line 80, in objective_w_grid_2\n",
      "    result = trainer.train()\n",
      "  File \"/home/h/harjesruiloba/Projects/visual-representation-learning/models/gaussian_image_trainer.py\", line 555, in train\n",
      "    * torch.abs(torch.exp(self.splats[\"scales\"])).mean()\n",
      "KeyboardInterrupt\n"
     ]
    },
    {
     "name": "stderr",
     "output_type": "stream",
     "text": [
      "[W 2025-01-08 23:54:52,021] Trial 270 failed with value None.\n"
     ]
    },
    {
     "name": "stdout",
     "output_type": "stream",
     "text": [
      "Trial 270 failed with value None.\n",
      "Trial 270 failed with value None.\n"
     ]
    },
    {
     "ename": "KeyboardInterrupt",
     "evalue": "",
     "output_type": "error",
     "traceback": [
      "\u001b[0;31m---------------------------------------------------------------------------\u001b[0m",
      "\u001b[0;31mKeyboardInterrupt\u001b[0m                         Traceback (most recent call last)",
      "\u001b[0;32m/tmp/user/22473/ipykernel_2012958/4211724180.py\u001b[0m in \u001b[0;36m<cell line: 1>\u001b[0;34m()\u001b[0m\n\u001b[0;32m----> 1\u001b[0;31m \u001b[0mstudy_w_grid\u001b[0m\u001b[0;34m.\u001b[0m\u001b[0moptimize\u001b[0m\u001b[0;34m(\u001b[0m\u001b[0mobjective_w_grid_2\u001b[0m\u001b[0;34m,\u001b[0m \u001b[0mn_trials\u001b[0m\u001b[0;34m=\u001b[0m\u001b[0;36m1000\u001b[0m\u001b[0;34m,\u001b[0m \u001b[0mn_jobs\u001b[0m\u001b[0;34m=\u001b[0m\u001b[0;36m1\u001b[0m\u001b[0;34m,\u001b[0m \u001b[0mtimeout\u001b[0m\u001b[0;34m=\u001b[0m\u001b[0;36m3600\u001b[0m\u001b[0;34m)\u001b[0m\u001b[0;34m\u001b[0m\u001b[0;34m\u001b[0m\u001b[0m\n\u001b[0m",
      "\u001b[0;32m~/miniforge3/envs/nerfstudio/lib/python3.8/site-packages/optuna/study/study.py\u001b[0m in \u001b[0;36moptimize\u001b[0;34m(self, func, n_trials, timeout, n_jobs, catch, callbacks, gc_after_trial, show_progress_bar)\u001b[0m\n\u001b[1;32m    473\u001b[0m                 \u001b[0mIf\u001b[0m \u001b[0mnested\u001b[0m \u001b[0minvocation\u001b[0m \u001b[0mof\u001b[0m \u001b[0mthis\u001b[0m \u001b[0mmethod\u001b[0m \u001b[0moccurs\u001b[0m\u001b[0;34m.\u001b[0m\u001b[0;34m\u001b[0m\u001b[0;34m\u001b[0m\u001b[0m\n\u001b[1;32m    474\u001b[0m         \"\"\"\n\u001b[0;32m--> 475\u001b[0;31m         _optimize(\n\u001b[0m\u001b[1;32m    476\u001b[0m             \u001b[0mstudy\u001b[0m\u001b[0;34m=\u001b[0m\u001b[0mself\u001b[0m\u001b[0;34m,\u001b[0m\u001b[0;34m\u001b[0m\u001b[0;34m\u001b[0m\u001b[0m\n\u001b[1;32m    477\u001b[0m             \u001b[0mfunc\u001b[0m\u001b[0;34m=\u001b[0m\u001b[0mfunc\u001b[0m\u001b[0;34m,\u001b[0m\u001b[0;34m\u001b[0m\u001b[0;34m\u001b[0m\u001b[0m\n",
      "\u001b[0;32m~/miniforge3/envs/nerfstudio/lib/python3.8/site-packages/optuna/study/_optimize.py\u001b[0m in \u001b[0;36m_optimize\u001b[0;34m(study, func, n_trials, timeout, n_jobs, catch, callbacks, gc_after_trial, show_progress_bar)\u001b[0m\n\u001b[1;32m     61\u001b[0m     \u001b[0;32mtry\u001b[0m\u001b[0;34m:\u001b[0m\u001b[0;34m\u001b[0m\u001b[0;34m\u001b[0m\u001b[0m\n\u001b[1;32m     62\u001b[0m         \u001b[0;32mif\u001b[0m \u001b[0mn_jobs\u001b[0m \u001b[0;34m==\u001b[0m \u001b[0;36m1\u001b[0m\u001b[0;34m:\u001b[0m\u001b[0;34m\u001b[0m\u001b[0;34m\u001b[0m\u001b[0m\n\u001b[0;32m---> 63\u001b[0;31m             _optimize_sequential(\n\u001b[0m\u001b[1;32m     64\u001b[0m                 \u001b[0mstudy\u001b[0m\u001b[0;34m,\u001b[0m\u001b[0;34m\u001b[0m\u001b[0;34m\u001b[0m\u001b[0m\n\u001b[1;32m     65\u001b[0m                 \u001b[0mfunc\u001b[0m\u001b[0;34m,\u001b[0m\u001b[0;34m\u001b[0m\u001b[0;34m\u001b[0m\u001b[0m\n",
      "\u001b[0;32m~/miniforge3/envs/nerfstudio/lib/python3.8/site-packages/optuna/study/_optimize.py\u001b[0m in \u001b[0;36m_optimize_sequential\u001b[0;34m(study, func, n_trials, timeout, catch, callbacks, gc_after_trial, reseed_sampler_rng, time_start, progress_bar)\u001b[0m\n\u001b[1;32m    158\u001b[0m \u001b[0;34m\u001b[0m\u001b[0m\n\u001b[1;32m    159\u001b[0m         \u001b[0;32mtry\u001b[0m\u001b[0;34m:\u001b[0m\u001b[0;34m\u001b[0m\u001b[0;34m\u001b[0m\u001b[0m\n\u001b[0;32m--> 160\u001b[0;31m             \u001b[0mfrozen_trial\u001b[0m \u001b[0;34m=\u001b[0m \u001b[0m_run_trial\u001b[0m\u001b[0;34m(\u001b[0m\u001b[0mstudy\u001b[0m\u001b[0;34m,\u001b[0m \u001b[0mfunc\u001b[0m\u001b[0;34m,\u001b[0m \u001b[0mcatch\u001b[0m\u001b[0;34m)\u001b[0m\u001b[0;34m\u001b[0m\u001b[0;34m\u001b[0m\u001b[0m\n\u001b[0m\u001b[1;32m    161\u001b[0m         \u001b[0;32mfinally\u001b[0m\u001b[0;34m:\u001b[0m\u001b[0;34m\u001b[0m\u001b[0;34m\u001b[0m\u001b[0m\n\u001b[1;32m    162\u001b[0m             \u001b[0;31m# The following line mitigates memory problems that can be occurred in some\u001b[0m\u001b[0;34m\u001b[0m\u001b[0;34m\u001b[0m\u001b[0;34m\u001b[0m\u001b[0m\n",
      "\u001b[0;32m~/miniforge3/envs/nerfstudio/lib/python3.8/site-packages/optuna/study/_optimize.py\u001b[0m in \u001b[0;36m_run_trial\u001b[0;34m(study, func, catch)\u001b[0m\n\u001b[1;32m    246\u001b[0m         \u001b[0;32mand\u001b[0m \u001b[0;32mnot\u001b[0m \u001b[0misinstance\u001b[0m\u001b[0;34m(\u001b[0m\u001b[0mfunc_err\u001b[0m\u001b[0;34m,\u001b[0m \u001b[0mcatch\u001b[0m\u001b[0;34m)\u001b[0m\u001b[0;34m\u001b[0m\u001b[0;34m\u001b[0m\u001b[0m\n\u001b[1;32m    247\u001b[0m     ):\n\u001b[0;32m--> 248\u001b[0;31m         \u001b[0;32mraise\u001b[0m \u001b[0mfunc_err\u001b[0m\u001b[0;34m\u001b[0m\u001b[0;34m\u001b[0m\u001b[0m\n\u001b[0m\u001b[1;32m    249\u001b[0m     \u001b[0;32mreturn\u001b[0m \u001b[0mfrozen_trial\u001b[0m\u001b[0;34m\u001b[0m\u001b[0;34m\u001b[0m\u001b[0m\n\u001b[1;32m    250\u001b[0m \u001b[0;34m\u001b[0m\u001b[0m\n",
      "\u001b[0;32m~/miniforge3/envs/nerfstudio/lib/python3.8/site-packages/optuna/study/_optimize.py\u001b[0m in \u001b[0;36m_run_trial\u001b[0;34m(study, func, catch)\u001b[0m\n\u001b[1;32m    195\u001b[0m     \u001b[0;32mwith\u001b[0m \u001b[0mget_heartbeat_thread\u001b[0m\u001b[0;34m(\u001b[0m\u001b[0mtrial\u001b[0m\u001b[0;34m.\u001b[0m\u001b[0m_trial_id\u001b[0m\u001b[0;34m,\u001b[0m \u001b[0mstudy\u001b[0m\u001b[0;34m.\u001b[0m\u001b[0m_storage\u001b[0m\u001b[0;34m)\u001b[0m\u001b[0;34m:\u001b[0m\u001b[0;34m\u001b[0m\u001b[0;34m\u001b[0m\u001b[0m\n\u001b[1;32m    196\u001b[0m         \u001b[0;32mtry\u001b[0m\u001b[0;34m:\u001b[0m\u001b[0;34m\u001b[0m\u001b[0;34m\u001b[0m\u001b[0m\n\u001b[0;32m--> 197\u001b[0;31m             \u001b[0mvalue_or_values\u001b[0m \u001b[0;34m=\u001b[0m \u001b[0mfunc\u001b[0m\u001b[0;34m(\u001b[0m\u001b[0mtrial\u001b[0m\u001b[0;34m)\u001b[0m\u001b[0;34m\u001b[0m\u001b[0;34m\u001b[0m\u001b[0m\n\u001b[0m\u001b[1;32m    198\u001b[0m         \u001b[0;32mexcept\u001b[0m \u001b[0mexceptions\u001b[0m\u001b[0;34m.\u001b[0m\u001b[0mTrialPruned\u001b[0m \u001b[0;32mas\u001b[0m \u001b[0me\u001b[0m\u001b[0;34m:\u001b[0m\u001b[0;34m\u001b[0m\u001b[0;34m\u001b[0m\u001b[0m\n\u001b[1;32m    199\u001b[0m             \u001b[0;31m# TODO(mamu): Handle multi-objective cases.\u001b[0m\u001b[0;34m\u001b[0m\u001b[0;34m\u001b[0m\u001b[0;34m\u001b[0m\u001b[0m\n",
      "\u001b[0;32m/tmp/user/22473/ipykernel_2012958/1870793656.py\u001b[0m in \u001b[0;36mobjective_w_grid_2\u001b[0;34m(trial)\u001b[0m\n\u001b[1;32m     78\u001b[0m     \u001b[0;31m# Initialize and train the model\u001b[0m\u001b[0;34m\u001b[0m\u001b[0;34m\u001b[0m\u001b[0;34m\u001b[0m\u001b[0m\n\u001b[1;32m     79\u001b[0m     \u001b[0mtrainer\u001b[0m \u001b[0;34m=\u001b[0m \u001b[0mGaussianImageTrainer\u001b[0m\u001b[0;34m(\u001b[0m\u001b[0mcfg\u001b[0m\u001b[0;34m)\u001b[0m\u001b[0;34m\u001b[0m\u001b[0;34m\u001b[0m\u001b[0m\n\u001b[0;32m---> 80\u001b[0;31m     \u001b[0mresult\u001b[0m \u001b[0;34m=\u001b[0m \u001b[0mtrainer\u001b[0m\u001b[0;34m.\u001b[0m\u001b[0mtrain\u001b[0m\u001b[0;34m(\u001b[0m\u001b[0;34m)\u001b[0m\u001b[0;34m\u001b[0m\u001b[0;34m\u001b[0m\u001b[0m\n\u001b[0m\u001b[1;32m     81\u001b[0m \u001b[0;34m\u001b[0m\u001b[0m\n\u001b[1;32m     82\u001b[0m     \u001b[0;31m# Evaluate generated image quality (e.g., L1 loss with ground truth)\u001b[0m\u001b[0;34m\u001b[0m\u001b[0;34m\u001b[0m\u001b[0;34m\u001b[0m\u001b[0m\n",
      "\u001b[0;32m~/Projects/visual-representation-learning/models/gaussian_image_trainer.py\u001b[0m in \u001b[0;36mtrain\u001b[0;34m(self)\u001b[0m\n\u001b[1;32m    553\u001b[0m                     \u001b[0mloss\u001b[0m\u001b[0;34m\u001b[0m\u001b[0;34m\u001b[0m\u001b[0m\n\u001b[1;32m    554\u001b[0m                     \u001b[0;34m+\u001b[0m \u001b[0mcfg\u001b[0m\u001b[0;34m.\u001b[0m\u001b[0mscale_regularization\u001b[0m\u001b[0;34m\u001b[0m\u001b[0;34m\u001b[0m\u001b[0m\n\u001b[0;32m--> 555\u001b[0;31m                     \u001b[0;34m*\u001b[0m \u001b[0mtorch\u001b[0m\u001b[0;34m.\u001b[0m\u001b[0mabs\u001b[0m\u001b[0;34m(\u001b[0m\u001b[0mtorch\u001b[0m\u001b[0;34m.\u001b[0m\u001b[0mexp\u001b[0m\u001b[0;34m(\u001b[0m\u001b[0mself\u001b[0m\u001b[0;34m.\u001b[0m\u001b[0msplats\u001b[0m\u001b[0;34m[\u001b[0m\u001b[0;34m\"scales\"\u001b[0m\u001b[0;34m]\u001b[0m\u001b[0;34m)\u001b[0m\u001b[0;34m)\u001b[0m\u001b[0;34m.\u001b[0m\u001b[0mmean\u001b[0m\u001b[0;34m(\u001b[0m\u001b[0;34m)\u001b[0m\u001b[0;34m\u001b[0m\u001b[0;34m\u001b[0m\u001b[0m\n\u001b[0m\u001b[1;32m    556\u001b[0m                 )\n\u001b[1;32m    557\u001b[0m             \u001b[0;32mif\u001b[0m \u001b[0mcfg\u001b[0m\u001b[0;34m.\u001b[0m\u001b[0mopacity_regularization\u001b[0m\u001b[0;34m:\u001b[0m\u001b[0;34m\u001b[0m\u001b[0;34m\u001b[0m\u001b[0m\n",
      "\u001b[0;31mKeyboardInterrupt\u001b[0m: "
     ]
    }
   ],
   "source": [
    "study_w_grid.optimize(objective_w_grid_2, n_trials=1000, n_jobs=1, timeout=3600)"
   ]
  },
  {
   "cell_type": "code",
   "execution_count": 19,
   "metadata": {},
   "outputs": [
    {
     "data": {
      "text/plain": [
       "FrozenTrial(number=151, state=TrialState.COMPLETE, values=[0.008646728470921516], datetime_start=datetime.datetime(2025, 1, 8, 23, 37, 4, 48667), datetime_complete=datetime.datetime(2025, 1, 8, 23, 37, 13, 201682), params={'scale_regularization': 0.1, 'opacity_regularization': None, 'extent': 4.0, 'init_scale': 2.0, 'init_opacity': 0.5, 'image_index': 2}, user_attrs={}, system_attrs={}, intermediate_values={}, distributions={'scale_regularization': CategoricalDistribution(choices=(None, 0.1, 0.5, 1.0)), 'opacity_regularization': CategoricalDistribution(choices=(None, 0.1, 0.5, 1.0)), 'extent': CategoricalDistribution(choices=(1.0, 2.0, 4.0)), 'init_scale': CategoricalDistribution(choices=(2.0, 3.0, 4.0)), 'init_opacity': CategoricalDistribution(choices=(0.5, 0.6, 0.7)), 'image_index': CategoricalDistribution(choices=(0, 1, 2, 3))}, trial_id=152, value=None)"
      ]
     },
     "execution_count": 19,
     "metadata": {},
     "output_type": "execute_result"
    }
   ],
   "source": [
    "study_w_grid.best_trial"
   ]
  },
  {
   "cell_type": "code",
   "execution_count": 10,
   "metadata": {},
   "outputs": [
    {
     "data": {
      "text/plain": [
       "328"
      ]
     },
     "execution_count": 10,
     "metadata": {},
     "output_type": "execute_result"
    }
   ],
   "source": [
    "len(study_w_grid.trials)"
   ]
  },
  {
   "cell_type": "code",
   "execution_count": null,
   "metadata": {},
   "outputs": [],
   "source": []
  }
 ],
 "metadata": {
  "kernelspec": {
   "display_name": "nerfstudio",
   "language": "python",
   "name": "python3"
  },
  "language_info": {
   "codemirror_mode": {
    "name": "ipython",
    "version": 3
   },
   "file_extension": ".py",
   "mimetype": "text/x-python",
   "name": "python",
   "nbconvert_exporter": "python",
   "pygments_lexer": "ipython3",
   "version": "3.8.20"
  }
 },
 "nbformat": 4,
 "nbformat_minor": 2
}
