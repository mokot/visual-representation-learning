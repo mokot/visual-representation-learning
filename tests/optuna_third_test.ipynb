{
 "cells": [
  {
   "cell_type": "code",
   "execution_count": 1,
   "metadata": {},
   "outputs": [],
   "source": [
    "# Hack to always autoreload modules and avoid restarting the kernel each time\n",
    "\n",
    "%load_ext autoreload\n",
    "%autoreload 2\n",
    "%reload_ext autoreload"
   ]
  },
  {
   "cell_type": "code",
   "execution_count": 2,
   "metadata": {},
   "outputs": [],
   "source": [
    "# Note: This is a hack to allow importing from the parent directory\n",
    "import sys\n",
    "from pathlib import Path\n",
    "\n",
    "sys.path.append(str(Path().resolve().parent))"
   ]
  },
  {
   "cell_type": "code",
   "execution_count": 3,
   "metadata": {},
   "outputs": [
    {
     "name": "stderr",
     "output_type": "stream",
     "text": [
      "/home/h/harjesruiloba/miniforge3/envs/nerfstudio/lib/python3.8/site-packages/tqdm/auto.py:21: TqdmWarning: IProgress not found. Please update jupyter and ipywidgets. See https://ipywidgets.readthedocs.io/en/stable/user_install.html\n",
      "  from .autonotebook import tqdm as notebook_tqdm\n"
     ]
    }
   ],
   "source": [
    "import optuna\n",
    "import torch\n",
    "from models.gaussian_image_trainer import GaussianImageTrainer\n",
    "from configs import Config\n",
    "from utils.search_space import is_valid_combination"
   ]
  },
  {
   "cell_type": "code",
   "execution_count": 4,
   "metadata": {},
   "outputs": [
    {
     "name": "stdout",
     "output_type": "stream",
     "text": [
      "Files already downloaded and verified\n"
     ]
    }
   ],
   "source": [
    "import torchvision\n",
    "from constants import CIFAR10_TRANSFORM\n",
    "from utils.data import create_default_image\n",
    "from utils import visualize_tensor\n",
    "\n",
    "# Only used one image for the first tuning\n",
    "dataset = torchvision.datasets.CIFAR10(root=\"./data\", download=True)\n",
    "# cifar_image = CIFAR10_TRANSFORM(dataset[2][0])\n",
    "cifar_imgs = [CIFAR10_TRANSFORM(dataset[i][0]) for i in range(4)]\n",
    "visualize_tensor(cifar_imgs[1])"
   ]
  },
  {
   "cell_type": "code",
   "execution_count": 5,
   "metadata": {},
   "outputs": [],
   "source": [
    "import logging\n",
    "import sys"
   ]
  },
  {
   "cell_type": "code",
   "execution_count": 6,
   "metadata": {},
   "outputs": [
    {
     "name": "stderr",
     "output_type": "stream",
     "text": [
      "Error: no \"view\" rule for type \"image/png\" passed its test case\n",
      "       (for more information, add \"--debug=1\" on the command line)\n"
     ]
    },
    {
     "name": "stderr",
     "output_type": "stream",
     "text": [
      "[I 2025-01-08 22:47:28,837] Using an existing study with name 'study-w-grid-2' instead of creating a new one.\n"
     ]
    },
    {
     "name": "stdout",
     "output_type": "stream",
     "text": [
      "Using an existing study with name 'study-w-grid-2' instead of creating a new one.\n"
     ]
    }
   ],
   "source": [
    "# New experiments with some key learnings:]\n",
    "# 1. LR 0.01 seems to be the best.\n",
    "# 2. Max Steps 2000 is better than 1000, larger values are not much better.\n",
    "# 3. Init Type: KNN is the best, Grid is still interesting for other reasons (AE), don't use random. \n",
    "# 4. Model Type: 2dgs is superior\n",
    "# 5. More points is better, but 32x32 is already very good.\n",
    "# 6. Init Scale 2.0 is clearly the best, bigger values might also be good but were not tested.\n",
    "# 7. Init Opacity between 0.5 and 0.75 is the best.\n",
    "# 8. Scale Regulation 0.1 is the best.\n",
    "# 9. Opacity Regulation 0.5 is the best.\n",
    "# 10. Extent 2 and 4 are similar, 1 is worse.\n",
    "\n",
    "# Add stream handler of stdout to show the messages\n",
    "optuna.logging.get_logger(\"optuna\").addHandler(logging.StreamHandler(sys.stdout))\n",
    "study_name_grid = \"study-w-grid-2\"  # Unique identifier of the study.\n",
    "storage_name_grid = \"sqlite:///{}.db\".format(study_name_grid)\n",
    "study_w_grid = optuna.create_study(study_name=study_name_grid, storage=storage_name_grid, load_if_exists=True)"
   ]
  },
  {
   "cell_type": "code",
   "execution_count": 11,
   "metadata": {},
   "outputs": [],
   "source": [
    "def objective_w_grid_2(trial: optuna.Trial) -> float:\n",
    "    \"\"\"\n",
    "    Objective function for Optuna hyperparameter optimization.\n",
    "\n",
    "    Args:\n",
    "        trial (optuna.Trial): The trial object used to suggest hyperparameters.\n",
    "\n",
    "    Returns:\n",
    "        float: The evaluation metric to minimize (e.g., validation loss).\n",
    "    \"\"\"\n",
    "    # Conditional sampling\n",
    "    # group_optimization = trial.suggest_categorical(\"group_optimization\", [True, False])\n",
    "    # strategy = None\n",
    "    group_optimization = True # For now, as having default strategy was causing an error\n",
    "    if not group_optimization:\n",
    "        strategy = trial.suggest_categorical(\"strategy\", [\"default\", \"mcmc\"])\n",
    "\n",
    "    # Hyperparameter suggestions\n",
    "    loss_weights = [\n",
    "        1/3,\n",
    "        1/3,\n",
    "        1/3,\n",
    "    ]\n",
    "\n",
    "    scale_regularization = trial.suggest_categorical(\"scale_regularization\", [None, 0.1, 0.5, 1.0])\n",
    "    opacity_regularization = trial.suggest_categorical(\"opacity_regularization\", [None, 0.1, 0.5, 1.0])\n",
    "\n",
    "    # init_type = trial.suggest_categorical(\"init_type\", [\"grid\", \"knn\"])\n",
    "    init_type = \"grid\"  # Focus on the option with a fixed grid for this study\n",
    "    num_points = 32*32\n",
    "    extent = trial.suggest_categorical(\"extent\", [1.0, 2.0, 4.0])\n",
    "    init_scale = trial.suggest_categorical(\"init_scale\", [2.0, 3.0, 4.0])\n",
    "    init_opacity = trial.suggest_categorical(\"init_opacity\", [0.5, 0.6, 0.7])\n",
    "\n",
    "    max_steps = 1000\n",
    "    learning_rate = 0.01\n",
    "\n",
    "    model_type = \"2dgs\"  # Left out \"2dgs-inria\" as it needed further dependencies\n",
    "    bilateral_grid = False\n",
    "\n",
    "    image_index = trial.suggest_categorical(\"image_index\", [0, 1, 2, 3])\n",
    "\n",
    "    if not is_valid_combination({\n",
    "        \"learning_rate\": learning_rate,\n",
    "        \"loss_weights\": loss_weights,\n",
    "        \"group_optimization\": group_optimization,\n",
    "        # \"strategy\": strategy,\n",
    "        \"learning_rate\": learning_rate,\n",
    "        \"model_type\": model_type,\n",
    "        \"bilateral_grid\": bilateral_grid,\n",
    "    }, GaussianImageTrainer):\n",
    "        raise optuna.exceptions.TrialPruned(\"Invalid hyperparameter combination\")\n",
    "\n",
    "    # Create Config object\n",
    "    cfg = Config(\n",
    "        \n",
    "        seed=42,\n",
    "        image=cifar_imgs[image_index],  # Replace with actual ground truth image tensor\n",
    "        max_steps=max_steps,\n",
    "        learning_rate=learning_rate,\n",
    "        loss_weights=loss_weights,\n",
    "        init_type=init_type,\n",
    "        num_points=num_points,\n",
    "        init_scale=init_scale,\n",
    "        init_opacity=init_opacity,\n",
    "        # Fixed, added these:\n",
    "        scale_regularization=scale_regularization,\n",
    "        opacity_regularization=opacity_regularization,\n",
    "        extent=extent,\n",
    "        group_optimization=group_optimization,\n",
    "        # strategy=strategy,\n",
    "        model_type=model_type,\n",
    "        # bilateral_grid=bilateral_grid,\n",
    "        bilateral_grid=False\n",
    "    )\n",
    "\n",
    "    # Initialize and train the model\n",
    "    trainer = GaussianImageTrainer(cfg)\n",
    "    result = trainer.train()\n",
    "\n",
    "    # Evaluate generated image quality (e.g., L1 loss with ground truth)\n",
    "    generated_image = result.cpu()  # Replace with actual rendered output\n",
    "    ground_truth_image = cfg.image.cpu()\n",
    "    # evaluation_metric = torch.nn.functional.l1_loss(generated_image, ground_truth_image)  # Old version\n",
    "    evaluation_metric = trainer.l1_loss * 1/3 + trainer.mse_loss * 1/3 + trainer.ssim_loss * 1/3  # Simply take average as loss\n",
    "\n",
    "    return evaluation_metric.item()"
   ]
  },
  {
   "cell_type": "code",
   "execution_count": 12,
   "metadata": {},
   "outputs": [
    {
     "name": "stderr",
     "output_type": "stream",
     "text": [
      "[W 2025-01-08 22:55:22,348] Trial 2 failed with parameters: {'scale_regularization': None, 'opacity_regularization': 1.0, 'extent': 4.0, 'init_scale': 2.0, 'init_opacity': 0.5, 'image_index': 3} because of the following error: Exception('No GPU available. `gpsplat` requires a GPU to train.').\n",
      "Traceback (most recent call last):\n",
      "  File \"/home/h/harjesruiloba/miniforge3/envs/nerfstudio/lib/python3.8/site-packages/optuna/study/_optimize.py\", line 197, in _run_trial\n",
      "    value_or_values = func(trial)\n",
      "  File \"/tmp/user/22473/ipykernel_2122290/3286051834.py\", line 78, in objective_w_grid_2\n",
      "    trainer = GaussianImageTrainer(cfg)\n",
      "  File \"/home/h/harjesruiloba/Projects/visual-representation-learning/models/gaussian_image_trainer.py\", line 42, in __init__\n",
      "    raise Exception(\"No GPU available. `gpsplat` requires a GPU to train.\")\n",
      "Exception: No GPU available. `gpsplat` requires a GPU to train.\n"
     ]
    },
    {
     "name": "stdout",
     "output_type": "stream",
     "text": [
      "Trial 2 failed with parameters: {'scale_regularization': None, 'opacity_regularization': 1.0, 'extent': 4.0, 'init_scale': 2.0, 'init_opacity': 0.5, 'image_index': 3} because of the following error: Exception('No GPU available. `gpsplat` requires a GPU to train.').\n",
      "Traceback (most recent call last):\n",
      "  File \"/home/h/harjesruiloba/miniforge3/envs/nerfstudio/lib/python3.8/site-packages/optuna/study/_optimize.py\", line 197, in _run_trial\n",
      "    value_or_values = func(trial)\n",
      "  File \"/tmp/user/22473/ipykernel_2122290/3286051834.py\", line 78, in objective_w_grid_2\n",
      "    trainer = GaussianImageTrainer(cfg)\n",
      "  File \"/home/h/harjesruiloba/Projects/visual-representation-learning/models/gaussian_image_trainer.py\", line 42, in __init__\n",
      "    raise Exception(\"No GPU available. `gpsplat` requires a GPU to train.\")\n",
      "Exception: No GPU available. `gpsplat` requires a GPU to train.\n"
     ]
    },
    {
     "name": "stderr",
     "output_type": "stream",
     "text": [
      "[W 2025-01-08 22:55:22,351] Trial 2 failed with value None.\n"
     ]
    },
    {
     "name": "stdout",
     "output_type": "stream",
     "text": [
      "Trial 2 failed with value None.\n"
     ]
    },
    {
     "ename": "Exception",
     "evalue": "No GPU available. `gpsplat` requires a GPU to train.",
     "output_type": "error",
     "traceback": [
      "\u001b[0;31m---------------------------------------------------------------------------\u001b[0m",
      "\u001b[0;31mException\u001b[0m                                 Traceback (most recent call last)",
      "\u001b[0;32m/tmp/user/22473/ipykernel_2122290/4211724180.py\u001b[0m in \u001b[0;36m<cell line: 1>\u001b[0;34m()\u001b[0m\n\u001b[0;32m----> 1\u001b[0;31m \u001b[0mstudy_w_grid\u001b[0m\u001b[0;34m.\u001b[0m\u001b[0moptimize\u001b[0m\u001b[0;34m(\u001b[0m\u001b[0mobjective_w_grid_2\u001b[0m\u001b[0;34m,\u001b[0m \u001b[0mn_trials\u001b[0m\u001b[0;34m=\u001b[0m\u001b[0;36m1000\u001b[0m\u001b[0;34m,\u001b[0m \u001b[0mn_jobs\u001b[0m\u001b[0;34m=\u001b[0m\u001b[0;36m1\u001b[0m\u001b[0;34m,\u001b[0m \u001b[0mtimeout\u001b[0m\u001b[0;34m=\u001b[0m\u001b[0;36m3600\u001b[0m\u001b[0;34m)\u001b[0m\u001b[0;34m\u001b[0m\u001b[0;34m\u001b[0m\u001b[0m\n\u001b[0m",
      "\u001b[0;32m~/miniforge3/envs/nerfstudio/lib/python3.8/site-packages/optuna/study/study.py\u001b[0m in \u001b[0;36moptimize\u001b[0;34m(self, func, n_trials, timeout, n_jobs, catch, callbacks, gc_after_trial, show_progress_bar)\u001b[0m\n\u001b[1;32m    473\u001b[0m                 \u001b[0mIf\u001b[0m \u001b[0mnested\u001b[0m \u001b[0minvocation\u001b[0m \u001b[0mof\u001b[0m \u001b[0mthis\u001b[0m \u001b[0mmethod\u001b[0m \u001b[0moccurs\u001b[0m\u001b[0;34m.\u001b[0m\u001b[0;34m\u001b[0m\u001b[0;34m\u001b[0m\u001b[0m\n\u001b[1;32m    474\u001b[0m         \"\"\"\n\u001b[0;32m--> 475\u001b[0;31m         _optimize(\n\u001b[0m\u001b[1;32m    476\u001b[0m             \u001b[0mstudy\u001b[0m\u001b[0;34m=\u001b[0m\u001b[0mself\u001b[0m\u001b[0;34m,\u001b[0m\u001b[0;34m\u001b[0m\u001b[0;34m\u001b[0m\u001b[0m\n\u001b[1;32m    477\u001b[0m             \u001b[0mfunc\u001b[0m\u001b[0;34m=\u001b[0m\u001b[0mfunc\u001b[0m\u001b[0;34m,\u001b[0m\u001b[0;34m\u001b[0m\u001b[0;34m\u001b[0m\u001b[0m\n",
      "\u001b[0;32m~/miniforge3/envs/nerfstudio/lib/python3.8/site-packages/optuna/study/_optimize.py\u001b[0m in \u001b[0;36m_optimize\u001b[0;34m(study, func, n_trials, timeout, n_jobs, catch, callbacks, gc_after_trial, show_progress_bar)\u001b[0m\n\u001b[1;32m     61\u001b[0m     \u001b[0;32mtry\u001b[0m\u001b[0;34m:\u001b[0m\u001b[0;34m\u001b[0m\u001b[0;34m\u001b[0m\u001b[0m\n\u001b[1;32m     62\u001b[0m         \u001b[0;32mif\u001b[0m \u001b[0mn_jobs\u001b[0m \u001b[0;34m==\u001b[0m \u001b[0;36m1\u001b[0m\u001b[0;34m:\u001b[0m\u001b[0;34m\u001b[0m\u001b[0;34m\u001b[0m\u001b[0m\n\u001b[0;32m---> 63\u001b[0;31m             _optimize_sequential(\n\u001b[0m\u001b[1;32m     64\u001b[0m                 \u001b[0mstudy\u001b[0m\u001b[0;34m,\u001b[0m\u001b[0;34m\u001b[0m\u001b[0;34m\u001b[0m\u001b[0m\n\u001b[1;32m     65\u001b[0m                 \u001b[0mfunc\u001b[0m\u001b[0;34m,\u001b[0m\u001b[0;34m\u001b[0m\u001b[0;34m\u001b[0m\u001b[0m\n",
      "\u001b[0;32m~/miniforge3/envs/nerfstudio/lib/python3.8/site-packages/optuna/study/_optimize.py\u001b[0m in \u001b[0;36m_optimize_sequential\u001b[0;34m(study, func, n_trials, timeout, catch, callbacks, gc_after_trial, reseed_sampler_rng, time_start, progress_bar)\u001b[0m\n\u001b[1;32m    158\u001b[0m \u001b[0;34m\u001b[0m\u001b[0m\n\u001b[1;32m    159\u001b[0m         \u001b[0;32mtry\u001b[0m\u001b[0;34m:\u001b[0m\u001b[0;34m\u001b[0m\u001b[0;34m\u001b[0m\u001b[0m\n\u001b[0;32m--> 160\u001b[0;31m             \u001b[0mfrozen_trial\u001b[0m \u001b[0;34m=\u001b[0m \u001b[0m_run_trial\u001b[0m\u001b[0;34m(\u001b[0m\u001b[0mstudy\u001b[0m\u001b[0;34m,\u001b[0m \u001b[0mfunc\u001b[0m\u001b[0;34m,\u001b[0m \u001b[0mcatch\u001b[0m\u001b[0;34m)\u001b[0m\u001b[0;34m\u001b[0m\u001b[0;34m\u001b[0m\u001b[0m\n\u001b[0m\u001b[1;32m    161\u001b[0m         \u001b[0;32mfinally\u001b[0m\u001b[0;34m:\u001b[0m\u001b[0;34m\u001b[0m\u001b[0;34m\u001b[0m\u001b[0m\n\u001b[1;32m    162\u001b[0m             \u001b[0;31m# The following line mitigates memory problems that can be occurred in some\u001b[0m\u001b[0;34m\u001b[0m\u001b[0;34m\u001b[0m\u001b[0;34m\u001b[0m\u001b[0m\n",
      "\u001b[0;32m~/miniforge3/envs/nerfstudio/lib/python3.8/site-packages/optuna/study/_optimize.py\u001b[0m in \u001b[0;36m_run_trial\u001b[0;34m(study, func, catch)\u001b[0m\n\u001b[1;32m    246\u001b[0m         \u001b[0;32mand\u001b[0m \u001b[0;32mnot\u001b[0m \u001b[0misinstance\u001b[0m\u001b[0;34m(\u001b[0m\u001b[0mfunc_err\u001b[0m\u001b[0;34m,\u001b[0m \u001b[0mcatch\u001b[0m\u001b[0;34m)\u001b[0m\u001b[0;34m\u001b[0m\u001b[0;34m\u001b[0m\u001b[0m\n\u001b[1;32m    247\u001b[0m     ):\n\u001b[0;32m--> 248\u001b[0;31m         \u001b[0;32mraise\u001b[0m \u001b[0mfunc_err\u001b[0m\u001b[0;34m\u001b[0m\u001b[0;34m\u001b[0m\u001b[0m\n\u001b[0m\u001b[1;32m    249\u001b[0m     \u001b[0;32mreturn\u001b[0m \u001b[0mfrozen_trial\u001b[0m\u001b[0;34m\u001b[0m\u001b[0;34m\u001b[0m\u001b[0m\n\u001b[1;32m    250\u001b[0m \u001b[0;34m\u001b[0m\u001b[0m\n",
      "\u001b[0;32m~/miniforge3/envs/nerfstudio/lib/python3.8/site-packages/optuna/study/_optimize.py\u001b[0m in \u001b[0;36m_run_trial\u001b[0;34m(study, func, catch)\u001b[0m\n\u001b[1;32m    195\u001b[0m     \u001b[0;32mwith\u001b[0m \u001b[0mget_heartbeat_thread\u001b[0m\u001b[0;34m(\u001b[0m\u001b[0mtrial\u001b[0m\u001b[0;34m.\u001b[0m\u001b[0m_trial_id\u001b[0m\u001b[0;34m,\u001b[0m \u001b[0mstudy\u001b[0m\u001b[0;34m.\u001b[0m\u001b[0m_storage\u001b[0m\u001b[0;34m)\u001b[0m\u001b[0;34m:\u001b[0m\u001b[0;34m\u001b[0m\u001b[0;34m\u001b[0m\u001b[0m\n\u001b[1;32m    196\u001b[0m         \u001b[0;32mtry\u001b[0m\u001b[0;34m:\u001b[0m\u001b[0;34m\u001b[0m\u001b[0;34m\u001b[0m\u001b[0m\n\u001b[0;32m--> 197\u001b[0;31m             \u001b[0mvalue_or_values\u001b[0m \u001b[0;34m=\u001b[0m \u001b[0mfunc\u001b[0m\u001b[0;34m(\u001b[0m\u001b[0mtrial\u001b[0m\u001b[0;34m)\u001b[0m\u001b[0;34m\u001b[0m\u001b[0;34m\u001b[0m\u001b[0m\n\u001b[0m\u001b[1;32m    198\u001b[0m         \u001b[0;32mexcept\u001b[0m \u001b[0mexceptions\u001b[0m\u001b[0;34m.\u001b[0m\u001b[0mTrialPruned\u001b[0m \u001b[0;32mas\u001b[0m \u001b[0me\u001b[0m\u001b[0;34m:\u001b[0m\u001b[0;34m\u001b[0m\u001b[0;34m\u001b[0m\u001b[0m\n\u001b[1;32m    199\u001b[0m             \u001b[0;31m# TODO(mamu): Handle multi-objective cases.\u001b[0m\u001b[0;34m\u001b[0m\u001b[0;34m\u001b[0m\u001b[0;34m\u001b[0m\u001b[0m\n",
      "\u001b[0;32m/tmp/user/22473/ipykernel_2122290/3286051834.py\u001b[0m in \u001b[0;36mobjective_w_grid_2\u001b[0;34m(trial)\u001b[0m\n\u001b[1;32m     76\u001b[0m \u001b[0;34m\u001b[0m\u001b[0m\n\u001b[1;32m     77\u001b[0m     \u001b[0;31m# Initialize and train the model\u001b[0m\u001b[0;34m\u001b[0m\u001b[0;34m\u001b[0m\u001b[0;34m\u001b[0m\u001b[0m\n\u001b[0;32m---> 78\u001b[0;31m     \u001b[0mtrainer\u001b[0m \u001b[0;34m=\u001b[0m \u001b[0mGaussianImageTrainer\u001b[0m\u001b[0;34m(\u001b[0m\u001b[0mcfg\u001b[0m\u001b[0;34m)\u001b[0m\u001b[0;34m\u001b[0m\u001b[0;34m\u001b[0m\u001b[0m\n\u001b[0m\u001b[1;32m     79\u001b[0m     \u001b[0mresult\u001b[0m \u001b[0;34m=\u001b[0m \u001b[0mtrainer\u001b[0m\u001b[0;34m.\u001b[0m\u001b[0mtrain\u001b[0m\u001b[0;34m(\u001b[0m\u001b[0;34m)\u001b[0m\u001b[0;34m\u001b[0m\u001b[0;34m\u001b[0m\u001b[0m\n\u001b[1;32m     80\u001b[0m \u001b[0;34m\u001b[0m\u001b[0m\n",
      "\u001b[0;32m~/Projects/visual-representation-learning/models/gaussian_image_trainer.py\u001b[0m in \u001b[0;36m__init__\u001b[0;34m(self, cfg)\u001b[0m\n\u001b[1;32m     40\u001b[0m         \u001b[0;31m# Check if training is possible\u001b[0m\u001b[0;34m\u001b[0m\u001b[0;34m\u001b[0m\u001b[0;34m\u001b[0m\u001b[0m\n\u001b[1;32m     41\u001b[0m         \u001b[0;32mif\u001b[0m \u001b[0;32mnot\u001b[0m \u001b[0mtorch\u001b[0m\u001b[0;34m.\u001b[0m\u001b[0mcuda\u001b[0m\u001b[0;34m.\u001b[0m\u001b[0mis_available\u001b[0m\u001b[0;34m(\u001b[0m\u001b[0;34m)\u001b[0m\u001b[0;34m:\u001b[0m\u001b[0;34m\u001b[0m\u001b[0;34m\u001b[0m\u001b[0m\n\u001b[0;32m---> 42\u001b[0;31m             \u001b[0;32mraise\u001b[0m \u001b[0mException\u001b[0m\u001b[0;34m(\u001b[0m\u001b[0;34m\"No GPU available. `gpsplat` requires a GPU to train.\"\u001b[0m\u001b[0;34m)\u001b[0m\u001b[0;34m\u001b[0m\u001b[0;34m\u001b[0m\u001b[0m\n\u001b[0m\u001b[1;32m     43\u001b[0m \u001b[0;34m\u001b[0m\u001b[0m\n\u001b[1;32m     44\u001b[0m         \u001b[0;31m# Set seed for reproducibility\u001b[0m\u001b[0;34m\u001b[0m\u001b[0;34m\u001b[0m\u001b[0;34m\u001b[0m\u001b[0m\n",
      "\u001b[0;31mException\u001b[0m: No GPU available. `gpsplat` requires a GPU to train."
     ]
    }
   ],
   "source": [
    "study_w_grid.optimize(objective_w_grid_2, n_trials=1000, n_jobs=1, timeout=3600)"
   ]
  },
  {
   "cell_type": "code",
   "execution_count": null,
   "metadata": {},
   "outputs": [],
   "source": []
  }
 ],
 "metadata": {
  "kernelspec": {
   "display_name": "nerfstudio",
   "language": "python",
   "name": "python3"
  },
  "language_info": {
   "codemirror_mode": {
    "name": "ipython",
    "version": 3
   },
   "file_extension": ".py",
   "mimetype": "text/x-python",
   "name": "python",
   "nbconvert_exporter": "python",
   "pygments_lexer": "ipython3",
   "version": "3.8.20"
  }
 },
 "nbformat": 4,
 "nbformat_minor": 2
}
