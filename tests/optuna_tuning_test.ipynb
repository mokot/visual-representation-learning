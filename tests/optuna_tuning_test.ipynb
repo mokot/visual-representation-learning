{
 "cells": [
  {
   "cell_type": "code",
   "execution_count": 28,
   "id": "f3a1b77b-fa9a-4698-bcfd-6e14a6130f73",
   "metadata": {},
   "outputs": [
    {
     "name": "stdout",
     "output_type": "stream",
     "text": [
      "The autoreload extension is already loaded. To reload it, use:\n",
      "  %reload_ext autoreload\n"
     ]
    }
   ],
   "source": [
    "# Hack to always autoreload modules and avoid restarting the kernel each time\n",
    "\n",
    "%load_ext autoreload\n",
    "%autoreload 2\n",
    "%reload_ext autoreload"
   ]
  },
  {
   "cell_type": "code",
   "execution_count": 2,
   "id": "62552b37-7326-4959-a474-c569b22c5299",
   "metadata": {},
   "outputs": [],
   "source": [
    "# Note: This is a hack to allow importing from the parent directory\n",
    "import sys\n",
    "from pathlib import Path\n",
    "\n",
    "sys.path.append(str(Path().resolve().parent))"
   ]
  },
  {
   "cell_type": "code",
   "execution_count": 38,
   "id": "3fb09030-cbaf-4b43-aaee-b77aa4e5a3e6",
   "metadata": {},
   "outputs": [
    {
     "name": "stdout",
     "output_type": "stream",
     "text": [
      "Requirement already satisfied: optuna in /usr/local/lib/python3.10/dist-packages (4.1.0)\n",
      "Requirement already satisfied: optuna-dashboard in /usr/local/lib/python3.10/dist-packages (0.17.0)\n",
      "Requirement already satisfied: PyYAML in /usr/local/lib/python3.10/dist-packages (from optuna) (6.0.2)\n",
      "Requirement already satisfied: tqdm in /usr/local/lib/python3.10/dist-packages (from optuna) (4.67.1)\n",
      "Requirement already satisfied: colorlog in /usr/local/lib/python3.10/dist-packages (from optuna) (6.9.0)\n",
      "Requirement already satisfied: numpy in /usr/local/lib/python3.10/dist-packages (from optuna) (2.2.1)\n",
      "Requirement already satisfied: sqlalchemy>=1.4.2 in /usr/local/lib/python3.10/dist-packages (from optuna) (2.0.36)\n",
      "Requirement already satisfied: alembic>=1.5.0 in /usr/local/lib/python3.10/dist-packages (from optuna) (1.14.0)\n",
      "Requirement already satisfied: packaging>=20.0 in /usr/local/lib/python3.10/dist-packages (from optuna) (24.2)\n",
      "Requirement already satisfied: scikit-learn in /usr/local/lib/python3.10/dist-packages (from optuna-dashboard) (1.6.0)\n",
      "Requirement already satisfied: bottle>=0.13.0 in /usr/local/lib/python3.10/dist-packages (from optuna-dashboard) (0.13.2)\n",
      "Requirement already satisfied: Mako in /usr/local/lib/python3.10/dist-packages (from alembic>=1.5.0->optuna) (1.3.8)\n",
      "Requirement already satisfied: typing-extensions>=4 in /usr/local/lib/python3.10/dist-packages (from alembic>=1.5.0->optuna) (4.12.2)\n",
      "Requirement already satisfied: greenlet!=0.4.17 in /usr/local/lib/python3.10/dist-packages (from sqlalchemy>=1.4.2->optuna) (3.1.1)\n",
      "Requirement already satisfied: scipy>=1.6.0 in /usr/local/lib/python3.10/dist-packages (from scikit-learn->optuna-dashboard) (1.15.0)\n",
      "Requirement already satisfied: joblib>=1.2.0 in /usr/local/lib/python3.10/dist-packages (from scikit-learn->optuna-dashboard) (1.4.2)\n",
      "Requirement already satisfied: threadpoolctl>=3.1.0 in /usr/local/lib/python3.10/dist-packages (from scikit-learn->optuna-dashboard) (3.5.0)\n",
      "Requirement already satisfied: MarkupSafe>=0.9.2 in /usr/local/lib/python3.10/dist-packages (from Mako->alembic>=1.5.0->optuna) (3.0.2)\n",
      "\u001b[33mWARNING: Running pip as the 'root' user can result in broken permissions and conflicting behaviour with the system package manager. It is recommended to use a virtual environment instead: https://pip.pypa.io/warnings/venv\u001b[0m\u001b[33m\n",
      "\u001b[0m"
     ]
    }
   ],
   "source": [
    "!pip install optuna optuna-dashboard"
   ]
  },
  {
   "cell_type": "code",
   "execution_count": 3,
   "id": "78be854f-e86d-411e-b817-8b0a02109063",
   "metadata": {},
   "outputs": [],
   "source": [
    "import optuna\n",
    "from optuna_dashboard import run_server\n",
    "import torch\n",
    "from models.gaussian_image_trainer import GaussianImageTrainer\n",
    "from configs import Config\n",
    "from utils.search_space import is_valid_combination"
   ]
  },
  {
   "cell_type": "code",
   "execution_count": 4,
   "id": "f3d7eeb8-57ac-459b-afa7-f2f2fbde7a07",
   "metadata": {},
   "outputs": [
    {
     "name": "stdout",
     "output_type": "stream",
     "text": [
      "Files already downloaded and verified\n"
     ]
    },
    {
     "data": {
      "image/jpeg": "[encoded data removed]",
      "image/png": "[encoded data removed]",
      "text/plain": [
       "<PIL.Image.Image image mode=RGB size=32x32>"
      ]
     },
     "metadata": {},
     "output_type": "display_data"
    }
   ],
   "source": [
    "import torchvision\n",
    "from constants import CIFAR10_TRANSFORM\n",
    "from utils.data import create_default_image\n",
    "from utils import visualize_tensor\n",
    "\n",
    "dataset = torchvision.datasets.CIFAR10(root=\"./data\", download=True)\n",
    "cifar_image = CIFAR10_TRANSFORM(dataset[2][0])\n",
    "visualize_tensor(cifar_image)"
   ]
  },
  {
   "cell_type": "code",
   "execution_count": 11,
   "id": "697a3ed1-9d82-4119-8eff-cff8bb716961",
   "metadata": {},
   "outputs": [],
   "source": [
    "import logging\n",
    "import sys"
   ]
  },
  {
   "cell_type": "code",
   "execution_count": 16,
   "id": "8d50fdc9-85ac-4dc0-a9a4-470eb5fa61b8",
   "metadata": {},
   "outputs": [
    {
     "name": "stderr",
     "output_type": "stream",
     "text": [
      "[I 2025-01-06 06:09:57,496] Using an existing study with name 'test-study' instead of creating a new one.\n"
     ]
    },
    {
     "name": "stdout",
     "output_type": "stream",
     "text": [
      "Using an existing study with name 'test-study' instead of creating a new one.\n",
      "Using an existing study with name 'test-study' instead of creating a new one.\n",
      "Using an existing study with name 'test-study' instead of creating a new one.\n",
      "Using an existing study with name 'test-study' instead of creating a new one.\n"
     ]
    }
   ],
   "source": [
    "# Add stream handler of stdout to show the messages\n",
    "optuna.logging.get_logger(\"optuna\").addHandler(logging.StreamHandler(sys.stdout))\n",
    "study_name = \"test-study\"  # Unique identifier of the study.\n",
    "storage_name = \"sqlite:///{}.db\".format(study_name)\n",
    "study = optuna.create_study(study_name=study_name, storage=storage_name, load_if_exists=True)"
   ]
  },
  {
   "cell_type": "code",
   "execution_count": 17,
   "id": "eecf7db8-55d3-4fd7-8b57-5ef9be2adcee",
   "metadata": {},
   "outputs": [],
   "source": [
    "def objective(trial: optuna.Trial) -> float:\n",
    "    \"\"\"\n",
    "    Objective function for Optuna hyperparameter optimization.\n",
    "\n",
    "    Args:\n",
    "        trial (optuna.Trial): The trial object used to suggest hyperparameters.\n",
    "\n",
    "    Returns:\n",
    "        float: The evaluation metric to minimize (e.g., validation loss).\n",
    "    \"\"\"\n",
    "    # Conditional sampling\n",
    "    # group_optimization = trial.suggest_categorical(\"group_optimization\", [True, False])\n",
    "    # strategy = None\n",
    "    group_optimization = True # For now, as having default strategy was causing an error\n",
    "    if not group_optimization:\n",
    "        strategy = trial.suggest_categorical(\"strategy\", [\"default\", \"mcmc\"])\n",
    "\n",
    "    # Hyperparameter suggestions\n",
    "    loss_weights = [\n",
    "        trial.suggest_float(\"loss_weight_l1\", 0.1, 1.0),\n",
    "        trial.suggest_float(\"loss_weight_mse\", 0.1, 1.0),\n",
    "        trial.suggest_float(\"loss_weight_ssim\", 0.1, 1.0),\n",
    "    ]\n",
    "    loss_weights = [w / sum(loss_weights) for w in loss_weights]\n",
    "\n",
    "    scale_regulation = trial.suggest_categorical(\"scale_regulation\", [None, 0.1, 0.5, 1.0])\n",
    "    opacity_regulation = trial.suggest_categorical(\"opacity_regulation\", [None, 0.1, 0.5, 1.0])\n",
    "\n",
    "    init_type = trial.suggest_categorical(\"init_type\", [\"random\", \"grid\", \"knn\"])\n",
    "    num_points = trial.suggest_categorical(\"num_points\", [16*16, 24*24, 32*32, 64*64])\n",
    "    extent = trial.suggest_categorical(\"extent\", [1.0, 2.0, 4.0])\n",
    "    init_scale = trial.suggest_float(\"init_scale\", 0.5, 2.0)\n",
    "    init_opacity = trial.suggest_float(\"init_opacity\", 0.1, 1.0)\n",
    "\n",
    "    max_steps = trial.suggest_int(\"max_steps\", 250, 10000, log=True)\n",
    "    learning_rate = trial.suggest_float(\"learning_rate\", 1e-5, 1e-1, log=True) if group_optimization else None\n",
    "\n",
    "    model_type = trial.suggest_categorical(\"model_type\", [\"2dgs\", \"3dgs\"])  # Left out \"2dgs-inria\" as it needed further dependencies\n",
    "    bilateral_grid = trial.suggest_categorical(\"bilateral_grid\", [True, False])\n",
    "\n",
    "    if not is_valid_combination({\n",
    "        \"learning_rate\": learning_rate,\n",
    "        \"loss_weights\": loss_weights,\n",
    "        \"group_optimization\": group_optimization,\n",
    "        # \"strategy\": strategy,\n",
    "        \"learning_rate\": learning_rate,\n",
    "        \"model_type\": model_type,\n",
    "        \"bilateral_grid\": bilateral_grid,\n",
    "    }, GaussianImageTrainer):\n",
    "        raise optuna.exceptions.TrialPruned(\"Invalid hyperparameter combination\")\n",
    "\n",
    "    # Create Config object\n",
    "    cfg = Config(\n",
    "        \n",
    "        seed=42,\n",
    "        image=cifar_image,  # Replace with actual ground truth image tensor\n",
    "        max_steps=max_steps,\n",
    "        learning_rate=learning_rate,\n",
    "        loss_weights=loss_weights,\n",
    "        init_type=init_type,\n",
    "        num_points=num_points,\n",
    "        init_scale=init_scale,\n",
    "        init_opacity=init_opacity,\n",
    "        group_optimization=group_optimization,\n",
    "        # strategy=strategy,\n",
    "        model_type=model_type,\n",
    "        # bilateral_grid=bilateral_grid,\n",
    "        bilateral_grid=False\n",
    "    )\n",
    "\n",
    "    # Initialize and train the model\n",
    "    trainer = GaussianImageTrainer(cfg)\n",
    "    result = trainer.train()\n",
    "\n",
    "    # Evaluate generated image quality (e.g., L1 loss with ground truth)\n",
    "    generated_image = result.cpu()  # Replace with actual rendered output\n",
    "    ground_truth_image = cfg.image.cpu()\n",
    "    evaluation_metric = torch.nn.functional.l1_loss(generated_image, ground_truth_image)\n",
    "\n",
    "    return evaluation_metric.item()"
   ]
  },
  {
   "cell_type": "code",
   "execution_count": 18,
   "id": "25d551db-9f8b-448c-bd89-57d22324a423",
   "metadata": {},
   "outputs": [],
   "source": [
    "def run_optimization():\n",
    "    \"\"\"\n",
    "    Run Optuna optimization and optionally launch a dashboard for monitoring.\n",
    "    \"\"\"\n",
    "    study.optimize(objective, n_trials=10, n_jobs=1, timeout=3600)  # Parallelize with n_jobs\n",
    "\n",
    "    print(\"Best hyperparameters found:\")\n",
    "    print(study.best_trial.params)\n",
    "\n",
    "    # # Save the study\n",
    "    # study_path = \"./optuna_study.pkl\"\n",
    "    # with open(study_path, \"wb\") as f:\n",
    "    #     optuna.study.save_study(study, f)\n",
    "\n",
    "    # # Launch Optuna dashboard for monitoring\n",
    "    # try:\n",
    "    #     run_server(study, host=\"127.0.0.1\", port=5000)\n",
    "    # except KeyboardInterrupt:\n",
    "    #     print(\"Dashboard stopped.\")\n",
    "\n",
    "    # # Visualization (if needed)\n",
    "    # try:\n",
    "    #     import optuna.visualization as vis\n",
    "    #     vis.plot_optimization_history(study).show()\n",
    "    #     vis.plot_param_importances(study).show()\n",
    "    # except ImportError:\n",
    "    #     print(\"Visualization libraries not installed.\")"
   ]
  },
  {
   "cell_type": "code",
   "execution_count": null,
   "id": "57ed45fc-686a-45ca-a578-884c6ed8aa50",
   "metadata": {},
   "outputs": [],
   "source": []
  },
  {
   "cell_type": "code",
   "execution_count": 19,
   "id": "f7c6e0c0-b40a-4dab-b0ad-211defb4d457",
   "metadata": {
    "scrolled": true
   },
   "outputs": [
    {
     "name": "stdout",
     "output_type": "stream",
     "text": [
      "Model initialized. Number of Gaussians: 576\n"
     ]
    },
    {
     "name": "stderr",
     "output_type": "stream",
     "text": [
      "/usr/local/lib/python3.10/dist-packages/torchmetrics/utilities/prints.py:62: FutureWarning: Importing `StructuralSimilarityIndexMeasure` from `torchmetrics` was deprecated and will be removed in 2.0. Import `StructuralSimilarityIndexMeasure` from `torchmetrics.image` instead.\n",
      "  _future_warning(\n",
      "/usr/local/lib/python3.10/dist-packages/torchmetrics/utilities/prints.py:62: FutureWarning: Importing `PeakSignalNoiseRatio` from `torchmetrics` was deprecated and will be removed in 2.0. Import `PeakSignalNoiseRatio` from `torchmetrics.image` instead.\n",
      "  _future_warning(\n",
      "/usr/local/lib/python3.10/dist-packages/torchmetrics/functional/image/lpips.py:323: FutureWarning: You are using `torch.load` with `weights_only=False` (the current default value), which uses the default pickle module implicitly. It is possible to construct malicious pickle data which will execute arbitrary code during unpickling (See https://github.com/pytorch/pytorch/blob/main/SECURITY.md#untrusted-models for more details). In a future release, the default value for `weights_only` will be flipped to `True`. This limits the functions that could be executed during unpickling. Arbitrary objects will no longer be allowed to be loaded via this mode unless they are explicitly allowlisted by the user via `torch.serialization.add_safe_globals`. We recommend you start setting `weights_only=True` for any use case where you don't have full control of the loaded file. Please open an issue on GitHub for any issues related to this experimental feature.\n",
      "  self.load_state_dict(torch.load(model_path, map_location=\"cpu\"), strict=False)\n"
     ]
    },
    {
     "data": {
      "image/jpeg": "[encoded data removed]",
      "image/png": "[encoded data removed]",
      "text/plain": [
       "<PIL.Image.Image image mode=RGB size=32x32>"
      ]
     },
     "metadata": {},
     "output_type": "display_data"
    },
    {
     "name": "stdout",
     "output_type": "stream",
     "text": [
      "JPG image saved to: results/original.jpg\n"
     ]
    },
    {
     "name": "stderr",
     "output_type": "stream",
     "text": [
      "Loss: 0.691 (L1: 0.479, MSE: 0.341, SSIM: 0.992):   0%|\u001b[36m                  \u001b[0m| 0/4929 [00:00<?, ?step/s]\u001b[0m"
     ]
    },
    {
     "data": {
      "image/jpeg": "[encoded data removed]",
      "image/png": "[encoded data removed]",
      "text/plain": [
       "<PIL.Image.Image image mode=RGB size=32x32>"
      ]
     },
     "metadata": {},
     "output_type": "display_data"
    },
    {
     "name": "stderr",
     "output_type": "stream",
     "text": [
      "Loss: 0.691 (L1: 0.479, MSE: 0.341, SSIM: 0.991):   0%|\u001b[36m        \u001b[0m| 18/4929 [00:00<00:27, 176.84step/s]\u001b[0m"
     ]
    },
    {
     "name": "stdout",
     "output_type": "stream",
     "text": [
      "JPG image saved to: results/step_00000.jpg\n"
     ]
    },
    {
     "name": "stderr",
     "output_type": "stream",
     "text": [
      "Loss: 0.690 (L1: 0.479, MSE: 0.341, SSIM: 0.990):   2%|\u001b[36m▏       \u001b[0m| 99/4929 [00:00<00:26, 179.12step/s]\u001b[0m"
     ]
    },
    {
     "data": {
      "image/jpeg": "[encoded data removed]",
      "image/png": "[encoded data removed]",
      "text/plain": [
       "<PIL.Image.Image image mode=RGB size=32x32>"
      ]
     },
     "metadata": {},
     "output_type": "display_data"
    },
    {
     "name": "stderr",
     "output_type": "stream",
     "text": [
      "Loss: 0.689 (L1: 0.479, MSE: 0.341, SSIM: 0.989):   3%|\u001b[36m▏      \u001b[0m| 141/4929 [00:00<00:24, 192.99step/s]\u001b[0m"
     ]
    },
    {
     "name": "stdout",
     "output_type": "stream",
     "text": [
      "JPG image saved to: results/step_00100.jpg\n"
     ]
    },
    {
     "name": "stderr",
     "output_type": "stream",
     "text": [
      "Loss: 0.689 (L1: 0.479, MSE: 0.341, SSIM: 0.988):   4%|\u001b[36m▎      \u001b[0m| 184/4929 [00:01<00:23, 200.91step/s]\u001b[0m"
     ]
    },
    {
     "data": {
      "image/jpeg": "[encoded data removed]",
      "image/png": "[encoded data removed]",
      "text/plain": [
       "<PIL.Image.Image image mode=RGB size=32x32>"
      ]
     },
     "metadata": {},
     "output_type": "display_data"
    },
    {
     "name": "stderr",
     "output_type": "stream",
     "text": [
      "Loss: 0.688 (L1: 0.479, MSE: 0.341, SSIM: 0.987):   5%|\u001b[36m▎      \u001b[0m| 226/4929 [00:01<00:23, 201.13step/s]\u001b[0m"
     ]
    },
    {
     "name": "stdout",
     "output_type": "stream",
     "text": [
      "JPG image saved to: results/step_00200.jpg\n"
     ]
    },
    {
     "name": "stderr",
     "output_type": "stream",
     "text": [
      "Loss: 0.688 (L1: 0.479, MSE: 0.340, SSIM: 0.986):   6%|\u001b[36m▍      \u001b[0m| 289/4929 [00:01<00:23, 196.51step/s]\u001b[0m"
     ]
    },
    {
     "data": {
      "image/jpeg": "[encoded data removed]",
      "image/png": "[encoded data removed]",
      "text/plain": [
       "<PIL.Image.Image image mode=RGB size=32x32>"
      ]
     },
     "metadata": {},
     "output_type": "display_data"
    },
    {
     "name": "stderr",
     "output_type": "stream",
     "text": [
      "Loss: 0.687 (L1: 0.479, MSE: 0.340, SSIM: 0.985):   7%|\u001b[36m▍      \u001b[0m| 329/4929 [00:01<00:24, 187.42step/s]\u001b[0m"
     ]
    },
    {
     "name": "stdout",
     "output_type": "stream",
     "text": [
      "JPG image saved to: results/step_00300.jpg\n"
     ]
    },
    {
     "name": "stderr",
     "output_type": "stream",
     "text": [
      "Loss: 0.687 (L1: 0.478, MSE: 0.340, SSIM: 0.984):   8%|\u001b[36m▌      \u001b[0m| 387/4929 [00:02<00:24, 182.71step/s]\u001b[0m"
     ]
    },
    {
     "data": {
      "image/jpeg": "[encoded data removed]",
      "image/png": "[encoded data removed]",
      "text/plain": [
       "<PIL.Image.Image image mode=RGB size=32x32>"
      ]
     },
     "metadata": {},
     "output_type": "display_data"
    },
    {
     "name": "stderr",
     "output_type": "stream",
     "text": [
      "Loss: 0.686 (L1: 0.478, MSE: 0.340, SSIM: 0.983):   9%|\u001b[36m▌      \u001b[0m| 425/4929 [00:02<00:25, 177.29step/s]\u001b[0m"
     ]
    },
    {
     "name": "stdout",
     "output_type": "stream",
     "text": [
      "JPG image saved to: results/step_00400.jpg\n"
     ]
    },
    {
     "name": "stderr",
     "output_type": "stream",
     "text": [
      "Loss: 0.685 (L1: 0.478, MSE: 0.340, SSIM: 0.982):  10%|\u001b[36m▋      \u001b[0m| 484/4929 [00:02<00:24, 184.95step/s]\u001b[0m"
     ]
    },
    {
     "data": {
      "image/jpeg": "[encoded data removed]",
      "image/png": "[encoded data removed]",
      "text/plain": [
       "<PIL.Image.Image image mode=RGB size=32x32>"
      ]
     },
     "metadata": {},
     "output_type": "display_data"
    },
    {
     "name": "stderr",
     "output_type": "stream",
     "text": [
      "Loss: 0.685 (L1: 0.478, MSE: 0.340, SSIM: 0.981):  11%|\u001b[36m▋      \u001b[0m| 524/4929 [00:02<00:23, 186.36step/s]\u001b[0m"
     ]
    },
    {
     "name": "stdout",
     "output_type": "stream",
     "text": [
      "JPG image saved to: results/step_00500.jpg\n"
     ]
    },
    {
     "name": "stderr",
     "output_type": "stream",
     "text": [
      "Loss: 0.684 (L1: 0.478, MSE: 0.340, SSIM: 0.980):  12%|\u001b[36m▊      \u001b[0m| 590/4929 [00:03<00:21, 204.07step/s]\u001b[0m"
     ]
    },
    {
     "data": {
      "image/jpeg": "[encoded data removed]",
      "image/png": "[encoded data removed]",
      "text/plain": [
       "<PIL.Image.Image image mode=RGB size=32x32>"
      ]
     },
     "metadata": {},
     "output_type": "display_data"
    },
    {
     "name": "stderr",
     "output_type": "stream",
     "text": [
      "Loss: 0.684 (L1: 0.478, MSE: 0.340, SSIM: 0.979):  13%|\u001b[36m▉      \u001b[0m| 633/4929 [00:03<00:20, 205.09step/s]\u001b[0m"
     ]
    },
    {
     "name": "stdout",
     "output_type": "stream",
     "text": [
      "JPG image saved to: results/step_00600.jpg\n"
     ]
    },
    {
     "name": "stderr",
     "output_type": "stream",
     "text": [
      "Loss: 0.683 (L1: 0.478, MSE: 0.340, SSIM: 0.978):  14%|\u001b[36m▉      \u001b[0m| 699/4929 [00:03<00:20, 210.78step/s]\u001b[0m"
     ]
    },
    {
     "data": {
      "image/jpeg": "[encoded data removed]",
      "image/png": "[encoded data removed]",
      "text/plain": [
       "<PIL.Image.Image image mode=RGB size=32x32>"
      ]
     },
     "metadata": {},
     "output_type": "display_data"
    },
    {
     "name": "stderr",
     "output_type": "stream",
     "text": [
      "Loss: 0.683 (L1: 0.478, MSE: 0.340, SSIM: 0.977):  15%|\u001b[36m█      \u001b[0m| 743/4929 [00:03<00:19, 210.39step/s]\u001b[0m"
     ]
    },
    {
     "name": "stdout",
     "output_type": "stream",
     "text": [
      "JPG image saved to: results/step_00700.jpg\n"
     ]
    },
    {
     "name": "stderr",
     "output_type": "stream",
     "text": [
      "Loss: 0.682 (L1: 0.478, MSE: 0.340, SSIM: 0.976):  16%|\u001b[36m█      \u001b[0m| 786/4929 [00:04<00:20, 205.05step/s]\u001b[0m"
     ]
    },
    {
     "data": {
      "image/jpeg": "[encoded data removed]",
      "image/png": "[encoded data removed]",
      "text/plain": [
       "<PIL.Image.Image image mode=RGB size=32x32>"
      ]
     },
     "metadata": {},
     "output_type": "display_data"
    },
    {
     "name": "stderr",
     "output_type": "stream",
     "text": [
      "Loss: 0.682 (L1: 0.478, MSE: 0.340, SSIM: 0.976):  17%|\u001b[36m█▏     \u001b[0m| 828/4929 [00:04<00:20, 198.46step/s]\u001b[0m"
     ]
    },
    {
     "name": "stdout",
     "output_type": "stream",
     "text": [
      "JPG image saved to: results/step_00800.jpg\n"
     ]
    },
    {
     "name": "stderr",
     "output_type": "stream",
     "text": [
      "Loss: 0.681 (L1: 0.477, MSE: 0.339, SSIM: 0.974):  18%|\u001b[36m█▎     \u001b[0m| 888/4929 [00:04<00:20, 195.99step/s]\u001b[0m"
     ]
    },
    {
     "data": {
      "image/jpeg": "[encoded data removed]",
      "image/png": "[encoded data removed]",
      "text/plain": [
       "<PIL.Image.Image image mode=RGB size=32x32>"
      ]
     },
     "metadata": {},
     "output_type": "display_data"
    },
    {
     "name": "stderr",
     "output_type": "stream",
     "text": [
      "Loss: 0.681 (L1: 0.477, MSE: 0.339, SSIM: 0.973):  19%|\u001b[36m█▎     \u001b[0m| 944/4929 [00:04<00:16, 238.92step/s]\u001b[0m"
     ]
    },
    {
     "name": "stdout",
     "output_type": "stream",
     "text": [
      "JPG image saved to: results/step_00900.jpg\n"
     ]
    },
    {
     "name": "stderr",
     "output_type": "stream",
     "text": [
      "Loss: 0.680 (L1: 0.477, MSE: 0.339, SSIM: 0.973):  20%|\u001b[36m█▍     \u001b[0m| 975/4929 [00:04<00:15, 259.78step/s]\u001b[0m"
     ]
    },
    {
     "data": {
      "image/jpeg": "[encoded data removed]",
      "image/png": "[encoded data removed]",
      "text/plain": [
       "<PIL.Image.Image image mode=RGB size=32x32>"
      ]
     },
     "metadata": {},
     "output_type": "display_data"
    },
    {
     "name": "stderr",
     "output_type": "stream",
     "text": [
      "Loss: 0.680 (L1: 0.477, MSE: 0.339, SSIM: 0.972):  21%|\u001b[36m█▎    \u001b[0m| 1033/4929 [00:05<00:14, 262.91step/s]\u001b[0m"
     ]
    },
    {
     "name": "stdout",
     "output_type": "stream",
     "text": [
      "JPG image saved to: results/step_01000.jpg\n"
     ]
    },
    {
     "name": "stderr",
     "output_type": "stream",
     "text": [
      "Loss: 0.679 (L1: 0.477, MSE: 0.339, SSIM: 0.971):  22%|\u001b[36m█▎    \u001b[0m| 1086/4929 [00:05<00:16, 229.78step/s]\u001b[0m"
     ]
    },
    {
     "data": {
      "image/jpeg": "[encoded data removed]",
      "image/png": "[encoded data removed]",
      "text/plain": [
       "<PIL.Image.Image image mode=RGB size=32x32>"
      ]
     },
     "metadata": {},
     "output_type": "display_data"
    },
    {
     "name": "stderr",
     "output_type": "stream",
     "text": [
      "Loss: 0.679 (L1: 0.477, MSE: 0.339, SSIM: 0.970):  23%|\u001b[36m█▍    \u001b[0m| 1133/4929 [00:05<00:18, 210.47step/s]\u001b[0m"
     ]
    },
    {
     "name": "stdout",
     "output_type": "stream",
     "text": [
      "JPG image saved to: results/step_01100.jpg\n"
     ]
    },
    {
     "name": "stderr",
     "output_type": "stream",
     "text": [
      "Loss: 0.678 (L1: 0.477, MSE: 0.339, SSIM: 0.969):  24%|\u001b[36m█▍    \u001b[0m| 1197/4929 [00:05<00:19, 193.05step/s]\u001b[0m"
     ]
    },
    {
     "data": {
      "image/jpeg": "[encoded data removed]",
      "image/png": "[encoded data removed]",
      "text/plain": [
       "<PIL.Image.Image image mode=RGB size=32x32>"
      ]
     },
     "metadata": {},
     "output_type": "display_data"
    },
    {
     "name": "stderr",
     "output_type": "stream",
     "text": [
      "Loss: 0.678 (L1: 0.477, MSE: 0.339, SSIM: 0.968):  25%|\u001b[36m█▌    \u001b[0m| 1237/4929 [00:06<00:19, 185.61step/s]\u001b[0m"
     ]
    },
    {
     "name": "stdout",
     "output_type": "stream",
     "text": [
      "JPG image saved to: results/step_01200.jpg\n"
     ]
    },
    {
     "name": "stderr",
     "output_type": "stream",
     "text": [
      "Loss: 0.677 (L1: 0.477, MSE: 0.339, SSIM: 0.967):  26%|\u001b[36m█▌    \u001b[0m| 1299/4929 [00:06<00:18, 195.61step/s]\u001b[0m"
     ]
    },
    {
     "data": {
      "image/jpeg": "[encoded data removed]",
      "image/png": "[encoded data removed]",
      "text/plain": [
       "<PIL.Image.Image image mode=RGB size=32x32>"
      ]
     },
     "metadata": {},
     "output_type": "display_data"
    },
    {
     "name": "stderr",
     "output_type": "stream",
     "text": [
      "Loss: 0.677 (L1: 0.477, MSE: 0.339, SSIM: 0.967):  27%|\u001b[36m█▌    \u001b[0m| 1319/4929 [00:06<00:18, 190.55step/s]\u001b[0m"
     ]
    },
    {
     "name": "stdout",
     "output_type": "stream",
     "text": [
      "JPG image saved to: results/step_01300.jpg\n"
     ]
    },
    {
     "name": "stderr",
     "output_type": "stream",
     "text": [
      "Loss: 0.676 (L1: 0.476, MSE: 0.338, SSIM: 0.965):  28%|\u001b[36m█▋    \u001b[0m| 1396/4929 [00:07<00:19, 183.89step/s]\u001b[0m"
     ]
    },
    {
     "data": {
      "image/jpeg": "[encoded data removed]",
      "image/png": "[encoded data removed]",
      "text/plain": [
       "<PIL.Image.Image image mode=RGB size=32x32>"
      ]
     },
     "metadata": {},
     "output_type": "display_data"
    },
    {
     "name": "stderr",
     "output_type": "stream",
     "text": [
      "Loss: 0.676 (L1: 0.476, MSE: 0.338, SSIM: 0.965):  29%|\u001b[36m█▋    \u001b[0m| 1415/4929 [00:07<00:20, 174.26step/s]\u001b[0m"
     ]
    },
    {
     "name": "stdout",
     "output_type": "stream",
     "text": [
      "JPG image saved to: results/step_01400.jpg\n"
     ]
    },
    {
     "name": "stderr",
     "output_type": "stream",
     "text": [
      "Loss: 0.675 (L1: 0.476, MSE: 0.338, SSIM: 0.964):  30%|\u001b[36m█▊    \u001b[0m| 1485/4929 [00:07<00:20, 165.14step/s]\u001b[0m"
     ]
    },
    {
     "data": {
      "image/jpeg": "[encoded data removed]",
      "image/png": "[encoded data removed]",
      "text/plain": [
       "<PIL.Image.Image image mode=RGB size=32x32>"
      ]
     },
     "metadata": {},
     "output_type": "display_data"
    },
    {
     "name": "stderr",
     "output_type": "stream",
     "text": [
      "Loss: 0.675 (L1: 0.476, MSE: 0.338, SSIM: 0.963):  31%|\u001b[36m█▊    \u001b[0m| 1519/4929 [00:07<00:21, 160.38step/s]\u001b[0m"
     ]
    },
    {
     "name": "stdout",
     "output_type": "stream",
     "text": [
      "JPG image saved to: results/step_01500.jpg\n"
     ]
    },
    {
     "name": "stderr",
     "output_type": "stream",
     "text": [
      "Loss: 0.674 (L1: 0.476, MSE: 0.338, SSIM: 0.962):  32%|\u001b[36m█▉    \u001b[0m| 1589/4929 [00:08<00:19, 169.17step/s]\u001b[0m"
     ]
    },
    {
     "data": {
      "image/jpeg": "[encoded data removed]",
      "image/png": "[encoded data removed]",
      "text/plain": [
       "<PIL.Image.Image image mode=RGB size=32x32>"
      ]
     },
     "metadata": {},
     "output_type": "display_data"
    },
    {
     "name": "stderr",
     "output_type": "stream",
     "text": [
      "Loss: 0.674 (L1: 0.476, MSE: 0.338, SSIM: 0.961):  33%|\u001b[36m█▉    \u001b[0m| 1624/4929 [00:08<00:19, 168.97step/s]\u001b[0m"
     ]
    },
    {
     "name": "stdout",
     "output_type": "stream",
     "text": [
      "JPG image saved to: results/step_01600.jpg\n"
     ]
    },
    {
     "name": "stderr",
     "output_type": "stream",
     "text": [
      "Loss: 0.674 (L1: 0.476, MSE: 0.338, SSIM: 0.960):  34%|\u001b[36m██    \u001b[0m| 1697/4929 [00:08<00:19, 167.01step/s]\u001b[0m"
     ]
    },
    {
     "data": {
      "image/jpeg": "[encoded data removed]",
      "image/png": "[encoded data removed]",
      "text/plain": [
       "<PIL.Image.Image image mode=RGB size=32x32>"
      ]
     },
     "metadata": {},
     "output_type": "display_data"
    },
    {
     "name": "stderr",
     "output_type": "stream",
     "text": [
      "Loss: 0.673 (L1: 0.476, MSE: 0.338, SSIM: 0.960):  35%|\u001b[36m██    \u001b[0m| 1735/4929 [00:09<00:18, 177.35step/s]\u001b[0m"
     ]
    },
    {
     "name": "stdout",
     "output_type": "stream",
     "text": [
      "JPG image saved to: results/step_01700.jpg\n"
     ]
    },
    {
     "name": "stderr",
     "output_type": "stream",
     "text": [
      "Loss: 0.673 (L1: 0.476, MSE: 0.338, SSIM: 0.959):  36%|\u001b[36m██▏   \u001b[0m| 1795/4929 [00:09<00:16, 185.90step/s]\u001b[0m"
     ]
    },
    {
     "data": {
      "image/jpeg": "[encoded data removed]",
      "image/png": "[encoded data removed]",
      "text/plain": [
       "<PIL.Image.Image image mode=RGB size=32x32>"
      ]
     },
     "metadata": {},
     "output_type": "display_data"
    },
    {
     "name": "stderr",
     "output_type": "stream",
     "text": [
      "Loss: 0.672 (L1: 0.476, MSE: 0.338, SSIM: 0.958):  37%|\u001b[36m██▏   \u001b[0m| 1814/4929 [00:09<00:17, 181.84step/s]\u001b[0m"
     ]
    },
    {
     "name": "stdout",
     "output_type": "stream",
     "text": [
      "JPG image saved to: results/step_01800.jpg\n"
     ]
    },
    {
     "name": "stderr",
     "output_type": "stream",
     "text": [
      "Loss: 0.672 (L1: 0.475, MSE: 0.337, SSIM: 0.957):  38%|\u001b[36m██▎   \u001b[0m| 1886/4929 [00:09<00:18, 167.67step/s]\u001b[0m"
     ]
    },
    {
     "data": {
      "image/jpeg": "[encoded data removed]",
      "image/png": "[encoded data removed]",
      "text/plain": [
       "<PIL.Image.Image image mode=RGB size=32x32>"
      ]
     },
     "metadata": {},
     "output_type": "display_data"
    },
    {
     "name": "stderr",
     "output_type": "stream",
     "text": [
      "Loss: 0.671 (L1: 0.475, MSE: 0.337, SSIM: 0.956):  39%|\u001b[36m██▎   \u001b[0m| 1924/4929 [00:10<00:17, 176.33step/s]\u001b[0m"
     ]
    },
    {
     "name": "stdout",
     "output_type": "stream",
     "text": [
      "JPG image saved to: results/step_01900.jpg\n"
     ]
    },
    {
     "name": "stderr",
     "output_type": "stream",
     "text": [
      "Loss: 0.671 (L1: 0.475, MSE: 0.337, SSIM: 0.955):  40%|\u001b[36m██▍   \u001b[0m| 1989/4929 [00:10<00:14, 198.99step/s]\u001b[0m"
     ]
    },
    {
     "data": {
      "image/jpeg": "[encoded data removed]",
      "image/png": "[encoded data removed]",
      "text/plain": [
       "<PIL.Image.Image image mode=RGB size=32x32>"
      ]
     },
     "metadata": {},
     "output_type": "display_data"
    },
    {
     "name": "stderr",
     "output_type": "stream",
     "text": [
      "Loss: 0.670 (L1: 0.475, MSE: 0.337, SSIM: 0.955):  41%|\u001b[36m██▍   \u001b[0m| 2031/4929 [00:10<00:14, 203.18step/s]\u001b[0m"
     ]
    },
    {
     "name": "stdout",
     "output_type": "stream",
     "text": [
      "JPG image saved to: results/step_02000.jpg\n"
     ]
    },
    {
     "name": "stderr",
     "output_type": "stream",
     "text": [
      "Loss: 0.670 (L1: 0.475, MSE: 0.337, SSIM: 0.954):  43%|\u001b[36m██▌   \u001b[0m| 2097/4929 [00:10<00:13, 210.30step/s]\u001b[0m"
     ]
    },
    {
     "data": {
      "image/jpeg": "[encoded data removed]",
      "image/png": "[encoded data removed]",
      "text/plain": [
       "<PIL.Image.Image image mode=RGB size=32x32>"
      ]
     },
     "metadata": {},
     "output_type": "display_data"
    },
    {
     "name": "stderr",
     "output_type": "stream",
     "text": [
      "Loss: 0.670 (L1: 0.475, MSE: 0.337, SSIM: 0.953):  43%|\u001b[36m██▌   \u001b[0m| 2140/4929 [00:11<00:13, 208.05step/s]\u001b[0m"
     ]
    },
    {
     "name": "stdout",
     "output_type": "stream",
     "text": [
      "JPG image saved to: results/step_02100.jpg\n"
     ]
    },
    {
     "name": "stderr",
     "output_type": "stream",
     "text": [
      "Loss: 0.669 (L1: 0.475, MSE: 0.337, SSIM: 0.952):  44%|\u001b[36m██▋   \u001b[0m| 2182/4929 [00:11<00:13, 199.47step/s]\u001b[0m"
     ]
    },
    {
     "data": {
      "image/jpeg": "[encoded data removed]",
      "image/png": "[encoded data removed]",
      "text/plain": [
       "<PIL.Image.Image image mode=RGB size=32x32>"
      ]
     },
     "metadata": {},
     "output_type": "display_data"
    },
    {
     "name": "stderr",
     "output_type": "stream",
     "text": [
      "Loss: 0.669 (L1: 0.475, MSE: 0.337, SSIM: 0.952):  45%|\u001b[36m██▋   \u001b[0m| 2224/4929 [00:11<00:13, 199.29step/s]\u001b[0m"
     ]
    },
    {
     "name": "stdout",
     "output_type": "stream",
     "text": [
      "JPG image saved to: results/step_02200.jpg\n"
     ]
    },
    {
     "name": "stderr",
     "output_type": "stream",
     "text": [
      "Loss: 0.668 (L1: 0.475, MSE: 0.337, SSIM: 0.951):  46%|\u001b[36m██▊   \u001b[0m| 2284/4929 [00:11<00:13, 195.75step/s]\u001b[0m"
     ]
    },
    {
     "data": {
      "image/jpeg": "[encoded data removed]",
      "image/png": "[encoded data removed]",
      "text/plain": [
       "<PIL.Image.Image image mode=RGB size=32x32>"
      ]
     },
     "metadata": {},
     "output_type": "display_data"
    },
    {
     "name": "stderr",
     "output_type": "stream",
     "text": [
      "Loss: 0.668 (L1: 0.475, MSE: 0.337, SSIM: 0.950):  47%|\u001b[36m██▊   \u001b[0m| 2327/4929 [00:12<00:12, 203.64step/s]\u001b[0m"
     ]
    },
    {
     "name": "stdout",
     "output_type": "stream",
     "text": [
      "JPG image saved to: results/step_02300.jpg\n"
     ]
    },
    {
     "name": "stderr",
     "output_type": "stream",
     "text": [
      "Loss: 0.667 (L1: 0.474, MSE: 0.336, SSIM: 0.949):  49%|\u001b[36m██▉   \u001b[0m| 2392/4929 [00:12<00:12, 201.97step/s]\u001b[0m"
     ]
    },
    {
     "data": {
      "image/jpeg": "[encoded data removed]",
      "image/png": "[encoded data removed]",
      "text/plain": [
       "<PIL.Image.Image image mode=RGB size=32x32>"
      ]
     },
     "metadata": {},
     "output_type": "display_data"
    },
    {
     "name": "stderr",
     "output_type": "stream",
     "text": [
      "Loss: 0.667 (L1: 0.474, MSE: 0.336, SSIM: 0.949):  49%|\u001b[36m██▉   \u001b[0m| 2436/4929 [00:12<00:12, 202.83step/s]\u001b[0m"
     ]
    },
    {
     "name": "stdout",
     "output_type": "stream",
     "text": [
      "JPG image saved to: results/step_02400.jpg\n"
     ]
    },
    {
     "name": "stderr",
     "output_type": "stream",
     "text": [
      "Loss: 0.666 (L1: 0.474, MSE: 0.336, SSIM: 0.948):  50%|\u001b[36m███   \u001b[0m| 2480/4929 [00:12<00:11, 209.32step/s]\u001b[0m"
     ]
    },
    {
     "data": {
      "image/jpeg": "[encoded data removed]",
      "image/png": "[encoded data removed]",
      "text/plain": [
       "<PIL.Image.Image image mode=RGB size=32x32>"
      ]
     },
     "metadata": {},
     "output_type": "display_data"
    },
    {
     "name": "stderr",
     "output_type": "stream",
     "text": [
      "Loss: 0.666 (L1: 0.474, MSE: 0.336, SSIM: 0.947):  51%|\u001b[36m███   \u001b[0m| 2522/4929 [00:13<00:12, 199.33step/s]\u001b[0m"
     ]
    },
    {
     "name": "stdout",
     "output_type": "stream",
     "text": [
      "JPG image saved to: results/step_02500.jpg\n"
     ]
    },
    {
     "name": "stderr",
     "output_type": "stream",
     "text": [
      "Loss: 0.666 (L1: 0.474, MSE: 0.336, SSIM: 0.946):  52%|\u001b[36m███▏  \u001b[0m| 2581/4929 [00:13<00:13, 175.92step/s]\u001b[0m"
     ]
    },
    {
     "data": {
      "image/jpeg": "[encoded data removed]",
      "image/png": "[encoded data removed]",
      "text/plain": [
       "<PIL.Image.Image image mode=RGB size=32x32>"
      ]
     },
     "metadata": {},
     "output_type": "display_data"
    },
    {
     "name": "stderr",
     "output_type": "stream",
     "text": [
      "Loss: 0.665 (L1: 0.474, MSE: 0.336, SSIM: 0.946):  53%|\u001b[36m███▏  \u001b[0m| 2620/4929 [00:13<00:13, 173.88step/s]\u001b[0m"
     ]
    },
    {
     "name": "stdout",
     "output_type": "stream",
     "text": [
      "JPG image saved to: results/step_02600.jpg\n"
     ]
    },
    {
     "name": "stderr",
     "output_type": "stream",
     "text": [
      "Loss: 0.665 (L1: 0.474, MSE: 0.336, SSIM: 0.945):  55%|\u001b[36m███▎  \u001b[0m| 2690/4929 [00:14<00:13, 161.65step/s]\u001b[0m"
     ]
    },
    {
     "data": {
      "image/jpeg": "[encoded data removed]",
      "image/png": "[encoded data removed]",
      "text/plain": [
       "<PIL.Image.Image image mode=RGB size=32x32>"
      ]
     },
     "metadata": {},
     "output_type": "display_data"
    },
    {
     "name": "stderr",
     "output_type": "stream",
     "text": [
      "Loss: 0.664 (L1: 0.474, MSE: 0.336, SSIM: 0.944):  55%|\u001b[36m███▎  \u001b[0m| 2725/4929 [00:14<00:13, 166.75step/s]\u001b[0m"
     ]
    },
    {
     "name": "stdout",
     "output_type": "stream",
     "text": [
      "JPG image saved to: results/step_02700.jpg\n"
     ]
    },
    {
     "name": "stderr",
     "output_type": "stream",
     "text": [
      "Loss: 0.664 (L1: 0.474, MSE: 0.336, SSIM: 0.943):  57%|\u001b[36m███▍  \u001b[0m| 2793/4929 [00:14<00:13, 162.10step/s]\u001b[0m"
     ]
    },
    {
     "data": {
      "image/jpeg": "[encoded data removed]",
      "image/png": "[encoded data removed]",
      "text/plain": [
       "<PIL.Image.Image image mode=RGB size=32x32>"
      ]
     },
     "metadata": {},
     "output_type": "display_data"
    },
    {
     "name": "stderr",
     "output_type": "stream",
     "text": [
      "Loss: 0.664 (L1: 0.473, MSE: 0.335, SSIM: 0.943):  57%|\u001b[36m███▍  \u001b[0m| 2827/4929 [00:14<00:13, 159.32step/s]\u001b[0m"
     ]
    },
    {
     "name": "stdout",
     "output_type": "stream",
     "text": [
      "JPG image saved to: results/step_02800.jpg\n"
     ]
    },
    {
     "name": "stderr",
     "output_type": "stream",
     "text": [
      "Loss: 0.663 (L1: 0.473, MSE: 0.335, SSIM: 0.942):  59%|\u001b[36m███▌  \u001b[0m| 2897/4929 [00:15<00:12, 167.07step/s]\u001b[0m"
     ]
    },
    {
     "data": {
      "image/jpeg": "[encoded data removed]",
      "image/png": "[encoded data removed]",
      "text/plain": [
       "<PIL.Image.Image image mode=RGB size=32x32>"
      ]
     },
     "metadata": {},
     "output_type": "display_data"
    },
    {
     "name": "stderr",
     "output_type": "stream",
     "text": [
      "Loss: 0.663 (L1: 0.473, MSE: 0.335, SSIM: 0.941):  59%|\u001b[36m███▌  \u001b[0m| 2931/4929 [00:15<00:12, 161.28step/s]\u001b[0m"
     ]
    },
    {
     "name": "stdout",
     "output_type": "stream",
     "text": [
      "JPG image saved to: results/step_02900.jpg\n"
     ]
    },
    {
     "name": "stderr",
     "output_type": "stream",
     "text": [
      "Loss: 0.662 (L1: 0.473, MSE: 0.335, SSIM: 0.940):  61%|\u001b[36m███▋  \u001b[0m| 2984/4929 [00:15<00:11, 167.05step/s]\u001b[0m"
     ]
    },
    {
     "data": {
      "image/jpeg": "[encoded data removed]",
      "image/png": "[encoded data removed]",
      "text/plain": [
       "<PIL.Image.Image image mode=RGB size=32x32>"
      ]
     },
     "metadata": {},
     "output_type": "display_data"
    },
    {
     "name": "stderr",
     "output_type": "stream",
     "text": [
      "Loss: 0.662 (L1: 0.473, MSE: 0.335, SSIM: 0.940):  61%|\u001b[36m███▋  \u001b[0m| 3021/4929 [00:16<00:11, 172.68step/s]\u001b[0m"
     ]
    },
    {
     "name": "stdout",
     "output_type": "stream",
     "text": [
      "JPG image saved to: results/step_03000.jpg\n"
     ]
    },
    {
     "name": "stderr",
     "output_type": "stream",
     "text": [
      "Loss: 0.661 (L1: 0.473, MSE: 0.335, SSIM: 0.939):  63%|\u001b[36m███▊  \u001b[0m| 3093/4929 [00:16<00:10, 174.10step/s]\u001b[0m"
     ]
    },
    {
     "data": {
      "image/jpeg": "[encoded data removed]",
      "image/png": "[encoded data removed]",
      "text/plain": [
       "<PIL.Image.Image image mode=RGB size=32x32>"
      ]
     },
     "metadata": {},
     "output_type": "display_data"
    },
    {
     "name": "stderr",
     "output_type": "stream",
     "text": [
      "Loss: 0.661 (L1: 0.473, MSE: 0.335, SSIM: 0.939):  63%|\u001b[36m███▊  \u001b[0m| 3128/4929 [00:16<00:11, 163.58step/s]\u001b[0m"
     ]
    },
    {
     "name": "stdout",
     "output_type": "stream",
     "text": [
      "JPG image saved to: results/step_03100.jpg\n"
     ]
    },
    {
     "name": "stderr",
     "output_type": "stream",
     "text": [
      "Loss: 0.661 (L1: 0.473, MSE: 0.335, SSIM: 0.938):  65%|\u001b[36m███▉  \u001b[0m| 3200/4929 [00:17<00:09, 174.61step/s]\u001b[0m"
     ]
    },
    {
     "data": {
      "image/jpeg": "[encoded data removed]",
      "image/png": "[encoded data removed]",
      "text/plain": [
       "<PIL.Image.Image image mode=RGB size=32x32>"
      ]
     },
     "metadata": {},
     "output_type": "display_data"
    },
    {
     "name": "stderr",
     "output_type": "stream",
     "text": [
      "Loss: 0.660 (L1: 0.473, MSE: 0.334, SSIM: 0.937):  66%|\u001b[36m███▉  \u001b[0m| 3241/4929 [00:17<00:08, 189.85step/s]\u001b[0m"
     ]
    },
    {
     "name": "stdout",
     "output_type": "stream",
     "text": [
      "JPG image saved to: results/step_03200.jpg\n"
     ]
    },
    {
     "name": "stderr",
     "output_type": "stream",
     "text": [
      "Loss: 0.660 (L1: 0.472, MSE: 0.334, SSIM: 0.936):  67%|\u001b[36m███▉  \u001b[0m| 3285/4929 [00:17<00:08, 201.00step/s]\u001b[0m"
     ]
    },
    {
     "data": {
      "image/jpeg": "[encoded data removed]",
      "image/png": "[encoded data removed]",
      "text/plain": [
       "<PIL.Image.Image image mode=RGB size=32x32>"
      ]
     },
     "metadata": {},
     "output_type": "display_data"
    },
    {
     "name": "stderr",
     "output_type": "stream",
     "text": [
      "Loss: 0.659 (L1: 0.472, MSE: 0.334, SSIM: 0.936):  67%|\u001b[36m████  \u001b[0m| 3327/4929 [00:17<00:07, 202.59step/s]\u001b[0m"
     ]
    },
    {
     "name": "stdout",
     "output_type": "stream",
     "text": [
      "JPG image saved to: results/step_03300.jpg\n"
     ]
    },
    {
     "name": "stderr",
     "output_type": "stream",
     "text": [
      "Loss: 0.659 (L1: 0.472, MSE: 0.334, SSIM: 0.935):  69%|\u001b[36m████▏ \u001b[0m| 3391/4929 [00:18<00:07, 205.69step/s]\u001b[0m"
     ]
    },
    {
     "data": {
      "image/jpeg": "[encoded data removed]",
      "image/png": "[encoded data removed]",
      "text/plain": [
       "<PIL.Image.Image image mode=RGB size=32x32>"
      ]
     },
     "metadata": {},
     "output_type": "display_data"
    },
    {
     "name": "stderr",
     "output_type": "stream",
     "text": [
      "Loss: 0.659 (L1: 0.472, MSE: 0.334, SSIM: 0.934):  70%|\u001b[36m████▏ \u001b[0m| 3433/4929 [00:18<00:07, 196.40step/s]\u001b[0m"
     ]
    },
    {
     "name": "stdout",
     "output_type": "stream",
     "text": [
      "JPG image saved to: results/step_03400.jpg\n"
     ]
    },
    {
     "name": "stderr",
     "output_type": "stream",
     "text": [
      "Loss: 0.658 (L1: 0.472, MSE: 0.334, SSIM: 0.933):  71%|\u001b[36m████▏ \u001b[0m| 3485/4929 [00:18<00:06, 229.52step/s]\u001b[0m"
     ]
    },
    {
     "data": {
      "image/jpeg": "[encoded data removed]",
      "image/png": "[encoded data removed]",
      "text/plain": [
       "<PIL.Image.Image image mode=RGB size=32x32>"
      ]
     },
     "metadata": {},
     "output_type": "display_data"
    },
    {
     "name": "stderr",
     "output_type": "stream",
     "text": [
      "Loss: 0.658 (L1: 0.472, MSE: 0.334, SSIM: 0.933):  72%|\u001b[36m████▎ \u001b[0m| 3544/4929 [00:18<00:05, 261.48step/s]\u001b[0m"
     ]
    },
    {
     "name": "stdout",
     "output_type": "stream",
     "text": [
      "JPG image saved to: results/step_03500.jpg\n"
     ]
    },
    {
     "name": "stderr",
     "output_type": "stream",
     "text": [
      "Loss: 0.657 (L1: 0.472, MSE: 0.334, SSIM: 0.932):  73%|\u001b[36m████▎ \u001b[0m| 3574/4929 [00:18<00:04, 272.77step/s]\u001b[0m"
     ]
    },
    {
     "data": {
      "image/jpeg": "[encoded data removed]",
      "image/png": "[encoded data removed]",
      "text/plain": [
       "<PIL.Image.Image image mode=RGB size=32x32>"
      ]
     },
     "metadata": {},
     "output_type": "display_data"
    },
    {
     "name": "stderr",
     "output_type": "stream",
     "text": [
      "Loss: 0.657 (L1: 0.472, MSE: 0.333, SSIM: 0.931):  74%|\u001b[36m████▍ \u001b[0m| 3632/4929 [00:19<00:04, 277.78step/s]\u001b[0m"
     ]
    },
    {
     "name": "stdout",
     "output_type": "stream",
     "text": [
      "JPG image saved to: results/step_03600.jpg\n"
     ]
    },
    {
     "name": "stderr",
     "output_type": "stream",
     "text": [
      "Loss: 0.657 (L1: 0.471, MSE: 0.333, SSIM: 0.931):  75%|\u001b[36m████▍ \u001b[0m| 3688/4929 [00:19<00:04, 265.79step/s]\u001b[0m"
     ]
    },
    {
     "data": {
      "image/jpeg": "[encoded data removed]",
      "image/png": "[encoded data removed]",
      "text/plain": [
       "<PIL.Image.Image image mode=RGB size=32x32>"
      ]
     },
     "metadata": {},
     "output_type": "display_data"
    },
    {
     "name": "stderr",
     "output_type": "stream",
     "text": [
      "Loss: 0.656 (L1: 0.471, MSE: 0.333, SSIM: 0.930):  76%|\u001b[36m████▌ \u001b[0m| 3745/4929 [00:19<00:04, 266.76step/s]\u001b[0m"
     ]
    },
    {
     "name": "stdout",
     "output_type": "stream",
     "text": [
      "JPG image saved to: results/step_03700.jpg\n"
     ]
    },
    {
     "name": "stderr",
     "output_type": "stream",
     "text": [
      "Loss: 0.656 (L1: 0.471, MSE: 0.333, SSIM: 0.929):  77%|\u001b[36m████▌ \u001b[0m| 3775/4929 [00:19<00:04, 275.64step/s]\u001b[0m"
     ]
    },
    {
     "data": {
      "image/jpeg": "[encoded data removed]",
      "image/png": "[encoded data removed]",
      "text/plain": [
       "<PIL.Image.Image image mode=RGB size=32x32>"
      ]
     },
     "metadata": {},
     "output_type": "display_data"
    },
    {
     "name": "stderr",
     "output_type": "stream",
     "text": [
      "Loss: 0.655 (L1: 0.471, MSE: 0.333, SSIM: 0.929):  78%|\u001b[36m████▋ \u001b[0m| 3834/4929 [00:19<00:03, 283.11step/s]\u001b[0m"
     ]
    },
    {
     "name": "stdout",
     "output_type": "stream",
     "text": [
      "JPG image saved to: results/step_03800.jpg\n"
     ]
    },
    {
     "name": "stderr",
     "output_type": "stream",
     "text": [
      "Loss: 0.655 (L1: 0.471, MSE: 0.333, SSIM: 0.928):  79%|\u001b[36m████▋ \u001b[0m| 3890/4929 [00:20<00:04, 229.22step/s]\u001b[0m"
     ]
    },
    {
     "data": {
      "image/jpeg": "[encoded data removed]",
      "image/png": "[encoded data removed]",
      "text/plain": [
       "<PIL.Image.Image image mode=RGB size=32x32>"
      ]
     },
     "metadata": {},
     "output_type": "display_data"
    },
    {
     "name": "stderr",
     "output_type": "stream",
     "text": [
      "Loss: 0.655 (L1: 0.471, MSE: 0.333, SSIM: 0.928):  79%|\u001b[36m████▊ \u001b[0m| 3914/4929 [00:20<00:05, 201.38step/s]\u001b[0m"
     ]
    },
    {
     "name": "stdout",
     "output_type": "stream",
     "text": [
      "JPG image saved to: results/step_03900.jpg\n"
     ]
    },
    {
     "name": "stderr",
     "output_type": "stream",
     "text": [
      "Loss: 0.654 (L1: 0.471, MSE: 0.333, SSIM: 0.927):  81%|\u001b[36m████▊ \u001b[0m| 3999/4929 [00:20<00:04, 200.11step/s]\u001b[0m"
     ]
    },
    {
     "data": {
      "image/jpeg": "[encoded data removed]",
      "image/png": "[encoded data removed]",
      "text/plain": [
       "<PIL.Image.Image image mode=RGB size=32x32>"
      ]
     },
     "metadata": {},
     "output_type": "display_data"
    },
    {
     "name": "stderr",
     "output_type": "stream",
     "text": [
      "Loss: 0.654 (L1: 0.471, MSE: 0.333, SSIM: 0.926):  82%|\u001b[36m████▉ \u001b[0m| 4041/4929 [00:20<00:04, 199.90step/s]\u001b[0m"
     ]
    },
    {
     "name": "stdout",
     "output_type": "stream",
     "text": [
      "JPG image saved to: results/step_04000.jpg\n"
     ]
    },
    {
     "name": "stderr",
     "output_type": "stream",
     "text": [
      "Loss: 0.654 (L1: 0.470, MSE: 0.332, SSIM: 0.926):  83%|\u001b[36m████▉ \u001b[0m| 4084/4929 [00:21<00:04, 204.98step/s]\u001b[0m"
     ]
    },
    {
     "data": {
      "image/jpeg": "[encoded data removed]",
      "image/png": "[encoded data removed]",
      "text/plain": [
       "<PIL.Image.Image image mode=RGB size=32x32>"
      ]
     },
     "metadata": {},
     "output_type": "display_data"
    },
    {
     "name": "stderr",
     "output_type": "stream",
     "text": [
      "Loss: 0.653 (L1: 0.470, MSE: 0.332, SSIM: 0.925):  84%|\u001b[36m█████ \u001b[0m| 4125/4929 [00:21<00:04, 188.66step/s]\u001b[0m"
     ]
    },
    {
     "name": "stdout",
     "output_type": "stream",
     "text": [
      "JPG image saved to: results/step_04100.jpg\n"
     ]
    },
    {
     "name": "stderr",
     "output_type": "stream",
     "text": [
      "Loss: 0.653 (L1: 0.470, MSE: 0.332, SSIM: 0.925):  85%|\u001b[36m█████ \u001b[0m| 4181/4929 [00:21<00:04, 171.78step/s]\u001b[0m"
     ]
    },
    {
     "data": {
      "image/jpeg": "[encoded data removed]",
      "image/png": "[encoded data removed]",
      "text/plain": [
       "<PIL.Image.Image image mode=RGB size=32x32>"
      ]
     },
     "metadata": {},
     "output_type": "display_data"
    },
    {
     "name": "stderr",
     "output_type": "stream",
     "text": [
      "Loss: 0.653 (L1: 0.470, MSE: 0.332, SSIM: 0.924):  86%|\u001b[36m█████▏\u001b[0m| 4219/4929 [00:21<00:04, 175.61step/s]\u001b[0m"
     ]
    },
    {
     "name": "stdout",
     "output_type": "stream",
     "text": [
      "JPG image saved to: results/step_04200.jpg\n"
     ]
    },
    {
     "name": "stderr",
     "output_type": "stream",
     "text": [
      "Loss: 0.652 (L1: 0.470, MSE: 0.332, SSIM: 0.923):  87%|\u001b[36m█████▏\u001b[0m| 4290/4929 [00:22<00:03, 170.94step/s]\u001b[0m"
     ]
    },
    {
     "data": {
      "image/jpeg": "[encoded data removed]",
      "image/png": "[encoded data removed]",
      "text/plain": [
       "<PIL.Image.Image image mode=RGB size=32x32>"
      ]
     },
     "metadata": {},
     "output_type": "display_data"
    },
    {
     "name": "stderr",
     "output_type": "stream",
     "text": [
      "Loss: 0.652 (L1: 0.470, MSE: 0.332, SSIM: 0.923):  88%|\u001b[36m█████▎\u001b[0m| 4328/4929 [00:22<00:03, 175.97step/s]\u001b[0m"
     ]
    },
    {
     "name": "stdout",
     "output_type": "stream",
     "text": [
      "JPG image saved to: results/step_04300.jpg\n"
     ]
    },
    {
     "name": "stderr",
     "output_type": "stream",
     "text": [
      "Loss: 0.651 (L1: 0.470, MSE: 0.332, SSIM: 0.922):  89%|\u001b[36m█████▎\u001b[0m| 4384/4929 [00:22<00:03, 178.02step/s]\u001b[0m"
     ]
    },
    {
     "data": {
      "image/jpeg": "[encoded data removed]",
      "image/png": "[encoded data removed]",
      "text/plain": [
       "<PIL.Image.Image image mode=RGB size=32x32>"
      ]
     },
     "metadata": {},
     "output_type": "display_data"
    },
    {
     "name": "stderr",
     "output_type": "stream",
     "text": [
      "Loss: 0.651 (L1: 0.470, MSE: 0.331, SSIM: 0.922):  90%|\u001b[36m█████▍\u001b[0m| 4420/4929 [00:23<00:03, 169.31step/s]\u001b[0m"
     ]
    },
    {
     "name": "stdout",
     "output_type": "stream",
     "text": [
      "JPG image saved to: results/step_04400.jpg\n"
     ]
    },
    {
     "name": "stderr",
     "output_type": "stream",
     "text": [
      "Loss: 0.651 (L1: 0.469, MSE: 0.331, SSIM: 0.921):  91%|\u001b[36m█████▍\u001b[0m| 4490/4929 [00:23<00:02, 170.75step/s]\u001b[0m"
     ]
    },
    {
     "data": {
      "image/jpeg": "[encoded data removed]",
      "image/png": "[encoded data removed]",
      "text/plain": [
       "<PIL.Image.Image image mode=RGB size=32x32>"
      ]
     },
     "metadata": {},
     "output_type": "display_data"
    },
    {
     "name": "stderr",
     "output_type": "stream",
     "text": [
      "Loss: 0.651 (L1: 0.469, MSE: 0.331, SSIM: 0.921):  92%|\u001b[36m█████▌\u001b[0m| 4527/4929 [00:23<00:02, 175.01step/s]\u001b[0m"
     ]
    },
    {
     "name": "stdout",
     "output_type": "stream",
     "text": [
      "JPG image saved to: results/step_04500.jpg\n"
     ]
    },
    {
     "name": "stderr",
     "output_type": "stream",
     "text": [
      "Loss: 0.650 (L1: 0.469, MSE: 0.331, SSIM: 0.920):  93%|\u001b[36m█████▌\u001b[0m| 4586/4929 [00:24<00:01, 182.31step/s]\u001b[0m"
     ]
    },
    {
     "data": {
      "image/jpeg": "[encoded data removed]",
      "image/png": "[encoded data removed]",
      "text/plain": [
       "<PIL.Image.Image image mode=RGB size=32x32>"
      ]
     },
     "metadata": {},
     "output_type": "display_data"
    },
    {
     "name": "stderr",
     "output_type": "stream",
     "text": [
      "Loss: 0.650 (L1: 0.469, MSE: 0.331, SSIM: 0.920):  94%|\u001b[36m█████▋\u001b[0m| 4628/4929 [00:24<00:01, 195.99step/s]\u001b[0m"
     ]
    },
    {
     "name": "stdout",
     "output_type": "stream",
     "text": [
      "JPG image saved to: results/step_04600.jpg\n"
     ]
    },
    {
     "name": "stderr",
     "output_type": "stream",
     "text": [
      "Loss: 0.649 (L1: 0.469, MSE: 0.331, SSIM: 0.919):  95%|\u001b[36m█████▋\u001b[0m| 4694/4929 [00:24<00:01, 209.72step/s]\u001b[0m"
     ]
    },
    {
     "data": {
      "image/jpeg": "[encoded data removed]",
      "image/png": "[encoded data removed]",
      "text/plain": [
       "<PIL.Image.Image image mode=RGB size=32x32>"
      ]
     },
     "metadata": {},
     "output_type": "display_data"
    },
    {
     "name": "stderr",
     "output_type": "stream",
     "text": [
      "Loss: 0.649 (L1: 0.469, MSE: 0.331, SSIM: 0.918):  96%|\u001b[36m█████▊\u001b[0m| 4737/4929 [00:24<00:00, 210.79step/s]\u001b[0m"
     ]
    },
    {
     "name": "stdout",
     "output_type": "stream",
     "text": [
      "JPG image saved to: results/step_04700.jpg\n"
     ]
    },
    {
     "name": "stderr",
     "output_type": "stream",
     "text": [
      "Loss: 0.649 (L1: 0.469, MSE: 0.331, SSIM: 0.918):  97%|\u001b[36m█████▊\u001b[0m| 4781/4929 [00:24<00:00, 212.84step/s]\u001b[0m"
     ]
    },
    {
     "data": {
      "image/jpeg": "[encoded data removed]",
      "image/png": "[encoded data removed]",
      "text/plain": [
       "<PIL.Image.Image image mode=RGB size=32x32>"
      ]
     },
     "metadata": {},
     "output_type": "display_data"
    },
    {
     "name": "stderr",
     "output_type": "stream",
     "text": [
      "Loss: 0.648 (L1: 0.469, MSE: 0.330, SSIM: 0.917):  98%|\u001b[36m█████▊\u001b[0m| 4825/4929 [00:25<00:00, 212.44step/s]\u001b[0m"
     ]
    },
    {
     "name": "stdout",
     "output_type": "stream",
     "text": [
      "JPG image saved to: results/step_04800.jpg\n"
     ]
    },
    {
     "name": "stderr",
     "output_type": "stream",
     "text": [
      "Loss: 0.648 (L1: 0.468, MSE: 0.330, SSIM: 0.917):  99%|\u001b[36m█████▉\u001b[0m| 4871/4929 [00:25<00:00, 208.47step/s]\u001b[0m"
     ]
    },
    {
     "data": {
      "image/jpeg": "[encoded data removed]",
      "image/png": "[encoded data removed]",
      "text/plain": [
       "<PIL.Image.Image image mode=RGB size=32x32>"
      ]
     },
     "metadata": {},
     "output_type": "display_data"
    },
    {
     "name": "stderr",
     "output_type": "stream",
     "text": [
      "Loss: 0.648 (L1: 0.468, MSE: 0.330, SSIM: 0.916): 100%|\u001b[36m██████\u001b[0m| 4929/4929 [00:25<00:00, 193.44step/s]\u001b[0m\n"
     ]
    },
    {
     "name": "stdout",
     "output_type": "stream",
     "text": [
      "JPG image saved to: results/step_04900.jpg\n",
      "GIF saved to: results/animation.gif\n"
     ]
    },
    {
     "data": {
      "image/jpeg": "[encoded data removed]",
      "image/png": "[encoded data removed]",
      "text/plain": [
       "<PIL.Image.Image image mode=RGB size=32x32>"
      ]
     },
     "metadata": {},
     "output_type": "display_data"
    },
    {
     "name": "stderr",
     "output_type": "stream",
     "text": [
      "[I 2025-01-06 06:10:28,333] Trial 0 finished with value: 0.4682217836380005 and parameters: {'loss_weight_l1': 0.31320743567265075, 'loss_weight_mse': 0.5539792670233178, 'loss_weight_ssim': 0.8646538403632547, 'scale_regulation': 0.5, 'opacity_regulation': 1.0, 'init_type': 'random', 'num_points': 576, 'extent': 2.0, 'init_scale': 1.4963908337936989, 'init_opacity': 0.10716465888136174, 'max_steps': 4929, 'learning_rate': 1.6513587055956062e-05, 'model_type': '2dgs', 'bilateral_grid': False}. Best is trial 0 with value: 0.4682217836380005.\n"
     ]
    },
    {
     "name": "stdout",
     "output_type": "stream",
     "text": [
      "JPG image saved to: results/final.jpg\n",
      "Final loss: 0.6477999091148376\n",
      "Total Time: Rasterization: 3.659s, Backward: 10.570s\n",
      "Trial 0 finished with value: 0.4682217836380005 and parameters: {'loss_weight_l1': 0.31320743567265075, 'loss_weight_mse': 0.5539792670233178, 'loss_weight_ssim': 0.8646538403632547, 'scale_regulation': 0.5, 'opacity_regulation': 1.0, 'init_type': 'random', 'num_points': 576, 'extent': 2.0, 'init_scale': 1.4963908337936989, 'init_opacity': 0.10716465888136174, 'max_steps': 4929, 'learning_rate': 1.6513587055956062e-05, 'model_type': '2dgs', 'bilateral_grid': False}. Best is trial 0 with value: 0.4682217836380005.\n",
      "Trial 0 finished with value: 0.4682217836380005 and parameters: {'loss_weight_l1': 0.31320743567265075, 'loss_weight_mse': 0.5539792670233178, 'loss_weight_ssim': 0.8646538403632547, 'scale_regulation': 0.5, 'opacity_regulation': 1.0, 'init_type': 'random', 'num_points': 576, 'extent': 2.0, 'init_scale': 1.4963908337936989, 'init_opacity': 0.10716465888136174, 'max_steps': 4929, 'learning_rate': 1.6513587055956062e-05, 'model_type': '2dgs', 'bilateral_grid': False}. Best is trial 0 with value: 0.4682217836380005.\n",
      "Trial 0 finished with value: 0.4682217836380005 and parameters: {'loss_weight_l1': 0.31320743567265075, 'loss_weight_mse': 0.5539792670233178, 'loss_weight_ssim': 0.8646538403632547, 'scale_regulation': 0.5, 'opacity_regulation': 1.0, 'init_type': 'random', 'num_points': 576, 'extent': 2.0, 'init_scale': 1.4963908337936989, 'init_opacity': 0.10716465888136174, 'max_steps': 4929, 'learning_rate': 1.6513587055956062e-05, 'model_type': '2dgs', 'bilateral_grid': False}. Best is trial 0 with value: 0.4682217836380005.\n",
      "Trial 0 finished with value: 0.4682217836380005 and parameters: {'loss_weight_l1': 0.31320743567265075, 'loss_weight_mse': 0.5539792670233178, 'loss_weight_ssim': 0.8646538403632547, 'scale_regulation': 0.5, 'opacity_regulation': 1.0, 'init_type': 'random', 'num_points': 576, 'extent': 2.0, 'init_scale': 1.4963908337936989, 'init_opacity': 0.10716465888136174, 'max_steps': 4929, 'learning_rate': 1.6513587055956062e-05, 'model_type': '2dgs', 'bilateral_grid': False}. Best is trial 0 with value: 0.4682217836380005.\n",
      "Model initialized. Number of Gaussians: 1024\n"
     ]
    },
    {
     "name": "stderr",
     "output_type": "stream",
     "text": [
      "/usr/local/lib/python3.10/dist-packages/torchmetrics/utilities/prints.py:62: FutureWarning: Importing `StructuralSimilarityIndexMeasure` from `torchmetrics` was deprecated and will be removed in 2.0. Import `StructuralSimilarityIndexMeasure` from `torchmetrics.image` instead.\n",
      "  _future_warning(\n",
      "/usr/local/lib/python3.10/dist-packages/torchmetrics/utilities/prints.py:62: FutureWarning: Importing `PeakSignalNoiseRatio` from `torchmetrics` was deprecated and will be removed in 2.0. Import `PeakSignalNoiseRatio` from `torchmetrics.image` instead.\n",
      "  _future_warning(\n",
      "/usr/local/lib/python3.10/dist-packages/torchmetrics/functional/image/lpips.py:323: FutureWarning: You are using `torch.load` with `weights_only=False` (the current default value), which uses the default pickle module implicitly. It is possible to construct malicious pickle data which will execute arbitrary code during unpickling (See https://github.com/pytorch/pytorch/blob/main/SECURITY.md#untrusted-models for more details). In a future release, the default value for `weights_only` will be flipped to `True`. This limits the functions that could be executed during unpickling. Arbitrary objects will no longer be allowed to be loaded via this mode unless they are explicitly allowlisted by the user via `torch.serialization.add_safe_globals`. We recommend you start setting `weights_only=True` for any use case where you don't have full control of the loaded file. Please open an issue on GitHub for any issues related to this experimental feature.\n",
      "  self.load_state_dict(torch.load(model_path, map_location=\"cpu\"), strict=False)\n"
     ]
    },
    {
     "data": {
      "image/jpeg": "[encoded data removed]",
      "image/png": "[encoded data removed]",
      "text/plain": [
       "<PIL.Image.Image image mode=RGB size=32x32>"
      ]
     },
     "metadata": {},
     "output_type": "display_data"
    },
    {
     "name": "stdout",
     "output_type": "stream",
     "text": [
      "JPG image saved to: results/original.jpg\n"
     ]
    },
    {
     "name": "stderr",
     "output_type": "stream",
     "text": [
      "Loss: 0.585 (L1: 0.441, MSE: 0.283, SSIM: 1.083):   0%|\u001b[36m                   \u001b[0m| 0/944 [00:00<?, ?step/s]\u001b[0m"
     ]
    },
    {
     "data": {
      "image/jpeg": "[encoded data removed]",
      "image/png": "[encoded data removed]",
      "text/plain": [
       "<PIL.Image.Image image mode=RGB size=32x32>"
      ]
     },
     "metadata": {},
     "output_type": "display_data"
    },
    {
     "name": "stderr",
     "output_type": "stream",
     "text": [
      "Loss: 0.572 (L1: 0.428, MSE: 0.270, SSIM: 1.070):   2%|\u001b[36m▏        \u001b[0m| 18/944 [00:00<00:05, 174.18step/s]\u001b[0m"
     ]
    },
    {
     "name": "stdout",
     "output_type": "stream",
     "text": [
      "JPG image saved to: results/step_00000.jpg\n"
     ]
    },
    {
     "name": "stderr",
     "output_type": "stream",
     "text": [
      "Loss: 0.550 (L1: 0.405, MSE: 0.247, SSIM: 1.050):  10%|\u001b[36m▉        \u001b[0m| 98/944 [00:00<00:04, 190.68step/s]\u001b[0m"
     ]
    },
    {
     "data": {
      "image/jpeg": "[encoded data removed]",
      "image/png": "[encoded data removed]",
      "text/plain": [
       "<PIL.Image.Image image mode=RGB size=32x32>"
      ]
     },
     "metadata": {},
     "output_type": "display_data"
    },
    {
     "name": "stderr",
     "output_type": "stream",
     "text": [
      "Loss: 0.526 (L1: 0.384, MSE: 0.227, SSIM: 1.019):  15%|\u001b[36m█▏      \u001b[0m| 141/944 [00:00<00:03, 202.38step/s]\u001b[0m"
     ]
    },
    {
     "name": "stdout",
     "output_type": "stream",
     "text": [
      "JPG image saved to: results/step_00100.jpg\n"
     ]
    },
    {
     "name": "stderr",
     "output_type": "stream",
     "text": [
      "Loss: 0.495 (L1: 0.354, MSE: 0.197, SSIM: 0.984):  19%|\u001b[36m█▌      \u001b[0m| 183/944 [00:01<00:03, 197.87step/s]\u001b[0m"
     ]
    },
    {
     "data": {
      "image/jpeg": "[encoded data removed]",
      "image/png": "[encoded data removed]",
      "text/plain": [
       "<PIL.Image.Image image mode=RGB size=32x32>"
      ]
     },
     "metadata": {},
     "output_type": "display_data"
    },
    {
     "name": "stderr",
     "output_type": "stream",
     "text": [
      "Loss: 0.473 (L1: 0.334, MSE: 0.177, SSIM: 0.953):  24%|\u001b[36m█▉      \u001b[0m| 222/944 [00:01<00:03, 187.09step/s]\u001b[0m"
     ]
    },
    {
     "name": "stdout",
     "output_type": "stream",
     "text": [
      "JPG image saved to: results/step_00200.jpg\n"
     ]
    },
    {
     "name": "stderr",
     "output_type": "stream",
     "text": [
      "Loss: 0.431 (L1: 0.298, MSE: 0.140, SSIM: 0.895):  32%|\u001b[36m██▌     \u001b[0m| 299/944 [00:01<00:03, 187.53step/s]\u001b[0m"
     ]
    },
    {
     "data": {
      "image/jpeg": "[encoded data removed]",
      "image/png": "[encoded data removed]",
      "text/plain": [
       "<PIL.Image.Image image mode=RGB size=32x32>"
      ]
     },
     "metadata": {},
     "output_type": "display_data"
    },
    {
     "name": "stderr",
     "output_type": "stream",
     "text": [
      "Loss: 0.406 (L1: 0.278, MSE: 0.120, SSIM: 0.856):  34%|\u001b[36m██▋     \u001b[0m| 318/944 [00:01<00:03, 187.73step/s]\u001b[0m"
     ]
    },
    {
     "name": "stdout",
     "output_type": "stream",
     "text": [
      "JPG image saved to: results/step_00300.jpg\n"
     ]
    },
    {
     "name": "stderr",
     "output_type": "stream",
     "text": [
      "Loss: 0.362 (L1: 0.241, MSE: 0.086, SSIM: 0.791):  42%|\u001b[36m███▎    \u001b[0m| 395/944 [00:02<00:02, 185.56step/s]\u001b[0m"
     ]
    },
    {
     "data": {
      "image/jpeg": "[encoded data removed]",
      "image/png": "[encoded data removed]",
      "text/plain": [
       "<PIL.Image.Image image mode=RGB size=32x32>"
      ]
     },
     "metadata": {},
     "output_type": "display_data"
    },
    {
     "name": "stderr",
     "output_type": "stream",
     "text": [
      "Loss: 0.335 (L1: 0.223, MSE: 0.071, SSIM: 0.737):  46%|\u001b[36m███▋    \u001b[0m| 435/944 [00:02<00:02, 191.45step/s]\u001b[0m"
     ]
    },
    {
     "name": "stdout",
     "output_type": "stream",
     "text": [
      "JPG image saved to: results/step_00400.jpg\n"
     ]
    },
    {
     "name": "stderr",
     "output_type": "stream",
     "text": [
      "Loss: 0.287 (L1: 0.192, MSE: 0.050, SSIM: 0.632):  52%|\u001b[36m████▏   \u001b[0m| 493/944 [00:02<00:02, 182.51step/s]\u001b[0m"
     ]
    },
    {
     "data": {
      "image/jpeg": "[encoded data removed]",
      "image/png": "[encoded data removed]",
      "text/plain": [
       "<PIL.Image.Image image mode=RGB size=32x32>"
      ]
     },
     "metadata": {},
     "output_type": "display_data"
    },
    {
     "name": "stderr",
     "output_type": "stream",
     "text": [
      "Loss: 0.265 (L1: 0.179, MSE: 0.042, SSIM: 0.583):  56%|\u001b[36m████▌   \u001b[0m| 531/944 [00:02<00:02, 180.68step/s]\u001b[0m"
     ]
    },
    {
     "name": "stdout",
     "output_type": "stream",
     "text": [
      "JPG image saved to: results/step_00500.jpg\n"
     ]
    },
    {
     "name": "stderr",
     "output_type": "stream",
     "text": [
      "Loss: 0.230 (L1: 0.156, MSE: 0.031, SSIM: 0.505):  62%|\u001b[36m████▉   \u001b[0m| 588/944 [00:03<00:01, 182.68step/s]\u001b[0m"
     ]
    },
    {
     "data": {
      "image/jpeg": "[encoded data removed]",
      "image/png": "[encoded data removed]",
      "text/plain": [
       "<PIL.Image.Image image mode=RGB size=32x32>"
      ]
     },
     "metadata": {},
     "output_type": "display_data"
    },
    {
     "name": "stderr",
     "output_type": "stream",
     "text": [
      "Loss: 0.212 (L1: 0.145, MSE: 0.027, SSIM: 0.468):  67%|\u001b[36m█████▍  \u001b[0m| 635/944 [00:03<00:01, 206.17step/s]\u001b[0m"
     ]
    },
    {
     "name": "stdout",
     "output_type": "stream",
     "text": [
      "JPG image saved to: results/step_00600.jpg\n"
     ]
    },
    {
     "name": "stderr",
     "output_type": "stream",
     "text": [
      "Loss: 0.192 (L1: 0.132, MSE: 0.023, SSIM: 0.423):  72%|\u001b[36m█████▊  \u001b[0m| 683/944 [00:03<00:01, 219.75step/s]\u001b[0m"
     ]
    },
    {
     "data": {
      "image/jpeg": "[encoded data removed]",
      "image/png": "[encoded data removed]",
      "text/plain": [
       "<PIL.Image.Image image mode=RGB size=32x32>"
      ]
     },
     "metadata": {},
     "output_type": "display_data"
    },
    {
     "name": "stderr",
     "output_type": "stream",
     "text": [
      "Loss: 0.181 (L1: 0.124, MSE: 0.020, SSIM: 0.398):  77%|\u001b[36m██████▏ \u001b[0m| 729/944 [00:03<00:00, 223.72step/s]\u001b[0m"
     ]
    },
    {
     "name": "stdout",
     "output_type": "stream",
     "text": [
      "JPG image saved to: results/step_00700.jpg\n"
     ]
    },
    {
     "name": "stderr",
     "output_type": "stream",
     "text": [
      "Loss: 0.174 (L1: 0.121, MSE: 0.020, SSIM: 0.380):  85%|\u001b[36m██████▊ \u001b[0m| 800/944 [00:04<00:00, 228.83step/s]\u001b[0m"
     ]
    },
    {
     "data": {
      "image/jpeg": "[encoded data removed]",
      "image/png": "[encoded data removed]",
      "text/plain": [
       "<PIL.Image.Image image mode=RGB size=32x32>"
      ]
     },
     "metadata": {},
     "output_type": "display_data"
    },
    {
     "name": "stderr",
     "output_type": "stream",
     "text": [
      "Loss: 0.167 (L1: 0.116, MSE: 0.019, SSIM: 0.364):  87%|\u001b[36m██████▉ \u001b[0m| 823/944 [00:04<00:00, 223.86step/s]\u001b[0m"
     ]
    },
    {
     "name": "stdout",
     "output_type": "stream",
     "text": [
      "JPG image saved to: results/step_00800.jpg\n"
     ]
    },
    {
     "name": "stderr",
     "output_type": "stream",
     "text": [
      "Loss: 0.163 (L1: 0.112, MSE: 0.017, SSIM: 0.357):  94%|\u001b[36m███████▌\u001b[0m| 892/944 [00:04<00:00, 212.63step/s]\u001b[0m"
     ]
    },
    {
     "data": {
      "image/jpeg": "[encoded data removed]",
      "image/png": "[encoded data removed]",
      "text/plain": [
       "<PIL.Image.Image image mode=RGB size=32x32>"
      ]
     },
     "metadata": {},
     "output_type": "display_data"
    },
    {
     "name": "stderr",
     "output_type": "stream",
     "text": [
      "Loss: 0.158 (L1: 0.108, MSE: 0.017, SSIM: 0.349): 100%|\u001b[36m████████\u001b[0m| 944/944 [00:04<00:00, 199.73step/s]\u001b[0m\n"
     ]
    },
    {
     "name": "stdout",
     "output_type": "stream",
     "text": [
      "JPG image saved to: results/step_00900.jpg\n",
      "GIF saved to: results/animation.gif\n"
     ]
    },
    {
     "data": {
      "image/jpeg": "[encoded data removed]",
      "image/png": "[encoded data removed]",
      "text/plain": [
       "<PIL.Image.Image image mode=RGB size=32x32>"
      ]
     },
     "metadata": {},
     "output_type": "display_data"
    },
    {
     "name": "stderr",
     "output_type": "stream",
     "text": [
      "[I 2025-01-06 06:10:34,239] Trial 1 finished with value: 0.10806117206811905 and parameters: {'loss_weight_l1': 0.8792750902433263, 'loss_weight_mse': 0.1773429447087944, 'loss_weight_ssim': 0.3618847897862979, 'scale_regulation': 0.5, 'opacity_regulation': 1.0, 'init_type': 'knn', 'num_points': 1024, 'extent': 2.0, 'init_scale': 1.1466352193045959, 'init_opacity': 0.7835192836462006, 'max_steps': 944, 'learning_rate': 0.0007992505573535983, 'model_type': '3dgs', 'bilateral_grid': False}. Best is trial 1 with value: 0.10806117206811905.\n"
     ]
    },
    {
     "name": "stdout",
     "output_type": "stream",
     "text": [
      "JPG image saved to: results/final.jpg\n",
      "Final loss: 0.15820667147636414\n",
      "Total Time: Rasterization: 0.506s, Backward: 1.874s\n",
      "Trial 1 finished with value: 0.10806117206811905 and parameters: {'loss_weight_l1': 0.8792750902433263, 'loss_weight_mse': 0.1773429447087944, 'loss_weight_ssim': 0.3618847897862979, 'scale_regulation': 0.5, 'opacity_regulation': 1.0, 'init_type': 'knn', 'num_points': 1024, 'extent': 2.0, 'init_scale': 1.1466352193045959, 'init_opacity': 0.7835192836462006, 'max_steps': 944, 'learning_rate': 0.0007992505573535983, 'model_type': '3dgs', 'bilateral_grid': False}. Best is trial 1 with value: 0.10806117206811905.\n",
      "Trial 1 finished with value: 0.10806117206811905 and parameters: {'loss_weight_l1': 0.8792750902433263, 'loss_weight_mse': 0.1773429447087944, 'loss_weight_ssim': 0.3618847897862979, 'scale_regulation': 0.5, 'opacity_regulation': 1.0, 'init_type': 'knn', 'num_points': 1024, 'extent': 2.0, 'init_scale': 1.1466352193045959, 'init_opacity': 0.7835192836462006, 'max_steps': 944, 'learning_rate': 0.0007992505573535983, 'model_type': '3dgs', 'bilateral_grid': False}. Best is trial 1 with value: 0.10806117206811905.\n",
      "Trial 1 finished with value: 0.10806117206811905 and parameters: {'loss_weight_l1': 0.8792750902433263, 'loss_weight_mse': 0.1773429447087944, 'loss_weight_ssim': 0.3618847897862979, 'scale_regulation': 0.5, 'opacity_regulation': 1.0, 'init_type': 'knn', 'num_points': 1024, 'extent': 2.0, 'init_scale': 1.1466352193045959, 'init_opacity': 0.7835192836462006, 'max_steps': 944, 'learning_rate': 0.0007992505573535983, 'model_type': '3dgs', 'bilateral_grid': False}. Best is trial 1 with value: 0.10806117206811905.\n",
      "Trial 1 finished with value: 0.10806117206811905 and parameters: {'loss_weight_l1': 0.8792750902433263, 'loss_weight_mse': 0.1773429447087944, 'loss_weight_ssim': 0.3618847897862979, 'scale_regulation': 0.5, 'opacity_regulation': 1.0, 'init_type': 'knn', 'num_points': 1024, 'extent': 2.0, 'init_scale': 1.1466352193045959, 'init_opacity': 0.7835192836462006, 'max_steps': 944, 'learning_rate': 0.0007992505573535983, 'model_type': '3dgs', 'bilateral_grid': False}. Best is trial 1 with value: 0.10806117206811905.\n"
     ]
    },
    {
     "name": "stderr",
     "output_type": "stream",
     "text": [
      "[I 2025-01-06 06:10:34,499] Trial 2 pruned. Invalid hyperparameter combination\n"
     ]
    },
    {
     "name": "stdout",
     "output_type": "stream",
     "text": [
      "Trial 2 pruned. Invalid hyperparameter combination\n",
      "Trial 2 pruned. Invalid hyperparameter combination\n",
      "Trial 2 pruned. Invalid hyperparameter combination\n",
      "Trial 2 pruned. Invalid hyperparameter combination\n",
      "Model initialized. Number of Gaussians: 256\n"
     ]
    },
    {
     "name": "stderr",
     "output_type": "stream",
     "text": [
      "/usr/local/lib/python3.10/dist-packages/torchmetrics/utilities/prints.py:62: FutureWarning: Importing `StructuralSimilarityIndexMeasure` from `torchmetrics` was deprecated and will be removed in 2.0. Import `StructuralSimilarityIndexMeasure` from `torchmetrics.image` instead.\n",
      "  _future_warning(\n",
      "/usr/local/lib/python3.10/dist-packages/torchmetrics/utilities/prints.py:62: FutureWarning: Importing `PeakSignalNoiseRatio` from `torchmetrics` was deprecated and will be removed in 2.0. Import `PeakSignalNoiseRatio` from `torchmetrics.image` instead.\n",
      "  _future_warning(\n",
      "/usr/local/lib/python3.10/dist-packages/torchmetrics/functional/image/lpips.py:323: FutureWarning: You are using `torch.load` with `weights_only=False` (the current default value), which uses the default pickle module implicitly. It is possible to construct malicious pickle data which will execute arbitrary code during unpickling (See https://github.com/pytorch/pytorch/blob/main/SECURITY.md#untrusted-models for more details). In a future release, the default value for `weights_only` will be flipped to `True`. This limits the functions that could be executed during unpickling. Arbitrary objects will no longer be allowed to be loaded via this mode unless they are explicitly allowlisted by the user via `torch.serialization.add_safe_globals`. We recommend you start setting `weights_only=True` for any use case where you don't have full control of the loaded file. Please open an issue on GitHub for any issues related to this experimental feature.\n",
      "  self.load_state_dict(torch.load(model_path, map_location=\"cpu\"), strict=False)\n"
     ]
    },
    {
     "data": {
      "image/jpeg": "[encoded data removed]",
      "image/png": "[encoded data removed]",
      "text/plain": [
       "<PIL.Image.Image image mode=RGB size=32x32>"
      ]
     },
     "metadata": {},
     "output_type": "display_data"
    },
    {
     "name": "stdout",
     "output_type": "stream",
     "text": [
      "JPG image saved to: results/original.jpg\n"
     ]
    },
    {
     "name": "stderr",
     "output_type": "stream",
     "text": [
      "Loss: 0.642 (L1: 0.496, MSE: 0.357, SSIM: 0.973):   0%|\u001b[36m                  \u001b[0m| 0/6391 [00:00<?, ?step/s]\u001b[0m"
     ]
    },
    {
     "data": {
      "image/jpeg": "[encoded data removed]",
      "image/png": "[encoded data removed]",
      "text/plain": [
       "<PIL.Image.Image image mode=RGB size=32x32>"
      ]
     },
     "metadata": {},
     "output_type": "display_data"
    },
    {
     "name": "stderr",
     "output_type": "stream",
     "text": [
      "Loss: 0.642 (L1: 0.496, MSE: 0.357, SSIM: 0.972):   0%|\u001b[36m        \u001b[0m| 20/6391 [00:00<00:33, 192.26step/s]\u001b[0m"
     ]
    },
    {
     "name": "stdout",
     "output_type": "stream",
     "text": [
      "JPG image saved to: results/step_00000.jpg\n"
     ]
    },
    {
     "name": "stderr",
     "output_type": "stream",
     "text": [
      "Loss: 0.641 (L1: 0.495, MSE: 0.357, SSIM: 0.971):   1%|\u001b[36m        \u001b[0m| 84/6391 [00:00<00:30, 204.60step/s]\u001b[0m"
     ]
    },
    {
     "data": {
      "image/jpeg": "[encoded data removed]",
      "image/png": "[encoded data removed]",
      "text/plain": [
       "<PIL.Image.Image image mode=RGB size=32x32>"
      ]
     },
     "metadata": {},
     "output_type": "display_data"
    },
    {
     "name": "stderr",
     "output_type": "stream",
     "text": [
      "Loss: 0.641 (L1: 0.495, MSE: 0.357, SSIM: 0.970):   2%|\u001b[36m▏      \u001b[0m| 129/6391 [00:00<00:29, 213.14step/s]\u001b[0m"
     ]
    },
    {
     "name": "stdout",
     "output_type": "stream",
     "text": [
      "JPG image saved to: results/step_00100.jpg\n"
     ]
    },
    {
     "name": "stderr",
     "output_type": "stream",
     "text": [
      "Loss: 0.640 (L1: 0.495, MSE: 0.357, SSIM: 0.969):   3%|\u001b[36m▏      \u001b[0m| 192/6391 [00:01<00:31, 196.07step/s]\u001b[0m"
     ]
    },
    {
     "data": {
      "image/jpeg": "[encoded data removed]",
      "image/png": "[encoded data removed]",
      "text/plain": [
       "<PIL.Image.Image image mode=RGB size=32x32>"
      ]
     },
     "metadata": {},
     "output_type": "display_data"
    },
    {
     "name": "stderr",
     "output_type": "stream",
     "text": [
      "Loss: 0.640 (L1: 0.495, MSE: 0.357, SSIM: 0.969):   4%|\u001b[36m▎      \u001b[0m| 231/6391 [00:01<00:33, 185.87step/s]\u001b[0m"
     ]
    },
    {
     "name": "stdout",
     "output_type": "stream",
     "text": [
      "JPG image saved to: results/step_00200.jpg\n"
     ]
    },
    {
     "name": "stderr",
     "output_type": "stream",
     "text": [
      "Loss: 0.640 (L1: 0.495, MSE: 0.357, SSIM: 0.968):   5%|\u001b[36m▎      \u001b[0m| 288/6391 [00:01<00:33, 184.08step/s]\u001b[0m"
     ]
    },
    {
     "data": {
      "image/jpeg": "[encoded data removed]",
      "image/png": "[encoded data removed]",
      "text/plain": [
       "<PIL.Image.Image image mode=RGB size=32x32>"
      ]
     },
     "metadata": {},
     "output_type": "display_data"
    },
    {
     "name": "stderr",
     "output_type": "stream",
     "text": [
      "Loss: 0.639 (L1: 0.495, MSE: 0.356, SSIM: 0.967):   5%|\u001b[36m▎      \u001b[0m| 326/6391 [00:01<00:33, 181.25step/s]\u001b[0m"
     ]
    },
    {
     "name": "stdout",
     "output_type": "stream",
     "text": [
      "JPG image saved to: results/step_00300.jpg\n"
     ]
    },
    {
     "name": "stderr",
     "output_type": "stream",
     "text": [
      "Loss: 0.639 (L1: 0.494, MSE: 0.356, SSIM: 0.966):   6%|\u001b[36m▍      \u001b[0m| 383/6391 [00:02<00:33, 180.78step/s]\u001b[0m"
     ]
    },
    {
     "data": {
      "image/jpeg": "[encoded data removed]",
      "image/png": "[encoded data removed]",
      "text/plain": [
       "<PIL.Image.Image image mode=RGB size=32x32>"
      ]
     },
     "metadata": {},
     "output_type": "display_data"
    },
    {
     "name": "stderr",
     "output_type": "stream",
     "text": [
      "Loss: 0.638 (L1: 0.494, MSE: 0.356, SSIM: 0.965):   7%|\u001b[36m▍      \u001b[0m| 420/6391 [00:02<00:33, 177.77step/s]\u001b[0m"
     ]
    },
    {
     "name": "stdout",
     "output_type": "stream",
     "text": [
      "JPG image saved to: results/step_00400.jpg\n"
     ]
    },
    {
     "name": "stderr",
     "output_type": "stream",
     "text": [
      "Loss: 0.638 (L1: 0.494, MSE: 0.356, SSIM: 0.964):   8%|\u001b[36m▌      \u001b[0m| 482/6391 [00:02<00:31, 190.41step/s]\u001b[0m"
     ]
    },
    {
     "data": {
      "image/jpeg": "[encoded data removed]",
      "image/png": "[encoded data removed]",
      "text/plain": [
       "<PIL.Image.Image image mode=RGB size=32x32>"
      ]
     },
     "metadata": {},
     "output_type": "display_data"
    },
    {
     "name": "stderr",
     "output_type": "stream",
     "text": [
      "Loss: 0.638 (L1: 0.494, MSE: 0.356, SSIM: 0.964):   8%|\u001b[36m▌      \u001b[0m| 522/6391 [00:02<00:31, 185.91step/s]\u001b[0m"
     ]
    },
    {
     "name": "stdout",
     "output_type": "stream",
     "text": [
      "JPG image saved to: results/step_00500.jpg\n"
     ]
    },
    {
     "name": "stderr",
     "output_type": "stream",
     "text": [
      "Loss: 0.637 (L1: 0.494, MSE: 0.356, SSIM: 0.963):   9%|\u001b[36m▋      \u001b[0m| 584/6391 [00:03<00:30, 188.54step/s]\u001b[0m"
     ]
    },
    {
     "data": {
      "image/jpeg": "[encoded data removed]",
      "image/png": "[encoded data removed]",
      "text/plain": [
       "<PIL.Image.Image image mode=RGB size=32x32>"
      ]
     },
     "metadata": {},
     "output_type": "display_data"
    },
    {
     "name": "stderr",
     "output_type": "stream",
     "text": [
      "Loss: 0.637 (L1: 0.493, MSE: 0.355, SSIM: 0.962):  10%|\u001b[36m▋      \u001b[0m| 622/6391 [00:03<00:31, 184.67step/s]\u001b[0m"
     ]
    },
    {
     "name": "stdout",
     "output_type": "stream",
     "text": [
      "JPG image saved to: results/step_00600.jpg\n"
     ]
    },
    {
     "name": "stderr",
     "output_type": "stream",
     "text": [
      "Loss: 0.636 (L1: 0.493, MSE: 0.355, SSIM: 0.961):  11%|\u001b[36m▊      \u001b[0m| 694/6391 [00:03<00:26, 218.10step/s]\u001b[0m"
     ]
    },
    {
     "data": {
      "image/jpeg": "[encoded data removed]",
      "image/png": "[encoded data removed]",
      "text/plain": [
       "<PIL.Image.Image image mode=RGB size=32x32>"
      ]
     },
     "metadata": {},
     "output_type": "display_data"
    },
    {
     "name": "stderr",
     "output_type": "stream",
     "text": [
      "Loss: 0.636 (L1: 0.493, MSE: 0.355, SSIM: 0.960):  12%|\u001b[36m▊      \u001b[0m| 741/6391 [00:03<00:25, 224.83step/s]\u001b[0m"
     ]
    },
    {
     "name": "stdout",
     "output_type": "stream",
     "text": [
      "JPG image saved to: results/step_00700.jpg\n"
     ]
    },
    {
     "name": "stderr",
     "output_type": "stream",
     "text": [
      "Loss: 0.635 (L1: 0.493, MSE: 0.355, SSIM: 0.959):  12%|\u001b[36m▊      \u001b[0m| 791/6391 [00:04<00:23, 233.73step/s]\u001b[0m"
     ]
    },
    {
     "data": {
      "image/jpeg": "[encoded data removed]",
      "image/png": "[encoded data removed]",
      "text/plain": [
       "<PIL.Image.Image image mode=RGB size=32x32>"
      ]
     },
     "metadata": {},
     "output_type": "display_data"
    },
    {
     "name": "stderr",
     "output_type": "stream",
     "text": [
      "Loss: 0.635 (L1: 0.493, MSE: 0.355, SSIM: 0.958):  13%|\u001b[36m▉      \u001b[0m| 840/6391 [00:04<00:23, 236.35step/s]\u001b[0m"
     ]
    },
    {
     "name": "stdout",
     "output_type": "stream",
     "text": [
      "JPG image saved to: results/step_00800.jpg\n"
     ]
    },
    {
     "name": "stderr",
     "output_type": "stream",
     "text": [
      "Loss: 0.634 (L1: 0.492, MSE: 0.355, SSIM: 0.957):  14%|\u001b[36m▉      \u001b[0m| 889/6391 [00:04<00:23, 236.88step/s]\u001b[0m"
     ]
    },
    {
     "data": {
      "image/jpeg": "[encoded data removed]",
      "image/png": "[encoded data removed]",
      "text/plain": [
       "<PIL.Image.Image image mode=RGB size=32x32>"
      ]
     },
     "metadata": {},
     "output_type": "display_data"
    },
    {
     "name": "stderr",
     "output_type": "stream",
     "text": [
      "Loss: 0.634 (L1: 0.492, MSE: 0.355, SSIM: 0.957):  15%|\u001b[36m█      \u001b[0m| 936/6391 [00:04<00:24, 219.28step/s]\u001b[0m"
     ]
    },
    {
     "name": "stdout",
     "output_type": "stream",
     "text": [
      "JPG image saved to: results/step_00900.jpg\n"
     ]
    },
    {
     "name": "stderr",
     "output_type": "stream",
     "text": [
      "Loss: 0.633 (L1: 0.492, MSE: 0.354, SSIM: 0.956):  16%|\u001b[36m█      \u001b[0m| 991/6391 [00:04<00:22, 244.30step/s]\u001b[0m"
     ]
    },
    {
     "data": {
      "image/jpeg": "[encoded data removed]",
      "image/png": "[encoded data removed]",
      "text/plain": [
       "<PIL.Image.Image image mode=RGB size=32x32>"
      ]
     },
     "metadata": {},
     "output_type": "display_data"
    },
    {
     "name": "stderr",
     "output_type": "stream",
     "text": [
      "Loss: 0.633 (L1: 0.492, MSE: 0.354, SSIM: 0.955):  16%|\u001b[36m▉     \u001b[0m| 1041/6391 [00:05<00:22, 236.47step/s]\u001b[0m"
     ]
    },
    {
     "name": "stdout",
     "output_type": "stream",
     "text": [
      "JPG image saved to: results/step_01000.jpg\n"
     ]
    },
    {
     "name": "stderr",
     "output_type": "stream",
     "text": [
      "Loss: 0.632 (L1: 0.492, MSE: 0.354, SSIM: 0.954):  17%|\u001b[36m█     \u001b[0m| 1094/6391 [00:05<00:21, 250.54step/s]\u001b[0m"
     ]
    },
    {
     "data": {
      "image/jpeg": "[encoded data removed]",
      "image/png": "[encoded data removed]",
      "text/plain": [
       "<PIL.Image.Image image mode=RGB size=32x32>"
      ]
     },
     "metadata": {},
     "output_type": "display_data"
    },
    {
     "name": "stderr",
     "output_type": "stream",
     "text": [
      "Loss: 0.632 (L1: 0.491, MSE: 0.354, SSIM: 0.953):  18%|\u001b[36m█     \u001b[0m| 1145/6391 [00:05<00:22, 237.02step/s]\u001b[0m"
     ]
    },
    {
     "name": "stdout",
     "output_type": "stream",
     "text": [
      "JPG image saved to: results/step_01100.jpg\n"
     ]
    },
    {
     "name": "stderr",
     "output_type": "stream",
     "text": [
      "Loss: 0.632 (L1: 0.491, MSE: 0.354, SSIM: 0.952):  19%|\u001b[36m█     \u001b[0m| 1196/6391 [00:05<00:21, 241.04step/s]\u001b[0m"
     ]
    },
    {
     "data": {
      "image/jpeg": "[encoded data removed]",
      "image/png": "[encoded data removed]",
      "text/plain": [
       "<PIL.Image.Image image mode=RGB size=32x32>"
      ]
     },
     "metadata": {},
     "output_type": "display_data"
    },
    {
     "name": "stderr",
     "output_type": "stream",
     "text": [
      "Loss: 0.631 (L1: 0.491, MSE: 0.354, SSIM: 0.952):  19%|\u001b[36m█▏    \u001b[0m| 1221/6391 [00:05<00:21, 239.14step/s]\u001b[0m"
     ]
    },
    {
     "name": "stdout",
     "output_type": "stream",
     "text": [
      "JPG image saved to: results/step_01200.jpg\n"
     ]
    },
    {
     "name": "stderr",
     "output_type": "stream",
     "text": [
      "Loss: 0.631 (L1: 0.491, MSE: 0.353, SSIM: 0.951):  20%|\u001b[36m█▏    \u001b[0m| 1293/6391 [00:06<00:22, 225.07step/s]\u001b[0m"
     ]
    },
    {
     "data": {
      "image/jpeg": "[encoded data removed]",
      "image/png": "[encoded data removed]",
      "text/plain": [
       "<PIL.Image.Image image mode=RGB size=32x32>"
      ]
     },
     "metadata": {},
     "output_type": "display_data"
    },
    {
     "name": "stderr",
     "output_type": "stream",
     "text": [
      "Loss: 0.630 (L1: 0.491, MSE: 0.353, SSIM: 0.950):  21%|\u001b[36m█▎    \u001b[0m| 1338/6391 [00:06<00:24, 204.78step/s]\u001b[0m"
     ]
    },
    {
     "name": "stdout",
     "output_type": "stream",
     "text": [
      "JPG image saved to: results/step_01300.jpg\n"
     ]
    },
    {
     "name": "stderr",
     "output_type": "stream",
     "text": [
      "Loss: 0.630 (L1: 0.490, MSE: 0.353, SSIM: 0.949):  22%|\u001b[36m█▎    \u001b[0m| 1400/6391 [00:06<00:25, 196.90step/s]\u001b[0m"
     ]
    },
    {
     "data": {
      "image/jpeg": "[encoded data removed]",
      "image/png": "[encoded data removed]",
      "text/plain": [
       "<PIL.Image.Image image mode=RGB size=32x32>"
      ]
     },
     "metadata": {},
     "output_type": "display_data"
    },
    {
     "name": "stderr",
     "output_type": "stream",
     "text": [
      "Loss: 0.629 (L1: 0.490, MSE: 0.353, SSIM: 0.948):  22%|\u001b[36m█▎    \u001b[0m| 1420/6391 [00:06<00:25, 191.27step/s]\u001b[0m"
     ]
    },
    {
     "name": "stdout",
     "output_type": "stream",
     "text": [
      "JPG image saved to: results/step_01400.jpg\n"
     ]
    },
    {
     "name": "stderr",
     "output_type": "stream",
     "text": [
      "Loss: 0.629 (L1: 0.490, MSE: 0.353, SSIM: 0.947):  23%|\u001b[36m█▍    \u001b[0m| 1480/6391 [00:07<00:25, 192.22step/s]\u001b[0m"
     ]
    },
    {
     "data": {
      "image/jpeg": "[encoded data removed]",
      "image/png": "[encoded data removed]",
      "text/plain": [
       "<PIL.Image.Image image mode=RGB size=32x32>"
      ]
     },
     "metadata": {},
     "output_type": "display_data"
    },
    {
     "name": "stderr",
     "output_type": "stream",
     "text": [
      "Loss: 0.629 (L1: 0.490, MSE: 0.353, SSIM: 0.947):  24%|\u001b[36m█▍    \u001b[0m| 1521/6391 [00:07<00:24, 196.61step/s]\u001b[0m"
     ]
    },
    {
     "name": "stdout",
     "output_type": "stream",
     "text": [
      "JPG image saved to: results/step_01500.jpg\n"
     ]
    },
    {
     "name": "stderr",
     "output_type": "stream",
     "text": [
      "Loss: 0.628 (L1: 0.490, MSE: 0.352, SSIM: 0.946):  25%|\u001b[36m█▌    \u001b[0m| 1599/6391 [00:07<00:26, 184.20step/s]\u001b[0m"
     ]
    },
    {
     "data": {
      "image/jpeg": "[encoded data removed]",
      "image/png": "[encoded data removed]",
      "text/plain": [
       "<PIL.Image.Image image mode=RGB size=32x32>"
      ]
     },
     "metadata": {},
     "output_type": "display_data"
    },
    {
     "name": "stderr",
     "output_type": "stream",
     "text": [
      "Loss: 0.628 (L1: 0.489, MSE: 0.352, SSIM: 0.945):  26%|\u001b[36m█▌    \u001b[0m| 1638/6391 [00:07<00:25, 183.77step/s]\u001b[0m"
     ]
    },
    {
     "name": "stdout",
     "output_type": "stream",
     "text": [
      "JPG image saved to: results/step_01600.jpg\n"
     ]
    },
    {
     "name": "stderr",
     "output_type": "stream",
     "text": [
      "Loss: 0.627 (L1: 0.489, MSE: 0.352, SSIM: 0.944):  27%|\u001b[36m█▌    \u001b[0m| 1696/6391 [00:08<00:25, 186.84step/s]\u001b[0m"
     ]
    },
    {
     "data": {
      "image/jpeg": "[encoded data removed]",
      "image/png": "[encoded data removed]",
      "text/plain": [
       "<PIL.Image.Image image mode=RGB size=32x32>"
      ]
     },
     "metadata": {},
     "output_type": "display_data"
    },
    {
     "name": "stderr",
     "output_type": "stream",
     "text": [
      "Loss: 0.627 (L1: 0.489, MSE: 0.352, SSIM: 0.943):  27%|\u001b[36m█▋    \u001b[0m| 1735/6391 [00:08<00:24, 188.94step/s]\u001b[0m"
     ]
    },
    {
     "name": "stdout",
     "output_type": "stream",
     "text": [
      "JPG image saved to: results/step_01700.jpg\n"
     ]
    },
    {
     "name": "stderr",
     "output_type": "stream",
     "text": [
      "Loss: 0.626 (L1: 0.489, MSE: 0.352, SSIM: 0.942):  28%|\u001b[36m█▋    \u001b[0m| 1792/6391 [00:08<00:24, 187.42step/s]\u001b[0m"
     ]
    },
    {
     "data": {
      "image/jpeg": "[encoded data removed]",
      "image/png": "[encoded data removed]",
      "text/plain": [
       "<PIL.Image.Image image mode=RGB size=32x32>"
      ]
     },
     "metadata": {},
     "output_type": "display_data"
    },
    {
     "name": "stderr",
     "output_type": "stream",
     "text": [
      "Loss: 0.626 (L1: 0.489, MSE: 0.352, SSIM: 0.942):  29%|\u001b[36m█▋    \u001b[0m| 1831/6391 [00:09<00:24, 185.23step/s]\u001b[0m"
     ]
    },
    {
     "name": "stdout",
     "output_type": "stream",
     "text": [
      "JPG image saved to: results/step_01800.jpg\n"
     ]
    },
    {
     "name": "stderr",
     "output_type": "stream",
     "text": [
      "Loss: 0.625 (L1: 0.488, MSE: 0.351, SSIM: 0.941):  30%|\u001b[36m█▊    \u001b[0m| 1897/6391 [00:09<00:21, 207.92step/s]\u001b[0m"
     ]
    },
    {
     "data": {
      "image/jpeg": "[encoded data removed]",
      "image/png": "[encoded data removed]",
      "text/plain": [
       "<PIL.Image.Image image mode=RGB size=32x32>"
      ]
     },
     "metadata": {},
     "output_type": "display_data"
    },
    {
     "name": "stderr",
     "output_type": "stream",
     "text": [
      "Loss: 0.625 (L1: 0.488, MSE: 0.351, SSIM: 0.940):  30%|\u001b[36m█▊    \u001b[0m| 1939/6391 [00:09<00:22, 199.52step/s]\u001b[0m"
     ]
    },
    {
     "name": "stdout",
     "output_type": "stream",
     "text": [
      "JPG image saved to: results/step_01900.jpg\n"
     ]
    },
    {
     "name": "stderr",
     "output_type": "stream",
     "text": [
      "Loss: 0.624 (L1: 0.488, MSE: 0.351, SSIM: 0.939):  31%|\u001b[36m█▊    \u001b[0m| 1983/6391 [00:09<00:22, 199.96step/s]\u001b[0m"
     ]
    },
    {
     "data": {
      "image/jpeg": "[encoded data removed]",
      "image/png": "[encoded data removed]",
      "text/plain": [
       "<PIL.Image.Image image mode=RGB size=32x32>"
      ]
     },
     "metadata": {},
     "output_type": "display_data"
    },
    {
     "name": "stderr",
     "output_type": "stream",
     "text": [
      "Loss: 0.624 (L1: 0.488, MSE: 0.351, SSIM: 0.938):  32%|\u001b[36m█▉    \u001b[0m| 2030/6391 [00:10<00:20, 213.60step/s]\u001b[0m"
     ]
    },
    {
     "name": "stdout",
     "output_type": "stream",
     "text": [
      "JPG image saved to: results/step_02000.jpg\n"
     ]
    },
    {
     "name": "stderr",
     "output_type": "stream",
     "text": [
      "Loss: 0.623 (L1: 0.487, MSE: 0.351, SSIM: 0.938):  32%|\u001b[36m█▉    \u001b[0m| 2077/6391 [00:10<00:19, 219.33step/s]\u001b[0m"
     ]
    },
    {
     "data": {
      "image/jpeg": "[encoded data removed]",
      "image/png": "[encoded data removed]",
      "text/plain": [
       "<PIL.Image.Image image mode=RGB size=32x32>"
      ]
     },
     "metadata": {},
     "output_type": "display_data"
    },
    {
     "name": "stderr",
     "output_type": "stream",
     "text": [
      "Loss: 0.623 (L1: 0.487, MSE: 0.351, SSIM: 0.937):  33%|\u001b[36m█▉    \u001b[0m| 2125/6391 [00:10<00:19, 224.21step/s]\u001b[0m"
     ]
    },
    {
     "name": "stdout",
     "output_type": "stream",
     "text": [
      "JPG image saved to: results/step_02100.jpg\n"
     ]
    },
    {
     "name": "stderr",
     "output_type": "stream",
     "text": [
      "Loss: 0.623 (L1: 0.487, MSE: 0.350, SSIM: 0.936):  34%|\u001b[36m██    \u001b[0m| 2197/6391 [00:10<00:18, 231.54step/s]\u001b[0m"
     ]
    },
    {
     "data": {
      "image/jpeg": "[encoded data removed]",
      "image/png": "[encoded data removed]",
      "text/plain": [
       "<PIL.Image.Image image mode=RGB size=32x32>"
      ]
     },
     "metadata": {},
     "output_type": "display_data"
    },
    {
     "name": "stderr",
     "output_type": "stream",
     "text": [
      "Loss: 0.622 (L1: 0.487, MSE: 0.350, SSIM: 0.935):  35%|\u001b[36m██    \u001b[0m| 2250/6391 [00:10<00:16, 245.40step/s]\u001b[0m"
     ]
    },
    {
     "name": "stdout",
     "output_type": "stream",
     "text": [
      "JPG image saved to: results/step_02200.jpg\n"
     ]
    },
    {
     "name": "stderr",
     "output_type": "stream",
     "text": [
      "Loss: 0.622 (L1: 0.486, MSE: 0.350, SSIM: 0.934):  36%|\u001b[36m██▏   \u001b[0m| 2299/6391 [00:11<00:18, 226.68step/s]\u001b[0m"
     ]
    },
    {
     "data": {
      "image/jpeg": "[encoded data removed]",
      "image/png": "[encoded data removed]",
      "text/plain": [
       "<PIL.Image.Image image mode=RGB size=32x32>"
      ]
     },
     "metadata": {},
     "output_type": "display_data"
    },
    {
     "name": "stderr",
     "output_type": "stream",
     "text": [
      "Loss: 0.621 (L1: 0.486, MSE: 0.350, SSIM: 0.934):  36%|\u001b[36m██▏   \u001b[0m| 2322/6391 [00:11<00:18, 219.12step/s]\u001b[0m"
     ]
    },
    {
     "name": "stdout",
     "output_type": "stream",
     "text": [
      "JPG image saved to: results/step_02300.jpg\n"
     ]
    },
    {
     "name": "stderr",
     "output_type": "stream",
     "text": [
      "Loss: 0.621 (L1: 0.486, MSE: 0.350, SSIM: 0.933):  37%|\u001b[36m██▏   \u001b[0m| 2392/6391 [00:11<00:17, 225.11step/s]\u001b[0m"
     ]
    },
    {
     "data": {
      "image/jpeg": "[encoded data removed]",
      "image/png": "[encoded data removed]",
      "text/plain": [
       "<PIL.Image.Image image mode=RGB size=32x32>"
      ]
     },
     "metadata": {},
     "output_type": "display_data"
    },
    {
     "name": "stderr",
     "output_type": "stream",
     "text": [
      "Loss: 0.620 (L1: 0.486, MSE: 0.349, SSIM: 0.932):  38%|\u001b[36m██▎   \u001b[0m| 2445/6391 [00:11<00:16, 243.49step/s]\u001b[0m"
     ]
    },
    {
     "name": "stdout",
     "output_type": "stream",
     "text": [
      "JPG image saved to: results/step_02400.jpg\n"
     ]
    },
    {
     "name": "stderr",
     "output_type": "stream",
     "text": [
      "Loss: 0.620 (L1: 0.485, MSE: 0.349, SSIM: 0.931):  39%|\u001b[36m██▎   \u001b[0m| 2494/6391 [00:12<00:17, 226.81step/s]\u001b[0m"
     ]
    },
    {
     "data": {
      "image/jpeg": "[encoded data removed]",
      "image/png": "[encoded data removed]",
      "text/plain": [
       "<PIL.Image.Image image mode=RGB size=32x32>"
      ]
     },
     "metadata": {},
     "output_type": "display_data"
    },
    {
     "name": "stderr",
     "output_type": "stream",
     "text": [
      "Loss: 0.620 (L1: 0.485, MSE: 0.349, SSIM: 0.931):  40%|\u001b[36m██▍   \u001b[0m| 2546/6391 [00:12<00:16, 237.44step/s]\u001b[0m"
     ]
    },
    {
     "name": "stdout",
     "output_type": "stream",
     "text": [
      "JPG image saved to: results/step_02500.jpg\n"
     ]
    },
    {
     "name": "stderr",
     "output_type": "stream",
     "text": [
      "Loss: 0.619 (L1: 0.485, MSE: 0.349, SSIM: 0.930):  41%|\u001b[36m██▍   \u001b[0m| 2597/6391 [00:12<00:15, 241.30step/s]\u001b[0m"
     ]
    },
    {
     "data": {
      "image/jpeg": "[encoded data removed]",
      "image/png": "[encoded data removed]",
      "text/plain": [
       "<PIL.Image.Image image mode=RGB size=32x32>"
      ]
     },
     "metadata": {},
     "output_type": "display_data"
    },
    {
     "name": "stderr",
     "output_type": "stream",
     "text": [
      "Loss: 0.619 (L1: 0.485, MSE: 0.349, SSIM: 0.929):  41%|\u001b[36m██▍   \u001b[0m| 2623/6391 [00:12<00:15, 246.42step/s]\u001b[0m"
     ]
    },
    {
     "name": "stdout",
     "output_type": "stream",
     "text": [
      "JPG image saved to: results/step_02600.jpg\n"
     ]
    },
    {
     "name": "stderr",
     "output_type": "stream",
     "text": [
      "Loss: 0.618 (L1: 0.484, MSE: 0.349, SSIM: 0.928):  42%|\u001b[36m██▌   \u001b[0m| 2696/6391 [00:12<00:16, 226.71step/s]\u001b[0m"
     ]
    },
    {
     "data": {
      "image/jpeg": "[encoded data removed]",
      "image/png": "[encoded data removed]",
      "text/plain": [
       "<PIL.Image.Image image mode=RGB size=32x32>"
      ]
     },
     "metadata": {},
     "output_type": "display_data"
    },
    {
     "name": "stderr",
     "output_type": "stream",
     "text": [
      "Loss: 0.618 (L1: 0.484, MSE: 0.348, SSIM: 0.928):  43%|\u001b[36m██▌   \u001b[0m| 2719/6391 [00:13<00:17, 211.09step/s]\u001b[0m"
     ]
    },
    {
     "name": "stdout",
     "output_type": "stream",
     "text": [
      "JPG image saved to: results/step_02700.jpg\n"
     ]
    },
    {
     "name": "stderr",
     "output_type": "stream",
     "text": [
      "Loss: 0.617 (L1: 0.484, MSE: 0.348, SSIM: 0.927):  44%|\u001b[36m██▌   \u001b[0m| 2786/6391 [00:13<00:17, 206.50step/s]\u001b[0m"
     ]
    },
    {
     "data": {
      "image/jpeg": "[encoded data removed]",
      "image/png": "[encoded data removed]",
      "text/plain": [
       "<PIL.Image.Image image mode=RGB size=32x32>"
      ]
     },
     "metadata": {},
     "output_type": "display_data"
    },
    {
     "name": "stderr",
     "output_type": "stream",
     "text": [
      "Loss: 0.617 (L1: 0.484, MSE: 0.348, SSIM: 0.926):  44%|\u001b[36m██▋   \u001b[0m| 2827/6391 [00:13<00:18, 196.20step/s]\u001b[0m"
     ]
    },
    {
     "name": "stdout",
     "output_type": "stream",
     "text": [
      "JPG image saved to: results/step_02800.jpg\n"
     ]
    },
    {
     "name": "stderr",
     "output_type": "stream",
     "text": [
      "Loss: 0.617 (L1: 0.483, MSE: 0.348, SSIM: 0.925):  45%|\u001b[36m██▋   \u001b[0m| 2886/6391 [00:13<00:19, 183.67step/s]\u001b[0m"
     ]
    },
    {
     "data": {
      "image/jpeg": "[encoded data removed]",
      "image/png": "[encoded data removed]",
      "text/plain": [
       "<PIL.Image.Image image mode=RGB size=32x32>"
      ]
     },
     "metadata": {},
     "output_type": "display_data"
    },
    {
     "name": "stderr",
     "output_type": "stream",
     "text": [
      "Loss: 0.616 (L1: 0.483, MSE: 0.348, SSIM: 0.925):  46%|\u001b[36m██▋   \u001b[0m| 2926/6391 [00:14<00:18, 189.69step/s]\u001b[0m"
     ]
    },
    {
     "name": "stdout",
     "output_type": "stream",
     "text": [
      "JPG image saved to: results/step_02900.jpg\n"
     ]
    },
    {
     "name": "stderr",
     "output_type": "stream",
     "text": [
      "Loss: 0.616 (L1: 0.483, MSE: 0.347, SSIM: 0.924):  47%|\u001b[36m██▊   \u001b[0m| 2985/6391 [00:14<00:18, 187.27step/s]\u001b[0m"
     ]
    },
    {
     "data": {
      "image/jpeg": "[encoded data removed]",
      "image/png": "[encoded data removed]",
      "text/plain": [
       "<PIL.Image.Image image mode=RGB size=32x32>"
      ]
     },
     "metadata": {},
     "output_type": "display_data"
    },
    {
     "name": "stderr",
     "output_type": "stream",
     "text": [
      "Loss: 0.615 (L1: 0.483, MSE: 0.347, SSIM: 0.923):  47%|\u001b[36m██▊   \u001b[0m| 3023/6391 [00:14<00:18, 185.51step/s]\u001b[0m"
     ]
    },
    {
     "name": "stdout",
     "output_type": "stream",
     "text": [
      "JPG image saved to: results/step_03000.jpg\n"
     ]
    },
    {
     "name": "stderr",
     "output_type": "stream",
     "text": [
      "Loss: 0.615 (L1: 0.482, MSE: 0.347, SSIM: 0.922):  49%|\u001b[36m██▉   \u001b[0m| 3100/6391 [00:15<00:17, 184.83step/s]\u001b[0m"
     ]
    },
    {
     "data": {
      "image/jpeg": "[encoded data removed]",
      "image/png": "[encoded data removed]",
      "text/plain": [
       "<PIL.Image.Image image mode=RGB size=32x32>"
      ]
     },
     "metadata": {},
     "output_type": "display_data"
    },
    {
     "name": "stderr",
     "output_type": "stream",
     "text": [
      "Loss: 0.614 (L1: 0.482, MSE: 0.347, SSIM: 0.922):  49%|\u001b[36m██▉   \u001b[0m| 3121/6391 [00:15<00:17, 190.14step/s]\u001b[0m"
     ]
    },
    {
     "name": "stdout",
     "output_type": "stream",
     "text": [
      "JPG image saved to: results/step_03100.jpg\n"
     ]
    },
    {
     "name": "stderr",
     "output_type": "stream",
     "text": [
      "Loss: 0.614 (L1: 0.482, MSE: 0.347, SSIM: 0.921):  50%|\u001b[36m██▉   \u001b[0m| 3180/6391 [00:15<00:17, 188.30step/s]\u001b[0m"
     ]
    },
    {
     "data": {
      "image/jpeg": "[encoded data removed]",
      "image/png": "[encoded data removed]",
      "text/plain": [
       "<PIL.Image.Image image mode=RGB size=32x32>"
      ]
     },
     "metadata": {},
     "output_type": "display_data"
    },
    {
     "name": "stderr",
     "output_type": "stream",
     "text": [
      "Loss: 0.614 (L1: 0.482, MSE: 0.347, SSIM: 0.921):  50%|\u001b[36m███   \u001b[0m| 3221/6391 [00:15<00:16, 188.52step/s]\u001b[0m"
     ]
    },
    {
     "name": "stdout",
     "output_type": "stream",
     "text": [
      "JPG image saved to: results/step_03200.jpg\n"
     ]
    },
    {
     "name": "stderr",
     "output_type": "stream",
     "text": [
      "Loss: 0.613 (L1: 0.481, MSE: 0.346, SSIM: 0.920):  52%|\u001b[36m███   \u001b[0m| 3300/6391 [00:16<00:16, 185.77step/s]\u001b[0m"
     ]
    },
    {
     "data": {
      "image/jpeg": "[encoded data removed]",
      "image/png": "[encoded data removed]",
      "text/plain": [
       "<PIL.Image.Image image mode=RGB size=32x32>"
      ]
     },
     "metadata": {},
     "output_type": "display_data"
    },
    {
     "name": "stderr",
     "output_type": "stream",
     "text": [
      "Loss: 0.613 (L1: 0.481, MSE: 0.346, SSIM: 0.919):  52%|\u001b[36m███   \u001b[0m| 3319/6391 [00:16<00:16, 182.16step/s]\u001b[0m"
     ]
    },
    {
     "name": "stdout",
     "output_type": "stream",
     "text": [
      "JPG image saved to: results/step_03300.jpg\n"
     ]
    },
    {
     "name": "stderr",
     "output_type": "stream",
     "text": [
      "Loss: 0.612 (L1: 0.481, MSE: 0.346, SSIM: 0.918):  53%|\u001b[36m███▏  \u001b[0m| 3394/6391 [00:16<00:16, 178.24step/s]\u001b[0m"
     ]
    },
    {
     "data": {
      "image/jpeg": "[encoded data removed]",
      "image/png": "[encoded data removed]",
      "text/plain": [
       "<PIL.Image.Image image mode=RGB size=32x32>"
      ]
     },
     "metadata": {},
     "output_type": "display_data"
    },
    {
     "name": "stderr",
     "output_type": "stream",
     "text": [
      "Loss: 0.612 (L1: 0.481, MSE: 0.346, SSIM: 0.918):  54%|\u001b[36m███▏  \u001b[0m| 3430/6391 [00:16<00:17, 172.24step/s]\u001b[0m"
     ]
    },
    {
     "name": "stdout",
     "output_type": "stream",
     "text": [
      "JPG image saved to: results/step_03400.jpg\n"
     ]
    },
    {
     "name": "stderr",
     "output_type": "stream",
     "text": [
      "Loss: 0.612 (L1: 0.480, MSE: 0.346, SSIM: 0.917):  54%|\u001b[36m███▎  \u001b[0m| 3478/6391 [00:17<00:14, 203.15step/s]\u001b[0m"
     ]
    },
    {
     "data": {
      "image/jpeg": "[encoded data removed]",
      "image/png": "[encoded data removed]",
      "text/plain": [
       "<PIL.Image.Image image mode=RGB size=32x32>"
      ]
     },
     "metadata": {},
     "output_type": "display_data"
    },
    {
     "name": "stderr",
     "output_type": "stream",
     "text": [
      "Loss: 0.611 (L1: 0.480, MSE: 0.346, SSIM: 0.916):  55%|\u001b[36m███▎  \u001b[0m| 3525/6391 [00:17<00:13, 216.56step/s]\u001b[0m"
     ]
    },
    {
     "name": "stdout",
     "output_type": "stream",
     "text": [
      "JPG image saved to: results/step_03500.jpg\n"
     ]
    },
    {
     "name": "stderr",
     "output_type": "stream",
     "text": [
      "Loss: 0.611 (L1: 0.480, MSE: 0.345, SSIM: 0.915):  56%|\u001b[36m███▍  \u001b[0m| 3597/6391 [00:17<00:12, 227.74step/s]\u001b[0m"
     ]
    },
    {
     "data": {
      "image/jpeg": "[encoded data removed]",
      "image/png": "[encoded data removed]",
      "text/plain": [
       "<PIL.Image.Image image mode=RGB size=32x32>"
      ]
     },
     "metadata": {},
     "output_type": "display_data"
    },
    {
     "name": "stderr",
     "output_type": "stream",
     "text": [
      "Loss: 0.610 (L1: 0.479, MSE: 0.345, SSIM: 0.915):  57%|\u001b[36m███▍  \u001b[0m| 3644/6391 [00:17<00:12, 227.59step/s]\u001b[0m"
     ]
    },
    {
     "name": "stdout",
     "output_type": "stream",
     "text": [
      "JPG image saved to: results/step_03600.jpg\n"
     ]
    },
    {
     "name": "stderr",
     "output_type": "stream",
     "text": [
      "Loss: 0.610 (L1: 0.479, MSE: 0.345, SSIM: 0.914):  58%|\u001b[36m███▍  \u001b[0m| 3691/6391 [00:18<00:11, 228.92step/s]\u001b[0m"
     ]
    },
    {
     "data": {
      "image/jpeg": "[encoded data removed]",
      "image/png": "[encoded data removed]",
      "text/plain": [
       "<PIL.Image.Image image mode=RGB size=32x32>"
      ]
     },
     "metadata": {},
     "output_type": "display_data"
    },
    {
     "name": "stderr",
     "output_type": "stream",
     "text": [
      "Loss: 0.610 (L1: 0.479, MSE: 0.345, SSIM: 0.914):  58%|\u001b[36m███▌  \u001b[0m| 3737/6391 [00:18<00:12, 215.07step/s]\u001b[0m"
     ]
    },
    {
     "name": "stdout",
     "output_type": "stream",
     "text": [
      "JPG image saved to: results/step_03700.jpg\n"
     ]
    },
    {
     "name": "stderr",
     "output_type": "stream",
     "text": [
      "Loss: 0.609 (L1: 0.479, MSE: 0.345, SSIM: 0.913):  59%|\u001b[36m███▌  \u001b[0m| 3791/6391 [00:18<00:10, 239.52step/s]\u001b[0m"
     ]
    },
    {
     "data": {
      "image/jpeg": "[encoded data removed]",
      "image/png": "[encoded data removed]",
      "text/plain": [
       "<PIL.Image.Image image mode=RGB size=32x32>"
      ]
     },
     "metadata": {},
     "output_type": "display_data"
    },
    {
     "name": "stderr",
     "output_type": "stream",
     "text": [
      "Loss: 0.609 (L1: 0.478, MSE: 0.344, SSIM: 0.912):  60%|\u001b[36m███▌  \u001b[0m| 3852/6391 [00:18<00:09, 271.90step/s]\u001b[0m"
     ]
    },
    {
     "name": "stdout",
     "output_type": "stream",
     "text": [
      "JPG image saved to: results/step_03800.jpg\n"
     ]
    },
    {
     "name": "stderr",
     "output_type": "stream",
     "text": [
      "Loss: 0.608 (L1: 0.478, MSE: 0.344, SSIM: 0.911):  61%|\u001b[36m███▋  \u001b[0m| 3884/6391 [00:18<00:08, 284.69step/s]\u001b[0m"
     ]
    },
    {
     "data": {
      "image/jpeg": "[encoded data removed]",
      "image/png": "[encoded data removed]",
      "text/plain": [
       "<PIL.Image.Image image mode=RGB size=32x32>"
      ]
     },
     "metadata": {},
     "output_type": "display_data"
    },
    {
     "name": "stderr",
     "output_type": "stream",
     "text": [
      "Loss: 0.608 (L1: 0.478, MSE: 0.344, SSIM: 0.911):  62%|\u001b[36m███▋  \u001b[0m| 3952/6391 [00:18<00:07, 310.96step/s]\u001b[0m"
     ]
    },
    {
     "name": "stdout",
     "output_type": "stream",
     "text": [
      "JPG image saved to: results/step_03900.jpg\n"
     ]
    },
    {
     "name": "stderr",
     "output_type": "stream",
     "text": [
      "Loss: 0.608 (L1: 0.478, MSE: 0.344, SSIM: 0.910):  62%|\u001b[36m███▋  \u001b[0m| 3986/6391 [00:19<00:07, 319.26step/s]\u001b[0m"
     ]
    },
    {
     "data": {
      "image/jpeg": "[encoded data removed]",
      "image/png": "[encoded data removed]",
      "text/plain": [
       "<PIL.Image.Image image mode=RGB size=32x32>"
      ]
     },
     "metadata": {},
     "output_type": "display_data"
    },
    {
     "name": "stderr",
     "output_type": "stream",
     "text": [
      "Loss: 0.607 (L1: 0.477, MSE: 0.344, SSIM: 0.909):  63%|\u001b[36m███▊  \u001b[0m| 4052/6391 [00:19<00:07, 320.31step/s]\u001b[0m"
     ]
    },
    {
     "name": "stdout",
     "output_type": "stream",
     "text": [
      "JPG image saved to: results/step_04000.jpg\n"
     ]
    },
    {
     "name": "stderr",
     "output_type": "stream",
     "text": [
      "Loss: 0.607 (L1: 0.477, MSE: 0.344, SSIM: 0.909):  64%|\u001b[36m███▊  \u001b[0m| 4087/6391 [00:19<00:07, 327.70step/s]\u001b[0m"
     ]
    },
    {
     "data": {
      "image/jpeg": "[encoded data removed]",
      "image/png": "[encoded data removed]",
      "text/plain": [
       "<PIL.Image.Image image mode=RGB size=32x32>"
      ]
     },
     "metadata": {},
     "output_type": "display_data"
    },
    {
     "name": "stderr",
     "output_type": "stream",
     "text": [
      "Loss: 0.606 (L1: 0.477, MSE: 0.343, SSIM: 0.908):  65%|\u001b[36m███▉  \u001b[0m| 4154/6391 [00:19<00:06, 326.78step/s]\u001b[0m"
     ]
    },
    {
     "name": "stdout",
     "output_type": "stream",
     "text": [
      "JPG image saved to: results/step_04100.jpg\n"
     ]
    },
    {
     "name": "stderr",
     "output_type": "stream",
     "text": [
      "Loss: 0.606 (L1: 0.477, MSE: 0.343, SSIM: 0.908):  66%|\u001b[36m███▉  \u001b[0m| 4187/6391 [00:19<00:07, 310.06step/s]\u001b[0m"
     ]
    },
    {
     "data": {
      "image/jpeg": "[encoded data removed]",
      "image/png": "[encoded data removed]",
      "text/plain": [
       "<PIL.Image.Image image mode=RGB size=32x32>"
      ]
     },
     "metadata": {},
     "output_type": "display_data"
    },
    {
     "name": "stderr",
     "output_type": "stream",
     "text": [
      "Loss: 0.606 (L1: 0.476, MSE: 0.343, SSIM: 0.907):  66%|\u001b[36m███▉  \u001b[0m| 4219/6391 [00:19<00:07, 284.41step/s]\u001b[0m"
     ]
    },
    {
     "name": "stdout",
     "output_type": "stream",
     "text": [
      "JPG image saved to: results/step_04200.jpg\n"
     ]
    },
    {
     "name": "stderr",
     "output_type": "stream",
     "text": [
      "Loss: 0.605 (L1: 0.476, MSE: 0.343, SSIM: 0.906):  67%|\u001b[36m████  \u001b[0m| 4300/6391 [00:20<00:09, 230.47step/s]\u001b[0m"
     ]
    },
    {
     "data": {
      "image/jpeg": "[encoded data removed]",
      "image/png": "[encoded data removed]",
      "text/plain": [
       "<PIL.Image.Image image mode=RGB size=32x32>"
      ]
     },
     "metadata": {},
     "output_type": "display_data"
    },
    {
     "name": "stderr",
     "output_type": "stream",
     "text": [
      "Loss: 0.605 (L1: 0.476, MSE: 0.343, SSIM: 0.906):  68%|\u001b[36m████  \u001b[0m| 4324/6391 [00:20<00:09, 213.95step/s]\u001b[0m"
     ]
    },
    {
     "name": "stdout",
     "output_type": "stream",
     "text": [
      "JPG image saved to: results/step_04300.jpg\n"
     ]
    },
    {
     "name": "stderr",
     "output_type": "stream",
     "text": [
      "Loss: 0.604 (L1: 0.476, MSE: 0.342, SSIM: 0.905):  69%|\u001b[36m████  \u001b[0m| 4389/6391 [00:20<00:09, 205.97step/s]\u001b[0m"
     ]
    },
    {
     "data": {
      "image/jpeg": "[encoded data removed]",
      "image/png": "[encoded data removed]",
      "text/plain": [
       "<PIL.Image.Image image mode=RGB size=32x32>"
      ]
     },
     "metadata": {},
     "output_type": "display_data"
    },
    {
     "name": "stderr",
     "output_type": "stream",
     "text": [
      "Loss: 0.604 (L1: 0.475, MSE: 0.342, SSIM: 0.905):  69%|\u001b[36m████▏ \u001b[0m| 4431/6391 [00:20<00:09, 203.09step/s]\u001b[0m"
     ]
    },
    {
     "name": "stdout",
     "output_type": "stream",
     "text": [
      "JPG image saved to: results/step_04400.jpg\n"
     ]
    },
    {
     "name": "stderr",
     "output_type": "stream",
     "text": [
      "Loss: 0.604 (L1: 0.475, MSE: 0.342, SSIM: 0.904):  70%|\u001b[36m████▏ \u001b[0m| 4494/6391 [00:21<00:09, 195.85step/s]\u001b[0m"
     ]
    },
    {
     "data": {
      "image/jpeg": "[encoded data removed]",
      "image/png": "[encoded data removed]",
      "text/plain": [
       "<PIL.Image.Image image mode=RGB size=32x32>"
      ]
     },
     "metadata": {},
     "output_type": "display_data"
    },
    {
     "name": "stderr",
     "output_type": "stream",
     "text": [
      "Loss: 0.604 (L1: 0.475, MSE: 0.342, SSIM: 0.904):  71%|\u001b[36m████▎ \u001b[0m| 4534/6391 [00:21<00:09, 188.74step/s]\u001b[0m"
     ]
    },
    {
     "name": "stdout",
     "output_type": "stream",
     "text": [
      "JPG image saved to: results/step_04500.jpg\n"
     ]
    },
    {
     "name": "stderr",
     "output_type": "stream",
     "text": [
      "Loss: 0.603 (L1: 0.475, MSE: 0.342, SSIM: 0.903):  72%|\u001b[36m████▎ \u001b[0m| 4596/6391 [00:21<00:09, 196.34step/s]\u001b[0m"
     ]
    },
    {
     "data": {
      "image/jpeg": "[encoded data removed]",
      "image/png": "[encoded data removed]",
      "text/plain": [
       "<PIL.Image.Image image mode=RGB size=32x32>"
      ]
     },
     "metadata": {},
     "output_type": "display_data"
    },
    {
     "name": "stderr",
     "output_type": "stream",
     "text": [
      "Loss: 0.603 (L1: 0.474, MSE: 0.342, SSIM: 0.902):  73%|\u001b[36m████▎ \u001b[0m| 4636/6391 [00:21<00:09, 191.05step/s]\u001b[0m"
     ]
    },
    {
     "name": "stdout",
     "output_type": "stream",
     "text": [
      "JPG image saved to: results/step_04600.jpg\n"
     ]
    },
    {
     "name": "stderr",
     "output_type": "stream",
     "text": [
      "Loss: 0.602 (L1: 0.474, MSE: 0.341, SSIM: 0.902):  74%|\u001b[36m████▍ \u001b[0m| 4699/6391 [00:22<00:08, 200.44step/s]\u001b[0m"
     ]
    },
    {
     "data": {
      "image/jpeg": "[encoded data removed]",
      "image/png": "[encoded data removed]",
      "text/plain": [
       "<PIL.Image.Image image mode=RGB size=32x32>"
      ]
     },
     "metadata": {},
     "output_type": "display_data"
    },
    {
     "name": "stderr",
     "output_type": "stream",
     "text": [
      "Loss: 0.602 (L1: 0.474, MSE: 0.341, SSIM: 0.901):  74%|\u001b[36m████▍ \u001b[0m| 4720/6391 [00:22<00:08, 192.37step/s]\u001b[0m"
     ]
    },
    {
     "name": "stdout",
     "output_type": "stream",
     "text": [
      "JPG image saved to: results/step_04700.jpg\n"
     ]
    },
    {
     "name": "stderr",
     "output_type": "stream",
     "text": [
      "Loss: 0.602 (L1: 0.474, MSE: 0.341, SSIM: 0.900):  75%|\u001b[36m████▍ \u001b[0m| 4781/6391 [00:22<00:08, 194.90step/s]\u001b[0m"
     ]
    },
    {
     "data": {
      "image/jpeg": "[encoded data removed]",
      "image/png": "[encoded data removed]",
      "text/plain": [
       "<PIL.Image.Image image mode=RGB size=32x32>"
      ]
     },
     "metadata": {},
     "output_type": "display_data"
    },
    {
     "name": "stderr",
     "output_type": "stream",
     "text": [
      "Loss: 0.601 (L1: 0.473, MSE: 0.341, SSIM: 0.900):  75%|\u001b[36m████▌ \u001b[0m| 4821/6391 [00:22<00:08, 191.73step/s]\u001b[0m"
     ]
    },
    {
     "name": "stdout",
     "output_type": "stream",
     "text": [
      "JPG image saved to: results/step_04800.jpg\n"
     ]
    },
    {
     "name": "stderr",
     "output_type": "stream",
     "text": [
      "Loss: 0.601 (L1: 0.473, MSE: 0.341, SSIM: 0.899):  76%|\u001b[36m████▌ \u001b[0m| 4883/6391 [00:23<00:07, 197.00step/s]\u001b[0m"
     ]
    },
    {
     "data": {
      "image/jpeg": "[encoded data removed]",
      "image/png": "[encoded data removed]",
      "text/plain": [
       "<PIL.Image.Image image mode=RGB size=32x32>"
      ]
     },
     "metadata": {},
     "output_type": "display_data"
    },
    {
     "name": "stderr",
     "output_type": "stream",
     "text": [
      "Loss: 0.601 (L1: 0.473, MSE: 0.341, SSIM: 0.899):  77%|\u001b[36m████▌ \u001b[0m| 4923/6391 [00:23<00:07, 192.72step/s]\u001b[0m"
     ]
    },
    {
     "name": "stdout",
     "output_type": "stream",
     "text": [
      "JPG image saved to: results/step_04900.jpg\n"
     ]
    },
    {
     "name": "stderr",
     "output_type": "stream",
     "text": [
      "Loss: 0.600 (L1: 0.473, MSE: 0.340, SSIM: 0.898):  78%|\u001b[36m████▋ \u001b[0m| 4983/6391 [00:23<00:07, 185.34step/s]\u001b[0m"
     ]
    },
    {
     "data": {
      "image/jpeg": "[encoded data removed]",
      "image/png": "[encoded data removed]",
      "text/plain": [
       "<PIL.Image.Image image mode=RGB size=32x32>"
      ]
     },
     "metadata": {},
     "output_type": "display_data"
    },
    {
     "name": "stderr",
     "output_type": "stream",
     "text": [
      "Loss: 0.600 (L1: 0.472, MSE: 0.340, SSIM: 0.898):  79%|\u001b[36m████▋ \u001b[0m| 5022/6391 [00:24<00:07, 185.91step/s]\u001b[0m"
     ]
    },
    {
     "name": "stdout",
     "output_type": "stream",
     "text": [
      "JPG image saved to: results/step_05000.jpg\n"
     ]
    },
    {
     "name": "stderr",
     "output_type": "stream",
     "text": [
      "Loss: 0.600 (L1: 0.472, MSE: 0.340, SSIM: 0.897):  80%|\u001b[36m████▊ \u001b[0m| 5091/6391 [00:24<00:06, 213.01step/s]\u001b[0m"
     ]
    },
    {
     "data": {
      "image/jpeg": "[encoded data removed]",
      "image/png": "[encoded data removed]",
      "text/plain": [
       "<PIL.Image.Image image mode=RGB size=32x32>"
      ]
     },
     "metadata": {},
     "output_type": "display_data"
    },
    {
     "name": "stderr",
     "output_type": "stream",
     "text": [
      "Loss: 0.599 (L1: 0.472, MSE: 0.340, SSIM: 0.897):  80%|\u001b[36m████▊ \u001b[0m| 5140/6391 [00:24<00:05, 225.37step/s]\u001b[0m"
     ]
    },
    {
     "name": "stdout",
     "output_type": "stream",
     "text": [
      "JPG image saved to: results/step_05100.jpg\n"
     ]
    },
    {
     "name": "stderr",
     "output_type": "stream",
     "text": [
      "Loss: 0.599 (L1: 0.472, MSE: 0.340, SSIM: 0.896):  81%|\u001b[36m████▊ \u001b[0m| 5190/6391 [00:24<00:05, 233.56step/s]\u001b[0m"
     ]
    },
    {
     "data": {
      "image/jpeg": "[encoded data removed]",
      "image/png": "[encoded data removed]",
      "text/plain": [
       "<PIL.Image.Image image mode=RGB size=32x32>"
      ]
     },
     "metadata": {},
     "output_type": "display_data"
    },
    {
     "name": "stderr",
     "output_type": "stream",
     "text": [
      "Loss: 0.598 (L1: 0.471, MSE: 0.340, SSIM: 0.895):  82%|\u001b[36m████▉ \u001b[0m| 5239/6391 [00:24<00:04, 234.52step/s]\u001b[0m"
     ]
    },
    {
     "name": "stdout",
     "output_type": "stream",
     "text": [
      "JPG image saved to: results/step_05200.jpg\n"
     ]
    },
    {
     "name": "stderr",
     "output_type": "stream",
     "text": [
      "Loss: 0.598 (L1: 0.471, MSE: 0.339, SSIM: 0.895):  83%|\u001b[36m████▉ \u001b[0m| 5289/6391 [00:25<00:04, 238.26step/s]\u001b[0m"
     ]
    },
    {
     "data": {
      "image/jpeg": "[encoded data removed]",
      "image/png": "[encoded data removed]",
      "text/plain": [
       "<PIL.Image.Image image mode=RGB size=32x32>"
      ]
     },
     "metadata": {},
     "output_type": "display_data"
    },
    {
     "name": "stderr",
     "output_type": "stream",
     "text": [
      "Loss: 0.598 (L1: 0.471, MSE: 0.339, SSIM: 0.894):  83%|\u001b[36m█████ \u001b[0m| 5336/6391 [00:25<00:04, 216.63step/s]\u001b[0m"
     ]
    },
    {
     "name": "stdout",
     "output_type": "stream",
     "text": [
      "JPG image saved to: results/step_05300.jpg\n"
     ]
    },
    {
     "name": "stderr",
     "output_type": "stream",
     "text": [
      "Loss: 0.597 (L1: 0.471, MSE: 0.339, SSIM: 0.894):  84%|\u001b[36m█████ \u001b[0m| 5369/6391 [00:25<00:04, 247.62step/s]\u001b[0m"
     ]
    },
    {
     "data": {
      "image/jpeg": "[encoded data removed]",
      "image/png": "[encoded data removed]",
      "text/plain": [
       "<PIL.Image.Image image mode=RGB size=32x32>"
      ]
     },
     "metadata": {},
     "output_type": "display_data"
    },
    {
     "name": "stderr",
     "output_type": "stream",
     "text": [
      "Loss: 0.597 (L1: 0.470, MSE: 0.339, SSIM: 0.893):  85%|\u001b[36m█████ \u001b[0m| 5430/6391 [00:25<00:03, 274.26step/s]\u001b[0m"
     ]
    },
    {
     "name": "stdout",
     "output_type": "stream",
     "text": [
      "JPG image saved to: results/step_05400.jpg\n"
     ]
    },
    {
     "name": "stderr",
     "output_type": "stream",
     "text": [
      "Loss: 0.597 (L1: 0.470, MSE: 0.339, SSIM: 0.893):  86%|\u001b[36m█████▏\u001b[0m| 5487/6391 [00:25<00:03, 262.68step/s]\u001b[0m"
     ]
    },
    {
     "data": {
      "image/jpeg": "[encoded data removed]",
      "image/png": "[encoded data removed]",
      "text/plain": [
       "<PIL.Image.Image image mode=RGB size=32x32>"
      ]
     },
     "metadata": {},
     "output_type": "display_data"
    },
    {
     "name": "stderr",
     "output_type": "stream",
     "text": [
      "Loss: 0.596 (L1: 0.470, MSE: 0.338, SSIM: 0.892):  87%|\u001b[36m█████▏\u001b[0m| 5552/6391 [00:26<00:02, 290.59step/s]\u001b[0m"
     ]
    },
    {
     "name": "stdout",
     "output_type": "stream",
     "text": [
      "JPG image saved to: results/step_05500.jpg\n"
     ]
    },
    {
     "name": "stderr",
     "output_type": "stream",
     "text": [
      "Loss: 0.596 (L1: 0.470, MSE: 0.338, SSIM: 0.892):  87%|\u001b[36m█████▏\u001b[0m| 5582/6391 [00:26<00:02, 284.31step/s]\u001b[0m"
     ]
    },
    {
     "data": {
      "image/jpeg": "[encoded data removed]",
      "image/png": "[encoded data removed]",
      "text/plain": [
       "<PIL.Image.Image image mode=RGB size=32x32>"
      ]
     },
     "metadata": {},
     "output_type": "display_data"
    },
    {
     "name": "stderr",
     "output_type": "stream",
     "text": [
      "Loss: 0.596 (L1: 0.469, MSE: 0.338, SSIM: 0.891):  88%|\u001b[36m█████▎\u001b[0m| 5641/6391 [00:26<00:02, 274.48step/s]\u001b[0m"
     ]
    },
    {
     "name": "stdout",
     "output_type": "stream",
     "text": [
      "JPG image saved to: results/step_05600.jpg\n"
     ]
    },
    {
     "name": "stderr",
     "output_type": "stream",
     "text": [
      "Loss: 0.595 (L1: 0.469, MSE: 0.338, SSIM: 0.891):  89%|\u001b[36m█████▎\u001b[0m| 5677/6391 [00:26<00:02, 298.58step/s]\u001b[0m"
     ]
    },
    {
     "data": {
      "image/jpeg": "[encoded data removed]",
      "image/png": "[encoded data removed]",
      "text/plain": [
       "<PIL.Image.Image image mode=RGB size=32x32>"
      ]
     },
     "metadata": {},
     "output_type": "display_data"
    },
    {
     "name": "stderr",
     "output_type": "stream",
     "text": [
      "Loss: 0.595 (L1: 0.469, MSE: 0.338, SSIM: 0.890):  90%|\u001b[36m█████▍\u001b[0m| 5749/6391 [00:26<00:01, 326.94step/s]\u001b[0m"
     ]
    },
    {
     "name": "stdout",
     "output_type": "stream",
     "text": [
      "JPG image saved to: results/step_05700.jpg\n"
     ]
    },
    {
     "name": "stderr",
     "output_type": "stream",
     "text": [
      "Loss: 0.595 (L1: 0.469, MSE: 0.338, SSIM: 0.890):  91%|\u001b[36m█████▍\u001b[0m| 5786/6391 [00:26<00:01, 336.81step/s]\u001b[0m"
     ]
    },
    {
     "data": {
      "image/jpeg": "[encoded data removed]",
      "image/png": "[encoded data removed]",
      "text/plain": [
       "<PIL.Image.Image image mode=RGB size=32x32>"
      ]
     },
     "metadata": {},
     "output_type": "display_data"
    },
    {
     "name": "stderr",
     "output_type": "stream",
     "text": [
      "Loss: 0.594 (L1: 0.469, MSE: 0.337, SSIM: 0.889):  91%|\u001b[36m█████▍\u001b[0m| 5820/6391 [00:27<00:01, 306.65step/s]\u001b[0m"
     ]
    },
    {
     "name": "stdout",
     "output_type": "stream",
     "text": [
      "JPG image saved to: results/step_05800.jpg\n"
     ]
    },
    {
     "name": "stderr",
     "output_type": "stream",
     "text": [
      "Loss: 0.594 (L1: 0.468, MSE: 0.337, SSIM: 0.889):  92%|\u001b[36m█████▌\u001b[0m| 5880/6391 [00:27<00:02, 239.70step/s]\u001b[0m"
     ]
    },
    {
     "data": {
      "image/jpeg": "[encoded data removed]",
      "image/png": "[encoded data removed]",
      "text/plain": [
       "<PIL.Image.Image image mode=RGB size=32x32>"
      ]
     },
     "metadata": {},
     "output_type": "display_data"
    },
    {
     "name": "stderr",
     "output_type": "stream",
     "text": [
      "Loss: 0.594 (L1: 0.468, MSE: 0.337, SSIM: 0.888):  93%|\u001b[36m█████▌\u001b[0m| 5930/6391 [00:27<00:02, 213.04step/s]\u001b[0m"
     ]
    },
    {
     "name": "stdout",
     "output_type": "stream",
     "text": [
      "JPG image saved to: results/step_05900.jpg\n"
     ]
    },
    {
     "name": "stderr",
     "output_type": "stream",
     "text": [
      "Loss: 0.593 (L1: 0.468, MSE: 0.337, SSIM: 0.888):  94%|\u001b[36m█████▋\u001b[0m| 5993/6391 [00:27<00:02, 183.87step/s]\u001b[0m"
     ]
    },
    {
     "data": {
      "image/jpeg": "[encoded data removed]",
      "image/png": "[encoded data removed]",
      "text/plain": [
       "<PIL.Image.Image image mode=RGB size=32x32>"
      ]
     },
     "metadata": {},
     "output_type": "display_data"
    },
    {
     "name": "stderr",
     "output_type": "stream",
     "text": [
      "Loss: 0.593 (L1: 0.468, MSE: 0.337, SSIM: 0.887):  94%|\u001b[36m█████▋\u001b[0m| 6031/6391 [00:28<00:02, 176.56step/s]\u001b[0m"
     ]
    },
    {
     "name": "stdout",
     "output_type": "stream",
     "text": [
      "JPG image saved to: results/step_06000.jpg\n"
     ]
    },
    {
     "name": "stderr",
     "output_type": "stream",
     "text": [
      "Loss: 0.593 (L1: 0.467, MSE: 0.337, SSIM: 0.887):  95%|\u001b[36m█████▋\u001b[0m| 6094/6391 [00:28<00:01, 196.77step/s]\u001b[0m"
     ]
    },
    {
     "data": {
      "image/jpeg": "[encoded data removed]",
      "image/png": "[encoded data removed]",
      "text/plain": [
       "<PIL.Image.Image image mode=RGB size=32x32>"
      ]
     },
     "metadata": {},
     "output_type": "display_data"
    },
    {
     "name": "stderr",
     "output_type": "stream",
     "text": [
      "Loss: 0.593 (L1: 0.467, MSE: 0.336, SSIM: 0.886):  96%|\u001b[36m█████▊\u001b[0m| 6134/6391 [00:28<00:01, 190.50step/s]\u001b[0m"
     ]
    },
    {
     "name": "stdout",
     "output_type": "stream",
     "text": [
      "JPG image saved to: results/step_06100.jpg\n"
     ]
    },
    {
     "name": "stderr",
     "output_type": "stream",
     "text": [
      "Loss: 0.592 (L1: 0.467, MSE: 0.336, SSIM: 0.886):  97%|\u001b[36m█████▊\u001b[0m| 6192/6391 [00:28<00:01, 186.34step/s]\u001b[0m"
     ]
    },
    {
     "data": {
      "image/jpeg": "[encoded data removed]",
      "image/png": "[encoded data removed]",
      "text/plain": [
       "<PIL.Image.Image image mode=RGB size=32x32>"
      ]
     },
     "metadata": {},
     "output_type": "display_data"
    },
    {
     "name": "stderr",
     "output_type": "stream",
     "text": [
      "Loss: 0.592 (L1: 0.467, MSE: 0.336, SSIM: 0.885):  97%|\u001b[36m█████▊\u001b[0m| 6230/6391 [00:29<00:00, 180.51step/s]\u001b[0m"
     ]
    },
    {
     "name": "stdout",
     "output_type": "stream",
     "text": [
      "JPG image saved to: results/step_06200.jpg\n"
     ]
    },
    {
     "name": "stderr",
     "output_type": "stream",
     "text": [
      "Loss: 0.592 (L1: 0.466, MSE: 0.336, SSIM: 0.885):  98%|\u001b[36m█████▉\u001b[0m| 6287/6391 [00:29<00:00, 182.66step/s]\u001b[0m"
     ]
    },
    {
     "data": {
      "image/jpeg": "[encoded data removed]",
      "image/png": "[encoded data removed]",
      "text/plain": [
       "<PIL.Image.Image image mode=RGB size=32x32>"
      ]
     },
     "metadata": {},
     "output_type": "display_data"
    },
    {
     "name": "stderr",
     "output_type": "stream",
     "text": [
      "Loss: 0.591 (L1: 0.466, MSE: 0.336, SSIM: 0.884):  99%|\u001b[36m█████▉\u001b[0m| 6325/6391 [00:29<00:00, 181.95step/s]\u001b[0m"
     ]
    },
    {
     "name": "stdout",
     "output_type": "stream",
     "text": [
      "JPG image saved to: results/step_06300.jpg\n"
     ]
    },
    {
     "name": "stderr",
     "output_type": "stream",
     "text": [
      "Loss: 0.591 (L1: 0.466, MSE: 0.336, SSIM: 0.884): 100%|\u001b[36m██████\u001b[0m| 6391/6391 [00:30<00:00, 212.77step/s]\u001b[0m\n"
     ]
    },
    {
     "name": "stdout",
     "output_type": "stream",
     "text": [
      "GIF saved to: results/animation.gif\n"
     ]
    },
    {
     "data": {
      "image/jpeg": "[encoded data removed]",
      "image/png": "[encoded data removed]",
      "text/plain": [
       "<PIL.Image.Image image mode=RGB size=32x32>"
      ]
     },
     "metadata": {},
     "output_type": "display_data"
    },
    {
     "name": "stderr",
     "output_type": "stream",
     "text": [
      "[I 2025-01-06 06:11:07,416] Trial 3 finished with value: 0.4659530818462372 and parameters: {'loss_weight_l1': 0.33473601873320463, 'loss_weight_mse': 0.5230217856753968, 'loss_weight_ssim': 0.5993126505129717, 'scale_regulation': 1.0, 'opacity_regulation': None, 'init_type': 'knn', 'num_points': 256, 'extent': 4.0, 'init_scale': 1.397326769805282, 'init_opacity': 0.2366185483348057, 'max_steps': 6391, 'learning_rate': 4.5562784341170444e-05, 'model_type': '3dgs', 'bilateral_grid': True}. Best is trial 1 with value: 0.10806117206811905.\n"
     ]
    },
    {
     "name": "stdout",
     "output_type": "stream",
     "text": [
      "JPG image saved to: results/final.jpg\n",
      "Final loss: 0.5909951329231262\n",
      "Total Time: Rasterization: 2.799s, Backward: 11.954s\n",
      "Trial 3 finished with value: 0.4659530818462372 and parameters: {'loss_weight_l1': 0.33473601873320463, 'loss_weight_mse': 0.5230217856753968, 'loss_weight_ssim': 0.5993126505129717, 'scale_regulation': 1.0, 'opacity_regulation': None, 'init_type': 'knn', 'num_points': 256, 'extent': 4.0, 'init_scale': 1.397326769805282, 'init_opacity': 0.2366185483348057, 'max_steps': 6391, 'learning_rate': 4.5562784341170444e-05, 'model_type': '3dgs', 'bilateral_grid': True}. Best is trial 1 with value: 0.10806117206811905.\n",
      "Trial 3 finished with value: 0.4659530818462372 and parameters: {'loss_weight_l1': 0.33473601873320463, 'loss_weight_mse': 0.5230217856753968, 'loss_weight_ssim': 0.5993126505129717, 'scale_regulation': 1.0, 'opacity_regulation': None, 'init_type': 'knn', 'num_points': 256, 'extent': 4.0, 'init_scale': 1.397326769805282, 'init_opacity': 0.2366185483348057, 'max_steps': 6391, 'learning_rate': 4.5562784341170444e-05, 'model_type': '3dgs', 'bilateral_grid': True}. Best is trial 1 with value: 0.10806117206811905.\n",
      "Trial 3 finished with value: 0.4659530818462372 and parameters: {'loss_weight_l1': 0.33473601873320463, 'loss_weight_mse': 0.5230217856753968, 'loss_weight_ssim': 0.5993126505129717, 'scale_regulation': 1.0, 'opacity_regulation': None, 'init_type': 'knn', 'num_points': 256, 'extent': 4.0, 'init_scale': 1.397326769805282, 'init_opacity': 0.2366185483348057, 'max_steps': 6391, 'learning_rate': 4.5562784341170444e-05, 'model_type': '3dgs', 'bilateral_grid': True}. Best is trial 1 with value: 0.10806117206811905.\n",
      "Trial 3 finished with value: 0.4659530818462372 and parameters: {'loss_weight_l1': 0.33473601873320463, 'loss_weight_mse': 0.5230217856753968, 'loss_weight_ssim': 0.5993126505129717, 'scale_regulation': 1.0, 'opacity_regulation': None, 'init_type': 'knn', 'num_points': 256, 'extent': 4.0, 'init_scale': 1.397326769805282, 'init_opacity': 0.2366185483348057, 'max_steps': 6391, 'learning_rate': 4.5562784341170444e-05, 'model_type': '3dgs', 'bilateral_grid': True}. Best is trial 1 with value: 0.10806117206811905.\n"
     ]
    },
    {
     "name": "stderr",
     "output_type": "stream",
     "text": [
      "[I 2025-01-06 06:11:07,628] Trial 4 pruned. Invalid hyperparameter combination\n"
     ]
    },
    {
     "name": "stdout",
     "output_type": "stream",
     "text": [
      "Trial 4 pruned. Invalid hyperparameter combination\n",
      "Trial 4 pruned. Invalid hyperparameter combination\n",
      "Trial 4 pruned. Invalid hyperparameter combination\n",
      "Trial 4 pruned. Invalid hyperparameter combination\n"
     ]
    },
    {
     "name": "stderr",
     "output_type": "stream",
     "text": [
      "[I 2025-01-06 06:11:07,832] Trial 5 pruned. Invalid hyperparameter combination\n"
     ]
    },
    {
     "name": "stdout",
     "output_type": "stream",
     "text": [
      "Trial 5 pruned. Invalid hyperparameter combination\n",
      "Trial 5 pruned. Invalid hyperparameter combination\n",
      "Trial 5 pruned. Invalid hyperparameter combination\n",
      "Trial 5 pruned. Invalid hyperparameter combination\n"
     ]
    },
    {
     "name": "stderr",
     "output_type": "stream",
     "text": [
      "[I 2025-01-06 06:11:08,027] Trial 6 pruned. Invalid hyperparameter combination\n"
     ]
    },
    {
     "name": "stdout",
     "output_type": "stream",
     "text": [
      "Trial 6 pruned. Invalid hyperparameter combination\n",
      "Trial 6 pruned. Invalid hyperparameter combination\n",
      "Trial 6 pruned. Invalid hyperparameter combination\n",
      "Trial 6 pruned. Invalid hyperparameter combination\n",
      "Model initialized. Number of Gaussians: 256\n"
     ]
    },
    {
     "data": {
      "image/jpeg": "[encoded data removed]",
      "image/png": "[encoded data removed]",
      "text/plain": [
       "<PIL.Image.Image image mode=RGB size=32x32>"
      ]
     },
     "metadata": {},
     "output_type": "display_data"
    },
    {
     "name": "stdout",
     "output_type": "stream",
     "text": [
      "JPG image saved to: results/original.jpg\n"
     ]
    },
    {
     "name": "stderr",
     "output_type": "stream",
     "text": [
      "Loss: 0.659 (L1: 0.512, MSE: 0.371, SSIM: 1.000):   0%|\u001b[36m                  \u001b[0m| 0/8473 [00:00<?, ?step/s]\u001b[0m"
     ]
    },
    {
     "data": {
      "image/jpeg": "[encoded data removed]",
      "image/png": "[encoded data removed]",
      "text/plain": [
       "<PIL.Image.Image image mode=RGB size=32x32>"
      ]
     },
     "metadata": {},
     "output_type": "display_data"
    },
    {
     "name": "stderr",
     "output_type": "stream",
     "text": [
      "Loss: 0.659 (L1: 0.512, MSE: 0.370, SSIM: 1.000):   0%|\u001b[36m        \u001b[0m| 20/8473 [00:00<00:42, 199.28step/s]\u001b[0m"
     ]
    },
    {
     "name": "stdout",
     "output_type": "stream",
     "text": [
      "JPG image saved to: results/step_00000.jpg\n"
     ]
    },
    {
     "name": "stderr",
     "output_type": "stream",
     "text": [
      "Loss: 0.659 (L1: 0.511, MSE: 0.370, SSIM: 1.000):   1%|\u001b[36m       \u001b[0m| 100/8473 [00:00<00:43, 194.54step/s]\u001b[0m"
     ]
    },
    {
     "data": {
      "image/jpeg": "[encoded data removed]",
      "image/png": "[encoded data removed]",
      "text/plain": [
       "<PIL.Image.Image image mode=RGB size=32x32>"
      ]
     },
     "metadata": {},
     "output_type": "display_data"
    },
    {
     "name": "stderr",
     "output_type": "stream",
     "text": [
      "Loss: 0.658 (L1: 0.511, MSE: 0.370, SSIM: 0.999):   1%|\u001b[36m       \u001b[0m| 120/8473 [00:00<00:44, 186.65step/s]\u001b[0m"
     ]
    },
    {
     "name": "stdout",
     "output_type": "stream",
     "text": [
      "JPG image saved to: results/step_00100.jpg\n"
     ]
    },
    {
     "name": "stderr",
     "output_type": "stream",
     "text": [
      "Loss: 0.658 (L1: 0.511, MSE: 0.370, SSIM: 0.999):   2%|\u001b[36m▏      \u001b[0m| 193/8473 [00:01<00:48, 171.35step/s]\u001b[0m"
     ]
    },
    {
     "data": {
      "image/jpeg": "[encoded data removed]",
      "image/png": "[encoded data removed]",
      "text/plain": [
       "<PIL.Image.Image image mode=RGB size=32x32>"
      ]
     },
     "metadata": {},
     "output_type": "display_data"
    },
    {
     "name": "stderr",
     "output_type": "stream",
     "text": [
      "Loss: 0.658 (L1: 0.511, MSE: 0.370, SSIM: 0.999):   3%|\u001b[36m▏      \u001b[0m| 228/8473 [00:01<00:48, 168.61step/s]\u001b[0m"
     ]
    },
    {
     "name": "stdout",
     "output_type": "stream",
     "text": [
      "JPG image saved to: results/step_00200.jpg\n"
     ]
    },
    {
     "name": "stderr",
     "output_type": "stream",
     "text": [
      "Loss: 0.658 (L1: 0.511, MSE: 0.370, SSIM: 0.998):   4%|\u001b[36m▏      \u001b[0m| 300/8473 [00:01<00:48, 169.87step/s]\u001b[0m"
     ]
    },
    {
     "data": {
      "image/jpeg": "[encoded data removed]",
      "image/png": "[encoded data removed]",
      "text/plain": [
       "<PIL.Image.Image image mode=RGB size=32x32>"
      ]
     },
     "metadata": {},
     "output_type": "display_data"
    },
    {
     "name": "stderr",
     "output_type": "stream",
     "text": [
      "Loss: 0.658 (L1: 0.511, MSE: 0.370, SSIM: 0.998):   4%|\u001b[36m▎      \u001b[0m| 339/8473 [00:01<00:44, 181.94step/s]\u001b[0m"
     ]
    },
    {
     "name": "stdout",
     "output_type": "stream",
     "text": [
      "JPG image saved to: results/step_00300.jpg\n"
     ]
    },
    {
     "name": "stderr",
     "output_type": "stream",
     "text": [
      "Loss: 0.657 (L1: 0.511, MSE: 0.370, SSIM: 0.998):   5%|\u001b[36m▎      \u001b[0m| 394/8473 [00:02<00:46, 174.93step/s]\u001b[0m"
     ]
    },
    {
     "data": {
      "image/jpeg": "[encoded data removed]",
      "image/png": "[encoded data removed]",
      "text/plain": [
       "<PIL.Image.Image image mode=RGB size=32x32>"
      ]
     },
     "metadata": {},
     "output_type": "display_data"
    },
    {
     "name": "stderr",
     "output_type": "stream",
     "text": [
      "Loss: 0.657 (L1: 0.511, MSE: 0.370, SSIM: 0.997):   5%|\u001b[36m▎      \u001b[0m| 430/8473 [00:02<00:46, 172.92step/s]\u001b[0m"
     ]
    },
    {
     "name": "stdout",
     "output_type": "stream",
     "text": [
      "JPG image saved to: results/step_00400.jpg\n"
     ]
    },
    {
     "name": "stderr",
     "output_type": "stream",
     "text": [
      "Loss: 0.657 (L1: 0.510, MSE: 0.370, SSIM: 0.997):   6%|\u001b[36m▍      \u001b[0m| 484/8473 [00:02<00:45, 174.03step/s]\u001b[0m"
     ]
    },
    {
     "data": {
      "image/jpeg": "[encoded data removed]",
      "image/png": "[encoded data removed]",
      "text/plain": [
       "<PIL.Image.Image image mode=RGB size=32x32>"
      ]
     },
     "metadata": {},
     "output_type": "display_data"
    },
    {
     "name": "stderr",
     "output_type": "stream",
     "text": [
      "Loss: 0.657 (L1: 0.510, MSE: 0.370, SSIM: 0.997):   6%|\u001b[36m▍      \u001b[0m| 520/8473 [00:03<00:46, 170.46step/s]\u001b[0m"
     ]
    },
    {
     "name": "stdout",
     "output_type": "stream",
     "text": [
      "JPG image saved to: results/step_00500.jpg\n"
     ]
    },
    {
     "name": "stderr",
     "output_type": "stream",
     "text": [
      "Loss: 0.657 (L1: 0.510, MSE: 0.369, SSIM: 0.996):   7%|\u001b[36m▍      \u001b[0m| 599/8473 [00:03<00:40, 192.26step/s]\u001b[0m"
     ]
    },
    {
     "data": {
      "image/jpeg": "[encoded data removed]",
      "image/png": "[encoded data removed]",
      "text/plain": [
       "<PIL.Image.Image image mode=RGB size=32x32>"
      ]
     },
     "metadata": {},
     "output_type": "display_data"
    },
    {
     "name": "stderr",
     "output_type": "stream",
     "text": [
      "Loss: 0.657 (L1: 0.510, MSE: 0.369, SSIM: 0.996):   8%|\u001b[36m▌      \u001b[0m| 641/8473 [00:03<00:38, 201.39step/s]\u001b[0m"
     ]
    },
    {
     "name": "stdout",
     "output_type": "stream",
     "text": [
      "JPG image saved to: results/step_00600.jpg\n"
     ]
    },
    {
     "name": "stderr",
     "output_type": "stream",
     "text": [
      "Loss: 0.656 (L1: 0.510, MSE: 0.369, SSIM: 0.996):   8%|\u001b[36m▌      \u001b[0m| 686/8473 [00:03<00:36, 210.81step/s]\u001b[0m"
     ]
    },
    {
     "data": {
      "image/jpeg": "[encoded data removed]",
      "image/png": "[encoded data removed]",
      "text/plain": [
       "<PIL.Image.Image image mode=RGB size=32x32>"
      ]
     },
     "metadata": {},
     "output_type": "display_data"
    },
    {
     "name": "stderr",
     "output_type": "stream",
     "text": [
      "Loss: 0.656 (L1: 0.510, MSE: 0.369, SSIM: 0.996):   9%|\u001b[36m▌      \u001b[0m| 731/8473 [00:04<00:36, 213.34step/s]\u001b[0m"
     ]
    },
    {
     "name": "stdout",
     "output_type": "stream",
     "text": [
      "JPG image saved to: results/step_00700.jpg\n"
     ]
    },
    {
     "name": "stderr",
     "output_type": "stream",
     "text": [
      "Loss: 0.656 (L1: 0.510, MSE: 0.369, SSIM: 0.995):   9%|\u001b[36m▋      \u001b[0m| 800/8473 [00:04<00:34, 220.23step/s]\u001b[0m"
     ]
    },
    {
     "data": {
      "image/jpeg": "[encoded data removed]",
      "image/png": "[encoded data removed]",
      "text/plain": [
       "<PIL.Image.Image image mode=RGB size=32x32>"
      ]
     },
     "metadata": {},
     "output_type": "display_data"
    },
    {
     "name": "stderr",
     "output_type": "stream",
     "text": [
      "Loss: 0.656 (L1: 0.510, MSE: 0.369, SSIM: 0.995):  10%|\u001b[36m▋      \u001b[0m| 823/8473 [00:04<00:35, 215.10step/s]\u001b[0m"
     ]
    },
    {
     "name": "stdout",
     "output_type": "stream",
     "text": [
      "JPG image saved to: results/step_00800.jpg\n"
     ]
    },
    {
     "name": "stderr",
     "output_type": "stream",
     "text": [
      "Loss: 0.656 (L1: 0.510, MSE: 0.369, SSIM: 0.995):  11%|\u001b[36m▋      \u001b[0m| 894/8473 [00:04<00:34, 221.39step/s]\u001b[0m"
     ]
    },
    {
     "data": {
      "image/jpeg": "[encoded data removed]",
      "image/png": "[encoded data removed]",
      "text/plain": [
       "<PIL.Image.Image image mode=RGB size=32x32>"
      ]
     },
     "metadata": {},
     "output_type": "display_data"
    },
    {
     "name": "stderr",
     "output_type": "stream",
     "text": [
      "Loss: 0.655 (L1: 0.509, MSE: 0.369, SSIM: 0.994):  11%|\u001b[36m▊      \u001b[0m| 943/8473 [00:04<00:32, 230.64step/s]\u001b[0m"
     ]
    },
    {
     "name": "stdout",
     "output_type": "stream",
     "text": [
      "JPG image saved to: results/step_00900.jpg\n"
     ]
    },
    {
     "name": "stderr",
     "output_type": "stream",
     "text": [
      "Loss: 0.655 (L1: 0.509, MSE: 0.369, SSIM: 0.994):  12%|\u001b[36m▊      \u001b[0m| 993/8473 [00:05<00:32, 233.43step/s]\u001b[0m"
     ]
    },
    {
     "data": {
      "image/jpeg": "[encoded data removed]",
      "image/png": "[encoded data removed]",
      "text/plain": [
       "<PIL.Image.Image image mode=RGB size=32x32>"
      ]
     },
     "metadata": {},
     "output_type": "display_data"
    },
    {
     "name": "stderr",
     "output_type": "stream",
     "text": [
      "Loss: 0.655 (L1: 0.509, MSE: 0.369, SSIM: 0.994):  12%|\u001b[36m▋     \u001b[0m| 1040/8473 [00:05<00:34, 214.17step/s]\u001b[0m"
     ]
    },
    {
     "name": "stdout",
     "output_type": "stream",
     "text": [
      "JPG image saved to: results/step_01000.jpg\n"
     ]
    },
    {
     "name": "stderr",
     "output_type": "stream",
     "text": [
      "Loss: 0.655 (L1: 0.509, MSE: 0.368, SSIM: 0.993):  13%|\u001b[36m▊     \u001b[0m| 1083/8473 [00:05<00:36, 203.31step/s]\u001b[0m"
     ]
    },
    {
     "data": {
      "image/jpeg": "[encoded data removed]",
      "image/png": "[encoded data removed]",
      "text/plain": [
       "<PIL.Image.Image image mode=RGB size=32x32>"
      ]
     },
     "metadata": {},
     "output_type": "display_data"
    },
    {
     "name": "stderr",
     "output_type": "stream",
     "text": [
      "Loss: 0.655 (L1: 0.509, MSE: 0.368, SSIM: 0.993):  13%|\u001b[36m▊     \u001b[0m| 1125/8473 [00:05<00:36, 200.10step/s]\u001b[0m"
     ]
    },
    {
     "name": "stdout",
     "output_type": "stream",
     "text": [
      "JPG image saved to: results/step_01100.jpg\n"
     ]
    },
    {
     "name": "stderr",
     "output_type": "stream",
     "text": [
      "Loss: 0.654 (L1: 0.509, MSE: 0.368, SSIM: 0.993):  14%|\u001b[36m▊     \u001b[0m| 1188/8473 [00:06<00:36, 200.90step/s]\u001b[0m"
     ]
    },
    {
     "data": {
      "image/jpeg": "[encoded data removed]",
      "image/png": "[encoded data removed]",
      "text/plain": [
       "<PIL.Image.Image image mode=RGB size=32x32>"
      ]
     },
     "metadata": {},
     "output_type": "display_data"
    },
    {
     "name": "stderr",
     "output_type": "stream",
     "text": [
      "Loss: 0.654 (L1: 0.509, MSE: 0.368, SSIM: 0.993):  15%|\u001b[36m▊     \u001b[0m| 1229/8473 [00:06<00:37, 194.42step/s]\u001b[0m"
     ]
    },
    {
     "name": "stdout",
     "output_type": "stream",
     "text": [
      "JPG image saved to: results/step_01200.jpg\n"
     ]
    },
    {
     "name": "stderr",
     "output_type": "stream",
     "text": [
      "Loss: 0.654 (L1: 0.509, MSE: 0.368, SSIM: 0.992):  15%|\u001b[36m▉     \u001b[0m| 1289/8473 [00:06<00:38, 186.20step/s]\u001b[0m"
     ]
    },
    {
     "data": {
      "image/jpeg": "[encoded data removed]",
      "image/png": "[encoded data removed]",
      "text/plain": [
       "<PIL.Image.Image image mode=RGB size=32x32>"
      ]
     },
     "metadata": {},
     "output_type": "display_data"
    },
    {
     "name": "stderr",
     "output_type": "stream",
     "text": [
      "Loss: 0.654 (L1: 0.508, MSE: 0.368, SSIM: 0.992):  16%|\u001b[36m▉     \u001b[0m| 1328/8473 [00:06<00:37, 189.63step/s]\u001b[0m"
     ]
    },
    {
     "name": "stdout",
     "output_type": "stream",
     "text": [
      "JPG image saved to: results/step_01300.jpg\n"
     ]
    },
    {
     "name": "stderr",
     "output_type": "stream",
     "text": [
      "Loss: 0.654 (L1: 0.508, MSE: 0.368, SSIM: 0.991):  16%|\u001b[36m▉     \u001b[0m| 1388/8473 [00:07<00:37, 189.26step/s]\u001b[0m"
     ]
    },
    {
     "data": {
      "image/jpeg": "[encoded data removed]",
      "image/png": "[encoded data removed]",
      "text/plain": [
       "<PIL.Image.Image image mode=RGB size=32x32>"
      ]
     },
     "metadata": {},
     "output_type": "display_data"
    },
    {
     "name": "stderr",
     "output_type": "stream",
     "text": [
      "Loss: 0.654 (L1: 0.508, MSE: 0.368, SSIM: 0.991):  17%|\u001b[36m█     \u001b[0m| 1426/8473 [00:07<00:39, 179.53step/s]\u001b[0m"
     ]
    },
    {
     "name": "stdout",
     "output_type": "stream",
     "text": [
      "JPG image saved to: results/step_01400.jpg\n"
     ]
    },
    {
     "name": "stderr",
     "output_type": "stream",
     "text": [
      "Loss: 0.653 (L1: 0.508, MSE: 0.368, SSIM: 0.991):  18%|\u001b[36m█     \u001b[0m| 1498/8473 [00:07<00:42, 164.85step/s]\u001b[0m"
     ]
    },
    {
     "data": {
      "image/jpeg": "[encoded data removed]",
      "image/png": "[encoded data removed]",
      "text/plain": [
       "<PIL.Image.Image image mode=RGB size=32x32>"
      ]
     },
     "metadata": {},
     "output_type": "display_data"
    },
    {
     "name": "stderr",
     "output_type": "stream",
     "text": [
      "Loss: 0.653 (L1: 0.508, MSE: 0.368, SSIM: 0.991):  18%|\u001b[36m█     \u001b[0m| 1534/8473 [00:08<00:41, 168.67step/s]\u001b[0m"
     ]
    },
    {
     "name": "stdout",
     "output_type": "stream",
     "text": [
      "JPG image saved to: results/step_01500.jpg\n"
     ]
    },
    {
     "name": "stderr",
     "output_type": "stream",
     "text": [
      "Loss: 0.653 (L1: 0.508, MSE: 0.367, SSIM: 0.990):  19%|\u001b[36m█     \u001b[0m| 1588/8473 [00:08<00:39, 173.36step/s]\u001b[0m"
     ]
    },
    {
     "data": {
      "image/jpeg": "[encoded data removed]",
      "image/png": "[encoded data removed]",
      "text/plain": [
       "<PIL.Image.Image image mode=RGB size=32x32>"
      ]
     },
     "metadata": {},
     "output_type": "display_data"
    },
    {
     "name": "stderr",
     "output_type": "stream",
     "text": [
      "Loss: 0.653 (L1: 0.508, MSE: 0.367, SSIM: 0.990):  19%|\u001b[36m█▏    \u001b[0m| 1624/8473 [00:08<00:39, 173.13step/s]\u001b[0m"
     ]
    },
    {
     "name": "stdout",
     "output_type": "stream",
     "text": [
      "JPG image saved to: results/step_01600.jpg\n"
     ]
    },
    {
     "name": "stderr",
     "output_type": "stream",
     "text": [
      "Loss: 0.652 (L1: 0.507, MSE: 0.367, SSIM: 0.989):  20%|\u001b[36m█▏    \u001b[0m| 1696/8473 [00:09<00:38, 174.00step/s]\u001b[0m"
     ]
    },
    {
     "data": {
      "image/jpeg": "[encoded data removed]",
      "image/png": "[encoded data removed]",
      "text/plain": [
       "<PIL.Image.Image image mode=RGB size=32x32>"
      ]
     },
     "metadata": {},
     "output_type": "display_data"
    },
    {
     "name": "stderr",
     "output_type": "stream",
     "text": [
      "Loss: 0.652 (L1: 0.507, MSE: 0.367, SSIM: 0.989):  20%|\u001b[36m█▏    \u001b[0m| 1736/8473 [00:09<00:36, 183.36step/s]\u001b[0m"
     ]
    },
    {
     "name": "stdout",
     "output_type": "stream",
     "text": [
      "JPG image saved to: results/step_01700.jpg\n"
     ]
    },
    {
     "name": "stderr",
     "output_type": "stream",
     "text": [
      "Loss: 0.652 (L1: 0.507, MSE: 0.367, SSIM: 0.988):  21%|\u001b[36m█▎    \u001b[0m| 1792/8473 [00:09<00:37, 176.33step/s]\u001b[0m"
     ]
    },
    {
     "data": {
      "image/jpeg": "[encoded data removed]",
      "image/png": "[encoded data removed]",
      "text/plain": [
       "<PIL.Image.Image image mode=RGB size=32x32>"
      ]
     },
     "metadata": {},
     "output_type": "display_data"
    },
    {
     "name": "stderr",
     "output_type": "stream",
     "text": [
      "Loss: 0.652 (L1: 0.507, MSE: 0.367, SSIM: 0.988):  22%|\u001b[36m█▎    \u001b[0m| 1828/8473 [00:09<00:37, 175.62step/s]\u001b[0m"
     ]
    },
    {
     "name": "stdout",
     "output_type": "stream",
     "text": [
      "JPG image saved to: results/step_01800.jpg\n"
     ]
    },
    {
     "name": "stderr",
     "output_type": "stream",
     "text": [
      "Loss: 0.651 (L1: 0.507, MSE: 0.367, SSIM: 0.988):  22%|\u001b[36m█▎    \u001b[0m| 1885/8473 [00:10<00:37, 175.85step/s]\u001b[0m"
     ]
    },
    {
     "data": {
      "image/jpeg": "[encoded data removed]",
      "image/png": "[encoded data removed]",
      "text/plain": [
       "<PIL.Image.Image image mode=RGB size=32x32>"
      ]
     },
     "metadata": {},
     "output_type": "display_data"
    },
    {
     "name": "stderr",
     "output_type": "stream",
     "text": [
      "Loss: 0.651 (L1: 0.507, MSE: 0.367, SSIM: 0.987):  23%|\u001b[36m█▎    \u001b[0m| 1924/8473 [00:10<00:36, 181.60step/s]\u001b[0m"
     ]
    },
    {
     "name": "stdout",
     "output_type": "stream",
     "text": [
      "JPG image saved to: results/step_01900.jpg\n"
     ]
    },
    {
     "name": "stderr",
     "output_type": "stream",
     "text": [
      "Loss: 0.651 (L1: 0.507, MSE: 0.367, SSIM: 0.987):  24%|\u001b[36m█▍    \u001b[0m| 1992/8473 [00:10<00:31, 206.43step/s]\u001b[0m"
     ]
    },
    {
     "data": {
      "image/jpeg": "[encoded data removed]",
      "image/png": "[encoded data removed]",
      "text/plain": [
       "<PIL.Image.Image image mode=RGB size=32x32>"
      ]
     },
     "metadata": {},
     "output_type": "display_data"
    },
    {
     "name": "stderr",
     "output_type": "stream",
     "text": [
      "Loss: 0.651 (L1: 0.506, MSE: 0.366, SSIM: 0.987):  24%|\u001b[36m█▍    \u001b[0m| 2036/8473 [00:10<00:30, 211.55step/s]\u001b[0m"
     ]
    },
    {
     "name": "stdout",
     "output_type": "stream",
     "text": [
      "JPG image saved to: results/step_02000.jpg\n"
     ]
    },
    {
     "name": "stderr",
     "output_type": "stream",
     "text": [
      "Loss: 0.650 (L1: 0.506, MSE: 0.366, SSIM: 0.986):  25%|\u001b[36m█▍    \u001b[0m| 2082/8473 [00:11<00:29, 217.28step/s]\u001b[0m"
     ]
    },
    {
     "data": {
      "image/jpeg": "[encoded data removed]",
      "image/png": "[encoded data removed]",
      "text/plain": [
       "<PIL.Image.Image image mode=RGB size=32x32>"
      ]
     },
     "metadata": {},
     "output_type": "display_data"
    },
    {
     "name": "stderr",
     "output_type": "stream",
     "text": [
      "Loss: 0.650 (L1: 0.506, MSE: 0.366, SSIM: 0.986):  25%|\u001b[36m█▌    \u001b[0m| 2127/8473 [00:11<00:29, 217.92step/s]\u001b[0m"
     ]
    },
    {
     "name": "stdout",
     "output_type": "stream",
     "text": [
      "JPG image saved to: results/step_02100.jpg\n"
     ]
    },
    {
     "name": "stderr",
     "output_type": "stream",
     "text": [
      "Loss: 0.650 (L1: 0.506, MSE: 0.366, SSIM: 0.985):  26%|\u001b[36m█▌    \u001b[0m| 2194/8473 [00:11<00:29, 214.74step/s]\u001b[0m"
     ]
    },
    {
     "data": {
      "image/jpeg": "[encoded data removed]",
      "image/png": "[encoded data removed]",
      "text/plain": [
       "<PIL.Image.Image image mode=RGB size=32x32>"
      ]
     },
     "metadata": {},
     "output_type": "display_data"
    },
    {
     "name": "stderr",
     "output_type": "stream",
     "text": [
      "Loss: 0.650 (L1: 0.506, MSE: 0.366, SSIM: 0.985):  27%|\u001b[36m█▌    \u001b[0m| 2257/8473 [00:11<00:23, 264.29step/s]\u001b[0m"
     ]
    },
    {
     "name": "stdout",
     "output_type": "stream",
     "text": [
      "JPG image saved to: results/step_02200.jpg\n"
     ]
    },
    {
     "name": "stderr",
     "output_type": "stream",
     "text": [
      "Loss: 0.650 (L1: 0.506, MSE: 0.366, SSIM: 0.984):  27%|\u001b[36m█▌    \u001b[0m| 2290/8473 [00:11<00:21, 283.07step/s]\u001b[0m"
     ]
    },
    {
     "data": {
      "image/jpeg": "[encoded data removed]",
      "image/png": "[encoded data removed]",
      "text/plain": [
       "<PIL.Image.Image image mode=RGB size=32x32>"
      ]
     },
     "metadata": {},
     "output_type": "display_data"
    },
    {
     "name": "stderr",
     "output_type": "stream",
     "text": [
      "Loss: 0.649 (L1: 0.505, MSE: 0.366, SSIM: 0.984):  28%|\u001b[36m█▋    \u001b[0m| 2352/8473 [00:12<00:20, 293.48step/s]\u001b[0m"
     ]
    },
    {
     "name": "stdout",
     "output_type": "stream",
     "text": [
      "JPG image saved to: results/step_02300.jpg\n"
     ]
    },
    {
     "name": "stderr",
     "output_type": "stream",
     "text": [
      "Loss: 0.649 (L1: 0.505, MSE: 0.366, SSIM: 0.984):  28%|\u001b[36m█▋    \u001b[0m| 2382/8473 [00:12<00:21, 279.58step/s]\u001b[0m"
     ]
    },
    {
     "data": {
      "image/jpeg": "[encoded data removed]",
      "image/png": "[encoded data removed]",
      "text/plain": [
       "<PIL.Image.Image image mode=RGB size=32x32>"
      ]
     },
     "metadata": {},
     "output_type": "display_data"
    },
    {
     "name": "stderr",
     "output_type": "stream",
     "text": [
      "Loss: 0.649 (L1: 0.505, MSE: 0.365, SSIM: 0.983):  29%|\u001b[36m█▋    \u001b[0m| 2438/8473 [00:12<00:24, 246.22step/s]\u001b[0m"
     ]
    },
    {
     "name": "stdout",
     "output_type": "stream",
     "text": [
      "JPG image saved to: results/step_02400.jpg\n"
     ]
    },
    {
     "name": "stderr",
     "output_type": "stream",
     "text": [
      "Loss: 0.648 (L1: 0.505, MSE: 0.365, SSIM: 0.983):  29%|\u001b[36m█▊    \u001b[0m| 2489/8473 [00:12<00:24, 239.58step/s]\u001b[0m"
     ]
    },
    {
     "data": {
      "image/jpeg": "[encoded data removed]",
      "image/png": "[encoded data removed]",
      "text/plain": [
       "<PIL.Image.Image image mode=RGB size=32x32>"
      ]
     },
     "metadata": {},
     "output_type": "display_data"
    },
    {
     "name": "stderr",
     "output_type": "stream",
     "text": [
      "Loss: 0.648 (L1: 0.505, MSE: 0.365, SSIM: 0.982):  30%|\u001b[36m█▊    \u001b[0m| 2538/8473 [00:12<00:26, 224.09step/s]\u001b[0m"
     ]
    },
    {
     "name": "stdout",
     "output_type": "stream",
     "text": [
      "JPG image saved to: results/step_02500.jpg\n"
     ]
    },
    {
     "name": "stderr",
     "output_type": "stream",
     "text": [
      "Loss: 0.648 (L1: 0.505, MSE: 0.365, SSIM: 0.982):  30%|\u001b[36m█▊    \u001b[0m| 2584/8473 [00:13<00:27, 216.93step/s]\u001b[0m"
     ]
    },
    {
     "data": {
      "image/jpeg": "[encoded data removed]",
      "image/png": "[encoded data removed]",
      "text/plain": [
       "<PIL.Image.Image image mode=RGB size=32x32>"
      ]
     },
     "metadata": {},
     "output_type": "display_data"
    },
    {
     "name": "stderr",
     "output_type": "stream",
     "text": [
      "Loss: 0.648 (L1: 0.505, MSE: 0.365, SSIM: 0.982):  31%|\u001b[36m█▊    \u001b[0m| 2627/8473 [00:13<00:30, 192.20step/s]\u001b[0m"
     ]
    },
    {
     "name": "stdout",
     "output_type": "stream",
     "text": [
      "JPG image saved to: results/step_02600.jpg\n"
     ]
    },
    {
     "name": "stderr",
     "output_type": "stream",
     "text": [
      "Loss: 0.647 (L1: 0.504, MSE: 0.365, SSIM: 0.981):  32%|\u001b[36m█▉    \u001b[0m| 2689/8473 [00:13<00:29, 197.00step/s]\u001b[0m"
     ]
    },
    {
     "data": {
      "image/jpeg": "[encoded data removed]",
      "image/png": "[encoded data removed]",
      "text/plain": [
       "<PIL.Image.Image image mode=RGB size=32x32>"
      ]
     },
     "metadata": {},
     "output_type": "display_data"
    },
    {
     "name": "stderr",
     "output_type": "stream",
     "text": [
      "Loss: 0.647 (L1: 0.504, MSE: 0.365, SSIM: 0.981):  32%|\u001b[36m█▉    \u001b[0m| 2729/8473 [00:13<00:30, 188.49step/s]\u001b[0m"
     ]
    },
    {
     "name": "stdout",
     "output_type": "stream",
     "text": [
      "JPG image saved to: results/step_02700.jpg\n"
     ]
    },
    {
     "name": "stderr",
     "output_type": "stream",
     "text": [
      "Loss: 0.647 (L1: 0.504, MSE: 0.365, SSIM: 0.980):  33%|\u001b[36m█▉    \u001b[0m| 2792/8473 [00:14<00:28, 200.79step/s]\u001b[0m"
     ]
    },
    {
     "data": {
      "image/jpeg": "[encoded data removed]",
      "image/png": "[encoded data removed]",
      "text/plain": [
       "<PIL.Image.Image image mode=RGB size=32x32>"
      ]
     },
     "metadata": {},
     "output_type": "display_data"
    },
    {
     "name": "stderr",
     "output_type": "stream",
     "text": [
      "Loss: 0.647 (L1: 0.504, MSE: 0.364, SSIM: 0.980):  33%|\u001b[36m██    \u001b[0m| 2835/8473 [00:14<00:27, 202.23step/s]\u001b[0m"
     ]
    },
    {
     "name": "stdout",
     "output_type": "stream",
     "text": [
      "JPG image saved to: results/step_02800.jpg\n"
     ]
    },
    {
     "name": "stderr",
     "output_type": "stream",
     "text": [
      "Loss: 0.646 (L1: 0.504, MSE: 0.364, SSIM: 0.979):  34%|\u001b[36m██    \u001b[0m| 2900/8473 [00:14<00:26, 208.68step/s]\u001b[0m"
     ]
    },
    {
     "data": {
      "image/jpeg": "[encoded data removed]",
      "image/png": "[encoded data removed]",
      "text/plain": [
       "<PIL.Image.Image image mode=RGB size=32x32>"
      ]
     },
     "metadata": {},
     "output_type": "display_data"
    },
    {
     "name": "stderr",
     "output_type": "stream",
     "text": [
      "Loss: 0.646 (L1: 0.504, MSE: 0.364, SSIM: 0.979):  34%|\u001b[36m██    \u001b[0m| 2921/8473 [00:14<00:27, 200.50step/s]\u001b[0m"
     ]
    },
    {
     "name": "stdout",
     "output_type": "stream",
     "text": [
      "JPG image saved to: results/step_02900.jpg\n"
     ]
    },
    {
     "name": "stderr",
     "output_type": "stream",
     "text": [
      "Loss: 0.646 (L1: 0.503, MSE: 0.364, SSIM: 0.978):  35%|\u001b[36m██    \u001b[0m| 2985/8473 [00:15<00:26, 203.70step/s]\u001b[0m"
     ]
    },
    {
     "data": {
      "image/jpeg": "[encoded data removed]",
      "image/png": "[encoded data removed]",
      "text/plain": [
       "<PIL.Image.Image image mode=RGB size=32x32>"
      ]
     },
     "metadata": {},
     "output_type": "display_data"
    },
    {
     "name": "stderr",
     "output_type": "stream",
     "text": [
      "Loss: 0.646 (L1: 0.503, MSE: 0.364, SSIM: 0.978):  36%|\u001b[36m██▏   \u001b[0m| 3028/8473 [00:15<00:26, 205.67step/s]\u001b[0m"
     ]
    },
    {
     "name": "stdout",
     "output_type": "stream",
     "text": [
      "JPG image saved to: results/step_03000.jpg\n"
     ]
    },
    {
     "name": "stderr",
     "output_type": "stream",
     "text": [
      "Loss: 0.645 (L1: 0.503, MSE: 0.364, SSIM: 0.977):  37%|\u001b[36m██▏   \u001b[0m| 3094/8473 [00:15<00:25, 212.81step/s]\u001b[0m"
     ]
    },
    {
     "data": {
      "image/jpeg": "[encoded data removed]",
      "image/png": "[encoded data removed]",
      "text/plain": [
       "<PIL.Image.Image image mode=RGB size=32x32>"
      ]
     },
     "metadata": {},
     "output_type": "display_data"
    },
    {
     "name": "stderr",
     "output_type": "stream",
     "text": [
      "Loss: 0.645 (L1: 0.503, MSE: 0.364, SSIM: 0.977):  37%|\u001b[36m██▏   \u001b[0m| 3137/8473 [00:15<00:26, 199.56step/s]\u001b[0m"
     ]
    },
    {
     "name": "stdout",
     "output_type": "stream",
     "text": [
      "JPG image saved to: results/step_03100.jpg\n"
     ]
    },
    {
     "name": "stderr",
     "output_type": "stream",
     "text": [
      "Loss: 0.645 (L1: 0.503, MSE: 0.364, SSIM: 0.977):  38%|\u001b[36m██▎   \u001b[0m| 3180/8473 [00:16<00:25, 204.10step/s]\u001b[0m"
     ]
    },
    {
     "data": {
      "image/jpeg": "[encoded data removed]",
      "image/png": "[encoded data removed]",
      "text/plain": [
       "<PIL.Image.Image image mode=RGB size=32x32>"
      ]
     },
     "metadata": {},
     "output_type": "display_data"
    },
    {
     "name": "stderr",
     "output_type": "stream",
     "text": [
      "Loss: 0.645 (L1: 0.503, MSE: 0.363, SSIM: 0.976):  38%|\u001b[36m██▎   \u001b[0m| 3222/8473 [00:16<00:25, 205.13step/s]\u001b[0m"
     ]
    },
    {
     "name": "stdout",
     "output_type": "stream",
     "text": [
      "JPG image saved to: results/step_03200.jpg\n"
     ]
    },
    {
     "name": "stderr",
     "output_type": "stream",
     "text": [
      "Loss: 0.644 (L1: 0.502, MSE: 0.363, SSIM: 0.976):  39%|\u001b[36m██▎   \u001b[0m| 3284/8473 [00:16<00:26, 193.08step/s]\u001b[0m"
     ]
    },
    {
     "data": {
      "image/jpeg": "[encoded data removed]",
      "image/png": "[encoded data removed]",
      "text/plain": [
       "<PIL.Image.Image image mode=RGB size=32x32>"
      ]
     },
     "metadata": {},
     "output_type": "display_data"
    },
    {
     "name": "stderr",
     "output_type": "stream",
     "text": [
      "Loss: 0.644 (L1: 0.502, MSE: 0.363, SSIM: 0.975):  39%|\u001b[36m██▎   \u001b[0m| 3324/8473 [00:16<00:27, 190.13step/s]\u001b[0m"
     ]
    },
    {
     "name": "stdout",
     "output_type": "stream",
     "text": [
      "JPG image saved to: results/step_03300.jpg\n"
     ]
    },
    {
     "name": "stderr",
     "output_type": "stream",
     "text": [
      "Loss: 0.644 (L1: 0.502, MSE: 0.363, SSIM: 0.975):  40%|\u001b[36m██▍   \u001b[0m| 3383/8473 [00:17<00:27, 185.98step/s]\u001b[0m"
     ]
    },
    {
     "data": {
      "image/jpeg": "[encoded data removed]",
      "image/png": "[encoded data removed]",
      "text/plain": [
       "<PIL.Image.Image image mode=RGB size=32x32>"
      ]
     },
     "metadata": {},
     "output_type": "display_data"
    },
    {
     "name": "stderr",
     "output_type": "stream",
     "text": [
      "Loss: 0.643 (L1: 0.502, MSE: 0.363, SSIM: 0.974):  40%|\u001b[36m██▍   \u001b[0m| 3421/8473 [00:17<00:28, 177.56step/s]\u001b[0m"
     ]
    },
    {
     "name": "stdout",
     "output_type": "stream",
     "text": [
      "JPG image saved to: results/step_03400.jpg\n"
     ]
    },
    {
     "name": "stderr",
     "output_type": "stream",
     "text": [
      "Loss: 0.643 (L1: 0.502, MSE: 0.363, SSIM: 0.974):  41%|\u001b[36m██▍   \u001b[0m| 3493/8473 [00:17<00:29, 170.04step/s]\u001b[0m"
     ]
    },
    {
     "data": {
      "image/jpeg": "[encoded data removed]",
      "image/png": "[encoded data removed]",
      "text/plain": [
       "<PIL.Image.Image image mode=RGB size=32x32>"
      ]
     },
     "metadata": {},
     "output_type": "display_data"
    },
    {
     "name": "stderr",
     "output_type": "stream",
     "text": [
      "Loss: 0.643 (L1: 0.501, MSE: 0.363, SSIM: 0.973):  42%|\u001b[36m██▍   \u001b[0m| 3529/8473 [00:18<00:29, 170.01step/s]\u001b[0m"
     ]
    },
    {
     "name": "stdout",
     "output_type": "stream",
     "text": [
      "JPG image saved to: results/step_03500.jpg\n"
     ]
    },
    {
     "name": "stderr",
     "output_type": "stream",
     "text": [
      "Loss: 0.643 (L1: 0.501, MSE: 0.362, SSIM: 0.973):  42%|\u001b[36m██▌   \u001b[0m| 3591/8473 [00:18<00:25, 190.97step/s]\u001b[0m"
     ]
    },
    {
     "data": {
      "image/jpeg": "[encoded data removed]",
      "image/png": "[encoded data removed]",
      "text/plain": [
       "<PIL.Image.Image image mode=RGB size=32x32>"
      ]
     },
     "metadata": {},
     "output_type": "display_data"
    },
    {
     "name": "stderr",
     "output_type": "stream",
     "text": [
      "Loss: 0.642 (L1: 0.501, MSE: 0.362, SSIM: 0.972):  43%|\u001b[36m██▌   \u001b[0m| 3631/8473 [00:18<00:25, 187.53step/s]\u001b[0m"
     ]
    },
    {
     "name": "stdout",
     "output_type": "stream",
     "text": [
      "JPG image saved to: results/step_03600.jpg\n"
     ]
    },
    {
     "name": "stderr",
     "output_type": "stream",
     "text": [
      "Loss: 0.642 (L1: 0.501, MSE: 0.362, SSIM: 0.972):  44%|\u001b[36m██▌   \u001b[0m| 3697/8473 [00:18<00:23, 205.10step/s]\u001b[0m"
     ]
    },
    {
     "data": {
      "image/jpeg": "[encoded data removed]",
      "image/png": "[encoded data removed]",
      "text/plain": [
       "<PIL.Image.Image image mode=RGB size=32x32>"
      ]
     },
     "metadata": {},
     "output_type": "display_data"
    },
    {
     "name": "stderr",
     "output_type": "stream",
     "text": [
      "Loss: 0.642 (L1: 0.501, MSE: 0.362, SSIM: 0.972):  44%|\u001b[36m██▋   \u001b[0m| 3740/8473 [00:19<00:22, 207.98step/s]\u001b[0m"
     ]
    },
    {
     "name": "stdout",
     "output_type": "stream",
     "text": [
      "JPG image saved to: results/step_03700.jpg\n"
     ]
    },
    {
     "name": "stderr",
     "output_type": "stream",
     "text": [
      "Loss: 0.641 (L1: 0.501, MSE: 0.362, SSIM: 0.971):  45%|\u001b[36m██▋   \u001b[0m| 3784/8473 [00:19<00:22, 211.55step/s]\u001b[0m"
     ]
    },
    {
     "data": {
      "image/jpeg": "[encoded data removed]",
      "image/png": "[encoded data removed]",
      "text/plain": [
       "<PIL.Image.Image image mode=RGB size=32x32>"
      ]
     },
     "metadata": {},
     "output_type": "display_data"
    },
    {
     "name": "stderr",
     "output_type": "stream",
     "text": [
      "Loss: 0.641 (L1: 0.500, MSE: 0.362, SSIM: 0.971):  45%|\u001b[36m██▋   \u001b[0m| 3828/8473 [00:19<00:21, 212.26step/s]\u001b[0m"
     ]
    },
    {
     "name": "stdout",
     "output_type": "stream",
     "text": [
      "JPG image saved to: results/step_03800.jpg\n"
     ]
    },
    {
     "name": "stderr",
     "output_type": "stream",
     "text": [
      "Loss: 0.641 (L1: 0.500, MSE: 0.362, SSIM: 0.970):  46%|\u001b[36m██▊   \u001b[0m| 3894/8473 [00:19<00:21, 209.28step/s]\u001b[0m"
     ]
    },
    {
     "data": {
      "image/jpeg": "[encoded data removed]",
      "image/png": "[encoded data removed]",
      "text/plain": [
       "<PIL.Image.Image image mode=RGB size=32x32>"
      ]
     },
     "metadata": {},
     "output_type": "display_data"
    },
    {
     "name": "stderr",
     "output_type": "stream",
     "text": [
      "Loss: 0.641 (L1: 0.500, MSE: 0.361, SSIM: 0.970):  47%|\u001b[36m██▊   \u001b[0m| 3941/8473 [00:20<00:21, 214.14step/s]\u001b[0m"
     ]
    },
    {
     "name": "stdout",
     "output_type": "stream",
     "text": [
      "JPG image saved to: results/step_03900.jpg\n"
     ]
    },
    {
     "name": "stderr",
     "output_type": "stream",
     "text": [
      "Loss: 0.640 (L1: 0.500, MSE: 0.361, SSIM: 0.969):  47%|\u001b[36m██▊   \u001b[0m| 3989/8473 [00:20<00:20, 223.70step/s]\u001b[0m"
     ]
    },
    {
     "data": {
      "image/jpeg": "[encoded data removed]",
      "image/png": "[encoded data removed]",
      "text/plain": [
       "<PIL.Image.Image image mode=RGB size=32x32>"
      ]
     },
     "metadata": {},
     "output_type": "display_data"
    },
    {
     "name": "stderr",
     "output_type": "stream",
     "text": [
      "Loss: 0.640 (L1: 0.500, MSE: 0.361, SSIM: 0.969):  48%|\u001b[36m██▊   \u001b[0m| 4038/8473 [00:20<00:18, 233.83step/s]\u001b[0m"
     ]
    },
    {
     "name": "stdout",
     "output_type": "stream",
     "text": [
      "JPG image saved to: results/step_04000.jpg\n"
     ]
    },
    {
     "name": "stderr",
     "output_type": "stream",
     "text": [
      "Loss: 0.640 (L1: 0.499, MSE: 0.361, SSIM: 0.968):  48%|\u001b[36m██▉   \u001b[0m| 4070/8473 [00:20<00:17, 257.31step/s]\u001b[0m"
     ]
    },
    {
     "data": {
      "image/jpeg": "[encoded data removed]",
      "image/png": "[encoded data removed]",
      "text/plain": [
       "<PIL.Image.Image image mode=RGB size=32x32>"
      ]
     },
     "metadata": {},
     "output_type": "display_data"
    },
    {
     "name": "stderr",
     "output_type": "stream",
     "text": [
      "Loss: 0.639 (L1: 0.499, MSE: 0.361, SSIM: 0.967):  49%|\u001b[36m██▉   \u001b[0m| 4133/8473 [00:20<00:15, 283.08step/s]\u001b[0m"
     ]
    },
    {
     "name": "stdout",
     "output_type": "stream",
     "text": [
      "JPG image saved to: results/step_04100.jpg\n"
     ]
    },
    {
     "name": "stderr",
     "output_type": "stream",
     "text": [
      "Loss: 0.639 (L1: 0.499, MSE: 0.361, SSIM: 0.967):  50%|\u001b[36m██▉   \u001b[0m| 4195/8473 [00:20<00:14, 291.99step/s]\u001b[0m"
     ]
    },
    {
     "data": {
      "image/jpeg": "[encoded data removed]",
      "image/png": "[encoded data removed]",
      "text/plain": [
       "<PIL.Image.Image image mode=RGB size=32x32>"
      ]
     },
     "metadata": {},
     "output_type": "display_data"
    },
    {
     "name": "stderr",
     "output_type": "stream",
     "text": [
      "Loss: 0.639 (L1: 0.499, MSE: 0.361, SSIM: 0.966):  50%|\u001b[36m███   \u001b[0m| 4258/8473 [00:21<00:14, 300.26step/s]\u001b[0m"
     ]
    },
    {
     "name": "stdout",
     "output_type": "stream",
     "text": [
      "JPG image saved to: results/step_04200.jpg\n"
     ]
    },
    {
     "name": "stderr",
     "output_type": "stream",
     "text": [
      "Loss: 0.639 (L1: 0.499, MSE: 0.361, SSIM: 0.966):  51%|\u001b[36m███   \u001b[0m| 4290/8473 [00:21<00:13, 304.05step/s]\u001b[0m"
     ]
    },
    {
     "data": {
      "image/jpeg": "[encoded data removed]",
      "image/png": "[encoded data removed]",
      "text/plain": [
       "<PIL.Image.Image image mode=RGB size=32x32>"
      ]
     },
     "metadata": {},
     "output_type": "display_data"
    },
    {
     "name": "stderr",
     "output_type": "stream",
     "text": [
      "Loss: 0.638 (L1: 0.499, MSE: 0.360, SSIM: 0.966):  51%|\u001b[36m███   \u001b[0m| 4350/8473 [00:21<00:14, 282.01step/s]\u001b[0m"
     ]
    },
    {
     "name": "stdout",
     "output_type": "stream",
     "text": [
      "JPG image saved to: results/step_04300.jpg\n"
     ]
    },
    {
     "name": "stderr",
     "output_type": "stream",
     "text": [
      "Loss: 0.638 (L1: 0.498, MSE: 0.360, SSIM: 0.965):  52%|\u001b[36m███   \u001b[0m| 4379/8473 [00:21<00:16, 252.15step/s]\u001b[0m"
     ]
    },
    {
     "data": {
      "image/jpeg": "[encoded data removed]",
      "image/png": "[encoded data removed]",
      "text/plain": [
       "<PIL.Image.Image image mode=RGB size=32x32>"
      ]
     },
     "metadata": {},
     "output_type": "display_data"
    },
    {
     "name": "stderr",
     "output_type": "stream",
     "text": [
      "Loss: 0.638 (L1: 0.498, MSE: 0.360, SSIM: 0.965):  52%|\u001b[36m███▏  \u001b[0m| 4430/8473 [00:21<00:18, 222.02step/s]\u001b[0m"
     ]
    },
    {
     "name": "stdout",
     "output_type": "stream",
     "text": [
      "JPG image saved to: results/step_04400.jpg\n"
     ]
    },
    {
     "name": "stderr",
     "output_type": "stream",
     "text": [
      "Loss: 0.637 (L1: 0.498, MSE: 0.360, SSIM: 0.964):  53%|\u001b[36m███▏  \u001b[0m| 4495/8473 [00:22<00:19, 200.38step/s]\u001b[0m"
     ]
    },
    {
     "data": {
      "image/jpeg": "[encoded data removed]",
      "image/png": "[encoded data removed]",
      "text/plain": [
       "<PIL.Image.Image image mode=RGB size=32x32>"
      ]
     },
     "metadata": {},
     "output_type": "display_data"
    },
    {
     "name": "stderr",
     "output_type": "stream",
     "text": [
      "Loss: 0.637 (L1: 0.498, MSE: 0.360, SSIM: 0.964):  54%|\u001b[36m███▏  \u001b[0m| 4537/8473 [00:22<00:19, 197.41step/s]\u001b[0m"
     ]
    },
    {
     "name": "stdout",
     "output_type": "stream",
     "text": [
      "JPG image saved to: results/step_04500.jpg\n"
     ]
    },
    {
     "name": "stderr",
     "output_type": "stream",
     "text": [
      "Loss: 0.637 (L1: 0.498, MSE: 0.360, SSIM: 0.963):  54%|\u001b[36m███▎  \u001b[0m| 4598/8473 [00:22<00:19, 198.65step/s]\u001b[0m"
     ]
    },
    {
     "data": {
      "image/jpeg": "[encoded data removed]",
      "image/png": "[encoded data removed]",
      "text/plain": [
       "<PIL.Image.Image image mode=RGB size=32x32>"
      ]
     },
     "metadata": {},
     "output_type": "display_data"
    },
    {
     "name": "stderr",
     "output_type": "stream",
     "text": [
      "Loss: 0.637 (L1: 0.498, MSE: 0.360, SSIM: 0.963):  55%|\u001b[36m███▎  \u001b[0m| 4618/8473 [00:22<00:19, 193.12step/s]\u001b[0m"
     ]
    },
    {
     "name": "stdout",
     "output_type": "stream",
     "text": [
      "JPG image saved to: results/step_04600.jpg\n"
     ]
    },
    {
     "name": "stderr",
     "output_type": "stream",
     "text": [
      "Loss: 0.636 (L1: 0.497, MSE: 0.359, SSIM: 0.962):  55%|\u001b[36m███▎  \u001b[0m| 4696/8473 [00:23<00:20, 186.35step/s]\u001b[0m"
     ]
    },
    {
     "data": {
      "image/jpeg": "[encoded data removed]",
      "image/png": "[encoded data removed]",
      "text/plain": [
       "<PIL.Image.Image image mode=RGB size=32x32>"
      ]
     },
     "metadata": {},
     "output_type": "display_data"
    },
    {
     "name": "stderr",
     "output_type": "stream",
     "text": [
      "Loss: 0.636 (L1: 0.497, MSE: 0.359, SSIM: 0.962):  56%|\u001b[36m███▎  \u001b[0m| 4735/8473 [00:23<00:19, 187.25step/s]\u001b[0m"
     ]
    },
    {
     "name": "stdout",
     "output_type": "stream",
     "text": [
      "JPG image saved to: results/step_04700.jpg\n"
     ]
    },
    {
     "name": "stderr",
     "output_type": "stream",
     "text": [
      "Loss: 0.636 (L1: 0.497, MSE: 0.359, SSIM: 0.961):  57%|\u001b[36m███▍  \u001b[0m| 4793/8473 [00:23<00:19, 184.55step/s]\u001b[0m"
     ]
    },
    {
     "data": {
      "image/jpeg": "[encoded data removed]",
      "image/png": "[encoded data removed]",
      "text/plain": [
       "<PIL.Image.Image image mode=RGB size=32x32>"
      ]
     },
     "metadata": {},
     "output_type": "display_data"
    },
    {
     "name": "stderr",
     "output_type": "stream",
     "text": [
      "Loss: 0.635 (L1: 0.497, MSE: 0.359, SSIM: 0.961):  57%|\u001b[36m███▍  \u001b[0m| 4831/8473 [00:24<00:19, 186.71step/s]\u001b[0m"
     ]
    },
    {
     "name": "stdout",
     "output_type": "stream",
     "text": [
      "JPG image saved to: results/step_04800.jpg\n"
     ]
    },
    {
     "name": "stderr",
     "output_type": "stream",
     "text": [
      "Loss: 0.635 (L1: 0.497, MSE: 0.359, SSIM: 0.960):  58%|\u001b[36m███▍  \u001b[0m| 4893/8473 [00:24<00:18, 197.10step/s]\u001b[0m"
     ]
    },
    {
     "data": {
      "image/jpeg": "[encoded data removed]",
      "image/png": "[encoded data removed]",
      "text/plain": [
       "<PIL.Image.Image image mode=RGB size=32x32>"
      ]
     },
     "metadata": {},
     "output_type": "display_data"
    },
    {
     "name": "stderr",
     "output_type": "stream",
     "text": [
      "Loss: 0.635 (L1: 0.497, MSE: 0.359, SSIM: 0.960):  58%|\u001b[36m███▍  \u001b[0m| 4934/8473 [00:24<00:18, 190.83step/s]\u001b[0m"
     ]
    },
    {
     "name": "stdout",
     "output_type": "stream",
     "text": [
      "JPG image saved to: results/step_04900.jpg\n"
     ]
    },
    {
     "name": "stderr",
     "output_type": "stream",
     "text": [
      "Loss: 0.635 (L1: 0.496, MSE: 0.359, SSIM: 0.959):  59%|\u001b[36m███▌  \u001b[0m| 4995/8473 [00:24<00:17, 193.48step/s]\u001b[0m"
     ]
    },
    {
     "data": {
      "image/jpeg": "[encoded data removed]",
      "image/png": "[encoded data removed]",
      "text/plain": [
       "<PIL.Image.Image image mode=RGB size=32x32>"
      ]
     },
     "metadata": {},
     "output_type": "display_data"
    },
    {
     "name": "stderr",
     "output_type": "stream",
     "text": [
      "Loss: 0.634 (L1: 0.496, MSE: 0.359, SSIM: 0.959):  59%|\u001b[36m███▌  \u001b[0m| 5035/8473 [00:25<00:18, 182.49step/s]\u001b[0m"
     ]
    },
    {
     "name": "stdout",
     "output_type": "stream",
     "text": [
      "JPG image saved to: results/step_05000.jpg\n"
     ]
    },
    {
     "name": "stderr",
     "output_type": "stream",
     "text": [
      "Loss: 0.634 (L1: 0.496, MSE: 0.358, SSIM: 0.958):  60%|\u001b[36m███▌  \u001b[0m| 5092/8473 [00:25<00:18, 180.08step/s]\u001b[0m"
     ]
    },
    {
     "data": {
      "image/jpeg": "[encoded data removed]",
      "image/png": "[encoded data removed]",
      "text/plain": [
       "<PIL.Image.Image image mode=RGB size=32x32>"
      ]
     },
     "metadata": {},
     "output_type": "display_data"
    },
    {
     "name": "stderr",
     "output_type": "stream",
     "text": [
      "Loss: 0.634 (L1: 0.496, MSE: 0.358, SSIM: 0.958):  61%|\u001b[36m███▋  \u001b[0m| 5129/8473 [00:25<00:19, 170.12step/s]\u001b[0m"
     ]
    },
    {
     "name": "stdout",
     "output_type": "stream",
     "text": [
      "JPG image saved to: results/step_05100.jpg\n"
     ]
    },
    {
     "name": "stderr",
     "output_type": "stream",
     "text": [
      "Loss: 0.633 (L1: 0.496, MSE: 0.358, SSIM: 0.957):  61%|\u001b[36m███▋  \u001b[0m| 5183/8473 [00:26<00:19, 168.76step/s]\u001b[0m"
     ]
    },
    {
     "data": {
      "image/jpeg": "[encoded data removed]",
      "image/png": "[encoded data removed]",
      "text/plain": [
       "<PIL.Image.Image image mode=RGB size=32x32>"
      ]
     },
     "metadata": {},
     "output_type": "display_data"
    },
    {
     "name": "stderr",
     "output_type": "stream",
     "text": [
      "Loss: 0.633 (L1: 0.495, MSE: 0.358, SSIM: 0.957):  62%|\u001b[36m███▋  \u001b[0m| 5218/8473 [00:26<00:19, 167.24step/s]\u001b[0m"
     ]
    },
    {
     "name": "stdout",
     "output_type": "stream",
     "text": [
      "JPG image saved to: results/step_05200.jpg\n"
     ]
    },
    {
     "name": "stderr",
     "output_type": "stream",
     "text": [
      "Loss: 0.633 (L1: 0.495, MSE: 0.358, SSIM: 0.956):  62%|\u001b[36m███▋  \u001b[0m| 5279/8473 [00:26<00:16, 192.11step/s]\u001b[0m"
     ]
    },
    {
     "data": {
      "image/jpeg": "[encoded data removed]",
      "image/png": "[encoded data removed]",
      "text/plain": [
       "<PIL.Image.Image image mode=RGB size=32x32>"
      ]
     },
     "metadata": {},
     "output_type": "display_data"
    },
    {
     "name": "stderr",
     "output_type": "stream",
     "text": [
      "Loss: 0.633 (L1: 0.495, MSE: 0.358, SSIM: 0.955):  63%|\u001b[36m███▊  \u001b[0m| 5323/8473 [00:26<00:15, 202.84step/s]\u001b[0m"
     ]
    },
    {
     "name": "stdout",
     "output_type": "stream",
     "text": [
      "JPG image saved to: results/step_05300.jpg\n"
     ]
    },
    {
     "name": "stderr",
     "output_type": "stream",
     "text": [
      "Loss: 0.632 (L1: 0.495, MSE: 0.358, SSIM: 0.955):  64%|\u001b[36m███▊  \u001b[0m| 5389/8473 [00:27<00:14, 210.15step/s]\u001b[0m"
     ]
    },
    {
     "data": {
      "image/jpeg": "[encoded data removed]",
      "image/png": "[encoded data removed]",
      "text/plain": [
       "<PIL.Image.Image image mode=RGB size=32x32>"
      ]
     },
     "metadata": {},
     "output_type": "display_data"
    },
    {
     "name": "stderr",
     "output_type": "stream",
     "text": [
      "Loss: 0.632 (L1: 0.495, MSE: 0.357, SSIM: 0.955):  64%|\u001b[36m███▊  \u001b[0m| 5433/8473 [00:27<00:14, 210.11step/s]\u001b[0m"
     ]
    },
    {
     "name": "stdout",
     "output_type": "stream",
     "text": [
      "JPG image saved to: results/step_05400.jpg\n"
     ]
    },
    {
     "name": "stderr",
     "output_type": "stream",
     "text": [
      "Loss: 0.632 (L1: 0.495, MSE: 0.357, SSIM: 0.954):  65%|\u001b[36m███▉  \u001b[0m| 5499/8473 [00:27<00:14, 209.33step/s]\u001b[0m"
     ]
    },
    {
     "data": {
      "image/jpeg": "[encoded data removed]",
      "image/png": "[encoded data removed]",
      "text/plain": [
       "<PIL.Image.Image image mode=RGB size=32x32>"
      ]
     },
     "metadata": {},
     "output_type": "display_data"
    },
    {
     "name": "stderr",
     "output_type": "stream",
     "text": [
      "Loss: 0.631 (L1: 0.494, MSE: 0.357, SSIM: 0.954):  65%|\u001b[36m███▉  \u001b[0m| 5520/8473 [00:27<00:14, 197.13step/s]\u001b[0m"
     ]
    },
    {
     "name": "stdout",
     "output_type": "stream",
     "text": [
      "JPG image saved to: results/step_05500.jpg\n"
     ]
    },
    {
     "name": "stderr",
     "output_type": "stream",
     "text": [
      "Loss: 0.631 (L1: 0.494, MSE: 0.357, SSIM: 0.953):  66%|\u001b[36m███▉  \u001b[0m| 5580/8473 [00:27<00:11, 247.43step/s]\u001b[0m"
     ]
    },
    {
     "data": {
      "image/jpeg": "[encoded data removed]",
      "image/png": "[encoded data removed]",
      "text/plain": [
       "<PIL.Image.Image image mode=RGB size=32x32>"
      ]
     },
     "metadata": {},
     "output_type": "display_data"
    },
    {
     "name": "stderr",
     "output_type": "stream",
     "text": [
      "Loss: 0.631 (L1: 0.494, MSE: 0.357, SSIM: 0.953):  66%|\u001b[36m███▉  \u001b[0m| 5630/8473 [00:28<00:12, 228.30step/s]\u001b[0m"
     ]
    },
    {
     "name": "stdout",
     "output_type": "stream",
     "text": [
      "JPG image saved to: results/step_05600.jpg\n"
     ]
    },
    {
     "name": "stderr",
     "output_type": "stream",
     "text": [
      "Loss: 0.630 (L1: 0.494, MSE: 0.357, SSIM: 0.952):  67%|\u001b[36m████  \u001b[0m| 5681/8473 [00:28<00:11, 236.99step/s]\u001b[0m"
     ]
    },
    {
     "data": {
      "image/jpeg": "[encoded data removed]",
      "image/png": "[encoded data removed]",
      "text/plain": [
       "<PIL.Image.Image image mode=RGB size=32x32>"
      ]
     },
     "metadata": {},
     "output_type": "display_data"
    },
    {
     "name": "stderr",
     "output_type": "stream",
     "text": [
      "Loss: 0.630 (L1: 0.494, MSE: 0.357, SSIM: 0.952):  68%|\u001b[36m████  \u001b[0m| 5730/8473 [00:28<00:11, 237.51step/s]\u001b[0m"
     ]
    },
    {
     "name": "stdout",
     "output_type": "stream",
     "text": [
      "JPG image saved to: results/step_05700.jpg\n"
     ]
    },
    {
     "name": "stderr",
     "output_type": "stream",
     "text": [
      "Loss: 0.630 (L1: 0.494, MSE: 0.357, SSIM: 0.951):  68%|\u001b[36m████  \u001b[0m| 5781/8473 [00:28<00:11, 240.57step/s]\u001b[0m"
     ]
    },
    {
     "data": {
      "image/jpeg": "[encoded data removed]",
      "image/png": "[encoded data removed]",
      "text/plain": [
       "<PIL.Image.Image image mode=RGB size=32x32>"
      ]
     },
     "metadata": {},
     "output_type": "display_data"
    },
    {
     "name": "stderr",
     "output_type": "stream",
     "text": [
      "Loss: 0.630 (L1: 0.493, MSE: 0.356, SSIM: 0.951):  69%|\u001b[36m████▏ \u001b[0m| 5831/8473 [00:28<00:11, 231.41step/s]\u001b[0m"
     ]
    },
    {
     "name": "stdout",
     "output_type": "stream",
     "text": [
      "JPG image saved to: results/step_05800.jpg\n"
     ]
    },
    {
     "name": "stderr",
     "output_type": "stream",
     "text": [
      "Loss: 0.629 (L1: 0.493, MSE: 0.356, SSIM: 0.950):  70%|\u001b[36m████▏ \u001b[0m| 5900/8473 [00:29<00:11, 216.85step/s]\u001b[0m"
     ]
    },
    {
     "data": {
      "image/jpeg": "[encoded data removed]",
      "image/png": "[encoded data removed]",
      "text/plain": [
       "<PIL.Image.Image image mode=RGB size=32x32>"
      ]
     },
     "metadata": {},
     "output_type": "display_data"
    },
    {
     "name": "stderr",
     "output_type": "stream",
     "text": [
      "Loss: 0.629 (L1: 0.493, MSE: 0.356, SSIM: 0.950):  70%|\u001b[36m████▏ \u001b[0m| 5922/8473 [00:29<00:12, 211.44step/s]\u001b[0m"
     ]
    },
    {
     "name": "stdout",
     "output_type": "stream",
     "text": [
      "JPG image saved to: results/step_05900.jpg\n"
     ]
    },
    {
     "name": "stderr",
     "output_type": "stream",
     "text": [
      "Loss: 0.629 (L1: 0.493, MSE: 0.356, SSIM: 0.949):  71%|\u001b[36m████▏ \u001b[0m| 5987/8473 [00:29<00:12, 198.96step/s]\u001b[0m"
     ]
    },
    {
     "data": {
      "image/jpeg": "[encoded data removed]",
      "image/png": "[encoded data removed]",
      "text/plain": [
       "<PIL.Image.Image image mode=RGB size=32x32>"
      ]
     },
     "metadata": {},
     "output_type": "display_data"
    },
    {
     "name": "stderr",
     "output_type": "stream",
     "text": [
      "Loss: 0.629 (L1: 0.493, MSE: 0.356, SSIM: 0.949):  71%|\u001b[36m████▎ \u001b[0m| 6028/8473 [00:29<00:12, 196.19step/s]\u001b[0m"
     ]
    },
    {
     "name": "stdout",
     "output_type": "stream",
     "text": [
      "JPG image saved to: results/step_06000.jpg\n"
     ]
    },
    {
     "name": "stderr",
     "output_type": "stream",
     "text": [
      "Loss: 0.628 (L1: 0.493, MSE: 0.356, SSIM: 0.948):  72%|\u001b[36m████▎ \u001b[0m| 6090/8473 [00:30<00:11, 198.94step/s]\u001b[0m"
     ]
    },
    {
     "data": {
      "image/jpeg": "[encoded data removed]",
      "image/png": "[encoded data removed]",
      "text/plain": [
       "<PIL.Image.Image image mode=RGB size=32x32>"
      ]
     },
     "metadata": {},
     "output_type": "display_data"
    },
    {
     "name": "stderr",
     "output_type": "stream",
     "text": [
      "Loss: 0.628 (L1: 0.492, MSE: 0.356, SSIM: 0.948):  72%|\u001b[36m████▎ \u001b[0m| 6131/8473 [00:30<00:11, 197.95step/s]\u001b[0m"
     ]
    },
    {
     "name": "stdout",
     "output_type": "stream",
     "text": [
      "JPG image saved to: results/step_06100.jpg\n"
     ]
    },
    {
     "name": "stderr",
     "output_type": "stream",
     "text": [
      "Loss: 0.628 (L1: 0.492, MSE: 0.355, SSIM: 0.947):  73%|\u001b[36m████▍ \u001b[0m| 6194/8473 [00:30<00:11, 203.84step/s]\u001b[0m"
     ]
    },
    {
     "data": {
      "image/jpeg": "[encoded data removed]",
      "image/png": "[encoded data removed]",
      "text/plain": [
       "<PIL.Image.Image image mode=RGB size=32x32>"
      ]
     },
     "metadata": {},
     "output_type": "display_data"
    },
    {
     "name": "stderr",
     "output_type": "stream",
     "text": [
      "Loss: 0.628 (L1: 0.492, MSE: 0.355, SSIM: 0.947):  74%|\u001b[36m████▍ \u001b[0m| 6236/8473 [00:30<00:11, 193.83step/s]\u001b[0m"
     ]
    },
    {
     "name": "stdout",
     "output_type": "stream",
     "text": [
      "JPG image saved to: results/step_06200.jpg\n"
     ]
    },
    {
     "name": "stderr",
     "output_type": "stream",
     "text": [
      "Loss: 0.627 (L1: 0.492, MSE: 0.355, SSIM: 0.946):  74%|\u001b[36m████▍ \u001b[0m| 6297/8473 [00:31<00:10, 198.07step/s]\u001b[0m"
     ]
    },
    {
     "data": {
      "image/jpeg": "[encoded data removed]",
      "image/png": "[encoded data removed]",
      "text/plain": [
       "<PIL.Image.Image image mode=RGB size=32x32>"
      ]
     },
     "metadata": {},
     "output_type": "display_data"
    },
    {
     "name": "stderr",
     "output_type": "stream",
     "text": [
      "Loss: 0.627 (L1: 0.492, MSE: 0.355, SSIM: 0.946):  75%|\u001b[36m████▍ \u001b[0m| 6317/8473 [00:31<00:11, 185.92step/s]\u001b[0m"
     ]
    },
    {
     "name": "stdout",
     "output_type": "stream",
     "text": [
      "JPG image saved to: results/step_06300.jpg\n"
     ]
    },
    {
     "name": "stderr",
     "output_type": "stream",
     "text": [
      "Loss: 0.627 (L1: 0.492, MSE: 0.355, SSIM: 0.945):  76%|\u001b[36m████▌ \u001b[0m| 6398/8473 [00:31<00:10, 194.50step/s]\u001b[0m"
     ]
    },
    {
     "data": {
      "image/jpeg": "[encoded data removed]",
      "image/png": "[encoded data removed]",
      "text/plain": [
       "<PIL.Image.Image image mode=RGB size=32x32>"
      ]
     },
     "metadata": {},
     "output_type": "display_data"
    },
    {
     "name": "stderr",
     "output_type": "stream",
     "text": [
      "Loss: 0.626 (L1: 0.491, MSE: 0.355, SSIM: 0.945):  76%|\u001b[36m████▌ \u001b[0m| 6439/8473 [00:32<00:10, 196.55step/s]\u001b[0m"
     ]
    },
    {
     "name": "stdout",
     "output_type": "stream",
     "text": [
      "JPG image saved to: results/step_06400.jpg\n"
     ]
    },
    {
     "name": "stderr",
     "output_type": "stream",
     "text": [
      "Loss: 0.626 (L1: 0.491, MSE: 0.355, SSIM: 0.944):  77%|\u001b[36m████▌ \u001b[0m| 6499/8473 [00:32<00:10, 184.09step/s]\u001b[0m"
     ]
    },
    {
     "data": {
      "image/jpeg": "[encoded data removed]",
      "image/png": "[encoded data removed]",
      "text/plain": [
       "<PIL.Image.Image image mode=RGB size=32x32>"
      ]
     },
     "metadata": {},
     "output_type": "display_data"
    },
    {
     "name": "stderr",
     "output_type": "stream",
     "text": [
      "Loss: 0.626 (L1: 0.491, MSE: 0.355, SSIM: 0.944):  77%|\u001b[36m████▌ \u001b[0m| 6518/8473 [00:32<00:11, 176.84step/s]\u001b[0m"
     ]
    },
    {
     "name": "stdout",
     "output_type": "stream",
     "text": [
      "JPG image saved to: results/step_06500.jpg\n"
     ]
    },
    {
     "name": "stderr",
     "output_type": "stream",
     "text": [
      "Loss: 0.626 (L1: 0.491, MSE: 0.354, SSIM: 0.944):  78%|\u001b[36m████▋ \u001b[0m| 6596/8473 [00:32<00:10, 182.85step/s]\u001b[0m"
     ]
    },
    {
     "data": {
      "image/jpeg": "[encoded data removed]",
      "image/png": "[encoded data removed]",
      "text/plain": [
       "<PIL.Image.Image image mode=RGB size=32x32>"
      ]
     },
     "metadata": {},
     "output_type": "display_data"
    },
    {
     "name": "stderr",
     "output_type": "stream",
     "text": [
      "Loss: 0.625 (L1: 0.491, MSE: 0.354, SSIM: 0.943):  78%|\u001b[36m████▋ \u001b[0m| 6634/8473 [00:33<00:10, 178.32step/s]\u001b[0m"
     ]
    },
    {
     "name": "stdout",
     "output_type": "stream",
     "text": [
      "JPG image saved to: results/step_06600.jpg\n"
     ]
    },
    {
     "name": "stderr",
     "output_type": "stream",
     "text": [
      "Loss: 0.625 (L1: 0.491, MSE: 0.354, SSIM: 0.943):  79%|\u001b[36m████▋ \u001b[0m| 6693/8473 [00:33<00:09, 184.95step/s]\u001b[0m"
     ]
    },
    {
     "data": {
      "image/jpeg": "[encoded data removed]",
      "image/png": "[encoded data removed]",
      "text/plain": [
       "<PIL.Image.Image image mode=RGB size=32x32>"
      ]
     },
     "metadata": {},
     "output_type": "display_data"
    },
    {
     "name": "stderr",
     "output_type": "stream",
     "text": [
      "Loss: 0.625 (L1: 0.490, MSE: 0.354, SSIM: 0.942):  79%|\u001b[36m████▊ \u001b[0m| 6730/8473 [00:33<00:09, 175.74step/s]\u001b[0m"
     ]
    },
    {
     "name": "stdout",
     "output_type": "stream",
     "text": [
      "JPG image saved to: results/step_06700.jpg\n"
     ]
    },
    {
     "name": "stderr",
     "output_type": "stream",
     "text": [
      "Loss: 0.625 (L1: 0.490, MSE: 0.354, SSIM: 0.942):  80%|\u001b[36m████▊ \u001b[0m| 6784/8473 [00:34<00:09, 174.56step/s]\u001b[0m"
     ]
    },
    {
     "data": {
      "image/jpeg": "[encoded data removed]",
      "image/png": "[encoded data removed]",
      "text/plain": [
       "<PIL.Image.Image image mode=RGB size=32x32>"
      ]
     },
     "metadata": {},
     "output_type": "display_data"
    },
    {
     "name": "stderr",
     "output_type": "stream",
     "text": [
      "Loss: 0.624 (L1: 0.490, MSE: 0.354, SSIM: 0.941):  81%|\u001b[36m████▊ \u001b[0m| 6827/8473 [00:34<00:08, 192.89step/s]\u001b[0m"
     ]
    },
    {
     "name": "stdout",
     "output_type": "stream",
     "text": [
      "JPG image saved to: results/step_06800.jpg\n"
     ]
    },
    {
     "name": "stderr",
     "output_type": "stream",
     "text": [
      "Loss: 0.624 (L1: 0.490, MSE: 0.354, SSIM: 0.941):  81%|\u001b[36m████▉ \u001b[0m| 6893/8473 [00:34<00:07, 208.30step/s]\u001b[0m"
     ]
    },
    {
     "data": {
      "image/jpeg": "[encoded data removed]",
      "image/png": "[encoded data removed]",
      "text/plain": [
       "<PIL.Image.Image image mode=RGB size=32x32>"
      ]
     },
     "metadata": {},
     "output_type": "display_data"
    },
    {
     "name": "stderr",
     "output_type": "stream",
     "text": [
      "Loss: 0.624 (L1: 0.490, MSE: 0.354, SSIM: 0.941):  82%|\u001b[36m████▉ \u001b[0m| 6936/8473 [00:34<00:07, 208.88step/s]\u001b[0m"
     ]
    },
    {
     "name": "stdout",
     "output_type": "stream",
     "text": [
      "JPG image saved to: results/step_06900.jpg\n"
     ]
    },
    {
     "name": "stderr",
     "output_type": "stream",
     "text": [
      "Loss: 0.624 (L1: 0.490, MSE: 0.353, SSIM: 0.940):  82%|\u001b[36m████▉ \u001b[0m| 6980/8473 [00:34<00:07, 211.77step/s]\u001b[0m"
     ]
    },
    {
     "data": {
      "image/jpeg": "[encoded data removed]",
      "image/png": "[encoded data removed]",
      "text/plain": [
       "<PIL.Image.Image image mode=RGB size=32x32>"
      ]
     },
     "metadata": {},
     "output_type": "display_data"
    },
    {
     "name": "stderr",
     "output_type": "stream",
     "text": [
      "Loss: 0.623 (L1: 0.490, MSE: 0.353, SSIM: 0.940):  83%|\u001b[36m████▉ \u001b[0m| 7023/8473 [00:35<00:06, 208.82step/s]\u001b[0m"
     ]
    },
    {
     "name": "stdout",
     "output_type": "stream",
     "text": [
      "JPG image saved to: results/step_07000.jpg\n"
     ]
    },
    {
     "name": "stderr",
     "output_type": "stream",
     "text": [
      "Loss: 0.623 (L1: 0.489, MSE: 0.353, SSIM: 0.939):  84%|\u001b[36m█████ \u001b[0m| 7086/8473 [00:35<00:06, 198.53step/s]\u001b[0m"
     ]
    },
    {
     "data": {
      "image/jpeg": "[encoded data removed]",
      "image/png": "[encoded data removed]",
      "text/plain": [
       "<PIL.Image.Image image mode=RGB size=32x32>"
      ]
     },
     "metadata": {},
     "output_type": "display_data"
    },
    {
     "name": "stderr",
     "output_type": "stream",
     "text": [
      "Loss: 0.623 (L1: 0.489, MSE: 0.353, SSIM: 0.939):  84%|\u001b[36m█████ \u001b[0m| 7126/8473 [00:35<00:06, 195.43step/s]\u001b[0m"
     ]
    },
    {
     "name": "stdout",
     "output_type": "stream",
     "text": [
      "JPG image saved to: results/step_07100.jpg\n"
     ]
    },
    {
     "name": "stderr",
     "output_type": "stream",
     "text": [
      "Loss: 0.622 (L1: 0.489, MSE: 0.353, SSIM: 0.938):  85%|\u001b[36m█████ \u001b[0m| 7196/8473 [00:35<00:05, 218.47step/s]\u001b[0m"
     ]
    },
    {
     "data": {
      "image/jpeg": "[encoded data removed]",
      "image/png": "[encoded data removed]",
      "text/plain": [
       "<PIL.Image.Image image mode=RGB size=32x32>"
      ]
     },
     "metadata": {},
     "output_type": "display_data"
    },
    {
     "name": "stderr",
     "output_type": "stream",
     "text": [
      "Loss: 0.622 (L1: 0.489, MSE: 0.353, SSIM: 0.938):  85%|\u001b[36m█████▏\u001b[0m| 7240/8473 [00:36<00:05, 211.03step/s]\u001b[0m"
     ]
    },
    {
     "name": "stdout",
     "output_type": "stream",
     "text": [
      "JPG image saved to: results/step_07200.jpg\n"
     ]
    },
    {
     "name": "stderr",
     "output_type": "stream",
     "text": [
      "Loss: 0.622 (L1: 0.489, MSE: 0.353, SSIM: 0.937):  86%|\u001b[36m█████▏\u001b[0m| 7283/8473 [00:36<00:05, 207.41step/s]\u001b[0m"
     ]
    },
    {
     "data": {
      "image/jpeg": "[encoded data removed]",
      "image/png": "[encoded data removed]",
      "text/plain": [
       "<PIL.Image.Image image mode=RGB size=32x32>"
      ]
     },
     "metadata": {},
     "output_type": "display_data"
    },
    {
     "name": "stderr",
     "output_type": "stream",
     "text": [
      "Loss: 0.622 (L1: 0.489, MSE: 0.353, SSIM: 0.937):  86%|\u001b[36m█████▏\u001b[0m| 7325/8473 [00:36<00:05, 200.26step/s]\u001b[0m"
     ]
    },
    {
     "name": "stdout",
     "output_type": "stream",
     "text": [
      "JPG image saved to: results/step_07300.jpg\n"
     ]
    },
    {
     "name": "stderr",
     "output_type": "stream",
     "text": [
      "Loss: 0.621 (L1: 0.488, MSE: 0.352, SSIM: 0.936):  87%|\u001b[36m█████▏\u001b[0m| 7386/8473 [00:36<00:05, 185.21step/s]\u001b[0m"
     ]
    },
    {
     "data": {
      "image/jpeg": "[encoded data removed]",
      "image/png": "[encoded data removed]",
      "text/plain": [
       "<PIL.Image.Image image mode=RGB size=32x32>"
      ]
     },
     "metadata": {},
     "output_type": "display_data"
    },
    {
     "name": "stderr",
     "output_type": "stream",
     "text": [
      "Loss: 0.621 (L1: 0.488, MSE: 0.352, SSIM: 0.936):  88%|\u001b[36m█████▎\u001b[0m| 7424/8473 [00:37<00:05, 186.16step/s]\u001b[0m"
     ]
    },
    {
     "name": "stdout",
     "output_type": "stream",
     "text": [
      "JPG image saved to: results/step_07400.jpg\n"
     ]
    },
    {
     "name": "stderr",
     "output_type": "stream",
     "text": [
      "Loss: 0.621 (L1: 0.488, MSE: 0.352, SSIM: 0.935):  88%|\u001b[36m█████▎\u001b[0m| 7482/8473 [00:37<00:05, 182.12step/s]\u001b[0m"
     ]
    },
    {
     "data": {
      "image/jpeg": "[encoded data removed]",
      "image/png": "[encoded data removed]",
      "text/plain": [
       "<PIL.Image.Image image mode=RGB size=32x32>"
      ]
     },
     "metadata": {},
     "output_type": "display_data"
    },
    {
     "name": "stderr",
     "output_type": "stream",
     "text": [
      "Loss: 0.621 (L1: 0.488, MSE: 0.352, SSIM: 0.936):  89%|\u001b[36m█████▎\u001b[0m| 7519/8473 [00:37<00:05, 174.73step/s]\u001b[0m"
     ]
    },
    {
     "name": "stdout",
     "output_type": "stream",
     "text": [
      "JPG image saved to: results/step_07500.jpg\n"
     ]
    },
    {
     "name": "stderr",
     "output_type": "stream",
     "text": [
      "Loss: 0.621 (L1: 0.488, MSE: 0.352, SSIM: 0.935):  90%|\u001b[36m█████▍\u001b[0m| 7593/8473 [00:38<00:04, 176.46step/s]\u001b[0m"
     ]
    },
    {
     "data": {
      "image/jpeg": "[encoded data removed]",
      "image/png": "[encoded data removed]",
      "text/plain": [
       "<PIL.Image.Image image mode=RGB size=32x32>"
      ]
     },
     "metadata": {},
     "output_type": "display_data"
    },
    {
     "name": "stderr",
     "output_type": "stream",
     "text": [
      "Loss: 0.620 (L1: 0.488, MSE: 0.352, SSIM: 0.935):  90%|\u001b[36m█████▍\u001b[0m| 7632/8473 [00:38<00:04, 182.75step/s]\u001b[0m"
     ]
    },
    {
     "name": "stdout",
     "output_type": "stream",
     "text": [
      "JPG image saved to: results/step_07600.jpg\n"
     ]
    },
    {
     "name": "stderr",
     "output_type": "stream",
     "text": [
      "Loss: 0.620 (L1: 0.488, MSE: 0.352, SSIM: 0.934):  91%|\u001b[36m█████▍\u001b[0m| 7692/8473 [00:38<00:04, 189.58step/s]\u001b[0m"
     ]
    },
    {
     "data": {
      "image/jpeg": "[encoded data removed]",
      "image/png": "[encoded data removed]",
      "text/plain": [
       "<PIL.Image.Image image mode=RGB size=32x32>"
      ]
     },
     "metadata": {},
     "output_type": "display_data"
    },
    {
     "name": "stderr",
     "output_type": "stream",
     "text": [
      "Loss: 0.620 (L1: 0.488, MSE: 0.352, SSIM: 0.934):  91%|\u001b[36m█████▍\u001b[0m| 7730/8473 [00:38<00:04, 181.12step/s]\u001b[0m"
     ]
    },
    {
     "name": "stdout",
     "output_type": "stream",
     "text": [
      "JPG image saved to: results/step_07700.jpg\n"
     ]
    },
    {
     "name": "stderr",
     "output_type": "stream",
     "text": [
      "Loss: 0.620 (L1: 0.487, MSE: 0.352, SSIM: 0.933):  92%|\u001b[36m█████▌\u001b[0m| 7787/8473 [00:39<00:03, 176.73step/s]\u001b[0m"
     ]
    },
    {
     "data": {
      "image/jpeg": "[encoded data removed]",
      "image/png": "[encoded data removed]",
      "text/plain": [
       "<PIL.Image.Image image mode=RGB size=32x32>"
      ]
     },
     "metadata": {},
     "output_type": "display_data"
    },
    {
     "name": "stderr",
     "output_type": "stream",
     "text": [
      "Loss: 0.619 (L1: 0.487, MSE: 0.351, SSIM: 0.933):  92%|\u001b[36m█████▌\u001b[0m| 7824/8473 [00:39<00:03, 178.38step/s]\u001b[0m"
     ]
    },
    {
     "name": "stdout",
     "output_type": "stream",
     "text": [
      "JPG image saved to: results/step_07800.jpg\n"
     ]
    },
    {
     "name": "stderr",
     "output_type": "stream",
     "text": [
      "Loss: 0.619 (L1: 0.487, MSE: 0.351, SSIM: 0.933):  93%|\u001b[36m█████▌\u001b[0m| 7898/8473 [00:39<00:03, 172.26step/s]\u001b[0m"
     ]
    },
    {
     "data": {
      "image/jpeg": "[encoded data removed]",
      "image/png": "[encoded data removed]",
      "text/plain": [
       "<PIL.Image.Image image mode=RGB size=32x32>"
      ]
     },
     "metadata": {},
     "output_type": "display_data"
    },
    {
     "name": "stderr",
     "output_type": "stream",
     "text": [
      "Loss: 0.619 (L1: 0.487, MSE: 0.351, SSIM: 0.932):  94%|\u001b[36m█████▌\u001b[0m| 7934/8473 [00:39<00:03, 171.47step/s]\u001b[0m"
     ]
    },
    {
     "name": "stdout",
     "output_type": "stream",
     "text": [
      "JPG image saved to: results/step_07900.jpg\n"
     ]
    },
    {
     "name": "stderr",
     "output_type": "stream",
     "text": [
      "Loss: 0.619 (L1: 0.487, MSE: 0.351, SSIM: 0.932):  94%|\u001b[36m█████▋\u001b[0m| 7989/8473 [00:40<00:02, 175.58step/s]\u001b[0m"
     ]
    },
    {
     "data": {
      "image/jpeg": "[encoded data removed]",
      "image/png": "[encoded data removed]",
      "text/plain": [
       "<PIL.Image.Image image mode=RGB size=32x32>"
      ]
     },
     "metadata": {},
     "output_type": "display_data"
    },
    {
     "name": "stderr",
     "output_type": "stream",
     "text": [
      "Loss: 0.619 (L1: 0.487, MSE: 0.351, SSIM: 0.932):  95%|\u001b[36m█████▋\u001b[0m| 8030/8473 [00:40<00:02, 187.09step/s]\u001b[0m"
     ]
    },
    {
     "name": "stdout",
     "output_type": "stream",
     "text": [
      "JPG image saved to: results/step_08000.jpg\n"
     ]
    },
    {
     "name": "stderr",
     "output_type": "stream",
     "text": [
      "Loss: 0.618 (L1: 0.487, MSE: 0.351, SSIM: 0.931):  96%|\u001b[36m█████▋\u001b[0m| 8092/8473 [00:40<00:01, 199.51step/s]\u001b[0m"
     ]
    },
    {
     "data": {
      "image/jpeg": "[encoded data removed]",
      "image/png": "[encoded data removed]",
      "text/plain": [
       "<PIL.Image.Image image mode=RGB size=32x32>"
      ]
     },
     "metadata": {},
     "output_type": "display_data"
    },
    {
     "name": "stderr",
     "output_type": "stream",
     "text": [
      "Loss: 0.618 (L1: 0.486, MSE: 0.351, SSIM: 0.931):  96%|\u001b[36m█████▊\u001b[0m| 8135/8473 [00:41<00:01, 206.31step/s]\u001b[0m"
     ]
    },
    {
     "name": "stdout",
     "output_type": "stream",
     "text": [
      "JPG image saved to: results/step_08100.jpg\n"
     ]
    },
    {
     "name": "stderr",
     "output_type": "stream",
     "text": [
      "Loss: 0.618 (L1: 0.486, MSE: 0.351, SSIM: 0.930):  97%|\u001b[36m█████▊\u001b[0m| 8179/8473 [00:41<00:01, 211.61step/s]\u001b[0m"
     ]
    },
    {
     "data": {
      "image/jpeg": "[encoded data removed]",
      "image/png": "[encoded data removed]",
      "text/plain": [
       "<PIL.Image.Image image mode=RGB size=32x32>"
      ]
     },
     "metadata": {},
     "output_type": "display_data"
    },
    {
     "name": "stderr",
     "output_type": "stream",
     "text": [
      "Loss: 0.618 (L1: 0.486, MSE: 0.351, SSIM: 0.930):  97%|\u001b[36m█████▊\u001b[0m| 8223/8473 [00:41<00:01, 212.14step/s]\u001b[0m"
     ]
    },
    {
     "name": "stdout",
     "output_type": "stream",
     "text": [
      "JPG image saved to: results/step_08200.jpg\n"
     ]
    },
    {
     "name": "stderr",
     "output_type": "stream",
     "text": [
      "Loss: 0.617 (L1: 0.486, MSE: 0.350, SSIM: 0.930):  98%|\u001b[36m█████▊\u001b[0m| 8290/8473 [00:41<00:00, 217.10step/s]\u001b[0m"
     ]
    },
    {
     "data": {
      "image/jpeg": "[encoded data removed]",
      "image/png": "[encoded data removed]",
      "text/plain": [
       "<PIL.Image.Image image mode=RGB size=32x32>"
      ]
     },
     "metadata": {},
     "output_type": "display_data"
    },
    {
     "name": "stderr",
     "output_type": "stream",
     "text": [
      "Loss: 0.617 (L1: 0.486, MSE: 0.350, SSIM: 0.929):  98%|\u001b[36m█████▉\u001b[0m| 8338/8473 [00:41<00:00, 216.88step/s]\u001b[0m"
     ]
    },
    {
     "name": "stdout",
     "output_type": "stream",
     "text": [
      "JPG image saved to: results/step_08300.jpg\n"
     ]
    },
    {
     "name": "stderr",
     "output_type": "stream",
     "text": [
      "Loss: 0.617 (L1: 0.486, MSE: 0.350, SSIM: 0.929):  99%|\u001b[36m█████▉\u001b[0m| 8396/8473 [00:42<00:00, 250.37step/s]\u001b[0m"
     ]
    },
    {
     "data": {
      "image/jpeg": "[encoded data removed]",
      "image/png": "[encoded data removed]",
      "text/plain": [
       "<PIL.Image.Image image mode=RGB size=32x32>"
      ]
     },
     "metadata": {},
     "output_type": "display_data"
    },
    {
     "name": "stderr",
     "output_type": "stream",
     "text": [
      "Loss: 0.617 (L1: 0.486, MSE: 0.350, SSIM: 0.928):  99%|\u001b[36m█████▉\u001b[0m| 8422/8473 [00:42<00:00, 237.52step/s]\u001b[0m"
     ]
    },
    {
     "name": "stdout",
     "output_type": "stream",
     "text": [
      "JPG image saved to: results/step_08400.jpg\n"
     ]
    },
    {
     "name": "stderr",
     "output_type": "stream",
     "text": [
      "Loss: 0.617 (L1: 0.485, MSE: 0.350, SSIM: 0.928): 100%|\u001b[36m██████\u001b[0m| 8473/8473 [00:42<00:00, 199.36step/s]\u001b[0m\n"
     ]
    },
    {
     "name": "stdout",
     "output_type": "stream",
     "text": [
      "GIF saved to: results/animation.gif\n"
     ]
    },
    {
     "data": {
      "image/jpeg": "[encoded data removed]",
      "image/png": "[encoded data removed]",
      "text/plain": [
       "<PIL.Image.Image image mode=RGB size=32x32>"
      ]
     },
     "metadata": {},
     "output_type": "display_data"
    },
    {
     "name": "stderr",
     "output_type": "stream",
     "text": [
      "[I 2025-01-06 06:11:52,553] Trial 7 finished with value: 0.4854642450809479 and parameters: {'loss_weight_l1': 0.48133148909567036, 'loss_weight_mse': 0.5031537178184011, 'loss_weight_ssim': 0.6328167215371595, 'scale_regulation': 0.1, 'opacity_regulation': 0.5, 'init_type': 'random', 'num_points': 256, 'extent': 1.0, 'init_scale': 0.6835854888885989, 'init_opacity': 0.21040242587307367, 'max_steps': 8473, 'learning_rate': 2.6183271342049026e-05, 'model_type': '2dgs', 'bilateral_grid': False}. Best is trial 1 with value: 0.10806117206811905.\n"
     ]
    },
    {
     "name": "stdout",
     "output_type": "stream",
     "text": [
      "JPG image saved to: results/final.jpg\n",
      "Final loss: 0.6165645122528076\n",
      "Total Time: Rasterization: 6.247s, Backward: 16.965s\n",
      "Trial 7 finished with value: 0.4854642450809479 and parameters: {'loss_weight_l1': 0.48133148909567036, 'loss_weight_mse': 0.5031537178184011, 'loss_weight_ssim': 0.6328167215371595, 'scale_regulation': 0.1, 'opacity_regulation': 0.5, 'init_type': 'random', 'num_points': 256, 'extent': 1.0, 'init_scale': 0.6835854888885989, 'init_opacity': 0.21040242587307367, 'max_steps': 8473, 'learning_rate': 2.6183271342049026e-05, 'model_type': '2dgs', 'bilateral_grid': False}. Best is trial 1 with value: 0.10806117206811905.\n",
      "Trial 7 finished with value: 0.4854642450809479 and parameters: {'loss_weight_l1': 0.48133148909567036, 'loss_weight_mse': 0.5031537178184011, 'loss_weight_ssim': 0.6328167215371595, 'scale_regulation': 0.1, 'opacity_regulation': 0.5, 'init_type': 'random', 'num_points': 256, 'extent': 1.0, 'init_scale': 0.6835854888885989, 'init_opacity': 0.21040242587307367, 'max_steps': 8473, 'learning_rate': 2.6183271342049026e-05, 'model_type': '2dgs', 'bilateral_grid': False}. Best is trial 1 with value: 0.10806117206811905.\n",
      "Trial 7 finished with value: 0.4854642450809479 and parameters: {'loss_weight_l1': 0.48133148909567036, 'loss_weight_mse': 0.5031537178184011, 'loss_weight_ssim': 0.6328167215371595, 'scale_regulation': 0.1, 'opacity_regulation': 0.5, 'init_type': 'random', 'num_points': 256, 'extent': 1.0, 'init_scale': 0.6835854888885989, 'init_opacity': 0.21040242587307367, 'max_steps': 8473, 'learning_rate': 2.6183271342049026e-05, 'model_type': '2dgs', 'bilateral_grid': False}. Best is trial 1 with value: 0.10806117206811905.\n",
      "Trial 7 finished with value: 0.4854642450809479 and parameters: {'loss_weight_l1': 0.48133148909567036, 'loss_weight_mse': 0.5031537178184011, 'loss_weight_ssim': 0.6328167215371595, 'scale_regulation': 0.1, 'opacity_regulation': 0.5, 'init_type': 'random', 'num_points': 256, 'extent': 1.0, 'init_scale': 0.6835854888885989, 'init_opacity': 0.21040242587307367, 'max_steps': 8473, 'learning_rate': 2.6183271342049026e-05, 'model_type': '2dgs', 'bilateral_grid': False}. Best is trial 1 with value: 0.10806117206811905.\n"
     ]
    },
    {
     "name": "stderr",
     "output_type": "stream",
     "text": [
      "[I 2025-01-06 06:11:52,773] Trial 8 pruned. Invalid hyperparameter combination\n"
     ]
    },
    {
     "name": "stdout",
     "output_type": "stream",
     "text": [
      "Trial 8 pruned. Invalid hyperparameter combination\n",
      "Trial 8 pruned. Invalid hyperparameter combination\n",
      "Trial 8 pruned. Invalid hyperparameter combination\n",
      "Trial 8 pruned. Invalid hyperparameter combination\n"
     ]
    },
    {
     "name": "stderr",
     "output_type": "stream",
     "text": [
      "[I 2025-01-06 06:11:52,992] Trial 9 pruned. Invalid hyperparameter combination\n"
     ]
    },
    {
     "name": "stdout",
     "output_type": "stream",
     "text": [
      "Trial 9 pruned. Invalid hyperparameter combination\n",
      "Trial 9 pruned. Invalid hyperparameter combination\n",
      "Trial 9 pruned. Invalid hyperparameter combination\n",
      "Trial 9 pruned. Invalid hyperparameter combination\n",
      "Best hyperparameters found:\n",
      "{'loss_weight_l1': 0.8792750902433263, 'loss_weight_mse': 0.1773429447087944, 'loss_weight_ssim': 0.3618847897862979, 'scale_regulation': 0.5, 'opacity_regulation': 1.0, 'init_type': 'knn', 'num_points': 1024, 'extent': 2.0, 'init_scale': 1.1466352193045959, 'init_opacity': 0.7835192836462006, 'max_steps': 944, 'learning_rate': 0.0007992505573535983, 'model_type': '3dgs', 'bilateral_grid': False}\n"
     ]
    }
   ],
   "source": [
    "run_optimization()"
   ]
  },
  {
   "cell_type": "code",
   "execution_count": null,
   "id": "86ac8f81-b2e1-43d7-b283-5c7e2f840d16",
   "metadata": {},
   "outputs": [],
   "source": []
  },
  {
   "cell_type": "code",
   "execution_count": 25,
   "id": "0b29740c-dfd3-4a20-b2af-983769686723",
   "metadata": {},
   "outputs": [
    {
     "name": "stdout",
     "output_type": "stream",
     "text": [
      "Listening on http://127.0.0.1:8088/\n",
      "Hit Ctrl-C to quit.\n",
      "\n",
      "^C\n",
      "Traceback (most recent call last):\n",
      "  File \"/usr/local/bin/optuna-dashboard\", line 8, in <module>\n",
      "    sys.exit(main())\n",
      "  File \"/usr/local/lib/python3.10/dist-packages/optuna_dashboard/_cli.py\", line 140, in main\n",
      "    run_wsgiref(app, args.host, args.port, args.quiet)\n",
      "  File \"/usr/local/lib/python3.10/dist-packages/optuna_dashboard/_cli.py\", line 44, in run_wsgiref\n",
      "    httpd.serve_forever()\n",
      "  File \"/usr/lib/python3.10/socketserver.py\", line 232, in serve_forever\n",
      "    ready = selector.select(poll_interval)\n",
      "  File \"/usr/lib/python3.10/selectors.py\", line 416, in select\n",
      "    fd_event_list = self._selector.poll(timeout)\n",
      "KeyboardInterrupt\n"
     ]
    }
   ],
   "source": [
    "!optuna-dashboard sqlite:///test-study.db --port 8088"
   ]
  },
  {
   "cell_type": "code",
   "execution_count": 27,
   "id": "32c03275-1f28-4d4d-9fe4-51ac82c496c4",
   "metadata": {
    "scrolled": true
   },
   "outputs": [
    {
     "name": "stdout",
     "output_type": "stream",
     "text": [
      "Collecting jupyterlab-optuna\n",
      "  Downloading jupyterlab_optuna-0.1.0.tar.gz (3.8 MB)\n",
      "\u001b[2K     \u001b[90m━━━━━━━━━━━━━━━━━━━━━━━━━━━━━━━━━━━━━━━━\u001b[0m \u001b[32m3.8/3.8 MB\u001b[0m \u001b[31m11.0 MB/s\u001b[0m eta \u001b[36m0:00:00\u001b[0ma \u001b[36m0:00:01\u001b[0m\n",
      "done\n",
      "\u001b[?25h  Getting requirements to build wheel ... \u001b[?25ldone\n",
      "\u001b[?25h  Installing backend dependencies ... \u001b[done\n",
      "\u001b[?25h  Preparing metadata (pyproject.toml) ... \u001b[?25ldone\n",
      "\u001b[?25hRequirement already satisfied: jupyter-server<3,>=2.0.1 in /usr/local/lib/python3.10/dist-packages (from jupyterlab-optuna) (2.15.0)\n",
      "Requirement already satisfied: optuna-dashboard in /usr/local/lib/python3.10/dist-packages (from jupyterlab-optuna) (0.17.0)\n",
      "Requirement already satisfied: packaging>=22.0 in /usr/local/lib/python3.10/dist-packages (from jupyter-server<3,>=2.0.1->jupyterlab-optuna) (24.2)\n",
      "Requirement already satisfied: argon2-cffi>=21.1 in /usr/local/lib/python3.10/dist-packages (from jupyter-server<3,>=2.0.1->jupyterlab-optuna) (23.1.0)\n",
      "Requirement already satisfied: nbconvert>=6.4.4 in /usr/local/lib/python3.10/dist-packages (from jupyter-server<3,>=2.0.1->jupyterlab-optuna) (7.16.5)\n",
      "Requirement already satisfied: overrides>=5.0 in /usr/local/lib/python3.10/dist-packages (from jupyter-server<3,>=2.0.1->jupyterlab-optuna) (7.7.0)\n",
      "Requirement already satisfied: jupyter-core!=5.0.*,>=4.12 in /usr/local/lib/python3.10/dist-packages (from jupyter-server<3,>=2.0.1->jupyterlab-optuna) (5.7.2)\n",
      "Requirement already satisfied: pyzmq>=24 in /usr/local/lib/python3.10/dist-packages (from jupyter-server<3,>=2.0.1->jupyterlab-optuna) (26.2.0)\n",
      "Requirement already satisfied: jinja2>=3.0.3 in /usr/local/lib/python3.10/dist-packages (from jupyter-server<3,>=2.0.1->jupyterlab-optuna) (3.1.5)\n",
      "Requirement already satisfied: jupyter-client>=7.4.4 in /usr/local/lib/python3.10/dist-packages (from jupyter-server<3,>=2.0.1->jupyterlab-optuna) (8.6.3)\n",
      "Requirement already satisfied: jupyter-server-terminals>=0.4.4 in /usr/local/lib/python3.10/dist-packages (from jupyter-server<3,>=2.0.1->jupyterlab-optuna) (0.5.3)\n",
      "Requirement already satisfied: nbformat>=5.3.0 in /usr/local/lib/python3.10/dist-packages (from jupyter-server<3,>=2.0.1->jupyterlab-optuna) (5.10.4)\n",
      "Requirement already satisfied: anyio>=3.1.0 in /usr/local/lib/python3.10/dist-packages (from jupyter-server<3,>=2.0.1->jupyterlab-optuna) (4.8.0)\n",
      "Requirement already satisfied: tornado>=6.2.0 in /usr/local/lib/python3.10/dist-packages (from jupyter-server<3,>=2.0.1->jupyterlab-optuna) (6.4.2)\n",
      "Requirement already satisfied: traitlets>=5.6.0 in /usr/local/lib/python3.10/dist-packages (from jupyter-server<3,>=2.0.1->jupyterlab-optuna) (5.14.3)\n",
      "Requirement already satisfied: prometheus-client>=0.9 in /usr/local/lib/python3.10/dist-packages (from jupyter-server<3,>=2.0.1->jupyterlab-optuna) (0.21.1)\n",
      "Requirement already satisfied: send2trash>=1.8.2 in /usr/local/lib/python3.10/dist-packages (from jupyter-server<3,>=2.0.1->jupyterlab-optuna) (1.8.3)\n",
      "Requirement already satisfied: jupyter-events>=0.11.0 in /usr/local/lib/python3.10/dist-packages (from jupyter-server<3,>=2.0.1->jupyterlab-optuna) (0.11.0)\n",
      "Requirement already satisfied: websocket-client>=1.7 in /usr/local/lib/python3.10/dist-packages (from jupyter-server<3,>=2.0.1->jupyterlab-optuna) (1.8.0)\n",
      "Requirement already satisfied: terminado>=0.8.3 in /usr/local/lib/python3.10/dist-packages (from jupyter-server<3,>=2.0.1->jupyterlab-optuna) (0.18.1)\n",
      "Requirement already satisfied: bottle>=0.13.0 in /usr/local/lib/python3.10/dist-packages (from optuna-dashboard->jupyterlab-optuna) (0.13.2)\n",
      "Requirement already satisfied: optuna>=3.1.0 in /usr/local/lib/python3.10/dist-packages (from optuna-dashboard->jupyterlab-optuna) (4.1.0)\n",
      "Requirement already satisfied: scikit-learn in /usr/local/lib/python3.10/dist-packages (from optuna-dashboard->jupyterlab-optuna) (1.6.0)\n",
      "Requirement already satisfied: exceptiongroup>=1.0.2 in /usr/local/lib/python3.10/dist-packages (from anyio>=3.1.0->jupyter-server<3,>=2.0.1->jupyterlab-optuna) (1.2.2)\n",
      "Requirement already satisfied: typing_extensions>=4.5 in /usr/local/lib/python3.10/dist-packages (from anyio>=3.1.0->jupyter-server<3,>=2.0.1->jupyterlab-optuna) (4.12.2)\n",
      "Requirement already satisfied: idna>=2.8 in /usr/local/lib/python3.10/dist-packages (from anyio>=3.1.0->jupyter-server<3,>=2.0.1->jupyterlab-optuna) (3.10)\n",
      "Requirement already satisfied: sniffio>=1.1 in /usr/local/lib/python3.10/dist-packages (from anyio>=3.1.0->jupyter-server<3,>=2.0.1->jupyterlab-optuna) (1.3.1)\n",
      "Requirement already satisfied: argon2-cffi-bindings in /usr/local/lib/python3.10/dist-packages (from argon2-cffi>=21.1->jupyter-server<3,>=2.0.1->jupyterlab-optuna) (21.2.0)\n",
      "Requirement already satisfied: MarkupSafe>=2.0 in /usr/local/lib/python3.10/dist-packages (from jinja2>=3.0.3->jupyter-server<3,>=2.0.1->jupyterlab-optuna) (3.0.2)\n",
      "Requirement already satisfied: python-dateutil>=2.8.2 in /usr/local/lib/python3.10/dist-packages (from jupyter-client>=7.4.4->jupyter-server<3,>=2.0.1->jupyterlab-optuna) (2.9.0.post0)\n",
      "Requirement already satisfied: platformdirs>=2.5 in /usr/local/lib/python3.10/dist-packages (from jupyter-core!=5.0.*,>=4.12->jupyter-server<3,>=2.0.1->jupyterlab-optuna) (4.3.6)\n",
      "Requirement already satisfied: referencing in /usr/local/lib/python3.10/dist-packages (from jupyter-events>=0.11.0->jupyter-server<3,>=2.0.1->jupyterlab-optuna) (0.35.1)\n",
      "Requirement already satisfied: rfc3339-validator in /usr/local/lib/python3.10/dist-packages (from jupyter-events>=0.11.0->jupyter-server<3,>=2.0.1->jupyterlab-optuna) (0.1.4)\n",
      "Requirement already satisfied: pyyaml>=5.3 in /usr/local/lib/python3.10/dist-packages (from jupyter-events>=0.11.0->jupyter-server<3,>=2.0.1->jupyterlab-optuna) (6.0.2)\n",
      "Requirement already satisfied: rfc3986-validator>=0.1.1 in /usr/local/lib/python3.10/dist-packages (from jupyter-events>=0.11.0->jupyter-server<3,>=2.0.1->jupyterlab-optuna) (0.1.1)\n",
      "Requirement already satisfied: python-json-logger>=2.0.4 in /usr/local/lib/python3.10/dist-packages (from jupyter-events>=0.11.0->jupyter-server<3,>=2.0.1->jupyterlab-optuna) (3.2.1)\n",
      "Requirement already satisfied: jsonschema[format-nongpl]>=4.18.0 in /usr/local/lib/python3.10/dist-packages (from jupyter-events>=0.11.0->jupyter-server<3,>=2.0.1->jupyterlab-optuna) (4.23.0)\n",
      "Requirement already satisfied: defusedxml in /usr/local/lib/python3.10/dist-packages (from nbconvert>=6.4.4->jupyter-server<3,>=2.0.1->jupyterlab-optuna) (0.7.1)\n",
      "Requirement already satisfied: bleach[css]!=5.0.0 in /usr/local/lib/python3.10/dist-packages (from nbconvert>=6.4.4->jupyter-server<3,>=2.0.1->jupyterlab-optuna) (6.2.0)\n",
      "Requirement already satisfied: nbclient>=0.5.0 in /usr/local/lib/python3.10/dist-packages (from nbconvert>=6.4.4->jupyter-server<3,>=2.0.1->jupyterlab-optuna) (0.10.2)\n",
      "Requirement already satisfied: pygments>=2.4.1 in /usr/local/lib/python3.10/dist-packages (from nbconvert>=6.4.4->jupyter-server<3,>=2.0.1->jupyterlab-optuna) (2.19.0)\n",
      "Requirement already satisfied: pandocfilters>=1.4.1 in /usr/local/lib/python3.10/dist-packages (from nbconvert>=6.4.4->jupyter-server<3,>=2.0.1->jupyterlab-optuna) (1.5.1)\n",
      "Requirement already satisfied: mistune<4,>=2.0.3 in /usr/local/lib/python3.10/dist-packages (from nbconvert>=6.4.4->jupyter-server<3,>=2.0.1->jupyterlab-optuna) (3.1.0)\n",
      "Requirement already satisfied: beautifulsoup4 in /usr/local/lib/python3.10/dist-packages (from nbconvert>=6.4.4->jupyter-server<3,>=2.0.1->jupyterlab-optuna) (4.12.3)\n",
      "Requirement already satisfied: jupyterlab-pygments in /usr/local/lib/python3.10/dist-packages (from nbconvert>=6.4.4->jupyter-server<3,>=2.0.1->jupyterlab-optuna) (0.3.0)\n",
      "Requirement already satisfied: fastjsonschema>=2.15 in /usr/local/lib/python3.10/dist-packages (from nbformat>=5.3.0->jupyter-server<3,>=2.0.1->jupyterlab-optuna) (2.21.1)\n",
      "Requirement already satisfied: numpy in /usr/local/lib/python3.10/dist-packages (from optuna>=3.1.0->optuna-dashboard->jupyterlab-optuna) (2.2.1)\n",
      "Requirement already satisfied: colorlog in /usr/local/lib/python3.10/dist-packages (from optuna>=3.1.0->optuna-dashboard->jupyterlab-optuna) (6.9.0)\n",
      "Requirement already satisfied: tqdm in /usr/local/lib/python3.10/dist-packages (from optuna>=3.1.0->optuna-dashboard->jupyterlab-optuna) (4.67.1)\n",
      "Requirement already satisfied: alembic>=1.5.0 in /usr/local/lib/python3.10/dist-packages (from optuna>=3.1.0->optuna-dashboard->jupyterlab-optuna) (1.14.0)\n",
      "Requirement already satisfied: sqlalchemy>=1.4.2 in /usr/local/lib/python3.10/dist-packages (from optuna>=3.1.0->optuna-dashboard->jupyterlab-optuna) (2.0.36)\n",
      "Requirement already satisfied: ptyprocess in /usr/local/lib/python3.10/dist-packages (from terminado>=0.8.3->jupyter-server<3,>=2.0.1->jupyterlab-optuna) (0.7.0)\n",
      "Requirement already satisfied: scipy>=1.6.0 in /usr/local/lib/python3.10/dist-packages (from scikit-learn->optuna-dashboard->jupyterlab-optuna) (1.15.0)\n",
      "Requirement already satisfied: joblib>=1.2.0 in /usr/local/lib/python3.10/dist-packages (from scikit-learn->optuna-dashboard->jupyterlab-optuna) (1.4.2)\n",
      "Requirement already satisfied: threadpoolctl>=3.1.0 in /usr/local/lib/python3.10/dist-packages (from scikit-learn->optuna-dashboard->jupyterlab-optuna) (3.5.0)\n",
      "Requirement already satisfied: Mako in /usr/local/lib/python3.10/dist-packages (from alembic>=1.5.0->optuna>=3.1.0->optuna-dashboard->jupyterlab-optuna) (1.3.8)\n",
      "Requirement already satisfied: webencodings in /usr/local/lib/python3.10/dist-packages (from bleach[css]!=5.0.0->nbconvert>=6.4.4->jupyter-server<3,>=2.0.1->jupyterlab-optuna) (0.5.1)\n",
      "Requirement already satisfied: tinycss2<1.5,>=1.1.0 in /usr/local/lib/python3.10/dist-packages (from bleach[css]!=5.0.0->nbconvert>=6.4.4->jupyter-server<3,>=2.0.1->jupyterlab-optuna) (1.4.0)\n",
      "Requirement already satisfied: attrs>=22.2.0 in /usr/local/lib/python3.10/dist-packages (from jsonschema[format-nongpl]>=4.18.0->jupyter-events>=0.11.0->jupyter-server<3,>=2.0.1->jupyterlab-optuna) (24.3.0)\n",
      "Requirement already satisfied: jsonschema-specifications>=2023.03.6 in /usr/local/lib/python3.10/dist-packages (from jsonschema[format-nongpl]>=4.18.0->jupyter-events>=0.11.0->jupyter-server<3,>=2.0.1->jupyterlab-optuna) (2024.10.1)\n",
      "Requirement already satisfied: rpds-py>=0.7.1 in /usr/local/lib/python3.10/dist-packages (from jsonschema[format-nongpl]>=4.18.0->jupyter-events>=0.11.0->jupyter-server<3,>=2.0.1->jupyterlab-optuna) (0.22.3)\n",
      "Requirement already satisfied: uri-template in /usr/local/lib/python3.10/dist-packages (from jsonschema[format-nongpl]>=4.18.0->jupyter-events>=0.11.0->jupyter-server<3,>=2.0.1->jupyterlab-optuna) (1.3.0)\n",
      "Requirement already satisfied: jsonpointer>1.13 in /usr/local/lib/python3.10/dist-packages (from jsonschema[format-nongpl]>=4.18.0->jupyter-events>=0.11.0->jupyter-server<3,>=2.0.1->jupyterlab-optuna) (3.0.0)\n",
      "Requirement already satisfied: isoduration in /usr/local/lib/python3.10/dist-packages (from jsonschema[format-nongpl]>=4.18.0->jupyter-events>=0.11.0->jupyter-server<3,>=2.0.1->jupyterlab-optuna) (20.11.0)\n",
      "Requirement already satisfied: webcolors>=24.6.0 in /usr/local/lib/python3.10/dist-packages (from jsonschema[format-nongpl]>=4.18.0->jupyter-events>=0.11.0->jupyter-server<3,>=2.0.1->jupyterlab-optuna) (24.11.1)\n",
      "Requirement already satisfied: fqdn in /usr/local/lib/python3.10/dist-packages (from jsonschema[format-nongpl]>=4.18.0->jupyter-events>=0.11.0->jupyter-server<3,>=2.0.1->jupyterlab-optuna) (1.5.1)\n",
      "Requirement already satisfied: six>=1.5 in /usr/lib/python3/dist-packages (from python-dateutil>=2.8.2->jupyter-client>=7.4.4->jupyter-server<3,>=2.0.1->jupyterlab-optuna) (1.16.0)\n",
      "Requirement already satisfied: greenlet!=0.4.17 in /usr/local/lib/python3.10/dist-packages (from sqlalchemy>=1.4.2->optuna>=3.1.0->optuna-dashboard->jupyterlab-optuna) (3.1.1)\n",
      "Requirement already satisfied: cffi>=1.0.1 in /usr/local/lib/python3.10/dist-packages (from argon2-cffi-bindings->argon2-cffi>=21.1->jupyter-server<3,>=2.0.1->jupyterlab-optuna) (1.17.1)\n",
      "Requirement already satisfied: soupsieve>1.2 in /usr/local/lib/python3.10/dist-packages (from beautifulsoup4->nbconvert>=6.4.4->jupyter-server<3,>=2.0.1->jupyterlab-optuna) (2.6)\n",
      "Requirement already satisfied: pycparser in /usr/local/lib/python3.10/dist-packages (from cffi>=1.0.1->argon2-cffi-bindings->argon2-cffi>=21.1->jupyter-server<3,>=2.0.1->jupyterlab-optuna) (2.22)\n",
      "Requirement already satisfied: arrow>=0.15.0 in /usr/local/lib/python3.10/dist-packages (from isoduration->jsonschema[format-nongpl]>=4.18.0->jupyter-events>=0.11.0->jupyter-server<3,>=2.0.1->jupyterlab-optuna) (1.3.0)\n",
      "Requirement already satisfied: types-python-dateutil>=2.8.10 in /usr/local/lib/python3.10/dist-packages (from arrow>=0.15.0->isoduration->jsonschema[format-nongpl]>=4.18.0->jupyter-events>=0.11.0->jupyter-server<3,>=2.0.1->jupyterlab-optuna) (2.9.0.20241206)\n",
      "Building wheels for collected packages: jupyterlab-optuna\n",
      "  Building wheel for jupyterlab-optuna (pyproject.toml) ... \u001b[?25ldone\n",
      "\u001b[?25h  Created wheel for jupyterlab-optuna: filename=jupyterlab_optuna-0.1.0-py3-none-any.whl size=3608000 sha256=b75f585fd147a45ddcf95b8b62bc8149c9dcc876739adb78c1c597eebf0b4321\n",
      "  Stored in directory: /root/.cache/pip/wheels/9a/9b/ca/eb4257d7ea94f5c94b3117fd9c2cb01076558ec93990308073\n",
      "Successfully built jupyterlab-optuna\n",
      "Installing collected packages: jupyterlab-optuna\n",
      "Successfully installed jupyterlab-optuna-0.1.0\n",
      "\u001b[33mWARNING: Running pip as the 'root' user can result in broken permissions and conflicting behaviour with the system package manager. It is recommended to use a virtual environment instead: https://pip.pypa.io/warnings/venv\u001b[0m\u001b[33m\n",
      "\u001b[0m"
     ]
    }
   ],
   "source": [
    "!pip install jupyterlab-optuna"
   ]
  },
  {
   "cell_type": "code",
   "execution_count": null,
   "id": "01d9e202-f718-4705-9839-18f425a6c1e4",
   "metadata": {},
   "outputs": [],
   "source": []
  },
  {
   "cell_type": "code",
   "execution_count": null,
   "id": "2033226b-ae48-4b1a-8494-637eeeb8895e",
   "metadata": {},
   "outputs": [],
   "source": []
  },
  {
   "cell_type": "code",
   "execution_count": null,
   "id": "8b7ef9e5-8425-4618-9594-1fc445c05e99",
   "metadata": {},
   "outputs": [],
   "source": []
  },
  {
   "cell_type": "code",
   "execution_count": 21,
   "id": "e3fe8b56-1fe8-4999-b112-aa837cba5aeb",
   "metadata": {},
   "outputs": [
    {
     "data": {
      "image/jpeg": "[encoded data removed]",
      "image/png": "[encoded data removed]",
      "text/plain": [
       "<PIL.Image.Image image mode=RGB size=32x32>"
      ]
     },
     "metadata": {},
     "output_type": "display_data"
    },
    {
     "data": {
      "image/jpeg": "[encoded data removed]",
      "image/png": "[encoded data removed]",
      "text/plain": [
       "<PIL.Image.Image image mode=RGB size=32x32>"
      ]
     },
     "metadata": {},
     "output_type": "display_data"
    },
    {
     "data": {
      "image/jpeg": "[encoded data removed]",
      "image/png": "[encoded data removed]",
      "text/plain": [
       "<PIL.Image.Image image mode=RGB size=32x32>"
      ]
     },
     "metadata": {},
     "output_type": "display_data"
    }
   ],
   "source": [
    "from utils import visualize_tensor\n",
    "\n",
    "visualize_tensor(image)\n",
    "visualize_tensor(r)\n",
    "visualize_tensor(image.cpu() - r.cpu())"
   ]
  }
 ],
 "metadata": {
  "kernelspec": {
   "display_name": "Python 3 (ipykernel)",
   "language": "python",
   "name": "python3"
  },
  "language_info": {
   "codemirror_mode": {
    "name": "ipython",
    "version": 3
   },
   "file_extension": ".py",
   "mimetype": "text/x-python",
   "name": "python",
   "nbconvert_exporter": "python",
   "pygments_lexer": "ipython3",
   "version": "3.10.12"
  }
 },
 "nbformat": 4,
 "nbformat_minor": 5
}
