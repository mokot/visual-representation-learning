{
  "cells": [
    {
      "cell_type": "code",
      "execution_count": 1,
      "metadata": {},
      "outputs": [],
      "source": [
        "# Note: This is a hack to allow importing from the parent directory\n",
        "import sys\n",
        "from pathlib import Path\n",
        "\n",
        "sys.path.append(str(Path().resolve().parent))\n",
        "\n",
        "# Note: Ignore warnings, be brave (YoLo)\n",
        "import warnings\n",
        "\n",
        "warnings.filterwarnings(\"ignore\")"
      ]
    },
    {
      "cell_type": "code",
      "execution_count": 2,
      "metadata": {},
      "outputs": [],
      "source": [
        "import torch\n",
        "import optuna\n",
        "import torch.nn as nn\n",
        "import torch.optim as optim\n",
        "from models import ResNetAutoencoder\n",
        "from data import CIFAR10GaussianSplatsDataset\n",
        "from utils import train, transform_and_collate\n",
        "\n",
        "results_path = Path(\"../logs/resnet_autoencoder_test_2/\")\n",
        "results_path.mkdir(parents=True, exist_ok=True)\n",
        "\n",
        "# Use one model for the whole splat (separately)\n",
        "channels_dim = 1\n",
        "join_mode = \"concat\"\n",
        "\n",
        "train_dataset = CIFAR10GaussianSplatsDataset(\n",
        "    root=\"../data/CIFAR10GS\",\n",
        "    train=True,\n",
        "    init_type=\"grid\",\n",
        ")\n",
        "val_dataset = CIFAR10GaussianSplatsDataset(\n",
        "    root=\"../data/CIFAR10GS\",\n",
        "    val=True,\n",
        "    init_type=\"grid\",\n",
        ")"
      ]
    },
    {
      "cell_type": "code",
      "execution_count": null,
      "metadata": {},
      "outputs": [
        {
          "name": "stderr",
          "output_type": "stream",
          "text": [
            "[I 2025-01-20 18:58:59,645] A new study created in memory with name: resnet_autoencoder_test_2\n"
          ]
        },
        {
          "name": "stderr",
          "output_type": "stream",
          "text": [
            "Epoch 1/1: 100%|██████████| 286/286 [02:58<00:00,  1.60batch/s] \n",
            "[I 2025-01-20 19:02:42,947] Trial 0 finished with value: 0.3246388712399442 and parameters: {'lr': 0.1, 'weight_decay': 0.1, 'loss_fn': <class 'torch.nn.modules.loss.L1Loss'>, 'epochs': 1, 'grad_clip': 1.0, 'weight_init': True}. Best is trial 0 with value: 0.3246388712399442.\n"
          ]
        },
        {
          "name": "stdout",
          "output_type": "stream",
          "text": [
            "Epoch 1/1 | Train Loss: 0.3260 | Val Loss: 0.3246\n",
            "Train Loss: 0.3260 | Val Loss: 0.3246 | Training time: 221.58s\n",
            "Best trial:FrozenTrial(number=0, state=1, values=[0.3246388712399442], datetime_start=datetime.datetime(2025, 1, 20, 18, 58, 59, 647298), datetime_complete=datetime.datetime(2025, 1, 20, 19, 2, 42, 946783), params={'lr': 0.1, 'weight_decay': 0.1, 'loss_fn': <class 'torch.nn.modules.loss.L1Loss'>, 'epochs': 1, 'grad_clip': 1.0, 'weight_init': True}, user_attrs={}, system_attrs={}, intermediate_values={}, distributions={'lr': FloatDistribution(high=0.1, log=True, low=0.1, step=None), 'weight_decay': FloatDistribution(high=0.1, log=True, low=0.1, step=None), 'loss_fn': CategoricalDistribution(choices=(<class 'torch.nn.modules.loss.L1Loss'>,)), 'epochs': IntDistribution(high=1, log=False, low=1, step=1), 'grad_clip': FloatDistribution(high=1.0, log=False, low=1.0, step=None), 'weight_init': CategoricalDistribution(choices=(True,))}, trial_id=0, value=None)\n"
          ]
        }
      ],
      "source": [
        "def objective(trial):\n",
        "    # Define hyperparameter search space\n",
        "    lr = trial.suggest_loguniform(\"lr\", 1e-5, 1e-2)\n",
        "    weight_decay = trial.suggest_loguniform(\"weight_decay\", 1e-6, 1e-3)\n",
        "    loss_fn = trial.suggest_categorical(\"loss_fn\", [nn.L1Loss, nn.MSELoss])\n",
        "    epochs = trial.suggest_int(\"epochs\", 10, 100, 50)\n",
        "    grad_clip = trial.suggest_uniform(\"grad_clip\", 0.5, 2.0)\n",
        "    weight_init = trial.suggest_categorical(\"weight_init\", [True, False])\n",
        "\n",
        "    # Define train parameters\n",
        "    model = ResNetAutoencoder(channels_dim=channels_dim, weight_init=weight_init)\n",
        "    train_loader = torch.utils.data.DataLoader(\n",
        "        train_dataset,\n",
        "        batch_size=1,\n",
        "        shuffle=True,\n",
        "        num_workers=4,\n",
        "        collate_fn=lambda batch: transform_and_collate(batch, join_mode),\n",
        "    )\n",
        "    val_loader = torch.utils.data.DataLoader(\n",
        "        val_dataset,\n",
        "        batch_size=1,\n",
        "        shuffle=False,\n",
        "        num_workers=4,\n",
        "        collate_fn=lambda batch: transform_and_collate(batch, join_mode),\n",
        "    )\n",
        "    optimizer = optim.Adam(model.parameters(), lr=lr, weight_decay=weight_decay)\n",
        "    criterion = loss_fn()\n",
        "    epochs = epochs\n",
        "    device = torch.device(\"cuda\" if torch.cuda.is_available() else \"cpu\")\n",
        "    scheduler = optim.lr_scheduler.ReduceLROnPlateau(optimizer, \"min\", patience=5)\n",
        "    grad_clip = grad_clip\n",
        "    compile_model = True\n",
        "\n",
        "    results = train(\n",
        "        model=model,\n",
        "        train_loader=train_loader,\n",
        "        val_loader=val_loader,\n",
        "        optimizer=optimizer,\n",
        "        criterion=criterion,\n",
        "        epochs=epochs,\n",
        "        device=device,\n",
        "        scheduler=scheduler,\n",
        "        grad_clip=grad_clip,\n",
        "        logger=print,\n",
        "        compile_model=compile_model,\n",
        "        model_path=results_path / \"model.pt\",\n",
        "    )\n",
        "    return results[\"val_loss\"][-1]\n",
        "\n",
        "\n",
        "# Run hyperparameter search\n",
        "study = optuna.create_study(\n",
        "    direction=\"minimize\", study_name=\"resnet_autoencoder_test_2\"\n",
        ")\n",
        "study.optimize(objective, n_trials=100, n_jobs=4)\n",
        "print(f\"Best trial:{study.best_trial}\")\n",
        "with open(results_path / \"best_trial.txt\", \"w\") as f:\n",
        "    f.write(f\"Best trial:{study.best_trial}\")\n",
        "optuna.visualization.plot_optimization_history(study).write_image(\n",
        "    str(results_path / \"opt_history.png\")\n",
        ")\n",
        "optuna.visualization.plot_param_importances(study).write_image(\n",
        "    str(results_path / \"param_importances.png\")\n",
        ")"
      ]
    }
  ],
  "metadata": {
    "kernelspec": {
      "display_name": ".venv",
      "language": "python",
      "name": "python3"
    },
    "language_info": {
      "codemirror_mode": {
        "name": "ipython",
        "version": 3
      },
      "file_extension": ".py",
      "mimetype": "text/x-python",
      "name": "python",
      "nbconvert_exporter": "python",
      "pygments_lexer": "ipython3",
      "version": "3.11.10"
    }
  },
  "nbformat": 4,
  "nbformat_minor": 2
}
