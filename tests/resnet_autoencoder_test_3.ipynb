{
  "cells": [
    {
      "cell_type": "code",
      "execution_count": 1,
      "metadata": {},
      "outputs": [],
      "source": [
        "# Note: This is a hack to allow importing from the parent directory\n",
        "import sys\n",
        "from pathlib import Path\n",
        "\n",
        "sys.path.append(str(Path().resolve().parent))\n",
        "\n",
        "# Note: Ignore warnings, be brave (YoLo)\n",
        "import warnings\n",
        "\n",
        "warnings.filterwarnings(\"ignore\")"
      ]
    },
    {
      "cell_type": "code",
      "execution_count": 2,
      "metadata": {},
      "outputs": [],
      "source": [
        "import torch\n",
        "import optuna\n",
        "import torch.nn as nn\n",
        "import torch.optim as optim\n",
        "from models import ResNetAutoencoder\n",
        "from data import CIFAR10GaussianSplatsDataset\n",
        "from utils import train, transform_and_collate\n",
        "\n",
        "results_path = Path(\"../logs/resnet_autoencoder_test_3/\")\n",
        "results_path.mkdir(parents=True, exist_ok=True)\n",
        "\n",
        "# Use separate model for each part of the splat\n",
        "channels_dim = {\"means\": 3, \"quats\": 4, \"scales\": 3, \"opacities\": 1, \"colors\": 12}\n",
        "join_mode = \"dict\"\n",
        "\n",
        "train_dataset = CIFAR10GaussianSplatsDataset(\n",
        "    root=\"../data/CIFAR10GS\",\n",
        "    train=True,\n",
        "    init_type=\"grid\",\n",
        ")\n",
        "val_dataset = CIFAR10GaussianSplatsDataset(\n",
        "    root=\"../data/CIFAR10GS\",\n",
        "    val=True,\n",
        "    init_type=\"grid\",\n",
        ")"
      ]
    },
    {
      "cell_type": "code",
      "execution_count": 3,
      "metadata": {},
      "outputs": [
        {
          "name": "stderr",
          "output_type": "stream",
          "text": [
            "[I 2025-01-20 19:05:04,704] A new study created in memory with name: resnet_autoencoder_test_3/means\n"
          ]
        },
        {
          "name": "stdout",
          "output_type": "stream",
          "text": [
            "Processing parameter: means\n"
          ]
        },
        {
          "name": "stderr",
          "output_type": "stream",
          "text": [
            "Epoch 1/1: 100%|██████████| 9/9 [01:29<00:00,  9.99s/batch]\n",
            "[I 2025-01-20 19:07:05,147] Trial 0 finished with value: 0.34408602118492126 and parameters: {'lr': 0.1, 'weight_decay': 0.1, 'loss_fn': <class 'torch.nn.modules.loss.L1Loss'>, 'epochs': 1, 'grad_clip': 1.0, 'weight_init': True}. Best is trial 0 with value: 0.34408602118492126.\n",
            "[I 2025-01-20 19:07:05,149] A new study created in memory with name: resnet_autoencoder_test_3/quats\n"
          ]
        },
        {
          "name": "stdout",
          "output_type": "stream",
          "text": [
            "Epoch 1/1 | Train Loss: 0.3909 | Val Loss: 0.3441\n",
            "Train Loss: 0.3909 | Val Loss: 0.3441 | Training time: 119.07s\n",
            "Best trial:FrozenTrial(number=0, state=1, values=[0.34408602118492126], datetime_start=datetime.datetime(2025, 1, 20, 19, 5, 4, 705733), datetime_complete=datetime.datetime(2025, 1, 20, 19, 7, 5, 147072), params={'lr': 0.1, 'weight_decay': 0.1, 'loss_fn': <class 'torch.nn.modules.loss.L1Loss'>, 'epochs': 1, 'grad_clip': 1.0, 'weight_init': True}, user_attrs={}, system_attrs={}, intermediate_values={}, distributions={'lr': FloatDistribution(high=0.1, log=True, low=0.1, step=None), 'weight_decay': FloatDistribution(high=0.1, log=True, low=0.1, step=None), 'loss_fn': CategoricalDistribution(choices=(<class 'torch.nn.modules.loss.L1Loss'>,)), 'epochs': IntDistribution(high=1, log=False, low=1, step=1), 'grad_clip': FloatDistribution(high=1.0, log=False, low=1.0, step=None), 'weight_init': CategoricalDistribution(choices=(True,))}, trial_id=0, value=None)\n",
            "Processing parameter: quats\n"
          ]
        },
        {
          "name": "stderr",
          "output_type": "stream",
          "text": [
            "Epoch 1/1: 100%|██████████| 9/9 [00:58<00:00,  6.54s/batch]\n",
            "[I 2025-01-20 19:08:42,296] Trial 0 finished with value: 0.2947850525379181 and parameters: {'lr': 0.1, 'weight_decay': 0.1, 'loss_fn': <class 'torch.nn.modules.loss.L1Loss'>, 'epochs': 1, 'grad_clip': 1.0, 'weight_init': True}. Best is trial 0 with value: 0.2947850525379181.\n",
            "[I 2025-01-20 19:08:42,301] A new study created in memory with name: resnet_autoencoder_test_3/scales\n"
          ]
        },
        {
          "name": "stdout",
          "output_type": "stream",
          "text": [
            "Epoch 1/1 | Train Loss: 0.3687 | Val Loss: 0.2948\n",
            "Train Loss: 0.3687 | Val Loss: 0.2948 | Training time: 97.08s\n",
            "Best trial:FrozenTrial(number=0, state=1, values=[0.2947850525379181], datetime_start=datetime.datetime(2025, 1, 20, 19, 7, 5, 150177), datetime_complete=datetime.datetime(2025, 1, 20, 19, 8, 42, 294869), params={'lr': 0.1, 'weight_decay': 0.1, 'loss_fn': <class 'torch.nn.modules.loss.L1Loss'>, 'epochs': 1, 'grad_clip': 1.0, 'weight_init': True}, user_attrs={}, system_attrs={}, intermediate_values={}, distributions={'lr': FloatDistribution(high=0.1, log=True, low=0.1, step=None), 'weight_decay': FloatDistribution(high=0.1, log=True, low=0.1, step=None), 'loss_fn': CategoricalDistribution(choices=(<class 'torch.nn.modules.loss.L1Loss'>,)), 'epochs': IntDistribution(high=1, log=False, low=1, step=1), 'grad_clip': FloatDistribution(high=1.0, log=False, low=1.0, step=None), 'weight_init': CategoricalDistribution(choices=(True,))}, trial_id=0, value=None)\n",
            "Processing parameter: scales\n"
          ]
        },
        {
          "name": "stderr",
          "output_type": "stream",
          "text": [
            "Epoch 1/1: 100%|██████████| 9/9 [00:04<00:00,  2.00batch/s]\n",
            "[I 2025-01-20 19:08:47,962] Trial 0 finished with value: 0.4677492082118988 and parameters: {'lr': 0.1, 'weight_decay': 0.1, 'loss_fn': <class 'torch.nn.modules.loss.L1Loss'>, 'epochs': 1, 'grad_clip': 1.0, 'weight_init': True}. Best is trial 0 with value: 0.4677492082118988.\n",
            "[I 2025-01-20 19:08:47,966] A new study created in memory with name: resnet_autoencoder_test_3/opacities\n"
          ]
        },
        {
          "name": "stdout",
          "output_type": "stream",
          "text": [
            "Epoch 1/1 | Train Loss: 0.5551 | Val Loss: 0.4677\n",
            "Train Loss: 0.5551 | Val Loss: 0.4677 | Training time: 5.53s\n",
            "Best trial:FrozenTrial(number=0, state=1, values=[0.4677492082118988], datetime_start=datetime.datetime(2025, 1, 20, 19, 8, 42, 302767), datetime_complete=datetime.datetime(2025, 1, 20, 19, 8, 47, 961786), params={'lr': 0.1, 'weight_decay': 0.1, 'loss_fn': <class 'torch.nn.modules.loss.L1Loss'>, 'epochs': 1, 'grad_clip': 1.0, 'weight_init': True}, user_attrs={}, system_attrs={}, intermediate_values={}, distributions={'lr': FloatDistribution(high=0.1, log=True, low=0.1, step=None), 'weight_decay': FloatDistribution(high=0.1, log=True, low=0.1, step=None), 'loss_fn': CategoricalDistribution(choices=(<class 'torch.nn.modules.loss.L1Loss'>,)), 'epochs': IntDistribution(high=1, log=False, low=1, step=1), 'grad_clip': FloatDistribution(high=1.0, log=False, low=1.0, step=None), 'weight_init': CategoricalDistribution(choices=(True,))}, trial_id=0, value=None)\n",
            "Processing parameter: opacities\n"
          ]
        },
        {
          "name": "stderr",
          "output_type": "stream",
          "text": [
            "Epoch 1/1: 100%|██████████| 9/9 [01:00<00:00,  6.71s/batch]\n",
            "W0120 19:09:48.822000 852878 torch/_dynamo/convert_frame.py:844] [0/8] torch._dynamo hit config.cache_size_limit (8)\n",
            "W0120 19:09:48.822000 852878 torch/_dynamo/convert_frame.py:844] [0/8]    function: 'forward' (/home/mokot/LMU/VisualRepresentationLearning/Project/models/abstract_autoencoder.py:18)\n",
            "W0120 19:09:48.822000 852878 torch/_dynamo/convert_frame.py:844] [0/8]    last reason: 0/0: GLOBAL_STATE changed: grad_mode \n",
            "W0120 19:09:48.822000 852878 torch/_dynamo/convert_frame.py:844] [0/8] To log all recompilation reasons, use TORCH_LOGS=\"recompiles\".\n",
            "W0120 19:09:48.822000 852878 torch/_dynamo/convert_frame.py:844] [0/8] To diagnose recompilation issues, see https://pytorch.org/docs/main/torch.compiler_troubleshooting.html.\n",
            "[I 2025-01-20 19:09:49,120] Trial 0 finished with value: 0.7375386357307434 and parameters: {'lr': 0.1, 'weight_decay': 0.1, 'loss_fn': <class 'torch.nn.modules.loss.L1Loss'>, 'epochs': 1, 'grad_clip': 1.0, 'weight_init': True}. Best is trial 0 with value: 0.7375386357307434.\n",
            "[I 2025-01-20 19:09:49,123] A new study created in memory with name: resnet_autoencoder_test_3/colors\n"
          ]
        },
        {
          "name": "stdout",
          "output_type": "stream",
          "text": [
            "Epoch 1/1 | Train Loss: 0.8341 | Val Loss: 0.7375\n",
            "Train Loss: 0.8341 | Val Loss: 0.7375 | Training time: 61.08s\n",
            "Best trial:FrozenTrial(number=0, state=1, values=[0.7375386357307434], datetime_start=datetime.datetime(2025, 1, 20, 19, 8, 47, 967964), datetime_complete=datetime.datetime(2025, 1, 20, 19, 9, 49, 119060), params={'lr': 0.1, 'weight_decay': 0.1, 'loss_fn': <class 'torch.nn.modules.loss.L1Loss'>, 'epochs': 1, 'grad_clip': 1.0, 'weight_init': True}, user_attrs={}, system_attrs={}, intermediate_values={}, distributions={'lr': FloatDistribution(high=0.1, log=True, low=0.1, step=None), 'weight_decay': FloatDistribution(high=0.1, log=True, low=0.1, step=None), 'loss_fn': CategoricalDistribution(choices=(<class 'torch.nn.modules.loss.L1Loss'>,)), 'epochs': IntDistribution(high=1, log=False, low=1, step=1), 'grad_clip': FloatDistribution(high=1.0, log=False, low=1.0, step=None), 'weight_init': CategoricalDistribution(choices=(True,))}, trial_id=0, value=None)\n",
            "Processing parameter: colors\n"
          ]
        },
        {
          "name": "stderr",
          "output_type": "stream",
          "text": [
            "Epoch 1/1: 100%|██████████| 9/9 [00:03<00:00,  2.43batch/s]\n",
            "[I 2025-01-20 19:09:53,591] Trial 0 finished with value: 0.2587871154149373 and parameters: {'lr': 0.1, 'weight_decay': 0.1, 'loss_fn': <class 'torch.nn.modules.loss.L1Loss'>, 'epochs': 1, 'grad_clip': 1.0, 'weight_init': True}. Best is trial 0 with value: 0.2587871154149373.\n"
          ]
        },
        {
          "name": "stdout",
          "output_type": "stream",
          "text": [
            "Epoch 1/1 | Train Loss: 0.3504 | Val Loss: 0.2588\n",
            "Train Loss: 0.3504 | Val Loss: 0.2588 | Training time: 4.40s\n",
            "Best trial:FrozenTrial(number=0, state=1, values=[0.2587871154149373], datetime_start=datetime.datetime(2025, 1, 20, 19, 9, 49, 125049), datetime_complete=datetime.datetime(2025, 1, 20, 19, 9, 53, 590883), params={'lr': 0.1, 'weight_decay': 0.1, 'loss_fn': <class 'torch.nn.modules.loss.L1Loss'>, 'epochs': 1, 'grad_clip': 1.0, 'weight_init': True}, user_attrs={}, system_attrs={}, intermediate_values={}, distributions={'lr': FloatDistribution(high=0.1, log=True, low=0.1, step=None), 'weight_decay': FloatDistribution(high=0.1, log=True, low=0.1, step=None), 'loss_fn': CategoricalDistribution(choices=(<class 'torch.nn.modules.loss.L1Loss'>,)), 'epochs': IntDistribution(high=1, log=False, low=1, step=1), 'grad_clip': FloatDistribution(high=1.0, log=False, low=1.0, step=None), 'weight_init': CategoricalDistribution(choices=(True,))}, trial_id=0, value=None)\n"
          ]
        }
      ],
      "source": [
        "def objective(trial, param: str, dim: int):\n",
        "    # Define hyperparameter search space\n",
        "    lr = trial.suggest_loguniform(\"lr\", 1e-5, 1e-2)\n",
        "    weight_decay = trial.suggest_loguniform(\"weight_decay\", 1e-6, 1e-3)\n",
        "    loss_fn = trial.suggest_categorical(\"loss_fn\", [nn.L1Loss, nn.MSELoss])\n",
        "    epochs = trial.suggest_int(\"epochs\", 10, 100, 50)\n",
        "    grad_clip = trial.suggest_uniform(\"grad_clip\", 0.5, 2.0)\n",
        "    weight_init = trial.suggest_categorical(\"weight_init\", [True, False])\n",
        "\n",
        "    # Define train parameters\n",
        "    model = ResNetAutoencoder(channels_dim=dim, weight_init=weight_init)\n",
        "    train_loader = torch.utils.data.DataLoader(\n",
        "        train_dataset,\n",
        "        batch_size=32,\n",
        "        shuffle=True,\n",
        "        num_workers=4,\n",
        "        collate_fn=lambda batch: transform_and_collate(batch, join_mode, param),\n",
        "    )\n",
        "    val_loader = torch.utils.data.DataLoader(\n",
        "        val_dataset,\n",
        "        batch_size=32,\n",
        "        shuffle=False,\n",
        "        num_workers=4,\n",
        "        collate_fn=lambda batch: transform_and_collate(batch, join_mode, param),\n",
        "    )\n",
        "    optimizer = optim.Adam(model.parameters(), lr=lr, weight_decay=weight_decay)\n",
        "    criterion = loss_fn()\n",
        "    epochs = epochs\n",
        "    device = torch.device(\"cuda\" if torch.cuda.is_available() else \"cpu\")\n",
        "    scheduler = optim.lr_scheduler.ReduceLROnPlateau(optimizer, \"min\", patience=5)\n",
        "    grad_clip = grad_clip\n",
        "    compile_model = True\n",
        "\n",
        "    results = train(\n",
        "        model=model,\n",
        "        train_loader=train_loader,\n",
        "        val_loader=val_loader,\n",
        "        optimizer=optimizer,\n",
        "        criterion=criterion,\n",
        "        epochs=epochs,\n",
        "        device=device,\n",
        "        scheduler=scheduler,\n",
        "        grad_clip=grad_clip,\n",
        "        logger=print,\n",
        "        compile_model=compile_model,\n",
        "        model_path=results_path / param / \"model.pt\",\n",
        "    )\n",
        "    return results[\"val_loss\"][-1]\n",
        "\n",
        "\n",
        "for param, dim in channels_dim.items():\n",
        "    print(\"Processing parameter:\", param)\n",
        "    param_path = results_path / param\n",
        "    param_path.mkdir(parents=True, exist_ok=True)\n",
        "\n",
        "    # Run hyperparameter search\n",
        "    study = optuna.create_study(\n",
        "        direction=\"minimize\", study_name=f\"resnet_autoencoder_test_3/{param}\"\n",
        "    )\n",
        "    study.optimize(lambda trial: objective(trial, param, dim), n_trials=100, n_jobs=4)\n",
        "    print(f\"Best trial:{study.best_trial}\")\n",
        "    with open(param_path / \"best_trial.txt\", \"w\") as f:\n",
        "        f.write(f\"Best trial:{study.best_trial}\")\n",
        "    optuna.visualization.plot_optimization_history(study).write_image(\n",
        "        str(results_path / param / \"opt_history.png\")\n",
        "    )\n",
        "    optuna.visualization.plot_param_importances(study).write_image(\n",
        "        str(results_path / param / \"param_importances.png\")\n",
        "    )"
      ]
    }
  ],
  "metadata": {
    "kernelspec": {
      "display_name": ".venv",
      "language": "python",
      "name": "python3"
    },
    "language_info": {
      "codemirror_mode": {
        "name": "ipython",
        "version": 3
      },
      "file_extension": ".py",
      "mimetype": "text/x-python",
      "name": "python",
      "nbconvert_exporter": "python",
      "pygments_lexer": "ipython3",
      "version": "3.11.10"
    }
  },
  "nbformat": 4,
  "nbformat_minor": 2
}
