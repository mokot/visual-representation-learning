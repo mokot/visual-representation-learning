{
  "cells": [
    {
      "cell_type": "code",
      "execution_count": 1,
      "metadata": {},
      "outputs": [],
      "source": [
        "# Note: This is a hack to allow importing from the parent directory\n",
        "import sys\n",
        "from pathlib import Path\n",
        "\n",
        "sys.path.append(str(Path().resolve().parent))\n",
        "\n",
        "# Note: Ignore warnings, be brave (YoLo)\n",
        "import warnings\n",
        "\n",
        "warnings.filterwarnings(\"ignore\")"
      ]
    },
    {
      "cell_type": "code",
      "execution_count": 2,
      "metadata": {},
      "outputs": [],
      "source": [
        "import torch\n",
        "from data import CIFAR10GaussianSplatsDataset\n",
        "\n",
        "N_SAMPLES = 10\n",
        "BASIC_MODEL = torch.load(\"../models/basic_resnet_autoencoder.ckpt\")\n",
        "\n",
        "test_dataset = CIFAR10GaussianSplatsDataset(\n",
        "    root=\"../data/CIFAR10GS\",\n",
        "    test=True,\n",
        "    init_type=\"grid\",\n",
        ")"
      ]
    },
    {
      "cell_type": "code",
      "execution_count": 3,
      "metadata": {},
      "outputs": [
        {
          "data": {
            "text/plain": [
              "(<PIL.PngImagePlugin.PngImageFile image mode=RGB size=32x32>,\n",
              " 1,\n",
              " ParameterDict(\n",
              "     (Ks): Parameter containing: [torch.FloatTensor of size 3x3]\n",
              "     (means): Parameter containing: [torch.FloatTensor of size 1024x3]\n",
              "     (opacities): Parameter containing: [torch.FloatTensor of size 1024]\n",
              "     (quats): Parameter containing: [torch.FloatTensor of size 1024x4]\n",
              "     (scales): Parameter containing: [torch.FloatTensor of size 1024x3]\n",
              "     (viewmats): Parameter containing: [torch.FloatTensor of size 4x4]\n",
              "     (colors): Parameter containing: [torch.FloatTensor of size 1024x4x3]\n",
              " ))"
            ]
          },
          "execution_count": 3,
          "metadata": {},
          "output_type": "execute_result"
        }
      ],
      "source": [
        "# Loop through test_dataset and save N_SAMPLES for each class\n"
      ]
    }
  ],
  "metadata": {
    "kernelspec": {
      "display_name": ".venv",
      "language": "python",
      "name": "python3"
    },
    "language_info": {
      "codemirror_mode": {
        "name": "ipython",
        "version": 3
      },
      "file_extension": ".py",
      "mimetype": "text/x-python",
      "name": "python",
      "nbconvert_exporter": "python",
      "pygments_lexer": "ipython3",
      "version": "3.11.10"
    }
  },
  "nbformat": 4,
  "nbformat_minor": 2
}
