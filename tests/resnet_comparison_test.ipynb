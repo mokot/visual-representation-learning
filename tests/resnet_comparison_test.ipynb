{
  "cells": [
    {
      "cell_type": "code",
      "execution_count": 27,
      "metadata": {},
      "outputs": [],
      "source": [
        "# Note: This is a hack to allow importing from the parent directory\n",
        "import sys\n",
        "from pathlib import Path\n",
        "\n",
        "sys.path.append(str(Path().resolve().parent))\n",
        "sys.path.append(str(Path().resolve().parent / \"submodules/resnet-18-autoencoder/src\"))\n",
        "\n",
        "# Note: Ignore warnings, be brave (YoLo)\n",
        "import warnings\n",
        "\n",
        "warnings.filterwarnings(\"ignore\")"
      ]
    },
    {
      "cell_type": "code",
      "execution_count": 28,
      "metadata": {},
      "outputs": [],
      "source": [
        "import torch\n",
        "import matplotlib.pyplot as plt\n",
        "\n",
        "from utils import noop_collate\n",
        "from models import ResNetAutoencoder\n",
        "from data import CIFAR10GaussianSplatsDataset\n",
        "from constants import CIFAR10_TRANSFORM, CIFAR10_INVERSE_TRANSFORM, TENSOR_TRANSFORM, PIL_TRANSFORM\n",
        "from classes.resnet_autoencoder import AE as DefaultResNetAutoencoder\n",
        "\n",
        "plt.style.use(\"../style/main.mpltstyle\")"
      ]
    },
    {
      "cell_type": "code",
      "execution_count": 29,
      "metadata": {},
      "outputs": [],
      "source": [
        "def collect_samples_by_label(data, n_samples, test_loader, class_to_index, index_to_class):\n",
        "    data = {k: [] for k in class_to_index.keys()}\n",
        "    all_labels_filled = False  \n",
        "\n",
        "    for batch in test_loader:\n",
        "        if all_labels_filled:\n",
        "            break  \n",
        "\n",
        "        for image, index, splat in batch:\n",
        "            label = index_to_class[index]\n",
        "            if len(data[label]) < n_samples:\n",
        "                data[label].append((image, splat))\n",
        "\n",
        "            all_labels_filled = all(len(v) >= n_samples for v in data.values())\n",
        "            if all_labels_filled:\n",
        "                break  \n",
        "            \n",
        "    return data\n",
        "\n",
        "\n",
        "def default_forward(model, image):\n",
        "    return PIL_TRANSFORM(model(TENSOR_TRANSFORM(image))[0])"
      ]
    },
    {
      "cell_type": "code",
      "execution_count": 30,
      "metadata": {},
      "outputs": [],
      "source": [
        "N_SAMPLES = 1\n",
        "CUSTOM_MODEL = None # TODO: ResNetAutoencoder()\n",
        "DEFAULT_MODEL = DefaultResNetAutoencoder(\"light\")\n",
        "DEFAULT_MODEL.load_state_dict(torch.load(\"../models/default_resnet_autoencoder.ckpt\")[\"model_state_dict\"])\n",
        "\n",
        "test_dataset = CIFAR10GaussianSplatsDataset(\n",
        "    root=\"../data/CIFAR10GS\",\n",
        "    test=True,\n",
        "    init_type=\"grid\",\n",
        ")\n",
        "test_loader = torch.utils.data.DataLoader(\n",
        "    test_dataset,\n",
        "    batch_size=1,\n",
        "    shuffle=False,\n",
        "    collate_fn=noop_collate,\n",
        ")\n",
        "\n",
        "CLASS_TO_INDEX = test_dataset.class_to_index\n",
        "INDEX_TO_CLASS = {v: k for k, v in CLASS_TO_INDEX.items()}\n",
        "DATA = collect_samples_by_label(test_dataset, N_SAMPLES, test_loader, CLASS_TO_INDEX, INDEX_TO_CLASS)\n",
        "CUSTOM_RESULTS = {k: [] for k in CLASS_TO_INDEX.keys()}\n",
        "DEFAULT_RESULTS = {k: [] for k in CLASS_TO_INDEX.keys()}"
      ]
    },
    {
      "cell_type": "code",
      "execution_count": 31,
      "metadata": {},
      "outputs": [],
      "source": [
        "for label, samples in DATA.items():\n",
        "    for image, splat in samples:\n",
        "        if CUSTOM_MODEL:\n",
        "            CUSTOM_RESULTS[label].append(CUSTOM_MODEL(image, splat)) # TODO: Implement\n",
        "        if DEFAULT_MODEL:\n",
        "            DEFAULT_RESULTS[label].append(default_forward(DEFAULT_MODEL, image))"
      ]
    },
    {
      "cell_type": "code",
      "execution_count": 34,
      "metadata": {},
      "outputs": [
        {
          "data": {
            "image/jpeg": "[encoded data removed]",
            "image/png": "[encoded data removed]",
            "text/plain": [
              "<PIL.Image.Image image mode=RGB size=32x32>"
            ]
          },
          "execution_count": 34,
          "metadata": {},
          "output_type": "execute_result"
        }
      ],
      "source": [
        "DEFAULT_RESULTS[\"airplane\"][0]"
      ]
    }
  ],
  "metadata": {
    "kernelspec": {
      "display_name": ".venv",
      "language": "python",
      "name": "python3"
    },
    "language_info": {
      "codemirror_mode": {
        "name": "ipython",
        "version": 3
      },
      "file_extension": ".py",
      "mimetype": "text/x-python",
      "name": "python",
      "nbconvert_exporter": "python",
      "pygments_lexer": "ipython3",
      "version": "3.11.10"
    }
  },
  "nbformat": 4,
  "nbformat_minor": 2
}
